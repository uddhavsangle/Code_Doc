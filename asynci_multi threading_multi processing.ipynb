{
 "cells": [
  {
   "cell_type": "code",
   "execution_count": 1,
   "id": "e4226882",
   "metadata": {},
   "outputs": [],
   "source": [
    "# # need to execute in py file\n",
    "\n",
    "# import time\n",
    "# import asyncio\n",
    "\n",
    "# async def fun1():\n",
    "#     await asyncio.sleep(5)\n",
    "#     print('from 1')\n",
    "    \n",
    "# async def fun2():\n",
    "#     await asyncio.sleep(4)\n",
    "#     print('from 2')\n",
    "    \n",
    "    \n",
    "# async def fun3():\n",
    "#     await asyncio.sleep(1)\n",
    "#     print('from 3')\n",
    "    \n",
    "# async def main():\n",
    "#     L= await asyncio.gather(\n",
    "#         fun1(),\n",
    "#         fun2(),\n",
    "#         fun3(),\n",
    "#     )\n",
    "#     print(L)\n",
    "    \n",
    "# asyncio.run(main())\n",
    "    \n",
    "\n",
    "    "
   ]
  },
  {
   "cell_type": "code",
   "execution_count": 9,
   "id": "cc0e8c72",
   "metadata": {},
   "outputs": [
    {
     "name": "stdout",
     "output_type": "stream",
     "text": [
      "from 3\n",
      "from 1from 2\n",
      "\n",
      "[3, 2, 1]\n"
     ]
    }
   ],
   "source": [
    "# multi Threading\n",
    "\n",
    "import threading\n",
    "import time\n",
    "L=[]\n",
    "def fun1():\n",
    "    time.sleep(5)\n",
    "    print('from 1')\n",
    "    L.append(1)\n",
    "    \n",
    "def fun2():\n",
    "    time.sleep(5)\n",
    "    print('from 2')\n",
    "    L.append(2)\n",
    "def fun3():\n",
    "    time.sleep(1)\n",
    "    print('from 3')\n",
    "    L.append(3)\n",
    "    \n",
    "t1=threading.Thread(target=fun1)\n",
    "t2=threading.Thread(target=fun2)\n",
    "t3=threading.Thread(target=fun3)\n",
    "t1.start()\n",
    "t2.start()\n",
    "t3.start()\n",
    "\n",
    "t1.join()\n",
    "t2.join()\n",
    "t3.join()\n",
    "print(L)"
   ]
  },
  {
   "cell_type": "code",
   "execution_count": 25,
   "id": "ab2c131e",
   "metadata": {},
   "outputs": [
    {
     "name": "stdout",
     "output_type": "stream",
     "text": [
      "from 1\n",
      "from 4\n",
      "from 5\n"
     ]
    }
   ],
   "source": [
    "# multi Threading\n",
    "\n",
    "import threading\n",
    "import time\n",
    "\n",
    "def fun1(second):\n",
    "    time.sleep(second)\n",
    "    print(f'from {second}')\n",
    "    \n",
    "t1=threading.Thread(target=fun1,args=[4])\n",
    "t2=threading.Thread(target=fun1,args=[5])\n",
    "t3=threading.Thread(target=fun1,args=[1])\n",
    "t1.start()\n",
    "t2.start()\n",
    "t3.start()    \n",
    "    "
   ]
  },
  {
   "cell_type": "code",
   "execution_count": 40,
   "id": "a59b1d9d",
   "metadata": {},
   "outputs": [
    {
     "name": "stdout",
     "output_type": "stream",
     "text": [
      "0.02099442481994629\n",
      "fetched from http://www.google.com\n",
      "fetched from http://www.microsoft.com\n",
      "fetched from http://www.apple.com\n",
      "fetched from http://www.facebook.com\n",
      "fetched from http://www.amazon.com\n"
     ]
    }
   ],
   "source": [
    "# multi Threading\n",
    "import requests\n",
    "import threading\n",
    "import time\n",
    "\n",
    "def fun1(url):\n",
    "    response=requests.get(url)\n",
    "    p=response.text\n",
    "    print(f'fetched from {url}')\n",
    "    \n",
    "a=[\"http://www.google.com\", \"http://www.apple.com\", \"http://www.microsoft.com\", \"http://www.amazon.com\", \"http://www.facebook.com\"]\n",
    "\n",
    "start=time.time()\n",
    "for i in a:\n",
    "    t1=threading.Thread(target=fun1,args=[i])\n",
    "    t1.start()\n",
    "  \n",
    "print(time.time()-start)    \n",
    "\n"
   ]
  },
  {
   "cell_type": "code",
   "execution_count": 52,
   "id": "30b178f5",
   "metadata": {},
   "outputs": [
    {
     "name": "stdout",
     "output_type": "stream",
     "text": [
      "fetched from http://www.microsoft.comfetched from http://www.google.com\n",
      "\n",
      "fetched from http://www.apple.com\n",
      "fetched from http://www.amazon.com\n",
      "fetched from http://www.facebook.com\n",
      "0.7770142555236816\n"
     ]
    }
   ],
   "source": [
    "# multi Threading\n",
    "import requests\n",
    "import threading\n",
    "import time\n",
    "from concurrent.futures import ThreadPoolExecutor\n",
    "def fun1(url):\n",
    "    response=requests.get(url)\n",
    "    p=response.text\n",
    "    print(f'fetched from {url}')\n",
    "    \n",
    "a=[\"http://www.google.com\", \"http://www.apple.com\", \"http://www.microsoft.com\", \"http://www.amazon.com\", \"http://www.facebook.com\"]\n",
    "\n",
    "start=time.time()\n",
    "def poolingDemo():\n",
    "    with ThreadPoolExecutor() as executor:\n",
    "        c=1\n",
    "        for i in a:\n",
    "            p=f\"future{c}\"\n",
    "            c+=1\n",
    "            p=executor.submit(fun1,i)\n",
    "poolingDemo()\n",
    "\n",
    "print(time.time()-start)"
   ]
  },
  {
   "cell_type": "code",
   "execution_count": null,
   "id": "21d1c59a",
   "metadata": {},
   "outputs": [],
   "source": []
  },
  {
   "cell_type": "code",
   "execution_count": null,
   "id": "b1a71b15",
   "metadata": {},
   "outputs": [],
   "source": []
  },
  {
   "cell_type": "code",
   "execution_count": null,
   "id": "40b5bdbd",
   "metadata": {},
   "outputs": [],
   "source": [
    "import concurrent.futures\n",
    "import requests\n",
    "\n",
    "def fetch_url(url):\n",
    "    try:\n",
    "        response = requests.get(url)\n",
    "        response.raise_for_status()  # Raise an exception for bad status codes\n",
    "        return url, response.text\n",
    "    except Exception as e:\n",
    "        return url, str(e)\n",
    "\n",
    "def main():\n",
    "    urls = [\"http://www.google.com\", \"http://www.apple.com\", \"http://www.microsoft.com\", \"http://www.amazon.com\", \"http://www.facebook.com\"]\n",
    "\n",
    "    with concurrent.futures.ThreadPoolExecutor() as executor:\n",
    " \n",
    "        futures = [executor.submit(fetch_url, url) for url in urls]\n",
    "\n",
    "        # Wait for all futures to complete\n",
    "        concurrent.futures.wait(futures)\n",
    "        for future in futures:\n",
    "            url, data = future.result()\n",
    "            filename = f\"{url.split('//')[1].replace('/', '_')}.txt\"\n",
    "            with open(filename, \"w\", encoding=\"utf-8\") as file:\n",
    "                file.write(f\"URL: {url}\\n\")\n",
    "                file.write(f\"Data: {data}\\n\\n\")\n",
    "\n",
    "if __name__ == \"__main__\":\n",
    "    main()\n"
   ]
  },
  {
   "cell_type": "code",
   "execution_count": null,
   "id": "32f05147",
   "metadata": {},
   "outputs": [],
   "source": [
    "import concurrent.futures\n",
    "import requests\n",
    "from urllib.parse import urlparse\n",
    "\n",
    "def fetch_and_save(url):\n",
    "    try:\n",
    "        response = requests.get(url)\n",
    "        response.raise_for_status()  \n",
    "        data = response.text\n",
    "        save_to_file(url, data)\n",
    "    except Exception as e:\n",
    "        print(f\"Error fetching {url}: {str(e)}\")\n",
    "\n",
    "def save_to_file(url, data):\n",
    "    filename = urlparse(url).netloc.replace('.', '_') + \".txt\"\n",
    "    with open(filename, \"w\", encoding=\"utf-8\") as file:\n",
    "        file.write(f\"Data: {data}\\n\\n\")\n",
    "    print(f\"Saved to {filename}\")\n",
    "\n",
    "def main():\n",
    "    urls = [\"http://www.google.com\", \"http://www.apple.com\", \"http://www.microsoft.com\", \"http://www.amazon.com\", \"http://www.facebook.com\"]\n",
    "\n",
    "    with concurrent.futures.ThreadPoolExecutor() as executor:\n",
    "        executor.map(fetch_and_save, urls)\n",
    "\n",
    "if __name__ == \"__main__\":\n",
    "    main()\n"
   ]
  },
  {
   "cell_type": "code",
   "execution_count": null,
   "id": "8cf24d8a",
   "metadata": {},
   "outputs": [],
   "source": []
  },
  {
   "cell_type": "code",
   "execution_count": null,
   "id": "887676f3",
   "metadata": {},
   "outputs": [],
   "source": [
    "# multi processing---> in which over task runs on multi processor and in multi threading runs on a single processor\n",
    "# multi processor you can use for heavy task"
   ]
  },
  {
   "cell_type": "code",
   "execution_count": 15,
   "id": "4ab1fe00",
   "metadata": {},
   "outputs": [],
   "source": [
    "# simple withount nothing\n",
    "\n",
    "# import requests\n",
    "\n",
    "# def downloadFile(url,name):\n",
    "#     response=requests.get(url)\n",
    "#     b=open(f\"files/file{name}.jpg\",\"wb\")\n",
    "#     b.write(response.content)\n",
    "    \n",
    "# url = \"https://picsum.photos/2000/3000\"    \n",
    "\n",
    "# for i in range(5):\n",
    "#     downloadFile(url,i)\n",
    "    \n",
    "    \n",
    "\n",
    "    \n",
    "# with multi processing\n",
    "import requests\n",
    "import multiprocessing\n",
    "pros=[]\n",
    "def downloadFile(url,name):\n",
    "    response=requests.get(url)\n",
    "    open(f\"files/file{name}.jpg\",\"wb\").write(response.content)\n",
    "    print('finished downloading')\n",
    "    \n",
    "url = \"https://picsum.photos/2000/3000\"    \n",
    "\n",
    "for i in range(5):\n",
    "    p=multiprocessing.Process(target=downloadFile,args=[url,i])\n",
    "    p.start()\n",
    "    pros.append(p)\n",
    "    \n",
    "for p in pros:\n",
    "    p.join()\n"
   ]
  },
  {
   "cell_type": "code",
   "execution_count": 4,
   "id": "d7612f71",
   "metadata": {},
   "outputs": [
    {
     "name": "stdout",
     "output_type": "stream",
     "text": [
      "hi\n"
     ]
    }
   ],
   "source": [
    "print('hi')"
   ]
  },
  {
   "cell_type": "code",
   "execution_count": null,
   "id": "72c6d408",
   "metadata": {},
   "outputs": [],
   "source": []
  },
  {
   "cell_type": "code",
   "execution_count": null,
   "id": "19e07277",
   "metadata": {},
   "outputs": [],
   "source": []
  },
  {
   "cell_type": "code",
   "execution_count": null,
   "id": "aced47c0",
   "metadata": {},
   "outputs": [],
   "source": []
  },
  {
   "cell_type": "code",
   "execution_count": null,
   "id": "a6efd625",
   "metadata": {},
   "outputs": [],
   "source": []
  }
 ],
 "metadata": {
  "kernelspec": {
   "display_name": "Python 3 (ipykernel)",
   "language": "python",
   "name": "python3"
  },
  "language_info": {
   "codemirror_mode": {
    "name": "ipython",
    "version": 3
   },
   "file_extension": ".py",
   "mimetype": "text/x-python",
   "name": "python",
   "nbconvert_exporter": "python",
   "pygments_lexer": "ipython3",
   "version": "3.9.12"
  }
 },
 "nbformat": 4,
 "nbformat_minor": 5
}
