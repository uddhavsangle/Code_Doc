{
 "cells": [
  {
   "cell_type": "code",
   "execution_count": null,
   "id": "ae13ba98",
   "metadata": {},
   "outputs": [],
   "source": [
    "EDA = it is a process of cleaning,analyzing dataset to make it ready for model building"
   ]
  },
  {
   "cell_type": "code",
   "execution_count": null,
   "id": "b465c843",
   "metadata": {},
   "outputs": [],
   "source": [
    "Tools::\n",
    "        pandas:: it is python lib used to data analysis\n",
    "        numpy :: it is a python library used to perform mathematical operations\n",
    "        matplotlib :: it is python library used as a data visualization tool\n",
    "        seaborn :: it is also data visualization tools uses pandas, numpy, matplotlib to perform operations\n",
    "                corr() = Heatmap, scatterplot\n",
    "                \n",
    "            univariable:: bar, histogram, pie-chart\n",
    "                    \n",
    "            bivariate :: scatter, line-graph \n",
    "                    \n",
    "            multivariate:: pairplot, heatmap"
   ]
  },
  {
   "cell_type": "code",
   "execution_count": null,
   "id": "fd0b45f0",
   "metadata": {},
   "outputs": [],
   "source": [
    "outliers:: these are data points which are far away from normal observations\n",
    "        \n",
    "        detect::\n",
    "                1. box plot, z-score\n",
    "                2. scatterplot\n",
    "        \n",
    "        to remove outliers we use::\n",
    "                1. z-score(x-mean/sd)\n",
    "                2. IQR(Inter quartile Range) IQR = q3-q1 min= q1-(1.5*IQR), max= q3+(1.5*IQR)\n",
    "                \n",
    "                "
   ]
  },
  {
   "cell_type": "code",
   "execution_count": null,
   "id": "1d948bfe",
   "metadata": {},
   "outputs": [],
   "source": [
    "Encoding:: process to convert catagorical data into numerical data\n",
    "        \n",
    "        1. Ordinal Encoder  \n",
    "        2. Label Encoder(target variable) \n",
    "        3. dummy encoder\n",
    "        4. One-hot encoder"
   ]
  },
  {
   "cell_type": "code",
   "execution_count": null,
   "id": "4b254ced",
   "metadata": {},
   "outputs": [],
   "source": [
    "sampling :: it is the process used to balance our dataset\n",
    "        \n",
    "        1. upsampling:: adding data  \n",
    "        \n",
    "        2. downsampling:: drop data      "
   ]
  },
  {
   "cell_type": "code",
   "execution_count": null,
   "id": "91a3868c",
   "metadata": {},
   "outputs": [],
   "source": [
    "Feature Selection:: process of selecting relavant feature\n",
    "        1. filter method:\n",
    "            1. chi-square\n",
    "            2. fishers-score\n",
    "            3. correlation\n",
    "            4. information _gain\n",
    "        \n",
    "        2.wrapper method\n",
    "            forword\n",
    "            backword\n",
    "            recursive\n",
    "        3.embedded:\n",
    "            regularization\n",
    "            random forest importance"
   ]
  },
  {
   "cell_type": "code",
   "execution_count": null,
   "id": "0e5f3f1e",
   "metadata": {},
   "outputs": [],
   "source": []
  },
  {
   "cell_type": "code",
   "execution_count": null,
   "id": "763cbf1a",
   "metadata": {},
   "outputs": [],
   "source": []
  },
  {
   "cell_type": "code",
   "execution_count": null,
   "id": "6cdb04b2",
   "metadata": {},
   "outputs": [],
   "source": [
    "Machine learning:: it is a subset of ai. we can train machine using historical data to perform operations on current data for prediction.\n",
    "        \n",
    "algorithm:: these are methods used to train machine\n",
    "        \n",
    "1.Linear-Regression\n",
    "2.Logistic_regression\n",
    "3.Dicision tree\n",
    "4.Random -forest\n",
    "5.K-means\n",
    "6.kNN\n",
    "7.xgbust\n",
    "8.pca\n",
    "\n"
   ]
  },
  {
   "cell_type": "code",
   "execution_count": null,
   "id": "c934a506",
   "metadata": {},
   "outputs": [],
   "source": []
  },
  {
   "cell_type": "code",
   "execution_count": null,
   "id": "239409d1",
   "metadata": {},
   "outputs": [],
   "source": []
  },
  {
   "cell_type": "code",
   "execution_count": null,
   "id": "69dff2e7",
   "metadata": {},
   "outputs": [],
   "source": []
  },
  {
   "cell_type": "code",
   "execution_count": null,
   "id": "1503619d",
   "metadata": {},
   "outputs": [],
   "source": [
    "statistics::\n",
    "        It is the branch of mathematics where we can collect, organize, analyze and visualize data\n",
    "        \n",
    "        \n",
    "        two branches::\n",
    "                1. discriptive\n",
    "                2 . inferential"
   ]
  },
  {
   "cell_type": "code",
   "execution_count": null,
   "id": "e9e0c850",
   "metadata": {},
   "outputs": [],
   "source": [
    "measure of central tendancy::\n",
    "        1. mean\n",
    "        2. median\n",
    "        3. mode\n",
    "measure of dispertion::\n",
    "        1. varience\n",
    "        2. standared deviation\n",
    "    \n",
    "    \n",
    "covarience :: it shows the relationship between two variables.\n",
    "        \n",
    "correlation:: it shows the strength of relationship. \n",
    "        \n",
    "regression:: we can calculate the dependant variable using independant variable\n",
    "        y = mx+c\n",
    "        m = slope\n",
    "        y = target variabe\n",
    "        x = independant\n",
    "        c = constant\n",
    "        \n",
    "gradient-discent::\n",
    "        it is method used to find the value of m at which error is minimum(global minima)\n",
    "        \n",
    "Learning rate::\n",
    "        in gradient discent we are taking small small steps to predict the value of m. the rate of steps known as Learning Rate\n",
    "        \n",
    "Errors::\n",
    "        SSE:: sum of squares of distance between actual and predicted values\n",
    "        MSE:: avg of  squares of distance between actual and predicted values\n",
    "        RMS:: root of MSE\n",
    "        R**2 :: it increases its value with the number of features\n",
    "        adj(R**2):: it decreases its value w.r.t addition of irrelevant, \n",
    "                and\n",
    "               increase its value w.r.t. addition of relavant feature"
   ]
  },
  {
   "cell_type": "code",
   "execution_count": null,
   "id": "825963dc",
   "metadata": {},
   "outputs": [],
   "source": []
  }
 ],
 "metadata": {
  "kernelspec": {
   "display_name": "Python 3 (ipykernel)",
   "language": "python",
   "name": "python3"
  },
  "language_info": {
   "codemirror_mode": {
    "name": "ipython",
    "version": 3
   },
   "file_extension": ".py",
   "mimetype": "text/x-python",
   "name": "python",
   "nbconvert_exporter": "python",
   "pygments_lexer": "ipython3",
   "version": "3.9.12"
  }
 },
 "nbformat": 4,
 "nbformat_minor": 5
}
