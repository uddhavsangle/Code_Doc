{
 "cells": [
  {
   "cell_type": "code",
   "execution_count": 1,
   "id": "97e5c884",
   "metadata": {},
   "outputs": [],
   "source": [
    "import numpy as np"
   ]
  },
  {
   "cell_type": "code",
   "execution_count": 4,
   "id": "fb059574",
   "metadata": {},
   "outputs": [
    {
     "name": "stdout",
     "output_type": "stream",
     "text": [
      "mean:  32.8\n",
      "median :  5.0\n",
      "std :  37.56274750334432\n"
     ]
    }
   ],
   "source": [
    "# find out tentral tendency\n",
    "a=np.array([2,4,5,58,95])\n",
    "print('mean: ',np.mean(a))\n",
    "print('median : ',np.median(a))\n",
    "print('std : ',np.std(a))\n"
   ]
  },
  {
   "cell_type": "code",
   "execution_count": 54,
   "id": "5744c545",
   "metadata": {},
   "outputs": [
    {
     "data": {
      "text/html": [
       "<div>\n",
       "<style scoped>\n",
       "    .dataframe tbody tr th:only-of-type {\n",
       "        vertical-align: middle;\n",
       "    }\n",
       "\n",
       "    .dataframe tbody tr th {\n",
       "        vertical-align: top;\n",
       "    }\n",
       "\n",
       "    .dataframe thead th {\n",
       "        text-align: right;\n",
       "    }\n",
       "</style>\n",
       "<table border=\"1\" class=\"dataframe\">\n",
       "  <thead>\n",
       "    <tr style=\"text-align: right;\">\n",
       "      <th></th>\n",
       "      <th>A</th>\n",
       "      <th>B</th>\n",
       "    </tr>\n",
       "  </thead>\n",
       "  <tbody>\n",
       "    <tr>\n",
       "      <th>0</th>\n",
       "      <td>ram</td>\n",
       "      <td>1</td>\n",
       "    </tr>\n",
       "    <tr>\n",
       "      <th>1</th>\n",
       "      <td>sham</td>\n",
       "      <td>2</td>\n",
       "    </tr>\n",
       "    <tr>\n",
       "      <th>2</th>\n",
       "      <td>tukaram</td>\n",
       "      <td>4</td>\n",
       "    </tr>\n",
       "    <tr>\n",
       "      <th>3</th>\n",
       "      <td>raj</td>\n",
       "      <td>5</td>\n",
       "    </tr>\n",
       "    <tr>\n",
       "      <th>4</th>\n",
       "      <td>baj</td>\n",
       "      <td>6</td>\n",
       "    </tr>\n",
       "    <tr>\n",
       "      <th>5</th>\n",
       "      <td>saj</td>\n",
       "      <td>7</td>\n",
       "    </tr>\n",
       "  </tbody>\n",
       "</table>\n",
       "</div>"
      ],
      "text/plain": [
       "         A  B\n",
       "0      ram  1\n",
       "1     sham  2\n",
       "2  tukaram  4\n",
       "3      raj  5\n",
       "4      baj  6\n",
       "5      saj  7"
      ]
     },
     "execution_count": 54,
     "metadata": {},
     "output_type": "execute_result"
    }
   ],
   "source": [
    "# make dataframe from two list?\n",
    "\n",
    "import pandas as pd\n",
    "\n",
    "a=['ram','sham','tukaram','raj','baj','saj']\n",
    "b=[1,2,4,5,6,7]\n",
    "\n",
    "\n",
    "c=pd.DataFrame({'A':a,'B':b})\n",
    "c"
   ]
  },
  {
   "cell_type": "code",
   "execution_count": 9,
   "id": "9510d4db",
   "metadata": {},
   "outputs": [
    {
     "data": {
      "text/plain": [
       "'jhgfbdjhg'"
      ]
     },
     "execution_count": 9,
     "metadata": {},
     "output_type": "execute_result"
    }
   ],
   "source": [
    "# string convert into lower case\n",
    "\n",
    "a='JHGFBDJHG'\n",
    "b=a.lower()\n",
    "b"
   ]
  },
  {
   "cell_type": "code",
   "execution_count": 12,
   "id": "4f7b6740",
   "metadata": {},
   "outputs": [
    {
     "data": {
      "text/plain": [
       "dict_keys(['a', 'B'])"
      ]
     },
     "execution_count": 12,
     "metadata": {},
     "output_type": "execute_result"
    }
   ],
   "source": [
    "# fetch keys from dict?\n",
    "\n",
    "a={'a':1,'B':2}\n",
    "b=a.keys()\n",
    "b"
   ]
  },
  {
   "cell_type": "code",
   "execution_count": 13,
   "id": "96776f13",
   "metadata": {},
   "outputs": [
    {
     "data": {
      "text/plain": [
       "'Jhgfh'"
      ]
     },
     "execution_count": 13,
     "metadata": {},
     "output_type": "execute_result"
    }
   ],
   "source": [
    "# capitalize first letter of string\n",
    "\n",
    "a='jhgfh'\n",
    "b=a.capitalize()\n",
    "b"
   ]
  },
  {
   "cell_type": "code",
   "execution_count": 10,
   "id": "2fe992b0",
   "metadata": {},
   "outputs": [
    {
     "data": {
      "text/plain": [
       "[1, 2, 4, 100, 5, 6, 7]"
      ]
     },
     "execution_count": 10,
     "metadata": {},
     "output_type": "execute_result"
    }
   ],
   "source": [
    "# how to insert element at any given element 3 element is 100\n",
    "\n",
    "a=[1,2,4,5,6,7]\n",
    "a.insert(3,100)\n",
    "a\n"
   ]
  },
  {
   "cell_type": "code",
   "execution_count": 17,
   "id": "b100e57e",
   "metadata": {},
   "outputs": [
    {
     "data": {
      "text/plain": [
       "[2, 4, 5, 6, 8, 9, 2222222]"
      ]
     },
     "execution_count": 17,
     "metadata": {},
     "output_type": "execute_result"
    }
   ],
   "source": [
    "# how to remove  duplicate value from list?\n",
    "\n",
    "a=[2,4,6,8,9,5,5,8,2,2,2,2222222]\n",
    "b=set(a)\n",
    "c=list(b)\n",
    "c\n",
    "\n",
    "\n",
    "\n",
    "\n",
    "\n"
   ]
  },
  {
   "cell_type": "code",
   "execution_count": null,
   "id": "0f21eda5",
   "metadata": {},
   "outputs": [],
   "source": []
  },
  {
   "cell_type": "markdown",
   "id": "2fb90bea",
   "metadata": {},
   "source": [
    "# what is recursion?\n",
    "\n",
    "## recursion  is a function calling itself one or more times in it body\n",
    "\n",
    "## One important thing to note is to terminate a recursion  statement.\n",
    "\n",
    "## there would be problem of an infinite lp if recursion is not terminated.\n",
    "\n"
   ]
  },
  {
   "cell_type": "code",
   "execution_count": 19,
   "id": "db7da669",
   "metadata": {},
   "outputs": [
    {
     "name": "stdout",
     "output_type": "stream",
     "text": [
      "[0, 1, 2, 3, 4, 5, 6, 7, 8, 9, 10, 11, 12, 13, 14, 15, 16, 17, 18, 19, 20, 21, 22, 23, 24, 25, 26, 27, 28, 29, 30, 31, 32, 33, 34, 35, 36, 37, 38, 39, 40, 41, 42, 43, 44, 45, 46, 47, 48, 49, 50, 51, 52, 53, 54, 55, 56, 57, 58, 59, 60, 61, 62, 63, 64, 65, 66, 67, 68, 69, 70, 71, 72, 73, 74, 75, 76, 77, 78, 79, 80, 81, 82, 83, 84, 85, 86, 87, 88, 89, 90, 91, 92, 93, 94, 95, 96, 97, 98, 99, 100, 101, 102, 103, 104, 105, 106, 107, 108, 109, 110, 111, 112, 113, 114, 115, 116, 117, 118, 119, 120, 121, 122, 123, 124, 125, 126, 127, 128, 129, 130, 131, 132, 133, 134, 135, 136, 137, 138, 139, 140, 141, 142, 143, 144, 145, 146, 147, 148, 149, 150, 151, 152, 153, 154, 155, 156, 157, 158, 159, 160, 161, 162, 163, 164, 165, 166, 167, 168, 169, 170, 171, 172, 173, 174, 175, 176, 177, 178, 179, 180, 181, 182, 183, 184, 185, 186, 187, 188, 189, 190, 191, 192, 193, 194, 195, 196, 197, 198, 199, 200, 201, 202, 203, 204, 205, 206, 207, 208, 209, 210, 211, 212, 213, 214, 215, 216, 217, 218, 219, 220, 221, 222, 223, 224, 225, 226, 227, 228, 229, 230, 231, 232, 233, 234, 235, 236, 237, 238, 239, 240, 241, 242, 243, 244, 245, 246, 247, 248, 249, 250, 251, 252, 253, 254, 255, 256, 257, 258, 259, 260, 261, 262, 263, 264, 265, 266, 267, 268, 269, 270, 271, 272, 273, 274, 275, 276, 277, 278, 279, 280, 281, 282, 283, 284, 285, 286, 287, 288, 289, 290, 291, 292, 293, 294, 295, 296, 297, 298, 299, 300, 301, 302, 303, 304, 305, 306, 307, 308, 309, 310, 311, 312, 313, 314, 315, 316, 317, 318, 319, 320, 321, 322, 323, 324, 325, 326, 327, 328, 329, 330, 331, 332, 333, 334, 335, 336, 337, 338, 339, 340, 341, 342, 343, 344, 345, 346, 347, 348, 349, 350, 351, 352, 353, 354, 355, 356, 357, 358, 359, 360, 361, 362, 363, 364, 365, 366, 367, 368, 369, 370, 371, 372, 373, 374, 375, 376, 377, 378, 379, 380, 381, 382, 383, 384, 385, 386, 387, 388, 389, 390, 391, 392, 393, 394, 395, 396, 397, 398, 399, 400, 401, 402, 403, 404, 405, 406, 407, 408, 409, 410, 411, 412, 413, 414, 415, 416, 417, 418, 419, 420, 421, 422, 423, 424, 425, 426, 427, 428, 429, 430, 431, 432, 433, 434, 435, 436, 437, 438, 439, 440, 441, 442, 443, 444, 445, 446, 447, 448, 449, 450, 451, 452, 453, 454, 455, 456, 457, 458, 459, 460, 461, 462, 463, 464, 465, 466, 467, 468, 469, 470, 471, 472, 473, 474, 475, 476, 477, 478, 479, 480, 481, 482, 483, 484, 485, 486, 487, 488, 489, 490, 491, 492, 493, 494, 495, 496, 497, 498, 499]\n"
     ]
    }
   ],
   "source": [
    "# Explain python List Comprehension\n",
    "\n",
    "a=[i for i in range(500)]\n",
    "print(a)"
   ]
  },
  {
   "cell_type": "markdown",
   "id": "8ea17cda",
   "metadata": {},
   "source": [
    "# what is bytes() function\n",
    " The  bytes() functionturns a simple bytes object.\n",
    "     it is used to convert  objects into bytes objects  or create empty bytes object of the  specifies size"
   ]
  },
  {
   "cell_type": "code",
   "execution_count": 45,
   "id": "a66f134d",
   "metadata": {},
   "outputs": [
    {
     "name": "stdout",
     "output_type": "stream",
     "text": [
      "[  1   2   4   8  16  32  64 128 256 512]\n",
      "0b1010\n",
      "2\n"
     ]
    }
   ],
   "source": [
    "# type of operators   --for fresher\n",
    "\n",
    "# @ Arithmatic   +,-,/,%\n",
    "# @ Relational  <,>,<=.>=,==,!=\n",
    "\n",
    "# @ assignment  =,+=,-=,/=,*=,%=\n",
    "# @ logical     and,  or,  not\n",
    "\n",
    "# @ membership in, not in \n",
    "# @ identity    is , is not\n",
    "# @ Bitwise     it is use to compare (binary) numbers\n",
    "#            AND(&)\n",
    "#            or(|)\n",
    "#            XOR(^)\n",
    "#             Left Shift(<<)\n",
    "#             Right shift(>>)\n",
    "\n",
    "\n",
    "\n",
    "\n",
    "  # Left Shift(<<)\n",
    "import numpy as np\n",
    "# a=np.array([0,1,2,3,4,5,6,7,8,9])\n",
    "# b=np.array([2])\n",
    "# c=b**a\n",
    "# print(c)\n",
    "# # Left Shift(<<)\n",
    "# print(bin(10))\n",
    "# print(10<<2)\n",
    "\n",
    "# # 101000    == 40\n",
    "\n",
    "\n",
    "a=np.array([0,1,2,3,4,5,6,7,8,9])\n",
    "b=np.array([2])\n",
    "c=b**a\n",
    "print(c)\n",
    "# Left Shift(<<)\n",
    "print(bin(10))\n",
    "print(10>>2)\n",
    "\n",
    "# 101000    == 40"
   ]
  },
  {
   "cell_type": "code",
   "execution_count": null,
   "id": "2f32119c",
   "metadata": {},
   "outputs": [],
   "source": [
    "# what is \" with statement\" used for in python \n",
    "\n",
    "#  the ' with' statement  in python  is used in exception  handling.\n",
    "    \n",
    "# A file can be   opened  and closed  while excuting a block of code, \n",
    "# containing the 'with' statement without  using the close() function"
   ]
  },
  {
   "cell_type": "code",
   "execution_count": 51,
   "id": "d116d41f",
   "metadata": {},
   "outputs": [
    {
     "data": {
      "text/plain": [
       "[3, 6, 9, 12, 15, 18]"
      ]
     },
     "execution_count": 51,
     "metadata": {},
     "output_type": "execute_result"
    }
   ],
   "source": [
    "# what is map() function python \n",
    "\n",
    "# The map function i python  is used for  applying a function on all elements of specific iterable\n",
    "\n",
    "\n",
    "# it consists of two parameters, function and ierable \n",
    "\n",
    "\n",
    "\n",
    "# For ex:\n",
    "\n",
    "def funa(n):\n",
    "    return n*3\n",
    "num=(1,2,3,4,5,6)\n",
    "result=list(map(funa,num))   # funa --function   and num -- iterable\n",
    "result   \n",
    "    "
   ]
  },
  {
   "cell_type": "code",
   "execution_count": null,
   "id": "afd62072",
   "metadata": {},
   "outputs": [],
   "source": []
  },
  {
   "cell_type": "code",
   "execution_count": null,
   "id": "b6369671",
   "metadata": {},
   "outputs": [],
   "source": [
    "# what is __init__ in python ?\n",
    "\n",
    "\n",
    "# The __init__ methodology is reversed method in python \n",
    "\n",
    "\n",
    "# it is also known as a constructor in the world of oop.\n",
    "\n",
    "\n",
    "# when an object is created from a class, the __init__ methodology is called to  access the class attributes."
   ]
  },
  {
   "cell_type": "code",
   "execution_count": null,
   "id": "1445effb",
   "metadata": {},
   "outputs": [],
   "source": [
    "# what are the tools present to  perfrm static analysis\n",
    "\n",
    "\n",
    "\n",
    "#the two static ananlysis tols used to find"
   ]
  },
  {
   "cell_type": "code",
   "execution_count": null,
   "id": "23a4c86e",
   "metadata": {},
   "outputs": [],
   "source": []
  },
  {
   "cell_type": "code",
   "execution_count": null,
   "id": "0632e437",
   "metadata": {},
   "outputs": [],
   "source": []
  },
  {
   "cell_type": "code",
   "execution_count": null,
   "id": "ace82aff",
   "metadata": {},
   "outputs": [],
   "source": []
  },
  {
   "cell_type": "code",
   "execution_count": null,
   "id": "aed3cb47",
   "metadata": {},
   "outputs": [],
   "source": []
  },
  {
   "cell_type": "code",
   "execution_count": null,
   "id": "9e588b23",
   "metadata": {},
   "outputs": [],
   "source": []
  },
  {
   "cell_type": "code",
   "execution_count": null,
   "id": "7483c312",
   "metadata": {},
   "outputs": [],
   "source": []
  },
  {
   "cell_type": "code",
   "execution_count": null,
   "id": "e1f7ee12",
   "metadata": {},
   "outputs": [],
   "source": []
  },
  {
   "cell_type": "code",
   "execution_count": null,
   "id": "9673ce2f",
   "metadata": {},
   "outputs": [],
   "source": []
  },
  {
   "cell_type": "code",
   "execution_count": null,
   "id": "0ab49981",
   "metadata": {},
   "outputs": [],
   "source": []
  },
  {
   "cell_type": "code",
   "execution_count": null,
   "id": "e4a43314",
   "metadata": {},
   "outputs": [],
   "source": []
  },
  {
   "cell_type": "code",
   "execution_count": null,
   "id": "af24f47c",
   "metadata": {},
   "outputs": [],
   "source": []
  },
  {
   "cell_type": "code",
   "execution_count": null,
   "id": "ed6af844",
   "metadata": {},
   "outputs": [],
   "source": []
  },
  {
   "cell_type": "code",
   "execution_count": null,
   "id": "a23f63aa",
   "metadata": {},
   "outputs": [],
   "source": []
  },
  {
   "cell_type": "code",
   "execution_count": null,
   "id": "7b36e59e",
   "metadata": {},
   "outputs": [],
   "source": []
  },
  {
   "cell_type": "code",
   "execution_count": null,
   "id": "8c6f55f4",
   "metadata": {},
   "outputs": [],
   "source": [
    "################################################################"
   ]
  },
  {
   "cell_type": "code",
   "execution_count": null,
   "id": "2acf34bf",
   "metadata": {},
   "outputs": [],
   "source": [
    "# convert all element into string"
   ]
  },
  {
   "cell_type": "code",
   "execution_count": 55,
   "id": "a1982fb8",
   "metadata": {},
   "outputs": [
    {
     "data": {
      "text/plain": [
       "['12', '15', 'abc', '156']"
      ]
     },
     "execution_count": 55,
     "metadata": {},
     "output_type": "execute_result"
    }
   ],
   "source": [
    "b=[]\n",
    "a=[12,15,'abc',156]\n",
    "for i in a:\n",
    "    b.append(str(i))\n",
    "b"
   ]
  },
  {
   "cell_type": "code",
   "execution_count": 57,
   "id": "c1ff10fc",
   "metadata": {},
   "outputs": [
    {
     "data": {
      "text/plain": [
       "['12', '15', 'abc', '156']"
      ]
     },
     "execution_count": 57,
     "metadata": {},
     "output_type": "execute_result"
    }
   ],
   "source": [
    "list(map(lambda x:str(x),a))"
   ]
  },
  {
   "cell_type": "code",
   "execution_count": 58,
   "id": "d49ea2bd",
   "metadata": {},
   "outputs": [
    {
     "data": {
      "text/plain": [
       "['12', '15', 'abc', '156']"
      ]
     },
     "execution_count": 58,
     "metadata": {},
     "output_type": "execute_result"
    }
   ],
   "source": [
    "[str(i) for i in a]"
   ]
  },
  {
   "cell_type": "code",
   "execution_count": null,
   "id": "8b2a397f",
   "metadata": {},
   "outputs": [],
   "source": [
    "########################################################################"
   ]
  },
  {
   "cell_type": "code",
   "execution_count": 67,
   "id": "510c3ea6",
   "metadata": {},
   "outputs": [],
   "source": [
    "a=[12,15,'abc','156',45]    # if numeric convert into integer and alpha then convert into string"
   ]
  },
  {
   "cell_type": "code",
   "execution_count": 86,
   "id": "698467fe",
   "metadata": {},
   "outputs": [
    {
     "name": "stdout",
     "output_type": "stream",
     "text": [
      "[12, 15, 'abc', 156, 45]\n"
     ]
    }
   ],
   "source": [
    "b=[]\n",
    "\n",
    "for i in a:\n",
    "    if type(i)==str and i.isnumeric():\n",
    "        b.append(int(i))\n",
    "    else:\n",
    "        b.append(i)\n",
    "        \n",
    " \n",
    "print(b)"
   ]
  },
  {
   "cell_type": "code",
   "execution_count": 99,
   "id": "2391cb47",
   "metadata": {},
   "outputs": [],
   "source": [
    "c=[]"
   ]
  },
  {
   "cell_type": "code",
   "execution_count": 104,
   "id": "08b91fed",
   "metadata": {},
   "outputs": [
    {
     "data": {
      "text/plain": [
       "[12, 15, 'abc', 156, 45]"
      ]
     },
     "execution_count": 104,
     "metadata": {},
     "output_type": "execute_result"
    }
   ],
   "source": [
    "list(map(lambda x:int(x) if type(x)==str and x.isnumeric() else x,a))"
   ]
  },
  {
   "cell_type": "code",
   "execution_count": null,
   "id": "aef42ef8",
   "metadata": {},
   "outputs": [],
   "source": [
    "########################################################################################"
   ]
  },
  {
   "cell_type": "code",
   "execution_count": 106,
   "id": "b79a2ad9",
   "metadata": {},
   "outputs": [
    {
     "name": "stdout",
     "output_type": "stream",
     "text": [
      "2\n",
      "4\n",
      "6\n",
      "8\n",
      "10\n",
      "12\n",
      "14\n",
      "16\n",
      "18\n",
      "20\n"
     ]
    }
   ],
   "source": [
    "for i in range(2,21,2):\n",
    "    print(i)"
   ]
  },
  {
   "cell_type": "code",
   "execution_count": 107,
   "id": "ce9f7ac0",
   "metadata": {},
   "outputs": [
    {
     "data": {
      "text/plain": [
       "[2, 4, 6, 8, 10, 12, 14, 16, 18, 20]"
      ]
     },
     "execution_count": 107,
     "metadata": {},
     "output_type": "execute_result"
    }
   ],
   "source": [
    "[i for i in range(2,21,2)]"
   ]
  },
  {
   "cell_type": "code",
   "execution_count": null,
   "id": "74611808",
   "metadata": {},
   "outputs": [],
   "source": [
    "##############################################################################################"
   ]
  },
  {
   "cell_type": "code",
   "execution_count": 109,
   "id": "8f2fb232",
   "metadata": {},
   "outputs": [
    {
     "name": "stdout",
     "output_type": "stream",
     "text": [
      "6\n",
      "12\n",
      "18\n",
      "24\n",
      "30\n"
     ]
    }
   ],
   "source": [
    "for i in range(1,31):\n",
    "    if i%2==0 and i%3==0:\n",
    "        print(i)"
   ]
  },
  {
   "cell_type": "code",
   "execution_count": 110,
   "id": "186180ad",
   "metadata": {},
   "outputs": [
    {
     "data": {
      "text/plain": [
       "[6, 12, 18, 24, 30]"
      ]
     },
     "execution_count": 110,
     "metadata": {},
     "output_type": "execute_result"
    }
   ],
   "source": [
    "[i for i in range(1,31) if i%2==0 and i%3==0]"
   ]
  },
  {
   "cell_type": "code",
   "execution_count": null,
   "id": "d2f7d6d2",
   "metadata": {},
   "outputs": [],
   "source": [
    "###############################################################################################"
   ]
  },
  {
   "cell_type": "code",
   "execution_count": 113,
   "id": "036337f2",
   "metadata": {},
   "outputs": [
    {
     "name": "stdout",
     "output_type": "stream",
     "text": [
      "*\n",
      "**\n",
      "***\n"
     ]
    }
   ],
   "source": [
    "for i in range(1,4):\n",
    "    print('*'*i)\n",
    "    \n"
   ]
  },
  {
   "cell_type": "code",
   "execution_count": 117,
   "id": "f19c6aeb",
   "metadata": {},
   "outputs": [],
   "source": [
    "a=('*'*i for i in range(1,4))\n"
   ]
  },
  {
   "cell_type": "code",
   "execution_count": 121,
   "id": "073404a1",
   "metadata": {},
   "outputs": [
    {
     "data": {
      "text/plain": [
       "'***'"
      ]
     },
     "execution_count": 121,
     "metadata": {},
     "output_type": "execute_result"
    }
   ],
   "source": [
    "next(a)"
   ]
  },
  {
   "cell_type": "code",
   "execution_count": 126,
   "id": "5546623b",
   "metadata": {},
   "outputs": [
    {
     "name": "stdout",
     "output_type": "stream",
     "text": [
      "* \n",
      "* * \n",
      "* * * \n"
     ]
    }
   ],
   "source": [
    "for i in range(3):\n",
    "    for j in range(i+1):\n",
    "        print('*',end=' ')\n",
    "    print()"
   ]
  },
  {
   "cell_type": "code",
   "execution_count": 127,
   "id": "52d2ca23",
   "metadata": {},
   "outputs": [
    {
     "name": "stdout",
     "output_type": "stream",
     "text": [
      "    \n",
      "    *\n",
      "    ***\n",
      "    *****\n",
      "    *******\n"
     ]
    }
   ],
   "source": [
    "for i in range(5):\n",
    "    print(' '*(5-1)+\"*\"*i+ '*'*(i-1))"
   ]
  },
  {
   "cell_type": "code",
   "execution_count": 130,
   "id": "291bcf0d",
   "metadata": {},
   "outputs": [
    {
     "name": "stdout",
     "output_type": "stream",
     "text": [
      "    *\n",
      "   **\n",
      "  ***\n"
     ]
    }
   ],
   "source": [
    "for i in range(1,4):\n",
    "    print(' '*(5-i)+'*'*i)"
   ]
  },
  {
   "cell_type": "code",
   "execution_count": 133,
   "id": "6eaab0b8",
   "metadata": {},
   "outputs": [
    {
     "name": "stdout",
     "output_type": "stream",
     "text": [
      "    *\n",
      "   ***\n",
      "  *****\n",
      " *******\n"
     ]
    }
   ],
   "source": [
    "for i in range(1,5):\n",
    "    print(' '*(5-i)+'*'*i +'*'*(i-1))"
   ]
  },
  {
   "cell_type": "code",
   "execution_count": 135,
   "id": "dda1b7df",
   "metadata": {},
   "outputs": [
    {
     "name": "stdout",
     "output_type": "stream",
     "text": [
      "* \n",
      "* * \n",
      "* * * \n"
     ]
    }
   ],
   "source": [
    "for i in range(3):\n",
    "    for j in range(i+1):\n",
    "        print('*',end=' ')\n",
    "    print()"
   ]
  },
  {
   "cell_type": "code",
   "execution_count": 136,
   "id": "2a391443",
   "metadata": {},
   "outputs": [],
   "source": [
    "#############################################"
   ]
  },
  {
   "cell_type": "code",
   "execution_count": 137,
   "id": "6b5f0932",
   "metadata": {},
   "outputs": [],
   "source": [
    "a=['shree','mohan','aliya','yash']"
   ]
  },
  {
   "cell_type": "code",
   "execution_count": 140,
   "id": "23542c55",
   "metadata": {},
   "outputs": [
    {
     "name": "stdout",
     "output_type": "stream",
     "text": [
      "s = 5\n",
      "m = 5\n",
      "a = 5\n",
      "y = 4\n"
     ]
    }
   ],
   "source": [
    "for i in a:\n",
    "    print(i[0],'=',len(i))"
   ]
  },
  {
   "cell_type": "code",
   "execution_count": null,
   "id": "a964c9fc",
   "metadata": {},
   "outputs": [],
   "source": [
    "#####################################################"
   ]
  },
  {
   "cell_type": "code",
   "execution_count": 141,
   "id": "24ca340f",
   "metadata": {},
   "outputs": [],
   "source": [
    "a='abcdefghijklmnop'"
   ]
  },
  {
   "cell_type": "code",
   "execution_count": 158,
   "id": "38e947eb",
   "metadata": {},
   "outputs": [
    {
     "data": {
      "text/plain": [
       "'abdfhjlnp'"
      ]
     },
     "execution_count": 158,
     "metadata": {},
     "output_type": "execute_result"
    }
   ],
   "source": [
    "c=''\n",
    "\n",
    "for i in a:\n",
    "    if (a.index(i))%2 !=0 or (a.index(i))==0  :\n",
    "        c+=i\n",
    "    \n",
    "c    "
   ]
  },
  {
   "cell_type": "code",
   "execution_count": 159,
   "id": "8cdda663",
   "metadata": {},
   "outputs": [],
   "source": [
    "##############################################"
   ]
  },
  {
   "cell_type": "code",
   "execution_count": 172,
   "id": "87ac9da1",
   "metadata": {},
   "outputs": [
    {
     "data": {
      "text/plain": [
       "[45, 6, 9, 12]"
      ]
     },
     "execution_count": 172,
     "metadata": {},
     "output_type": "execute_result"
    }
   ],
   "source": [
    "a=[15,2,3,4]\n",
    "b=[3,2,4,3]\n",
    "c=[]\n",
    "for i in a:\n",
    "    for j in b:\n",
    "        c.append(i*j)\n",
    "        break\n",
    "        \n",
    "        \n",
    "c    "
   ]
  },
  {
   "cell_type": "code",
   "execution_count": 173,
   "id": "46081fc1",
   "metadata": {},
   "outputs": [
    {
     "data": {
      "text/plain": [
       "[45, 4, 12, 12]"
      ]
     },
     "execution_count": 173,
     "metadata": {},
     "output_type": "execute_result"
    }
   ],
   "source": [
    "a=[15,2,3,4]\n",
    "b=[3,2,4,3]\n",
    "c=[]\n",
    "for i in range(len(a)):\n",
    "    c.append(a[i]*b[i])\n",
    "c"
   ]
  },
  {
   "cell_type": "code",
   "execution_count": null,
   "id": "b0aaed34",
   "metadata": {},
   "outputs": [],
   "source": []
  }
 ],
 "metadata": {
  "kernelspec": {
   "display_name": "Python 3 (ipykernel)",
   "language": "python",
   "name": "python3"
  },
  "language_info": {
   "codemirror_mode": {
    "name": "ipython",
    "version": 3
   },
   "file_extension": ".py",
   "mimetype": "text/x-python",
   "name": "python",
   "nbconvert_exporter": "python",
   "pygments_lexer": "ipython3",
   "version": "3.9.12"
  }
 },
 "nbformat": 4,
 "nbformat_minor": 5
}
