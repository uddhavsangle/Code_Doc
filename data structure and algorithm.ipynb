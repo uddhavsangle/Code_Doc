{
 "cells": [
  {
   "cell_type": "code",
   "execution_count": 1,
   "id": "6d614de9",
   "metadata": {},
   "outputs": [],
   "source": [
    "class Node:\n",
    "    def __init__(self,value):\n",
    "        self.data=value\n",
    "        self.next=None"
   ]
  },
  {
   "cell_type": "code",
   "execution_count": 73,
   "id": "27ffc2e1",
   "metadata": {},
   "outputs": [],
   "source": [
    "class Linkedlist:\n",
    "    def __init__(self):\n",
    "        # to create empty linkedlist\n",
    "        self.head=None\n",
    "        self.n=0\n",
    "        \n",
    "    def __len__(self):\n",
    "        return self.n\n",
    "    \n",
    "    def insert_head(self,value):\n",
    "        new_node=Node(value)\n",
    "        new_node.next=self.head\n",
    "        \n",
    "        # reassign\n",
    "        self.head=new_node\n",
    "        \n",
    "        # increment n\n",
    "        self.n+=1\n",
    "    def insert_after(self,sp_val,value):\n",
    "        new_node=Node(value)\n",
    "        \n",
    "        curr=self.head\n",
    "        while curr != None:\n",
    "            if curr.data==sp_val:\n",
    "                break\n",
    "            curr=curr.next\n",
    "        if curr !=None:\n",
    "            new_node.next=curr.next\n",
    "            curr.next=new_node\n",
    "            # increment n\n",
    "            self.n+=1\n",
    "        else:\n",
    "            return 'item not found'\n",
    "        \n",
    "        \n",
    "\n",
    "        \n",
    "        \n",
    "        \n",
    "    def __str__(self):\n",
    "        curr=self.head\n",
    "        result=''\n",
    "        while curr !=None:\n",
    "            \n",
    "            result+=str(curr.data)+'->'\n",
    "            curr=curr.next\n",
    "        return result[:-2]\n",
    "        \n",
    "    def append(self,value):\n",
    "        new_node=Node(value)\n",
    "        \n",
    "        if self.head==None:\n",
    "            self.head=new_node\n",
    "            self.n=self.n+1\n",
    "        \n",
    "            return\n",
    "      \n",
    "        \n",
    "        \n",
    "        curr=self.head\n",
    "\n",
    "        while curr.next !=None:\n",
    "            curr =curr.next\n",
    "        curr.next=new_node\n",
    "        self.n=self.n+1\n",
    "    def clear(self):\n",
    "        self.head=None\n",
    "        self.n=0\n",
    "    def delete_head(self):\n",
    "        if self.head==None:\n",
    "            return 'empty LL'\n",
    "        self.head=self.head.next\n",
    "        self.n=self.n-1\n",
    "    def pop(self):\n",
    "        if self.head==None:\n",
    "            return 'empty LL'\n",
    "        curr=self.head\n",
    "        \n",
    "        \n",
    "        # kya ll me 1 item hai\n",
    "        if curr.next==None:\n",
    "            return self.delete_head()\n",
    "            \n",
    "        \n",
    "        \n",
    "        while curr.next.next !=None:\n",
    "            curr=curr.next\n",
    "        \n",
    "        # curr 2nd last item\n",
    "        curr.next=None\n",
    "        self.n=self.n-1\n",
    "    def remove(self,value):\n",
    "        if self.head==None:\n",
    "            return 'empty LL'\n",
    "        \n",
    "        if self.head.data==value:\n",
    "            return self.delete_head()\n",
    "        \n",
    "        curr=self.head\n",
    "        \n",
    "        while curr.next !=None:\n",
    "            if curr.next.data==value:\n",
    "                break\n",
    "        # if item hai\n",
    "        if curr.next==None:\n",
    "            return 'not found'\n",
    "        else:\n",
    "            curr.next=curr.next.next\n",
    "        \n",
    "        \n",
    "    #  search index by val\n",
    "    def search_value(self,value):\n",
    "        curr=self.head\n",
    "        ind=0\n",
    "        while curr !=None:\n",
    "            if curr.data==value:\n",
    "                \n",
    "                break\n",
    "            curr=curr.next\n",
    "            ind+=1\n",
    "        return ind\n",
    "    # search value by index\n",
    "    def __getitem__(self,index):\n",
    "        curr=self.head\n",
    "        ind=0\n",
    "        while curr !=None :\n",
    "            if curr!=None and ind==index:\n",
    "                \n",
    "                return curr.data\n",
    "            curr=curr.next\n",
    "            ind+=1\n",
    "        return 'index not available'\n",
    "        \n",
    "        \n",
    "        \n",
    "        \n",
    "    "
   ]
  },
  {
   "cell_type": "code",
   "execution_count": 74,
   "id": "32cade35",
   "metadata": {},
   "outputs": [],
   "source": [
    "l=Linkedlist()"
   ]
  },
  {
   "cell_type": "code",
   "execution_count": 75,
   "id": "bd40cbe8",
   "metadata": {},
   "outputs": [
    {
     "data": {
      "text/plain": [
       "<__main__.Linkedlist at 0x1307f0c2af0>"
      ]
     },
     "execution_count": 75,
     "metadata": {},
     "output_type": "execute_result"
    }
   ],
   "source": [
    "l"
   ]
  },
  {
   "cell_type": "code",
   "execution_count": 76,
   "id": "e154a85f",
   "metadata": {},
   "outputs": [
    {
     "data": {
      "text/plain": [
       "2367180356336"
      ]
     },
     "execution_count": 76,
     "metadata": {},
     "output_type": "execute_result"
    }
   ],
   "source": [
    "int(0x22726f1baf0)"
   ]
  },
  {
   "cell_type": "code",
   "execution_count": 77,
   "id": "4b10ba00",
   "metadata": {},
   "outputs": [
    {
     "data": {
      "text/plain": [
       "0"
      ]
     },
     "execution_count": 77,
     "metadata": {},
     "output_type": "execute_result"
    }
   ],
   "source": [
    "len(l)"
   ]
  },
  {
   "cell_type": "code",
   "execution_count": 78,
   "id": "f5a9c662",
   "metadata": {},
   "outputs": [],
   "source": [
    "l.insert_head(1)\n",
    "l.insert_head(2)\n",
    "l.insert_head(3)\n",
    "l.insert_head(4)"
   ]
  },
  {
   "cell_type": "code",
   "execution_count": 60,
   "id": "db26a9f4",
   "metadata": {},
   "outputs": [
    {
     "data": {
      "text/plain": [
       "4"
      ]
     },
     "execution_count": 60,
     "metadata": {},
     "output_type": "execute_result"
    }
   ],
   "source": [
    "len(l)"
   ]
  },
  {
   "cell_type": "code",
   "execution_count": 21,
   "id": "9cfd41a0",
   "metadata": {},
   "outputs": [
    {
     "name": "stdout",
     "output_type": "stream",
     "text": [
      "4->3->2->1\n"
     ]
    }
   ],
   "source": [
    "# traverse\n",
    "print(l)\n"
   ]
  },
  {
   "cell_type": "code",
   "execution_count": 298,
   "id": "eb8a220f",
   "metadata": {},
   "outputs": [],
   "source": [
    "l.append(6)"
   ]
  },
  {
   "cell_type": "code",
   "execution_count": 299,
   "id": "a16bac1a",
   "metadata": {},
   "outputs": [
    {
     "data": {
      "text/plain": [
       "6"
      ]
     },
     "execution_count": 299,
     "metadata": {},
     "output_type": "execute_result"
    }
   ],
   "source": [
    "len(l)"
   ]
  },
  {
   "cell_type": "code",
   "execution_count": 300,
   "id": "fb9697cb",
   "metadata": {},
   "outputs": [
    {
     "name": "stdout",
     "output_type": "stream",
     "text": [
      "4->3->2->1->3->6\n"
     ]
    }
   ],
   "source": [
    "print(l)"
   ]
  },
  {
   "cell_type": "code",
   "execution_count": 301,
   "id": "d9559941",
   "metadata": {},
   "outputs": [],
   "source": [
    "l.insert_after(3,20)"
   ]
  },
  {
   "cell_type": "code",
   "execution_count": 23,
   "id": "6e04ee3e",
   "metadata": {},
   "outputs": [
    {
     "name": "stdout",
     "output_type": "stream",
     "text": [
      "4->3->2->1\n"
     ]
    }
   ],
   "source": [
    "print(l)"
   ]
  },
  {
   "cell_type": "code",
   "execution_count": 303,
   "id": "20a8c0df",
   "metadata": {},
   "outputs": [],
   "source": [
    "l.clear()"
   ]
  },
  {
   "cell_type": "code",
   "execution_count": 304,
   "id": "fc664f84",
   "metadata": {},
   "outputs": [
    {
     "name": "stdout",
     "output_type": "stream",
     "text": [
      "\n"
     ]
    }
   ],
   "source": [
    "print(l)"
   ]
  },
  {
   "cell_type": "code",
   "execution_count": 305,
   "id": "d224cf35",
   "metadata": {},
   "outputs": [
    {
     "data": {
      "text/plain": [
       "'empty LL'"
      ]
     },
     "execution_count": 305,
     "metadata": {},
     "output_type": "execute_result"
    }
   ],
   "source": [
    "l.delete_head()"
   ]
  },
  {
   "cell_type": "code",
   "execution_count": 306,
   "id": "fecc2ad2",
   "metadata": {},
   "outputs": [
    {
     "name": "stdout",
     "output_type": "stream",
     "text": [
      "0\n"
     ]
    }
   ],
   "source": [
    "print(len(l))"
   ]
  },
  {
   "cell_type": "code",
   "execution_count": 307,
   "id": "3844efdd",
   "metadata": {},
   "outputs": [
    {
     "data": {
      "text/plain": [
       "'empty LL'"
      ]
     },
     "execution_count": 307,
     "metadata": {},
     "output_type": "execute_result"
    }
   ],
   "source": [
    "l.pop()"
   ]
  },
  {
   "cell_type": "code",
   "execution_count": 317,
   "id": "1d396422",
   "metadata": {},
   "outputs": [
    {
     "name": "stdout",
     "output_type": "stream",
     "text": [
      "\n"
     ]
    }
   ],
   "source": [
    "print(l)"
   ]
  },
  {
   "cell_type": "code",
   "execution_count": 8,
   "id": "b8ab8885",
   "metadata": {},
   "outputs": [
    {
     "data": {
      "text/plain": [
       "'empty LL'"
      ]
     },
     "execution_count": 8,
     "metadata": {},
     "output_type": "execute_result"
    }
   ],
   "source": [
    "l.remove(1)"
   ]
  },
  {
   "cell_type": "code",
   "execution_count": null,
   "id": "7c033174",
   "metadata": {},
   "outputs": [],
   "source": [
    "print(l)"
   ]
  },
  {
   "cell_type": "code",
   "execution_count": 22,
   "id": "0223934c",
   "metadata": {},
   "outputs": [
    {
     "data": {
      "text/plain": [
       "1"
      ]
     },
     "execution_count": 22,
     "metadata": {},
     "output_type": "execute_result"
    }
   ],
   "source": [
    "l.search(3)"
   ]
  },
  {
   "cell_type": "code",
   "execution_count": 34,
   "id": "bb40a213",
   "metadata": {},
   "outputs": [
    {
     "data": {
      "text/plain": [
       "4"
      ]
     },
     "execution_count": 34,
     "metadata": {},
     "output_type": "execute_result"
    }
   ],
   "source": [
    "len(l)"
   ]
  },
  {
   "cell_type": "code",
   "execution_count": 65,
   "id": "8fc135a5",
   "metadata": {},
   "outputs": [
    {
     "data": {
      "text/plain": [
       "2"
      ]
     },
     "execution_count": 65,
     "metadata": {},
     "output_type": "execute_result"
    }
   ],
   "source": [
    "l.search_index(2)"
   ]
  },
  {
   "cell_type": "code",
   "execution_count": 79,
   "id": "4f288032",
   "metadata": {},
   "outputs": [
    {
     "data": {
      "text/plain": [
       "4"
      ]
     },
     "execution_count": 79,
     "metadata": {},
     "output_type": "execute_result"
    }
   ],
   "source": [
    "l[0]"
   ]
  },
  {
   "cell_type": "code",
   "execution_count": 80,
   "id": "29250a94",
   "metadata": {},
   "outputs": [
    {
     "data": {
      "text/plain": [
       "'index not available'"
      ]
     },
     "execution_count": 80,
     "metadata": {},
     "output_type": "execute_result"
    }
   ],
   "source": [
    "l[8]"
   ]
  },
  {
   "cell_type": "code",
   "execution_count": null,
   "id": "4488b6ba",
   "metadata": {},
   "outputs": [],
   "source": []
  },
  {
   "cell_type": "code",
   "execution_count": 96,
   "id": "fbb6e51e",
   "metadata": {},
   "outputs": [
    {
     "name": "stdout",
     "output_type": "stream",
     "text": [
      "7\n"
     ]
    }
   ],
   "source": [
    "class Solution:\n",
    "    def maxProfit(self, prices):\n",
    "        if not prices or len(prices) == 1:\n",
    "            return 0\n",
    "\n",
    "        profit = 0\n",
    "        for i in range(1, len(prices)):\n",
    "            if prices[i] > prices[i-1]:\n",
    "                profit += prices[i] - prices[i-1]\n",
    "\n",
    "        return profit\n",
    "\n",
    "prices = [7, 1, 5, 3, 6, 4]\n",
    "obj = Solution()\n",
    "result = obj.maxProfit(prices)\n",
    "print(result)\n"
   ]
  },
  {
   "cell_type": "code",
   "execution_count": 42,
   "id": "8b3e9aa3",
   "metadata": {},
   "outputs": [
    {
     "data": {
      "text/plain": [
       "[[1, 2, 3], [2, 1, 3], [3, 2, 1], [1, 3, 2]]"
      ]
     },
     "execution_count": 42,
     "metadata": {},
     "output_type": "execute_result"
    }
   ],
   "source": [
    "def myfun(l):\n",
    "    a=[]\n",
    "    for i in range(len(l)):\n",
    "        for j in range(len(l)):\n",
    "            b=l.copy()\n",
    "            b[i],b[j]=b[j],b[i]\n",
    "            if b not in a:\n",
    "                a.append(b)\n",
    "    return a\n",
    "l=[1,2,3]\n",
    "myfun(l)"
   ]
  },
  {
   "cell_type": "code",
   "execution_count": 35,
   "id": "277c4a44",
   "metadata": {},
   "outputs": [
    {
     "data": {
      "text/plain": [
       "16"
      ]
     },
     "execution_count": 35,
     "metadata": {},
     "output_type": "execute_result"
    }
   ],
   "source": []
  },
  {
   "cell_type": "code",
   "execution_count": null,
   "id": "eaca04d8",
   "metadata": {},
   "outputs": [],
   "source": []
  },
  {
   "cell_type": "code",
   "execution_count": null,
   "id": "887a4af7",
   "metadata": {},
   "outputs": [],
   "source": []
  },
  {
   "cell_type": "code",
   "execution_count": null,
   "id": "c835ef29",
   "metadata": {},
   "outputs": [],
   "source": []
  },
  {
   "cell_type": "code",
   "execution_count": null,
   "id": "7e0e91a6",
   "metadata": {},
   "outputs": [],
   "source": []
  },
  {
   "cell_type": "code",
   "execution_count": null,
   "id": "44beb2e4",
   "metadata": {},
   "outputs": [],
   "source": []
  },
  {
   "cell_type": "code",
   "execution_count": null,
   "id": "92fb5b4b",
   "metadata": {},
   "outputs": [],
   "source": [
    "###### time complexity "
   ]
  },
  {
   "cell_type": "code",
   "execution_count": 2,
   "id": "1a8e5a8d",
   "metadata": {},
   "outputs": [
    {
     "name": "stdout",
     "output_type": "stream",
     "text": [
      "5\n",
      "120\n"
     ]
    }
   ],
   "source": [
    "L=[1,2,3,4,5]\n",
    "sum=0\n",
    "for i in L:\n",
    "    sum=sum+1\n",
    "print(sum)\n",
    "\n",
    "product=1\n",
    "for i in L:\n",
    "    product=product*i\n",
    "print(product)\n",
    "\n",
    "\n",
    "\n",
    "#0(n)"
   ]
  },
  {
   "cell_type": "code",
   "execution_count": 6,
   "id": "b15b75a0",
   "metadata": {},
   "outputs": [
    {
     "name": "stdout",
     "output_type": "stream",
     "text": [
      "1 1\n",
      "1 2\n",
      "1 3\n",
      "1 4\n",
      "1 5\n",
      "2 1\n",
      "2 2\n",
      "2 3\n",
      "2 4\n",
      "2 5\n",
      "3 1\n",
      "3 2\n",
      "3 3\n",
      "3 4\n",
      "3 5\n",
      "4 1\n",
      "4 2\n",
      "4 3\n",
      "4 4\n",
      "4 5\n",
      "5 1\n",
      "5 2\n",
      "5 3\n",
      "5 4\n",
      "5 5\n"
     ]
    }
   ],
   "source": [
    "L=[1,2,3,4,5]\n",
    "for i in L:\n",
    "    for j in L:\n",
    "        print(i,j)\n",
    "        \n",
    "# o(n**2)"
   ]
  },
  {
   "cell_type": "code",
   "execution_count": 9,
   "id": "0f18e57d",
   "metadata": {},
   "outputs": [
    {
     "name": "stdout",
     "output_type": "stream",
     "text": [
      "123\n"
     ]
    }
   ],
   "source": [
    "def inttostr(i):\n",
    "    digit='0123456789'\n",
    "    if i==0:\n",
    "        return '0'\n",
    "    result=''\n",
    "    while i>0:\n",
    "        result = digit[i%10]+result\n",
    "        i=i//10\n",
    "    return result\n",
    "print(inttostr(123))\n",
    "\n",
    "# log(n)"
   ]
  },
  {
   "cell_type": "code",
   "execution_count": 10,
   "id": "dac6a860",
   "metadata": {},
   "outputs": [
    {
     "name": "stdout",
     "output_type": "stream",
     "text": [
      "[5, 4, 3, 2, 1]\n"
     ]
    }
   ],
   "source": [
    "L=[1,2,3,4,5]\n",
    "for i in range(0,len(L)//2):\n",
    "    other=len(L)-i-1\n",
    "    temp=L[i]\n",
    "    L[i]=L[other]\n",
    "    L[other]=temp\n",
    "print(L)"
   ]
  },
  {
   "cell_type": "code",
   "execution_count": 43,
   "id": "278887f8",
   "metadata": {},
   "outputs": [
    {
     "name": "stdout",
     "output_type": "stream",
     "text": [
      "[[1, 3, 2], [1, 2, 3], [2, 1, 3], [3, 2, 1], [3, 1, 2], [2, 3, 1]]\n"
     ]
    }
   ],
   "source": [
    "def permutations(s):\n",
    "    if len(s) == 1:\n",
    "        return [s]\n",
    "\n",
    "    all_permutations = set()\n",
    "    for i in range(len(s)):\n",
    "        current_element = s[i]\n",
    "        remaining_elements = s[:i] + s[i+1:]\n",
    "        permutations_of_remaining = generate_permutations(remaining_elements)\n",
    "\n",
    "        for p in permutations_of_remaining:\n",
    "            all_permutations.add(tuple([current_element] + list(p)))\n",
    "\n",
    "    return [list(p) for p in all_permutations]\n",
    "\n",
    "a = [1, 2, 3]\n",
    "all_permutations = generate_permutations(a)\n",
    "print(all_permutations)"
   ]
  },
  {
   "cell_type": "code",
   "execution_count": 45,
   "id": "ff043a70",
   "metadata": {},
   "outputs": [
    {
     "data": {
      "text/plain": [
       "[[1, 2, 3], [2, 1, 3], [3, 2, 1], [1, 3, 2]]"
      ]
     },
     "execution_count": 45,
     "metadata": {},
     "output_type": "execute_result"
    }
   ],
   "source": [
    "def myfun(l):\n",
    "    a=[]\n",
    "    for i in range(len(l)):\n",
    "        for j in range(len(l)):\n",
    "            b=l.copy()\n",
    "            b[i],b[j]=b[j],b[i]\n",
    "            if b not in a:\n",
    "                a.append(b)\n",
    "    return a\n",
    "l=[1,2,3]\n",
    "myfun(l)"
   ]
  },
  {
   "cell_type": "code",
   "execution_count": null,
   "id": "0c748f2a",
   "metadata": {},
   "outputs": [],
   "source": []
  },
  {
   "cell_type": "code",
   "execution_count": null,
   "id": "ec834554",
   "metadata": {},
   "outputs": [],
   "source": []
  },
  {
   "cell_type": "code",
   "execution_count": null,
   "id": "af04fe8a",
   "metadata": {},
   "outputs": [],
   "source": []
  },
  {
   "cell_type": "code",
   "execution_count": null,
   "id": "bf4da977",
   "metadata": {},
   "outputs": [],
   "source": []
  },
  {
   "cell_type": "markdown",
   "id": "90e68a98",
   "metadata": {},
   "source": [
    "# time  complexity technics\n",
    "1. measuring time\n",
    "2. counting operation\n",
    "3. ORDER OF growth "
   ]
  },
  {
   "cell_type": "code",
   "execution_count": 22,
   "id": "8b291cd4",
   "metadata": {},
   "outputs": [],
   "source": [
    "#1. measuring time"
   ]
  },
  {
   "cell_type": "code",
   "execution_count": 23,
   "id": "fdb2bb9f",
   "metadata": {},
   "outputs": [
    {
     "name": "stdout",
     "output_type": "stream",
     "text": [
      "0\n",
      "1\n",
      "2\n",
      "3\n",
      "4\n",
      "0.0010025501251220703\n"
     ]
    }
   ],
   "source": [
    "import time\n",
    "start=time.time()\n",
    "for i in range(5):\n",
    "    print(i)\n",
    "\n",
    "print(time.time()-start)"
   ]
  },
  {
   "cell_type": "code",
   "execution_count": 24,
   "id": "839d756d",
   "metadata": {},
   "outputs": [
    {
     "name": "stdout",
     "output_type": "stream",
     "text": [
      "5\n",
      "4\n",
      "3\n",
      "2\n",
      "1\n",
      "0\n",
      "0.0\n"
     ]
    }
   ],
   "source": [
    "import time\n",
    "start=time.time()\n",
    "n=5\n",
    "while n>=0:\n",
    "    print(n)\n",
    "    n-=1\n",
    "\n",
    "print(time.time()-start)"
   ]
  },
  {
   "cell_type": "code",
   "execution_count": 25,
   "id": "ef728b97",
   "metadata": {},
   "outputs": [],
   "source": [
    "# find relationship between time and input\n"
   ]
  },
  {
   "cell_type": "code",
   "execution_count": 27,
   "id": "daa18085",
   "metadata": {},
   "outputs": [],
   "source": [
    "# COUNTING OPERATIONS\n",
    "# ORDER OF GROWTH\n"
   ]
  },
  {
   "cell_type": "code",
   "execution_count": null,
   "id": "bc572dd3",
   "metadata": {},
   "outputs": [],
   "source": []
  },
  {
   "cell_type": "code",
   "execution_count": null,
   "id": "41391aba",
   "metadata": {},
   "outputs": [],
   "source": []
  },
  {
   "cell_type": "code",
   "execution_count": null,
   "id": "520bfdf2",
   "metadata": {},
   "outputs": [],
   "source": []
  },
  {
   "cell_type": "code",
   "execution_count": null,
   "id": "1b70609a",
   "metadata": {},
   "outputs": [],
   "source": []
  },
  {
   "cell_type": "code",
   "execution_count": null,
   "id": "26248baa",
   "metadata": {},
   "outputs": [],
   "source": []
  },
  {
   "cell_type": "code",
   "execution_count": null,
   "id": "caace08e",
   "metadata": {},
   "outputs": [],
   "source": []
  },
  {
   "cell_type": "code",
   "execution_count": 1,
   "id": "df845448",
   "metadata": {},
   "outputs": [],
   "source": [
    "###    arrray \n",
    "## static array\n",
    "## dynamic array   -   list also work internaly as dynamic array\n"
   ]
  },
  {
   "cell_type": "code",
   "execution_count": 2,
   "id": "6e017016",
   "metadata": {},
   "outputs": [],
   "source": [
    "import ctypes"
   ]
  },
  {
   "cell_type": "code",
   "execution_count": 294,
   "id": "bb2ae65a",
   "metadata": {},
   "outputs": [],
   "source": [
    "class Meralist:\n",
    "    def __init__(self):\n",
    "        self.size=1\n",
    "        self.n=0\n",
    "        # create a ctype array with size= self.zise\n",
    "        self.A=self.__make_array(self.size)\n",
    "    def __len__(self):\n",
    "        return self.n\n",
    "    def append(self,value):\n",
    "        if self.n == self.size:\n",
    "            # resize\n",
    "            self.__resize(self.size*2)\n",
    "        \n",
    "        self.A[self.n]=value\n",
    "        self.n+=1\n",
    "    \n",
    "    def __resize(self,new_capacity):\n",
    "        # create a nnew array with new capacity\n",
    "        B=self.__make_array(new_capacity)\n",
    "        self.size = new_capacity\n",
    "        \n",
    "        # copy the content of A to B\n",
    "        for i in range(self.n):\n",
    "            B[i]=self.A[i]\n",
    "        # reassign A\n",
    "        self.A=B\n",
    "    \n",
    "    def __str__(self):\n",
    "        # [1,2,3]\n",
    "        result=''\n",
    "        for i in range(self.n):\n",
    "            result+=str(self.A[i])+','\n",
    "         \n",
    "        return '['+result[:-1]+']'\n",
    "    \n",
    "    def insert(self,Index,Value):\n",
    "        if self.n == self.size:\n",
    "            # resize\n",
    "            self.__resize(self.size*2)\n",
    "        for i in range(self.n,Index,-1):\n",
    "            self.A[i]=self.A[i-1]\n",
    "        if Index> self.n:\n",
    "            Index=self.n\n",
    "        self.A[Index]=Value\n",
    "        self.n+=1\n",
    "        return self.A[:]\n",
    "    \n",
    "    def __delitem__(self,Index):\n",
    "        if  0<= Index < self.n:\n",
    "            for i in range(Index,self.n-1):\n",
    "                self.A[i]=self.A[i+1]\n",
    "\n",
    "            self.n-=1\n",
    "        \n",
    "    def remove(self,value):\n",
    "        Index=self.find(value)\n",
    "        if Index>=0:\n",
    "            self.__delitem__(Index)\n",
    "        else:\n",
    "            return Index\n",
    "            \n",
    "            \n",
    "            \n",
    "    \n",
    "    def __getitem__(self,index):\n",
    "        if 0<= index <self.n:\n",
    "            return self.A[index]\n",
    "        else:\n",
    "            return \"IndexError - Index Out Of Bound\"\n",
    "    \n",
    "    def find(self,value):\n",
    "        for i in range(self.n):\n",
    "            if self.A[i]==value:\n",
    "                return i\n",
    "        return -1\n",
    "    def index(self,value):\n",
    "        for i in range(self.n):\n",
    "            if self.A[i]==value:\n",
    "                return i\n",
    "        return 'IndexError - value Not found'\n",
    "    def pop(self):\n",
    "        if self.n==0:\n",
    "            return 'empty list'\n",
    "    \n",
    "        \n",
    "        print(self.A[self.n-1])\n",
    "        self.n=self.n-1\n",
    "    def clear(self):\n",
    "        self.n=0\n",
    "        self.size=1\n",
    "    def __make_array(self,capacity):\n",
    "        # create a c type array (static, referential) with size capaciy\n",
    "        return (capacity*ctypes.py_object)()\n",
    "L=Meralist()"
   ]
  },
  {
   "cell_type": "code",
   "execution_count": 295,
   "id": "fd9bdab2",
   "metadata": {},
   "outputs": [
    {
     "data": {
      "text/plain": [
       "0"
      ]
     },
     "execution_count": 295,
     "metadata": {},
     "output_type": "execute_result"
    }
   ],
   "source": [
    "len(L)"
   ]
  },
  {
   "cell_type": "code",
   "execution_count": 296,
   "id": "60bd500b",
   "metadata": {},
   "outputs": [
    {
     "name": "stdout",
     "output_type": "stream",
     "text": [
      "[5]\n"
     ]
    }
   ],
   "source": [
    "print(L.insert(4,5))"
   ]
  },
  {
   "cell_type": "code",
   "execution_count": 297,
   "id": "f2983afa",
   "metadata": {},
   "outputs": [],
   "source": [
    "L.append('hellow')\n",
    "L.append('hell')\n",
    "L.append('llow')"
   ]
  },
  {
   "cell_type": "code",
   "execution_count": 298,
   "id": "98c524d3",
   "metadata": {},
   "outputs": [
    {
     "name": "stdout",
     "output_type": "stream",
     "text": [
      "[5,hellow,hell,llow]\n"
     ]
    }
   ],
   "source": [
    "print(L)     #[5,hellow,hell,llow]"
   ]
  },
  {
   "cell_type": "code",
   "execution_count": 299,
   "id": "bd305c6d",
   "metadata": {},
   "outputs": [],
   "source": [
    "L.remove('llow')"
   ]
  },
  {
   "cell_type": "code",
   "execution_count": 300,
   "id": "9bcd99d4",
   "metadata": {},
   "outputs": [],
   "source": [
    "del L[100]"
   ]
  },
  {
   "cell_type": "code",
   "execution_count": 301,
   "id": "42b7b385",
   "metadata": {},
   "outputs": [
    {
     "name": "stdout",
     "output_type": "stream",
     "text": [
      "hell\n"
     ]
    }
   ],
   "source": [
    "L.pop()"
   ]
  },
  {
   "cell_type": "code",
   "execution_count": 302,
   "id": "ee7d65f2",
   "metadata": {},
   "outputs": [
    {
     "name": "stdout",
     "output_type": "stream",
     "text": [
      "[5,hellow]\n"
     ]
    }
   ],
   "source": [
    "print(L)"
   ]
  },
  {
   "cell_type": "code",
   "execution_count": 303,
   "id": "f89e5805",
   "metadata": {},
   "outputs": [
    {
     "data": {
      "text/plain": [
       "2"
      ]
     },
     "execution_count": 303,
     "metadata": {},
     "output_type": "execute_result"
    }
   ],
   "source": [
    "len(L)"
   ]
  },
  {
   "cell_type": "code",
   "execution_count": 304,
   "id": "d426beb6",
   "metadata": {},
   "outputs": [],
   "source": [
    "L.clear()"
   ]
  },
  {
   "cell_type": "code",
   "execution_count": 305,
   "id": "d1ef8ed9",
   "metadata": {},
   "outputs": [
    {
     "name": "stdout",
     "output_type": "stream",
     "text": [
      "[]\n"
     ]
    }
   ],
   "source": [
    "print(L)"
   ]
  },
  {
   "cell_type": "code",
   "execution_count": 306,
   "id": "8613c7e8",
   "metadata": {},
   "outputs": [
    {
     "data": {
      "text/plain": [
       "'IndexError - Index Out Of Bound'"
      ]
     },
     "execution_count": 306,
     "metadata": {},
     "output_type": "execute_result"
    }
   ],
   "source": [
    "L[0]"
   ]
  },
  {
   "cell_type": "code",
   "execution_count": 307,
   "id": "9dc083c7",
   "metadata": {},
   "outputs": [
    {
     "data": {
      "text/plain": [
       "-1"
      ]
     },
     "execution_count": 307,
     "metadata": {},
     "output_type": "execute_result"
    }
   ],
   "source": [
    "L.find('hell')"
   ]
  },
  {
   "cell_type": "code",
   "execution_count": 308,
   "id": "476e665d",
   "metadata": {},
   "outputs": [],
   "source": [
    "p=[4,6,8,9]\n",
    "p.insert(9,'hellow')"
   ]
  },
  {
   "cell_type": "code",
   "execution_count": 309,
   "id": "556f51d2",
   "metadata": {},
   "outputs": [
    {
     "data": {
      "text/plain": [
       "[4, 6, 8, 9, 'hellow']"
      ]
     },
     "execution_count": 309,
     "metadata": {},
     "output_type": "execute_result"
    }
   ],
   "source": [
    "p"
   ]
  },
  {
   "cell_type": "code",
   "execution_count": 310,
   "id": "15ef2c6e",
   "metadata": {},
   "outputs": [],
   "source": [
    "p.remove(9)"
   ]
  },
  {
   "cell_type": "code",
   "execution_count": null,
   "id": "5e4cffbc",
   "metadata": {},
   "outputs": [],
   "source": []
  }
 ],
 "metadata": {
  "kernelspec": {
   "display_name": "Python 3 (ipykernel)",
   "language": "python",
   "name": "python3"
  },
  "language_info": {
   "codemirror_mode": {
    "name": "ipython",
    "version": 3
   },
   "file_extension": ".py",
   "mimetype": "text/x-python",
   "name": "python",
   "nbconvert_exporter": "python",
   "pygments_lexer": "ipython3",
   "version": "3.9.12"
  }
 },
 "nbformat": 4,
 "nbformat_minor": 5
}
