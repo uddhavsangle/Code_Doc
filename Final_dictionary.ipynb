{
 "cells": [
  {
   "cell_type": "markdown",
   "id": "b4466e08",
   "metadata": {},
   "source": [
    "# Dictionary"
   ]
  },
  {
   "cell_type": "markdown",
   "id": "5036741e",
   "metadata": {},
   "source": [
    "## it is a collection which is ordered,changeable  and no duplicate keys"
   ]
  },
  {
   "cell_type": "markdown",
   "id": "640cba00",
   "metadata": {},
   "source": [
    "-->Collection of Key_value pair called as item.\n",
    "\n",
    "-->Key should be immutable, value can be mutable  or immmutable\n",
    "\n",
    "-> we can create dist by using list\n",
    "\n",
    "imp--> List,set, and Dict are mutable thats why we cant assign as akey.\n",
    "\n",
    "-->with the help of list we can add key and values i.e item in dictionary\n",
    "\n",
    "\n",
    "--> dict is mutable\n",
    "\n",
    "--> we can  assign string, number, tuple as key in dict\n",
    "\n",
    "\n",
    "--> as of python version 3.7, dict are ordered. in python 3.6 and earlier, dictionries are unordered.\n",
    "\n",
    "\n",
    "--> key not duplicate in dict\n",
    "\n",
    "c={'name':'hghk','name':'ggjhk'} \n",
    "-->{'name': 'ggjhk'}\n",
    "\n"
   ]
  },
  {
   "cell_type": "code",
   "execution_count": 28,
   "id": "46187703",
   "metadata": {},
   "outputs": [],
   "source": [
    "a={'name':'devde','sal':70000,'age':28}"
   ]
  },
  {
   "cell_type": "code",
   "execution_count": 2,
   "id": "542dee6d",
   "metadata": {},
   "outputs": [
    {
     "data": {
      "text/plain": [
       "dict"
      ]
     },
     "execution_count": 2,
     "metadata": {},
     "output_type": "execute_result"
    }
   ],
   "source": [
    "type(a)"
   ]
  },
  {
   "cell_type": "code",
   "execution_count": 3,
   "id": "d72701de",
   "metadata": {},
   "outputs": [
    {
     "data": {
      "text/plain": [
       "dict_keys(['name', 'sal', 'age'])"
      ]
     },
     "execution_count": 3,
     "metadata": {},
     "output_type": "execute_result"
    }
   ],
   "source": [
    "a.keys()"
   ]
  },
  {
   "cell_type": "code",
   "execution_count": 4,
   "id": "5ff8cdfe",
   "metadata": {},
   "outputs": [
    {
     "data": {
      "text/plain": [
       "dict_values(['devde', 70000, 28])"
      ]
     },
     "execution_count": 4,
     "metadata": {},
     "output_type": "execute_result"
    }
   ],
   "source": [
    "a.values()"
   ]
  },
  {
   "cell_type": "code",
   "execution_count": 5,
   "id": "b6e6a4b8",
   "metadata": {},
   "outputs": [
    {
     "data": {
      "text/plain": [
       "dict_items([('name', 'devde'), ('sal', 70000), ('age', 28)])"
      ]
     },
     "execution_count": 5,
     "metadata": {},
     "output_type": "execute_result"
    }
   ],
   "source": [
    "a.items()"
   ]
  },
  {
   "cell_type": "markdown",
   "id": "d2f59685",
   "metadata": {},
   "source": [
    "# add single item"
   ]
  },
  {
   "cell_type": "code",
   "execution_count": 6,
   "id": "35de8ba8",
   "metadata": {},
   "outputs": [],
   "source": [
    "a['location']='Nanded'"
   ]
  },
  {
   "cell_type": "code",
   "execution_count": 7,
   "id": "a37cfd45",
   "metadata": {},
   "outputs": [
    {
     "data": {
      "text/plain": [
       "{'name': 'devde', 'sal': 70000, 'age': 28, 'location': 'Nanded'}"
      ]
     },
     "execution_count": 7,
     "metadata": {},
     "output_type": "execute_result"
    }
   ],
   "source": [
    "a"
   ]
  },
  {
   "cell_type": "markdown",
   "id": "7cbc7764",
   "metadata": {},
   "source": [
    "# Access perticular value by using its key"
   ]
  },
  {
   "cell_type": "code",
   "execution_count": 14,
   "id": "bc6d5de8",
   "metadata": {},
   "outputs": [
    {
     "data": {
      "text/plain": [
       "{'name': 'devde', 'sal': 70000, 'age': 28, 'location': 'Nanded'}"
      ]
     },
     "execution_count": 14,
     "metadata": {},
     "output_type": "execute_result"
    }
   ],
   "source": [
    "a"
   ]
  },
  {
   "cell_type": "code",
   "execution_count": 13,
   "id": "e667984e",
   "metadata": {},
   "outputs": [
    {
     "data": {
      "text/plain": [
       "70000"
      ]
     },
     "execution_count": 13,
     "metadata": {},
     "output_type": "execute_result"
    }
   ],
   "source": [
    "a['sal']"
   ]
  },
  {
   "cell_type": "code",
   "execution_count": 9,
   "id": "2bd4948a",
   "metadata": {},
   "outputs": [
    {
     "ename": "KeyError",
     "evalue": "'bbbb'",
     "output_type": "error",
     "traceback": [
      "\u001b[1;31m---------------------------------------------------------------------------\u001b[0m",
      "\u001b[1;31mKeyError\u001b[0m                                  Traceback (most recent call last)",
      "Cell \u001b[1;32mIn [9], line 1\u001b[0m\n\u001b[1;32m----> 1\u001b[0m \u001b[43ma\u001b[49m\u001b[43m[\u001b[49m\u001b[38;5;124;43m'\u001b[39;49m\u001b[38;5;124;43mbbbb\u001b[39;49m\u001b[38;5;124;43m'\u001b[39;49m\u001b[43m]\u001b[49m\n",
      "\u001b[1;31mKeyError\u001b[0m: 'bbbb'"
     ]
    }
   ],
   "source": [
    "a['bbbb'] # if key not pressent in that dict then return error"
   ]
  },
  {
   "cell_type": "code",
   "execution_count": 11,
   "id": "598732a3",
   "metadata": {},
   "outputs": [],
   "source": [
    "a.get('bbbb')    ## if key not pressent in that dict then will not return error"
   ]
  },
  {
   "cell_type": "code",
   "execution_count": 18,
   "id": "4200b132",
   "metadata": {},
   "outputs": [],
   "source": [
    "b={'name':['adi','mohan','Raj','krish'],'sal':[70000,80000,900000,600000]}"
   ]
  },
  {
   "cell_type": "code",
   "execution_count": 19,
   "id": "52a18841",
   "metadata": {},
   "outputs": [
    {
     "data": {
      "text/plain": [
       "{'name': ['adi', 'mohan', 'Raj', 'krish'],\n",
       " 'sal': [70000, 80000, 900000, 600000]}"
      ]
     },
     "execution_count": 19,
     "metadata": {},
     "output_type": "execute_result"
    }
   ],
   "source": [
    "b"
   ]
  },
  {
   "cell_type": "code",
   "execution_count": 21,
   "id": "e88b8236",
   "metadata": {},
   "outputs": [
    {
     "data": {
      "text/plain": [
       "'mohan'"
      ]
     },
     "execution_count": 21,
     "metadata": {},
     "output_type": "execute_result"
    }
   ],
   "source": [
    "b['name'][1]     # from list"
   ]
  },
  {
   "cell_type": "code",
   "execution_count": 45,
   "id": "2848b4a8",
   "metadata": {},
   "outputs": [],
   "source": [
    "d={'name':'mohan','age':98,'dict':{'red':3,'yellow':6}}"
   ]
  },
  {
   "cell_type": "code",
   "execution_count": 46,
   "id": "668292fa",
   "metadata": {},
   "outputs": [
    {
     "data": {
      "text/plain": [
       "{'name': 'mohan', 'age': 98, 'dict': {'red': 3, 'yellow': 6}}"
      ]
     },
     "execution_count": 46,
     "metadata": {},
     "output_type": "execute_result"
    }
   ],
   "source": [
    "d"
   ]
  },
  {
   "cell_type": "code",
   "execution_count": 48,
   "id": "1b446949",
   "metadata": {},
   "outputs": [
    {
     "data": {
      "text/plain": [
       "6"
      ]
     },
     "execution_count": 48,
     "metadata": {},
     "output_type": "execute_result"
    }
   ],
   "source": [
    "d['dict']['yellow']     # from dict"
   ]
  },
  {
   "cell_type": "markdown",
   "id": "ab8fd046",
   "metadata": {},
   "source": [
    "# Methods"
   ]
  },
  {
   "cell_type": "markdown",
   "id": "6bfa97d9",
   "metadata": {},
   "source": [
    "##           copy()    "
   ]
  },
  {
   "cell_type": "markdown",
   "id": "eed35fd0",
   "metadata": {},
   "source": [
    "return a  copy of the dict"
   ]
  },
  {
   "cell_type": "code",
   "execution_count": null,
   "id": "053e2380",
   "metadata": {},
   "outputs": [],
   "source": []
  },
  {
   "cell_type": "markdown",
   "id": "29e92f45",
   "metadata": {},
   "source": [
    "##          pop()     --removes the item by using its key"
   ]
  },
  {
   "cell_type": "code",
   "execution_count": 29,
   "id": "cbceab17",
   "metadata": {},
   "outputs": [
    {
     "data": {
      "text/plain": [
       "{'name': 'devde', 'sal': 70000, 'age': 28}"
      ]
     },
     "execution_count": 29,
     "metadata": {},
     "output_type": "execute_result"
    }
   ],
   "source": [
    "a"
   ]
  },
  {
   "cell_type": "code",
   "execution_count": 30,
   "id": "d1da9e1a",
   "metadata": {},
   "outputs": [
    {
     "data": {
      "text/plain": [
       "28"
      ]
     },
     "execution_count": 30,
     "metadata": {},
     "output_type": "execute_result"
    }
   ],
   "source": [
    "a.pop('age')"
   ]
  },
  {
   "cell_type": "code",
   "execution_count": 32,
   "id": "f03eb74d",
   "metadata": {},
   "outputs": [
    {
     "data": {
      "text/plain": [
       "{'name': ['adi', 'mohan', 'Raj', 'krish'],\n",
       " 'sal': [70000, 80000, 900000, 600000]}"
      ]
     },
     "execution_count": 32,
     "metadata": {},
     "output_type": "execute_result"
    }
   ],
   "source": [
    "b"
   ]
  },
  {
   "cell_type": "code",
   "execution_count": 37,
   "id": "3b994578",
   "metadata": {},
   "outputs": [],
   "source": [
    "b['name'].remove('mohan')       # if list of values in dict then we can use remove to delete of value from that list"
   ]
  },
  {
   "cell_type": "code",
   "execution_count": 38,
   "id": "1b9edf0b",
   "metadata": {},
   "outputs": [
    {
     "data": {
      "text/plain": [
       "{'name': ['adi', 'Raj', 'krish'], 'sal': [70000, 80000, 900000, 600000]}"
      ]
     },
     "execution_count": 38,
     "metadata": {},
     "output_type": "execute_result"
    }
   ],
   "source": [
    "b"
   ]
  },
  {
   "cell_type": "code",
   "execution_count": null,
   "id": "9b6d8c74",
   "metadata": {},
   "outputs": [],
   "source": []
  },
  {
   "cell_type": "markdown",
   "id": "f346d3e6",
   "metadata": {},
   "source": [
    "##          popitem()     --Remove the last key-value pair"
   ]
  },
  {
   "cell_type": "code",
   "execution_count": 40,
   "id": "2640dfab",
   "metadata": {},
   "outputs": [
    {
     "data": {
      "text/plain": [
       "{'name': ['adi', 'Raj', 'krish'], 'sal': [70000, 80000, 900000, 600000]}"
      ]
     },
     "execution_count": 40,
     "metadata": {},
     "output_type": "execute_result"
    }
   ],
   "source": [
    "b"
   ]
  },
  {
   "cell_type": "code",
   "execution_count": 41,
   "id": "81bc22be",
   "metadata": {},
   "outputs": [
    {
     "data": {
      "text/plain": [
       "('sal', [70000, 80000, 900000, 600000])"
      ]
     },
     "execution_count": 41,
     "metadata": {},
     "output_type": "execute_result"
    }
   ],
   "source": [
    "b.popitem()"
   ]
  },
  {
   "cell_type": "code",
   "execution_count": 42,
   "id": "057d4a39",
   "metadata": {},
   "outputs": [
    {
     "data": {
      "text/plain": [
       "{'name': ['adi', 'Raj', 'krish']}"
      ]
     },
     "execution_count": 42,
     "metadata": {},
     "output_type": "execute_result"
    }
   ],
   "source": [
    "b"
   ]
  },
  {
   "cell_type": "code",
   "execution_count": null,
   "id": "28e68832",
   "metadata": {},
   "outputs": [],
   "source": []
  },
  {
   "cell_type": "markdown",
   "id": "87ef81c6",
   "metadata": {},
   "source": [
    "# Update()   <--updates the dictionary with the specified key-value pairs"
   ]
  },
  {
   "cell_type": "code",
   "execution_count": 6,
   "id": "79f97ab7",
   "metadata": {},
   "outputs": [],
   "source": [
    "a={'name':'devde','sal':70000,'age':28}"
   ]
  },
  {
   "cell_type": "code",
   "execution_count": 7,
   "id": "b1d96a58",
   "metadata": {},
   "outputs": [
    {
     "data": {
      "text/plain": [
       "{'name': 'devde', 'sal': 70000, 'age': 28}"
      ]
     },
     "execution_count": 7,
     "metadata": {},
     "output_type": "execute_result"
    }
   ],
   "source": [
    "a"
   ]
  },
  {
   "cell_type": "code",
   "execution_count": 10,
   "id": "a2c9b919",
   "metadata": {},
   "outputs": [],
   "source": [
    "a['loc']='Nanded'  # For one item"
   ]
  },
  {
   "cell_type": "code",
   "execution_count": 11,
   "id": "8cc429b4",
   "metadata": {},
   "outputs": [
    {
     "data": {
      "text/plain": [
       "{'name': 'devde', 'sal': 70000, 'age': 28, 'loc': 'Nanded'}"
      ]
     },
     "execution_count": 11,
     "metadata": {},
     "output_type": "execute_result"
    }
   ],
   "source": [
    "a"
   ]
  },
  {
   "cell_type": "code",
   "execution_count": 12,
   "id": "2cba7bd9",
   "metadata": {},
   "outputs": [],
   "source": [
    "a.update({'mobile':897654322,1:987654})  # for multiple items"
   ]
  },
  {
   "cell_type": "code",
   "execution_count": 13,
   "id": "3baae1d6",
   "metadata": {},
   "outputs": [
    {
     "data": {
      "text/plain": [
       "{'name': 'devde',\n",
       " 'sal': 70000,\n",
       " 'age': 28,\n",
       " 'loc': 'Nanded',\n",
       " 'mobile': 897654322,\n",
       " 1: 987654}"
      ]
     },
     "execution_count": 13,
     "metadata": {},
     "output_type": "execute_result"
    }
   ],
   "source": [
    "a"
   ]
  },
  {
   "cell_type": "code",
   "execution_count": 14,
   "id": "32e45787",
   "metadata": {},
   "outputs": [],
   "source": [
    "###############################"
   ]
  },
  {
   "cell_type": "markdown",
   "id": "a7955fd7",
   "metadata": {},
   "source": [
    "#  Setdefault()"
   ]
  },
  {
   "cell_type": "markdown",
   "id": "8e240586",
   "metadata": {},
   "source": [
    "If item present in the dict then it will not to be add and if not present then will add"
   ]
  },
  {
   "cell_type": "code",
   "execution_count": 15,
   "id": "254cb2c2",
   "metadata": {},
   "outputs": [
    {
     "data": {
      "text/plain": [
       "{'name': 'devde',\n",
       " 'sal': 70000,\n",
       " 'age': 28,\n",
       " 'loc': 'Nanded',\n",
       " 'mobile': 897654322,\n",
       " 1: 987654}"
      ]
     },
     "execution_count": 15,
     "metadata": {},
     "output_type": "execute_result"
    }
   ],
   "source": [
    "a"
   ]
  },
  {
   "cell_type": "code",
   "execution_count": 25,
   "id": "4b1ba9af",
   "metadata": {},
   "outputs": [
    {
     "data": {
      "text/plain": [
       "'devde'"
      ]
     },
     "execution_count": 25,
     "metadata": {},
     "output_type": "execute_result"
    }
   ],
   "source": [
    "a.setdefault('name','devde')  #  If item present in the dict then it will not to be add "
   ]
  },
  {
   "cell_type": "code",
   "execution_count": 26,
   "id": "c53aa633",
   "metadata": {},
   "outputs": [
    {
     "data": {
      "text/plain": [
       "{'name': 'devde',\n",
       " 'sal': 70000,\n",
       " 'age': 28,\n",
       " 'loc': 'Nanded',\n",
       " 'mobile': 897654322,\n",
       " 1: 987654,\n",
       " 'pan': 'JHG8765'}"
      ]
     },
     "execution_count": 26,
     "metadata": {},
     "output_type": "execute_result"
    }
   ],
   "source": [
    "a"
   ]
  },
  {
   "cell_type": "code",
   "execution_count": 27,
   "id": "a6c2e0c3",
   "metadata": {},
   "outputs": [
    {
     "data": {
      "text/plain": [
       "'JHG8765'"
      ]
     },
     "execution_count": 27,
     "metadata": {},
     "output_type": "execute_result"
    }
   ],
   "source": [
    "a.setdefault('pan','JHG8765')   #  if not present then will add"
   ]
  },
  {
   "cell_type": "code",
   "execution_count": 24,
   "id": "97144cfa",
   "metadata": {},
   "outputs": [
    {
     "data": {
      "text/plain": [
       "{'name': 'devde',\n",
       " 'sal': 70000,\n",
       " 'age': 28,\n",
       " 'loc': 'Nanded',\n",
       " 'mobile': 897654322,\n",
       " 1: 987654,\n",
       " 'pan': 'JHG8765'}"
      ]
     },
     "execution_count": 24,
     "metadata": {},
     "output_type": "execute_result"
    }
   ],
   "source": [
    "a"
   ]
  },
  {
   "cell_type": "code",
   "execution_count": 28,
   "id": "2502e87d",
   "metadata": {},
   "outputs": [],
   "source": [
    "#############################"
   ]
  },
  {
   "cell_type": "markdown",
   "id": "2bf67f66",
   "metadata": {},
   "source": [
    "#                 Fromkeys()"
   ]
  },
  {
   "cell_type": "markdown",
   "id": "891e1a20",
   "metadata": {},
   "source": [
    "we can create empty values dictionary by using keys only"
   ]
  },
  {
   "cell_type": "code",
   "execution_count": 29,
   "id": "d5543808",
   "metadata": {},
   "outputs": [],
   "source": [
    "k=('name','id','sal')"
   ]
  },
  {
   "cell_type": "code",
   "execution_count": 30,
   "id": "ed101322",
   "metadata": {},
   "outputs": [],
   "source": [
    "e=dict.fromkeys(k)  # for empty values dict"
   ]
  },
  {
   "cell_type": "code",
   "execution_count": 31,
   "id": "73549e54",
   "metadata": {},
   "outputs": [
    {
     "data": {
      "text/plain": [
       "{'name': None, 'id': None, 'sal': None}"
      ]
     },
     "execution_count": 31,
     "metadata": {},
     "output_type": "execute_result"
    }
   ],
   "source": [
    "e"
   ]
  },
  {
   "cell_type": "code",
   "execution_count": 38,
   "id": "cf682d74",
   "metadata": {},
   "outputs": [],
   "source": [
    "dict2=dict.fromkeys(k,'fill') # we can also pass default value"
   ]
  },
  {
   "cell_type": "code",
   "execution_count": 39,
   "id": "43bda547",
   "metadata": {},
   "outputs": [
    {
     "data": {
      "text/plain": [
       "{'name': 'fill', 'id': 'fill', 'sal': 'fill'}"
      ]
     },
     "execution_count": 39,
     "metadata": {},
     "output_type": "execute_result"
    }
   ],
   "source": [
    "dict2"
   ]
  },
  {
   "cell_type": "code",
   "execution_count": null,
   "id": "16d51add",
   "metadata": {},
   "outputs": [],
   "source": []
  },
  {
   "cell_type": "code",
   "execution_count": null,
   "id": "692e5999",
   "metadata": {},
   "outputs": [],
   "source": [
    "##################################################################"
   ]
  },
  {
   "cell_type": "code",
   "execution_count": null,
   "id": "da257407",
   "metadata": {},
   "outputs": [],
   "source": [
    "# Nested dictionary "
   ]
  },
  {
   "cell_type": "code",
   "execution_count": 2,
   "id": "848844bf",
   "metadata": {},
   "outputs": [],
   "source": [
    "\n",
    "nested_dict = {     \n",
    "    \"dict1\": {\n",
    "        \"name\": \"John\",\n",
    "        \"age\": 30,\n",
    "        \"occupation\": \"Engineer\",\n",
    "        \"details\": {\n",
    "            \"address\": \"123 Main St\",\n",
    "            \"phone\": \"123-456-7890\"\n",
    "        }\n",
    "    },\n",
    "    \"dict2\": {\n",
    "        \"name\": \"Jane\",\n",
    "        \"age\": 28,\n",
    "        \"occupation\": \"Doctor\"\n",
    "    },\n",
    "    \"dict3\": {\n",
    "        \"name\": \"Mike\",\n",
    "        \"age\": 35,\n",
    "        \"occupation\": \"Artist\",\n",
    "        \"details\": {\n",
    "            \"address\": \"456 High St\",\n",
    "            \"phone\": \"987-654-3210\",\n",
    "            \"additional\": {\n",
    "                \"hobbies\": \"painting, music\",\n",
    "                \"pets\": {'vilage':18}\n",
    "            }\n",
    "        }\n",
    "    }\n",
    "}\n"
   ]
  },
  {
   "cell_type": "code",
   "execution_count": 19,
   "id": "9623e231",
   "metadata": {},
   "outputs": [
    {
     "name": "stdout",
     "output_type": "stream",
     "text": [
      "{'dict1': {'name': 'John', 'age': 30, 'occupation': 'Engineer', 'address': '123 Main St', 'phone': '123-456-7890'}, 'dict2': {'name': 'Jane', 'age': 28, 'occupation': 'Doctor'}, 'dict3': {'name': 'Mike', 'age': 35, 'occupation': 'Artist', 'address': '456 High St', 'phone': '987-654-3210', 'hobbies': 'painting, music', 'vilage': 18}}\n"
     ]
    }
   ],
   "source": [
    "def fetch_item_only(n):\n",
    "    final = {}\n",
    "    for key, value in n.items():\n",
    "        global dic\n",
    "        dic = {}\n",
    "        def extract(d):\n",
    "            for i, j in d.items():\n",
    "                if isinstance(j, dict):\n",
    "                    extract(j)\n",
    "                else:\n",
    "                    dic[i] = j\n",
    "        extract(value)\n",
    "        final[key] = dic\n",
    "    return final\n",
    "print(fetch_item_only(nested_dict))"
   ]
  },
  {
   "cell_type": "code",
   "execution_count": null,
   "id": "e57c2d3a",
   "metadata": {},
   "outputs": [],
   "source": []
  },
  {
   "cell_type": "code",
   "execution_count": 15,
   "id": "b687e49f",
   "metadata": {},
   "outputs": [
    {
     "name": "stdout",
     "output_type": "stream",
     "text": [
      "5\n"
     ]
    }
   ],
   "source": [
    "def dict_depth(d):\n",
    "    if isinstance(d,dict):\n",
    "        return 1 + (max(map(dict_depth,d.values())) if d else 0)\n",
    "    return 0\n",
    "\n",
    "print(dict_depth(nested_dict))"
   ]
  },
  {
   "cell_type": "code",
   "execution_count": null,
   "id": "8b4c05ca",
   "metadata": {},
   "outputs": [],
   "source": []
  }
 ],
 "metadata": {
  "kernelspec": {
   "display_name": "Python 3 (ipykernel)",
   "language": "python",
   "name": "python3"
  },
  "language_info": {
   "codemirror_mode": {
    "name": "ipython",
    "version": 3
   },
   "file_extension": ".py",
   "mimetype": "text/x-python",
   "name": "python",
   "nbconvert_exporter": "python",
   "pygments_lexer": "ipython3",
   "version": "3.9.12"
  }
 },
 "nbformat": 4,
 "nbformat_minor": 5
}
