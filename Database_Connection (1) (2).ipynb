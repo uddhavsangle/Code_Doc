{
 "cells": [
  {
   "cell_type": "markdown",
   "id": "e8abd4db",
   "metadata": {},
   "source": [
    "to communicate with our database"
   ]
  },
  {
   "cell_type": "code",
   "execution_count": 1,
   "id": "d1da971c",
   "metadata": {},
   "outputs": [
    {
     "name": "stdout",
     "output_type": "stream",
     "text": [
      "Requirement already satisfied: pymysql in c:\\users\\admin\\miniconda3\\lib\\site-packages (1.1.0)\n",
      "Note: you may need to restart the kernel to use updated packages.\n"
     ]
    },
    {
     "name": "stderr",
     "output_type": "stream",
     "text": [
      "\n",
      "[notice] A new release of pip is available: 23.3.1 -> 24.0\n",
      "[notice] To update, run: python.exe -m pip install --upgrade pip\n"
     ]
    }
   ],
   "source": [
    "pip install pymysql\n"
   ]
  },
  {
   "cell_type": "markdown",
   "id": "e8315aa4",
   "metadata": {},
   "source": [
    "#### mysql"
   ]
  },
  {
   "cell_type": "code",
   "execution_count": 2,
   "id": "6e85431c",
   "metadata": {},
   "outputs": [],
   "source": [
    "import pymysql"
   ]
  },
  {
   "cell_type": "code",
   "execution_count": 3,
   "id": "54df0187",
   "metadata": {},
   "outputs": [
    {
     "ename": "OperationalError",
     "evalue": "(2003, \"Can't connect to MySQL server on 'localhost' ([WinError 10061] No connection could be made because the target machine actively refused it)\")",
     "output_type": "error",
     "traceback": [
      "\u001b[1;31m---------------------------------------------------------------------------\u001b[0m",
      "\u001b[1;31mConnectionRefusedError\u001b[0m                    Traceback (most recent call last)",
      "File \u001b[1;32m~\\miniconda3\\lib\\site-packages\\pymysql\\connections.py:644\u001b[0m, in \u001b[0;36mConnection.connect\u001b[1;34m(self, sock)\u001b[0m\n\u001b[0;32m    643\u001b[0m \u001b[38;5;28;01mtry\u001b[39;00m:\n\u001b[1;32m--> 644\u001b[0m     sock \u001b[38;5;241m=\u001b[39m socket\u001b[38;5;241m.\u001b[39mcreate_connection(\n\u001b[0;32m    645\u001b[0m         (\u001b[38;5;28mself\u001b[39m\u001b[38;5;241m.\u001b[39mhost, \u001b[38;5;28mself\u001b[39m\u001b[38;5;241m.\u001b[39mport), \u001b[38;5;28mself\u001b[39m\u001b[38;5;241m.\u001b[39mconnect_timeout, \u001b[38;5;241m*\u001b[39m\u001b[38;5;241m*\u001b[39mkwargs\n\u001b[0;32m    646\u001b[0m     )\n\u001b[0;32m    647\u001b[0m     \u001b[38;5;28;01mbreak\u001b[39;00m\n",
      "File \u001b[1;32m~\\miniconda3\\lib\\socket.py:844\u001b[0m, in \u001b[0;36mcreate_connection\u001b[1;34m(address, timeout, source_address)\u001b[0m\n\u001b[0;32m    843\u001b[0m \u001b[38;5;28;01mtry\u001b[39;00m:\n\u001b[1;32m--> 844\u001b[0m     \u001b[38;5;28;01mraise\u001b[39;00m err\n\u001b[0;32m    845\u001b[0m \u001b[38;5;28;01mfinally\u001b[39;00m:\n\u001b[0;32m    846\u001b[0m     \u001b[38;5;66;03m# Break explicitly a reference cycle\u001b[39;00m\n",
      "File \u001b[1;32m~\\miniconda3\\lib\\socket.py:832\u001b[0m, in \u001b[0;36mcreate_connection\u001b[1;34m(address, timeout, source_address)\u001b[0m\n\u001b[0;32m    831\u001b[0m     sock\u001b[38;5;241m.\u001b[39mbind(source_address)\n\u001b[1;32m--> 832\u001b[0m \u001b[43msock\u001b[49m\u001b[38;5;241;43m.\u001b[39;49m\u001b[43mconnect\u001b[49m\u001b[43m(\u001b[49m\u001b[43msa\u001b[49m\u001b[43m)\u001b[49m\n\u001b[0;32m    833\u001b[0m \u001b[38;5;66;03m# Break explicitly a reference cycle\u001b[39;00m\n",
      "\u001b[1;31mConnectionRefusedError\u001b[0m: [WinError 10061] No connection could be made because the target machine actively refused it",
      "\nDuring handling of the above exception, another exception occurred:\n",
      "\u001b[1;31mOperationalError\u001b[0m                          Traceback (most recent call last)",
      "Cell \u001b[1;32mIn [3], line 1\u001b[0m\n\u001b[1;32m----> 1\u001b[0m connection \u001b[38;5;241m=\u001b[39m \u001b[43mpymysql\u001b[49m\u001b[38;5;241;43m.\u001b[39;49m\u001b[43mconnect\u001b[49m\u001b[43m(\u001b[49m\u001b[43mhost\u001b[49m\u001b[38;5;241;43m=\u001b[39;49m\u001b[38;5;124;43m'\u001b[39;49m\u001b[38;5;124;43mlocalhost\u001b[39;49m\u001b[38;5;124;43m'\u001b[39;49m\u001b[43m,\u001b[49m\n\u001b[0;32m      2\u001b[0m \u001b[43m                             \u001b[49m\u001b[43muser\u001b[49m\u001b[38;5;241;43m=\u001b[39;49m\u001b[38;5;124;43m'\u001b[39;49m\u001b[38;5;124;43mroot\u001b[39;49m\u001b[38;5;124;43m'\u001b[39;49m\u001b[43m,\u001b[49m\n\u001b[0;32m      3\u001b[0m \u001b[43m                             \u001b[49m\u001b[43mpassword\u001b[49m\u001b[38;5;241;43m=\u001b[39;49m\u001b[38;5;124;43m'\u001b[39;49m\u001b[38;5;124;43m123456\u001b[39;49m\u001b[38;5;124;43m'\u001b[39;49m\u001b[43m,\u001b[49m\n\u001b[0;32m      4\u001b[0m \u001b[43m                             \u001b[49m\u001b[43mdb\u001b[49m\u001b[38;5;241;43m=\u001b[39;49m\u001b[38;5;124;43m'\u001b[39;49m\u001b[38;5;124;43mpythondb\u001b[39;49m\u001b[38;5;124;43m'\u001b[39;49m\u001b[43m)\u001b[49m\n",
      "File \u001b[1;32m~\\miniconda3\\lib\\site-packages\\pymysql\\connections.py:358\u001b[0m, in \u001b[0;36mConnection.__init__\u001b[1;34m(self, user, password, host, database, unix_socket, port, charset, collation, sql_mode, read_default_file, conv, use_unicode, client_flag, cursorclass, init_command, connect_timeout, read_default_group, autocommit, local_infile, max_allowed_packet, defer_connect, auth_plugin_map, read_timeout, write_timeout, bind_address, binary_prefix, program_name, server_public_key, ssl, ssl_ca, ssl_cert, ssl_disabled, ssl_key, ssl_verify_cert, ssl_verify_identity, compress, named_pipe, passwd, db)\u001b[0m\n\u001b[0;32m    356\u001b[0m     \u001b[38;5;28mself\u001b[39m\u001b[38;5;241m.\u001b[39m_sock \u001b[38;5;241m=\u001b[39m \u001b[38;5;28;01mNone\u001b[39;00m\n\u001b[0;32m    357\u001b[0m \u001b[38;5;28;01melse\u001b[39;00m:\n\u001b[1;32m--> 358\u001b[0m     \u001b[38;5;28;43mself\u001b[39;49m\u001b[38;5;241;43m.\u001b[39;49m\u001b[43mconnect\u001b[49m\u001b[43m(\u001b[49m\u001b[43m)\u001b[49m\n",
      "File \u001b[1;32m~\\miniconda3\\lib\\site-packages\\pymysql\\connections.py:711\u001b[0m, in \u001b[0;36mConnection.connect\u001b[1;34m(self, sock)\u001b[0m\n\u001b[0;32m    709\u001b[0m     \u001b[38;5;28;01mif\u001b[39;00m DEBUG:\n\u001b[0;32m    710\u001b[0m         \u001b[38;5;28mprint\u001b[39m(exc\u001b[38;5;241m.\u001b[39mtraceback)\n\u001b[1;32m--> 711\u001b[0m     \u001b[38;5;28;01mraise\u001b[39;00m exc\n\u001b[0;32m    713\u001b[0m \u001b[38;5;66;03m# If e is neither DatabaseError or IOError, It's a bug.\u001b[39;00m\n\u001b[0;32m    714\u001b[0m \u001b[38;5;66;03m# But raising AssertionError hides original error.\u001b[39;00m\n\u001b[0;32m    715\u001b[0m \u001b[38;5;66;03m# So just reraise it.\u001b[39;00m\n\u001b[0;32m    716\u001b[0m \u001b[38;5;28;01mraise\u001b[39;00m\n",
      "\u001b[1;31mOperationalError\u001b[0m: (2003, \"Can't connect to MySQL server on 'localhost' ([WinError 10061] No connection could be made because the target machine actively refused it)\")"
     ]
    }
   ],
   "source": [
    "connection = pymysql.connect(host='localhost',\n",
    "                             user='root',\n",
    "                             password='123456',\n",
    "                             db='pythondb')"
   ]
  },
  {
   "cell_type": "code",
   "execution_count": 10,
   "id": "3f0f14b5",
   "metadata": {},
   "outputs": [
    {
     "ename": "NameError",
     "evalue": "name 'connection' is not defined",
     "output_type": "error",
     "traceback": [
      "\u001b[1;31m---------------------------------------------------------------------------\u001b[0m",
      "\u001b[1;31mNameError\u001b[0m                                 Traceback (most recent call last)",
      "Cell \u001b[1;32mIn [10], line 1\u001b[0m\n\u001b[1;32m----> 1\u001b[0m obj \u001b[38;5;241m=\u001b[39m \u001b[43mconnection\u001b[49m\u001b[38;5;241m.\u001b[39mcursor()\n",
      "\u001b[1;31mNameError\u001b[0m: name 'connection' is not defined"
     ]
    }
   ],
   "source": [
    "obj = connection.cursor()"
   ]
  },
  {
   "cell_type": "code",
   "execution_count": 11,
   "id": "1ec95df2",
   "metadata": {},
   "outputs": [
    {
     "ename": "NameError",
     "evalue": "name 'obj' is not defined",
     "output_type": "error",
     "traceback": [
      "\u001b[1;31m---------------------------------------------------------------------------\u001b[0m",
      "\u001b[1;31mNameError\u001b[0m                                 Traceback (most recent call last)",
      "Cell \u001b[1;32mIn [11], line 1\u001b[0m\n\u001b[1;32m----> 1\u001b[0m \u001b[43mobj\u001b[49m\u001b[38;5;241m.\u001b[39mexecute(\u001b[38;5;124m\"\u001b[39m\u001b[38;5;124mSELECT * FROM mytable\u001b[39m\u001b[38;5;124m\"\u001b[39m)\n",
      "\u001b[1;31mNameError\u001b[0m: name 'obj' is not defined"
     ]
    }
   ],
   "source": [
    "obj.execute(\"SELECT * FROM mytable\")"
   ]
  },
  {
   "cell_type": "code",
   "execution_count": 12,
   "id": "66c2fac4",
   "metadata": {},
   "outputs": [
    {
     "ename": "NameError",
     "evalue": "name 'obj' is not defined",
     "output_type": "error",
     "traceback": [
      "\u001b[1;31m---------------------------------------------------------------------------\u001b[0m",
      "\u001b[1;31mNameError\u001b[0m                                 Traceback (most recent call last)",
      "Cell \u001b[1;32mIn [12], line 1\u001b[0m\n\u001b[1;32m----> 1\u001b[0m \u001b[38;5;28;01mfor\u001b[39;00m i \u001b[38;5;129;01min\u001b[39;00m \u001b[43mobj\u001b[49m\u001b[38;5;241m.\u001b[39mfetchall():\n\u001b[0;32m      2\u001b[0m     \u001b[38;5;28mprint\u001b[39m(i)\n",
      "\u001b[1;31mNameError\u001b[0m: name 'obj' is not defined"
     ]
    }
   ],
   "source": [
    "for i in obj.fetchall():\n",
    "    print(i)"
   ]
  },
  {
   "cell_type": "markdown",
   "id": "1a1dd831",
   "metadata": {},
   "source": [
    "##### Oracle"
   ]
  },
  {
   "cell_type": "code",
   "execution_count": 2,
   "id": "33173c6c",
   "metadata": {},
   "outputs": [
    {
     "name": "stdout",
     "output_type": "stream",
     "text": [
      "Collecting cx-Oracle\n",
      "  Using cached cx_Oracle-8.3.0-cp39-cp39-win_amd64.whl (213 kB)\n",
      "Installing collected packages: cx-Oracle\n",
      "Successfully installed cx-Oracle-8.3.0\n",
      "Note: you may need to restart the kernel to use updated packages.\n"
     ]
    },
    {
     "name": "stderr",
     "output_type": "stream",
     "text": [
      "WARNING: Retrying (Retry(total=4, connect=None, read=None, redirect=None, status=None)) after connection broken by 'ReadTimeoutError(\"HTTPSConnectionPool(host='pypi.org', port=443): Read timed out. (read timeout=15)\")': /simple/cx-oracle/\n"
     ]
    }
   ],
   "source": [
    "pip install cx-Oracle"
   ]
  },
  {
   "cell_type": "code",
   "execution_count": 1,
   "id": "0d5cd26a",
   "metadata": {},
   "outputs": [],
   "source": [
    "import cx_Oracle"
   ]
  },
  {
   "cell_type": "code",
   "execution_count": 3,
   "id": "52c95639",
   "metadata": {},
   "outputs": [
    {
     "ename": "DatabaseError",
     "evalue": "ORA-12514: TNS:listener does not currently know of service requested in connect descriptor",
     "output_type": "error",
     "traceback": [
      "\u001b[1;31m---------------------------------------------------------------------------\u001b[0m",
      "\u001b[1;31mDatabaseError\u001b[0m                             Traceback (most recent call last)",
      "Cell \u001b[1;32mIn [3], line 1\u001b[0m\n\u001b[1;32m----> 1\u001b[0m connection \u001b[38;5;241m=\u001b[39m \u001b[43mcx_Oracle\u001b[49m\u001b[38;5;241;43m.\u001b[39;49m\u001b[43mconnect\u001b[49m\u001b[43m(\u001b[49m\u001b[38;5;124;43m'\u001b[39;49m\u001b[38;5;124;43msystem/123456@//localhost:1521/Testdb\u001b[39;49m\u001b[38;5;124;43m'\u001b[39;49m\u001b[43m)\u001b[49m\n",
      "\u001b[1;31mDatabaseError\u001b[0m: ORA-12514: TNS:listener does not currently know of service requested in connect descriptor"
     ]
    }
   ],
   "source": [
    "connection = cx_Oracle.connect('system/123456@//localhost:1521/Testdb') #user/password@//hostname:Port/<dbname>"
   ]
  },
  {
   "cell_type": "code",
   "execution_count": 3,
   "id": "a3504f51",
   "metadata": {},
   "outputs": [],
   "source": [
    "obj = connection.cursor()"
   ]
  },
  {
   "cell_type": "code",
   "execution_count": 4,
   "id": "6b9128fb",
   "metadata": {},
   "outputs": [
    {
     "data": {
      "text/plain": [
       "<cx_Oracle.Cursor on <cx_Oracle.Connection to system@//localhost:1521/Testdb>>"
      ]
     },
     "execution_count": 4,
     "metadata": {},
     "output_type": "execute_result"
    }
   ],
   "source": [
    "obj.execute('select * from emp')"
   ]
  },
  {
   "cell_type": "code",
   "execution_count": 5,
   "id": "dddd4f2d",
   "metadata": {},
   "outputs": [],
   "source": [
    "for i in obj.fetchall():\n",
    "    print(i)"
   ]
  },
  {
   "cell_type": "markdown",
   "id": "69fbe944",
   "metadata": {},
   "source": [
    "##### mssql"
   ]
  },
  {
   "cell_type": "code",
   "execution_count": 13,
   "id": "026b916b",
   "metadata": {},
   "outputs": [
    {
     "name": "stdout",
     "output_type": "stream",
     "text": [
      "Note: you may need to restart the kernel to use updated packages.Requirement already satisfied: pyodbc in c:\\users\\admin\\miniconda3\\lib\\site-packages (4.0.39)\n",
      "\n"
     ]
    }
   ],
   "source": [
    "pip install pyodbc"
   ]
  },
  {
   "cell_type": "code",
   "execution_count": 24,
   "id": "d0f87715",
   "metadata": {},
   "outputs": [],
   "source": [
    "import pyodbc"
   ]
  },
  {
   "cell_type": "code",
   "execution_count": 25,
   "id": "a738164b",
   "metadata": {},
   "outputs": [],
   "source": [
    "connection = pyodbc.connect('Driver={ODBC DRIVER 17 for SQL Server};'\n",
    "                            'Server=DESKTOP-4IH7NH8\\SQLEXPRESS;'\n",
    "                            'Trusted_Connection=yes;'\n",
    "                            'Database=jupy.db'\n",
    "                            )"
   ]
  },
  {
   "cell_type": "code",
   "execution_count": 26,
   "id": "d9970ea5",
   "metadata": {},
   "outputs": [],
   "source": [
    "obj = connection.cursor()"
   ]
  },
  {
   "cell_type": "code",
   "execution_count": 27,
   "id": "71769e79",
   "metadata": {},
   "outputs": [
    {
     "data": {
      "text/plain": [
       "<pyodbc.Cursor at 0x2520877bab0>"
      ]
     },
     "execution_count": 27,
     "metadata": {},
     "output_type": "execute_result"
    }
   ],
   "source": [
    "obj.execute(\"\"\"\n",
    "                        SELECT column_name, data_type, character_maximum_length \n",
    "                        FROM information_schema.columns \n",
    "                        WHERE table_name = 'sysdiagrams';\n",
    "                        \n",
    "                        \"\"\")"
   ]
  },
  {
   "cell_type": "code",
   "execution_count": 36,
   "id": "26bab71b",
   "metadata": {},
   "outputs": [],
   "source": [
    "for i in obj.fetchall():\n",
    "    print(i)"
   ]
  },
  {
   "cell_type": "code",
   "execution_count": 37,
   "id": "64f9a01d",
   "metadata": {},
   "outputs": [
    {
     "data": {
      "text/plain": [
       "['SQL Server',\n",
       " 'SQL Server Native Client RDA 11.0',\n",
       " 'SQL Server Native Client 11.0',\n",
       " 'ODBC Driver 17 for SQL Server',\n",
       " 'Oracle in OraDB21Home1',\n",
       " 'Oracle in OraDB21Home2',\n",
       " 'Microsoft Access Driver (*.mdb, *.accdb)',\n",
       " 'Microsoft Excel Driver (*.xls, *.xlsx, *.xlsm, *.xlsb)',\n",
       " 'Microsoft Access Text Driver (*.txt, *.csv)']"
      ]
     },
     "execution_count": 37,
     "metadata": {},
     "output_type": "execute_result"
    }
   ],
   "source": [
    "pyodbc.drivers()"
   ]
  },
  {
   "cell_type": "markdown",
   "id": "5852e29b",
   "metadata": {},
   "source": [
    "##### postgresql"
   ]
  },
  {
   "cell_type": "code",
   "execution_count": 12,
   "id": "3802e279",
   "metadata": {},
   "outputs": [
    {
     "name": "stdout",
     "output_type": "stream",
     "text": [
      "Collecting psycopg2\n",
      "  Downloading psycopg2-2.9.6-cp39-cp39-win_amd64.whl (1.2 MB)\n",
      "     ---------------------------------------- 1.2/1.2 MB 418.8 kB/s eta 0:00:00\n",
      "Installing collected packages: psycopg2\n",
      "Successfully installed psycopg2-2.9.6\n",
      "Note: you may need to restart the kernel to use updated packages.\n"
     ]
    }
   ],
   "source": [
    "pip install psycopg2"
   ]
  },
  {
   "cell_type": "code",
   "execution_count": 1,
   "id": "8255d35c",
   "metadata": {},
   "outputs": [],
   "source": [
    "import psycopg2"
   ]
  },
  {
   "cell_type": "code",
   "execution_count": 2,
   "id": "438853c5",
   "metadata": {},
   "outputs": [],
   "source": [
    "connection = psycopg2.connect(database=\"practice\", user=\"postgres\", password=\"admin\", host=\"localhost\", port=\"12345\")"
   ]
  },
  {
   "cell_type": "code",
   "execution_count": 3,
   "id": "5432f6a8",
   "metadata": {},
   "outputs": [],
   "source": [
    "obj = connection.cursor()"
   ]
  },
  {
   "cell_type": "code",
   "execution_count": 25,
   "id": "8e4684ee",
   "metadata": {},
   "outputs": [
    {
     "ename": "InFailedSqlTransaction",
     "evalue": "current transaction is aborted, commands ignored until end of transaction block\n",
     "output_type": "error",
     "traceback": [
      "\u001b[1;31m---------------------------------------------------------------------------\u001b[0m",
      "\u001b[1;31mInFailedSqlTransaction\u001b[0m                    Traceback (most recent call last)",
      "Cell \u001b[1;32mIn [25], line 1\u001b[0m\n\u001b[1;32m----> 1\u001b[0m \u001b[43mobj\u001b[49m\u001b[38;5;241;43m.\u001b[39;49m\u001b[43mexecute\u001b[49m\u001b[43m(\u001b[49m\u001b[38;5;124;43m\"\u001b[39;49m\u001b[38;5;124;43mselect * from employee\u001b[39;49m\u001b[38;5;124;43m\"\u001b[39;49m\u001b[43m)\u001b[49m\n",
      "\u001b[1;31mInFailedSqlTransaction\u001b[0m: current transaction is aborted, commands ignored until end of transaction block\n"
     ]
    }
   ],
   "source": [
    "obj.execute(\"select * from employee\")"
   ]
  },
  {
   "cell_type": "code",
   "execution_count": 46,
   "id": "ce7cbbaa",
   "metadata": {},
   "outputs": [],
   "source": [
    "b =obj.fetchall()"
   ]
  },
  {
   "cell_type": "code",
   "execution_count": null,
   "id": "9fe848a4",
   "metadata": {},
   "outputs": [],
   "source": []
  },
  {
   "cell_type": "code",
   "execution_count": null,
   "id": "17827baf",
   "metadata": {},
   "outputs": [],
   "source": [
    "##############################################################"
   ]
  },
  {
   "cell_type": "markdown",
   "id": "a9c8146d",
   "metadata": {},
   "source": [
    "# mssql"
   ]
  },
  {
   "cell_type": "code",
   "execution_count": 38,
   "id": "fbaee73d",
   "metadata": {},
   "outputs": [
    {
     "name": "stdout",
     "output_type": "stream",
     "text": [
      "Requirement already satisfied: pyodbc in c:\\users\\admin\\miniconda3\\lib\\site-packages (4.0.39)\n",
      "Note: you may need to restart the kernel to use updated packages.\n"
     ]
    },
    {
     "name": "stderr",
     "output_type": "stream",
     "text": [
      "\n",
      "[notice] A new release of pip is available: 23.1.2 -> 23.2.1\n",
      "[notice] To update, run: python.exe -m pip install --upgrade pip\n"
     ]
    }
   ],
   "source": [
    "pip install pyodbc"
   ]
  },
  {
   "cell_type": "code",
   "execution_count": 75,
   "id": "c8b9d97a",
   "metadata": {},
   "outputs": [],
   "source": [
    "connection = pyodbc.connect('Driver={ODBC DRIVER 17 for SQL Server};'\n",
    "                            'Server=DESKTOP-4IH7NH8\\SQLEXPRESS;'\n",
    "                            'Trusted_Connection=yes;'\n",
    "                            'Database=jupy'\n",
    "                            )"
   ]
  },
  {
   "cell_type": "code",
   "execution_count": 76,
   "id": "bae22e22",
   "metadata": {},
   "outputs": [],
   "source": [
    "cursor=connection.cursor()"
   ]
  },
  {
   "cell_type": "code",
   "execution_count": 77,
   "id": "b904cf12",
   "metadata": {},
   "outputs": [],
   "source": [
    "import pandas as pd\n"
   ]
  },
  {
   "cell_type": "code",
   "execution_count": 78,
   "id": "3a6bf423",
   "metadata": {},
   "outputs": [],
   "source": [
    "df=pd.read_csv(r\"C:\\Users\\admin\\Desktop\\f\\ccc.csv\")"
   ]
  },
  {
   "cell_type": "code",
   "execution_count": 79,
   "id": "8146cf0f",
   "metadata": {},
   "outputs": [],
   "source": [
    "p=df.drop('class',axis=1)"
   ]
  },
  {
   "cell_type": "code",
   "execution_count": 80,
   "id": "e9efc44e",
   "metadata": {},
   "outputs": [
    {
     "data": {
      "text/plain": [
       "Index(['name', 'age', 'mobile'], dtype='object')"
      ]
     },
     "execution_count": 80,
     "metadata": {},
     "output_type": "execute_result"
    }
   ],
   "source": [
    "p.columns"
   ]
  },
  {
   "cell_type": "code",
   "execution_count": 81,
   "id": "13232e40",
   "metadata": {},
   "outputs": [
    {
     "data": {
      "text/plain": [
       "<pyodbc.Cursor at 0x2521738fab0>"
      ]
     },
     "execution_count": 81,
     "metadata": {},
     "output_type": "execute_result"
    }
   ],
   "source": [
    "cursor.execute(\"create table employee11(name varchar(20) , age varchar(20), mobile varchar(20))\")"
   ]
  },
  {
   "cell_type": "code",
   "execution_count": 82,
   "id": "75bf0baf",
   "metadata": {},
   "outputs": [],
   "source": [
    "for row in df.itertuples():\n",
    "    cursor.execute('''\n",
    "    INSERT INTO jupy.dbo.employee11(name, age, mobile)\n",
    "    VALUES(?,?,?)''',\n",
    "                 row.name,\n",
    "                 row.age,                \n",
    "                 row.mobile\n",
    "                  )\n",
    "connection.commit()"
   ]
  },
  {
   "cell_type": "code",
   "execution_count": 83,
   "id": "30560cac",
   "metadata": {},
   "outputs": [
    {
     "data": {
      "text/plain": [
       "<pyodbc.Cursor at 0x2521738fab0>"
      ]
     },
     "execution_count": 83,
     "metadata": {},
     "output_type": "execute_result"
    }
   ],
   "source": [
    "cursor.execute(\"\"\"\n",
    "                        SELECT column_name, data_type, character_maximum_length \n",
    "                        FROM information_schema.columns \n",
    "                        WHERE table_name = 'employee11';\n",
    "                        \n",
    "                        \"\"\")"
   ]
  },
  {
   "cell_type": "code",
   "execution_count": 84,
   "id": "10a3212e",
   "metadata": {},
   "outputs": [
    {
     "name": "stdout",
     "output_type": "stream",
     "text": [
      "('name', 'varchar', 20)\n",
      "('age', 'varchar', 20)\n",
      "('mobile', 'varchar', 20)\n"
     ]
    }
   ],
   "source": [
    "for i in cursor.fetchall():\n",
    "    print(i)"
   ]
  },
  {
   "cell_type": "code",
   "execution_count": 85,
   "id": "e38ecb87",
   "metadata": {},
   "outputs": [
    {
     "data": {
      "text/plain": [
       "<pyodbc.Cursor at 0x2521738fab0>"
      ]
     },
     "execution_count": 85,
     "metadata": {},
     "output_type": "execute_result"
    }
   ],
   "source": [
    "cursor.execute('select * from employee11')"
   ]
  },
  {
   "cell_type": "code",
   "execution_count": 86,
   "id": "cc58ec87",
   "metadata": {},
   "outputs": [
    {
     "name": "stdout",
     "output_type": "stream",
     "text": [
      "('mohan', '12', '876543456')\n",
      "('rama', '13', '98738765')\n",
      "('sham', '14', '987675432')\n"
     ]
    }
   ],
   "source": [
    "for i in cursor.fetchall():\n",
    "    print(i)"
   ]
  },
  {
   "cell_type": "code",
   "execution_count": 94,
   "id": "894f1c70",
   "metadata": {},
   "outputs": [
    {
     "data": {
      "text/plain": [
       "<pyodbc.Cursor at 0x2521738fab0>"
      ]
     },
     "execution_count": 94,
     "metadata": {},
     "output_type": "execute_result"
    }
   ],
   "source": [
    "\n",
    "cursor.execute('''\n",
    "INSERT INTO jupy.dbo.employee11 values('name', 'age', '9876543')''')\n",
    "    \n",
    "    \n",
    "    \n"
   ]
  },
  {
   "cell_type": "code",
   "execution_count": 96,
   "id": "1372d8c7",
   "metadata": {},
   "outputs": [
    {
     "data": {
      "text/plain": [
       "<pyodbc.Cursor at 0x2521738fab0>"
      ]
     },
     "execution_count": 96,
     "metadata": {},
     "output_type": "execute_result"
    }
   ],
   "source": [
    "cursor.execute('select * from employee11')"
   ]
  },
  {
   "cell_type": "code",
   "execution_count": 97,
   "id": "6ba7f3cd",
   "metadata": {},
   "outputs": [
    {
     "name": "stdout",
     "output_type": "stream",
     "text": [
      "('mohan', '12', '876543456')\n",
      "('rama', '13', '98738765')\n",
      "('sham', '14', '987675432')\n",
      "('name', 'age', '9876543')\n"
     ]
    }
   ],
   "source": [
    "for i in cursor.fetchall():\n",
    "    print(i)"
   ]
  },
  {
   "cell_type": "code",
   "execution_count": 100,
   "id": "e7fd73bb",
   "metadata": {},
   "outputs": [
    {
     "data": {
      "text/plain": [
       "<pyodbc.Cursor at 0x2521738fab0>"
      ]
     },
     "execution_count": 100,
     "metadata": {},
     "output_type": "execute_result"
    }
   ],
   "source": [
    "cursor.execute('''\n",
    "alter table employee11 drop Column mobile ''')"
   ]
  },
  {
   "cell_type": "code",
   "execution_count": 101,
   "id": "cdca54f5",
   "metadata": {},
   "outputs": [
    {
     "name": "stdout",
     "output_type": "stream",
     "text": [
      "('mohan', '12')\n",
      "('rama', '13')\n",
      "('sham', '14')\n",
      "('name', 'age')\n"
     ]
    }
   ],
   "source": [
    "cursor.execute('select * from employee11')\n",
    "for i in cursor.fetchall():\n",
    "    print(i)"
   ]
  },
  {
   "cell_type": "code",
   "execution_count": null,
   "id": "56408257",
   "metadata": {},
   "outputs": [],
   "source": []
  },
  {
   "cell_type": "code",
   "execution_count": null,
   "id": "c57a82f2",
   "metadata": {},
   "outputs": [],
   "source": []
  },
  {
   "cell_type": "markdown",
   "id": "ed98beea",
   "metadata": {},
   "source": [
    "# postgresql"
   ]
  },
  {
   "cell_type": "code",
   "execution_count": 1,
   "id": "dd253176",
   "metadata": {},
   "outputs": [
    {
     "name": "stdout",
     "output_type": "stream",
     "text": [
      "Requirement already satisfied: psycopg2 in c:\\users\\admin\\miniconda3\\lib\\site-packages (2.9.6)\n",
      "Note: you may need to restart the kernel to use updated packages.\n"
     ]
    },
    {
     "name": "stderr",
     "output_type": "stream",
     "text": [
      "\n",
      "[notice] A new release of pip is available: 23.1.2 -> 23.2.1\n",
      "[notice] To update, run: python.exe -m pip install --upgrade pip\n"
     ]
    }
   ],
   "source": [
    "pip install psycopg2"
   ]
  },
  {
   "cell_type": "code",
   "execution_count": 1,
   "id": "0694e3e3",
   "metadata": {},
   "outputs": [],
   "source": [
    "import psycopg2"
   ]
  },
  {
   "cell_type": "code",
   "execution_count": 2,
   "id": "193a4a0c",
   "metadata": {},
   "outputs": [],
   "source": [
    "connection = psycopg2.connect(database=\"jupy\", user=\"postgres\", password=\"admin\", host=\"localhost\", port=\"5432\")"
   ]
  },
  {
   "cell_type": "code",
   "execution_count": 3,
   "id": "44561e5d",
   "metadata": {},
   "outputs": [],
   "source": [
    "cursor1=connection.cursor()"
   ]
  },
  {
   "cell_type": "code",
   "execution_count": 4,
   "id": "8a2c8d99",
   "metadata": {},
   "outputs": [],
   "source": [
    "import pandas as pd"
   ]
  },
  {
   "cell_type": "code",
   "execution_count": 5,
   "id": "2d112f0f",
   "metadata": {},
   "outputs": [],
   "source": [
    "df1=pd.read_csv(r\"C:\\Users\\admin\\Desktop\\f\\ccc.csv\")"
   ]
  },
  {
   "cell_type": "code",
   "execution_count": 6,
   "id": "ed84c10d",
   "metadata": {},
   "outputs": [],
   "source": [
    "p=df1.drop('class',axis=1)"
   ]
  },
  {
   "cell_type": "code",
   "execution_count": 7,
   "id": "4e97e00d",
   "metadata": {},
   "outputs": [
    {
     "data": {
      "text/plain": [
       "Index(['name', 'age', 'mobile'], dtype='object')"
      ]
     },
     "execution_count": 7,
     "metadata": {},
     "output_type": "execute_result"
    }
   ],
   "source": [
    "p.columns"
   ]
  },
  {
   "cell_type": "code",
   "execution_count": 8,
   "id": "ef56e193",
   "metadata": {},
   "outputs": [],
   "source": [
    "cursor1.execute(\"create table employee2(name varchar(20) , age varchar(20), mobile varchar(20))\")\n",
    "connection.commit()\n"
   ]
  },
  {
   "cell_type": "code",
   "execution_count": 11,
   "id": "d0af8679",
   "metadata": {},
   "outputs": [],
   "source": [
    "\n",
    "insert='INSERT INTO employee2 (name, age, mobile) VALUES (%s, %s, %s)'\n",
    "for row in p.itertuples():\n",
    "    cursor1.execute(insert,row[1:])\n",
    "    \n",
    "connection.commit()"
   ]
  },
  {
   "cell_type": "code",
   "execution_count": 13,
   "id": "5df529ee",
   "metadata": {},
   "outputs": [],
   "source": [
    "cursor1.execute(\"select * from employee2\")"
   ]
  },
  {
   "cell_type": "code",
   "execution_count": 15,
   "id": "90095bca",
   "metadata": {},
   "outputs": [
    {
     "name": "stdout",
     "output_type": "stream",
     "text": [
      "('mohan', '12', '876543456')\n",
      "('rama', '13', '98738765')\n",
      "('sham', '14', '987675432')\n"
     ]
    }
   ],
   "source": [
    "for i in cursor1.fetchall():\n",
    "    print(i)"
   ]
  },
  {
   "cell_type": "code",
   "execution_count": 19,
   "id": "9a5f18fd",
   "metadata": {},
   "outputs": [],
   "source": [
    "cursor1.execute(\"update employee2 set name='ganesh' where age='12'\")\n",
    "connection.commit()"
   ]
  },
  {
   "cell_type": "code",
   "execution_count": 31,
   "id": "4feae5bb",
   "metadata": {},
   "outputs": [],
   "source": [
    "cursor1.execute(\"ROLLBACK\")      # (InFailedSqlTransaction: current transaction is aborted,                                         \n",
    "connection.commit()                  #commands ignored until end of transaction block)"
   ]
  },
  {
   "cell_type": "code",
   "execution_count": 32,
   "id": "1ed27ddf",
   "metadata": {},
   "outputs": [],
   "source": [
    "cursor1.execute(\"select * from employee2\")"
   ]
  },
  {
   "cell_type": "code",
   "execution_count": 33,
   "id": "c52699fc",
   "metadata": {},
   "outputs": [
    {
     "name": "stdout",
     "output_type": "stream",
     "text": [
      "('rama', '13', '98738765')\n",
      "('sham', '14', '987675432')\n",
      "('ganesh', '12', '876543456')\n"
     ]
    }
   ],
   "source": [
    "for i in cursor1.fetchall():\n",
    "    print(i)"
   ]
  },
  {
   "cell_type": "code",
   "execution_count": 34,
   "id": "d088e72c",
   "metadata": {},
   "outputs": [],
   "source": [
    "cursor1.execute(\"alter table employee2 add add_col varchar\")"
   ]
  },
  {
   "cell_type": "code",
   "execution_count": 35,
   "id": "e5442e56",
   "metadata": {},
   "outputs": [
    {
     "name": "stdout",
     "output_type": "stream",
     "text": [
      "('rama', '13', '98738765', None)\n",
      "('sham', '14', '987675432', None)\n",
      "('ganesh', '12', '876543456', None)\n"
     ]
    }
   ],
   "source": [
    "cursor1.execute(\"select * from employee2\")\n",
    "for i in cursor1.fetchall():\n",
    "    print(i)\n",
    "connection.commit()"
   ]
  },
  {
   "cell_type": "code",
   "execution_count": 36,
   "id": "a56ffd43",
   "metadata": {},
   "outputs": [],
   "source": [
    "connection.commit()"
   ]
  },
  {
   "cell_type": "code",
   "execution_count": 37,
   "id": "745ad93c",
   "metadata": {},
   "outputs": [],
   "source": [
    "cursor1.execute(\"alter table employee2 rename add_col to rename1_col\")\n",
    "connection.commit()"
   ]
  },
  {
   "cell_type": "code",
   "execution_count": null,
   "id": "32082b46",
   "metadata": {},
   "outputs": [],
   "source": [
    " \n",
    "#  (select a.id,b.manger_id from employee a left join employee b on a.id=b.manage_id where b.manager_id=input_id )\n",
    " \n",
    "# select manager_id,count(manage_id) from employee group by manager_id\n",
    " \n",
    " \n",
    "#  id, manager_id\n",
    "#  1, Null\n",
    "#  2,1\n",
    "#  3,1\n",
    "#  4,1\n",
    "#  5,2\n",
    "#  6,5\n",
    "\n",
    "# select manager_id,count(manage_id) from employee group by manager_id\n",
    "# select a.id,b.manger_id from employee a left join employee b on a.id=b.manage_id where b.manager_id=input_id\n",
    "\n",
    "# def recur(manager_id):\n",
    "#     a=(select id from employee where manager_id=2)\n",
    "#     if a is not null:\n",
    "#         recur(a)\n",
    "\n",
    "# recur(manager_id)"
   ]
  },
  {
   "cell_type": "code",
   "execution_count": null,
   "id": "852ae590",
   "metadata": {},
   "outputs": [],
   "source": []
  },
  {
   "cell_type": "code",
   "execution_count": null,
   "id": "befb4f09",
   "metadata": {},
   "outputs": [],
   "source": []
  },
  {
   "cell_type": "code",
   "execution_count": 5,
   "id": "85b9a1f5",
   "metadata": {},
   "outputs": [],
   "source": [
    "####################################task indi4##########################################\n",
    "import pyodbc\n",
    "connection = pyodbc.connect('Driver={ODBC DRIVER 17 for SQL Server};'\n",
    "                            'Server=DESKTOP-4IH7NH8\\SQLEXPRESS;'\n",
    "                            'Trusted_Connection=yes;'\n",
    "                            'Database=HR'\n",
    "                            )"
   ]
  },
  {
   "cell_type": "code",
   "execution_count": 6,
   "id": "a51d99d6",
   "metadata": {},
   "outputs": [],
   "source": [
    "obj = connection.cursor()"
   ]
  },
  {
   "cell_type": "code",
   "execution_count": 26,
   "id": "beec598a",
   "metadata": {},
   "outputs": [
    {
     "data": {
      "text/plain": [
       "<pyodbc.Cursor at 0x1b5a2bbd8b0>"
      ]
     },
     "execution_count": 26,
     "metadata": {},
     "output_type": "execute_result"
    }
   ],
   "source": [
    "obj.execute('select * from employees where manager_id=100')"
   ]
  },
  {
   "cell_type": "code",
   "execution_count": 50,
   "id": "21e65d64",
   "metadata": {},
   "outputs": [
    {
     "name": "stdout",
     "output_type": "stream",
     "text": [
      "101 100\n",
      "102 100\n",
      "114 100\n",
      "120 100\n",
      "121 100\n",
      "122 100\n",
      "123 100\n",
      "145 100\n",
      "146 100\n",
      "176 100\n",
      "177 100\n",
      "178 100\n",
      "179 100\n",
      "201 100\n"
     ]
    }
   ],
   "source": [
    "def recu(input_id):\n",
    "    a=int(input_id)\n",
    "    obj.execute(f'select * from employees where manager_id={input_id}')\n",
    "    for i in obj.fetchall():\n",
    "        print(i[0],i[-2])\n",
    "        \n",
    "recu(100)"
   ]
  },
  {
   "cell_type": "code",
   "execution_count": 53,
   "id": "066ae2a6",
   "metadata": {},
   "outputs": [
    {
     "name": "stdout",
     "output_type": "stream",
     "text": [
      "Employees under Manager 100:\n",
      "101 100\n",
      "108 101\n",
      "109 108\n",
      "110 108\n",
      "111 108\n",
      "112 108\n",
      "113 108\n",
      "200 101\n",
      "203 101\n",
      "204 101\n",
      "205 101\n",
      "206 205\n",
      "102 100\n",
      "103 102\n",
      "104 103\n",
      "105 103\n",
      "106 103\n",
      "107 103\n",
      "114 100\n",
      "115 114\n",
      "116 114\n",
      "117 114\n",
      "118 114\n",
      "119 114\n",
      "120 100\n",
      "126 120\n",
      "121 100\n",
      "122 100\n",
      "123 100\n",
      "192 123\n",
      "193 123\n",
      "145 100\n",
      "146 100\n",
      "176 100\n",
      "177 100\n",
      "178 100\n",
      "179 100\n",
      "201 100\n",
      "202 201\n"
     ]
    }
   ],
   "source": [
    "import pyodbc\n",
    "connection = pyodbc.connect('Driver={ODBC DRIVER 17 for SQL Server};'\n",
    "                            'Server=DESKTOP-4IH7NH8\\SQLEXPRESS;'\n",
    "                            'Trusted_Connection=yes;'\n",
    "                            'Database=HR'\n",
    "                            )\n",
    "obj = connection.cursor()\n",
    "\n",
    "def recur(manager_id):\n",
    "    if manager_id is None:\n",
    "        condition = \"manager_id IS NULL\"\n",
    "    else:\n",
    "        condition = f\"manager_id = {manager_id}\"\n",
    "    obj.execute(f\"SELECT employee_id, manager_id FROM employees WHERE {condition}\")\n",
    "    employees = obj.fetchall()\n",
    "    if not employees:\n",
    "        return\n",
    "\n",
    "    for employee in employees:\n",
    "        emp_id, emp_manager_id = employee\n",
    "        print(f\"{emp_id} {emp_manager_id}\")\n",
    "        recur(emp_id)\n",
    "\n",
    "manager_id = 100\n",
    "print(f\"Employees under Manager {manager_id}:\")\n",
    "recur(manager_id)\n"
   ]
  },
  {
   "cell_type": "code",
   "execution_count": 19,
   "id": "31601b71",
   "metadata": {},
   "outputs": [
    {
     "data": {
      "text/plain": [
       "[[1, 2, 3], [4, 5, 6], [7, 8]]"
      ]
     },
     "execution_count": 19,
     "metadata": {},
     "output_type": "execute_result"
    }
   ],
   "source": [
    "s='12345678'\n",
    "l=[]\n",
    "\n",
    "\n",
    "for i in range(0,len(s),3):\n",
    "    t=[]\n",
    "    if i<=len(s)-3:\n",
    "        for j in range(i,i+3):\n",
    "            t.append(int(s[j]))\n",
    "    else:\n",
    "        for j in range(i,len(s)):\n",
    "            t.append(int(s[j]))\n",
    "    l.append(t)\n",
    "l\n",
    "    \n",
    "    \n",
    "    "
   ]
  },
  {
   "cell_type": "code",
   "execution_count": null,
   "id": "bdd9285e",
   "metadata": {},
   "outputs": [],
   "source": []
  }
 ],
 "metadata": {
  "kernelspec": {
   "display_name": "Python 3 (ipykernel)",
   "language": "python",
   "name": "python3"
  },
  "language_info": {
   "codemirror_mode": {
    "name": "ipython",
    "version": 3
   },
   "file_extension": ".py",
   "mimetype": "text/x-python",
   "name": "python",
   "nbconvert_exporter": "python",
   "pygments_lexer": "ipython3",
   "version": "3.9.12"
  }
 },
 "nbformat": 4,
 "nbformat_minor": 5
}
