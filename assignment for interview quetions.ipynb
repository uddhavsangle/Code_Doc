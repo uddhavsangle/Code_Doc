{
 "cells": [
  {
   "cell_type": "code",
   "execution_count": 6,
   "id": "d6d1b6cd",
   "metadata": {},
   "outputs": [
    {
     "name": "stdout",
     "output_type": "stream",
     "text": [
      "ABCD\n",
      "ABDC\n",
      "ACBD\n",
      "ACDB\n",
      "ADBC\n",
      "ADCB\n",
      "BACD\n",
      "BADC\n",
      "BCAD\n",
      "BCDA\n",
      "BDAC\n",
      "BDCA\n",
      "CABD\n",
      "CADB\n",
      "CBAD\n",
      "CBDA\n",
      "CDAB\n",
      "CDBA\n",
      "DABC\n",
      "DACB\n",
      "DBAC\n",
      "DBCA\n",
      "DCAB\n",
      "DCBA\n"
     ]
    },
    {
     "data": {
      "text/plain": [
       "24"
      ]
     },
     "execution_count": 6,
     "metadata": {},
     "output_type": "execute_result"
    }
   ],
   "source": [
    "def permutations(letters):\n",
    "    if len(letters) == 1:\n",
    "        return [letters]\n",
    "    perms = []\n",
    "    for i in range(len(letters)):\n",
    "        first_char = letters[i]\n",
    "        remaining_chars = letters[:i] + letters[i+1:]\n",
    "        subperms = permutations(remaining_chars)\n",
    "        for subperm in subperms:\n",
    "            perms.append(first_char + subperm)\n",
    "    return perms\n",
    "\n",
    "# Define the letters\n",
    "letters = 'ABCD'\n",
    "a=set()\n",
    "# Generate permutations and print them\n",
    "for perm in permutations(letters):\n",
    "    print(perm)\n",
    "    a.add(perm)\n",
    "len(a)"
   ]
  },
  {
   "cell_type": "code",
   "execution_count": null,
   "id": "f78e2e40",
   "metadata": {},
   "outputs": [],
   "source": []
  },
  {
   "cell_type": "code",
   "execution_count": 1,
   "id": "6f314a0e",
   "metadata": {},
   "outputs": [],
   "source": [
    "a=[1,None,None]\n",
    "b=[1,1,None]\n",
    "\n",
    "import pandas as pd"
   ]
  },
  {
   "cell_type": "code",
   "execution_count": 2,
   "id": "a8511eb4",
   "metadata": {},
   "outputs": [],
   "source": [
    "df=pd.DataFrame(a,columns=['a'])"
   ]
  },
  {
   "cell_type": "code",
   "execution_count": 8,
   "id": "d4b1c541",
   "metadata": {},
   "outputs": [
    {
     "data": {
      "text/html": [
       "<div>\n",
       "<style scoped>\n",
       "    .dataframe tbody tr th:only-of-type {\n",
       "        vertical-align: middle;\n",
       "    }\n",
       "\n",
       "    .dataframe tbody tr th {\n",
       "        vertical-align: top;\n",
       "    }\n",
       "\n",
       "    .dataframe thead th {\n",
       "        text-align: right;\n",
       "    }\n",
       "</style>\n",
       "<table border=\"1\" class=\"dataframe\">\n",
       "  <thead>\n",
       "    <tr style=\"text-align: right;\">\n",
       "      <th></th>\n",
       "      <th>a</th>\n",
       "    </tr>\n",
       "  </thead>\n",
       "  <tbody>\n",
       "    <tr>\n",
       "      <th>0</th>\n",
       "      <td>1.0</td>\n",
       "    </tr>\n",
       "    <tr>\n",
       "      <th>1</th>\n",
       "      <td>NaN</td>\n",
       "    </tr>\n",
       "    <tr>\n",
       "      <th>2</th>\n",
       "      <td>NaN</td>\n",
       "    </tr>\n",
       "  </tbody>\n",
       "</table>\n",
       "</div>"
      ],
      "text/plain": [
       "     a\n",
       "0  1.0\n",
       "1  NaN\n",
       "2  NaN"
      ]
     },
     "execution_count": 8,
     "metadata": {},
     "output_type": "execute_result"
    }
   ],
   "source": [
    "df"
   ]
  },
  {
   "cell_type": "code",
   "execution_count": 5,
   "id": "c441d617",
   "metadata": {},
   "outputs": [],
   "source": [
    "df1=pd.DataFrame(b,columns=['a'])"
   ]
  },
  {
   "cell_type": "code",
   "execution_count": 7,
   "id": "0f7f6036",
   "metadata": {},
   "outputs": [
    {
     "data": {
      "text/html": [
       "<div>\n",
       "<style scoped>\n",
       "    .dataframe tbody tr th:only-of-type {\n",
       "        vertical-align: middle;\n",
       "    }\n",
       "\n",
       "    .dataframe tbody tr th {\n",
       "        vertical-align: top;\n",
       "    }\n",
       "\n",
       "    .dataframe thead th {\n",
       "        text-align: right;\n",
       "    }\n",
       "</style>\n",
       "<table border=\"1\" class=\"dataframe\">\n",
       "  <thead>\n",
       "    <tr style=\"text-align: right;\">\n",
       "      <th></th>\n",
       "      <th>a</th>\n",
       "    </tr>\n",
       "  </thead>\n",
       "  <tbody>\n",
       "    <tr>\n",
       "      <th>0</th>\n",
       "      <td>1.0</td>\n",
       "    </tr>\n",
       "    <tr>\n",
       "      <th>1</th>\n",
       "      <td>1.0</td>\n",
       "    </tr>\n",
       "    <tr>\n",
       "      <th>2</th>\n",
       "      <td>NaN</td>\n",
       "    </tr>\n",
       "  </tbody>\n",
       "</table>\n",
       "</div>"
      ],
      "text/plain": [
       "     a\n",
       "0  1.0\n",
       "1  1.0\n",
       "2  NaN"
      ]
     },
     "execution_count": 7,
     "metadata": {},
     "output_type": "execute_result"
    }
   ],
   "source": [
    "df1"
   ]
  },
  {
   "cell_type": "code",
   "execution_count": 15,
   "id": "f41450c2",
   "metadata": {},
   "outputs": [
    {
     "data": {
      "text/html": [
       "<div>\n",
       "<style scoped>\n",
       "    .dataframe tbody tr th:only-of-type {\n",
       "        vertical-align: middle;\n",
       "    }\n",
       "\n",
       "    .dataframe tbody tr th {\n",
       "        vertical-align: top;\n",
       "    }\n",
       "\n",
       "    .dataframe thead th {\n",
       "        text-align: right;\n",
       "    }\n",
       "</style>\n",
       "<table border=\"1\" class=\"dataframe\">\n",
       "  <thead>\n",
       "    <tr style=\"text-align: right;\">\n",
       "      <th></th>\n",
       "      <th>a</th>\n",
       "    </tr>\n",
       "  </thead>\n",
       "  <tbody>\n",
       "    <tr>\n",
       "      <th>0</th>\n",
       "      <td>1.0</td>\n",
       "    </tr>\n",
       "    <tr>\n",
       "      <th>1</th>\n",
       "      <td>1.0</td>\n",
       "    </tr>\n",
       "    <tr>\n",
       "      <th>2</th>\n",
       "      <td>NaN</td>\n",
       "    </tr>\n",
       "    <tr>\n",
       "      <th>3</th>\n",
       "      <td>NaN</td>\n",
       "    </tr>\n",
       "  </tbody>\n",
       "</table>\n",
       "</div>"
      ],
      "text/plain": [
       "     a\n",
       "0  1.0\n",
       "1  1.0\n",
       "2  NaN\n",
       "3  NaN"
      ]
     },
     "execution_count": 15,
     "metadata": {},
     "output_type": "execute_result"
    }
   ],
   "source": [
    "df2=pd.merge(df,df1,on='a',how='outer')\n",
    "df2"
   ]
  },
  {
   "cell_type": "code",
   "execution_count": 7,
   "id": "048c56ea",
   "metadata": {},
   "outputs": [
    {
     "name": "stdout",
     "output_type": "stream",
     "text": [
      "abcd\n",
      "bacd\n",
      "cbad\n",
      "dbca\n",
      "bacd\n",
      "abcd\n",
      "acbd\n",
      "adcb\n",
      "cbad\n",
      "acbd\n",
      "abcd\n",
      "abdc\n",
      "dbca\n",
      "adcb\n",
      "abdc\n",
      "abcd\n"
     ]
    }
   ],
   "source": [
    "a='abcd'\n",
    "b=list(a)\n",
    "\n",
    "for i in range(len(a)):\n",
    "    for j in range(len(a)):\n",
    "        b[i],b[j]=b[j],b[i]\n",
    "        print(''.join(b))\n",
    "        b=list(a)"
   ]
  },
  {
   "cell_type": "code",
   "execution_count": null,
   "id": "1b73b45e",
   "metadata": {},
   "outputs": [],
   "source": []
  },
  {
   "cell_type": "code",
   "execution_count": null,
   "id": "197f7c4d",
   "metadata": {},
   "outputs": [],
   "source": []
  },
  {
   "cell_type": "code",
   "execution_count": null,
   "id": "ebbe4baa",
   "metadata": {},
   "outputs": [],
   "source": []
  },
  {
   "cell_type": "code",
   "execution_count": null,
   "id": "93fca649",
   "metadata": {},
   "outputs": [],
   "source": []
  },
  {
   "cell_type": "code",
   "execution_count": null,
   "id": "7108c731",
   "metadata": {},
   "outputs": [],
   "source": []
  },
  {
   "cell_type": "code",
   "execution_count": 1,
   "id": "60ef1ed9",
   "metadata": {},
   "outputs": [
    {
     "name": "stdout",
     "output_type": "stream",
     "text": [
      "Note: you may need to restart the kernel to use updated packages.\n"
     ]
    },
    {
     "name": "stderr",
     "output_type": "stream",
     "text": [
      "ERROR: Could not find a version that satisfies the requirement urllib2 (from versions: none)\n",
      "ERROR: No matching distribution found for urllib2\n",
      "\n",
      "[notice] A new release of pip is available: 23.3.1 -> 24.0\n",
      "[notice] To update, run: python.exe -m pip install --upgrade pip\n"
     ]
    }
   ],
   "source": [
    "pip install urllib2"
   ]
  },
  {
   "cell_type": "code",
   "execution_count": 7,
   "id": "93041d82",
   "metadata": {},
   "outputs": [],
   "source": [
    "import concurrent.futures\n",
    "import requests\n",
    "\n",
    "def fetch_url(url):\n",
    "    try:\n",
    "        response = requests.get(url)\n",
    "        response.raise_for_status()  # Raise an exception for bad status codes\n",
    "        return url, response.text\n",
    "    except Exception as e:\n",
    "        return url, str(e)\n",
    "\n",
    "def main():\n",
    "    urls = [\"http://www.google.com\", \"http://www.apple.com\", \"http://www.microsoft.com\", \"http://www.amazon.com\", \"http://www.facebook.com\"]\n",
    "\n",
    "    with concurrent.futures.ThreadPoolExecutor() as executor:\n",
    " \n",
    "        futures = [executor.submit(fetch_url, url) for url in urls]\n",
    "\n",
    "        # Wait for all futures to complete\n",
    "        concurrent.futures.wait(futures)\n",
    "        for future in futures:\n",
    "            url, data = future.result()\n",
    "            filename = f\"{url.split('//')[1].replace('/', '_')}.txt\"\n",
    "            with open(filename, \"w\", encoding=\"utf-8\") as file:\n",
    "                file.write(f\"URL: {url}\\n\")\n",
    "                file.write(f\"Data: {data}\\n\\n\")\n",
    "\n",
    "if __name__ == \"__main__\":\n",
    "    main()\n"
   ]
  },
  {
   "cell_type": "code",
   "execution_count": 6,
   "id": "eae31a57",
   "metadata": {},
   "outputs": [
    {
     "name": "stdout",
     "output_type": "stream",
     "text": [
      "Saved to www_microsoft_com.txt\n",
      "Saved to www_google_com.txt\n",
      "Error fetching http://www.amazon.com: 503 Server Error: Service Unavailable for url: https://www.amazon.com/\n",
      "Saved to www_facebook_com.txt\n",
      "Saved to www_apple_com.txt\n"
     ]
    }
   ],
   "source": [
    "import concurrent.futures\n",
    "import requests\n",
    "from urllib.parse import urlparse\n",
    "\n",
    "def fetch_and_save(url):\n",
    "    try:\n",
    "        response = requests.get(url)\n",
    "        response.raise_for_status()  \n",
    "        data = response.text\n",
    "        save_to_file(url, data)\n",
    "    except Exception as e:\n",
    "        print(f\"Error fetching {url}: {str(e)}\")\n",
    "\n",
    "def save_to_file(url, data):\n",
    "    filename = urlparse(url).netloc.replace('.', '_') + \".txt\"\n",
    "    with open(filename, \"w\", encoding=\"utf-8\") as file:\n",
    "        file.write(f\"Data: {data}\\n\\n\")\n",
    "    print(f\"Saved to {filename}\")\n",
    "\n",
    "def main():\n",
    "    urls = [\"http://www.google.com\", \"http://www.apple.com\", \"http://www.microsoft.com\", \"http://www.amazon.com\", \"http://www.facebook.com\"]\n",
    "\n",
    "    with concurrent.futures.ThreadPoolExecutor() as executor:\n",
    "        executor.map(fetch_and_save, urls)\n",
    "\n",
    "if __name__ == \"__main__\":\n",
    "    main()\n"
   ]
  },
  {
   "cell_type": "code",
   "execution_count": null,
   "id": "ce76869b",
   "metadata": {},
   "outputs": [],
   "source": []
  },
  {
   "cell_type": "code",
   "execution_count": null,
   "id": "5a84482e",
   "metadata": {},
   "outputs": [],
   "source": []
  },
  {
   "cell_type": "code",
   "execution_count": null,
   "id": "507a953f",
   "metadata": {},
   "outputs": [],
   "source": []
  },
  {
   "cell_type": "code",
   "execution_count": null,
   "id": "4850e501",
   "metadata": {},
   "outputs": [],
   "source": []
  },
  {
   "cell_type": "code",
   "execution_count": null,
   "id": "cb19f1b9",
   "metadata": {},
   "outputs": [],
   "source": []
  },
  {
   "cell_type": "code",
   "execution_count": null,
   "id": "20276dcb",
   "metadata": {},
   "outputs": [],
   "source": []
  },
  {
   "cell_type": "code",
   "execution_count": null,
   "id": "986b0d06",
   "metadata": {},
   "outputs": [],
   "source": []
  },
  {
   "cell_type": "code",
   "execution_count": null,
   "id": "db739da4",
   "metadata": {},
   "outputs": [],
   "source": []
  },
  {
   "cell_type": "code",
   "execution_count": null,
   "id": "ae6c3e1b",
   "metadata": {},
   "outputs": [],
   "source": []
  },
  {
   "cell_type": "code",
   "execution_count": 1,
   "id": "961cfbfa",
   "metadata": {},
   "outputs": [
    {
     "ename": "FileNotFoundError",
     "evalue": "[Errno 2] No such file or directory: 'C:\\\\Users\\\\admin\\\\Desktop\\\\p.txt'",
     "output_type": "error",
     "traceback": [
      "\u001b[1;31m---------------------------------------------------------------------------\u001b[0m",
      "\u001b[1;31mFileNotFoundError\u001b[0m                         Traceback (most recent call last)",
      "Cell \u001b[1;32mIn [1], line 1\u001b[0m\n\u001b[1;32m----> 1\u001b[0m \u001b[38;5;28;01mwith\u001b[39;00m \u001b[38;5;28;43mopen\u001b[39;49m\u001b[43m(\u001b[49m\u001b[38;5;124;43mr\u001b[39;49m\u001b[38;5;124;43m'\u001b[39;49m\u001b[38;5;124;43mC:\u001b[39;49m\u001b[38;5;124;43m\\\u001b[39;49m\u001b[38;5;124;43mUsers\u001b[39;49m\u001b[38;5;124;43m\\\u001b[39;49m\u001b[38;5;124;43madmin\u001b[39;49m\u001b[38;5;124;43m\\\u001b[39;49m\u001b[38;5;124;43mDesktop\u001b[39;49m\u001b[38;5;124;43m\\\u001b[39;49m\u001b[38;5;124;43mp.txt\u001b[39;49m\u001b[38;5;124;43m'\u001b[39;49m\u001b[43m,\u001b[49m\u001b[38;5;124;43m'\u001b[39;49m\u001b[38;5;124;43mr\u001b[39;49m\u001b[38;5;124;43m'\u001b[39;49m\u001b[43m)\u001b[49m \u001b[38;5;28;01mas\u001b[39;00m fp:\n\u001b[0;32m      2\u001b[0m     data\u001b[38;5;241m=\u001b[39mfp\u001b[38;5;241m.\u001b[39mreadlines()\n\u001b[0;32m      3\u001b[0m     \u001b[38;5;28;01mfor\u001b[39;00m i \u001b[38;5;129;01min\u001b[39;00m data:\n",
      "File \u001b[1;32m~\\miniconda3\\lib\\site-packages\\IPython\\core\\interactiveshell.py:282\u001b[0m, in \u001b[0;36m_modified_open\u001b[1;34m(file, *args, **kwargs)\u001b[0m\n\u001b[0;32m    275\u001b[0m \u001b[38;5;28;01mif\u001b[39;00m file \u001b[38;5;129;01min\u001b[39;00m {\u001b[38;5;241m0\u001b[39m, \u001b[38;5;241m1\u001b[39m, \u001b[38;5;241m2\u001b[39m}:\n\u001b[0;32m    276\u001b[0m     \u001b[38;5;28;01mraise\u001b[39;00m \u001b[38;5;167;01mValueError\u001b[39;00m(\n\u001b[0;32m    277\u001b[0m         \u001b[38;5;124mf\u001b[39m\u001b[38;5;124m\"\u001b[39m\u001b[38;5;124mIPython won\u001b[39m\u001b[38;5;124m'\u001b[39m\u001b[38;5;124mt let you open fd=\u001b[39m\u001b[38;5;132;01m{\u001b[39;00mfile\u001b[38;5;132;01m}\u001b[39;00m\u001b[38;5;124m by default \u001b[39m\u001b[38;5;124m\"\u001b[39m\n\u001b[0;32m    278\u001b[0m         \u001b[38;5;124m\"\u001b[39m\u001b[38;5;124mas it is likely to crash IPython. If you know what you are doing, \u001b[39m\u001b[38;5;124m\"\u001b[39m\n\u001b[0;32m    279\u001b[0m         \u001b[38;5;124m\"\u001b[39m\u001b[38;5;124myou can use builtins\u001b[39m\u001b[38;5;124m'\u001b[39m\u001b[38;5;124m open.\u001b[39m\u001b[38;5;124m\"\u001b[39m\n\u001b[0;32m    280\u001b[0m     )\n\u001b[1;32m--> 282\u001b[0m \u001b[38;5;28;01mreturn\u001b[39;00m io_open(file, \u001b[38;5;241m*\u001b[39margs, \u001b[38;5;241m*\u001b[39m\u001b[38;5;241m*\u001b[39mkwargs)\n",
      "\u001b[1;31mFileNotFoundError\u001b[0m: [Errno 2] No such file or directory: 'C:\\\\Users\\\\admin\\\\Desktop\\\\p.txt'"
     ]
    }
   ],
   "source": [
    "with open(r'C:\\Users\\admin\\Desktop\\p.txt','r') as fp:\n",
    "    data=fp.readlines()\n",
    "    for i in data:\n",
    "        for j in i.split(' '):\n",
    "            if j.isnumeric()==True:\n",
    "                print(int(j)**2)"
   ]
  },
  {
   "cell_type": "code",
   "execution_count": null,
   "id": "18a272de",
   "metadata": {},
   "outputs": [],
   "source": [
    "b=''"
   ]
  },
  {
   "cell_type": "code",
   "execution_count": null,
   "id": "3bfc3de5",
   "metadata": {},
   "outputs": [],
   "source": [
    "b=b+i"
   ]
  },
  {
   "cell_type": "code",
   "execution_count": 5,
   "id": "87687c6b",
   "metadata": {},
   "outputs": [
    {
     "name": "stdout",
     "output_type": "stream",
     "text": [
      "1\n",
      "2\n",
      "3\n",
      "4\n"
     ]
    }
   ],
   "source": [
    "for i in range(1,5):\n",
    "    print(i)"
   ]
  },
  {
   "cell_type": "code",
   "execution_count": null,
   "id": "766d7318",
   "metadata": {},
   "outputs": [],
   "source": []
  },
  {
   "cell_type": "code",
   "execution_count": null,
   "id": "e68d464f",
   "metadata": {},
   "outputs": [],
   "source": []
  },
  {
   "cell_type": "code",
   "execution_count": null,
   "id": "b880d6e5",
   "metadata": {},
   "outputs": [],
   "source": []
  },
  {
   "cell_type": "code",
   "execution_count": 164,
   "id": "162ca684",
   "metadata": {},
   "outputs": [],
   "source": [
    "S = [\n",
    "       { \"id\": \"64532daafd03bd0473237649\", \"school\":\n",
    "\"PLASMOX\",\"studentName\":\"XYZ\", \"rollNo\": 3},\n",
    "       { \"id\": \"64532daafd03bd0473237650\", \"school\": \"MOXUD\",\"studentName\":\"ABC\", \"rollNo\": 32},\n",
    "       { \"id\": \"64532daafd03bd0473237660\", \"school\": \"PLASMOX\",\"studentName\":\"UNZ\", \"rollNo\": 7},\n",
    "       { \"id\": \"64532daafd03bd0445667660\", \"school\": \"MOXUD\",\"studentName\":\"TUZ\", \"rollNo\": 1}\n",
    "   ]\n",
    "\n",
    "T = [\n",
    "       { \"id\": \"64532daafd03bd0473237649\", \"school\": \"PLASMOX\",\"studentName\":\"XYZ\"},          # I2-1    # I3-2  # I1-1\n",
    "       { \"id\": \"64532daafd03bd0473237650\", \"school\": \"MOXUD\",\"studentName\":\"ABC\", \"rollNo\": \"\"},\n",
    "       { \"id\": \"64532daafd03bd0473237660\", \"school\": \"PLASMOX\",\"studentName\":\"GHX\", \"rollNo\": 7},\n",
    "   ]\n",
    "\n",
    "\n"
   ]
  },
  {
   "cell_type": "code",
   "execution_count": 165,
   "id": "9bde8626",
   "metadata": {},
   "outputs": [
    {
     "name": "stdout",
     "output_type": "stream",
     "text": [
      "I1 inconsistancy\n",
      "1   Number of insert operations required\n",
      "I3 inconsistancy and we require 2 update\n",
      "I2 inconsistancy and we require 1 add key\n"
     ]
    }
   ],
   "source": [
    "if len(S)-len(T)!=0:\n",
    "    print('I1 inconsistancy')\n",
    "    print(len(S)-len(T),\" \",'Number of insert operations required')\n",
    "\n",
    "Update_count=0\n",
    "No_key=0\n",
    "for i in S:    \n",
    "    for j in T:\n",
    "        if i['id']==j['id']: \n",
    "            if 'school' not in j:\n",
    "                No_key+=1\n",
    "            elif \"studentName\" not in j:\n",
    "                No_key+=1\n",
    "            elif \"rollNo\" not in j:\n",
    "                No_key+=1\n",
    "                \n",
    "            else:\n",
    "                if i['school']!=j['school']:\n",
    "                    Update_count+=1\n",
    "                elif i['studentName']!=j['studentName']:\n",
    "                    Update_count+=1\n",
    "                elif i['rollNo']!=j['rollNo']:\n",
    "                    Update_count+=1\n",
    "            \n",
    "\n",
    "if Update_count!=0:\n",
    "    print(f'I3 inconsistancy and we require {Update_count} update')\n",
    "if No_key!=0:\n",
    "    print('I2 inconsistancy', 'and we require',No_key,'add key')\n",
    "    \n",
    "    \n",
    "    \n",
    "    "
   ]
  },
  {
   "cell_type": "code",
   "execution_count": 166,
   "id": "730d3688",
   "metadata": {},
   "outputs": [
    {
     "name": "stdout",
     "output_type": "stream",
     "text": [
      "I1 inconsistancy and 1  Number of insert operations required\n",
      "I2 inconsistancy and we require 1 add key\n",
      "I3 inconsistancy and we require 2 update\n"
     ]
    }
   ],
   "source": [
    "if len(S)-len(T)!=0:\n",
    "    print(f'I1 inconsistancy and {len(S)-len(T)}  Number of insert operations required')\n",
    "\n",
    "keys=S[0].keys()\n",
    "Update_count=0\n",
    "No_key=0\n",
    "for i in S:    \n",
    "    for j in T:\n",
    "        if i['id']==j['id']: \n",
    "            for p in keys:\n",
    "                if p not in j:\n",
    "                    No_key+=1            \n",
    "                else:\n",
    "                    if i[p]!=j[p]:\n",
    "                        Update_count+=1   \n",
    "if No_key!=0:\n",
    "    print(f'I2 inconsistancy and we require {No_key} add key')\n",
    "if Update_count!=0:\n",
    "    print(f'I3 inconsistancy and we require {Update_count} update')\n"
   ]
  },
  {
   "cell_type": "code",
   "execution_count": null,
   "id": "27e465dd",
   "metadata": {},
   "outputs": [],
   "source": []
  },
  {
   "cell_type": "code",
   "execution_count": 167,
   "id": "a1fee4ec",
   "metadata": {},
   "outputs": [],
   "source": [
    "a=['198.22.1.1' , '222.1.1.1']"
   ]
  },
  {
   "cell_type": "code",
   "execution_count": null,
   "id": "bbafc153",
   "metadata": {},
   "outputs": [],
   "source": [
    "a=['198.22.1.1' , '222.1.1.1']\n",
    "p=input()\n",
    "b=a[0].split('.')\n",
    "d=a[1].split('.')\n",
    "c=p.split('.')\n",
    "\n",
    "if c[0]>b[0] and c[0]<d[0]:\n",
    "    print('valid')\n",
    "elif c[0]==b[0]:\n",
    "    if c[1]>=b[1] and b[2]=='1' and b[3]=='1' :\n",
    "        print('valid')\n",
    "    else:\n",
    "        print('invalid')\n",
    "elif c[0]==d[0]:\n",
    "    if c[1]<d[1]:  #    and c[2]<='1' and c[3]<='1'  222.1.99.1\n",
    "        print('valid')\n",
    "    elif c[1]==d[1]:\n",
    "        if c[2]<d[2]:\n",
    "            print('valid')\n",
    "        elif c[2]==d[2]:\n",
    "            if c[3]<=d[3]:\n",
    "                print('valid')\n",
    "            else:\n",
    "                print('invalid')\n",
    "            \n",
    "        else:\n",
    "            print('invalid')\n",
    "            \n",
    "    \n",
    "    else:\n",
    "        print('invalid') \n",
    "        \n",
    "elif c[0]==b[0]:\n",
    "    if c[1]>b[1]:  #    and c[2]<='1' and c[3]<='1'  222.22.1.1\n",
    "        print('valid')\n",
    "    elif c[1]==b[1]:\n",
    "        if c[2]>b[2]:\n",
    "            print('valid')\n",
    "        elif c[2]==b[2]:\n",
    "            if c[3]>=b[3]:\n",
    "                print('valid')\n",
    "            else:\n",
    "                print('invalid')\n",
    "            \n",
    "        else:\n",
    "            print('invalid')\n",
    "            \n",
    "    \n",
    "    else:\n",
    "        print('invalid')                \n",
    "else:\n",
    "    \n",
    "    print('invalid')\n",
    "    \n",
    "        \n",
    "    "
   ]
  },
  {
   "cell_type": "code",
   "execution_count": null,
   "id": "4ed58f95",
   "metadata": {},
   "outputs": [],
   "source": []
  },
  {
   "cell_type": "code",
   "execution_count": null,
   "id": "c2de0100",
   "metadata": {},
   "outputs": [],
   "source": []
  },
  {
   "cell_type": "code",
   "execution_count": null,
   "id": "7c50eaaf",
   "metadata": {},
   "outputs": [],
   "source": []
  },
  {
   "cell_type": "code",
   "execution_count": null,
   "id": "d2609f83",
   "metadata": {},
   "outputs": [],
   "source": [
    "username = ['uddhav', 'shraddha', 'mohan', 'raj','yar','hmmm','chacha']\n",
    "password = ['6th', '2nd', '3rd']\n",
    "dict1 ={}\n",
    "#dict1 = dict.fromkeys(a)\n",
    "for i in range(0, len(username)):\n",
    "    if len(username) == len(password):\n",
    "        if username[i] not in dict1.keys():\n",
    "            dict1[username[i]] = password[i]\n",
    "\n",
    "    else:\n",
    "        password.extend('-'*(len(username)-len(password)))\n",
    "    for i in range(0, len(username)):\n",
    "                dict1[username[i]] = password[i]\n",
    "print(dict1)"
   ]
  },
  {
   "cell_type": "code",
   "execution_count": null,
   "id": "1b0b43f8",
   "metadata": {},
   "outputs": [],
   "source": [
    "for i in range(1,5):\n",
    "    for j in range(1,i+1):\n",
    "        if j==i:\n",
    "            print(j)\n",
    "        else:\n",
    "            print(j,end='')\n",
    "    \n",
    "    "
   ]
  },
  {
   "cell_type": "code",
   "execution_count": 2,
   "id": "c094f75a",
   "metadata": {},
   "outputs": [
    {
     "name": "stdout",
     "output_type": "stream",
     "text": [
      "          * \n",
      "         * * \n",
      "        * * * \n",
      "       * * * * \n",
      "      * * * * * \n",
      "     * * * * * * \n",
      "    * * * * * * * \n",
      "   * * * * * * * * \n",
      "  * * * * * * * * * \n",
      " * * * * * * * * * * \n"
     ]
    }
   ],
   "source": [
    "n=0\n",
    "while n<=5:\n",
    "    for i in range(1,11):\n",
    "        print(' '*(11-i)+'* '*i)\n",
    "        n+=1\n",
    "        \n",
    "    "
   ]
  },
  {
   "cell_type": "code",
   "execution_count": 9,
   "id": "29319ff9",
   "metadata": {},
   "outputs": [
    {
     "name": "stdout",
     "output_type": "stream",
     "text": [
      "\n",
      "    1   \n",
      "   1   2   \n",
      "  1   2   3   \n",
      " "
     ]
    }
   ],
   "source": [
    "for i in range(1,5):    \n",
    "    for j in range(1,i):\n",
    "        print(j,end=' ')\n",
    "    print()\n",
    "    \n",
    "    print(' '*(5-i),end='')"
   ]
  },
  {
   "cell_type": "code",
   "execution_count": null,
   "id": "d1820a2c",
   "metadata": {},
   "outputs": [],
   "source": [
    "\n",
    "    "
   ]
  },
  {
   "cell_type": "code",
   "execution_count": 5,
   "id": "74f8c228",
   "metadata": {},
   "outputs": [
    {
     "name": "stdout",
     "output_type": "stream",
     "text": [
      "          * \n",
      "         * * \n",
      "        * * * \n",
      "       * * * * \n",
      "      * * * * * \n",
      "     * * * * * * \n",
      "    * * * * * * * \n",
      "   * * * * * * * * \n",
      "  * * * * * * * * * \n",
      " * * * * * * * * * * \n"
     ]
    }
   ],
   "source": [
    "for i in range(1,11):\n",
    "    print(' '*(11-i)+'* '*i)"
   ]
  },
  {
   "cell_type": "code",
   "execution_count": null,
   "id": "bbf7224a",
   "metadata": {},
   "outputs": [],
   "source": []
  },
  {
   "cell_type": "code",
   "execution_count": 6,
   "id": "6fbd329f",
   "metadata": {},
   "outputs": [
    {
     "name": "stdout",
     "output_type": "stream",
     "text": [
      "6\n",
      "10 2 6\n"
     ]
    }
   ],
   "source": [
    "import numpy as np\n",
    "x=int(input())\n",
    "for i in range(1000):\n",
    "    a=np.random.randint(1,x*3)\n",
    "    b=np.random.randint(1,x*3)\n",
    "    c=np.random.randint(1,x*3)\n",
    "    if a!=b and b!=c and c!=a and (a+b+c)/3==x:\n",
    "        print(a,b,c)\n",
    "        break\n",
    "        "
   ]
  },
  {
   "cell_type": "code",
   "execution_count": null,
   "id": "f35f0bea",
   "metadata": {},
   "outputs": [
    {
     "name": "stdout",
     "output_type": "stream",
     "text": [
      "5\n",
      "5\n",
      "2 3 4 5 1 \n",
      "\n",
      "6\n",
      "2 3 4 5 6 1 \n",
      "\n",
      "7\n",
      "2 3 4 5 6 7 1 \n",
      "\n"
     ]
    }
   ],
   "source": [
    "from itertools import permutations\n",
    "for _ in range(int(input())):\n",
    "    n=int(input())\n",
    "    v=[i for i in range(1, 1+n)]\n",
    "    per=permutations(v)\n",
    "    c=[]\n",
    "    for i in per:\n",
    "\n",
    "        for j in i:\n",
    "            if j!=len(c)+1:\n",
    "                c.append(j)\n",
    "                if len(c)==len(i):\n",
    "                    for p in c:\n",
    "                        print(p, end=' ')\n",
    "                    print('\\n')\n",
    "\n",
    "                    break\n",
    "    \n",
    "            "
   ]
  },
  {
   "cell_type": "code",
   "execution_count": null,
   "id": "b38805cb",
   "metadata": {},
   "outputs": [],
   "source": [
    "from itertools import permutations\n",
    "for _ in range(int(input())):\n",
    "    n=int(input())\n",
    "    print(*list(range(2,n+1)),1)"
   ]
  },
  {
   "cell_type": "code",
   "execution_count": null,
   "id": "14a8df36",
   "metadata": {},
   "outputs": [],
   "source": [
    "for i in range(2,2+1):\n",
    "    print(i)"
   ]
  },
  {
   "cell_type": "code",
   "execution_count": null,
   "id": "0784e603",
   "metadata": {},
   "outputs": [],
   "source": []
  },
  {
   "cell_type": "code",
   "execution_count": 2,
   "id": "2a11c8b4",
   "metadata": {},
   "outputs": [
    {
     "ename": "NameError",
     "evalue": "name 'Output' is not defined",
     "output_type": "error",
     "traceback": [
      "\u001b[1;31m---------------------------------------------------------------------------\u001b[0m",
      "\u001b[1;31mNameError\u001b[0m                                 Traceback (most recent call last)",
      "Cell \u001b[1;32mIn [2], line 31\u001b[0m\n\u001b[0;32m     26\u001b[0m \u001b[38;5;66;03m# Output #1:\u001b[39;00m\n\u001b[0;32m     27\u001b[0m [[\u001b[38;5;124m'\u001b[39m\u001b[38;5;124mA\u001b[39m\u001b[38;5;124m'\u001b[39m,\u001b[38;5;241m4\u001b[39m], [\u001b[38;5;124m'\u001b[39m\u001b[38;5;124mB\u001b[39m\u001b[38;5;124m'\u001b[39m,\u001b[38;5;241m2\u001b[39m]]\n\u001b[1;32m---> 31\u001b[0m \u001b[43mOutput\u001b[49m \u001b[38;5;66;03m#2:\u001b[39;00m\n\u001b[0;32m     32\u001b[0m [[\u001b[38;5;124m'\u001b[39m\u001b[38;5;124mA\u001b[39m\u001b[38;5;124m'\u001b[39m,\u001b[38;5;124m'\u001b[39m\u001b[38;5;124mLaptop\u001b[39m\u001b[38;5;124m'\u001b[39m,\u001b[38;5;241m2\u001b[39m], [\u001b[38;5;124m'\u001b[39m\u001b[38;5;124mA\u001b[39m\u001b[38;5;124m'\u001b[39m, \u001b[38;5;124m'\u001b[39m\u001b[38;5;124mMouse\u001b[39m\u001b[38;5;124m'\u001b[39m,\u001b[38;5;241m1\u001b[39m], [\u001b[38;5;124m'\u001b[39m\u001b[38;5;124mA\u001b[39m\u001b[38;5;124m'\u001b[39m,\u001b[38;5;124m'\u001b[39m\u001b[38;5;124mHeadset\u001b[39m\u001b[38;5;124m'\u001b[39m,\u001b[38;5;241m1\u001b[39m], [\u001b[38;5;124m'\u001b[39m\u001b[38;5;124mB\u001b[39m\u001b[38;5;124m'\u001b[39m,\u001b[38;5;124m'\u001b[39m\u001b[38;5;124mLaptop\u001b[39m\u001b[38;5;124m'\u001b[39m,\u001b[38;5;241m1\u001b[39m], [\u001b[38;5;124m'\u001b[39m\u001b[38;5;124mB\u001b[39m\u001b[38;5;124m'\u001b[39m,\u001b[38;5;124m'\u001b[39m\u001b[38;5;124mHeadset\u001b[39m\u001b[38;5;124m'\u001b[39m,\u001b[38;5;241m1\u001b[39m]]\n\u001b[0;32m     36\u001b[0m Output \u001b[38;5;66;03m#3:\u001b[39;00m\n",
      "\u001b[1;31mNameError\u001b[0m: name 'Output' is not defined"
     ]
    }
   ],
   "source": [
    "a=[['A', 'Laptop'], ['A', 'Laptop'], ['A', 'Mouse'], ['B', 'Laptop'], ['A','Headset'], ['B','Headset'] ]\n",
    "\n",
    "\n",
    "out1=[]\n",
    "out2=[]\n",
    "out3=[]\n",
    "\n",
    "for i in a:\n",
    "    if i[0] not in out1 :\n",
    "        out1.append(i)\n",
    "        out1[0].append(1)\n",
    "    else:\n",
    "        for j in out1:\n",
    "            if i[0]==j:\n",
    "                pass\n",
    "        \n",
    "        \n",
    "#     else:\n",
    "#         if i[0]=='B':\n",
    "#             b1+=1\n",
    "# out1.append(['A',a1])\n",
    "# out1.append(['B',b1])\n",
    "# print(out1)\n",
    "# print(out2)\n",
    "a=[['A', 'Laptop'], ['A', 'Laptop'], ['A', 'Mouse'], ['B', 'Laptop'], ['A','Headset'], ['B','Headset'] ]\n",
    "# Output #1:\n",
    "[['A',4], ['B',2]]\n",
    "\n",
    " \n",
    "\n",
    "Output #2:\n",
    "[['A','Laptop',2], ['A', 'Mouse',1], ['A','Headset',1], ['B','Laptop',1], ['B','Headset',1]]\n",
    "\n",
    " \n",
    "\n",
    "Output #3:\n",
    "[['A','B',['Laptop','Headset']]]\n"
   ]
  },
  {
   "cell_type": "code",
   "execution_count": 3,
   "id": "edcad6e3",
   "metadata": {},
   "outputs": [
    {
     "data": {
      "text/plain": [
       "'j'"
      ]
     },
     "execution_count": 3,
     "metadata": {},
     "output_type": "execute_result"
    }
   ],
   "source": [
    "s='hjhghgg'\n",
    "s[1:2]"
   ]
  },
  {
   "cell_type": "code",
   "execution_count": 4,
   "id": "d34c69cd",
   "metadata": {},
   "outputs": [
    {
     "name": "stdout",
     "output_type": "stream",
     "text": [
      "mohn\n",
      "\n",
      "mo\n",
      "mohn\n",
      "mohn\n",
      "\n",
      "hn\n",
      "\n"
     ]
    }
   ],
   "source": [
    "def minion_game(string):\n",
    "    for i in string:\n",
    "        if i not in 'aeiou':\n",
    "            b=0\n",
    "            for j in range(string.index(i),len(string)):\n",
    "                print(string[string.index(i):j+b])\n",
    "                b+=1\n",
    "\n",
    "if __name__ == '__main__':\n",
    "    s = input()\n",
    "    minion_game(s)"
   ]
  },
  {
   "cell_type": "code",
   "execution_count": 8,
   "id": "aff4e2c5",
   "metadata": {},
   "outputs": [
    {
     "name": "stdout",
     "output_type": "stream",
     "text": [
      "\n",
      "1\t\n",
      "1\t2\t\n",
      "1\t2\t3\t\n",
      "1\t2\t3\t4\t\n",
      "1\t2\t3\t4\t5\t\n"
     ]
    }
   ],
   "source": [
    "n=7\n",
    "p=[]\n",
    "for i in range(1,n):\n",
    "    for j in range(1,i):\n",
    "        print(j,end='\\t')\n",
    "    print()\n"
   ]
  },
  {
   "cell_type": "code",
   "execution_count": 2,
   "id": "b6fd64ae",
   "metadata": {},
   "outputs": [
    {
     "name": "stdout",
     "output_type": "stream",
     "text": [
      "\n",
      "1\t\n",
      "1\t2\t\n",
      "1\t2\t3\t\n",
      "1\t2\t3\t4\t\n",
      "1\t2\t3\t4\t5\t\n"
     ]
    }
   ],
   "source": [
    "\n",
    "n=7\n",
    "for i in range(1,n):\n",
    "    for j in range(1,i):\n",
    "        print(j,end='\\t')\n",
    "    print()\n",
    "\n"
   ]
  },
  {
   "cell_type": "code",
   "execution_count": 3,
   "id": "8fefc865",
   "metadata": {},
   "outputs": [
    {
     "name": "stdout",
     "output_type": "stream",
     "text": [
      "\n",
      "1 \n",
      "1 2 \n",
      "1 2 3 \n",
      "1 2 3 4 \n",
      "1 2 3 4 5 \n"
     ]
    }
   ],
   "source": [
    "n=7\n",
    "for i in range(1,n):\n",
    "    for j in range(1,i):\n",
    "        print(j,end=' ')\n",
    "    print()"
   ]
  },
  {
   "cell_type": "code",
   "execution_count": 4,
   "id": "be8353e1",
   "metadata": {},
   "outputs": [
    {
     "name": "stdout",
     "output_type": "stream",
     "text": [
      "     \n",
      "\n",
      "    1 \n",
      "\n",
      "   2 2 \n",
      "\n",
      "  3 3 3 \n",
      "\n",
      " 4 4 4 4 \n",
      "\n"
     ]
    }
   ],
   "source": [
    "for i in range(0,5):\n",
    "    for k in range(1,6-i):\n",
    "        print(\" \",end=\"\")\n",
    "    for j in range(0,i):\n",
    "        print(i,end=' ')\n",
    "    print('\\n')\n"
   ]
  },
  {
   "cell_type": "code",
   "execution_count": 5,
   "id": "c0c81d29",
   "metadata": {},
   "outputs": [
    {
     "ename": "TypeError",
     "evalue": "unsupported operand type(s) for +: 'int' and 'NoneType'",
     "output_type": "error",
     "traceback": [
      "\u001b[1;31m---------------------------------------------------------------------------\u001b[0m",
      "\u001b[1;31mTypeError\u001b[0m                                 Traceback (most recent call last)",
      "Cell \u001b[1;32mIn [5], line 6\u001b[0m\n\u001b[0;32m      4\u001b[0m         d \u001b[38;5;241m=\u001b[39m \u001b[38;5;241m1\u001b[39m \u001b[38;5;241m+\u001b[39m recusion(k\u001b[38;5;241m-\u001b[39m\u001b[38;5;241m1\u001b[39m)\n\u001b[0;32m      5\u001b[0m         \u001b[38;5;28;01mreturn\u001b[39;00m d\n\u001b[1;32m----> 6\u001b[0m a\u001b[38;5;241m=\u001b[39m\u001b[43mrecusion\u001b[49m\u001b[43m(\u001b[49m\u001b[38;5;241;43m5\u001b[39;49m\u001b[43m)\u001b[49m\n\u001b[0;32m      7\u001b[0m \u001b[38;5;28mprint\u001b[39m(a)\n",
      "Cell \u001b[1;32mIn [5], line 4\u001b[0m, in \u001b[0;36mrecusion\u001b[1;34m(k)\u001b[0m\n\u001b[0;32m      2\u001b[0m d\u001b[38;5;241m=\u001b[39m\u001b[38;5;241m0\u001b[39m\n\u001b[0;32m      3\u001b[0m \u001b[38;5;28;01mif\u001b[39;00m k\u001b[38;5;241m>\u001b[39m\u001b[38;5;241m0\u001b[39m:\n\u001b[1;32m----> 4\u001b[0m     d \u001b[38;5;241m=\u001b[39m \u001b[38;5;241m1\u001b[39m \u001b[38;5;241m+\u001b[39m \u001b[43mrecusion\u001b[49m\u001b[43m(\u001b[49m\u001b[43mk\u001b[49m\u001b[38;5;241;43m-\u001b[39;49m\u001b[38;5;241;43m1\u001b[39;49m\u001b[43m)\u001b[49m\n\u001b[0;32m      5\u001b[0m     \u001b[38;5;28;01mreturn\u001b[39;00m d\n",
      "Cell \u001b[1;32mIn [5], line 4\u001b[0m, in \u001b[0;36mrecusion\u001b[1;34m(k)\u001b[0m\n\u001b[0;32m      2\u001b[0m d\u001b[38;5;241m=\u001b[39m\u001b[38;5;241m0\u001b[39m\n\u001b[0;32m      3\u001b[0m \u001b[38;5;28;01mif\u001b[39;00m k\u001b[38;5;241m>\u001b[39m\u001b[38;5;241m0\u001b[39m:\n\u001b[1;32m----> 4\u001b[0m     d \u001b[38;5;241m=\u001b[39m \u001b[38;5;241m1\u001b[39m \u001b[38;5;241m+\u001b[39m \u001b[43mrecusion\u001b[49m\u001b[43m(\u001b[49m\u001b[43mk\u001b[49m\u001b[38;5;241;43m-\u001b[39;49m\u001b[38;5;241;43m1\u001b[39;49m\u001b[43m)\u001b[49m\n\u001b[0;32m      5\u001b[0m     \u001b[38;5;28;01mreturn\u001b[39;00m d\n",
      "    \u001b[1;31m[... skipping similar frames: recusion at line 4 (2 times)]\u001b[0m\n",
      "Cell \u001b[1;32mIn [5], line 4\u001b[0m, in \u001b[0;36mrecusion\u001b[1;34m(k)\u001b[0m\n\u001b[0;32m      2\u001b[0m d\u001b[38;5;241m=\u001b[39m\u001b[38;5;241m0\u001b[39m\n\u001b[0;32m      3\u001b[0m \u001b[38;5;28;01mif\u001b[39;00m k\u001b[38;5;241m>\u001b[39m\u001b[38;5;241m0\u001b[39m:\n\u001b[1;32m----> 4\u001b[0m     d \u001b[38;5;241m=\u001b[39m \u001b[38;5;241;43m1\u001b[39;49m\u001b[43m \u001b[49m\u001b[38;5;241;43m+\u001b[39;49m\u001b[43m \u001b[49m\u001b[43mrecusion\u001b[49m\u001b[43m(\u001b[49m\u001b[43mk\u001b[49m\u001b[38;5;241;43m-\u001b[39;49m\u001b[38;5;241;43m1\u001b[39;49m\u001b[43m)\u001b[49m\n\u001b[0;32m      5\u001b[0m     \u001b[38;5;28;01mreturn\u001b[39;00m d\n",
      "\u001b[1;31mTypeError\u001b[0m: unsupported operand type(s) for +: 'int' and 'NoneType'"
     ]
    }
   ],
   "source": [
    "def recusion(k):\n",
    "    d=0\n",
    "    if k>0:\n",
    "        d = 1 + recusion(k-1)\n",
    "        return d\n",
    "a=recusion(5)\n",
    "print(a)"
   ]
  },
  {
   "cell_type": "code",
   "execution_count": 6,
   "id": "e424c905",
   "metadata": {},
   "outputs": [
    {
     "name": "stdout",
     "output_type": "stream",
     "text": [
      "area: abc\n",
      "others: 100\n",
      "area: abc\n",
      "balcony: 100\n"
     ]
    }
   ],
   "source": [
    "class flat:\n",
    "    def __init__(self,area):\n",
    "        self.area=area\n",
    "    def t1(self,others,area):\n",
    "        print('area:', self.area)\n",
    "\n",
    "        print('others:',others)\n",
    "    def t2(self, balcony,area):\n",
    "        print('area:', self.area)\n",
    "        print('balcony:', balcony)\n",
    "\n",
    "obj=flat('abc')\n",
    "obj.t1(100,200)\n",
    "obj.t2(100,200)"
   ]
  },
  {
   "cell_type": "code",
   "execution_count": null,
   "id": "bae920d9",
   "metadata": {},
   "outputs": [],
   "source": []
  },
  {
   "cell_type": "code",
   "execution_count": null,
   "id": "66e6d6e6",
   "metadata": {},
   "outputs": [],
   "source": []
  },
  {
   "cell_type": "code",
   "execution_count": null,
   "id": "a0bbb8d6",
   "metadata": {},
   "outputs": [],
   "source": [
    "a = [8,6,4,3,5,1,7,2]\n",
    "b = []\n",
    "\n",
    "while a:\n",
    "    min = a[0]\n",
    "    for i in a:\n",
    "        if i < min:\n",
    "            min = i\n",
    "    b.append(min)\n",
    "\n",
    "\n",
    "print(b)\n"
   ]
  },
  {
   "cell_type": "code",
   "execution_count": 1,
   "id": "52e99196",
   "metadata": {},
   "outputs": [
    {
     "data": {
      "text/plain": [
       "[1, 0, 1, 0, 1, 1, 1]"
      ]
     },
     "execution_count": 1,
     "metadata": {},
     "output_type": "execute_result"
    }
   ],
   "source": [
    "#************* Example Of List Comprehension   *******************\n",
    "a=[1,-2,3,-4,4,5,6]\n",
    "out_by_listcompre=[1 if X>=1  else 0 for X in a]\n",
    "out_by_listcompre"
   ]
  },
  {
   "cell_type": "code",
   "execution_count": 2,
   "id": "ab2c80c1",
   "metadata": {},
   "outputs": [
    {
     "name": "stdout",
     "output_type": "stream",
     "text": [
      "['556656']\n"
     ]
    }
   ],
   "source": [
    "p=['hgjgjjh','556656','jhghjhgfggk']\n",
    "c=list(filter(lambda x: x.isnumeric(),p))\n",
    "print(c)"
   ]
  },
  {
   "cell_type": "code",
   "execution_count": 2,
   "id": "96bdfb9e",
   "metadata": {},
   "outputs": [
    {
     "name": "stdout",
     "output_type": "stream",
     "text": [
      "[2, 4, 6, 8, 98, 54, 22, 56, 66, 66] [1, 3, 5, 767, 7, 343, 445, 77, 77]\n"
     ]
    }
   ],
   "source": [
    "a=[1,2,3,4,5,6,767,8,98,7,54,343,22,445,56,66,77,66,77]\n",
    "even=[]\n",
    "odd=[]\n",
    "[even.append(X) if X%2==0 else odd.append(X) for X in a]\n",
    "print(even,odd)\n"
   ]
  },
  {
   "cell_type": "code",
   "execution_count": null,
   "id": "2e394836",
   "metadata": {},
   "outputs": [],
   "source": []
  },
  {
   "cell_type": "code",
   "execution_count": 2,
   "id": "d46a5119",
   "metadata": {},
   "outputs": [],
   "source": [
    "a='kjjhHJHKG'"
   ]
  },
  {
   "cell_type": "code",
   "execution_count": 3,
   "id": "96020f0d",
   "metadata": {},
   "outputs": [
    {
     "data": {
      "text/plain": [
       "'kjjhhjhkg'"
      ]
     },
     "execution_count": 3,
     "metadata": {},
     "output_type": "execute_result"
    }
   ],
   "source": [
    "a.casefold()"
   ]
  },
  {
   "cell_type": "code",
   "execution_count": 4,
   "id": "f2a72594",
   "metadata": {},
   "outputs": [
    {
     "data": {
      "text/plain": [
       "b'kjjhHJHKG'"
      ]
     },
     "execution_count": 4,
     "metadata": {},
     "output_type": "execute_result"
    }
   ],
   "source": [
    "a.encode()"
   ]
  },
  {
   "cell_type": "code",
   "execution_count": 5,
   "id": "79673244",
   "metadata": {},
   "outputs": [],
   "source": [
    "a='kjjh\\tHJHKG'"
   ]
  },
  {
   "cell_type": "code",
   "execution_count": 6,
   "id": "3af7c882",
   "metadata": {},
   "outputs": [
    {
     "data": {
      "text/plain": [
       "'kjjh  HJHKG'"
      ]
     },
     "execution_count": 6,
     "metadata": {},
     "output_type": "execute_result"
    }
   ],
   "source": [
    "a.expandtabs(3)"
   ]
  },
  {
   "cell_type": "code",
   "execution_count": 7,
   "id": "b280a2d1",
   "metadata": {},
   "outputs": [],
   "source": [
    "b='hjkdhsk hkdjhfks hhdsj'"
   ]
  },
  {
   "cell_type": "code",
   "execution_count": 8,
   "id": "5eeb5e54",
   "metadata": {},
   "outputs": [],
   "source": [
    "c=b.replace(' ','\\t')"
   ]
  },
  {
   "cell_type": "code",
   "execution_count": 9,
   "id": "2ed554e7",
   "metadata": {},
   "outputs": [],
   "source": [
    "d=c.expandtabs(3)"
   ]
  },
  {
   "cell_type": "code",
   "execution_count": 10,
   "id": "96f6e1dd",
   "metadata": {},
   "outputs": [],
   "source": [
    "a=[332,5,77]"
   ]
  },
  {
   "cell_type": "code",
   "execution_count": 11,
   "id": "1c16a73d",
   "metadata": {},
   "outputs": [],
   "source": [
    "b=str(a)"
   ]
  },
  {
   "cell_type": "code",
   "execution_count": 5,
   "id": "326c1682",
   "metadata": {},
   "outputs": [
    {
     "data": {
      "text/plain": [
       "7"
      ]
     },
     "execution_count": 5,
     "metadata": {},
     "output_type": "execute_result"
    }
   ],
   "source": [
    "-13%10"
   ]
  },
  {
   "cell_type": "code",
   "execution_count": 12,
   "id": "e5155dca",
   "metadata": {},
   "outputs": [
    {
     "data": {
      "text/plain": [
       "'[332, 5, 77]'"
      ]
     },
     "execution_count": 12,
     "metadata": {},
     "output_type": "execute_result"
    }
   ],
   "source": [
    "b"
   ]
  },
  {
   "cell_type": "code",
   "execution_count": 13,
   "id": "d17b744a",
   "metadata": {},
   "outputs": [
    {
     "data": {
      "text/plain": [
       "'hjkdhsk\\thkdjhfks\\thhdsj'"
      ]
     },
     "execution_count": 13,
     "metadata": {},
     "output_type": "execute_result"
    }
   ],
   "source": [
    "c"
   ]
  },
  {
   "cell_type": "code",
   "execution_count": 14,
   "id": "19ba9101",
   "metadata": {},
   "outputs": [],
   "source": [
    "d='   ahyugjgf'"
   ]
  },
  {
   "cell_type": "code",
   "execution_count": 15,
   "id": "2b28bca7",
   "metadata": {},
   "outputs": [
    {
     "data": {
      "text/plain": [
       "'   ahyugjgf'"
      ]
     },
     "execution_count": 15,
     "metadata": {},
     "output_type": "execute_result"
    }
   ],
   "source": [
    "d.rstrip()"
   ]
  },
  {
   "cell_type": "code",
   "execution_count": 16,
   "id": "42d22bcd",
   "metadata": {},
   "outputs": [],
   "source": [
    "x=5"
   ]
  },
  {
   "cell_type": "code",
   "execution_count": 17,
   "id": "3988a456",
   "metadata": {},
   "outputs": [],
   "source": [
    "x=x & 2"
   ]
  },
  {
   "cell_type": "code",
   "execution_count": 18,
   "id": "af73d865",
   "metadata": {},
   "outputs": [
    {
     "data": {
      "text/plain": [
       "0"
      ]
     },
     "execution_count": 18,
     "metadata": {},
     "output_type": "execute_result"
    }
   ],
   "source": [
    "x"
   ]
  },
  {
   "cell_type": "code",
   "execution_count": 19,
   "id": "60a3e9ba",
   "metadata": {},
   "outputs": [],
   "source": [
    "x=10"
   ]
  },
  {
   "cell_type": "code",
   "execution_count": 20,
   "id": "aad1de39",
   "metadata": {},
   "outputs": [],
   "source": [
    "y= x & 2"
   ]
  },
  {
   "cell_type": "code",
   "execution_count": 21,
   "id": "cc97390f",
   "metadata": {},
   "outputs": [
    {
     "data": {
      "text/plain": [
       "2"
      ]
     },
     "execution_count": 21,
     "metadata": {},
     "output_type": "execute_result"
    }
   ],
   "source": [
    "y"
   ]
  },
  {
   "cell_type": "code",
   "execution_count": 22,
   "id": "13fde977",
   "metadata": {},
   "outputs": [],
   "source": [
    "y&=2"
   ]
  },
  {
   "cell_type": "code",
   "execution_count": 23,
   "id": "f112d788",
   "metadata": {},
   "outputs": [
    {
     "data": {
      "text/plain": [
       "2"
      ]
     },
     "execution_count": 23,
     "metadata": {},
     "output_type": "execute_result"
    }
   ],
   "source": [
    "y"
   ]
  },
  {
   "cell_type": "code",
   "execution_count": 24,
   "id": "d0d4f6f4",
   "metadata": {},
   "outputs": [
    {
     "ename": "SyntaxError",
     "evalue": "invalid syntax (3833039337.py, line 1)",
     "output_type": "error",
     "traceback": [
      "\u001b[1;36m  Cell \u001b[1;32mIn [24], line 1\u001b[1;36m\u001b[0m\n\u001b[1;33m    y&=\u001b[0m\n\u001b[1;37m       ^\u001b[0m\n\u001b[1;31mSyntaxError\u001b[0m\u001b[1;31m:\u001b[0m invalid syntax\n"
     ]
    }
   ],
   "source": [
    "y&="
   ]
  },
  {
   "cell_type": "code",
   "execution_count": 25,
   "id": "1d60889f",
   "metadata": {},
   "outputs": [
    {
     "data": {
      "text/plain": [
       "2"
      ]
     },
     "execution_count": 25,
     "metadata": {},
     "output_type": "execute_result"
    }
   ],
   "source": [
    "y"
   ]
  },
  {
   "cell_type": "code",
   "execution_count": null,
   "id": "7e12a3c1",
   "metadata": {},
   "outputs": [],
   "source": []
  },
  {
   "cell_type": "code",
   "execution_count": null,
   "id": "fe39b382",
   "metadata": {},
   "outputs": [],
   "source": []
  },
  {
   "cell_type": "code",
   "execution_count": 26,
   "id": "1b861bd8",
   "metadata": {},
   "outputs": [
    {
     "ename": "TypeError",
     "evalue": "'int' object is not subscriptable",
     "output_type": "error",
     "traceback": [
      "\u001b[1;31m---------------------------------------------------------------------------\u001b[0m",
      "\u001b[1;31mTypeError\u001b[0m                                 Traceback (most recent call last)",
      "Cell \u001b[1;32mIn [26], line 1\u001b[0m\n\u001b[1;32m----> 1\u001b[0m \u001b[43ma\u001b[49m\u001b[43m[\u001b[49m\u001b[38;5;241;43m1\u001b[39;49m\u001b[43m]\u001b[49m\u001b[43m[\u001b[49m\u001b[38;5;241;43m0\u001b[39;49m\u001b[43m]\u001b[49m\n",
      "\u001b[1;31mTypeError\u001b[0m: 'int' object is not subscriptable"
     ]
    }
   ],
   "source": [
    "a[1][0]"
   ]
  },
  {
   "cell_type": "code",
   "execution_count": 1,
   "id": "75826b1e",
   "metadata": {},
   "outputs": [],
   "source": [
    "a = [['Uddhav', 'Gaju', 'Yash'], ['Sangale', 'Nagpure', 'Shrivastav'], ['Pune', 'Nagpur', 'Mumbai']]"
   ]
  },
  {
   "cell_type": "code",
   "execution_count": 2,
   "id": "c8cf8320",
   "metadata": {},
   "outputs": [
    {
     "name": "stdout",
     "output_type": "stream",
     "text": [
      "['Uddhav', 'Sangale', 'Pune'] ['Gaju', 'Nagpure', 'Nagpur'] ['Yash', 'Shrivastav', 'Mumbai']\n"
     ]
    }
   ],
   "source": [
    "b=[]\n",
    "c=[]\n",
    "d=[]\n",
    "\n",
    "for i in a:\n",
    "    if type(i)==list:\n",
    "        b.append(i[0])\n",
    "        c.append(i[1])\n",
    "        d.append(i[2])\n",
    " \n",
    "print(b,c,d)"
   ]
  },
  {
   "cell_type": "code",
   "execution_count": 3,
   "id": "ba12b4b8",
   "metadata": {},
   "outputs": [
    {
     "data": {
      "text/plain": [
       "[['Uddhav', 'Sangale', 'Pune'],\n",
       " ['Gaju', 'Nagpure', 'Nagpur'],\n",
       " ['Yash', 'Shrivastav', 'Mumbai'],\n",
       " ['Sagar', 'Hole', 'Nagar']]"
      ]
     },
     "execution_count": 3,
     "metadata": {},
     "output_type": "execute_result"
    }
   ],
   "source": [
    "a = [['Uddhav', 'Gaju', 'Yash', 'Sagar'], ['Sangale', 'Nagpure', 'Shrivastav', 'Hole'], ['Pune', 'Nagpur', 'Mumbai', 'Nagar']]\n",
    "final_list = []\n",
    "for i in range(len(a[0])):\n",
    "    b=[]\n",
    "    for j in a:\n",
    "        b.append(j[i])\n",
    "    final_list.append(b) \n",
    "final_list"
   ]
  },
  {
   "cell_type": "code",
   "execution_count": null,
   "id": "b7be7889",
   "metadata": {},
   "outputs": [],
   "source": []
  },
  {
   "cell_type": "code",
   "execution_count": 27,
   "id": "246058e1",
   "metadata": {},
   "outputs": [],
   "source": [
    "a = ['hgfhffhj kjhuy tret oipo esfs','abc def ghij klmno pqrstuv wxyz', 'hgfghdhdhdutsaerfs', 'jtfrstrdythtchg jytuyt hjygyt']"
   ]
  },
  {
   "cell_type": "code",
   "execution_count": 28,
   "id": "9c21d76e",
   "metadata": {},
   "outputs": [
    {
     "name": "stdout",
     "output_type": "stream",
     "text": [
      "hgfhffhj kjhuy treT oipo esfs : not a panagram\n",
      "abc def ghij klmno pqrstuv wxyZz : is panagram\n",
      "hgfghdhdhdutsaerfs : not a panagram\n",
      "jtfrstrdythtchg jytuyt hjygyt : not a panagram\n",
      "abcdefghijklmnopqrstuvwxyz : is panagram\n"
     ]
    }
   ],
   "source": [
    "a = ['hgfhffhj kjhuy treT oipo esfs','abc def ghij klmno pqrstuv wxyZz', 'hgfghdhdhdutsaerfs', 'jtfrstrdythtchg jytuyt hjygyt','abcdefghijklmnopqrstuvwxyz']\n",
    "b=[]\n",
    "c=[]\n",
    "for i in range(97,122+1):\n",
    "    b.append(chr(i))\n",
    "\n",
    "for j in range(65,91):\n",
    "    c.append(chr(j))\n",
    "\n",
    "for k in a:\n",
    "    p={0,}\n",
    "    for l in k:\n",
    "        if l in b or l in c:\n",
    "            p.add(l.lower())\n",
    "    \n",
    "    if (len(p)-1)==26:\n",
    "        print(k,': is panagram')\n",
    "    else:\n",
    "        print(k,': not a panagram')\n",
    "    \n",
    "\n",
    "        \n",
    "    "
   ]
  },
  {
   "cell_type": "code",
   "execution_count": 4,
   "id": "7fbdf273",
   "metadata": {},
   "outputs": [
    {
     "name": "stdout",
     "output_type": "stream",
     "text": [
      "{0, ' ', 'u', 'i', 'o', 'y', 'k', 'p', 'g', 'r', 's', 'j', 'e', 'h', 't', 'f'} : not a panagram\n"
     ]
    }
   ],
   "source": [
    "a = ['hgfhffhj kjhuy tret oipo esfs','abc def ghij klmno pqrstuv wxyz', 'hgfghdhdhdutsaerfs', 'jtfrstrdythtchg jytuyt hjygyt','abcdefghjklmnopqrstuvwxyz']\n",
    "\n",
    "for i in a:\n",
    "    p={0,}\n",
    "    for j in i:\n",
    "        p.add(j)\n",
    "    if (len(p)-1)==26:\n",
    "        print(p,': is panagram')\n",
    "    else:\n",
    "        print(p,': not a panagram')\n",
    "    break\n",
    "    "
   ]
  },
  {
   "cell_type": "code",
   "execution_count": 30,
   "id": "0c086ace",
   "metadata": {},
   "outputs": [
    {
     "data": {
      "text/plain": [
       "2"
      ]
     },
     "execution_count": 30,
     "metadata": {},
     "output_type": "execute_result"
    }
   ],
   "source": [
    "p={22,44}\n",
    "len(p)"
   ]
  },
  {
   "cell_type": "code",
   "execution_count": 31,
   "id": "7498c53f",
   "metadata": {},
   "outputs": [
    {
     "name": "stdout",
     "output_type": "stream",
     "text": [
      "abc def ghij klmno pqrstuv wxyz is a panagram\n",
      "abcdefghjklmnopqrstuvwxyz is a panagram\n"
     ]
    }
   ],
   "source": [
    "final = []\n",
    "b = {0, }\n",
    "for i in a: \n",
    "    for j in i:\n",
    "        b.add(j)\n",
    "        if b not in final:\n",
    "            if len(b)== 27:\n",
    "                final.append(b)\n",
    "                print(i, 'is a panagram')\n",
    "                b = {0, }"
   ]
  },
  {
   "cell_type": "code",
   "execution_count": 32,
   "id": "3b2edd7e",
   "metadata": {},
   "outputs": [],
   "source": [
    "a = ['hgfhffhj kjhuy tret oipo esfs','abc def ghij klmno pqrstuv wxyz', 'hgfghdhdhdutsaerfs', 'jtfrstrdythtchg jytuyt hjygyt','abcdefghijklmnopqrstuvwxyz','zyxwvuabcdefghijklmnopqrst']"
   ]
  },
  {
   "cell_type": "code",
   "execution_count": 33,
   "id": "d77ccb87",
   "metadata": {},
   "outputs": [
    {
     "name": "stdout",
     "output_type": "stream",
     "text": [
      "hgfhffhj kjhuy tret oipo esfs : not a panagram\n",
      "abc def ghij klmno pqrstuv wxyz : is panagram\n",
      "hgfghdhdhdutsaerfs : not a panagram\n",
      "jtfrstrdythtchg jytuyt hjygyt : not a panagram\n",
      "abcdefghijklmnopqrstuvwxyz : is panagram\n",
      "zyxwvuabcdefghijklmnopqrst : is panagram\n"
     ]
    }
   ],
   "source": [
    "for i in a:\n",
    "    p={0,}\n",
    "    for j in i.replace(' ',''):\n",
    "        p.add(j)\n",
    "    \n",
    "    \n",
    "    if (len(p)-1)==26:\n",
    "        print(i,': is panagram')\n",
    "    else:\n",
    "        print(i,': not a panagram')\n",
    "        \n",
    "    \n",
    "    \n",
    "    \n",
    "    \n",
    "    \n",
    "        "
   ]
  },
  {
   "cell_type": "code",
   "execution_count": 34,
   "id": "67ab4968",
   "metadata": {},
   "outputs": [
    {
     "name": "stdout",
     "output_type": "stream",
     "text": [
      "hgfhffhj kjhuy tret oipo esfs : not a panagram\n",
      "abc def ghij klmno pqrstuv wxyz : is panagram\n",
      "hgfghdhdhdutsaerfs : not a panagram\n",
      "jtfrstrdythtchg jytuyt hjygyt : not a panagram\n",
      "abcdefghijklmnopqrstuvwxyz : is panagram\n",
      "zyxwvuabcdefghijklmnopqrst : is panagram\n"
     ]
    }
   ],
   "source": [
    "for i in a:\n",
    "    p={0,}\n",
    "    for j in i.replace(' ',''):\n",
    "        p.add(j)\n",
    "    \n",
    "    \n",
    "    if (len(p)-1)==26:\n",
    "        print(i,': is panagram')\n",
    "    else:\n",
    "        print(i,': not a panagram')"
   ]
  },
  {
   "cell_type": "code",
   "execution_count": null,
   "id": "21b8787a",
   "metadata": {},
   "outputs": [],
   "source": []
  },
  {
   "cell_type": "code",
   "execution_count": null,
   "id": "b652fec7",
   "metadata": {},
   "outputs": [],
   "source": []
  },
  {
   "cell_type": "code",
   "execution_count": 35,
   "id": "052a55c6",
   "metadata": {},
   "outputs": [],
   "source": [
    "a = \"uddhav pune:data-science, mohan nanded:development, sagar pune:developer, Yash Mumbai:Data-Science\""
   ]
  },
  {
   "cell_type": "code",
   "execution_count": 36,
   "id": "3fd67926",
   "metadata": {},
   "outputs": [
    {
     "data": {
      "text/plain": [
       "[{'name': 'uddhav', 'city': 'pune', 'prop': 'data-science'},\n",
       " {'name': 'mohan', 'city': 'nanded', 'prop': 'development'},\n",
       " {'name': 'sagar', 'city': 'pune', 'prop': 'developer'},\n",
       " {'name': 'Yash', 'city': 'Mumbai', 'prop': 'Data-Science'}]"
      ]
     },
     "execution_count": 36,
     "metadata": {},
     "output_type": "execute_result"
    }
   ],
   "source": [
    "a = \"uddhav pune:data-science, mohan nanded:development, sagar pune:developer, Yash Mumbai:Data-Science\"\n",
    "\n",
    "d=\"\"\n",
    "for j in a.replace(':',' '):\n",
    "    d+=j\n",
    "e=\"\"\n",
    "for k in d.replace(',',''):\n",
    "    e+=k\n",
    "  \n",
    "h=[]\n",
    "dict={}\n",
    "for k in e.split(' '):\n",
    "    h.append(k)\n",
    "    \n",
    "c=[]\n",
    "dict={} \n",
    "for i in h:\n",
    "        \n",
    "    if h.index(i) in range(0,100,3):\n",
    "        dict['name']=i\n",
    "    elif h.index(i) in range(1,100,3):\n",
    "        dict['city']=i\n",
    "    elif h.index(i) in range(2,100,3):\n",
    "        dict['prop']=i\n",
    "        c.append(dict)\n",
    "        dict={}\n",
    "    \n",
    "\n",
    "\n",
    "        \n",
    "       \n",
    "    \n",
    "    \n",
    "\n",
    "    \n",
    "    \n",
    "c"
   ]
  },
  {
   "cell_type": "code",
   "execution_count": 37,
   "id": "4378574f",
   "metadata": {},
   "outputs": [
    {
     "name": "stdout",
     "output_type": "stream",
     "text": [
      "{'cons': ['n', 'd', 'i', 's', 'm', 'y', 'c', 't', 'r', 'a', 'l', 'b', 'o', 'h', 'e', 'f'], 'vovel': ['i', 'a', 'o', 'u', 'e']}\n"
     ]
    }
   ],
   "source": [
    "b = \"India is my country. All indians are my brothers and friends.\"\n",
    "c=[]\n",
    "d=[]\n",
    "\n",
    "for i in b:\n",
    "    if i.lower() in 'aeiou' and i.lower() not in c:\n",
    "        c.append(i.lower())\n",
    "    elif i.lower() not in d and i.isalpha():\n",
    "        d.append(i.lower())\n",
    "\n",
    "print({'cons':d,'vovel':c})    \n",
    "        \n",
    "\n"
   ]
  },
  {
   "cell_type": "code",
   "execution_count": null,
   "id": "49a771c0",
   "metadata": {},
   "outputs": [],
   "source": []
  },
  {
   "cell_type": "code",
   "execution_count": 5,
   "id": "977dccbe",
   "metadata": {},
   "outputs": [
    {
     "data": {
      "text/plain": [
       "['all',\n",
       " 'and',\n",
       " 'are',\n",
       " 'brothers',\n",
       " 'country',\n",
       " 'friends',\n",
       " 'india',\n",
       " 'indians',\n",
       " 'is',\n",
       " 'my',\n",
       " 'my']"
      ]
     },
     "execution_count": 5,
     "metadata": {},
     "output_type": "execute_result"
    }
   ],
   "source": [
    "b = \"India is my country All indians are my brothers and friends\"\n",
    "c=[]\n",
    "for i in b.split():\n",
    "    c.append(i.lower())\n",
    "c.sort()\n",
    "c\n"
   ]
  },
  {
   "cell_type": "code",
   "execution_count": 11,
   "id": "7443b975",
   "metadata": {},
   "outputs": [
    {
     "name": "stdout",
     "output_type": "stream",
     "text": [
      "None\n"
     ]
    }
   ],
   "source": [
    "b = \"India is my country All indians are my brothers and friends\"\n",
    "c=[i for i in b.split()].sort()\n",
    "\n",
    "print(c)\n",
    "\n"
   ]
  },
  {
   "cell_type": "code",
   "execution_count": 40,
   "id": "d4685f5d",
   "metadata": {},
   "outputs": [
    {
     "data": {
      "text/plain": [
       "['all',\n",
       " 'are',\n",
       " 'and',\n",
       " 'brothers',\n",
       " 'country',\n",
       " 'friends',\n",
       " 'india',\n",
       " 'is',\n",
       " 'indians',\n",
       " 'my',\n",
       " 'my']"
      ]
     },
     "execution_count": 40,
     "metadata": {},
     "output_type": "execute_result"
    }
   ],
   "source": [
    "b = \"India is my country All indians are my brothers and friends\"\n",
    "c=[]\n",
    "for i in b.split(' '):\n",
    "    c.append(i.lower())\n",
    "d=[]\n",
    "e=[]\n",
    "f=[]\n",
    "for i in range(97,123):\n",
    "    d.append(chr(i))\n",
    "\n",
    "for j in range(65,91):\n",
    "    e.append(chr(j))\n",
    "\n",
    "for k in d:\n",
    "    for l in c:\n",
    "        if l[0].lower()==k.lower():\n",
    "            f.append(l)\n",
    "            \n",
    "            \n",
    "f\n"
   ]
  },
  {
   "cell_type": "code",
   "execution_count": 12,
   "id": "d29fce1d",
   "metadata": {},
   "outputs": [],
   "source": [
    "list1=[85,2,45,4,5,32,67,8,9,10,11,75,13,14,15,85]\n"
   ]
  },
  {
   "cell_type": "code",
   "execution_count": 13,
   "id": "712f9fbe",
   "metadata": {},
   "outputs": [],
   "source": [
    "c=[]\n",
    "for i in list1:\n",
    "    p=[]\n",
    "    while len(list1)<=3:\n",
    "        p.append(i)\n",
    "      \n",
    "        "
   ]
  },
  {
   "cell_type": "code",
   "execution_count": 14,
   "id": "b64a497e",
   "metadata": {},
   "outputs": [
    {
     "data": {
      "text/plain": [
       "[]"
      ]
     },
     "execution_count": 14,
     "metadata": {},
     "output_type": "execute_result"
    }
   ],
   "source": [
    "c"
   ]
  },
  {
   "cell_type": "code",
   "execution_count": 15,
   "id": "4c8a2333",
   "metadata": {},
   "outputs": [
    {
     "name": "stdout",
     "output_type": "stream",
     "text": [
      "0 a\n",
      "1 b\n",
      "2 c\n"
     ]
    }
   ],
   "source": [
    "c=['a','b','c']\n",
    "for i, j in enumerate(c):\n",
    "    print(i,j)"
   ]
  },
  {
   "cell_type": "code",
   "execution_count": 16,
   "id": "5651fd94",
   "metadata": {},
   "outputs": [
    {
     "name": "stdout",
     "output_type": "stream",
     "text": [
      "0 l\n",
      "1 k\n",
      "2 j\n",
      "3 h\n",
      "4 g\n",
      "5 f\n",
      "6 d\n",
      "7 s\n",
      "8 a\n"
     ]
    }
   ],
   "source": [
    "c='lkjhgfdsa'\n",
    "for i, j in enumerate(c):\n",
    "    print(i,j)"
   ]
  },
  {
   "cell_type": "code",
   "execution_count": 46,
   "id": "808450c9",
   "metadata": {},
   "outputs": [],
   "source": [
    "def dd():\n",
    "    for i in range(100,500):\n",
    "        yield i"
   ]
  },
  {
   "cell_type": "code",
   "execution_count": 47,
   "id": "ae906199",
   "metadata": {},
   "outputs": [],
   "source": [
    "a=dd()"
   ]
  },
  {
   "cell_type": "code",
   "execution_count": 48,
   "id": "64a4d3db",
   "metadata": {},
   "outputs": [
    {
     "data": {
      "text/plain": [
       "100"
      ]
     },
     "execution_count": 48,
     "metadata": {},
     "output_type": "execute_result"
    }
   ],
   "source": [
    "next(a)"
   ]
  },
  {
   "cell_type": "code",
   "execution_count": 49,
   "id": "43755be1",
   "metadata": {},
   "outputs": [],
   "source": [
    "a=[2,3,46,7]\n",
    "b=['s','p','f','g']"
   ]
  },
  {
   "cell_type": "code",
   "execution_count": 50,
   "id": "9e21ed08",
   "metadata": {},
   "outputs": [],
   "source": [
    "c={}\n",
    "for i in a:\n",
    "    for j in b:\n",
    "        c[i]=j\n",
    "        b.remove(j)\n",
    "        break\n",
    "    \n",
    "        "
   ]
  },
  {
   "cell_type": "code",
   "execution_count": 51,
   "id": "a3a8608a",
   "metadata": {},
   "outputs": [
    {
     "data": {
      "text/plain": [
       "{2: 's', 3: 'p', 46: 'f', 7: 'g'}"
      ]
     },
     "execution_count": 51,
     "metadata": {},
     "output_type": "execute_result"
    }
   ],
   "source": [
    "c"
   ]
  },
  {
   "cell_type": "code",
   "execution_count": 52,
   "id": "2ebd4432",
   "metadata": {},
   "outputs": [
    {
     "data": {
      "text/plain": [
       "['kjhgf', 'pytrw']"
      ]
     },
     "execution_count": 52,
     "metadata": {},
     "output_type": "execute_result"
    }
   ],
   "source": [
    "c=['kjhgf','poiuytrew']\n",
    "c1=[]\n",
    "g=''\n",
    "for i in c:\n",
    "    p=[]\n",
    "    for j in i:\n",
    "        if j.lower() not in 'aeiou':\n",
    "            p.append(j)\n",
    "            g=''.join(p)\n",
    "    c1.append(g)\n",
    "    \n",
    "    \n",
    "            \n",
    " \n",
    "            \n",
    "c1       "
   ]
  },
  {
   "cell_type": "code",
   "execution_count": 53,
   "id": "ff356781",
   "metadata": {},
   "outputs": [],
   "source": [
    "p='gjhgjh hhh hjhkjh hjh jhgjgjh'\n",
    "c=[]\n",
    "for i in p.split(' '):\n",
    "    c.append(i)"
   ]
  },
  {
   "cell_type": "code",
   "execution_count": 54,
   "id": "b623a5a0",
   "metadata": {},
   "outputs": [
    {
     "data": {
      "text/plain": [
       "['gjhgjh', 'hhh', 'hjhkjh', 'hjh', 'jhgjgjh']"
      ]
     },
     "execution_count": 54,
     "metadata": {},
     "output_type": "execute_result"
    }
   ],
   "source": [
    "c"
   ]
  },
  {
   "cell_type": "code",
   "execution_count": 23,
   "id": "c0ad6c5b",
   "metadata": {},
   "outputs": [],
   "source": [
    "# Packing and unpacking\n",
    "\n",
    "p=10,30,30\n",
    "x,y,z=p"
   ]
  },
  {
   "cell_type": "code",
   "execution_count": 24,
   "id": "edf41cf0",
   "metadata": {},
   "outputs": [
    {
     "data": {
      "text/plain": [
       "10"
      ]
     },
     "execution_count": 24,
     "metadata": {},
     "output_type": "execute_result"
    }
   ],
   "source": [
    "x"
   ]
  },
  {
   "cell_type": "code",
   "execution_count": 25,
   "id": "604f049f",
   "metadata": {},
   "outputs": [],
   "source": [
    "a=10\n",
    "b=20\n",
    "c=30\n",
    "\n",
    "p=a,b,c"
   ]
  },
  {
   "cell_type": "code",
   "execution_count": 26,
   "id": "ab3ba610",
   "metadata": {},
   "outputs": [
    {
     "data": {
      "text/plain": [
       "(10, 20, 30)"
      ]
     },
     "execution_count": 26,
     "metadata": {},
     "output_type": "execute_result"
    }
   ],
   "source": [
    "p"
   ]
  },
  {
   "cell_type": "code",
   "execution_count": 27,
   "id": "17b08c5a",
   "metadata": {},
   "outputs": [],
   "source": [
    "a=7\n",
    "b=20\n",
    "a,b=b,a"
   ]
  },
  {
   "cell_type": "code",
   "execution_count": 28,
   "id": "464eccfd",
   "metadata": {},
   "outputs": [
    {
     "data": {
      "text/plain": [
       "20"
      ]
     },
     "execution_count": 28,
     "metadata": {},
     "output_type": "execute_result"
    }
   ],
   "source": [
    "a"
   ]
  },
  {
   "cell_type": "code",
   "execution_count": 29,
   "id": "9a04ab3e",
   "metadata": {},
   "outputs": [
    {
     "data": {
      "text/plain": [
       "7"
      ]
     },
     "execution_count": 29,
     "metadata": {},
     "output_type": "execute_result"
    }
   ],
   "source": [
    "b"
   ]
  },
  {
   "cell_type": "code",
   "execution_count": 30,
   "id": "3d0903cb",
   "metadata": {},
   "outputs": [],
   "source": [
    "a=' h '"
   ]
  },
  {
   "cell_type": "code",
   "execution_count": 31,
   "id": "ae266b0a",
   "metadata": {},
   "outputs": [
    {
     "data": {
      "text/plain": [
       "' h'"
      ]
     },
     "execution_count": 31,
     "metadata": {},
     "output_type": "execute_result"
    }
   ],
   "source": [
    "a.rstrip()"
   ]
  },
  {
   "cell_type": "code",
   "execution_count": 32,
   "id": "c9b84bc7",
   "metadata": {},
   "outputs": [],
   "source": [
    "a='lkjhgfds'\n"
   ]
  },
  {
   "cell_type": "code",
   "execution_count": 65,
   "id": "0782d90c",
   "metadata": {},
   "outputs": [
    {
     "name": "stdout",
     "output_type": "stream",
     "text": [
      "['123456', '8765', '8765'] ['px', 'jhgg', 'kjhnbvhb']\n"
     ]
    }
   ],
   "source": [
    "a=['px123456','jhgg8765','8765kjhnbvhb']\n",
    "num=[]\n",
    "alpha=[]\n",
    "p=''\n",
    "v=''\n",
    "for i in a:\n",
    "    c=[]\n",
    "    b=[]\n",
    "    for j in i:\n",
    "        if j.isnumeric()==True:\n",
    "            c.append(j)\n",
    "        else:\n",
    "            b.append(j)\n",
    "            \n",
    "    p=''.join(c)\n",
    "    num.append(p)\n",
    "    v=''.join(b)\n",
    "    alpha.append(v)\n",
    "    \n",
    "    \n",
    "    \n",
    "print(num,alpha)           "
   ]
  },
  {
   "cell_type": "code",
   "execution_count": 66,
   "id": "bb0c0585",
   "metadata": {},
   "outputs": [
    {
     "data": {
      "text/plain": [
       "[[1, 2, 3, 4], [8, 7, 6, 5], [9, 10, 11, 12], [16, 15, 14, 13]]"
      ]
     },
     "execution_count": 66,
     "metadata": {},
     "output_type": "execute_result"
    }
   ],
   "source": [
    "a=[1,2,3,4,5,6,7,8,9,10,11,12,13,14,15,16]\n",
    "c=[]\n",
    "for j in range(4-1,len(a),4):\n",
    "    p=[]\n",
    "    for i in a:\n",
    "        if a.index(i)<=j and a.index(i)>(j-4):\n",
    "            p.append(i)\n",
    "    c.append(p)\n",
    "for z in c:\n",
    "    if c.index(z)%2!=0:\n",
    "        z.reverse()\n",
    "        \n",
    "c        "
   ]
  },
  {
   "cell_type": "code",
   "execution_count": 67,
   "id": "35a3c615",
   "metadata": {},
   "outputs": [],
   "source": [
    "a=[1,2,3,4,5,6,7,8,9,10,11,12,13,14,15,16]"
   ]
  },
  {
   "cell_type": "code",
   "execution_count": 68,
   "id": "b8399d04",
   "metadata": {},
   "outputs": [
    {
     "data": {
      "text/plain": [
       "[[1, 2, 3, 4], [8, 7, 6, 5], [9, 10, 11, 12], [16, 15, 14, 13]]"
      ]
     },
     "execution_count": 68,
     "metadata": {},
     "output_type": "execute_result"
    }
   ],
   "source": [
    "a=[1,2,3,4,5,6,7,8,9,10,11,12,13,14,15,16]\n",
    "c=[]\n",
    "for j in range(0,len(a),4):\n",
    "   \n",
    "    g=a[j:(j+4)]\n",
    "    c.append(g)\n",
    "\n",
    "for z in c:\n",
    "    if c.index(z)%2!=0:\n",
    "        z.reverse()\n",
    "        \n",
    "c        \n"
   ]
  },
  {
   "cell_type": "code",
   "execution_count": 69,
   "id": "abd3a7c6",
   "metadata": {},
   "outputs": [
    {
     "name": "stdout",
     "output_type": "stream",
     "text": [
      "[1, 2, 3, 4]\n",
      "[8, 7, 6, 5]\n",
      "[9, 10, 11, 12]\n",
      "[16, 15, 14, 13]\n"
     ]
    }
   ],
   "source": [
    "a=[1,2,3,4,5,6,7,8,9,10,11,12,13,14,15,16]\n",
    "for j in range(0,len(a),4):\n",
    "    g=a[j:(j+4)]\n",
    "    if g[-1]%8==0:\n",
    "        g.reverse()\n",
    "    print(g)\n",
    "\n",
    "\n",
    "        \n",
    "       \n"
   ]
  },
  {
   "cell_type": "code",
   "execution_count": 70,
   "id": "85db7db6",
   "metadata": {},
   "outputs": [
    {
     "data": {
      "text/plain": [
       "3435"
      ]
     },
     "execution_count": 70,
     "metadata": {},
     "output_type": "execute_result"
    }
   ],
   "source": [
    "a=[3435,5,5,6,7,8]\n",
    "a.sort()\n",
    "a[-1]"
   ]
  },
  {
   "cell_type": "code",
   "execution_count": 71,
   "id": "5988f77e",
   "metadata": {},
   "outputs": [
    {
     "ename": "IndentationError",
     "evalue": "expected an indented block (4217449422.py, line 3)",
     "output_type": "error",
     "traceback": [
      "\u001b[1;36m  Cell \u001b[1;32mIn [71], line 3\u001b[1;36m\u001b[0m\n\u001b[1;33m    \u001b[0m\n\u001b[1;37m    ^\u001b[0m\n\u001b[1;31mIndentationError\u001b[0m\u001b[1;31m:\u001b[0m expected an indented block\n"
     ]
    }
   ],
   "source": [
    "a=[3435,5,5,6,7,8]\n",
    "for i in a:\n",
    "    "
   ]
  },
  {
   "cell_type": "code",
   "execution_count": 72,
   "id": "cda40b6d",
   "metadata": {},
   "outputs": [
    {
     "data": {
      "text/plain": [
       "[3, 4, 6, 8, 9, 46, 15]"
      ]
     },
     "execution_count": 72,
     "metadata": {},
     "output_type": "execute_result"
    }
   ],
   "source": [
    "a=[15,4,6,8,9,3,15,46,4,9]\n",
    "b=list(set(a))\n",
    "b"
   ]
  },
  {
   "cell_type": "code",
   "execution_count": 73,
   "id": "1fc28ee5",
   "metadata": {},
   "outputs": [
    {
     "data": {
      "text/plain": [
       "[15, 4, 6, 8, 9, 3, 46]"
      ]
     },
     "execution_count": 73,
     "metadata": {},
     "output_type": "execute_result"
    }
   ],
   "source": [
    "a=[15,4,6,8,9,3,15,46,4,9]\n",
    "b=[]\n",
    "for i in a:\n",
    "    if i not in b:\n",
    "        b.append(i)\n",
    "b\n",
    "    "
   ]
  },
  {
   "cell_type": "code",
   "execution_count": 74,
   "id": "72857cd1",
   "metadata": {},
   "outputs": [
    {
     "data": {
      "text/plain": [
       "[3, 4, 6, 8, 9, 46, 15]"
      ]
     },
     "execution_count": 74,
     "metadata": {},
     "output_type": "execute_result"
    }
   ],
   "source": [
    "list({i for i in a})"
   ]
  },
  {
   "cell_type": "code",
   "execution_count": 75,
   "id": "89474377",
   "metadata": {},
   "outputs": [
    {
     "data": {
      "text/plain": [
       "[15, 4, 6, 8, 9, 3, 46]"
      ]
     },
     "execution_count": 75,
     "metadata": {},
     "output_type": "execute_result"
    }
   ],
   "source": [
    "g=[]\n",
    "list=list(g.append(i) for  i in a if i not in g)\n",
    "g"
   ]
  },
  {
   "cell_type": "code",
   "execution_count": 76,
   "id": "f14dda7d",
   "metadata": {},
   "outputs": [],
   "source": [
    "a=[6,7,8]\n",
    "b=[9,10]"
   ]
  },
  {
   "cell_type": "code",
   "execution_count": 77,
   "id": "aeb9f0cf",
   "metadata": {},
   "outputs": [
    {
     "ename": "AttributeError",
     "evalue": "'int' object has no attribute 'append'",
     "output_type": "error",
     "traceback": [
      "\u001b[1;31m---------------------------------------------------------------------------\u001b[0m",
      "\u001b[1;31mAttributeError\u001b[0m                            Traceback (most recent call last)",
      "Cell \u001b[1;32mIn [77], line 6\u001b[0m\n\u001b[0;32m      4\u001b[0m c\u001b[38;5;241m=\u001b[39m[]\n\u001b[0;32m      5\u001b[0m \u001b[38;5;28;01mfor\u001b[39;00m j \u001b[38;5;129;01min\u001b[39;00m \u001b[38;5;28mrange\u001b[39m(\u001b[38;5;241m2\u001b[39m,\u001b[38;5;241m101\u001b[39m):\n\u001b[1;32m----> 6\u001b[0m     \u001b[43mx\u001b[49m\u001b[38;5;241;43m.\u001b[39;49m\u001b[43mappend\u001b[49m(j)\n\u001b[0;32m      7\u001b[0m     \u001b[38;5;28;01mif\u001b[39;00m j\u001b[38;5;241m%\u001b[39mi\u001b[38;5;241m==\u001b[39m\u001b[38;5;241m0\u001b[39m \u001b[38;5;129;01mand\u001b[39;00m j \u001b[38;5;129;01min\u001b[39;00m x:\n\u001b[0;32m      8\u001b[0m         c\u001b[38;5;241m.\u001b[39mappend(j)\n",
      "\u001b[1;31mAttributeError\u001b[0m: 'int' object has no attribute 'append'"
     ]
    }
   ],
   "source": [
    "b={}\n",
    "\n",
    "for i in range(2,101):\n",
    "    c=[]\n",
    "    for j in range(2,101):\n",
    "        x.append(j)\n",
    "        if j%i==0 and j in x:\n",
    "            c.append(j)\n",
    "         \n",
    "    b[i]=c\n",
    "\n",
    "\n",
    "                \n",
    "                \n",
    "       \n",
    "        \n",
    "   \n",
    "\n",
    "b"
   ]
  },
  {
   "cell_type": "code",
   "execution_count": 78,
   "id": "183ecfc3",
   "metadata": {},
   "outputs": [
    {
     "data": {
      "text/plain": [
       "{2: [2,\n",
       "  4,\n",
       "  6,\n",
       "  8,\n",
       "  10,\n",
       "  12,\n",
       "  14,\n",
       "  16,\n",
       "  18,\n",
       "  20,\n",
       "  22,\n",
       "  24,\n",
       "  26,\n",
       "  28,\n",
       "  30,\n",
       "  32,\n",
       "  34,\n",
       "  36,\n",
       "  38,\n",
       "  40,\n",
       "  42,\n",
       "  44,\n",
       "  46,\n",
       "  48,\n",
       "  50,\n",
       "  52,\n",
       "  54,\n",
       "  56,\n",
       "  58,\n",
       "  60,\n",
       "  62,\n",
       "  64,\n",
       "  66,\n",
       "  68,\n",
       "  70,\n",
       "  72,\n",
       "  74,\n",
       "  76,\n",
       "  78,\n",
       "  80,\n",
       "  82,\n",
       "  84,\n",
       "  86,\n",
       "  88,\n",
       "  90,\n",
       "  92,\n",
       "  94,\n",
       "  96,\n",
       "  98,\n",
       "  100],\n",
       " 3: [3, 9, 15, 21, 27, 33, 39, 45, 51, 57, 63, 69, 75, 81, 87, 93, 99],\n",
       " 4: [],\n",
       " 5: [5, 25, 35, 55, 65, 85, 95],\n",
       " 6: [],\n",
       " 7: [7, 49, 77, 91],\n",
       " 8: [],\n",
       " 9: [],\n",
       " 10: [],\n",
       " 11: [11],\n",
       " 12: [],\n",
       " 13: [13],\n",
       " 14: [],\n",
       " 15: [],\n",
       " 16: [],\n",
       " 17: [17],\n",
       " 18: [],\n",
       " 19: [19],\n",
       " 20: [],\n",
       " 21: [],\n",
       " 22: [],\n",
       " 23: [23],\n",
       " 24: [],\n",
       " 25: [],\n",
       " 26: [],\n",
       " 27: [],\n",
       " 28: [],\n",
       " 29: [29],\n",
       " 30: [],\n",
       " 31: [31],\n",
       " 32: [],\n",
       " 33: [],\n",
       " 34: [],\n",
       " 35: [],\n",
       " 36: [],\n",
       " 37: [37],\n",
       " 38: [],\n",
       " 39: [],\n",
       " 40: [],\n",
       " 41: [41],\n",
       " 42: [],\n",
       " 43: [43],\n",
       " 44: [],\n",
       " 45: [],\n",
       " 46: [],\n",
       " 47: [47],\n",
       " 48: [],\n",
       " 49: [],\n",
       " 50: [],\n",
       " 51: [],\n",
       " 52: [],\n",
       " 53: [53],\n",
       " 54: [],\n",
       " 55: [],\n",
       " 56: [],\n",
       " 57: [],\n",
       " 58: [],\n",
       " 59: [59],\n",
       " 60: [],\n",
       " 61: [61],\n",
       " 62: [],\n",
       " 63: [],\n",
       " 64: [],\n",
       " 65: [],\n",
       " 66: [],\n",
       " 67: [67],\n",
       " 68: [],\n",
       " 69: [],\n",
       " 70: [],\n",
       " 71: [71],\n",
       " 72: [],\n",
       " 73: [73],\n",
       " 74: [],\n",
       " 75: [],\n",
       " 76: [],\n",
       " 77: [],\n",
       " 78: [],\n",
       " 79: [79],\n",
       " 80: [],\n",
       " 81: [],\n",
       " 82: [],\n",
       " 83: [83],\n",
       " 84: [],\n",
       " 85: [],\n",
       " 86: [],\n",
       " 87: [],\n",
       " 88: [],\n",
       " 89: [89],\n",
       " 90: [],\n",
       " 91: [],\n",
       " 92: [],\n",
       " 93: [],\n",
       " 94: [],\n",
       " 95: [],\n",
       " 96: [],\n",
       " 97: [97],\n",
       " 98: [],\n",
       " 99: [],\n",
       " 100: []}"
      ]
     },
     "execution_count": 78,
     "metadata": {},
     "output_type": "execute_result"
    }
   ],
   "source": [
    "b={}\n",
    "x=[i for i in range(2,101)]\n",
    "\n",
    "for i in range(2,101):\n",
    "    c=[]\n",
    "    for j in x:\n",
    "        \n",
    "        if j%i==0:\n",
    "            c.append(j)\n",
    "            x.remove(j)\n",
    "         \n",
    "    b[i]=c\n",
    "\n",
    "\n",
    "                \n",
    "                \n",
    "       \n",
    "        \n",
    "   \n",
    "\n",
    "b"
   ]
  },
  {
   "cell_type": "code",
   "execution_count": 79,
   "id": "558ad7a7",
   "metadata": {},
   "outputs": [
    {
     "ename": "TypeError",
     "evalue": "'list' object is not callable",
     "output_type": "error",
     "traceback": [
      "\u001b[1;31m---------------------------------------------------------------------------\u001b[0m",
      "\u001b[1;31mTypeError\u001b[0m                                 Traceback (most recent call last)",
      "Cell \u001b[1;32mIn [79], line 3\u001b[0m\n\u001b[0;32m      1\u001b[0m a\u001b[38;5;241m=\u001b[39m[\u001b[38;5;241m1\u001b[39m,\u001b[38;5;124m'\u001b[39m\u001b[38;5;124m2\u001b[39m\u001b[38;5;124m'\u001b[39m,\u001b[38;5;241m34\u001b[39m,\u001b[38;5;241m4\u001b[39m]\n\u001b[0;32m      2\u001b[0m b\u001b[38;5;241m=\u001b[39m[\u001b[38;5;241m3\u001b[39m,\u001b[38;5;241m5\u001b[39m,\u001b[38;5;124m'\u001b[39m\u001b[38;5;124m6\u001b[39m\u001b[38;5;124m'\u001b[39m,\u001b[38;5;241m8\u001b[39m]\n\u001b[1;32m----> 3\u001b[0m \u001b[38;5;28;43mlist\u001b[39;49m\u001b[43m(\u001b[49m\u001b[38;5;28;43mmap\u001b[39;49m\u001b[43m(\u001b[49m\u001b[38;5;28;43;01mlambda\u001b[39;49;00m\u001b[43m \u001b[49m\u001b[43mx\u001b[49m\u001b[43m,\u001b[49m\u001b[43my\u001b[49m\u001b[43m:\u001b[49m\u001b[43m \u001b[49m\u001b[38;5;28;43mint\u001b[39;49m\u001b[43m(\u001b[49m\u001b[43mx\u001b[49m\u001b[43m)\u001b[49m\u001b[38;5;241;43m+\u001b[39;49m\u001b[38;5;28;43mint\u001b[39;49m\u001b[43m(\u001b[49m\u001b[43my\u001b[49m\u001b[43m)\u001b[49m\u001b[43m \u001b[49m\u001b[43m,\u001b[49m\u001b[43m \u001b[49m\u001b[43ma\u001b[49m\u001b[43m,\u001b[49m\u001b[43mb\u001b[49m\u001b[43m)\u001b[49m\u001b[43m)\u001b[49m\n",
      "\u001b[1;31mTypeError\u001b[0m: 'list' object is not callable"
     ]
    }
   ],
   "source": [
    "a=[1,'2',34,4]\n",
    "b=[3,5,'6',8]\n",
    "list(map(lambda x,y: int(x)+int(y) , a,b))"
   ]
  },
  {
   "cell_type": "code",
   "execution_count": 80,
   "id": "fc792ce8",
   "metadata": {},
   "outputs": [
    {
     "data": {
      "text/plain": [
       "[4, 7, 40, 12]"
      ]
     },
     "execution_count": 80,
     "metadata": {},
     "output_type": "execute_result"
    }
   ],
   "source": [
    "c=[]\n",
    "\n",
    "for i in a:\n",
    "    for j in b:\n",
    "        z=int(i)+int(j)\n",
    "        b.remove(j)\n",
    "     \n",
    "\n",
    "        break\n",
    "    c.append(z)\n",
    "        \n",
    "c        "
   ]
  },
  {
   "cell_type": "code",
   "execution_count": 81,
   "id": "a90a61c0",
   "metadata": {},
   "outputs": [
    {
     "data": {
      "text/plain": [
       "[4, 7, 40, 12]"
      ]
     },
     "execution_count": 81,
     "metadata": {},
     "output_type": "execute_result"
    }
   ],
   "source": [
    "a=[1,2,34,4]\n",
    "b=[3,5,6,8]\n",
    "c=[]\n",
    "for i in range(0,len(a)):\n",
    "    c.append(a[int(i)]+b[int(i)])\n",
    "c"
   ]
  },
  {
   "cell_type": "code",
   "execution_count": 82,
   "id": "ca33a75b",
   "metadata": {},
   "outputs": [
    {
     "data": {
      "text/plain": [
       "[4, 7, 40, 12]"
      ]
     },
     "execution_count": 82,
     "metadata": {},
     "output_type": "execute_result"
    }
   ],
   "source": [
    "[a[int(i)]+b[int(i)] for i in range(0,len(a)) ]"
   ]
  },
  {
   "cell_type": "code",
   "execution_count": 83,
   "id": "7381c114",
   "metadata": {},
   "outputs": [
    {
     "name": "stdout",
     "output_type": "stream",
     "text": [
      "[4, 7, 40, 12]\n"
     ]
    }
   ],
   "source": [
    "c=[]\n",
    "[c.append(a[int(i)]+b[int(i)]) for i in range(0,len(a)) ]\n",
    "print(c)"
   ]
  },
  {
   "cell_type": "code",
   "execution_count": 84,
   "id": "6b87ae4d",
   "metadata": {},
   "outputs": [
    {
     "ename": "SyntaxError",
     "evalue": "invalid syntax (4137509357.py, line 7)",
     "output_type": "error",
     "traceback": [
      "\u001b[1;36m  Cell \u001b[1;32mIn [84], line 7\u001b[1;36m\u001b[0m\n\u001b[1;33m    d[int(a[i])+int(b[i])]=[a[i],b[i]]\u001b[0m\n\u001b[1;37m    ^\u001b[0m\n\u001b[1;31mSyntaxError\u001b[0m\u001b[1;31m:\u001b[0m invalid syntax\n"
     ]
    }
   ],
   "source": [
    "a=[1,'2',34,4]\n",
    "b=[3,5,6,8]\n",
    "c=[]\n",
    "d={}\n",
    "for i in range(0,len(a)):\n",
    "    c.append(int(a[i]+int(b[i])\n",
    "    d[int(a[i])+int(b[i])]=[a[i],b[i]]\n",
    "    \n",
    "d"
   ]
  },
  {
   "cell_type": "code",
   "execution_count": 85,
   "id": "d102a109",
   "metadata": {},
   "outputs": [
    {
     "data": {
      "text/plain": [
       "{4: [1, 3], 7: [2, 5], 40: [34, 6], 12: [4, 8]}"
      ]
     },
     "execution_count": 85,
     "metadata": {},
     "output_type": "execute_result"
    }
   ],
   "source": [
    "a=[1,2,34,4]\n",
    "b=[3,5,6,8]\n",
    "\n",
    "{a[int(i)]+b[int(i)]:[a[int(i)],b[int(i)]] for i in range(0,len(a)) }\n"
   ]
  },
  {
   "cell_type": "code",
   "execution_count": 86,
   "id": "be4844c6",
   "metadata": {},
   "outputs": [],
   "source": [
    "#first*second +third +fourth*sixth #odd = len(list)\n",
    "#first*second + avg(middle two values)+ fifth*sixth\n",
    "list1 = [1, 2, 3, 4, 5]"
   ]
  },
  {
   "cell_type": "code",
   "execution_count": 87,
   "id": "4c6d3728",
   "metadata": {},
   "outputs": [
    {
     "name": "stdout",
     "output_type": "stream",
     "text": [
      "[12, 3, 45, 5, 54, 22, 12, 1]\n"
     ]
    },
    {
     "data": {
      "text/plain": [
       "0"
      ]
     },
     "execution_count": 87,
     "metadata": {},
     "output_type": "execute_result"
    }
   ],
   "source": [
    "list=[12,3,45,5,66,54,22,12,1]  #len =9\n",
    "\n",
    "b=[]\n",
    "l=0\n",
    "p=[]\n",
    "q=[]\n",
    "for i in range(0,len(list),2):\n",
    "    for j in range(1,len(list)+1,2):\n",
    "        if len(list)%2==0:\n",
    "            pass\n",
    "\n",
    "\n",
    "        else:\n",
    "            b.append(list.pop((len(list)//2)))\n",
    "            print(list)\n",
    "            break\n",
    "            \n",
    "            \n",
    "\n",
    "l     "
   ]
  },
  {
   "cell_type": "code",
   "execution_count": 88,
   "id": "080fc16a",
   "metadata": {},
   "outputs": [
    {
     "data": {
      "text/plain": [
       "9"
      ]
     },
     "execution_count": 88,
     "metadata": {},
     "output_type": "execute_result"
    }
   ],
   "source": [
    "a=[1,4,6,78,9]\n",
    "a[-1]"
   ]
  },
  {
   "cell_type": "code",
   "execution_count": 89,
   "id": "512109d4",
   "metadata": {},
   "outputs": [
    {
     "name": "stdout",
     "output_type": "stream",
     "text": [
      "9\n"
     ]
    }
   ],
   "source": [
    "for i in a:\n",
    "    if a.index(i)==len(a)-1:\n",
    "        print(i)"
   ]
  },
  {
   "cell_type": "code",
   "execution_count": 90,
   "id": "f5bdfc69",
   "metadata": {},
   "outputs": [
    {
     "data": {
      "text/plain": [
       "[1, 4, 6, 78]"
      ]
     },
     "execution_count": 90,
     "metadata": {},
     "output_type": "execute_result"
    }
   ],
   "source": [
    "a[0:len(a)-1]"
   ]
  },
  {
   "cell_type": "code",
   "execution_count": 91,
   "id": "5c7548dd",
   "metadata": {},
   "outputs": [
    {
     "data": {
      "text/plain": [
       "[1, 4, 6, 78, 9]"
      ]
     },
     "execution_count": 91,
     "metadata": {},
     "output_type": "execute_result"
    }
   ],
   "source": [
    "a"
   ]
  },
  {
   "cell_type": "code",
   "execution_count": 92,
   "id": "a98b4cb6",
   "metadata": {},
   "outputs": [
    {
     "data": {
      "text/plain": [
       "[0.14285714285714285,\n",
       " 0.5714285714285714,\n",
       " 0.8571428571428571,\n",
       " 11.142857142857142,\n",
       " 1.2857142857142858]"
      ]
     },
     "execution_count": 92,
     "metadata": {},
     "output_type": "execute_result"
    }
   ],
   "source": [
    "[i/7 for i in a]"
   ]
  },
  {
   "cell_type": "code",
   "execution_count": 93,
   "id": "9484a859",
   "metadata": {},
   "outputs": [
    {
     "data": {
      "text/plain": [
       "[0, 0, 0, 11, 1]"
      ]
     },
     "execution_count": 93,
     "metadata": {},
     "output_type": "execute_result"
    }
   ],
   "source": [
    "a=[1, 4, 6, 78, 9]\n",
    "b=7\n",
    "[i//b for i in a]\n"
   ]
  },
  {
   "cell_type": "code",
   "execution_count": null,
   "id": "82656553",
   "metadata": {},
   "outputs": [],
   "source": [
    "def count_substring(string, sub_string):\n",
    "    c=0\n",
    "    l1=len(sub_string)\n",
    "    for i,j in enumerate(string):\n",
    "        if j==sub_string[0]:\n",
    "            if len(string)-i >= l1:\n",
    "                if sub_string[i:i+l1-2] in string:\n",
    "                    c+=1\n",
    "    return c\n",
    "if __name__ == '__main__':\n",
    "    string = input().strip()\n",
    "    sub_string = input().strip()\n",
    "    \n",
    "    count = count_substring(string, sub_string)\n",
    "    print(count)"
   ]
  },
  {
   "cell_type": "code",
   "execution_count": null,
   "id": "d2e33e97",
   "metadata": {},
   "outputs": [],
   "source": [
    "\n",
    "def count_substring(string, sub_string):\n",
    "    results = 0\n",
    "    sub_len = len(sub_string)\n",
    "    for i in range(len(string)):\n",
    "        if string[i:i+sub_len] == sub_string:\n",
    "            results += 1\n",
    "    return results\n",
    "   \n",
    "if __name__ == '__main__':\n",
    "    string = input().strip()\n",
    "    sub_string = input().strip()\n",
    "    \n",
    "    count = count_substring(string, sub_string)\n",
    "    print(count)"
   ]
  },
  {
   "cell_type": "code",
   "execution_count": null,
   "id": "d720282a",
   "metadata": {},
   "outputs": [],
   "source": [
    "if  __name__=='__main__':\n",
    "    s=input()\n",
    "    if s.isalnum():\n",
    "        print(True)\n",
    "    elif s.isalpha():\n",
    "        print(True)\n",
    "    elif s.isnumeric():\n",
    "        print(True)\n",
    "    elif s.lower==True:\n",
    "        print(True)\n",
    "    elif s.upper()==True:\n",
    "        print(True)\n",
    "    else:\n",
    "        print(False)"
   ]
  },
  {
   "cell_type": "code",
   "execution_count": null,
   "id": "052acd56",
   "metadata": {},
   "outputs": [],
   "source": [
    "a=['Raj','Uddhav','Swati','Aaliya','Krishna']"
   ]
  },
  {
   "cell_type": "code",
   "execution_count": null,
   "id": "a36eb111",
   "metadata": {},
   "outputs": [],
   "source": [
    "c=[]\n",
    "for i in a:\n",
    "    b=0\n",
    "    for j in i:\n",
    "        if j in 'aeiou':\n",
    "            b+=1\n",
    "    if b>=3:\n",
    "        c.append(i)\n",
    "    \n",
    "        \n",
    "            "
   ]
  },
  {
   "cell_type": "code",
   "execution_count": null,
   "id": "868a2abc",
   "metadata": {},
   "outputs": [],
   "source": [
    "c"
   ]
  },
  {
   "cell_type": "code",
   "execution_count": null,
   "id": "f7302759",
   "metadata": {},
   "outputs": [],
   "source": [
    "##################################################################"
   ]
  },
  {
   "cell_type": "code",
   "execution_count": null,
   "id": "0a957dad",
   "metadata": {},
   "outputs": [],
   "source": [
    "import numpy as np\n",
    "a=['Raj1','Uddh','Swat','Aali','Kris','Kant']\n",
    "for i in a:\n",
    "    b=[]\n",
    "    for j in i:\n",
    "        b.append(j)\n",
    "    \n",
    "   \n",
    "    print(np.array(b).reshape(2,2))\n",
    "        "
   ]
  },
  {
   "cell_type": "code",
   "execution_count": 33,
   "id": "4186bdd3",
   "metadata": {},
   "outputs": [
    {
     "name": "stdout",
     "output_type": "stream",
     "text": [
      "T101\n",
      "T102\n",
      "T103\n",
      "T104\n",
      "T105\n",
      "M101\n",
      "M102\n",
      "M103\n",
      "M104\n",
      "M105\n",
      "I101\n",
      "I102\n",
      "I103\n",
      "I104\n",
      "I105\n",
      "W101\n",
      "W102\n",
      "W103\n",
      "W104\n",
      "W105\n"
     ]
    }
   ],
   "source": [
    "a=['TCS','MAHINDRA','INFO','WIPRO']\n",
    "b = [[101, 102, 103, 104, 105],[101, 102, 103, 104, 105],[101, 102, 103, 104, 105],[101, 102, 103, 104, 105]]\n",
    "for i in a:\n",
    "    for j in b:\n",
    "        for q in j:\n",
    "            print(i[0]+str(q))\n",
    "        break"
   ]
  },
  {
   "cell_type": "code",
   "execution_count": null,
   "id": "f39353f9",
   "metadata": {},
   "outputs": [],
   "source": [
    "#20 % of each element\n",
    "a=[4,5,67,8,9,23,10]\n",
    "[i-(i*20)/100 for i in a]\n"
   ]
  },
  {
   "cell_type": "code",
   "execution_count": null,
   "id": "5f2e0295",
   "metadata": {},
   "outputs": [],
   "source": [
    "a=[4,5,67,8,9,23,10,66]\n",
    "b=[i-(i*20)/100 for i in a]\n",
    "c=0\n",
    "for j in b:\n",
    "    c+=j\n",
    "c"
   ]
  },
  {
   "cell_type": "code",
   "execution_count": null,
   "id": "b8d89f30",
   "metadata": {},
   "outputs": [],
   "source": [
    "p=['ajay','krishna','Vijay','akash']"
   ]
  },
  {
   "cell_type": "code",
   "execution_count": null,
   "id": "abae7ae0",
   "metadata": {},
   "outputs": [],
   "source": [
    "v=[]\n",
    "for i in p:\n",
    "    c=[]\n",
    "    for j in i:\n",
    "        if j in 'aeiou':\n",
    "            c.append(j)\n",
    "          \n",
    "    d=''.join(c)\n",
    "    v.append(d)\n",
    "  \n",
    "    \n",
    "            \n",
    "            \n",
    "            \n",
    "v        "
   ]
  },
  {
   "cell_type": "code",
   "execution_count": null,
   "id": "8690f219",
   "metadata": {},
   "outputs": [],
   "source": [
    "p=['ajay','krishna','Vijay','akash','akshay','namdev']"
   ]
  },
  {
   "cell_type": "code",
   "execution_count": null,
   "id": "94a3b0bd",
   "metadata": {},
   "outputs": [],
   "source": [
    "import cv2\n",
    "p=[]\n",
    "for i in range(2):\n",
    "    c=input()\n",
    "    p.append(c)\n",
    "    if c==0:\n",
    "        break\n",
    "    \n",
    "\n",
    "p        "
   ]
  },
  {
   "cell_type": "code",
   "execution_count": null,
   "id": "1075d817",
   "metadata": {},
   "outputs": [],
   "source": [
    "g=10\n",
    "p=int(input())\n",
    "while p==0:\n",
    "    print(p)\n",
    "       "
   ]
  },
  {
   "cell_type": "code",
   "execution_count": null,
   "id": "9ea7b2ae",
   "metadata": {},
   "outputs": [],
   "source": [
    "type(+)"
   ]
  },
  {
   "cell_type": "code",
   "execution_count": null,
   "id": "1f4a803a",
   "metadata": {},
   "outputs": [],
   "source": [
    "c=44*18+12/13"
   ]
  },
  {
   "cell_type": "code",
   "execution_count": null,
   "id": "c6f37a4d",
   "metadata": {},
   "outputs": [],
   "source": [
    "44*18+12/13\n"
   ]
  },
  {
   "cell_type": "code",
   "execution_count": null,
   "id": "6e650d5c",
   "metadata": {},
   "outputs": [],
   "source": []
  },
  {
   "cell_type": "code",
   "execution_count": 1,
   "id": "08aeaf14",
   "metadata": {},
   "outputs": [],
   "source": [
    "################################################################################################################"
   ]
  },
  {
   "cell_type": "code",
   "execution_count": 2,
   "id": "69dfdf5b",
   "metadata": {},
   "outputs": [],
   "source": [
    "p=[1,5,8,2,77]"
   ]
  },
  {
   "cell_type": "code",
   "execution_count": 3,
   "id": "30600370",
   "metadata": {},
   "outputs": [],
   "source": [
    "p.sort()"
   ]
  },
  {
   "cell_type": "code",
   "execution_count": 4,
   "id": "ca8ee9b2",
   "metadata": {},
   "outputs": [
    {
     "data": {
      "text/plain": [
       "[1, 2, 5, 8, 77]"
      ]
     },
     "execution_count": 4,
     "metadata": {},
     "output_type": "execute_result"
    }
   ],
   "source": [
    "p"
   ]
  },
  {
   "cell_type": "code",
   "execution_count": 6,
   "id": "024c697b",
   "metadata": {},
   "outputs": [
    {
     "data": {
      "text/plain": [
       "77"
      ]
     },
     "execution_count": 6,
     "metadata": {},
     "output_type": "execute_result"
    }
   ],
   "source": [
    "p[-1]"
   ]
  },
  {
   "cell_type": "code",
   "execution_count": 7,
   "id": "f558eacb",
   "metadata": {},
   "outputs": [],
   "source": [
    "# add two integer without using arithmatic operator\n"
   ]
  },
  {
   "cell_type": "code",
   "execution_count": 8,
   "id": "564163c9",
   "metadata": {},
   "outputs": [
    {
     "name": "stdout",
     "output_type": "stream",
     "text": [
      "enter first no.   ::55\n",
      "enter second no.  ::66\n",
      "121\n"
     ]
    }
   ],
   "source": [
    "a=int(input('enter first no.   ::'))\n",
    "b=int(input('enter second no.  ::'))\n",
    "c=[]\n",
    "c.append(a)\n",
    "c.append(b)\n",
    "print(sum(c))"
   ]
  },
  {
   "cell_type": "code",
   "execution_count": 2,
   "id": "7a269bb3",
   "metadata": {},
   "outputs": [
    {
     "name": "stdout",
     "output_type": "stream",
     "text": [
      " not palindrome\n",
      "palindrome\n",
      " not palindrome\n",
      " not palindrome\n",
      "palindrome\n",
      " not palindrome\n"
     ]
    }
   ],
   "source": [
    "a=['123456','121','5656','8585','88588','9999666'] \n",
    "\n",
    "for i in a:\n",
    "    b=len(i)\n",
    " \n",
    "    v=[]\n",
    "    for j in i:\n",
    "        v.append(i[b-1])\n",
    "        b-=1\n",
    "        if b==0:\n",
    "            break\n",
    "    \n",
    "  \n",
    "    if i==''.join(v):\n",
    "        print('palindrome')\n",
    "    else:\n",
    "        print(' not palindrome')\n",
    "        \n",
    "    \n",
    "        \n",
    "        \n",
    "   \n"
   ]
  },
  {
   "cell_type": "code",
   "execution_count": 5,
   "id": "35b96fde",
   "metadata": {},
   "outputs": [
    {
     "name": "stdout",
     "output_type": "stream",
     "text": [
      "3456\n",
      "1\n",
      "56\n",
      "85\n",
      "588\n",
      "99666\n"
     ]
    }
   ],
   "source": [
    "a=['123456','121','5656','8585','88588','9999666'] \n",
    "\n",
    "for i in a:\n",
    "    print(i[2:len(i)])\n",
    "#     i[start:stop:step-1]"
   ]
  },
  {
   "cell_type": "code",
   "execution_count": 1,
   "id": "d93085d5",
   "metadata": {},
   "outputs": [],
   "source": [
    "a = [\"\"\"you-have-been-given-a-permutation-of-n-integers-a-sequence-of-n-integers \n",
    "-is-called-a-permutation-if-it-contains-all-integers-from-1-to-n-exactly \n",
    "-once-your-task-is-to-rearrange-the-numbers-and-generate-the- \n",
    "lexicographically-next-greater-permutation\"\"\" \n",
    ",\"\"\"to-determine-which-of-the-two-permutations-is-lexicographically-smaller- \n",
    "we-compare-their-first-elements-of-both-permutations-if-they-are-equal \n",
    "-compare-the-second-and-so-on-if-we-have-two-permutations-x-and-y-then- \n",
    "x-is-lexicogra\"\"\"]"
   ]
  },
  {
   "cell_type": "code",
   "execution_count": 7,
   "id": "d816034d",
   "metadata": {},
   "outputs": [],
   "source": [
    "c=[]\n",
    "for i in a:\n",
    "    for j in i.split('-'):\n",
    "        c.append(j)\n",
    "        c.append(' ')\n",
    "        \n",
    "d=''.join(c)    "
   ]
  },
  {
   "cell_type": "code",
   "execution_count": 8,
   "id": "67c8d564",
   "metadata": {},
   "outputs": [
    {
     "data": {
      "text/plain": [
       "'you have been given a permutation of n integers a sequence of n integers \\n is called a permutation if it contains all integers from 1 to n exactly \\n once your task is to rearrange the numbers and generate the  \\nlexicographically next greater permutation to determine which of the two permutations is lexicographically smaller  \\nwe compare their first elements of both permutations if they are equal \\n compare the second and so on if we have two permutations x and y then  \\nx is lexicogra '"
      ]
     },
     "execution_count": 8,
     "metadata": {},
     "output_type": "execute_result"
    }
   ],
   "source": [
    "d"
   ]
  },
  {
   "cell_type": "code",
   "execution_count": 16,
   "id": "cac80e2c",
   "metadata": {},
   "outputs": [
    {
     "data": {
      "text/plain": [
       "'you have been given a permutation of n integers a sequence of n integers \\n is called a permutation if it contains all integers from 1 to n exactly \\n once your task is to rearrange the numbers and generate the  \\nlexicographically next greater permutationto determine which of the two permutations is lexicographically smaller  \\nwe compare their first elements of both permutations if they are equal \\n compare the second and so on if we have two permutations x and y then  \\nx is lexicogra'"
      ]
     },
     "execution_count": 16,
     "metadata": {},
     "output_type": "execute_result"
    }
   ],
   "source": [
    "c=''\n",
    "for i in a:\n",
    "    c+=i.replace('-',' ')\n",
    "    \n",
    "c"
   ]
  },
  {
   "cell_type": "code",
   "execution_count": 15,
   "id": "43724706",
   "metadata": {},
   "outputs": [
    {
     "data": {
      "text/plain": [
       "'you have been given a permutation of n integers a sequence of n integers \\n is called a permutation if it contains all integers from 1 to n exactly \\n once your task is to rearrange the numbers and generate the  \\nlexicographically next greater permutationto determine which of the two permutations is lexicographically smaller  \\nwe compare their first elements of both permutations if they are equal \\n compare the second and so on if we have two permutations x and y then  \\nx is lexicogra'"
      ]
     },
     "execution_count": 15,
     "metadata": {},
     "output_type": "execute_result"
    }
   ],
   "source": [
    "c"
   ]
  },
  {
   "cell_type": "code",
   "execution_count": 11,
   "id": "550854f4",
   "metadata": {},
   "outputs": [],
   "source": [
    "b='jhjghGH'\n",
    "C='JHKJHMJHA'"
   ]
  },
  {
   "cell_type": "code",
   "execution_count": 13,
   "id": "d60a2e9a",
   "metadata": {},
   "outputs": [
    {
     "data": {
      "text/plain": [
       "'JHKJHMJHAjhjghGH'"
      ]
     },
     "execution_count": 13,
     "metadata": {},
     "output_type": "execute_result"
    }
   ],
   "source": [
    "C+b"
   ]
  },
  {
   "cell_type": "code",
   "execution_count": 23,
   "id": "0c4cf7df",
   "metadata": {},
   "outputs": [],
   "source": [
    "m=[5,3,2,1,4,7,54,3,564,3234,324]"
   ]
  },
  {
   "cell_type": "code",
   "execution_count": 26,
   "id": "54d69bca",
   "metadata": {},
   "outputs": [
    {
     "data": {
      "text/plain": [
       "1"
      ]
     },
     "execution_count": 26,
     "metadata": {},
     "output_type": "execute_result"
    }
   ],
   "source": [
    "m=[5,3,2,1,4,7,54,3,564,3234,324]\n",
    "c=m[0]\n",
    "for i in m:\n",
    "    if i < c:\n",
    "        c=i\n",
    "    \n",
    "c    "
   ]
  },
  {
   "cell_type": "code",
   "execution_count": 27,
   "id": "28500e36",
   "metadata": {},
   "outputs": [
    {
     "data": {
      "text/plain": [
       "3234"
      ]
     },
     "execution_count": 27,
     "metadata": {},
     "output_type": "execute_result"
    }
   ],
   "source": [
    "m=[5,3,2,1,4,7,54,3,564,3234,324]\n",
    "c=m[0]\n",
    "for i in m:\n",
    "    if i > c:\n",
    "        c=i\n",
    "    \n",
    "c "
   ]
  },
  {
   "cell_type": "code",
   "execution_count": 34,
   "id": "2fc26da6",
   "metadata": {},
   "outputs": [
    {
     "name": "stdout",
     "output_type": "stream",
     "text": [
      "209\n"
     ]
    }
   ],
   "source": [
    "def addition(*arg):\n",
    "    p=0\n",
    "    for i in arg:\n",
    "        p+=i\n",
    "    print(p)\n",
    "addition(55,66,88)        "
   ]
  },
  {
   "cell_type": "code",
   "execution_count": 56,
   "id": "d36d8ca7",
   "metadata": {},
   "outputs": [
    {
     "data": {
      "text/plain": [
       "['udav', 'Mon', 'Ra', 'Krhnkjfd']"
      ]
     },
     "execution_count": 56,
     "metadata": {},
     "output_type": "execute_result"
    }
   ],
   "source": [
    "a=['uddhav','Mohan','Raj','Krishnalkjhgfdsa']\n",
    "n=[]\n",
    "for i in a:\n",
    "    b=0\n",
    "    c=[]\n",
    "    for j in range(0,len(i),4):\n",
    "        c.append(i[j:j+2])\n",
    "    n.append(''.join(c))\n",
    "       \n",
    "            \n",
    "            \n",
    "        \n",
    "    \n",
    "n   "
   ]
  },
  {
   "cell_type": "code",
   "execution_count": 46,
   "id": "ad676e4e",
   "metadata": {},
   "outputs": [
    {
     "data": {
      "text/plain": [
       "['abefijmn', 'udav', 'ra', 'krhn']"
      ]
     },
     "execution_count": 46,
     "metadata": {},
     "output_type": "execute_result"
    }
   ],
   "source": [
    "a=['abcdefghijklmn','uddhav','raj','krishna']\n",
    "b = []\n",
    "for i in a:\n",
    "#     print(i)\n",
    "    c = []\n",
    "    for j in range(len(i)):\n",
    "        if j%4 == 0:\n",
    "            k = i[j:j+2]\n",
    "            c.append(k)\n",
    "    b.append(''.join(c))\n",
    "            \n",
    "b\n",
    "    \n",
    "    "
   ]
  },
  {
   "cell_type": "code",
   "execution_count": 71,
   "id": "d5fd10dd",
   "metadata": {},
   "outputs": [
    {
     "data": {
      "text/plain": [
       "[1, 2, 3, 3, 4, 5, 7, 54, 324, 564, 3234]"
      ]
     },
     "execution_count": 71,
     "metadata": {},
     "output_type": "execute_result"
    }
   ],
   "source": [
    "m=[5,3,2,1,4,7,54,3,564,3234,324]\n",
    "d=[]\n",
    "\n",
    "for j in range(len(m)):\n",
    "    c=m[0]\n",
    "    for i in m:\n",
    "        if i < c:\n",
    "            c=i\n",
    "    d.append(c)\n",
    "    m.remove(c)\n",
    "d"
   ]
  },
  {
   "cell_type": "code",
   "execution_count": 72,
   "id": "05a2a071",
   "metadata": {},
   "outputs": [
    {
     "data": {
      "text/plain": [
       "[3234, 564, 324, 54, 7, 5, 4, 3, 3, 2, 1]"
      ]
     },
     "execution_count": 72,
     "metadata": {},
     "output_type": "execute_result"
    }
   ],
   "source": [
    "m=[5,3,2,1,4,7,54,3,564,3234,324]\n",
    "d=[]\n",
    "\n",
    "for j in range(len(m)):\n",
    "    c=m[0]\n",
    "    for i in m:\n",
    "        if i > c:\n",
    "            c=i\n",
    "    d.append(c)\n",
    "    m.remove(c)\n",
    "d"
   ]
  },
  {
   "cell_type": "code",
   "execution_count": 2,
   "id": "565fb307",
   "metadata": {},
   "outputs": [
    {
     "data": {
      "text/plain": [
       "[1, 2, 3, 3, 4, 5, 7, 54, 324, 564, 3234]"
      ]
     },
     "execution_count": 2,
     "metadata": {},
     "output_type": "execute_result"
    }
   ],
   "source": [
    "m=[5,3,2,1,4,7,54,3,564,3234,324]\n",
    "\n",
    "d=[]\n",
    "for j in range(len(m)):\n",
    "    c=m[0]\n",
    "    for i in m:\n",
    "        if i < c:\n",
    "            c=i\n",
    "\n",
    "    d.append(c)\n",
    "    m.remove(c)\n",
    "d"
   ]
  },
  {
   "cell_type": "code",
   "execution_count": 5,
   "id": "f6064f6b",
   "metadata": {},
   "outputs": [],
   "source": [
    "p=['gg','hh']"
   ]
  },
  {
   "cell_type": "code",
   "execution_count": 8,
   "id": "a5bd5912",
   "metadata": {},
   "outputs": [
    {
     "name": "stdout",
     "output_type": "stream",
     "text": [
      "gg\n",
      "available\n"
     ]
    }
   ],
   "source": [
    "b=input()\n",
    "\n",
    "if b in p:\n",
    "    print('available')\n",
    "else:\n",
    "    print('not available')\n",
    "  \n",
    "   "
   ]
  },
  {
   "cell_type": "code",
   "execution_count": 11,
   "id": "b491c255",
   "metadata": {},
   "outputs": [
    {
     "ename": "TypeError",
     "evalue": "'int' object is not subscriptable",
     "output_type": "error",
     "traceback": [
      "\u001b[1;31m---------------------------------------------------------------------------\u001b[0m",
      "\u001b[1;31mTypeError\u001b[0m                                 Traceback (most recent call last)",
      "Cell \u001b[1;32mIn [11], line 1\u001b[0m\n\u001b[1;32m----> 1\u001b[0m \u001b[43ma\u001b[49m\u001b[43m[\u001b[49m\u001b[38;5;241;43m0\u001b[39;49m\u001b[43m:\u001b[49m\u001b[38;5;241;43m4\u001b[39;49m\u001b[43m]\u001b[49m\n",
      "\u001b[1;31mTypeError\u001b[0m: 'int' object is not subscriptable"
     ]
    }
   ],
   "source": [
    "a[0:4]"
   ]
  },
  {
   "cell_type": "code",
   "execution_count": 12,
   "id": "69cebeda",
   "metadata": {},
   "outputs": [],
   "source": [
    "a='ggggg'"
   ]
  },
  {
   "cell_type": "code",
   "execution_count": 13,
   "id": "e08b20b7",
   "metadata": {},
   "outputs": [
    {
     "data": {
      "text/plain": [
       "'GGGGG'"
      ]
     },
     "execution_count": 13,
     "metadata": {},
     "output_type": "execute_result"
    }
   ],
   "source": [
    "a.swapcase()"
   ]
  },
  {
   "cell_type": "code",
   "execution_count": 16,
   "id": "d9d0c8c5",
   "metadata": {},
   "outputs": [],
   "source": [
    "assert 16==16, 'perfect'"
   ]
  },
  {
   "cell_type": "code",
   "execution_count": 1,
   "id": "5fc1f8f5",
   "metadata": {},
   "outputs": [],
   "source": [
    "#####################################################################################################"
   ]
  },
  {
   "cell_type": "code",
   "execution_count": null,
   "id": "2bdabaae",
   "metadata": {},
   "outputs": [],
   "source": [
    "# anagram\n",
    "a='ramarama'\n",
    "c=[]\n",
    "b=input()\n",
    "\n",
    "for i in b:\n",
    "    if i in a and len(a)==len(b):\n",
    "        \n",
    "            \n",
    "            \n",
    "            "
   ]
  },
  {
   "cell_type": "code",
   "execution_count": 15,
   "id": "ff1b6a76",
   "metadata": {},
   "outputs": [
    {
     "data": {
      "text/plain": [
       "['pop', 'level']"
      ]
     },
     "execution_count": 15,
     "metadata": {},
     "output_type": "execute_result"
    }
   ],
   "source": [
    "e=['dog','pop','cat','level','fox']\n",
    "p=[]\n",
    "for a in e:\n",
    "    b=[]\n",
    "    for i in range(len(a)-1,-1,-1):\n",
    "        b.append(a[i])\n",
    "\n",
    "    c=''.join(b)\n",
    "    if c==a:\n",
    "        p.append(a)\n",
    "p"
   ]
  },
  {
   "cell_type": "code",
   "execution_count": 14,
   "id": "2af1f447",
   "metadata": {},
   "outputs": [
    {
     "data": {
      "text/plain": [
       "['pop', 'level']"
      ]
     },
     "execution_count": 14,
     "metadata": {},
     "output_type": "execute_result"
    }
   ],
   "source": [
    "p"
   ]
  },
  {
   "cell_type": "code",
   "execution_count": 19,
   "id": "ef6524f6",
   "metadata": {},
   "outputs": [
    {
     "data": {
      "text/plain": [
       "['Pop', 'level']"
      ]
     },
     "execution_count": 19,
     "metadata": {},
     "output_type": "execute_result"
    }
   ],
   "source": [
    "e=['Dog','Pop','cat','level','fox']\n",
    "p=[]\n",
    "for a in e:\n",
    "    b=[]\n",
    "    for i in range(len(a)-1,-1,-1):\n",
    "        b.append(a[i])\n",
    "\n",
    "    c=''.join(b)\n",
    "    if c.lower()==a.lower():\n",
    "        p.append(a)\n",
    "p"
   ]
  },
  {
   "cell_type": "code",
   "execution_count": 25,
   "id": "a738c9b4",
   "metadata": {},
   "outputs": [
    {
     "data": {
      "text/plain": [
       "['Pop', 'level']"
      ]
     },
     "execution_count": 25,
     "metadata": {},
     "output_type": "execute_result"
    }
   ],
   "source": [
    "e=['Dog','Pop','cat','level','fox']\n",
    "p=[]\n",
    "for a in e:\n",
    "    if a.lower()==a.lower()[::-1]:\n",
    "        p.append(a)\n",
    "p"
   ]
  },
  {
   "cell_type": "code",
   "execution_count": 26,
   "id": "c767bb83",
   "metadata": {},
   "outputs": [
    {
     "data": {
      "text/plain": [
       "['Pop', 'level']"
      ]
     },
     "execution_count": 26,
     "metadata": {},
     "output_type": "execute_result"
    }
   ],
   "source": [
    "e=['Dog','Pop','cat','level','fox']\n",
    "p=[]\n",
    "for a in e:\n",
    "    if a.lower()==a.lower()[::-1]:\n",
    "        p.append(a)\n",
    "p"
   ]
  },
  {
   "cell_type": "code",
   "execution_count": 2,
   "id": "06089a70",
   "metadata": {},
   "outputs": [
    {
     "name": "stdout",
     "output_type": "stream",
     "text": [
      "dog\n",
      "not available\n"
     ]
    }
   ],
   "source": [
    "e=['Dog','Pop','cat','level','fox']\n",
    "b=input()\n",
    "if b.lower() in e:\n",
    "    print('available')\n",
    "else:\n",
    "    print('not available')"
   ]
  },
  {
   "cell_type": "code",
   "execution_count": 14,
   "id": "4210a256",
   "metadata": {},
   "outputs": [
    {
     "data": {
      "text/plain": [
       "[22, 555]"
      ]
     },
     "execution_count": 14,
     "metadata": {},
     "output_type": "execute_result"
    }
   ],
   "source": [
    "e=[22,3334,555]\n",
    "p=[]\n",
    "for a in e:\n",
    "    b=[]\n",
    "    for i in range(len(str(a))-1,-1,-1):\n",
    "        b.append(str(a)[i])\n",
    "\n",
    "    c=''.join(b)\n",
    "    if c.lower()==str(a).lower():\n",
    "        p.append(a)\n",
    "p"
   ]
  },
  {
   "cell_type": "code",
   "execution_count": 6,
   "id": "2e7fdee2",
   "metadata": {},
   "outputs": [
    {
     "ename": "KeyboardInterrupt",
     "evalue": "",
     "output_type": "error",
     "traceback": [
      "\u001b[1;31m---------------------------------------------------------------------------\u001b[0m",
      "\u001b[1;31mKeyboardInterrupt\u001b[0m                         Traceback (most recent call last)",
      "Cell \u001b[1;32mIn [6], line 7\u001b[0m\n\u001b[0;32m      5\u001b[0m \u001b[38;5;28;01mwhile\u001b[39;00m num \u001b[38;5;241m!=\u001b[39m \u001b[38;5;241m0\u001b[39m: \n\u001b[0;32m      6\u001b[0m     digit \u001b[38;5;241m=\u001b[39m num \u001b[38;5;241m%\u001b[39m \u001b[38;5;241m10\u001b[39m \n\u001b[1;32m----> 7\u001b[0m     reversed_num \u001b[38;5;241m=\u001b[39m reversed_num \u001b[38;5;241m*\u001b[39m \u001b[38;5;241m10\u001b[39m \u001b[38;5;241m+\u001b[39m \u001b[43mdigit\u001b[49m \n\u001b[0;32m      8\u001b[0m     num \u001b[38;5;241m/\u001b[39m\u001b[38;5;241m/\u001b[39m\u001b[38;5;241m=\u001b[39m \u001b[38;5;241m10\u001b[39m \n\u001b[0;32m      9\u001b[0m \u001b[38;5;28mprint\u001b[39m(\u001b[38;5;124m\"\u001b[39m\u001b[38;5;124mReversed Number: \u001b[39m\u001b[38;5;124m\"\u001b[39m \u001b[38;5;241m+\u001b[39m \u001b[38;5;28mstr\u001b[39m(reversed_num))\n",
      "\u001b[1;31mKeyboardInterrupt\u001b[0m: "
     ]
    }
   ],
   "source": [
    "e=[-22,3334,555]\n",
    "p=[]\n",
    "for num in e:\n",
    "    reversed_num = 0 \n",
    "    while num != 0: \n",
    "        digit = num % 10 \n",
    "        reversed_num = reversed_num * 10 + digit \n",
    "        num //= 10 \n",
    "    print(\"Reversed Number: \" + str(reversed_num))\n"
   ]
  },
  {
   "cell_type": "code",
   "execution_count": 13,
   "id": "30de287f",
   "metadata": {},
   "outputs": [
    {
     "data": {
      "text/plain": [
       "0"
      ]
     },
     "execution_count": 13,
     "metadata": {},
     "output_type": "execute_result"
    }
   ],
   "source": [
    "class Solution:\n",
    "    def reverse(self, x: int) -> int:\n",
    "        Max= 2**31 - 1\n",
    "        Min = -2**31\n",
    "        sign= 1 if x >= 0 else -1\n",
    "        x = abs(x)\n",
    "        result=0\n",
    "        while x!=0:\n",
    "            digit=x%10\n",
    "            x=x//10\n",
    "            if result > (Max - digit) // 10:\n",
    "                return 0\n",
    "            result=result*10 +digit\n",
    "            \n",
    "        return result*sign\n",
    "obj=Solution()\n",
    "obj.reverse(1534236469)"
   ]
  },
  {
   "cell_type": "code",
   "execution_count": 18,
   "id": "25d1ac5e",
   "metadata": {},
   "outputs": [
    {
     "data": {
      "text/plain": [
       "4321"
      ]
     },
     "execution_count": 18,
     "metadata": {},
     "output_type": "execute_result"
    }
   ],
   "source": [
    "n=1234\n",
    "m=str(n)\n",
    "j=''\n",
    "for i in m:\n",
    "    j+=m[-1]\n",
    "    k=m.replace(m[-1],'')\n",
    "    m=k\n",
    "int(j)"
   ]
  },
  {
   "cell_type": "code",
   "execution_count": 22,
   "id": "aec25c9f",
   "metadata": {},
   "outputs": [
    {
     "name": "stdout",
     "output_type": "stream",
     "text": [
      "4321\n"
     ]
    }
   ],
   "source": [
    "n=1234\n",
    "m=list(str(n))\n",
    "b=[]\n",
    "for i in range(len(m)-1,-1,-1):\n",
    "    b.append(m[i])\n",
    "print(''.join(b))\n"
   ]
  },
  {
   "cell_type": "code",
   "execution_count": 24,
   "id": "0c1337e3",
   "metadata": {},
   "outputs": [
    {
     "name": "stdout",
     "output_type": "stream",
     "text": [
      "ab\n",
      "ac\n",
      "ba\n",
      "bc\n",
      "ca\n",
      "cb\n"
     ]
    }
   ],
   "source": [
    "a=['a','b','c']\n",
    "for i in a:\n",
    "    for j in a:\n",
    "        if i!=j:\n",
    "            print(i+j)\n",
    "        "
   ]
  },
  {
   "cell_type": "code",
   "execution_count": 27,
   "id": "09f1b97a",
   "metadata": {},
   "outputs": [
    {
     "data": {
      "text/plain": [
       "['ab', 'ac', 'ba', 'bc', 'ca', 'cb']"
      ]
     },
     "execution_count": 27,
     "metadata": {},
     "output_type": "execute_result"
    }
   ],
   "source": [
    "[i+j for i in a  for j in a if i!=j]"
   ]
  },
  {
   "cell_type": "code",
   "execution_count": 25,
   "id": "54557e83",
   "metadata": {},
   "outputs": [
    {
     "name": "stdout",
     "output_type": "stream",
     "text": [
      "abc\n",
      "acb\n",
      "bac\n",
      "bca\n",
      "cab\n",
      "cba\n"
     ]
    }
   ],
   "source": [
    "a=['a','b','c']\n",
    "for i in a:\n",
    "    for j in a:\n",
    "        for k in a:\n",
    "            if i!=j and i!=k and j!=k:\n",
    "                print(i+j+k)"
   ]
  },
  {
   "cell_type": "code",
   "execution_count": 26,
   "id": "84729135",
   "metadata": {},
   "outputs": [
    {
     "data": {
      "text/plain": [
       "['abc', 'acb', 'bac', 'bca', 'cab', 'cba']"
      ]
     },
     "execution_count": 26,
     "metadata": {},
     "output_type": "execute_result"
    }
   ],
   "source": [
    "[i+j+k for i in a for j in a for k in a if i!=j and i!=k and j!=k]"
   ]
  },
  {
   "cell_type": "code",
   "execution_count": 66,
   "id": "9e165194",
   "metadata": {},
   "outputs": [],
   "source": [
    "a = {'c1':'5b',\n",
    "    'c2':'6b',\n",
    "    'c3':'25b',\n",
    "    'c4':'14b'\n",
    "    }\n"
   ]
  },
  {
   "cell_type": "code",
   "execution_count": 72,
   "id": "6838b2b3",
   "metadata": {},
   "outputs": [
    {
     "name": "stdout",
     "output_type": "stream",
     "text": [
      "c3\n"
     ]
    }
   ],
   "source": [
    "c=0\n",
    "g=0\n",
    "for j,i in a.items():\n",
    "    b=int(i.replace('b',''))\n",
    "    if b > c:\n",
    "        g+=c\n",
    "        c=b\n",
    "     \n",
    "for j,i in a.items():\n",
    "    if a[j]==str(c)+'b':\n",
    "        print(j)\n",
    "        \n",
    "   \n"
   ]
  },
  {
   "cell_type": "code",
   "execution_count": 1,
   "id": "af7ef999",
   "metadata": {},
   "outputs": [],
   "source": [
    "#####################"
   ]
  },
  {
   "cell_type": "code",
   "execution_count": 4,
   "id": "cf10e3d8",
   "metadata": {},
   "outputs": [
    {
     "data": {
      "text/plain": [
       "{1, 2, 3, 4, 5, 6, 7, 8, 9}"
      ]
     },
     "execution_count": 4,
     "metadata": {},
     "output_type": "execute_result"
    }
   ],
   "source": [
    "a=[1,1,2,3,4,4,4,4,4,6,7,8,6,5,5,8,9]\n",
    "b=set(a)\n",
    "b"
   ]
  },
  {
   "cell_type": "code",
   "execution_count": 8,
   "id": "5bb39eee",
   "metadata": {},
   "outputs": [
    {
     "data": {
      "text/plain": [
       "{1: 2, 2: 1, 3: 1, 4: 5, 5: 2, 6: 2, 7: 1, 8: 2, 9: 1}"
      ]
     },
     "execution_count": 8,
     "metadata": {},
     "output_type": "execute_result"
    }
   ],
   "source": [
    "a=[1,1,2,3,4,4,4,4,4,6,7,8,6,5,5,8,9]\n",
    "b=set(a)\n",
    "\n",
    "p={}\n",
    "for i in b:\n",
    "    c=0\n",
    " \n",
    "    for j in a:\n",
    "        if i==j:\n",
    "            c+=1\n",
    "    p[i]=c\n",
    "   \n",
    "    \n",
    "            \n",
    "\n",
    "p"
   ]
  },
  {
   "cell_type": "code",
   "execution_count": null,
   "id": "d6a050da",
   "metadata": {},
   "outputs": [],
   "source": [
    "a=[1,1,2,3,4,4,4,4,4,6,7,8,6,5,5,8,9] \n",
    "b=set(a)\n",
    "for i in b:\n",
    "    print(i,' : ',a.count(i))"
   ]
  },
  {
   "cell_type": "code",
   "execution_count": 32,
   "id": "1afeb30c",
   "metadata": {},
   "outputs": [
    {
     "data": {
      "text/plain": [
       "Counter({1: 2, 2: 1, 3: 1, 4: 5, 6: 2, 7: 1, 8: 2, 5: 2, 9: 1})"
      ]
     },
     "execution_count": 32,
     "metadata": {},
     "output_type": "execute_result"
    }
   ],
   "source": [
    "a=[1,1,2,3,4,4,4,4,4,6,7,8,6,5,5,8,9] \n",
    "from collections import Counter\n",
    "x=Counter(a)\n",
    "x"
   ]
  },
  {
   "cell_type": "code",
   "execution_count": 20,
   "id": "97282b11",
   "metadata": {},
   "outputs": [
    {
     "data": {
      "text/plain": [
       "{1: 8, 2: 7, 3: 6, 4: 5}"
      ]
     },
     "execution_count": 20,
     "metadata": {},
     "output_type": "execute_result"
    }
   ],
   "source": [
    "a=[1,1,2,3,4,4,4,4,4,6,7,8,6,5,5,8,9]               {1, 2, 3, 4, 5, 6, 7, 8, 9}         {1, 2, 3, 4, 5, 6, 7, 8, 9}\n",
    "b=set(a)\n",
    "p={}\n",
    "for i in b:                                             \n",
    "    \n",
    "    for j in b:\n",
    "        if i+j==9 and i not in p and j not in p:\n",
    "            p[i]=j\n",
    "            \n",
    "            \n",
    "            \n",
    "            \n",
    "    \n",
    "   \n",
    "    \n",
    "            \n",
    "\n",
    "\n",
    "\n",
    "\n",
    "\n",
    "\n",
    "p"
   ]
  },
  {
   "cell_type": "code",
   "execution_count": 28,
   "id": "f80032de",
   "metadata": {},
   "outputs": [
    {
     "name": "stdout",
     "output_type": "stream",
     "text": [
      "1 8\n",
      "2 7\n",
      "3 6\n",
      "4 5\n",
      "{1, 2, 3, 4, 5, 6, 7, 8, 9}\n"
     ]
    }
   ],
   "source": [
    "a=[1,1,2,3,4,4,4,4,4,6,7,8,6,5,5,8,9]               \n",
    "b=set(a)\n",
    "p=[]\n",
    "for i in b:\n",
    "    \n",
    "    for j in b:\n",
    "        if i+j==9 and i not in p and j not in p:\n",
    "            p.extend([i,j])\n",
    "            print(i,j)\n",
    "                     \n",
    "        \n",
    "            \n",
    "            \n",
    "            \n",
    "            \n",
    "    \n",
    "   \n",
    "    \n",
    "            \n",
    "\n",
    "\n",
    "\n",
    "\n",
    "\n",
    "\n",
    "print(b)"
   ]
  },
  {
   "cell_type": "code",
   "execution_count": 31,
   "id": "1039c191",
   "metadata": {},
   "outputs": [
    {
     "name": "stdout",
     "output_type": "stream",
     "text": [
      "1  :  2\n",
      "2  :  1\n",
      "3  :  1\n",
      "4  :  5\n",
      "5  :  2\n",
      "6  :  2\n",
      "7  :  1\n",
      "8  :  2\n",
      "9  :  1\n"
     ]
    }
   ],
   "source": [
    "a=[1,1,2,3,4,4,4,4,4,6,7,8,6,5,5,8,9] \n",
    "b=set(a)\n",
    "for i in b:\n",
    "    print(i,' : ',a.count(i))"
   ]
  },
  {
   "cell_type": "code",
   "execution_count": 34,
   "id": "5db46ddc",
   "metadata": {},
   "outputs": [
    {
     "name": "stdout",
     "output_type": "stream",
     "text": [
      "unique:  [2, 3, 7, 9]\n",
      "duplicate:  [1, 4, 5, 6, 8]\n"
     ]
    }
   ],
   "source": [
    "a=[1,1,2,3,4,4,4,4,4,6,7,8,6,5,5,8,9]\n",
    "b=set(a)\n",
    "\n",
    "unique=[]\n",
    "duplicate=[]\n",
    "for i in b:\n",
    "    c=0\n",
    " \n",
    "    for j in a:\n",
    "        if i==j:\n",
    "            c+=1\n",
    "    if c==1:\n",
    "        unique.append(i)\n",
    "    else:\n",
    "        duplicate.append(i)\n",
    "        \n",
    "        \n",
    "   \n",
    "    \n",
    "            \n",
    "\n",
    "print(\"unique: \",unique)\n",
    "print(\"duplicate: \",duplicate)"
   ]
  },
  {
   "cell_type": "code",
   "execution_count": 6,
   "id": "ef530d01",
   "metadata": {},
   "outputs": [
    {
     "data": {
      "text/plain": [
       "['every ',\n",
       " 'person ',\n",
       " 'has ',\n",
       " 'ability ',\n",
       " 'to ',\n",
       " 'do ',\n",
       " 'anything ',\n",
       " 'if ',\n",
       " 'is ',\n",
       " 'possible ',\n",
       " 'to ',\n",
       " 'a ',\n",
       " 'person ',\n",
       " 'which ',\n",
       " 'is ',\n",
       " 'living ',\n",
       " 'on ',\n",
       " 'the ']"
      ]
     },
     "execution_count": 6,
     "metadata": {},
     "output_type": "execute_result"
    }
   ],
   "source": [
    "\n",
    "s='every person has ability to do anything if is possible to a person which is living on the earth'\n",
    "b=[]\n",
    "l=[]\n",
    "for i in s:\n",
    "    l.append(i)\n",
    "    if i==' ':\n",
    "        c=''.join(l)\n",
    "        \n",
    "        b.append(c)\n",
    "        l=[]\n",
    "        \n",
    "        \n",
    "\n",
    "        \n",
    "b    "
   ]
  },
  {
   "cell_type": "code",
   "execution_count": 11,
   "id": "53b98d6a",
   "metadata": {},
   "outputs": [
    {
     "name": "stdout",
     "output_type": "stream",
     "text": [
      "digit2\n",
      "10\n",
      "11\n",
      "12\n",
      "13\n",
      "14\n",
      "15\n",
      "16\n",
      "17\n",
      "18\n",
      "19\n",
      "20\n",
      "21\n",
      "22\n",
      "23\n",
      "24\n",
      "25\n",
      "26\n",
      "27\n",
      "28\n",
      "29\n",
      "30\n",
      "31\n",
      "32\n",
      "33\n",
      "34\n",
      "35\n",
      "36\n",
      "37\n",
      "38\n",
      "39\n",
      "40\n",
      "41\n",
      "42\n",
      "43\n",
      "44\n",
      "45\n",
      "46\n",
      "47\n",
      "48\n",
      "49\n",
      "50\n",
      "51\n",
      "52\n",
      "53\n",
      "54\n",
      "55\n",
      "56\n",
      "57\n",
      "58\n",
      "59\n",
      "60\n",
      "61\n",
      "62\n",
      "63\n",
      "64\n",
      "65\n",
      "66\n",
      "67\n",
      "68\n",
      "69\n",
      "70\n",
      "71\n",
      "72\n",
      "73\n",
      "74\n",
      "75\n",
      "76\n",
      "77\n",
      "78\n",
      "79\n",
      "80\n",
      "81\n",
      "82\n",
      "83\n",
      "84\n",
      "85\n",
      "86\n",
      "87\n",
      "88\n",
      "89\n",
      "90\n",
      "91\n",
      "92\n",
      "93\n",
      "94\n",
      "95\n",
      "96\n",
      "97\n",
      "98\n",
      "99\n"
     ]
    }
   ],
   "source": [
    "d=int(input('digit'))     \n",
    "\n",
    "for i in range(int('1'+'0'*(d-1)),int('1'+'0'*(d))):\n",
    "    print(i)"
   ]
  },
  {
   "cell_type": "code",
   "execution_count": 17,
   "id": "4bd47fcb",
   "metadata": {},
   "outputs": [
    {
     "name": "stdout",
     "output_type": "stream",
     "text": [
      "digit2\n",
      "10\n",
      "11\n",
      "12\n",
      "13\n",
      "14\n",
      "15\n",
      "16\n",
      "17\n",
      "18\n",
      "19\n",
      "20\n",
      "21\n",
      "22\n",
      "23\n",
      "24\n",
      "25\n",
      "26\n",
      "27\n",
      "28\n",
      "29\n",
      "30\n",
      "31\n",
      "32\n",
      "33\n",
      "34\n",
      "35\n",
      "36\n",
      "37\n",
      "38\n",
      "39\n",
      "40\n",
      "41\n",
      "42\n",
      "43\n",
      "44\n",
      "45\n",
      "46\n",
      "47\n",
      "48\n",
      "49\n",
      "50\n",
      "51\n",
      "52\n",
      "53\n",
      "54\n",
      "55\n",
      "56\n",
      "57\n",
      "58\n",
      "59\n",
      "60\n",
      "61\n",
      "62\n",
      "63\n",
      "64\n",
      "65\n",
      "66\n",
      "67\n",
      "68\n",
      "69\n",
      "70\n",
      "71\n",
      "72\n",
      "73\n",
      "74\n",
      "75\n",
      "76\n",
      "77\n",
      "78\n",
      "79\n",
      "80\n",
      "81\n",
      "82\n",
      "83\n",
      "84\n",
      "85\n",
      "86\n",
      "87\n",
      "88\n",
      "89\n",
      "90\n",
      "91\n",
      "92\n",
      "93\n",
      "94\n",
      "95\n",
      "96\n",
      "97\n",
      "98\n",
      "99\n"
     ]
    }
   ],
   "source": [
    "d=int(input('digit'))     \n",
    "c='0000000000000'\n",
    "for i in range(int('1'+c[0:d-1]),int('1'+c[0:d])):\n",
    "    print(i)"
   ]
  },
  {
   "cell_type": "code",
   "execution_count": null,
   "id": "b4aed4d7",
   "metadata": {},
   "outputs": [],
   "source": []
  },
  {
   "cell_type": "code",
   "execution_count": 1,
   "id": "21713375",
   "metadata": {},
   "outputs": [
    {
     "name": "stdout",
     "output_type": "stream",
     "text": [
      "ayilaa\n"
     ]
    }
   ],
   "source": [
    "s='aaliya'\n",
    "l=[]\n",
    "for i in s:\n",
    "    l.insert(0,i)\n",
    "print(\"\".join(l))"
   ]
  },
  {
   "cell_type": "code",
   "execution_count": 46,
   "id": "2a018503",
   "metadata": {},
   "outputs": [
    {
     "name": "stdout",
     "output_type": "stream",
     "text": [
      "ayilaa"
     ]
    }
   ],
   "source": [
    "s='aaliya'\n",
    "for j in range(len(s)-1,-1,-1):\n",
    "    for i in s:   \n",
    "        print(end=''.join(s[j]))\n",
    "        break\n",
    "    \n",
    "        \n",
    "        \n",
    "    \n",
    "        \n",
    "        \n",
    " \n",
    "        \n",
    "                  \n",
    "  "
   ]
  },
  {
   "cell_type": "code",
   "execution_count": 47,
   "id": "bce5f8f7",
   "metadata": {},
   "outputs": [
    {
     "name": "stdout",
     "output_type": "stream",
     "text": [
      "ayilaa"
     ]
    }
   ],
   "source": [
    "s='aaliya'\n",
    "for j in range(len(s)-1,-1,-1):\n",
    "    for i in s:   \n",
    "        print(s[j],end='')\n",
    "        break"
   ]
  },
  {
   "cell_type": "code",
   "execution_count": 48,
   "id": "598ae6b0",
   "metadata": {},
   "outputs": [
    {
     "name": "stdout",
     "output_type": "stream",
     "text": [
      "ayilaanahoMjarvahddU"
     ]
    }
   ],
   "source": [
    "p=['aaliya','Mohan',\"raj\",'Uddhav']\n",
    "for  s in p:\n",
    "    for j in range(len(s)-1,-1,-1):\n",
    "        for i in s:   \n",
    "            print(s[j],end='')\n",
    "            break\n",
    "    "
   ]
  },
  {
   "cell_type": "code",
   "execution_count": 8,
   "id": "1592dd72",
   "metadata": {},
   "outputs": [
    {
     "name": "stdout",
     "output_type": "stream",
     "text": [
      "ayilaa \n",
      "nahoM \n",
      "jar \n",
      "vahddU \n"
     ]
    }
   ],
   "source": [
    "p=['aaliya','Mohan',\"raj\",'Uddhav']\n",
    "\n",
    "for  s in p:\n",
    "    \n",
    "    for j in range(len(s)-1,-1,-1):\n",
    "           \n",
    "        print(end =''.join(s[j]))\n",
    "    print(' ')\n",
    "    \n",
    "            "
   ]
  },
  {
   "cell_type": "code",
   "execution_count": 15,
   "id": "777b7fbd",
   "metadata": {},
   "outputs": [],
   "source": [
    "p=['aaliya','Mohan',\"raj\",'Uddhav']\n",
    "\n",
    "for  s in p:\n",
    "    g=[]\n",
    "    for j in range(len(s)-1,-1,-1):\n",
    "        g.append(s[j])\n",
    "           \n",
    "    p.remove(s)\n",
    "    p.insert(0,''.join(g))"
   ]
  },
  {
   "cell_type": "code",
   "execution_count": 16,
   "id": "9c682dc3",
   "metadata": {},
   "outputs": [
    {
     "data": {
      "text/plain": [
       "['vahddU', 'jar', 'nahoM', 'ayilaa']"
      ]
     },
     "execution_count": 16,
     "metadata": {},
     "output_type": "execute_result"
    }
   ],
   "source": [
    "p"
   ]
  },
  {
   "cell_type": "code",
   "execution_count": 28,
   "id": "b410cf60",
   "metadata": {},
   "outputs": [
    {
     "name": "stdout",
     "output_type": "stream",
     "text": [
      "abcdefghijklmnopqrstuvwxyz  : this is panagram\n",
      "kljhgfdscvfbfgcnvhhmbjn.j,hmgfbdszx  : this is not a panagram\n",
      "jhgfdsfhjghfdvbhgfgdfxhgfc  : this is not a panagram\n"
     ]
    }
   ],
   "source": [
    "p=['abcdefghijklmnopqrstuvwxyz','kljhgfdscvfbfgcnvhhmbjn.j,hmgfbdszx','jhgfdsfhjghfdvbhgfgdfxhgfc','']\n",
    "c=[]\n",
    "b={0,}\n",
    "for i in range(65,91):\n",
    "    c.append(chr(i).lower())\n",
    "for a in p:\n",
    "    b={0,}\n",
    "    for j in a:\n",
    "        if j in c:\n",
    "            b.add(j)\n",
    "    b.remove(0)\n",
    "    if len(b)==26:\n",
    "        print(a,' : this is panagram')\n",
    "    else:\n",
    "        print(a,' : this is not a panagram')\n"
   ]
  },
  {
   "cell_type": "code",
   "execution_count": 29,
   "id": "ed35c49b",
   "metadata": {},
   "outputs": [],
   "source": [
    "# anagram ==> letter of this word must equal and same but different meaning.\n",
    "#Input : \n",
    "s1 = \"listen\"       \n",
    "s2 = \"silent\""
   ]
  },
  {
   "cell_type": "code",
   "execution_count": 35,
   "id": "72506ad3",
   "metadata": {},
   "outputs": [
    {
     "name": "stdout",
     "output_type": "stream",
     "text": [
      "enter first string : ABC\n",
      "enter second string : abc\n",
      "this is anagram\n"
     ]
    }
   ],
   "source": [
    "s1 = input('enter first string : ')       \n",
    "s2 = input('enter second string : ')\n",
    "g=[]\n",
    "for i in s2.lower():\n",
    "    \n",
    "    \n",
    "    if i in  s1.lower():\n",
    "        g.append(i)\n",
    "if len(g)==len(s1):\n",
    "    print('this is anagram')\n",
    "else:\n",
    "    print('this is not a anagram')\n",
    "        "
   ]
  },
  {
   "cell_type": "code",
   "execution_count": null,
   "id": "a6fef666",
   "metadata": {},
   "outputs": [],
   "source": [
    "Implement a python class with below instructions which calculates the tax of the price for a given brand.  \n",
    "\n",
    "Create a python class “Vehicle” \n",
    "\n",
    "Add an init method (constructor) which sets instance variable “tax” with value 18%.  \n",
    "\n",
    "Define a class variable with a dictionary naming “vehicle_pricing” containing brands and prices as a key-value pairs in such a way “Honda” has 150000, “Hero” holds 200000, “Suzuki” holds 250000 \n",
    "\n",
    "Define a method named “final_price” which checks if the brand exist in the dictionary, if yes it adds - the “price” of that brand and “tax” values and returns the final value. If no then return string “Brand does not exist” \n",
    "\n",
    "Create an object of the class \n",
    "\n",
    "Call “final_price” three times with values “Honda”,  “Hero” and “Suzuki” \n",
    "\n",
    " \n",
    "\n",
    "Finding the number. \n",
    "\n",
    "Implement a function named “finder” which accepts an integer argument “num” \n",
    "\n",
    "Check if the number is present in the range of 100 to 500000 and whether prime or not \n",
    "\n",
    "If both the conditions matches then return True else return False \n",
    "\n",
    "Call the function with these values and print at a time: 25, 239, 277, 5000001 \n",
    "\n",
    " \n",
    "\n",
    "Playing with strings. \n",
    "\n",
    "Implement a asynchronous function named “string_manipulation” which accepts argument “para” of string type \n",
    "\n",
    "Split the sentences of the paragraph into a list based on dot “.” \n",
    "\n",
    "Remove the vowels (a,e,I,o,u) from all the sentences and reverse it \n",
    "\n",
    "Return the manipulated list of sentences \n",
    "\n",
    "Define another asynchronous function naming “main” which accepts argument “para” of string type \n",
    "\n",
    "Call the “string_manipulation” function under “main” function by passing the “para” argument to it and store the output in a variable \n",
    "\n",
    "Join all the sentences of the output list with dot “.” \n",
    "\n",
    "Return the final string \n",
    "\n",
    "Call the “main” function with the below paragraph and print the result. \n",
    "\n",
    "Gardening is my favourite hobby. I own a small plot of land next to our house. I cultivate gardening there. Every day, I spend half an hour gardening. After returning from my morning walk, I go to my garden with a spade and a bucket of water. I prepare the soil, prune the plants, and water them. "
   ]
  },
  {
   "cell_type": "code",
   "execution_count": null,
   "id": "e25ee554",
   "metadata": {},
   "outputs": [],
   "source": [
    "\n",
    "Implement a python class with below instructions which calculates the tax of the price for a given brand.  \n",
    "\n",
    "Create a python class “Vehicle” \n",
    "\n",
    "Add an init method (constructor) which sets instance variable “tax” with value 18%.  \n",
    "\n",
    "Define a class variable with a dictionary naming “vehicle_pricing” containing brands and prices as a key-value pairs in such a way “Honda” has 150000, “Hero” holds 200000, “Suzuki” holds 250000 \n",
    "\n",
    "Define a method named “final_price” which checks if the brand exist in the dictionary, if yes it adds - the “price” of that brand and “tax” values and returns the final value. If no then return string “Brand does not exist” \n",
    "\n",
    "Create an object of the class \n",
    "\n",
    "Call “final_price” three times with values “Honda”,  “Hero” and “Suzuki” \n",
    "\n",
    "\n",
    "########################################################\n",
    "class vehicle:\n",
    "    vehicle_pricing={\"Honda\":150000,\"Hero\":200000,\"Suzuki\":250000 }\n",
    "    def __init__(self,tax=18):\n",
    "        self.tax=tax\n",
    "    def final_price(self,brand):\n",
    "        p=[]\n",
    "        for i,j in vehicle.vehicle_pricing.items():\n",
    "            p.append(i)\n",
    "            if brand in p:\n",
    "                return brand,  j+(j*18)/100\n",
    "        else:\n",
    "            return brand,'brand not exist'\n",
    "        \n",
    "\n",
    "                \n",
    "obj=vehicle()   \n",
    "result=obj.final_price('Honda')\n",
    "print(result)\n",
    "\n",
    "result1=obj.final_price('Hero')\n",
    "print(result1)\n",
    "        \n",
    "result2=obj.final_price('Suzuki')\n",
    "print(result2)"
   ]
  },
  {
   "cell_type": "code",
   "execution_count": null,
   "id": "92463ed3",
   "metadata": {},
   "outputs": [],
   "source": [
    "class Vehicle:\n",
    "    vehicle_pricing={\n",
    "        \"brands\":[\"Honda\", \"Hero\", \"Suzuki\"],\n",
    "        \"prices\":[150000,200000,250000]\n",
    "    }\n",
    "    def __init__(self, tax=18):\n",
    "        self.tax = tax\n",
    "\n",
    "    def final_price(self,brand):\n",
    "        if brand in Vehicle.vehicle_pricing['brands']:\n",
    "            index = Vehicle.vehicle_pricing['brands'].index(brand)\n",
    "            price = Vehicle.vehicle_pricing['prices'][index]\n",
    "            Total_price = price+price*self.tax/100\n",
    "            return Total_price\n",
    "obj=vehicle()   \n",
    "result=obj.final_price('Honda')\n",
    "print(result)\n",
    "\n",
    "result1=obj.final_price('Hero')\n",
    "print(result1)\n",
    "        \n",
    "result2=obj.final_price('Suzuki')\n",
    "print(result2)"
   ]
  },
  {
   "cell_type": "code",
   "execution_count": null,
   "id": "49373f41",
   "metadata": {},
   "outputs": [],
   "source": [
    "Finding the number. \n",
    "\n",
    "Implement a function named “finder” which accepts an integer argument “num” \n",
    "\n",
    "Check if the number is present in the range of 100 to 500000 and whether prime or not \n",
    "\n",
    "If both the conditions matches then return True else return False \n",
    "\n",
    "Call the function with these values and print at a time: 25, 239, 277, 5000001 \n",
    "#################################################################################\n",
    "def finder(num):\n",
    "    b=[i for i in range(100, 500001)]\n",
    "    if num in b:\n",
    "        for i in range(2,num):   \n",
    "            if num%i != 0:\n",
    "                return True\n",
    "            else:\n",
    "                return False\n",
    "    else:\n",
    "        return False\n",
    "    \n",
    "            \n",
    "                \n",
    "                \n",
    "                \n",
    "n=[25, 239, 277, 5000001 ]  \n",
    "for j in n:\n",
    "    print(finder(j))\n",
    "        \n",
    "        \n",
    "     "
   ]
  },
  {
   "cell_type": "code",
   "execution_count": null,
   "id": "c1e33c30",
   "metadata": {},
   "outputs": [],
   "source": [
    "\n",
    "Playing with strings. \n",
    "\n",
    "Implement a asynchronous function named “string_manipulation” which accepts argument “para” of string type \n",
    "\n",
    "Split the sentences of the paragraph into a list based on dot “.” \n",
    "\n",
    "Remove the vowels (a,e,I,o,u) from all the sentences and reverse it \n",
    "\n",
    "Return the manipulated list of sentences \n",
    "\n",
    "Define another asynchronous function naming “main” which accepts argument “para” of string type \n",
    "\n",
    "Call the “string_manipulation” function under “main” function by passing the “para” argument to it and store the output in a variable \n",
    "\n",
    "Join all the sentences of the output list with dot “.” \n",
    "\n",
    "Return the final string \n",
    "\n",
    "Call the “main” function with the below paragraph and print the result. \n",
    "\n",
    "Gardening is my favourite hobby. I own a small plot of land next to our house.\n",
    "I cultivate gardening there. Every day, I spend half an hour gardening. After returning from my morning walk,\n",
    "I go to my garden with a spade and a bucket of water. I prepare the soil, prune the plants, and water them. \n",
    "#######################################################################################################\n",
    "def string_manipulation(para):\n",
    "    b=[]\n",
    "    \n",
    "    \n",
    "    for i in para.split('.'):\n",
    "        c=''\n",
    "        for j in i:\n",
    "            if j not in 'aeiou':\n",
    "                c+=j\n",
    "        b.append(c[::-1])  \n",
    "    return b\n",
    "        \n",
    "def main(para):\n",
    "    p=string_manipulation(para)\n",
    "    return '.'.join(p)\n",
    "    \n",
    "            \n",
    "                \n",
    "                \n",
    "m='Gardening is my favourite hobby. I own a small plot of land next to our house. I cultivate gardening there. Every day, I spend half an hour gardening. After returning from my morning walk, I go to my garden with a spade and a bucket of water. I prepare the soil, prune the plants, and water them. '                       \n",
    "    \n",
    "result=main(m)\n",
    "print(result)"
   ]
  },
  {
   "cell_type": "code",
   "execution_count": null,
   "id": "eb335640",
   "metadata": {},
   "outputs": [],
   "source": []
  },
  {
   "cell_type": "code",
   "execution_count": 3,
   "id": "727ce751",
   "metadata": {},
   "outputs": [
    {
     "data": {
      "text/plain": [
       "{'aaliya': 'Phulari',\n",
       " 'Mohan': 'Devde',\n",
       " 'Uddhav': 'sangle',\n",
       " 'swati': 'punasiya'}"
      ]
     },
     "execution_count": 3,
     "metadata": {},
     "output_type": "execute_result"
    }
   ],
   "source": [
    "a=[['aaliya','Mohan','Uddhav','swati'],['Phulari','Devde','sangle','punasiya']]\n",
    "b={}\n",
    "for i in range(0,len(a[0])):\n",
    "    b[a[0][i]]=a[1][i]\n",
    "b\n",
    "    \n",
    "\n",
    "\n",
    "\n"
   ]
  },
  {
   "cell_type": "code",
   "execution_count": 8,
   "id": "097d447b",
   "metadata": {},
   "outputs": [
    {
     "data": {
      "text/plain": [
       "{'aaliya': 'Phulari',\n",
       " 'Mohan': 'Devde',\n",
       " 'Uddhav': 'sangle',\n",
       " 'swati': 'punasiya'}"
      ]
     },
     "execution_count": 8,
     "metadata": {},
     "output_type": "execute_result"
    }
   ],
   "source": [
    "a=[['aaliya','Mohan','Uddhav','swati'],['Phulari','Devde','sangle','punasiya']]\n",
    "{a[0][i]:a[1][i] for i in range(0,len(a[0]))}\n",
    "\n"
   ]
  },
  {
   "cell_type": "code",
   "execution_count": 9,
   "id": "ab57d9e9",
   "metadata": {},
   "outputs": [],
   "source": [
    "a={'aaliya': 'Phulari',\n",
    " 'Mohan': 'Devde',\n",
    " 'Uddhav': 'sangle',\n",
    " 'swati': 'punasiya'}\n"
   ]
  },
  {
   "cell_type": "code",
   "execution_count": 16,
   "id": "b36b3b4c",
   "metadata": {},
   "outputs": [
    {
     "name": "stdout",
     "output_type": "stream",
     "text": [
      "['ayilaa', 'nahoM', 'vahddU', 'itaws'] ['iraluhP', 'edveD', 'elgnas', 'ayisanup']\n"
     ]
    }
   ],
   "source": [
    "b=[]\n",
    "c=[]\n",
    "[b.append(i[::-1]) or c.append(j[::-1]) for i,j in a.items()]\n",
    "    \n",
    "print(b,c)"
   ]
  },
  {
   "cell_type": "code",
   "execution_count": 33,
   "id": "bd706ed0",
   "metadata": {},
   "outputs": [
    {
     "name": "stdout",
     "output_type": "stream",
     "text": [
      "['ayilaa', 'iraluhP', 'nahoM', 'edveD', 'vahddU', 'elgnas', 'itaws', 'ayisanup']\n"
     ]
    }
   ],
   "source": [
    "a={'aaliya': 'Phulari',\n",
    " 'Mohan': 'Devde',\n",
    " 'Uddhav': 'sangle',\n",
    " 'swati': 'punasiya'}\n",
    "b=[]\n",
    "[b.append(i[::-1]) or b.append(j[::-1]) for i,j in a.items()]\n",
    "print(b)"
   ]
  },
  {
   "cell_type": "code",
   "execution_count": 23,
   "id": "72a4c916",
   "metadata": {},
   "outputs": [
    {
     "name": "stdout",
     "output_type": "stream",
     "text": [
      "['ayilaa', 'nahoM', 'vahddU', 'itaws'] ['iraluhP', 'edveD', 'elgnas', 'ayisanup']\n"
     ]
    }
   ],
   "source": [
    "a={'aaliya': 'Phulari',\n",
    " 'Mohan': 'Devde',\n",
    " 'Uddhav': 'sangle',\n",
    " 'swati': 'punasiya'}\n",
    "v=[]\n",
    "for i in a.keys():\n",
    "    v.append(i[::-1])\n",
    "p=[]    \n",
    "for j in a.values():\n",
    "    p.append(j[::-1])\n",
    "\n",
    "    \n",
    "print(v,p)    "
   ]
  },
  {
   "cell_type": "code",
   "execution_count": 25,
   "id": "8a5e688c",
   "metadata": {},
   "outputs": [
    {
     "name": "stdout",
     "output_type": "stream",
     "text": [
      "['ayilaa', 'nahoM', 'vahddU', 'itaws'] ['iraluhP', 'edveD', 'elgnas', 'ayisanup']\n"
     ]
    }
   ],
   "source": [
    "v=[]\n",
    "p=[]\n",
    "for i,j in a.items():\n",
    "    v.append(i[::-1])\n",
    "    p.append(j[::-1])\n",
    "print(v,p)        "
   ]
  },
  {
   "cell_type": "code",
   "execution_count": 28,
   "id": "3ed64e46",
   "metadata": {},
   "outputs": [
    {
     "name": "stdout",
     "output_type": "stream",
     "text": [
      "['ayilaa', 'nahoM', 'vahddU', 'itaws'] ['iraluhP', 'edveD', 'elgnas', 'ayisanup']\n"
     ]
    }
   ],
   "source": [
    "v=[]\n",
    "p=[]\n",
    "[v.append(i[::-1]) or p.append(j[::-1]) for i,j in a.items()]\n",
    "print(v,p)"
   ]
  },
  {
   "cell_type": "code",
   "execution_count": null,
   "id": "deb6c59f",
   "metadata": {},
   "outputs": [],
   "source": [
    "v={'aaliya':'ayilaa','Mohan':'nahoM'}"
   ]
  },
  {
   "cell_type": "code",
   "execution_count": 58,
   "id": "efdb4e7e",
   "metadata": {},
   "outputs": [
    {
     "data": {
      "text/plain": [
       "{'aaliya': 'ayilaa', 'Mohan': 'nahoM', 'Uddhav': 'vahddU', 'swati': 'itaws'}"
      ]
     },
     "execution_count": 58,
     "metadata": {},
     "output_type": "execute_result"
    }
   ],
   "source": [
    "p=['aaliya','Mohan','Uddhav','swati']\n",
    "v={}\n",
    "for i in p:\n",
    "    b=[]\n",
    "    for j in range(len(i)-1,-1,-1):\n",
    "        b.append(i[j])\n",
    "        \n",
    "    v[i]=''.join(b)    \n",
    "v    "
   ]
  },
  {
   "cell_type": "code",
   "execution_count": 40,
   "id": "ddcbdfee",
   "metadata": {},
   "outputs": [
    {
     "name": "stdout",
     "output_type": "stream",
     "text": [
      "{'aaliya': 'ayilaa', 'Mohan': 'nahoM', 'Uddhav': 'vahddU', 'swati': 'itaws'}\n"
     ]
    }
   ],
   "source": [
    "a=['aaliya','Mohan','Uddhav','swati']\n",
    "d={}\n",
    "for i in a:\n",
    "    d[i]=i[::-1]\n",
    "print(d)"
   ]
  },
  {
   "cell_type": "code",
   "execution_count": 61,
   "id": "d9697e52",
   "metadata": {},
   "outputs": [
    {
     "data": {
      "text/plain": [
       "['lod', 'lod', 'lod', 'old', 'old', 'old', 'old', 'old', 'old']"
      ]
     },
     "execution_count": 61,
     "metadata": {},
     "output_type": "execute_result"
    }
   ],
   "source": [
    "v='old'       # old, lod,dol,ldo,dlo,odl       old,lod,ldo,dlo,ldo\n",
    "p=list(v)\n",
    "\n",
    "g=[]\n",
    "for i in v:\n",
    "    \n",
    "    for j in range(len(v)-1,-1,-1):\n",
    "        p.insert(j,i)\n",
    "        p.remove(i)\n",
    "        g.append(''.join(p))\n",
    "        \n",
    "    \n",
    "        \n",
    "        \n",
    "    \n",
    "    \n",
    "    \n",
    "   \n",
    "        \n",
    "\n",
    "        \n",
    "        \n",
    "g        \n"
   ]
  },
  {
   "cell_type": "code",
   "execution_count": 68,
   "id": "5d435fe2",
   "metadata": {},
   "outputs": [
    {
     "name": "stdout",
     "output_type": "stream",
     "text": [
      "nahoM\n",
      "vahddu\n"
     ]
    }
   ],
   "source": [
    "# reverse string\n",
    "c=['Mohan','uddhav']\n",
    "for b in c:\n",
    "    print(''.join(list(b)[-1:-len(b)-1:-1]))"
   ]
  },
  {
   "cell_type": "code",
   "execution_count": 72,
   "id": "bc7a639c",
   "metadata": {},
   "outputs": [
    {
     "data": {
      "text/plain": [
       "(97, 122)"
      ]
     },
     "execution_count": 72,
     "metadata": {},
     "output_type": "execute_result"
    }
   ],
   "source": [
    "ord('a'),ord('z')"
   ]
  },
  {
   "cell_type": "code",
   "execution_count": 73,
   "id": "f0f53720",
   "metadata": {},
   "outputs": [
    {
     "data": {
      "text/plain": [
       "(65, 90)"
      ]
     },
     "execution_count": 73,
     "metadata": {},
     "output_type": "execute_result"
    }
   ],
   "source": [
    "ord('A'),ord('Z')"
   ]
  },
  {
   "cell_type": "code",
   "execution_count": 75,
   "id": "ba42ed07",
   "metadata": {},
   "outputs": [
    {
     "name": "stdout",
     "output_type": "stream",
     "text": [
      "['Mohan', 'Uddhav']\n"
     ]
    }
   ],
   "source": [
    "from random import shuffle\n",
    "v=['Mohan','Uddhav']\n",
    "shuffle(v)\n",
    "print(v)"
   ]
  },
  {
   "cell_type": "code",
   "execution_count": 76,
   "id": "97536cf7",
   "metadata": {},
   "outputs": [],
   "source": [
    "v='aaliya'\n",
    "p=list(v)"
   ]
  },
  {
   "cell_type": "code",
   "execution_count": 77,
   "id": "9dfd2b63",
   "metadata": {},
   "outputs": [
    {
     "data": {
      "text/plain": [
       "['a', 'a', 'l', 'i', 'y', 'a']"
      ]
     },
     "execution_count": 77,
     "metadata": {},
     "output_type": "execute_result"
    }
   ],
   "source": [
    "p"
   ]
  },
  {
   "cell_type": "code",
   "execution_count": 109,
   "id": "06dddfa3",
   "metadata": {},
   "outputs": [
    {
     "name": "stdout",
     "output_type": "stream",
     "text": [
      "721\n"
     ]
    }
   ],
   "source": [
    "# A Python program to print all\n",
    "# permutations using library function\n",
    "from itertools import permutations\n",
    "\n",
    "\n",
    "# Get all permutations of [1, 2, 3]\n",
    "perm = permutations(['M', 'o', 'h','a','n','1'])       \n",
    "\n",
    "# Print the obtained permutations\n",
    "\n",
    "for i in list(perm):\n",
    "    print(''.join(list(i)))\n"
   ]
  },
  {
   "cell_type": "code",
   "execution_count": 114,
   "id": "66f3f104",
   "metadata": {},
   "outputs": [
    {
     "name": "stdout",
     "output_type": "stream",
     "text": [
      "['aditya', 'mohan', 'raj', 'devde']\n"
     ]
    }
   ],
   "source": [
    "from random import shuffle\n",
    "values=['mohan','raj','aditya','devde']\n",
    "shuffle(values)\n",
    "print(values)"
   ]
  },
  {
   "cell_type": "code",
   "execution_count": 10,
   "id": "4e9172ca",
   "metadata": {},
   "outputs": [
    {
     "name": "stdout",
     "output_type": "stream",
     "text": [
      "Moh\n",
      "Mho\n",
      "oMh\n",
      "ohM\n",
      "hMo\n",
      "hoM\n"
     ]
    }
   ],
   "source": [
    "# A Python program to print all\n",
    "# permutations using library function\n",
    "from itertools import permutations\n",
    "\n",
    "\n",
    "# Get all permutations of [1, 2, 3]\n",
    "perm = permutations(['M', 'o', 'h'])     \n",
    "# Print the obtained permutations\n",
    "\n",
    "for i in list(perm):\n",
    "    print(''.join(list(i)))"
   ]
  },
  {
   "cell_type": "code",
   "execution_count": 6,
   "id": "18a9bc81",
   "metadata": {},
   "outputs": [
    {
     "data": {
      "text/plain": [
       "[1, 34, 10, 10, 34, 1]"
      ]
     },
     "execution_count": 6,
     "metadata": {},
     "output_type": "execute_result"
    }
   ],
   "source": [
    "a=[12,35,1,10,34,1]\n",
    "b=0\n",
    "for i in range(len(a)-1,-1,-1):\n",
    "    a[b]=a[i]\n",
    "    b+=1\n",
    "    \n",
    "    \n",
    "        \n",
    "    \n",
    "    \n",
    "a"
   ]
  },
  {
   "cell_type": "code",
   "execution_count": null,
   "id": "19ce94e2",
   "metadata": {},
   "outputs": [],
   "source": [
    "a=[12,35,1,10,34,1]\n"
   ]
  },
  {
   "cell_type": "code",
   "execution_count": 28,
   "id": "4c267e9f",
   "metadata": {},
   "outputs": [
    {
     "data": {
      "text/plain": [
       "564"
      ]
     },
     "execution_count": 28,
     "metadata": {},
     "output_type": "execute_result"
    }
   ],
   "source": [
    "m=[5,3,2,1,4,7,54,3,564,3234,324]\n",
    "d=[]\n",
    "\n",
    "for j in range(len(m)):\n",
    "    c=m[0]\n",
    "    for i in m:\n",
    "        if i > c:\n",
    "            c=i\n",
    "    d.append(c)\n",
    "    m.remove(c)\n",
    "d[1]"
   ]
  },
  {
   "cell_type": "code",
   "execution_count": 7,
   "id": "5a31f9a1",
   "metadata": {},
   "outputs": [
    {
     "name": "stdout",
     "output_type": "stream",
     "text": [
      "second max value :  564\n"
     ]
    },
    {
     "data": {
      "text/plain": [
       "[5, 3, 2, 1, 4, 7, 54, 3, 564, 3234, 324]"
      ]
     },
     "execution_count": 7,
     "metadata": {},
     "output_type": "execute_result"
    }
   ],
   "source": [
    "m=[5,3,2,1,4,7,54,3,564,3234,324]\n",
    "c=max(m)\n",
    "index=m.index(c)\n",
    "m.remove(c)\n",
    "print('second max value : ',max(m))\n",
    "m.insert(index,c)\n",
    "m   "
   ]
  },
  {
   "cell_type": "code",
   "execution_count": 49,
   "id": "b6e1ec59",
   "metadata": {},
   "outputs": [
    {
     "name": "stdout",
     "output_type": "stream",
     "text": [
      "True\n"
     ]
    }
   ],
   "source": [
    "a='racce'\n",
    "b='ccare'\n",
    "c=0\n",
    "if len(a)==len(b):\n",
    "    for i in b:\n",
    "        if i in a:\n",
    "            c+=1\n",
    "        else:\n",
    "            print(False)\n",
    "if len(a)==c:\n",
    "    print(True)\n",
    "else:\n",
    "    print(False)\n",
    "        \n",
    "        \n",
    "    "
   ]
  },
  {
   "cell_type": "code",
   "execution_count": 8,
   "id": "7063b05a",
   "metadata": {},
   "outputs": [
    {
     "name": "stdout",
     "output_type": "stream",
     "text": [
      "second max value :  564\n"
     ]
    },
    {
     "data": {
      "text/plain": [
       "[5, 3, 2, 1, 4, 7, 54, 3, 564, 3234, 324]"
      ]
     },
     "execution_count": 8,
     "metadata": {},
     "output_type": "execute_result"
    }
   ],
   "source": [
    "m=[5,3,2,1,4,7,54,3,564,3234,324]\n",
    "c=[max(m),m.index(c)]\n",
    "\n",
    "m.remove(c[0])\n",
    "print('second max value : ',max(m))\n",
    "m.insert(c[1],c[0])\n",
    "m "
   ]
  },
  {
   "cell_type": "code",
   "execution_count": 9,
   "id": "c5a19ff0",
   "metadata": {},
   "outputs": [
    {
     "name": "stdout",
     "output_type": "stream",
     "text": [
      "enter no. : 407\n",
      "407 is a Armstrong number\n"
     ]
    }
   ],
   "source": [
    "n=int(input('enter no. : '))\n",
    "num=str(n)\n",
    "c=0\n",
    "for i in num:\n",
    "    c+=int(i)**3\n",
    "if c==n:\n",
    "    print(n,'is a Armstrong number')\n",
    "else:\n",
    "    print(n,'is not a Armstrong number')"
   ]
  },
  {
   "cell_type": "code",
   "execution_count": null,
   "id": "a5fa04b2",
   "metadata": {},
   "outputs": [],
   "source": [
    "# what is perfect no.\n",
    "# what is strong no.\n",
    "\n"
   ]
  },
  {
   "cell_type": "code",
   "execution_count": 4,
   "id": "6ddef56d",
   "metadata": {},
   "outputs": [
    {
     "name": "stdout",
     "output_type": "stream",
     "text": [
      "3234\n"
     ]
    }
   ],
   "source": [
    "m=[5,3,2,1,4,7,54,3,564,3234,324,4444]\n",
    "\n",
    "\n",
    "for j in range(len(m)):\n",
    "    c=m[0]\n",
    "    for i in m:\n",
    "        if i > c and i < max(m):\n",
    "            c=i\n",
    "    print(c)\n",
    "    break"
   ]
  },
  {
   "cell_type": "code",
   "execution_count": 14,
   "id": "745c7e46",
   "metadata": {},
   "outputs": [
    {
     "name": "stdout",
     "output_type": "stream",
     "text": [
      "324\n"
     ]
    }
   ],
   "source": [
    "m=[5,3,2,1,4,7,54,3,564,3234,324]\n",
    "\n",
    "\n",
    "for j in range(len(m)):\n",
    "    c=m[0]\n",
    "    for i in m:\n",
    "        \n",
    "        if i > c and  i< max([j for j in m if j!= max(m)]):\n",
    "            c=i\n",
    "    print(c)\n",
    "    break"
   ]
  },
  {
   "cell_type": "code",
   "execution_count": 15,
   "id": "d32c3a64",
   "metadata": {},
   "outputs": [
    {
     "data": {
      "text/plain": [
       "564"
      ]
     },
     "execution_count": 15,
     "metadata": {},
     "output_type": "execute_result"
    }
   ],
   "source": [
    "max([j for j in m if j!= max(m)])"
   ]
  },
  {
   "cell_type": "code",
   "execution_count": 18,
   "id": "d12b1b02",
   "metadata": {},
   "outputs": [
    {
     "name": "stdout",
     "output_type": "stream",
     "text": [
      "13\n"
     ]
    }
   ],
   "source": [
    "m= [12, 35, 13, 10, 34, 1]\n",
    "\n",
    "\n",
    "for j in range(len(m)):\n",
    "    c=m[0]\n",
    "    for i in m:\n",
    "        \n",
    "        if i > c and  i< max([j for j in m if j!= max(m)]):\n",
    "            c=i\n",
    "    print(c)\n",
    "    break"
   ]
  },
  {
   "cell_type": "code",
   "execution_count": 10,
   "id": "a600b13a",
   "metadata": {},
   "outputs": [
    {
     "name": "stdout",
     "output_type": "stream",
     "text": [
      " enter rank :: 2\n"
     ]
    },
    {
     "data": {
      "text/plain": [
       "564"
      ]
     },
     "execution_count": 10,
     "metadata": {},
     "output_type": "execute_result"
    }
   ],
   "source": [
    "m=[5,3,2,1,4,7,54,3,564,3234,324]\n",
    "d=[]\n",
    "b=int(input(' enter rank :: '))\n",
    "for j in range(len(m)):\n",
    "    c=m[0]\n",
    "    for i in m:\n",
    "        if i > c:\n",
    "            c=i\n",
    "    d.append(c)\n",
    "    m.remove(c)\n",
    "d[b-1]"
   ]
  },
  {
   "cell_type": "code",
   "execution_count": 2,
   "id": "abc7316e",
   "metadata": {},
   "outputs": [
    {
     "name": "stdout",
     "output_type": "stream",
     "text": [
      "Enter Rank:: 2\n",
      "3234\n"
     ]
    }
   ],
   "source": [
    "a=[5,3,2,1,4,7,54,3,564,3234,324,10000]\n",
    "n = 0\n",
    "b = int(input(\"Enter Rank:: \"))\n",
    "for i in range(max(a), min(a)-1, -1):\n",
    "    for j in a:\n",
    "        if i == j:\n",
    "            n+=1\n",
    "            if n==b:\n",
    "                print(i)\n",
    "if b > len(a):\n",
    "    print(\"Max length Limit Exceeded\")"
   ]
  },
  {
   "cell_type": "code",
   "execution_count": 6,
   "id": "1b8337cf",
   "metadata": {},
   "outputs": [
    {
     "name": "stdout",
     "output_type": "stream",
     "text": [
      "Enter Rank:: 1\n",
      "10000\n"
     ]
    }
   ],
   "source": [
    "a=[5,3,2,1,4,7,54,3,564,3234,324,10000]\n",
    "n = 0\n",
    "a.sort(reverse=True)\n",
    "b = int(input(\"Enter Rank:: \"))\n",
    "for i in a:\n",
    "    for j in a:\n",
    "        if i == j:\n",
    "            n+=1\n",
    "            if n==b:\n",
    "                print(i)\n",
    "if b > len(a):\n",
    "    print(\"Max length Limit Exceeded\")"
   ]
  },
  {
   "cell_type": "code",
   "execution_count": null,
   "id": "f8a37057",
   "metadata": {},
   "outputs": [],
   "source": [
    "a=[5,3,2,1,4,7,54,3,564,3234,324,10000]\n",
    "a.sort(reverse=True)\n",
    "b=int(input('Enter the rank:: '))\n"
   ]
  },
  {
   "cell_type": "code",
   "execution_count": null,
   "id": "d5170a75",
   "metadata": {},
   "outputs": [],
   "source": [
    "# a=[]  \n",
    "# len(a)=n\n",
    "\n",
    "# r=array([])\n",
    "# r.sum()<=X\n"
   ]
  },
  {
   "cell_type": "code",
   "execution_count": 36,
   "id": "0c4b725a",
   "metadata": {},
   "outputs": [
    {
     "name": "stdout",
     "output_type": "stream",
     "text": [
      "enter N value : 3\n",
      "enter X value : 2\n"
     ]
    },
    {
     "data": {
      "text/plain": [
       "array([0, 2, 3])"
      ]
     },
     "execution_count": 36,
     "metadata": {},
     "output_type": "execute_result"
    }
   ],
   "source": [
    "import numpy as np\n",
    "N=int(input('enter N value : '))\n",
    "X=int(input('enter X value : '))\n",
    "A=np.array([1,2,0])  # given with length\n",
    "R=np.array([i for i in range(N)])\n",
    "\n",
    "if R.sum()<=X:\n",
    "    for j in  range(len(A)):\n",
    "        A[j]=A[j]-R[j]\n",
    "Q=[[0,0],[2,3]]   # K,Y \n",
    "for p in Q:\n",
    "    A[p[0]]=p[1]\n",
    "A    "
   ]
  },
  {
   "cell_type": "code",
   "execution_count": 35,
   "id": "75ea59f4",
   "metadata": {},
   "outputs": [
    {
     "name": "stdout",
     "output_type": "stream",
     "text": [
      "enter N value : 3\n",
      "enter X value : 2\n"
     ]
    },
    {
     "data": {
      "text/plain": [
       "array([3, 2, 0])"
      ]
     },
     "execution_count": 35,
     "metadata": {},
     "output_type": "execute_result"
    }
   ],
   "source": [
    "import numpy as np\n",
    "N=int(input('enter N value : '))\n",
    "X=int(input('enter X value : '))\n",
    "A=np.array([1,2,0])  # given with length\n",
    "R=np.array([i for i in range(N)])\n",
    "\n",
    "if R.sum()<=X:\n",
    "    for j in  range(len(A)):\n",
    "        A[j]=A[j]-R[j]\n",
    "Q=[[0,0],[2,3]]   # K,Y \n",
    "A[Q[0]]=Q[1]\n",
    "A  "
   ]
  },
  {
   "cell_type": "code",
   "execution_count": 32,
   "id": "1e4468be",
   "metadata": {},
   "outputs": [
    {
     "data": {
      "text/plain": [
       "0"
      ]
     },
     "execution_count": 32,
     "metadata": {},
     "output_type": "execute_result"
    }
   ],
   "source": [
    "Q[0][0]"
   ]
  },
  {
   "cell_type": "code",
   "execution_count": 42,
   "id": "3b169569",
   "metadata": {},
   "outputs": [
    {
     "data": {
      "text/plain": [
       "array([ 1,  1, -2])"
      ]
     },
     "execution_count": 42,
     "metadata": {},
     "output_type": "execute_result"
    }
   ],
   "source": [
    "N=3\n",
    "A=np.array([1,2,0])\n",
    "X=2                                       \n",
    "Q=2\n",
    "R=np.array([j for j in range(N)])\n",
    "queries=[[0,0],[2,3]]\n",
    "         # K  y  K  y\n",
    "if R.sum()>=X:\n",
    "    for i in range(len(A)):\n",
    "        A[i]=A[i]-R[i]\n",
    "       \n",
    "A"
   ]
  },
  {
   "cell_type": "code",
   "execution_count": null,
   "id": "14aec827",
   "metadata": {},
   "outputs": [
    {
     "name": "stdout",
     "output_type": "stream",
     "text": [
      "3\n",
      "331\n",
      "331 not\n"
     ]
    }
   ],
   "source": [
    "T=int(input())\n",
    "\n",
    "for i in range(T):\n",
    "    a=input()\n",
    "    if str(a)==str(a)[::-1]:\n",
    "        print(a,'palendrom')\n",
    "    else:\n",
    "        print(a,'not')"
   ]
  },
  {
   "cell_type": "code",
   "execution_count": null,
   "id": "4dd9c304",
   "metadata": {},
   "outputs": [],
   "source": [
    "# signal # session management   # header  #  Flask API   #  Jquery # "
   ]
  },
  {
   "cell_type": "code",
   "execution_count": null,
   "id": "04aefde8",
   "metadata": {},
   "outputs": [],
   "source": [
    "a=input()\n",
    "\n",
    "b=list(a[::-1])       # 1 +26+26     +1 +26     +1\n",
    "\n",
    "b\n"
   ]
  },
  {
   "cell_type": "code",
   "execution_count": null,
   "id": "9caa73b6",
   "metadata": {},
   "outputs": [],
   "source": []
  },
  {
   "cell_type": "code",
   "execution_count": null,
   "id": "b51916d6",
   "metadata": {},
   "outputs": [],
   "source": [
    "q=input()\n",
    "p=q[::-1]\n",
    "d={}\n",
    "\n",
    "for j,i in enumerate(range(65,95)):\n",
    "    d[chr(i)]=j+1\n",
    "for x,z in enumerate(p):\n",
    "    print(x+1,z)"
   ]
  },
  {
   "cell_type": "code",
   "execution_count": 11,
   "id": "62e5faeb",
   "metadata": {},
   "outputs": [
    {
     "name": "stdout",
     "output_type": "stream",
     "text": [
      "2\n",
      "Enter first later : 8\n",
      "Enter second later : 20\n",
      "31\n",
      "Enter first later : 1\n",
      "Enter second later : 3\n",
      "3\n"
     ]
    }
   ],
   "source": [
    "\n",
    "for T in range(int(input())):\n",
    "    L=int(input('Enter first later : '))\n",
    "    R=int(input('Enter second later : '))\n",
    "    a=[]\n",
    "    c=0\n",
    "    for i in range(L,R+1):\n",
    "        for j in range(L,R+1):\n",
    "            if i^j > c:\n",
    "                c=i^j\n",
    "\n",
    "    print(c)\n",
    "      "
   ]
  },
  {
   "cell_type": "code",
   "execution_count": null,
   "id": "492310f8",
   "metadata": {},
   "outputs": [],
   "source": []
  },
  {
   "cell_type": "code",
   "execution_count": 2,
   "id": "9517f0d3",
   "metadata": {},
   "outputs": [
    {
     "data": {
      "text/plain": [
       "['765']"
      ]
     },
     "execution_count": 2,
     "metadata": {},
     "output_type": "execute_result"
    }
   ],
   "source": [
    "import re\n",
    "re.findall('\\d+','765hgf')"
   ]
  },
  {
   "cell_type": "code",
   "execution_count": 35,
   "id": "d3cdcc3c",
   "metadata": {},
   "outputs": [
    {
     "name": "stdout",
     "output_type": "stream",
     "text": [
      "1 1\n",
      "-1\n"
     ]
    }
   ],
   "source": [
    "a=input()\n",
    "v=['.']\n",
    "c=[]\n",
    "p=0\n",
    "for i in a:\n",
    "   \n",
    "    if i.isalnum() or i==' ':\n",
    "        if i==v[-1]:\n",
    "            print(i)\n",
    "            p=1\n",
    "            break\n",
    "        else:\n",
    "            v.append(i)\n",
    "    else:\n",
    "        c.append(i)\n",
    "        \n",
    "            \n",
    "            \n",
    " \n",
    "        \n",
    "if len(a)==len(v)-1+len(c) and p !=1:\n",
    "    print(-1)"
   ]
  },
  {
   "cell_type": "code",
   "execution_count": 42,
   "id": "3b3af82e",
   "metadata": {},
   "outputs": [
    {
     "data": {
      "text/plain": [
       "'nahoM'"
      ]
     },
     "execution_count": 42,
     "metadata": {},
     "output_type": "execute_result"
    }
   ],
   "source": [
    "p='Mohan'\n",
    "c=''\n",
    "for j in range(len(p)-1,-1,-1):\n",
    "    c+=p[j]\n",
    "\n",
    "c"
   ]
  },
  {
   "cell_type": "code",
   "execution_count": 43,
   "id": "58f6e428",
   "metadata": {},
   "outputs": [
    {
     "name": "stdout",
     "output_type": "stream",
     "text": [
      "nahoM"
     ]
    }
   ],
   "source": [
    "p='Mohan'\n",
    "\n",
    "for j in range(len(p)-1,-1,-1):\n",
    "    print(p[j],end='')"
   ]
  },
  {
   "cell_type": "code",
   "execution_count": 49,
   "id": "b6e1fd5a",
   "metadata": {},
   "outputs": [
    {
     "data": {
      "text/plain": [
       "'an'"
      ]
     },
     "execution_count": 49,
     "metadata": {},
     "output_type": "execute_result"
    }
   ],
   "source": [
    "p='Mohan'\n",
    "b=len(a)\n",
    "for j in range(len(p)):\n",
    "    a+=p[-(j+1)]\n",
    "p[b:]"
   ]
  },
  {
   "cell_type": "code",
   "execution_count": null,
   "id": "7b57a448",
   "metadata": {},
   "outputs": [],
   "source": []
  },
  {
   "cell_type": "code",
   "execution_count": 1,
   "id": "744bb5ff",
   "metadata": {},
   "outputs": [],
   "source": [
    "#########################################################################################################"
   ]
  },
  {
   "cell_type": "code",
   "execution_count": 2,
   "id": "b620b3d5",
   "metadata": {},
   "outputs": [],
   "source": [
    "# type"
   ]
  },
  {
   "cell_type": "code",
   "execution_count": 7,
   "id": "f1d97946",
   "metadata": {},
   "outputs": [],
   "source": [
    "p=[1,2,3,4]\n",
    "for i in p:\n",
    "    p[p.index(i)]=str(p[p.index(i)])"
   ]
  },
  {
   "cell_type": "code",
   "execution_count": 8,
   "id": "4a575526",
   "metadata": {},
   "outputs": [
    {
     "data": {
      "text/plain": [
       "['1', '2', '3', '4']"
      ]
     },
     "execution_count": 8,
     "metadata": {},
     "output_type": "execute_result"
    }
   ],
   "source": [
    "p"
   ]
  },
  {
   "cell_type": "code",
   "execution_count": 9,
   "id": "fc400554",
   "metadata": {},
   "outputs": [
    {
     "data": {
      "text/plain": [
       "\"['1', '2', '3', '4']\""
      ]
     },
     "execution_count": 9,
     "metadata": {},
     "output_type": "execute_result"
    }
   ],
   "source": [
    "str(p)"
   ]
  },
  {
   "cell_type": "code",
   "execution_count": 11,
   "id": "59b6fd46",
   "metadata": {},
   "outputs": [
    {
     "data": {
      "text/plain": [
       "'123456'"
      ]
     },
     "execution_count": 11,
     "metadata": {},
     "output_type": "execute_result"
    }
   ],
   "source": [
    "p=123456\n",
    "str(p)"
   ]
  },
  {
   "cell_type": "code",
   "execution_count": 13,
   "id": "58a9f187",
   "metadata": {},
   "outputs": [
    {
     "ename": "ValueError",
     "evalue": "invalid literal for int() with base 10: 'jhgf'",
     "output_type": "error",
     "traceback": [
      "\u001b[1;31m---------------------------------------------------------------------------\u001b[0m",
      "\u001b[1;31mValueError\u001b[0m                                Traceback (most recent call last)",
      "Cell \u001b[1;32mIn [13], line 2\u001b[0m\n\u001b[0;32m      1\u001b[0m p\u001b[38;5;241m=\u001b[39m\u001b[38;5;124m'\u001b[39m\u001b[38;5;124mjhgf\u001b[39m\u001b[38;5;124m'\u001b[39m\n\u001b[1;32m----> 2\u001b[0m \u001b[38;5;28;43mint\u001b[39;49m\u001b[43m(\u001b[49m\u001b[43mp\u001b[49m\u001b[43m)\u001b[49m\n",
      "\u001b[1;31mValueError\u001b[0m: invalid literal for int() with base 10: 'jhgf'"
     ]
    }
   ],
   "source": [
    "p='jhgf'\n",
    "int(p)"
   ]
  },
  {
   "cell_type": "code",
   "execution_count": 14,
   "id": "812a0f1d",
   "metadata": {},
   "outputs": [],
   "source": [
    "a={1:'jhhgghfg','2':'kjhkjgghjh'}"
   ]
  },
  {
   "cell_type": "code",
   "execution_count": 15,
   "id": "e2402049",
   "metadata": {},
   "outputs": [
    {
     "data": {
      "text/plain": [
       "[1, '2']"
      ]
     },
     "execution_count": 15,
     "metadata": {},
     "output_type": "execute_result"
    }
   ],
   "source": [
    "list(a)"
   ]
  },
  {
   "cell_type": "code",
   "execution_count": 16,
   "id": "e695e61a",
   "metadata": {},
   "outputs": [],
   "source": [
    "#    operator "
   ]
  },
  {
   "cell_type": "code",
   "execution_count": 17,
   "id": "1c02460a",
   "metadata": {},
   "outputs": [],
   "source": [
    "# arithmatic operator"
   ]
  },
  {
   "cell_type": "code",
   "execution_count": 18,
   "id": "385f0b39",
   "metadata": {},
   "outputs": [],
   "source": [
    "# +, - , * , / , ** , //"
   ]
  },
  {
   "cell_type": "code",
   "execution_count": 40,
   "id": "f0a52179",
   "metadata": {},
   "outputs": [
    {
     "name": "stdout",
     "output_type": "stream",
     "text": [
      "1.5\n",
      "0\n",
      "1\n",
      "0\n",
      "0\n",
      "0\n"
     ]
    }
   ],
   "source": [
    "import math\n",
    "a=[1.5,2,3,4,56,8]\n",
    "for i in a:\n",
    "    print(i%2)\n",
    "    "
   ]
  },
  {
   "cell_type": "code",
   "execution_count": 37,
   "id": "f5c66758",
   "metadata": {},
   "outputs": [
    {
     "data": {
      "text/plain": [
       "[1.5, 2.12, 3.33, 4.33, 56.6, 8]"
      ]
     },
     "execution_count": 37,
     "metadata": {},
     "output_type": "execute_result"
    }
   ],
   "source": [
    "a"
   ]
  },
  {
   "cell_type": "code",
   "execution_count": 22,
   "id": "c56100bf",
   "metadata": {},
   "outputs": [
    {
     "data": {
      "text/plain": [
       "7"
      ]
     },
     "execution_count": 22,
     "metadata": {},
     "output_type": "execute_result"
    }
   ],
   "source": [
    "4+3"
   ]
  },
  {
   "cell_type": "code",
   "execution_count": 35,
   "id": "6ed3b3d9",
   "metadata": {},
   "outputs": [],
   "source": [
    "################################"
   ]
  },
  {
   "cell_type": "code",
   "execution_count": 42,
   "id": "5d581f32",
   "metadata": {},
   "outputs": [],
   "source": [
    "a=45\n",
    "b=33\n",
    "a=b"
   ]
  },
  {
   "cell_type": "code",
   "execution_count": 49,
   "id": "6e810d99",
   "metadata": {},
   "outputs": [
    {
     "data": {
      "text/plain": [
       "2257926318672"
      ]
     },
     "execution_count": 49,
     "metadata": {},
     "output_type": "execute_result"
    }
   ],
   "source": [
    "# and , or , not ---logical\n",
    "# membership  -- In , not in \n",
    "\n",
    "# assign operator  --,    =, +=\n",
    "\n",
    "# identity \n",
    "a=10\n",
    "b=20     \n",
    "id(a)\n"
   ]
  },
  {
   "cell_type": "code",
   "execution_count": 50,
   "id": "148b969b",
   "metadata": {},
   "outputs": [
    {
     "data": {
      "text/plain": [
       "2257926318992"
      ]
     },
     "execution_count": 50,
     "metadata": {},
     "output_type": "execute_result"
    }
   ],
   "source": [
    "id(b)"
   ]
  },
  {
   "cell_type": "code",
   "execution_count": 51,
   "id": "9e417de4",
   "metadata": {},
   "outputs": [
    {
     "data": {
      "text/plain": [
       "False"
      ]
     },
     "execution_count": 51,
     "metadata": {},
     "output_type": "execute_result"
    }
   ],
   "source": [
    "a is b"
   ]
  },
  {
   "cell_type": "code",
   "execution_count": 52,
   "id": "025161a3",
   "metadata": {},
   "outputs": [
    {
     "data": {
      "text/plain": [
       "'0b101'"
      ]
     },
     "execution_count": 52,
     "metadata": {},
     "output_type": "execute_result"
    }
   ],
   "source": [
    "# Bitwise:\n",
    "\n",
    "# decimal ti binary\n",
    "bin(5)\n",
    "    "
   ]
  },
  {
   "cell_type": "code",
   "execution_count": 53,
   "id": "ee8e08cf",
   "metadata": {},
   "outputs": [
    {
     "data": {
      "text/plain": [
       "2"
      ]
     },
     "execution_count": 53,
     "metadata": {},
     "output_type": "execute_result"
    }
   ],
   "source": [
    "10 & 2"
   ]
  },
  {
   "cell_type": "code",
   "execution_count": 54,
   "id": "28a86dd8",
   "metadata": {},
   "outputs": [],
   "source": [
    "##########################################"
   ]
  },
  {
   "cell_type": "code",
   "execution_count": 55,
   "id": "e9b6ae34",
   "metadata": {},
   "outputs": [],
   "source": [
    "# simple if \n",
    "# if - else\n",
    "# if else lader\n",
    "\n",
    "# nested -if else"
   ]
  },
  {
   "cell_type": "code",
   "execution_count": null,
   "id": "bede74b2",
   "metadata": {},
   "outputs": [],
   "source": [
    "for i in range:\n",
    "    if i>1:\n",
    "        if n>3:\n",
    "            pass\n",
    "     \n",
    "    elif 6>7:\n",
    "        pass\n",
    "    else:\n",
    "        pass\n",
    "    \n"
   ]
  },
  {
   "cell_type": "code",
   "execution_count": 56,
   "id": "11861c22",
   "metadata": {},
   "outputs": [
    {
     "name": "stdout",
     "output_type": "stream",
     "text": [
      "0 u\n",
      "1 d\n",
      "2 d\n",
      "3 h\n",
      "4 a\n",
      "5 v\n"
     ]
    }
   ],
   "source": [
    "a='uddhav'\n",
    "for i,j in enumerate(a):\n",
    "    print(i,j)\n",
    "   "
   ]
  },
  {
   "cell_type": "code",
   "execution_count": 68,
   "id": "fa3993ad",
   "metadata": {},
   "outputs": [],
   "source": [
    "a=[['aaliya','krish'],['mohan','uddhav']]\n",
    "for i in a:\n",
    "    for j in i:\n",
    "        a[a.index(i)][i.index(j)]=j[::-1]\n",
    "       \n",
    "       \n"
   ]
  },
  {
   "cell_type": "code",
   "execution_count": 69,
   "id": "44c70bcf",
   "metadata": {},
   "outputs": [
    {
     "data": {
      "text/plain": [
       "[['ayilaa', 'hsirk'], ['nahom', 'vahddu']]"
      ]
     },
     "execution_count": 69,
     "metadata": {},
     "output_type": "execute_result"
    }
   ],
   "source": [
    "a"
   ]
  },
  {
   "cell_type": "code",
   "execution_count": 70,
   "id": "c79eebdb",
   "metadata": {},
   "outputs": [],
   "source": [
    "##################################################################################"
   ]
  },
  {
   "cell_type": "code",
   "execution_count": 85,
   "id": "ffae49b7",
   "metadata": {},
   "outputs": [
    {
     "name": "stdout",
     "output_type": "stream",
     "text": [
      "3\n"
     ]
    }
   ],
   "source": [
    "for i in range(7):    # 0,1,2,3,4,5,6\n",
    "        if i>2 :\n",
    "            print(i)\n",
    "            break\n",
    "            print('hi')\n",
    "        "
   ]
  },
  {
   "cell_type": "code",
   "execution_count": 5,
   "id": "b9eed656",
   "metadata": {},
   "outputs": [],
   "source": [
    "p= 'uddhavMohanaioeKrishnaRajAaliyaShraddhaSagarShreefdassdjhbn'\n",
    "#subsets::\n",
    "#     1. subset should not contain consonants ='qwrtypsdfghjklzxcvbnm'\n",
    "#     2. subset should have more than 1 vowel = 'aeiou'\n",
    "\n",
    "# Outputs\n",
    "    # aioe\n",
    "    # aa\n",
    "    # ee"
   ]
  },
  {
   "cell_type": "code",
   "execution_count": 17,
   "id": "f9d7e817",
   "metadata": {},
   "outputs": [
    {
     "data": {
      "text/plain": [
       "['aioe', 'Aa', 'ee']"
      ]
     },
     "execution_count": 17,
     "metadata": {},
     "output_type": "execute_result"
    }
   ],
   "source": [
    "p= 'uddhavMohanaioeKrishnaRajAaliyaShraddhaSagarShreefdassdjhbn'\n",
    "c=[]\n",
    "a=''\n",
    "b=0\n",
    "if len(p)<2:\n",
    "    print(-1)\n",
    "else:\n",
    "    for i in p:\n",
    "        if i.lower() in 'aeiou':\n",
    "            a+=i\n",
    "\n",
    "        else:\n",
    "            if len(a)>1:\n",
    "                c.append(a)\n",
    "\n",
    "                a=''\n",
    "            else:\n",
    "                a=''\n",
    "                \n",
    "c        \n",
    "\n"
   ]
  },
  {
   "cell_type": "code",
   "execution_count": 13,
   "id": "e1f88f0a",
   "metadata": {},
   "outputs": [
    {
     "name": "stdout",
     "output_type": "stream",
     "text": [
      "['aioe', 'aa', 'ee']\n"
     ]
    }
   ],
   "source": [
    "a= 'uddhavMohanaioeKrishnaRajAaliyaShraddhaSagarShreefdassdjhbn'\n",
    "ss=[]\n",
    "t=[]\n",
    "for i in a.lower():\n",
    "    if i in \"aeiou\" :\n",
    "        t.append(i)      \n",
    "    else:\n",
    "        if len(t)>1:\n",
    "            ss.append(''.join(t))\n",
    "            t=[]\n",
    "        else:\n",
    "            t=[]\n",
    "print(ss)"
   ]
  },
  {
   "cell_type": "code",
   "execution_count": 18,
   "id": "38ce3cc3",
   "metadata": {},
   "outputs": [
    {
     "name": "stdout",
     "output_type": "stream",
     "text": [
      "r  : Consonent\n",
      "a : vovel\n",
      "b  : Consonent\n",
      "c  : Consonent\n",
      "d  : Consonent\n",
      "e : vovel\n",
      "e : vovel\n",
      "f  : Consonent\n",
      "g  : Consonent\n",
      "y  : Consonent\n",
      "Y  : Consonent\n",
      "h  : Consonent\n",
      "F  : Consonent\n",
      "j  : Consonent\n",
      "k  : Consonent\n",
      "I  : Consonent\n",
      "o : vovel\n",
      "o : vovel\n",
      "m  : Consonent\n",
      "n  : Consonent\n",
      "p  : Consonent\n",
      "O  : Consonent\n",
      "e : vovel\n",
      "o : vovel\n",
      "r  : Consonent\n",
      "t  : Consonent\n",
      "e : vovel\n",
      "e : vovel\n",
      "e : vovel\n",
      "e : vovel\n",
      "e : vovel\n",
      "t  : Consonent\n"
     ]
    }
   ],
   "source": [
    "s = \"rabcdeefgyYhFjkIoomnpOeorteeeeet\"\n",
    "\n",
    "for a in s:\n",
    "    if a in 'aeiou':\n",
    "        print(a, ': vovel')    # 10%\n",
    "    else:\n",
    "        print(a, \" : Consonent\")"
   ]
  },
  {
   "cell_type": "code",
   "execution_count": 19,
   "id": "efb72ba8",
   "metadata": {},
   "outputs": [],
   "source": [
    "\n",
    "c=[]\n",
    "p=''\n",
    "for i in range(65,92):\n",
    "    c.append(chr(i))\n",
    "    if len(c)==3:\n",
    "    "
   ]
  },
  {
   "cell_type": "code",
   "execution_count": 20,
   "id": "78b97dca",
   "metadata": {},
   "outputs": [
    {
     "data": {
      "text/plain": [
       "['A',\n",
       " 'B',\n",
       " 'C',\n",
       " 'D',\n",
       " 'E',\n",
       " 'F',\n",
       " 'G',\n",
       " 'H',\n",
       " 'I',\n",
       " 'J',\n",
       " 'K',\n",
       " 'L',\n",
       " 'M',\n",
       " 'N',\n",
       " 'O',\n",
       " 'P',\n",
       " 'Q',\n",
       " 'R',\n",
       " 'S',\n",
       " 'T',\n",
       " 'U',\n",
       " 'V',\n",
       " 'W',\n",
       " 'X',\n",
       " 'Y',\n",
       " 'Z',\n",
       " '[']"
      ]
     },
     "execution_count": 20,
     "metadata": {},
     "output_type": "execute_result"
    }
   ],
   "source": [
    "c"
   ]
  },
  {
   "cell_type": "code",
   "execution_count": 15,
   "id": "ad822132",
   "metadata": {},
   "outputs": [
    {
     "name": "stdout",
     "output_type": "stream",
     "text": [
      "6\n",
      "abcdef\n",
      "bc ef\n"
     ]
    }
   ],
   "source": [
    "N=int(input())\n",
    "S=input()\n",
    "\n",
    "if N%2==0:\n",
    "    A=S[1:int(N/2)]\n",
    "    B=S[int(N/2)+1:int(N)]\n",
    "    print(A,B)"
   ]
  },
  {
   "cell_type": "code",
   "execution_count": 8,
   "id": "353a374a",
   "metadata": {},
   "outputs": [
    {
     "data": {
      "text/plain": [
       "3"
      ]
     },
     "execution_count": 8,
     "metadata": {},
     "output_type": "execute_result"
    }
   ],
   "source": [
    "int((6/2))"
   ]
  },
  {
   "cell_type": "code",
   "execution_count": 18,
   "id": "2b96a653",
   "metadata": {},
   "outputs": [
    {
     "ename": "KeyboardInterrupt",
     "evalue": "Interrupted by user",
     "output_type": "error",
     "traceback": [
      "\u001b[1;31m---------------------------------------------------------------------------\u001b[0m",
      "\u001b[1;31mKeyboardInterrupt\u001b[0m                         Traceback (most recent call last)",
      "Cell \u001b[1;32mIn [18], line 2\u001b[0m\n\u001b[0;32m      1\u001b[0m \u001b[38;5;28;01mimport\u001b[39;00m \u001b[38;5;21;01mmath\u001b[39;00m\n\u001b[1;32m----> 2\u001b[0m \u001b[38;5;28;01mfor\u001b[39;00m i \u001b[38;5;129;01min\u001b[39;00m \u001b[38;5;28mrange\u001b[39m(\u001b[38;5;28mint\u001b[39m(\u001b[38;5;28;43minput\u001b[39;49m\u001b[43m(\u001b[49m\u001b[43m)\u001b[49m)):\n\u001b[0;32m      3\u001b[0m     X\u001b[38;5;241m=\u001b[39m\u001b[38;5;28mint\u001b[39m(\u001b[38;5;28minput\u001b[39m())\n\u001b[0;32m      4\u001b[0m     Y\u001b[38;5;241m=\u001b[39m\u001b[38;5;28mint\u001b[39m(\u001b[38;5;28minput\u001b[39m())\n",
      "File \u001b[1;32m~\\miniconda3\\lib\\site-packages\\ipykernel\\kernelbase.py:1177\u001b[0m, in \u001b[0;36mKernel.raw_input\u001b[1;34m(self, prompt)\u001b[0m\n\u001b[0;32m   1173\u001b[0m \u001b[38;5;28;01mif\u001b[39;00m \u001b[38;5;129;01mnot\u001b[39;00m \u001b[38;5;28mself\u001b[39m\u001b[38;5;241m.\u001b[39m_allow_stdin:\n\u001b[0;32m   1174\u001b[0m     \u001b[38;5;28;01mraise\u001b[39;00m StdinNotImplementedError(\n\u001b[0;32m   1175\u001b[0m         \u001b[38;5;124m\"\u001b[39m\u001b[38;5;124mraw_input was called, but this frontend does not support input requests.\u001b[39m\u001b[38;5;124m\"\u001b[39m\n\u001b[0;32m   1176\u001b[0m     )\n\u001b[1;32m-> 1177\u001b[0m \u001b[38;5;28;01mreturn\u001b[39;00m \u001b[38;5;28;43mself\u001b[39;49m\u001b[38;5;241;43m.\u001b[39;49m\u001b[43m_input_request\u001b[49m\u001b[43m(\u001b[49m\n\u001b[0;32m   1178\u001b[0m \u001b[43m    \u001b[49m\u001b[38;5;28;43mstr\u001b[39;49m\u001b[43m(\u001b[49m\u001b[43mprompt\u001b[49m\u001b[43m)\u001b[49m\u001b[43m,\u001b[49m\n\u001b[0;32m   1179\u001b[0m \u001b[43m    \u001b[49m\u001b[38;5;28;43mself\u001b[39;49m\u001b[38;5;241;43m.\u001b[39;49m\u001b[43m_parent_ident\u001b[49m\u001b[43m[\u001b[49m\u001b[38;5;124;43m\"\u001b[39;49m\u001b[38;5;124;43mshell\u001b[39;49m\u001b[38;5;124;43m\"\u001b[39;49m\u001b[43m]\u001b[49m\u001b[43m,\u001b[49m\n\u001b[0;32m   1180\u001b[0m \u001b[43m    \u001b[49m\u001b[38;5;28;43mself\u001b[39;49m\u001b[38;5;241;43m.\u001b[39;49m\u001b[43mget_parent\u001b[49m\u001b[43m(\u001b[49m\u001b[38;5;124;43m\"\u001b[39;49m\u001b[38;5;124;43mshell\u001b[39;49m\u001b[38;5;124;43m\"\u001b[39;49m\u001b[43m)\u001b[49m\u001b[43m,\u001b[49m\n\u001b[0;32m   1181\u001b[0m \u001b[43m    \u001b[49m\u001b[43mpassword\u001b[49m\u001b[38;5;241;43m=\u001b[39;49m\u001b[38;5;28;43;01mFalse\u001b[39;49;00m\u001b[43m,\u001b[49m\n\u001b[0;32m   1182\u001b[0m \u001b[43m\u001b[49m\u001b[43m)\u001b[49m\n",
      "File \u001b[1;32m~\\miniconda3\\lib\\site-packages\\ipykernel\\kernelbase.py:1219\u001b[0m, in \u001b[0;36mKernel._input_request\u001b[1;34m(self, prompt, ident, parent, password)\u001b[0m\n\u001b[0;32m   1216\u001b[0m             \u001b[38;5;28;01mbreak\u001b[39;00m\n\u001b[0;32m   1217\u001b[0m \u001b[38;5;28;01mexcept\u001b[39;00m \u001b[38;5;167;01mKeyboardInterrupt\u001b[39;00m:\n\u001b[0;32m   1218\u001b[0m     \u001b[38;5;66;03m# re-raise KeyboardInterrupt, to truncate traceback\u001b[39;00m\n\u001b[1;32m-> 1219\u001b[0m     \u001b[38;5;28;01mraise\u001b[39;00m \u001b[38;5;167;01mKeyboardInterrupt\u001b[39;00m(\u001b[38;5;124m\"\u001b[39m\u001b[38;5;124mInterrupted by user\u001b[39m\u001b[38;5;124m\"\u001b[39m) \u001b[38;5;28;01mfrom\u001b[39;00m \u001b[38;5;28mNone\u001b[39m\n\u001b[0;32m   1220\u001b[0m \u001b[38;5;28;01mexcept\u001b[39;00m \u001b[38;5;167;01mException\u001b[39;00m:\n\u001b[0;32m   1221\u001b[0m     \u001b[38;5;28mself\u001b[39m\u001b[38;5;241m.\u001b[39mlog\u001b[38;5;241m.\u001b[39mwarning(\u001b[38;5;124m\"\u001b[39m\u001b[38;5;124mInvalid Message:\u001b[39m\u001b[38;5;124m\"\u001b[39m, exc_info\u001b[38;5;241m=\u001b[39m\u001b[38;5;28;01mTrue\u001b[39;00m)\n",
      "\u001b[1;31mKeyboardInterrupt\u001b[0m: Interrupted by user"
     ]
    }
   ],
   "source": [
    "import math\n",
    "for i in range(int(input())):\n",
    "    X=int(input())\n",
    "    Y=int(input())\n",
    "    p=X+Y\n",
    "    g=math.ceil(p/2)\n",
    "    if X<Y:\n",
    "        print(g-X)\n",
    "    elif Y<X:\n",
    "        print(g-Y)"
   ]
  },
  {
   "cell_type": "code",
   "execution_count": 17,
   "id": "e0f5f8bd",
   "metadata": {},
   "outputs": [
    {
     "data": {
      "text/plain": [
       "4"
      ]
     },
     "execution_count": 17,
     "metadata": {},
     "output_type": "execute_result"
    }
   ],
   "source": [
    "import math\n",
    "math.ceil(8/2)"
   ]
  },
  {
   "cell_type": "code",
   "execution_count": 34,
   "id": "4f27bd89",
   "metadata": {},
   "outputs": [
    {
     "name": "stdout",
     "output_type": "stream",
     "text": [
      "1\n",
      "2\n"
     ]
    },
    {
     "data": {
      "text/plain": [
       "[-3, 0, 3, 6, 9]"
      ]
     },
     "execution_count": 34,
     "metadata": {},
     "output_type": "execute_result"
    }
   ],
   "source": [
    "\n",
    "p=[i for i in range(-3,9+1,3)]\n",
    "for j in range(1,3+1):\n",
    "    if j not in p:\n",
    "        print(j)\n",
    "    \n",
    "p"
   ]
  },
  {
   "cell_type": "code",
   "execution_count": 35,
   "id": "276ef055",
   "metadata": {},
   "outputs": [
    {
     "name": "stdout",
     "output_type": "stream",
     "text": [
      "1\n",
      "3 4\n",
      "8\n"
     ]
    }
   ],
   "source": [
    "for i in range(int(input())):\n",
    "    N,X=map(int,input().split())\n",
    "    p=N//3\n",
    "    print((N*X)-(p*X))"
   ]
  },
  {
   "cell_type": "code",
   "execution_count": 44,
   "id": "160d1f85",
   "metadata": {},
   "outputs": [
    {
     "name": "stdout",
     "output_type": "stream",
     "text": [
      "tiger\n",
      "frog\n",
      "snake\n",
      "frog\n"
     ]
    }
   ],
   "source": [
    "class Animal:\n",
    "    def __init__(self,name):\n",
    "        self.name = name \n",
    "A = Animal(\"fox\") \n",
    "B = Animal(\"cat\") \n",
    "C = Animal(\"dog\") \n",
    "D = Animal(\"tiger\") \n",
    "A.name = \"rat\" \n",
    "B= C \n",
    "B.name = D.name \n",
    "D.name = \"frog\"\n",
    "C = A \n",
    "A.name = \"snake\" \n",
    "A = B \n",
    "B = D \n",
    "\n",
    "print(A.name) #tiger\n",
    "print(B.name) #frog\n",
    "print(C.name) #rat\n",
    "print(D.name) #frog\n",
    "\n"
   ]
  },
  {
   "cell_type": "code",
   "execution_count": 4,
   "id": "9881c1d1",
   "metadata": {},
   "outputs": [
    {
     "name": "stdout",
     "output_type": "stream",
     "text": [
      "12\n",
      "incorect length\n",
      "12345\n",
      "YRRRR\n",
      "ffhg\n",
      "incorect length\n",
      "5756576\n",
      "incorect length\n",
      "ddddd\n",
      "RRRRR\n",
      "66666\n",
      "RRRRR\n",
      "666666\n",
      "incorect length\n",
      "fffff\n",
      "RRRRR\n",
      "fffff\n",
      "RRRRR\n"
     ]
    }
   ],
   "source": [
    "import random\n",
    "actual=str(random.randint(10000,100000))\n",
    "chances=5\n",
    "\n",
    "while chances!=0:\n",
    "    p=input()\n",
    "    \n",
    "    \n",
    "    num=''\n",
    "    if len(p)==len(actual):\n",
    "        for i in p:\n",
    "\n",
    "            if i in actual  and actual.index(i)==p.index(i):\n",
    "                num+='G'\n",
    "            elif i in actual and actual.index(i)!=p.index(i):\n",
    "                num+='Y'\n",
    "            else:\n",
    "                num+='R'\n",
    "        print(num)\n",
    "        chances-=1\n",
    "    else:\n",
    "        print('incorect length')\n",
    "            \n",
    "\n"
   ]
  },
  {
   "cell_type": "code",
   "execution_count": 1,
   "id": "fc22e9be",
   "metadata": {},
   "outputs": [],
   "source": [
    "#########################################################################################"
   ]
  },
  {
   "cell_type": "code",
   "execution_count": null,
   "id": "86965d02",
   "metadata": {},
   "outputs": [],
   "source": [
    "# Type of inheritance "
   ]
  },
  {
   "cell_type": "code",
   "execution_count": null,
   "id": "0e178a41",
   "metadata": {},
   "outputs": [],
   "source": [
    "# single inheritance"
   ]
  },
  {
   "cell_type": "code",
   "execution_count": 5,
   "id": "6d0f91bf",
   "metadata": {},
   "outputs": [
    {
     "name": "stdout",
     "output_type": "stream",
     "text": [
      "this is from parent\n",
      "from child\n"
     ]
    }
   ],
   "source": [
    "class parent:\n",
    "    def pp(self):\n",
    "        print('this is from parent')\n",
    "class child(parent):\n",
    "    def ppp(self):\n",
    "        print('from child')\n",
    "    \n",
    "obj=child()  \n",
    "obj.pp()\n",
    "obj.ppp()\n"
   ]
  },
  {
   "cell_type": "code",
   "execution_count": null,
   "id": "f0adb249",
   "metadata": {},
   "outputs": [],
   "source": [
    "# multi level inheritance"
   ]
  },
  {
   "cell_type": "code",
   "execution_count": 7,
   "id": "bed71fee",
   "metadata": {},
   "outputs": [
    {
     "name": "stdout",
     "output_type": "stream",
     "text": [
      "this is from parent\n"
     ]
    }
   ],
   "source": [
    "class grandfather:\n",
    "    def pp(self):\n",
    "        print('this is from grandfather parent')\n",
    "class parent(grandfather):\n",
    "    def ppp(self):\n",
    "        print('this is from parent')\n",
    "class child(parent):\n",
    "    def pppp(self):\n",
    "        print('from child')\n",
    "    \n",
    "obj=child()  \n",
    "obj.pp()\n"
   ]
  },
  {
   "cell_type": "code",
   "execution_count": null,
   "id": "62b0646c",
   "metadata": {},
   "outputs": [],
   "source": [
    "# multiple inheritance"
   ]
  },
  {
   "cell_type": "code",
   "execution_count": 11,
   "id": "7c30bf23",
   "metadata": {},
   "outputs": [
    {
     "name": "stdout",
     "output_type": "stream",
     "text": [
      "this is from mother\n"
     ]
    }
   ],
   "source": [
    "class father:\n",
    "    def ppp(self):\n",
    "        print('this is from father')\n",
    "class mother:\n",
    "    def pp(self):\n",
    "        print('this is from mother')\n",
    "class child(father,mother):\n",
    "    def pppp(self):\n",
    "        print('from child')\n",
    "    \n",
    "obj=child()  \n",
    "obj.pp()\n"
   ]
  },
  {
   "cell_type": "code",
   "execution_count": null,
   "id": "830250b6",
   "metadata": {},
   "outputs": [],
   "source": [
    "# hierarchical inheritance"
   ]
  },
  {
   "cell_type": "code",
   "execution_count": 5,
   "id": "84f431ba",
   "metadata": {},
   "outputs": [
    {
     "name": "stdout",
     "output_type": "stream",
     "text": [
      "this is from father\n",
      "this is from father in A\n",
      "#########################\n",
      "this is from father\n",
      "this is from father in B\n"
     ]
    }
   ],
   "source": [
    "class father:\n",
    "    def pp(self):\n",
    "        print('this is from father')\n",
    "class childA(father):\n",
    "    def pppp(self):\n",
    "        print('this is from father in A')\n",
    "class childB(father):\n",
    "    def pppp(self):\n",
    "        print('this is from father in B')\n",
    "class childC(father):\n",
    "    def pppp(self):\n",
    "        print('this is from father in C')\n",
    "class childD(father):\n",
    "    def pppp(self):\n",
    "        print('this is from father in D')\n",
    "    \n",
    "objA=childA()  \n",
    "objA.pp()\n",
    "objA.pppp()\n",
    "print('#########################')\n",
    "objB=childB()  \n",
    "objB.pp()\n",
    "objB.pppp()"
   ]
  },
  {
   "cell_type": "code",
   "execution_count": null,
   "id": "7ffd9031",
   "metadata": {},
   "outputs": [],
   "source": [
    "# hybrid inheritance"
   ]
  },
  {
   "cell_type": "code",
   "execution_count": 8,
   "id": "99fcaf54",
   "metadata": {},
   "outputs": [
    {
     "name": "stdout",
     "output_type": "stream",
     "text": [
      "this is from father\n"
     ]
    }
   ],
   "source": [
    "class father:\n",
    "    def pp(self):\n",
    "        print('this is from father')\n",
    "class childA(father):\n",
    "    def pppp(self):\n",
    "        print('this is from father in A')\n",
    "class childB(father):\n",
    "    def pppp(self):\n",
    "        print('this is from father in B')\n",
    "class childC(childA,childB):\n",
    "    def pppp(self):\n",
    "        print('this is from father in B')\n",
    "obj=childC()\n",
    "obj.pp()"
   ]
  },
  {
   "cell_type": "code",
   "execution_count": 11,
   "id": "45eb167a",
   "metadata": {},
   "outputs": [
    {
     "name": "stdout",
     "output_type": "stream",
     "text": [
      "from p\n",
      "[<class '__main__.p'>, <class '__main__.x'>, <class '__main__.a'>, <class '__main__.y'>, <class '__main__.b'>, <class '__main__.c'>, <class 'object'>]\n"
     ]
    }
   ],
   "source": [
    "\n",
    "class c():\n",
    "    def m1(self):\n",
    "        print('from c')\n",
    "class b():\n",
    "    def m1(self):\n",
    "        print('from b')\n",
    "class y(b,c):\n",
    "    def m1(self):\n",
    "        print('from y')\n",
    "class a():\n",
    "    def m1(self):\n",
    "        print('from a')\n",
    "class x(a,b):\n",
    "    def m1(self):\n",
    "        print('from x')\n",
    "class p(x,y,c):\n",
    "    def m1(self):\n",
    "        print('from p')\n",
    "obj=p()\n",
    "obj.m1()\n",
    "print(p.mro())"
   ]
  },
  {
   "cell_type": "code",
   "execution_count": null,
   "id": "e6fa01b9",
   "metadata": {},
   "outputs": [],
   "source": [
    "#################################################################################"
   ]
  },
  {
   "cell_type": "code",
   "execution_count": 12,
   "id": "40131007",
   "metadata": {},
   "outputs": [
    {
     "name": "stdout",
     "output_type": "stream",
     "text": [
      "30\n"
     ]
    }
   ],
   "source": [
    "# polymorphism\n",
    "\n",
    "# the function name being used for different purposes\n",
    "\n",
    "# ways to achieve polymorphism \n",
    "#  1. overloading\n",
    "#  2. overriding\n",
    "\n",
    "\n",
    "# overloading\n",
    "\n",
    "\n",
    "# a. operator overloading : same function name with diff parameter\n",
    "\n",
    "class pp:\n",
    "    def __init__(self,a):\n",
    "        self.a=a\n",
    "    def __sub__(self,b):\n",
    "        return self.a +b.a\n",
    "obj=pp(10)\n",
    "obj1=pp(20)\n",
    "print(obj-obj1)\n",
    "\n"
   ]
  },
  {
   "cell_type": "code",
   "execution_count": 13,
   "id": "94547cb2",
   "metadata": {},
   "outputs": [
    {
     "name": "stdout",
     "output_type": "stream",
     "text": [
      "hi Uddhav\n"
     ]
    }
   ],
   "source": [
    "class pp:\n",
    "    def m1(self):\n",
    "        print('hi')\n",
    "    def m1(self):\n",
    "        print('hi Uddhav')\n",
    "obj=pp()\n",
    "obj.m1()\n",
    "        \n",
    "    "
   ]
  },
  {
   "cell_type": "code",
   "execution_count": 18,
   "id": "97af29f9",
   "metadata": {},
   "outputs": [
    {
     "name": "stdout",
     "output_type": "stream",
     "text": [
      "from 1st\n",
      "12\n",
      "from 1st\n",
      "33\n"
     ]
    }
   ],
   "source": [
    "# method overloading\n",
    "class pp:                        \n",
    "    def m1(self,a):\n",
    "        self.a=a\n",
    "        print('from 1st')\n",
    "        print(self.a)\n",
    "    def m1(self,b):\n",
    "        print('from 2nd')\n",
    "        self.b=b\n",
    "        print(self.b)\n",
    "obj=pp()\n",
    "obj.m1(12)\n",
    "obj.m1(33)\n",
    "        "
   ]
  },
  {
   "cell_type": "code",
   "execution_count": 33,
   "id": "2f8fccbc",
   "metadata": {},
   "outputs": [
    {
     "name": "stdout",
     "output_type": "stream",
     "text": [
      "(1, 2, 3, 4)\n",
      "two arguments\n"
     ]
    }
   ],
   "source": [
    "# constructor overloading \n",
    "\n",
    "\n",
    "class pp:\n",
    "    def __init__(self):\n",
    "        print('No argument')\n",
    "    def __init__(self,a):\n",
    "        self.a=a\n",
    "        print(self.a)\n",
    "        print(\"one argument\")\n",
    "    def  __init__(self,*arg):\n",
    "        self.arg=arg\n",
    "       \n",
    "        print(self.arg)\n",
    "        print('two arguments')\n",
    "\n",
    "obj=pp(1,2,3,4)"
   ]
  },
  {
   "cell_type": "code",
   "execution_count": 34,
   "id": "a718af61",
   "metadata": {},
   "outputs": [],
   "source": [
    "#################################################################################"
   ]
  },
  {
   "cell_type": "code",
   "execution_count": 35,
   "id": "95905702",
   "metadata": {},
   "outputs": [
    {
     "name": "stdout",
     "output_type": "stream",
     "text": [
      "1\n",
      "one argument\n"
     ]
    }
   ],
   "source": [
    "# overriding: same function name and same parameters\n",
    "\n",
    "# operator overriding not available in python\n",
    "\n",
    "# constructor overriding and method overriding\n",
    "\n",
    "class pp:\n",
    "    def __init__(self,a):\n",
    "        self.a=a\n",
    "        print('No argument')\n",
    "    def __init__(self,a):\n",
    "        self.a=a\n",
    "        print(self.a)\n",
    "        print(\"one argument\")\n",
    "   \n",
    "       \n",
    "       \n",
    "\n",
    "obj=pp(1)"
   ]
  },
  {
   "cell_type": "code",
   "execution_count": 40,
   "id": "5bc3064c",
   "metadata": {},
   "outputs": [
    {
     "name": "stdout",
     "output_type": "stream",
     "text": [
      "from 1st\n",
      "from 2st\n",
      "from 3st\n"
     ]
    }
   ],
   "source": [
    "# method overriding\n",
    "\n",
    "class pp:\n",
    "    def m1(self):\n",
    "        print('from 1st')\n",
    "class pp1(pp):\n",
    "    def m1(self):\n",
    "        super().m1()\n",
    "        print('from 2st')\n",
    "class pp2(pp1):\n",
    "    def m1(self):\n",
    "        super().m1()\n",
    "        print('from 3st')\n",
    "obj=pp2()\n",
    "obj.m1()"
   ]
  },
  {
   "cell_type": "code",
   "execution_count": 41,
   "id": "61fb492e",
   "metadata": {},
   "outputs": [],
   "source": [
    "#############################################################"
   ]
  },
  {
   "cell_type": "code",
   "execution_count": null,
   "id": "58e1dd4b",
   "metadata": {},
   "outputs": [],
   "source": [
    "# multi_threading"
   ]
  },
  {
   "cell_type": "code",
   "execution_count": 42,
   "id": "32e26358",
   "metadata": {},
   "outputs": [],
   "source": [
    "import threading"
   ]
  },
  {
   "cell_type": "code",
   "execution_count": 2,
   "id": "fdd8c815",
   "metadata": {},
   "outputs": [
    {
     "name": "stdout",
     "output_type": "stream",
     "text": [
      "hi Mohanraj\n",
      "hi uddhav\n",
      "hi uddhav\n",
      "hi uddhav\n",
      "hi uddhav\n",
      "hi uddhav\n",
      "hi uddhav\n",
      "hi uddhav\n",
      "hi uddhav\n",
      "hi uddhav\n",
      "hi uddhav\n",
      "hi uddhav\n",
      "hi uddhav\n",
      "hi uddhav\n",
      "hi uddhav\n",
      "hi uddhav\n",
      "hi uddhav\n",
      "hi uddhav\n",
      "hi uddhav\n",
      "hi uddhav\n",
      "hi uddhav\n",
      "hi uddhav\n",
      "hi uddhav\n",
      "hi uddhav\n",
      "hi uddhav\n",
      "hi uddhav\n",
      "hi uddhav\n",
      "hi uddhav\n",
      "hi uddhav\n",
      "hi uddhav\n",
      "hi uddhav\n",
      "hi uddhav\n",
      "hi uddhav\n",
      "hi uddhav\n",
      "hi uddhav\n",
      "hi uddhav\n",
      "hi uddhav\n",
      "hi uddhav\n",
      "hi uddhav\n",
      "hi uddhav\n",
      "hi uddhav\n",
      "hi uddhav\n",
      "hi uddhav\n",
      "hi uddhav\n",
      "hi uddhav\n",
      "hi uddhav\n",
      "hi uddhav\n",
      "hi uddhav\n",
      "hi uddhav\n",
      "hi uddhav\n",
      "hi uddhav\n",
      "hi uddhav\n",
      "hi uddhav\n",
      "hi uddhav\n",
      "hi uddhav\n",
      "hi uddhav\n",
      "hi uddhav\n",
      "hi uddhav\n",
      "hi uddhav\n",
      "hi uddhav\n",
      "hi uddhav\n",
      "hi uddhav\n",
      "hi uddhav\n",
      "hi uddhav\n",
      "hi uddhav\n",
      "hi uddhav\n",
      "hi uddhav\n",
      "hi uddhav\n",
      "hi uddhav\n",
      "hi uddhav\n",
      "hi uddhav\n",
      "hi uddhav\n",
      "hi uddhav\n",
      "hi uddhav\n",
      "hi uddhav\n",
      "hi uddhav\n",
      "hi uddhav\n",
      "hi uddhav\n",
      "hi uddhav\n",
      "hi uddhav\n",
      "hi uddhav\n",
      "hi uddhav\n",
      "hi uddhav\n",
      "hi uddhav\n",
      "hi uddhav\n",
      "hi uddhav\n",
      "hi uddhav\n",
      "hi uddhav\n",
      "hi uddhav\n",
      "hi uddhav\n",
      "hi uddhav\n",
      "hi uddhav\n",
      "hi uddhav\n",
      "hi uddhav\n",
      "hi uddhav\n",
      "hi uddhav\n",
      "hi uddhav\n",
      "hi uddhav\n",
      "hi uddhav\n",
      "hi uddhav\n",
      "hi uddhav\n",
      "0\n",
      "1\n",
      "2\n",
      "3\n",
      "4\n",
      "5\n",
      "6\n",
      "7\n",
      "8\n",
      "9\n",
      "10\n",
      "11\n",
      "12\n",
      "13\n",
      "14\n",
      "15\n",
      "16\n",
      "17\n",
      "18\n",
      "19\n",
      "20\n",
      "21\n",
      "22\n",
      "23\n",
      "24\n",
      "25\n",
      "26\n",
      "27\n",
      "28\n",
      "29\n",
      "30\n",
      "31\n",
      "32\n",
      "33\n",
      "34\n",
      "35\n",
      "36\n",
      "37\n",
      "38\n",
      "39\n",
      "40\n",
      "41\n",
      "42\n",
      "43\n",
      "44\n",
      "45\n",
      "46\n",
      "47\n",
      "48\n",
      "49\n",
      "50\n",
      "51\n",
      "52\n",
      "53\n",
      "54\n",
      "55\n",
      "56\n",
      "57\n",
      "58\n",
      "59\n",
      "60\n",
      "61\n",
      "62\n",
      "63\n",
      "64\n",
      "65\n",
      "66\n",
      "67\n",
      "68\n",
      "69\n",
      "70\n",
      "71\n",
      "72\n",
      "73\n",
      "74\n",
      "75\n",
      "76\n",
      "77\n",
      "78\n",
      "79\n",
      "80\n",
      "81\n",
      "82\n",
      "83\n",
      "84\n",
      "85\n",
      "86\n",
      "87\n",
      "88\n",
      "89\n",
      "90\n",
      "91\n",
      "92\n",
      "93\n",
      "94\n",
      "95\n",
      "96\n",
      "97\n",
      "98\n",
      "99\n"
     ]
    }
   ],
   "source": [
    "import threading\n",
    "import time\n",
    "def pp():\n",
    "    for i in range(100):\n",
    "        time.sleep(2)\n",
    "        print('hi uddhav')\n",
    "def pp1():\n",
    "    print('hi Mohanraj')\n",
    "\n",
    "t1=threading.Thread(target=pp)\n",
    "t2=threading.Thread(target=pp1)\n",
    "t1.start()\n",
    "t2.start()\n",
    "t1.join()\n",
    "t2.join()\n",
    "for i in range(100):\n",
    "    print(i)"
   ]
  },
  {
   "cell_type": "code",
   "execution_count": 13,
   "id": "46c9deea",
   "metadata": {},
   "outputs": [
    {
     "data": {
      "text/plain": [
       "'bdfghjklrv'"
      ]
     },
     "execution_count": 13,
     "metadata": {},
     "output_type": "execute_result"
    }
   ],
   "source": [
    "a='udahavrajjbhjgfhjhghgfgfjhkjljkdfdgjku'\n",
    "b=list(a)\n",
    "b.sort()\n",
    "c=''\n",
    "for i in b:\n",
    "    if i not in 'aeiou' and i not in c:\n",
    "        c+=i\n",
    "c"
   ]
  },
  {
   "cell_type": "code",
   "execution_count": 19,
   "id": "89cd4e23",
   "metadata": {},
   "outputs": [
    {
     "data": {
      "text/plain": [
       "'bdfghjklrv'"
      ]
     },
     "execution_count": 19,
     "metadata": {},
     "output_type": "execute_result"
    }
   ],
   "source": [
    "a='udahavrajjbhjgfhjhghgfgfjhkjljkdfdgjku'\n",
    "c=''\n",
    "for i in range(65,91):\n",
    "    if chr(i).lower() not in 'aeiou' and chr(i).lower() in a  :\n",
    "        c+=chr(i).lower() \n",
    "c"
   ]
  },
  {
   "cell_type": "code",
   "execution_count": 18,
   "id": "bfa95d25",
   "metadata": {},
   "outputs": [
    {
     "data": {
      "text/plain": [
       "'bdfghjklrv'"
      ]
     },
     "execution_count": 18,
     "metadata": {},
     "output_type": "execute_result"
    }
   ],
   "source": [
    "a='udahavrajjbhjgfhjhghgfgfjhkjljkdfdgjku'\n",
    "c=[]\n",
    "[c.append(chr(i).lower()) for i in range(65,91) if chr(i).lower() not in 'aeiou' and chr(i).lower() in a]\n",
    "''.join(c)"
   ]
  },
  {
   "cell_type": "code",
   "execution_count": 20,
   "id": "33a9de39",
   "metadata": {},
   "outputs": [],
   "source": [
    "a='uddhav Mohan Swati Aaliya'               # {uddhav:sangle}   # [uddhav,sangle]\n",
    "b='sangle Devde Punasiya phulari'\n"
   ]
  },
  {
   "cell_type": "code",
   "execution_count": 49,
   "id": "66a1b256",
   "metadata": {},
   "outputs": [
    {
     "data": {
      "text/plain": [
       "[['uddhav', 'sangle'],\n",
       " ['Mohan', 'Devde'],\n",
       " ['Swati', 'Punasiya'],\n",
       " ['Aaliya', 'phulari']]"
      ]
     },
     "execution_count": 49,
     "metadata": {},
     "output_type": "execute_result"
    }
   ],
   "source": [
    "g=[]\n",
    "n=[]\n",
    "c=[i for i in a.split(' ')]\n",
    "d=[j for j in b.split(' ')]\n",
    "for p in range(len(c)):\n",
    "    g.extend([c[p],d[p]])\n",
    "    n.append(g)\n",
    "    g=[]    \n",
    "n        "
   ]
  },
  {
   "cell_type": "code",
   "execution_count": 50,
   "id": "267bc18f",
   "metadata": {},
   "outputs": [
    {
     "data": {
      "text/plain": [
       "{'uddhav': 'sangle',\n",
       " 'Mohan': 'Devde',\n",
       " 'Swati': 'Punasiya',\n",
       " 'Aaliya': 'phulari'}"
      ]
     },
     "execution_count": 50,
     "metadata": {},
     "output_type": "execute_result"
    }
   ],
   "source": [
    "g={}\n",
    "c=[i for i in a.split(' ')]\n",
    "d=[j for j in b.split(' ')]\n",
    "for p in range(len(c)):\n",
    "    g[c[p]]=d[p]    \n",
    "g  "
   ]
  },
  {
   "cell_type": "code",
   "execution_count": 52,
   "id": "408a7c83",
   "metadata": {},
   "outputs": [
    {
     "name": "stdout",
     "output_type": "stream",
     "text": [
      "uddhav you are 26 year old\n",
      "Mohan you are 28 year old\n",
      "Swati you are 26 year old\n",
      "Aaliya you are 25 year old\n"
     ]
    }
   ],
   "source": [
    "a='uddhav Mohan Swati Aaliya'              \n",
    "b='26 28 26 25'\n",
    "c=[i for i in a.split(' ')]\n",
    "d=[j for j in b.split(' ')]\n",
    "for p in range(len(c)):\n",
    "    print(f\"{c[p]} you are {d[p]} year old\")\n",
    "# uddhav you are 26 year old"
   ]
  },
  {
   "cell_type": "code",
   "execution_count": 53,
   "id": "5d5b6521",
   "metadata": {},
   "outputs": [
    {
     "name": "stdout",
     "output_type": "stream",
     "text": [
      "uddhav you are 26 year old\n",
      "Mohan you are 28 year old\n",
      "Swati you are 26 year old\n",
      "Aaliya you are 25 year old\n"
     ]
    }
   ],
   "source": [
    "a='uddhav Mohan Swati Aaliya'              \n",
    "b='26 28 26 25'\n",
    "c=[i for i in a.split(' ')]\n",
    "d=[j for j in b.split(' ')]\n",
    "for p in range(len(c)):\n",
    "    print(\"{} you are {} year old\".format(c[p],d[p]))"
   ]
  },
  {
   "cell_type": "code",
   "execution_count": 1,
   "id": "301fcd1c",
   "metadata": {},
   "outputs": [
    {
     "name": "stdout",
     "output_type": "stream",
     "text": [
      "Enter the time in seconds: 2\n",
      "countdown finished\n"
     ]
    }
   ],
   "source": [
    "import time                           #110/60   2     1 min 50 sec\n",
    "t = input(\"Enter the time in seconds: \")\n",
    "def countdown(t):\n",
    "    while t:\n",
    "        mins, secs = divmod(t, 60)\n",
    "        timer = '{:02d}:{:02d}'.format(mins, secs)\n",
    "        print(timer,end='\\r')    \n",
    "        time.sleep(1) \n",
    "        t -= 1\n",
    "    print(\"countdown finished\")\n",
    "countdown(int(t))"
   ]
  },
  {
   "cell_type": "code",
   "execution_count": 1,
   "id": "09f381ea",
   "metadata": {},
   "outputs": [
    {
     "name": "stdout",
     "output_type": "stream",
     "text": [
      "ender in second6\n",
      "00:01\r"
     ]
    }
   ],
   "source": [
    "import time\n",
    "p=int(input('ender in second'))\n",
    "for i in range(p,0,-1):\n",
    "    mins, secs = divmod(i, 60)\n",
    "    timer = '{:02d}:{:02d}'.format(mins, secs)\n",
    "    print(timer,end='\\r')\n",
    "    time.sleep(1)"
   ]
  },
  {
   "cell_type": "code",
   "execution_count": 2,
   "id": "b55bf100",
   "metadata": {},
   "outputs": [
    {
     "name": "stdout",
     "output_type": "stream",
     "text": [
      "50.00514340400696\n"
     ]
    }
   ],
   "source": [
    "import time\n",
    "\n",
    "start_time = time.time()\n",
    "\n",
    "# The thing to time. Using sleep as an example\n",
    "time.sleep(50)\n",
    "\n",
    "end_time = time.time()\n",
    "elapsed_time = end_time - start_time\n",
    "\n",
    "print(elapsed_time)"
   ]
  },
  {
   "cell_type": "code",
   "execution_count": 5,
   "id": "ae877433",
   "metadata": {},
   "outputs": [
    {
     "name": "stdout",
     "output_type": "stream",
     "text": [
      "1.0103554725646973\n"
     ]
    }
   ],
   "source": [
    "import time\n",
    "st=time.time()\n",
    "time.sleep(1)\n",
    "nd=time.time()\n",
    "print(nd-st)"
   ]
  },
  {
   "cell_type": "code",
   "execution_count": 1,
   "id": "f74cab6a",
   "metadata": {},
   "outputs": [
    {
     "name": "stdout",
     "output_type": "stream",
     "text": [
      "2023-06-28 17:13:22.234133\r"
     ]
    }
   ],
   "source": [
    "import datetime\n",
    "import time\n",
    "for i in range(102):\n",
    "    now = datetime.datetime.now()\n",
    "    \n",
    "    time.sleep(1)\n",
    "    print(now,end='\\r')"
   ]
  },
  {
   "cell_type": "code",
   "execution_count": 11,
   "id": "77626d0d",
   "metadata": {},
   "outputs": [
    {
     "name": "stdout",
     "output_type": "stream",
     "text": [
      "\u001b[1;32;48m                                  *\u001b[0m\n",
      "\u001b[1;32;48m                                 ***\u001b[0m\n",
      "\u001b[1;32;48m                                *****\u001b[0m\n",
      "\u001b[1;32;48m                               *******\u001b[0m\n",
      "\u001b[1;32;48m                              *********\u001b[0m\n",
      "\u001b[1;32;48m                             ***********\u001b[0m\n",
      "\u001b[1;32;48m                            *************\u001b[0m\n",
      "\u001b[1;32;48m                           ***************\u001b[0m\n",
      "\u001b[1;32;48m                          *****************\u001b[0m\n",
      "\u001b[1;32;48m                         *******************\u001b[0m\n",
      "\u001b[1;32;48m                        *********************\u001b[0m\n",
      "\u001b[1;32;48m                       ***********************\u001b[0m\n",
      "\u001b[1;32;48m                      *************************\u001b[0m\n",
      "\u001b[1;32;48m                     ***************************\u001b[0m\n",
      "\u001b[1;32;48m                    *****************************\u001b[0m\n",
      "\u001b[1;32;48m                   *******************************\u001b[0m\n",
      "\u001b[1;32;48m                  *********************************\u001b[0m\n",
      "                                  ||\n",
      "                                  ||\n",
      "                                  ||\n",
      "                                \\====/\n"
     ]
    }
   ],
   "source": [
    "b=34\n",
    "c=0\n",
    "while b>0 and c<33:\n",
    "    print('\\33[1;32;48m'+' '*b+'*'+'*'*c+'\\33[0m')\n",
    "    b-=1\n",
    "    c+=2\n",
    "for r in range(3):\n",
    "          print(' '*33,'||')\n",
    "print(' '*32, end= '\\====/')\n",
    "print('')"
   ]
  },
  {
   "cell_type": "code",
   "execution_count": null,
   "id": "0758c1d7",
   "metadata": {},
   "outputs": [],
   "source": [
    "# A Python program to print all\n",
    "# permutations using library function\n",
    "from itertools import permutations\n",
    "\n",
    "\n",
    "# Get all permutations of [1, 2, 3]\n",
    "perm = permutations(['M', 'o', 'h'])     \n",
    "# Print the obtained permutations\n",
    "\n",
    "for i in list(perm):\n",
    "    print(''.join(list(i)))"
   ]
  },
  {
   "cell_type": "code",
   "execution_count": 1,
   "id": "fcf6dd64",
   "metadata": {},
   "outputs": [
    {
     "data": {
      "text/plain": [
       "310"
      ]
     },
     "execution_count": 1,
     "metadata": {},
     "output_type": "execute_result"
    }
   ],
   "source": [
    "62*5"
   ]
  },
  {
   "cell_type": "code",
   "execution_count": 6,
   "id": "3f381afe",
   "metadata": {},
   "outputs": [
    {
     "name": "stdout",
     "output_type": "stream",
     "text": [
      "('3', '1', '0')\n",
      "('3', '0', '1')\n",
      "('1', '3', '0')\n",
      "('1', '0', '3')\n",
      "('0', '3', '1')\n",
      "('0', '1', '3')\n"
     ]
    }
   ],
   "source": [
    "from itertools import permutations\n",
    "perm = permutations('310') \n",
    "\n",
    "for i in perm:\n",
    "    print(i)"
   ]
  },
  {
   "cell_type": "code",
   "execution_count": 17,
   "id": "93ea8a43",
   "metadata": {},
   "outputs": [
    {
     "name": "stdout",
     "output_type": "stream",
     "text": [
      "e\n",
      "Sad\n"
     ]
    }
   ],
   "source": [
    "a=str(input())\n",
    "b=[]\n",
    "c=0\n",
    "for i in a:\n",
    "    if i in 'aeiou':\n",
    "        b.append(i)\n",
    "        if len(b)>2:\n",
    "            print('Happy')\n",
    "            c+=1\n",
    "            break\n",
    "        \n",
    "    else:\n",
    "        b=[]\n",
    "            \n",
    "if c==0:\n",
    "    print('Sad')"
   ]
  },
  {
   "cell_type": "code",
   "execution_count": 8,
   "id": "bf526d3f",
   "metadata": {},
   "outputs": [
    {
     "data": {
      "text/plain": [
       "'--------------------String--------------------'"
      ]
     },
     "execution_count": 8,
     "metadata": {},
     "output_type": "execute_result"
    }
   ],
   "source": [
    "'String'.center(40+len('String'),'-')"
   ]
  },
  {
   "cell_type": "code",
   "execution_count": 3,
   "id": "a7fdcba5",
   "metadata": {},
   "outputs": [
    {
     "name": "stdout",
     "output_type": "stream",
     "text": [
      "jhhjrs\n"
     ]
    }
   ],
   "source": [
    "a='jhhjRs'\n",
    "print(a.casefold())  -------"
   ]
  },
  {
   "cell_type": "code",
   "execution_count": 14,
   "id": "cb1a44bd",
   "metadata": {},
   "outputs": [
    {
     "name": "stdout",
     "output_type": "stream",
     "text": [
      "----------jhh jR----------\n"
     ]
    }
   ],
   "source": [
    "a='jhh jR'     \n",
    "print(a.center(20+len(a),'-'))"
   ]
  },
  {
   "cell_type": "code",
   "execution_count": 15,
   "id": "ef9fa53d",
   "metadata": {},
   "outputs": [
    {
     "data": {
      "text/plain": [
       "b'jhh jR'"
      ]
     },
     "execution_count": 15,
     "metadata": {},
     "output_type": "execute_result"
    }
   ],
   "source": [
    "a.encode()"
   ]
  },
  {
   "cell_type": "code",
   "execution_count": 16,
   "id": "371211b1",
   "metadata": {},
   "outputs": [
    {
     "data": {
      "text/plain": [
       "'jhh jR'"
      ]
     },
     "execution_count": 16,
     "metadata": {},
     "output_type": "execute_result"
    }
   ],
   "source": [
    "a.expandtabs(tabsize=10)"
   ]
  },
  {
   "cell_type": "code",
   "execution_count": 20,
   "id": "4e7cbd14",
   "metadata": {},
   "outputs": [],
   "source": [
    "a='jhhjR\\tggg'.expandtabs(tabsize=10)"
   ]
  },
  {
   "cell_type": "code",
   "execution_count": 21,
   "id": "58c67614",
   "metadata": {},
   "outputs": [
    {
     "data": {
      "text/plain": [
       "13"
      ]
     },
     "execution_count": 21,
     "metadata": {},
     "output_type": "execute_result"
    }
   ],
   "source": [
    "len(a)"
   ]
  },
  {
   "cell_type": "code",
   "execution_count": 23,
   "id": "322c3f42",
   "metadata": {},
   "outputs": [
    {
     "data": {
      "text/plain": [
       "'jhhjpggg'"
      ]
     },
     "execution_count": 23,
     "metadata": {},
     "output_type": "execute_result"
    }
   ],
   "source": [
    "'jhhj{R}ggg'.format(R='p')"
   ]
  },
  {
   "cell_type": "code",
   "execution_count": 27,
   "id": "58c1e951",
   "metadata": {},
   "outputs": [
    {
     "name": "stdout",
     "output_type": "stream",
     "text": [
      "john last name is Wick\n"
     ]
    }
   ],
   "source": [
    "a={'X':'john','Y':'Wick'}\n",
    "print(\"{X} last name is {Y}\".format_map(a))"
   ]
  },
  {
   "cell_type": "code",
   "execution_count": 37,
   "id": "193e5fff",
   "metadata": {},
   "outputs": [
    {
     "data": {
      "text/plain": [
       "True"
      ]
     },
     "execution_count": 37,
     "metadata": {},
     "output_type": "execute_result"
    }
   ],
   "source": [
    "a='01111'\n",
    "a.isdecimal()"
   ]
  },
  {
   "cell_type": "code",
   "execution_count": 38,
   "id": "9db0c22a",
   "metadata": {},
   "outputs": [
    {
     "data": {
      "text/plain": [
       "True"
      ]
     },
     "execution_count": 38,
     "metadata": {},
     "output_type": "execute_result"
    }
   ],
   "source": [
    "b='55'\n",
    "b.isdecimal()"
   ]
  },
  {
   "cell_type": "code",
   "execution_count": 39,
   "id": "ef7af4bc",
   "metadata": {},
   "outputs": [
    {
     "data": {
      "text/plain": [
       "True"
      ]
     },
     "execution_count": 39,
     "metadata": {},
     "output_type": "execute_result"
    }
   ],
   "source": [
    "b='55'\n",
    "b.isdigit()"
   ]
  },
  {
   "cell_type": "code",
   "execution_count": 48,
   "id": "17029a0f",
   "metadata": {},
   "outputs": [
    {
     "data": {
      "text/plain": [
       "False"
      ]
     },
     "execution_count": 48,
     "metadata": {},
     "output_type": "execute_result"
    }
   ],
   "source": [
    "b=' 5 5 '\n",
    "b.isspace()"
   ]
  },
  {
   "cell_type": "code",
   "execution_count": 50,
   "id": "844205dc",
   "metadata": {},
   "outputs": [
    {
     "data": {
      "text/plain": [
       "'GFVHFRR'"
      ]
     },
     "execution_count": 50,
     "metadata": {},
     "output_type": "execute_result"
    }
   ],
   "source": [
    "'gfvhfrr'.swapcase()  "
   ]
  },
  {
   "cell_type": "code",
   "execution_count": 9,
   "id": "4d3a5eac",
   "metadata": {},
   "outputs": [],
   "source": [
    "for i in range(6):\n",
    "    pass\n",
    "        \n",
    "        \n",
    "        "
   ]
  },
  {
   "cell_type": "code",
   "execution_count": null,
   "id": "463fd9f9",
   "metadata": {},
   "outputs": [],
   "source": [
    "T=int(input())\n",
    "for i  in range(T):\n",
    "    c=0\n",
    "    x=input()\n",
    "    p=[i for i in x.split(' ')]\n",
    "    for j in p:\n",
    "           if j>=1000:\n",
    "                c+=1\n",
    "    print(c)\n",
    "    c=0"
   ]
  },
  {
   "cell_type": "code",
   "execution_count": 1,
   "id": "87b88a09",
   "metadata": {},
   "outputs": [],
   "source": [
    "d={1:'jjhs',2:'hjghg'}"
   ]
  },
  {
   "cell_type": "code",
   "execution_count": 7,
   "id": "5fdbc95d",
   "metadata": {},
   "outputs": [],
   "source": [
    "p=[*d.keys()]"
   ]
  },
  {
   "cell_type": "code",
   "execution_count": 9,
   "id": "fa893a10",
   "metadata": {},
   "outputs": [],
   "source": [
    "p=[*d]"
   ]
  },
  {
   "cell_type": "code",
   "execution_count": 12,
   "id": "355f0ad1",
   "metadata": {},
   "outputs": [],
   "source": [
    "*p,=[d]"
   ]
  },
  {
   "cell_type": "code",
   "execution_count": 13,
   "id": "a1798f0b",
   "metadata": {},
   "outputs": [
    {
     "data": {
      "text/plain": [
       "list"
      ]
     },
     "execution_count": 13,
     "metadata": {},
     "output_type": "execute_result"
    }
   ],
   "source": [
    "type(p)"
   ]
  },
  {
   "cell_type": "code",
   "execution_count": 14,
   "id": "66ccef9f",
   "metadata": {},
   "outputs": [],
   "source": [
    "a=set()"
   ]
  },
  {
   "cell_type": "code",
   "execution_count": 15,
   "id": "8fa3acc9",
   "metadata": {},
   "outputs": [
    {
     "data": {
      "text/plain": [
       "set"
      ]
     },
     "execution_count": 15,
     "metadata": {},
     "output_type": "execute_result"
    }
   ],
   "source": [
    "type(a)"
   ]
  },
  {
   "cell_type": "code",
   "execution_count": 17,
   "id": "8d14273b",
   "metadata": {},
   "outputs": [],
   "source": [
    "a.add('hi')"
   ]
  },
  {
   "cell_type": "code",
   "execution_count": 18,
   "id": "868e48c5",
   "metadata": {},
   "outputs": [
    {
     "data": {
      "text/plain": [
       "{'hi'}"
      ]
     },
     "execution_count": 18,
     "metadata": {},
     "output_type": "execute_result"
    }
   ],
   "source": [
    "a"
   ]
  },
  {
   "cell_type": "code",
   "execution_count": 19,
   "id": "a6479c09",
   "metadata": {},
   "outputs": [
    {
     "data": {
      "text/plain": [
       "'word'"
      ]
     },
     "execution_count": 19,
     "metadata": {},
     "output_type": "execute_result"
    }
   ],
   "source": [
    "p='hell0word'\n",
    "p[5:]"
   ]
  },
  {
   "cell_type": "code",
   "execution_count": 20,
   "id": "56ec4b1e",
   "metadata": {},
   "outputs": [
    {
     "data": {
      "text/plain": [
       "(2, 3, 45, 4, 4, 5, 6)"
      ]
     },
     "execution_count": 20,
     "metadata": {},
     "output_type": "execute_result"
    }
   ],
   "source": [
    "a=(2,3,45,4)\n",
    "b=(4,5,6)\n",
    "a+b"
   ]
  },
  {
   "cell_type": "code",
   "execution_count": 21,
   "id": "37dfb131",
   "metadata": {},
   "outputs": [],
   "source": [
    "import numpy as np\n",
    "p=np.array([1,2,3,4,5,'hfdh'])"
   ]
  },
  {
   "cell_type": "code",
   "execution_count": 22,
   "id": "33903b56",
   "metadata": {},
   "outputs": [
    {
     "data": {
      "text/plain": [
       "array(['1', '2', '3', '4', '5', 'hfdh'], dtype='<U11')"
      ]
     },
     "execution_count": 22,
     "metadata": {},
     "output_type": "execute_result"
    }
   ],
   "source": [
    "p"
   ]
  },
  {
   "cell_type": "code",
   "execution_count": 23,
   "id": "781f7f5f",
   "metadata": {},
   "outputs": [
    {
     "name": "stdout",
     "output_type": "stream",
     "text": [
      "<class 'numpy.str_'>\n",
      "<class 'numpy.str_'>\n",
      "<class 'numpy.str_'>\n",
      "<class 'numpy.str_'>\n",
      "<class 'numpy.str_'>\n",
      "<class 'numpy.str_'>\n"
     ]
    }
   ],
   "source": [
    "for i in p:\n",
    "    print(type(i))"
   ]
  },
  {
   "cell_type": "code",
   "execution_count": 26,
   "id": "814124f8",
   "metadata": {},
   "outputs": [],
   "source": [
    "del d[2]"
   ]
  },
  {
   "cell_type": "code",
   "execution_count": 27,
   "id": "b8413981",
   "metadata": {},
   "outputs": [
    {
     "data": {
      "text/plain": [
       "{}"
      ]
     },
     "execution_count": 27,
     "metadata": {},
     "output_type": "execute_result"
    }
   ],
   "source": [
    "d"
   ]
  },
  {
   "cell_type": "code",
   "execution_count": 37,
   "id": "08d1bb52",
   "metadata": {},
   "outputs": [
    {
     "ename": "KeyboardInterrupt",
     "evalue": "Interrupted by user",
     "output_type": "error",
     "traceback": [
      "\u001b[1;31m---------------------------------------------------------------------------\u001b[0m",
      "\u001b[1;31mKeyboardInterrupt\u001b[0m                         Traceback (most recent call last)",
      "Cell \u001b[1;32mIn [37], line 1\u001b[0m\n\u001b[1;32m----> 1\u001b[0m p\u001b[38;5;241m=\u001b[39m\u001b[38;5;28mlist\u001b[39m(\u001b[38;5;28mfilter\u001b[39m(\u001b[38;5;28;01mlambda\u001b[39;00m x : x,\u001b[38;5;28mlist\u001b[39m(\u001b[38;5;28mmap\u001b[39m(\u001b[38;5;28mint\u001b[39m, \u001b[38;5;28;43minput\u001b[39;49m\u001b[43m(\u001b[49m\u001b[43m)\u001b[49m\u001b[38;5;241m.\u001b[39msplit()))))\n",
      "File \u001b[1;32m~\\miniconda3\\lib\\site-packages\\ipykernel\\kernelbase.py:1177\u001b[0m, in \u001b[0;36mKernel.raw_input\u001b[1;34m(self, prompt)\u001b[0m\n\u001b[0;32m   1173\u001b[0m \u001b[38;5;28;01mif\u001b[39;00m \u001b[38;5;129;01mnot\u001b[39;00m \u001b[38;5;28mself\u001b[39m\u001b[38;5;241m.\u001b[39m_allow_stdin:\n\u001b[0;32m   1174\u001b[0m     \u001b[38;5;28;01mraise\u001b[39;00m StdinNotImplementedError(\n\u001b[0;32m   1175\u001b[0m         \u001b[38;5;124m\"\u001b[39m\u001b[38;5;124mraw_input was called, but this frontend does not support input requests.\u001b[39m\u001b[38;5;124m\"\u001b[39m\n\u001b[0;32m   1176\u001b[0m     )\n\u001b[1;32m-> 1177\u001b[0m \u001b[38;5;28;01mreturn\u001b[39;00m \u001b[38;5;28;43mself\u001b[39;49m\u001b[38;5;241;43m.\u001b[39;49m\u001b[43m_input_request\u001b[49m\u001b[43m(\u001b[49m\n\u001b[0;32m   1178\u001b[0m \u001b[43m    \u001b[49m\u001b[38;5;28;43mstr\u001b[39;49m\u001b[43m(\u001b[49m\u001b[43mprompt\u001b[49m\u001b[43m)\u001b[49m\u001b[43m,\u001b[49m\n\u001b[0;32m   1179\u001b[0m \u001b[43m    \u001b[49m\u001b[38;5;28;43mself\u001b[39;49m\u001b[38;5;241;43m.\u001b[39;49m\u001b[43m_parent_ident\u001b[49m\u001b[43m[\u001b[49m\u001b[38;5;124;43m\"\u001b[39;49m\u001b[38;5;124;43mshell\u001b[39;49m\u001b[38;5;124;43m\"\u001b[39;49m\u001b[43m]\u001b[49m\u001b[43m,\u001b[49m\n\u001b[0;32m   1180\u001b[0m \u001b[43m    \u001b[49m\u001b[38;5;28;43mself\u001b[39;49m\u001b[38;5;241;43m.\u001b[39;49m\u001b[43mget_parent\u001b[49m\u001b[43m(\u001b[49m\u001b[38;5;124;43m\"\u001b[39;49m\u001b[38;5;124;43mshell\u001b[39;49m\u001b[38;5;124;43m\"\u001b[39;49m\u001b[43m)\u001b[49m\u001b[43m,\u001b[49m\n\u001b[0;32m   1181\u001b[0m \u001b[43m    \u001b[49m\u001b[43mpassword\u001b[49m\u001b[38;5;241;43m=\u001b[39;49m\u001b[38;5;28;43;01mFalse\u001b[39;49;00m\u001b[43m,\u001b[49m\n\u001b[0;32m   1182\u001b[0m \u001b[43m\u001b[49m\u001b[43m)\u001b[49m\n",
      "File \u001b[1;32m~\\miniconda3\\lib\\site-packages\\ipykernel\\kernelbase.py:1219\u001b[0m, in \u001b[0;36mKernel._input_request\u001b[1;34m(self, prompt, ident, parent, password)\u001b[0m\n\u001b[0;32m   1216\u001b[0m             \u001b[38;5;28;01mbreak\u001b[39;00m\n\u001b[0;32m   1217\u001b[0m \u001b[38;5;28;01mexcept\u001b[39;00m \u001b[38;5;167;01mKeyboardInterrupt\u001b[39;00m:\n\u001b[0;32m   1218\u001b[0m     \u001b[38;5;66;03m# re-raise KeyboardInterrupt, to truncate traceback\u001b[39;00m\n\u001b[1;32m-> 1219\u001b[0m     \u001b[38;5;28;01mraise\u001b[39;00m \u001b[38;5;167;01mKeyboardInterrupt\u001b[39;00m(\u001b[38;5;124m\"\u001b[39m\u001b[38;5;124mInterrupted by user\u001b[39m\u001b[38;5;124m\"\u001b[39m) \u001b[38;5;28;01mfrom\u001b[39;00m \u001b[38;5;28mNone\u001b[39m\n\u001b[0;32m   1220\u001b[0m \u001b[38;5;28;01mexcept\u001b[39;00m \u001b[38;5;167;01mException\u001b[39;00m:\n\u001b[0;32m   1221\u001b[0m     \u001b[38;5;28mself\u001b[39m\u001b[38;5;241m.\u001b[39mlog\u001b[38;5;241m.\u001b[39mwarning(\u001b[38;5;124m\"\u001b[39m\u001b[38;5;124mInvalid Message:\u001b[39m\u001b[38;5;124m\"\u001b[39m, exc_info\u001b[38;5;241m=\u001b[39m\u001b[38;5;28;01mTrue\u001b[39;00m)\n",
      "\u001b[1;31mKeyboardInterrupt\u001b[0m: Interrupted by user"
     ]
    }
   ],
   "source": [
    "p=list(filter(lambda x : x,list(map(int, input().split()))))"
   ]
  },
  {
   "cell_type": "code",
   "execution_count": 38,
   "id": "d6ddfc81",
   "metadata": {},
   "outputs": [],
   "source": [
    "p=[34,4, 56, 5]"
   ]
  },
  {
   "cell_type": "code",
   "execution_count": 39,
   "id": "7fa5489a",
   "metadata": {},
   "outputs": [
    {
     "data": {
      "text/plain": [
       "[34, 4, 56, 5]"
      ]
     },
     "execution_count": 39,
     "metadata": {},
     "output_type": "execute_result"
    }
   ],
   "source": [
    "p"
   ]
  },
  {
   "cell_type": "code",
   "execution_count": 47,
   "id": "bcaa9cd7",
   "metadata": {},
   "outputs": [
    {
     "data": {
      "text/plain": [
       "[68, 8, 112, 10]"
      ]
     },
     "execution_count": 47,
     "metadata": {},
     "output_type": "execute_result"
    }
   ],
   "source": [
    "list(map(lambda x: x*2 ,p))"
   ]
  },
  {
   "cell_type": "code",
   "execution_count": 48,
   "id": "81237ae0",
   "metadata": {},
   "outputs": [
    {
     "name": "stdout",
     "output_type": "stream",
     "text": [
      "ArithmeticError\n",
      "AssertionError\n",
      "AttributeError\n",
      "BaseException\n",
      "BlockingIOError\n",
      "BrokenPipeError\n",
      "BufferError\n",
      "BytesWarning\n",
      "ChildProcessError\n",
      "ConnectionAbortedError\n",
      "ConnectionError\n",
      "ConnectionRefusedError\n",
      "ConnectionResetError\n",
      "DeprecationWarning\n",
      "EOFError\n",
      "Ellipsis\n",
      "EnvironmentError\n",
      "Exception\n",
      "False\n",
      "FileExistsError\n",
      "FileNotFoundError\n",
      "FloatingPointError\n",
      "FutureWarning\n",
      "GeneratorExit\n",
      "IOError\n",
      "ImportError\n",
      "ImportWarning\n",
      "IndentationError\n",
      "IndexError\n",
      "InterruptedError\n",
      "IsADirectoryError\n",
      "KeyError\n",
      "KeyboardInterrupt\n",
      "LookupError\n",
      "MemoryError\n",
      "ModuleNotFoundError\n",
      "NameError\n",
      "None\n",
      "NotADirectoryError\n",
      "NotImplemented\n",
      "NotImplementedError\n",
      "OSError\n",
      "OverflowError\n",
      "PendingDeprecationWarning\n",
      "PermissionError\n",
      "ProcessLookupError\n",
      "RecursionError\n",
      "ReferenceError\n",
      "ResourceWarning\n",
      "RuntimeError\n",
      "RuntimeWarning\n",
      "StopAsyncIteration\n",
      "StopIteration\n",
      "SyntaxError\n",
      "SyntaxWarning\n",
      "SystemError\n",
      "SystemExit\n",
      "TabError\n",
      "TimeoutError\n",
      "True\n",
      "TypeError\n",
      "UnboundLocalError\n",
      "UnicodeDecodeError\n",
      "UnicodeEncodeError\n",
      "UnicodeError\n",
      "UnicodeTranslateError\n",
      "UnicodeWarning\n",
      "UserWarning\n",
      "ValueError\n",
      "Warning\n",
      "WindowsError\n",
      "ZeroDivisionError\n",
      "__IPYTHON__\n",
      "__build_class__\n",
      "__debug__\n",
      "__doc__\n",
      "__import__\n",
      "__loader__\n",
      "__name__\n",
      "__package__\n",
      "__spec__\n",
      "abs\n",
      "all\n",
      "any\n",
      "ascii\n",
      "bin\n",
      "bool\n",
      "breakpoint\n",
      "bytearray\n",
      "bytes\n",
      "callable\n",
      "chr\n",
      "classmethod\n",
      "compile\n",
      "complex\n",
      "copyright\n",
      "credits\n",
      "delattr\n",
      "dict\n",
      "dir\n",
      "display\n",
      "divmod\n",
      "enumerate\n",
      "eval\n",
      "exec\n",
      "execfile\n",
      "filter\n",
      "float\n",
      "format\n",
      "frozenset\n",
      "get_ipython\n",
      "getattr\n",
      "globals\n",
      "hasattr\n",
      "hash\n",
      "help\n",
      "hex\n",
      "id\n",
      "input\n",
      "int\n",
      "isinstance\n",
      "issubclass\n",
      "iter\n",
      "len\n",
      "license\n",
      "list\n",
      "locals\n",
      "map\n",
      "max\n",
      "memoryview\n",
      "min\n",
      "next\n",
      "object\n",
      "oct\n",
      "open\n",
      "ord\n",
      "pow\n",
      "print\n",
      "property\n",
      "range\n",
      "repr\n",
      "reversed\n",
      "round\n",
      "runfile\n",
      "set\n",
      "setattr\n",
      "slice\n",
      "sorted\n",
      "staticmethod\n",
      "str\n",
      "sum\n",
      "super\n",
      "tuple\n",
      "type\n",
      "vars\n",
      "zip\n"
     ]
    }
   ],
   "source": [
    "v=dir(__builtins__)\n",
    "for i in v:\n",
    "    print(i)"
   ]
  },
  {
   "cell_type": "code",
   "execution_count": 50,
   "id": "1fac834a",
   "metadata": {},
   "outputs": [
    {
     "data": {
      "text/plain": [
       "[4, 5, 7, 8]"
      ]
     },
     "execution_count": 50,
     "metadata": {},
     "output_type": "execute_result"
    }
   ],
   "source": [
    "o=[4,5,7,8,9]\n",
    "o[:-1]"
   ]
  },
  {
   "cell_type": "code",
   "execution_count": null,
   "id": "406805e9",
   "metadata": {},
   "outputs": [],
   "source": [
    "MohanDevde   ----pascal\n",
    "eBay     ------camal case\n",
    "Mohan_devde  ---snake case"
   ]
  },
  {
   "cell_type": "code",
   "execution_count": null,
   "id": "c6639ecd",
   "metadata": {},
   "outputs": [],
   "source": [
    "type --data"
   ]
  },
  {
   "cell_type": "code",
   "execution_count": null,
   "id": "69f22103",
   "metadata": {},
   "outputs": [],
   "source": [
    "# int, float, complex-2+2j, str , None , boolean"
   ]
  },
  {
   "cell_type": "code",
   "execution_count": null,
   "id": "f4b1ee81",
   "metadata": {},
   "outputs": [],
   "source": [
    "# list, tuple , dict , set , frozenset"
   ]
  },
  {
   "cell_type": "code",
   "execution_count": null,
   "id": "a1bd9e14",
   "metadata": {},
   "outputs": [],
   "source": [
    "# add , delete , modify the element"
   ]
  },
  {
   "cell_type": "code",
   "execution_count": 30,
   "id": "b351c5c0",
   "metadata": {},
   "outputs": [],
   "source": [
    "a=[1,2,3,45,6]\n"
   ]
  },
  {
   "cell_type": "code",
   "execution_count": 19,
   "id": "15008e51",
   "metadata": {},
   "outputs": [
    {
     "data": {
      "text/plain": [
       "[1, 2, 3, 4, 6]"
      ]
     },
     "execution_count": 19,
     "metadata": {},
     "output_type": "execute_result"
    }
   ],
   "source": [
    "a"
   ]
  },
  {
   "cell_type": "code",
   "execution_count": 21,
   "id": "0f043ecd",
   "metadata": {},
   "outputs": [
    {
     "data": {
      "text/plain": [
       "1"
      ]
     },
     "execution_count": 21,
     "metadata": {},
     "output_type": "execute_result"
    }
   ],
   "source": [
    "a.count(4)"
   ]
  },
  {
   "cell_type": "code",
   "execution_count": 31,
   "id": "1354d247",
   "metadata": {},
   "outputs": [],
   "source": [
    "a.sort(reverse=True)"
   ]
  },
  {
   "cell_type": "code",
   "execution_count": 32,
   "id": "88a3cbdd",
   "metadata": {},
   "outputs": [
    {
     "data": {
      "text/plain": [
       "[45, 6, 3, 2, 1]"
      ]
     },
     "execution_count": 32,
     "metadata": {},
     "output_type": "execute_result"
    }
   ],
   "source": [
    "a"
   ]
  },
  {
   "cell_type": "code",
   "execution_count": null,
   "id": "fa7b00a6",
   "metadata": {},
   "outputs": [],
   "source": [
    "# tuple - immutable "
   ]
  },
  {
   "cell_type": "code",
   "execution_count": 33,
   "id": "7d05897a",
   "metadata": {},
   "outputs": [],
   "source": [
    "a=(1,2,34,56,7)"
   ]
  },
  {
   "cell_type": "code",
   "execution_count": 35,
   "id": "a5190e7a",
   "metadata": {},
   "outputs": [
    {
     "data": {
      "text/plain": [
       "1"
      ]
     },
     "execution_count": 35,
     "metadata": {},
     "output_type": "execute_result"
    }
   ],
   "source": [
    "a.count(1)"
   ]
  },
  {
   "cell_type": "code",
   "execution_count": null,
   "id": "372537c1",
   "metadata": {},
   "outputs": [],
   "source": [
    "# set  - mutable --add, delete , modify "
   ]
  },
  {
   "cell_type": "code",
   "execution_count": 43,
   "id": "26b33ed7",
   "metadata": {},
   "outputs": [],
   "source": [
    "a={1,2,3,456,7}   #  -- duplicate ---unordered"
   ]
  },
  {
   "cell_type": "code",
   "execution_count": null,
   "id": "44336d12",
   "metadata": {},
   "outputs": [],
   "source": [
    "add--   update"
   ]
  },
  {
   "cell_type": "code",
   "execution_count": 46,
   "id": "7c53b2af",
   "metadata": {},
   "outputs": [],
   "source": [
    "a.add(8)"
   ]
  },
  {
   "cell_type": "code",
   "execution_count": 47,
   "id": "b799930e",
   "metadata": {},
   "outputs": [
    {
     "data": {
      "text/plain": [
       "{1, 2, 3, 7, 8, 456}"
      ]
     },
     "execution_count": 47,
     "metadata": {},
     "output_type": "execute_result"
    }
   ],
   "source": [
    "a"
   ]
  },
  {
   "cell_type": "code",
   "execution_count": 48,
   "id": "37ebda6d",
   "metadata": {},
   "outputs": [],
   "source": [
    "a.update({4,5,6})"
   ]
  },
  {
   "cell_type": "code",
   "execution_count": 49,
   "id": "58320bdc",
   "metadata": {},
   "outputs": [
    {
     "data": {
      "text/plain": [
       "{1, 2, 3, 4, 5, 6, 7, 8, 456}"
      ]
     },
     "execution_count": 49,
     "metadata": {},
     "output_type": "execute_result"
    }
   ],
   "source": [
    "a"
   ]
  },
  {
   "cell_type": "code",
   "execution_count": 50,
   "id": "aa3df4a1",
   "metadata": {},
   "outputs": [
    {
     "data": {
      "text/plain": [
       "1"
      ]
     },
     "execution_count": 50,
     "metadata": {},
     "output_type": "execute_result"
    }
   ],
   "source": [
    "a.pop()"
   ]
  },
  {
   "cell_type": "code",
   "execution_count": 51,
   "id": "20f85693",
   "metadata": {},
   "outputs": [
    {
     "data": {
      "text/plain": [
       "{2, 3, 4, 5, 6, 7, 8, 456}"
      ]
     },
     "execution_count": 51,
     "metadata": {},
     "output_type": "execute_result"
    }
   ],
   "source": [
    "a"
   ]
  },
  {
   "cell_type": "code",
   "execution_count": 52,
   "id": "009ce833",
   "metadata": {},
   "outputs": [],
   "source": [
    "a.remove(6)"
   ]
  },
  {
   "cell_type": "code",
   "execution_count": 53,
   "id": "fee86230",
   "metadata": {},
   "outputs": [
    {
     "data": {
      "text/plain": [
       "{2, 3, 4, 5, 7, 8, 456}"
      ]
     },
     "execution_count": 53,
     "metadata": {},
     "output_type": "execute_result"
    }
   ],
   "source": [
    "a"
   ]
  },
  {
   "cell_type": "code",
   "execution_count": 54,
   "id": "90e98f3b",
   "metadata": {},
   "outputs": [
    {
     "ename": "KeyError",
     "evalue": "6",
     "output_type": "error",
     "traceback": [
      "\u001b[1;31m---------------------------------------------------------------------------\u001b[0m",
      "\u001b[1;31mKeyError\u001b[0m                                  Traceback (most recent call last)",
      "Cell \u001b[1;32mIn [54], line 1\u001b[0m\n\u001b[1;32m----> 1\u001b[0m \u001b[43ma\u001b[49m\u001b[38;5;241;43m.\u001b[39;49m\u001b[43mremove\u001b[49m\u001b[43m(\u001b[49m\u001b[38;5;241;43m6\u001b[39;49m\u001b[43m)\u001b[49m\n",
      "\u001b[1;31mKeyError\u001b[0m: 6"
     ]
    }
   ],
   "source": [
    "a.remove(6)"
   ]
  },
  {
   "cell_type": "code",
   "execution_count": 55,
   "id": "3398fb3d",
   "metadata": {},
   "outputs": [],
   "source": [
    "a.discard(6)"
   ]
  },
  {
   "cell_type": "code",
   "execution_count": 56,
   "id": "a8649281",
   "metadata": {},
   "outputs": [],
   "source": [
    "# union # add "
   ]
  },
  {
   "cell_type": "code",
   "execution_count": 62,
   "id": "ffa0878c",
   "metadata": {},
   "outputs": [
    {
     "data": {
      "text/plain": [
       "{1, 2, 6, 8, 67}"
      ]
     },
     "execution_count": 62,
     "metadata": {},
     "output_type": "execute_result"
    }
   ],
   "source": [
    "a={1,2,3,4,5,6}\n",
    "b={3,4,5,67,8}\n",
    "b.symmetric_difference(a)\n"
   ]
  },
  {
   "cell_type": "code",
   "execution_count": 64,
   "id": "a1d63f39",
   "metadata": {},
   "outputs": [
    {
     "data": {
      "text/plain": [
       "True"
      ]
     },
     "execution_count": 64,
     "metadata": {},
     "output_type": "execute_result"
    }
   ],
   "source": [
    "a={1,2,3,4,5}\n",
    "b={1,2,3,4,5}\n",
    "b.issuperset(a)"
   ]
  },
  {
   "cell_type": "code",
   "execution_count": 65,
   "id": "086b0548",
   "metadata": {},
   "outputs": [],
   "source": [
    "a=[1,2,3,3,4,4,3]\n",
    "a.remove(3)"
   ]
  },
  {
   "cell_type": "code",
   "execution_count": 67,
   "id": "5f42012a",
   "metadata": {},
   "outputs": [
    {
     "data": {
      "text/plain": [
       "[1, 2, 3, 4, 4, 3]"
      ]
     },
     "execution_count": 67,
     "metadata": {},
     "output_type": "execute_result"
    }
   ],
   "source": [
    "a"
   ]
  },
  {
   "cell_type": "code",
   "execution_count": 70,
   "id": "4ad45e35",
   "metadata": {},
   "outputs": [],
   "source": [
    "v=[]\n",
    "for i in a:\n",
    "    if i not in v:\n",
    "        v.append(i)\n",
    "  "
   ]
  },
  {
   "cell_type": "code",
   "execution_count": 71,
   "id": "6e01c36d",
   "metadata": {},
   "outputs": [
    {
     "data": {
      "text/plain": [
       "[1, 2, 3, 4]"
      ]
     },
     "execution_count": 71,
     "metadata": {},
     "output_type": "execute_result"
    }
   ],
   "source": [
    "v"
   ]
  },
  {
   "cell_type": "code",
   "execution_count": 72,
   "id": "51ccd116",
   "metadata": {},
   "outputs": [],
   "source": [
    "# dict"
   ]
  },
  {
   "cell_type": "code",
   "execution_count": 74,
   "id": "a9199fe3",
   "metadata": {},
   "outputs": [
    {
     "data": {
      "text/plain": [
       "[1, 2]"
      ]
     },
     "execution_count": 74,
     "metadata": {},
     "output_type": "execute_result"
    }
   ],
   "source": [
    "a={1:'Uddhav',2:'Krishna'}\n",
    "[*a]"
   ]
  },
  {
   "cell_type": "code",
   "execution_count": 77,
   "id": "222c4bd8",
   "metadata": {},
   "outputs": [
    {
     "data": {
      "text/plain": [
       "dict_items([(1, 'Uddhav'), (2, 'Krishna')])"
      ]
     },
     "execution_count": 77,
     "metadata": {},
     "output_type": "execute_result"
    }
   ],
   "source": [
    "a.items()"
   ]
  },
  {
   "cell_type": "code",
   "execution_count": 78,
   "id": "44350ba4",
   "metadata": {},
   "outputs": [
    {
     "data": {
      "text/plain": [
       "'Uddhav'"
      ]
     },
     "execution_count": 78,
     "metadata": {},
     "output_type": "execute_result"
    }
   ],
   "source": [
    "a[1]"
   ]
  },
  {
   "cell_type": "code",
   "execution_count": 79,
   "id": "a103e923",
   "metadata": {},
   "outputs": [
    {
     "data": {
      "text/plain": [
       "'Uddhav'"
      ]
     },
     "execution_count": 79,
     "metadata": {},
     "output_type": "execute_result"
    }
   ],
   "source": [
    "a.get(1)"
   ]
  },
  {
   "cell_type": "code",
   "execution_count": 82,
   "id": "6be32549",
   "metadata": {},
   "outputs": [],
   "source": [
    "a[3]='Mohan'"
   ]
  },
  {
   "cell_type": "code",
   "execution_count": 83,
   "id": "4d408086",
   "metadata": {},
   "outputs": [
    {
     "data": {
      "text/plain": [
       "{1: 'Uddhav', 2: 'Krishna', 3: 'Mohan'}"
      ]
     },
     "execution_count": 83,
     "metadata": {},
     "output_type": "execute_result"
    }
   ],
   "source": [
    "a"
   ]
  },
  {
   "cell_type": "code",
   "execution_count": 86,
   "id": "f5cf6aa8",
   "metadata": {},
   "outputs": [],
   "source": [
    "a.update({4:'Swati1',5:'Aaliya1'})"
   ]
  },
  {
   "cell_type": "code",
   "execution_count": 87,
   "id": "3b0ea78a",
   "metadata": {},
   "outputs": [
    {
     "data": {
      "text/plain": [
       "{1: 'Uddhav', 2: 'Krishna', 3: 'Mohan', 4: 'Swati1', 5: 'Aaliya1'}"
      ]
     },
     "execution_count": 87,
     "metadata": {},
     "output_type": "execute_result"
    }
   ],
   "source": [
    "a"
   ]
  },
  {
   "cell_type": "code",
   "execution_count": null,
   "id": "e1dbe53f",
   "metadata": {},
   "outputs": [],
   "source": [
    "pop, popitem , remove"
   ]
  },
  {
   "cell_type": "code",
   "execution_count": 88,
   "id": "cacfe144",
   "metadata": {},
   "outputs": [
    {
     "data": {
      "text/plain": [
       "'Mohan'"
      ]
     },
     "execution_count": 88,
     "metadata": {},
     "output_type": "execute_result"
    }
   ],
   "source": [
    "a.pop(3)"
   ]
  },
  {
   "cell_type": "code",
   "execution_count": 89,
   "id": "51819279",
   "metadata": {},
   "outputs": [
    {
     "data": {
      "text/plain": [
       "{1: 'Uddhav', 2: 'Krishna', 4: 'Swati1', 5: 'Aaliya1'}"
      ]
     },
     "execution_count": 89,
     "metadata": {},
     "output_type": "execute_result"
    }
   ],
   "source": [
    "a"
   ]
  },
  {
   "cell_type": "code",
   "execution_count": 90,
   "id": "e6e4a4e5",
   "metadata": {},
   "outputs": [
    {
     "data": {
      "text/plain": [
       "(5, 'Aaliya1')"
      ]
     },
     "execution_count": 90,
     "metadata": {},
     "output_type": "execute_result"
    }
   ],
   "source": [
    "a.popitem()"
   ]
  },
  {
   "cell_type": "code",
   "execution_count": 91,
   "id": "3e27e432",
   "metadata": {
    "scrolled": true
   },
   "outputs": [
    {
     "data": {
      "text/plain": [
       "{1: 'Uddhav', 2: 'Krishna', 4: 'Swati1'}"
      ]
     },
     "execution_count": 91,
     "metadata": {},
     "output_type": "execute_result"
    }
   ],
   "source": [
    "a"
   ]
  },
  {
   "cell_type": "code",
   "execution_count": 94,
   "id": "7111a5db",
   "metadata": {},
   "outputs": [],
   "source": [
    "################################## "
   ]
  },
  {
   "cell_type": "code",
   "execution_count": 95,
   "id": "31ad75ce",
   "metadata": {},
   "outputs": [
    {
     "data": {
      "text/plain": [
       "'Raj'"
      ]
     },
     "execution_count": 95,
     "metadata": {},
     "output_type": "execute_result"
    }
   ],
   "source": [
    "# setdefault()\n",
    "# fromkeys()\n",
    "\n",
    "a.setdefault(5,'Raj')"
   ]
  },
  {
   "cell_type": "code",
   "execution_count": 96,
   "id": "d2affe5e",
   "metadata": {},
   "outputs": [
    {
     "data": {
      "text/plain": [
       "{1: 'Uddhav', 2: 'Krishna', 4: 'Swati1', 5: 'Raj'}"
      ]
     },
     "execution_count": 96,
     "metadata": {},
     "output_type": "execute_result"
    }
   ],
   "source": [
    "a"
   ]
  },
  {
   "cell_type": "code",
   "execution_count": 97,
   "id": "247ee775",
   "metadata": {},
   "outputs": [
    {
     "data": {
      "text/plain": [
       "'Raj'"
      ]
     },
     "execution_count": 97,
     "metadata": {},
     "output_type": "execute_result"
    }
   ],
   "source": [
    "a.setdefault(5,'Mohan')"
   ]
  },
  {
   "cell_type": "code",
   "execution_count": 98,
   "id": "3e8e3c63",
   "metadata": {},
   "outputs": [
    {
     "data": {
      "text/plain": [
       "{1: 'Uddhav', 2: 'Krishna', 4: 'Swati1', 5: 'Raj'}"
      ]
     },
     "execution_count": 98,
     "metadata": {},
     "output_type": "execute_result"
    }
   ],
   "source": [
    "a"
   ]
  },
  {
   "cell_type": "code",
   "execution_count": 101,
   "id": "2ab356ab",
   "metadata": {},
   "outputs": [],
   "source": [
    "# fromkeys()\n",
    "v=(1,2,3,4,5)\n",
    "dict1=dict.fromkeys(v,'python')"
   ]
  },
  {
   "cell_type": "code",
   "execution_count": 102,
   "id": "034c661e",
   "metadata": {},
   "outputs": [
    {
     "data": {
      "text/plain": [
       "{1: 'python', 2: 'python', 3: 'python', 4: 'python', 5: 'python'}"
      ]
     },
     "execution_count": 102,
     "metadata": {},
     "output_type": "execute_result"
    }
   ],
   "source": [
    "dict1"
   ]
  },
  {
   "cell_type": "code",
   "execution_count": 106,
   "id": "195a13ea",
   "metadata": {},
   "outputs": [],
   "source": [
    "# string \n",
    "v='Raj'   # int \n",
    "# immutable  #  -- \n",
    "b=v.replace('R','b')"
   ]
  },
  {
   "cell_type": "code",
   "execution_count": 107,
   "id": "eb096337",
   "metadata": {},
   "outputs": [
    {
     "data": {
      "text/plain": [
       "'baj'"
      ]
     },
     "execution_count": 107,
     "metadata": {},
     "output_type": "execute_result"
    }
   ],
   "source": [
    "b"
   ]
  },
  {
   "cell_type": "code",
   "execution_count": 108,
   "id": "fbefe323",
   "metadata": {},
   "outputs": [
    {
     "name": "stdout",
     "output_type": "stream",
     "text": [
      "11\n"
     ]
    }
   ],
   "source": [
    "a=input()"
   ]
  },
  {
   "cell_type": "code",
   "execution_count": 109,
   "id": "4fc95357",
   "metadata": {},
   "outputs": [
    {
     "data": {
      "text/plain": [
       "str"
      ]
     },
     "execution_count": 109,
     "metadata": {},
     "output_type": "execute_result"
    }
   ],
   "source": [
    "type(a)"
   ]
  },
  {
   "cell_type": "code",
   "execution_count": null,
   "id": "804c5d43",
   "metadata": {},
   "outputs": [],
   "source": [
    "# \"jhhsg hjhjada 'hhjs' \""
   ]
  },
  {
   "cell_type": "code",
   "execution_count": 113,
   "id": "7d2097a1",
   "metadata": {},
   "outputs": [
    {
     "data": {
      "text/plain": [
       "'RAJ'"
      ]
     },
     "execution_count": 113,
     "metadata": {},
     "output_type": "execute_result"
    }
   ],
   "source": [
    "v='raj'\n",
    "v.upper()"
   ]
  },
  {
   "cell_type": "code",
   "execution_count": 114,
   "id": "82bc0c9c",
   "metadata": {},
   "outputs": [
    {
     "data": {
      "text/plain": [
       "'raj'"
      ]
     },
     "execution_count": 114,
     "metadata": {},
     "output_type": "execute_result"
    }
   ],
   "source": [
    "v.lower()"
   ]
  },
  {
   "cell_type": "code",
   "execution_count": 115,
   "id": "5c724340",
   "metadata": {},
   "outputs": [
    {
     "data": {
      "text/plain": [
       "'Raj'"
      ]
     },
     "execution_count": 115,
     "metadata": {},
     "output_type": "execute_result"
    }
   ],
   "source": [
    "v.capitalize()"
   ]
  },
  {
   "cell_type": "code",
   "execution_count": 117,
   "id": "3df85911",
   "metadata": {},
   "outputs": [
    {
     "data": {
      "text/plain": [
       "1"
      ]
     },
     "execution_count": 117,
     "metadata": {},
     "output_type": "execute_result"
    }
   ],
   "source": [
    "v.count('r')"
   ]
  },
  {
   "cell_type": "code",
   "execution_count": 118,
   "id": "fbdd8705",
   "metadata": {},
   "outputs": [
    {
     "data": {
      "text/plain": [
       "0"
      ]
     },
     "execution_count": 118,
     "metadata": {},
     "output_type": "execute_result"
    }
   ],
   "source": [
    "v.index('r')"
   ]
  },
  {
   "cell_type": "code",
   "execution_count": 119,
   "id": "9d3ec349",
   "metadata": {},
   "outputs": [
    {
     "data": {
      "text/plain": [
       "3"
      ]
     },
     "execution_count": 119,
     "metadata": {},
     "output_type": "execute_result"
    }
   ],
   "source": [
    "len(v)"
   ]
  },
  {
   "cell_type": "code",
   "execution_count": 123,
   "id": "58c0aae3",
   "metadata": {},
   "outputs": [
    {
     "data": {
      "text/plain": [
       "True"
      ]
     },
     "execution_count": 123,
     "metadata": {},
     "output_type": "execute_result"
    }
   ],
   "source": [
    "v.endswith('j')"
   ]
  },
  {
   "cell_type": "code",
   "execution_count": 124,
   "id": "a3f8aba8",
   "metadata": {},
   "outputs": [
    {
     "data": {
      "text/plain": [
       "['r', 'j']"
      ]
     },
     "execution_count": 124,
     "metadata": {},
     "output_type": "execute_result"
    }
   ],
   "source": [
    "v.split('a')"
   ]
  },
  {
   "cell_type": "code",
   "execution_count": 125,
   "id": "edd2a0a7",
   "metadata": {},
   "outputs": [],
   "source": [
    "v='raj uddhav swati Aaliya Krishna'"
   ]
  },
  {
   "cell_type": "code",
   "execution_count": 126,
   "id": "20709d40",
   "metadata": {},
   "outputs": [
    {
     "data": {
      "text/plain": [
       "['raj', 'uddhav', 'swati', 'Aaliya', 'Krishna']"
      ]
     },
     "execution_count": 126,
     "metadata": {},
     "output_type": "execute_result"
    }
   ],
   "source": [
    "v.split()"
   ]
  },
  {
   "cell_type": "code",
   "execution_count": 129,
   "id": "54287ea0",
   "metadata": {},
   "outputs": [
    {
     "data": {
      "text/plain": [
       "'    Raj'"
      ]
     },
     "execution_count": 129,
     "metadata": {},
     "output_type": "execute_result"
    }
   ],
   "source": [
    "c='    Raj    '\n",
    "c.rstrip()"
   ]
  },
  {
   "cell_type": "code",
   "execution_count": 130,
   "id": "6ef87d5d",
   "metadata": {},
   "outputs": [
    {
     "data": {
      "text/plain": [
       "2"
      ]
     },
     "execution_count": 130,
     "metadata": {},
     "output_type": "execute_result"
    }
   ],
   "source": [
    "# find vs index()\n",
    "v='Raj'\n",
    "v.index('j')"
   ]
  },
  {
   "cell_type": "code",
   "execution_count": 131,
   "id": "8563c03f",
   "metadata": {},
   "outputs": [
    {
     "data": {
      "text/plain": [
       "2"
      ]
     },
     "execution_count": 131,
     "metadata": {},
     "output_type": "execute_result"
    }
   ],
   "source": [
    "v.find('j')"
   ]
  },
  {
   "cell_type": "code",
   "execution_count": 132,
   "id": "f1160f26",
   "metadata": {},
   "outputs": [
    {
     "ename": "ValueError",
     "evalue": "substring not found",
     "output_type": "error",
     "traceback": [
      "\u001b[1;31m---------------------------------------------------------------------------\u001b[0m",
      "\u001b[1;31mValueError\u001b[0m                                Traceback (most recent call last)",
      "Cell \u001b[1;32mIn [132], line 1\u001b[0m\n\u001b[1;32m----> 1\u001b[0m \u001b[43mv\u001b[49m\u001b[38;5;241;43m.\u001b[39;49m\u001b[43mindex\u001b[49m\u001b[43m(\u001b[49m\u001b[38;5;124;43m'\u001b[39;49m\u001b[38;5;124;43mb\u001b[39;49m\u001b[38;5;124;43m'\u001b[39;49m\u001b[43m)\u001b[49m\n",
      "\u001b[1;31mValueError\u001b[0m: substring not found"
     ]
    }
   ],
   "source": [
    "v.index('b')"
   ]
  },
  {
   "cell_type": "code",
   "execution_count": 133,
   "id": "53be1241",
   "metadata": {},
   "outputs": [
    {
     "data": {
      "text/plain": [
       "-1"
      ]
     },
     "execution_count": 133,
     "metadata": {},
     "output_type": "execute_result"
    }
   ],
   "source": [
    "v.find('b')"
   ]
  },
  {
   "cell_type": "code",
   "execution_count": 135,
   "id": "d76aab21",
   "metadata": {},
   "outputs": [
    {
     "name": "stdout",
     "output_type": "stream",
     "text": [
      " 20 is divided by 2\n"
     ]
    }
   ],
   "source": [
    "print(f\" {20} is divided by {2}\")"
   ]
  },
  {
   "cell_type": "code",
   "execution_count": 136,
   "id": "d5d156af",
   "metadata": {},
   "outputs": [
    {
     "name": "stdout",
     "output_type": "stream",
     "text": [
      " 20 is divided by 2\n"
     ]
    }
   ],
   "source": [
    "print(\" {} is divided by {}\".format(20,2))"
   ]
  },
  {
   "cell_type": "code",
   "execution_count": 140,
   "id": "e24e8187",
   "metadata": {},
   "outputs": [
    {
     "data": {
      "text/plain": [
       "True"
      ]
     },
     "execution_count": 140,
     "metadata": {},
     "output_type": "execute_result"
    }
   ],
   "source": [
    "a='213456678789'\n",
    "a.isnumeric()"
   ]
  },
  {
   "cell_type": "code",
   "execution_count": 142,
   "id": "6cf82c99",
   "metadata": {},
   "outputs": [
    {
     "data": {
      "text/plain": [
       "True"
      ]
     },
     "execution_count": 142,
     "metadata": {},
     "output_type": "execute_result"
    }
   ],
   "source": [
    "a='raj'\n",
    "a.isalpha()"
   ]
  },
  {
   "cell_type": "code",
   "execution_count": 143,
   "id": "5ffc0dc9",
   "metadata": {},
   "outputs": [
    {
     "data": {
      "text/plain": [
       "True"
      ]
     },
     "execution_count": 143,
     "metadata": {},
     "output_type": "execute_result"
    }
   ],
   "source": [
    "a='raj213456678789'\n",
    "a.isalnum()     # alpha , num , both "
   ]
  },
  {
   "cell_type": "code",
   "execution_count": 13,
   "id": "625fe028",
   "metadata": {},
   "outputs": [
    {
     "name": "stdout",
     "output_type": "stream",
     "text": [
      "<<?><>\n",
      "<>\n",
      "\n"
     ]
    }
   ],
   "source": [
    "a=input()\n",
    "\n",
    "b=a.replace('?','>')\n",
    "\n",
    "c=0\n",
    "for j in range((len(b)//2)):\n",
    "    if '<>'in b :\n",
    "        b=b.replace('<>','')\n",
    "        print(b)\n",
    "        c+=2\n",
    "\n",
    "\n",
    "   \n",
    "        \n",
    "        \n",
    "    \n",
    "    \n",
    "    "
   ]
  },
  {
   "cell_type": "code",
   "execution_count": 13,
   "id": "a694377e",
   "metadata": {},
   "outputs": [
    {
     "name": "stdout",
     "output_type": "stream",
     "text": [
      "<??>\n",
      "2\n"
     ]
    }
   ],
   "source": [
    "a=input()\n",
    "c=0\n",
    "e=0\n",
    "for i,j in enumerate(a):\n",
    "    if j=='?':\n",
    "        if i!=len(a)-1 or i!=0:\n",
    "            b=a.replace(a[i],a[i-1])\n",
    "            for j in range((len(b)//2)):\n",
    "                if '<>'in b :\n",
    "                    b=b.replace('<>','')\n",
    "                    c+=2\n",
    "        \n",
    "            d=a.replace(a[i],a[i+1])\n",
    "            for j in range((len(d)//2)):\n",
    "                if '<>'in d :\n",
    "                    d=d.replace('<>','')\n",
    "                    e+=2\n",
    "                    \n",
    "#     for p in q:\n",
    "#         if j=='?' and i==len(a)-1 or i==0:\n",
    "#             m=a.replace(a[i],p)\n",
    "            \n",
    "        \n",
    "        \n",
    "        \n",
    "            \n",
    "            \n",
    "            \n",
    "if c>e:\n",
    "    print(c)\n",
    "else:\n",
    "    print(e)\n",
    "\n",
    "# c=0\n",
    "# for j in range((len(b)//2)):\n",
    "#     if '<>'in b :\n",
    "#         b=b.replace('<>','')\n",
    "#         c+=2\n",
    "\n",
    "# d=a.replace('?','<')\n",
    "# f=0\n",
    "# for j in range((len(d)//2)):\n",
    "#     if '<>'in d :\n",
    "#         d=d.replace('<>','')\n",
    "#         f+=2\n",
    "        \n",
    "# if c>f:\n",
    "#     print(c)\n",
    "# else:\n",
    "#     print(f)"
   ]
  },
  {
   "cell_type": "code",
   "execution_count": 20,
   "id": "8ac3a7f1",
   "metadata": {},
   "outputs": [
    {
     "name": "stdout",
     "output_type": "stream",
     "text": [
      "Moh\n",
      "Mho\n",
      "oMh\n",
      "ohM\n",
      "hMo\n",
      "hoM\n"
     ]
    }
   ],
   "source": [
    "# A Python program to print all\n",
    "# permutations using library function\n",
    "from itertools import permutations\n",
    "\n",
    "\n",
    "# Get all permutations of [1, 2, 3]\n",
    "perm = permutations(['M', 'o', 'h'])     \n",
    "# Print the obtained permutations\n",
    "\n",
    "for i in list(perm):\n",
    "    print(''.join(list(i)))"
   ]
  },
  {
   "cell_type": "code",
   "execution_count": 19,
   "id": "9b348dfa",
   "metadata": {},
   "outputs": [
    {
     "name": "stdout",
     "output_type": "stream",
     "text": [
      "aaaaaaaa\n"
     ]
    }
   ],
   "source": [
    "# a='MohanRaj'\n",
    "\n",
    "# for i in a:\n",
    "    \n",
    "#     b=a.replace(i,'a')\n",
    "#     a=b\n",
    "    \n",
    "    \n",
    "# print(b)"
   ]
  },
  {
   "cell_type": "code",
   "execution_count": 6,
   "id": "9b1372f8",
   "metadata": {},
   "outputs": [
    {
     "ename": "IndexError",
     "evalue": "string index out of range",
     "output_type": "error",
     "traceback": [
      "\u001b[1;31m---------------------------------------------------------------------------\u001b[0m",
      "\u001b[1;31mIndexError\u001b[0m                                Traceback (most recent call last)",
      "Cell \u001b[1;32mIn [6], line 35\u001b[0m\n\u001b[0;32m     32\u001b[0m     \u001b[38;5;28;01mfor\u001b[39;00m k,h \u001b[38;5;129;01min\u001b[39;00m \u001b[38;5;28menumerate\u001b[39m(d):\n\u001b[0;32m     33\u001b[0m         \u001b[38;5;28;01mif\u001b[39;00m h\u001b[38;5;241m==\u001b[39m\u001b[38;5;124m'\u001b[39m\u001b[38;5;124m?\u001b[39m\u001b[38;5;124m'\u001b[39m:\n\u001b[0;32m     34\u001b[0m \u001b[38;5;66;03m#             pdb.set_trace() \u001b[39;00m\n\u001b[1;32m---> 35\u001b[0m             d\u001b[38;5;241m=\u001b[39md\u001b[38;5;241m.\u001b[39mreplace(\u001b[43md\u001b[49m\u001b[43m[\u001b[49m\u001b[43mk\u001b[49m\u001b[43m]\u001b[49m,v[b])\n\u001b[0;32m     37\u001b[0m             b\u001b[38;5;241m+\u001b[39m\u001b[38;5;241m=\u001b[39m\u001b[38;5;241m1\u001b[39m\n\u001b[0;32m     38\u001b[0m             \u001b[38;5;28;01mif\u001b[39;00m \u001b[38;5;124m'\u001b[39m\u001b[38;5;124m<>\u001b[39m\u001b[38;5;124m'\u001b[39m \u001b[38;5;129;01min\u001b[39;00m d :\n",
      "\u001b[1;31mIndexError\u001b[0m: string index out of range"
     ]
    }
   ],
   "source": [
    "import pdb\n",
    "d='??<??'\n",
    "a='????'\n",
    "n='??<??'\n",
    "\n",
    "c=''\n",
    "# d=''\n",
    "# e=0\n",
    "if len(a)%2==0:\n",
    "    b=len(a)/2\n",
    "    \n",
    "    c+='<'*int(len(a)/2)\n",
    "    c+='>'*int(len(a)/2)\n",
    "    \n",
    "# else:\n",
    "#     d+='<'*int(len(a)//2)\n",
    "#     d+='>'*(int(len(a)//2)+1)\n",
    "# if len(a)%2!=0:\n",
    "#     c+='<'*(int(len(a)//2)+1)\n",
    "#     c+='>'*int(len(a)//2)\n",
    "    \n",
    "    \n",
    "l=[]    \n",
    "  \n",
    "from itertools import permutations\n",
    "perm = permutations(list(c))\n",
    "for i in list(perm): \n",
    "    p=''.join(list(i))\n",
    "    v=list(p)\n",
    "    g=0  \n",
    "    b=0\n",
    "    for k,h in enumerate(d):\n",
    "        if h=='?':\n",
    "#             pdb.set_trace() \n",
    "            d=d.replace(d[k],v[b])\n",
    "           \n",
    "            b+=1\n",
    "            if '<>' in d :\n",
    "                d=d.replace('<>','')\n",
    "                g+=2\n",
    "    l.append(g)\n",
    "    g=0\n",
    "    d=n\n",
    "    b=0\n",
    "    \n",
    "            \n",
    "            \n",
    "            \n",
    "\n",
    "\n",
    "\n",
    "l    "
   ]
  },
  {
   "cell_type": "code",
   "execution_count": 1,
   "id": "3753dc09",
   "metadata": {},
   "outputs": [],
   "source": [
    "a=[['A', 'Laptop'], ['A', 'Laptop'], ['A', 'Mouse'], ['B', 'Laptop'], ['A','Headset'], ['B','Headset'] ]\n",
    "import pandas as pd"
   ]
  },
  {
   "cell_type": "code",
   "execution_count": 6,
   "id": "be5dd464",
   "metadata": {},
   "outputs": [],
   "source": [
    "p=pd.DataFrame(a,columns=['first','second'])"
   ]
  },
  {
   "cell_type": "code",
   "execution_count": 7,
   "id": "6ff610e4",
   "metadata": {},
   "outputs": [
    {
     "data": {
      "text/html": [
       "<div>\n",
       "<style scoped>\n",
       "    .dataframe tbody tr th:only-of-type {\n",
       "        vertical-align: middle;\n",
       "    }\n",
       "\n",
       "    .dataframe tbody tr th {\n",
       "        vertical-align: top;\n",
       "    }\n",
       "\n",
       "    .dataframe thead th {\n",
       "        text-align: right;\n",
       "    }\n",
       "</style>\n",
       "<table border=\"1\" class=\"dataframe\">\n",
       "  <thead>\n",
       "    <tr style=\"text-align: right;\">\n",
       "      <th></th>\n",
       "      <th>first</th>\n",
       "      <th>second</th>\n",
       "    </tr>\n",
       "  </thead>\n",
       "  <tbody>\n",
       "    <tr>\n",
       "      <th>0</th>\n",
       "      <td>A</td>\n",
       "      <td>Laptop</td>\n",
       "    </tr>\n",
       "    <tr>\n",
       "      <th>1</th>\n",
       "      <td>A</td>\n",
       "      <td>Laptop</td>\n",
       "    </tr>\n",
       "    <tr>\n",
       "      <th>2</th>\n",
       "      <td>A</td>\n",
       "      <td>Mouse</td>\n",
       "    </tr>\n",
       "    <tr>\n",
       "      <th>3</th>\n",
       "      <td>B</td>\n",
       "      <td>Laptop</td>\n",
       "    </tr>\n",
       "    <tr>\n",
       "      <th>4</th>\n",
       "      <td>A</td>\n",
       "      <td>Headset</td>\n",
       "    </tr>\n",
       "    <tr>\n",
       "      <th>5</th>\n",
       "      <td>B</td>\n",
       "      <td>Headset</td>\n",
       "    </tr>\n",
       "  </tbody>\n",
       "</table>\n",
       "</div>"
      ],
      "text/plain": [
       "  first   second\n",
       "0     A   Laptop\n",
       "1     A   Laptop\n",
       "2     A    Mouse\n",
       "3     B   Laptop\n",
       "4     A  Headset\n",
       "5     B  Headset"
      ]
     },
     "execution_count": 7,
     "metadata": {},
     "output_type": "execute_result"
    }
   ],
   "source": [
    "p"
   ]
  },
  {
   "cell_type": "code",
   "execution_count": 8,
   "id": "2b309d69",
   "metadata": {},
   "outputs": [
    {
     "data": {
      "text/plain": [
       "first  second \n",
       "A      Laptop     2\n",
       "       Headset    1\n",
       "       Mouse      1\n",
       "B      Headset    1\n",
       "       Laptop     1\n",
       "dtype: int64"
      ]
     },
     "execution_count": 8,
     "metadata": {},
     "output_type": "execute_result"
    }
   ],
   "source": [
    "p.value_counts()"
   ]
  },
  {
   "cell_type": "code",
   "execution_count": 40,
   "id": "d629a120",
   "metadata": {},
   "outputs": [
    {
     "data": {
      "text/html": [
       "<div>\n",
       "<style scoped>\n",
       "    .dataframe tbody tr th:only-of-type {\n",
       "        vertical-align: middle;\n",
       "    }\n",
       "\n",
       "    .dataframe tbody tr th {\n",
       "        vertical-align: top;\n",
       "    }\n",
       "\n",
       "    .dataframe thead th {\n",
       "        text-align: right;\n",
       "    }\n",
       "</style>\n",
       "<table border=\"1\" class=\"dataframe\">\n",
       "  <thead>\n",
       "    <tr style=\"text-align: right;\">\n",
       "      <th></th>\n",
       "      <th>first</th>\n",
       "    </tr>\n",
       "    <tr>\n",
       "      <th>second</th>\n",
       "      <th></th>\n",
       "    </tr>\n",
       "  </thead>\n",
       "  <tbody>\n",
       "    <tr>\n",
       "      <th>Headset</th>\n",
       "      <td>B</td>\n",
       "    </tr>\n",
       "    <tr>\n",
       "      <th>Laptop</th>\n",
       "      <td>B</td>\n",
       "    </tr>\n",
       "    <tr>\n",
       "      <th>Mouse</th>\n",
       "      <td>A</td>\n",
       "    </tr>\n",
       "  </tbody>\n",
       "</table>\n",
       "</div>"
      ],
      "text/plain": [
       "        first\n",
       "second       \n",
       "Headset     B\n",
       "Laptop      B\n",
       "Mouse       A"
      ]
     },
     "execution_count": 40,
     "metadata": {},
     "output_type": "execute_result"
    }
   ],
   "source": [
    "p.groupby('second').max()"
   ]
  },
  {
   "cell_type": "code",
   "execution_count": 30,
   "id": "fb52b4e2",
   "metadata": {},
   "outputs": [
    {
     "data": {
      "text/html": [
       "<div>\n",
       "<style scoped>\n",
       "    .dataframe tbody tr th:only-of-type {\n",
       "        vertical-align: middle;\n",
       "    }\n",
       "\n",
       "    .dataframe tbody tr th {\n",
       "        vertical-align: top;\n",
       "    }\n",
       "\n",
       "    .dataframe thead th {\n",
       "        text-align: right;\n",
       "    }\n",
       "</style>\n",
       "<table border=\"1\" class=\"dataframe\">\n",
       "  <thead>\n",
       "    <tr style=\"text-align: right;\">\n",
       "      <th></th>\n",
       "      <th>second</th>\n",
       "    </tr>\n",
       "    <tr>\n",
       "      <th>first</th>\n",
       "      <th></th>\n",
       "    </tr>\n",
       "  </thead>\n",
       "  <tbody>\n",
       "    <tr>\n",
       "      <th>A</th>\n",
       "      <td>4</td>\n",
       "    </tr>\n",
       "    <tr>\n",
       "      <th>B</th>\n",
       "      <td>2</td>\n",
       "    </tr>\n",
       "  </tbody>\n",
       "</table>\n",
       "</div>"
      ],
      "text/plain": [
       "       second\n",
       "first        \n",
       "A           4\n",
       "B           2"
      ]
     },
     "execution_count": 30,
     "metadata": {},
     "output_type": "execute_result"
    }
   ],
   "source": [
    "p.groupby('first').count()"
   ]
  },
  {
   "cell_type": "code",
   "execution_count": 27,
   "id": "df8ae8f4",
   "metadata": {},
   "outputs": [
    {
     "data": {
      "text/plain": [
       "2"
      ]
     },
     "execution_count": 27,
     "metadata": {},
     "output_type": "execute_result"
    }
   ],
   "source": [
    "p.value_counts().max()"
   ]
  },
  {
   "cell_type": "code",
   "execution_count": 26,
   "id": "5b275a5c",
   "metadata": {},
   "outputs": [
    {
     "data": {
      "text/plain": [
       "first\n",
       "A    4\n",
       "B    2\n",
       "dtype: int64"
      ]
     },
     "execution_count": 26,
     "metadata": {},
     "output_type": "execute_result"
    }
   ],
   "source": [
    "p.groupby('first').size()"
   ]
  },
  {
   "cell_type": "code",
   "execution_count": 12,
   "id": "928115a4",
   "metadata": {},
   "outputs": [
    {
     "name": "stdout",
     "output_type": "stream",
     "text": [
      "14,20,4,12,5,11\n"
     ]
    },
    {
     "data": {
      "text/plain": [
       "8"
      ]
     },
     "execution_count": 12,
     "metadata": {},
     "output_type": "execute_result"
    }
   ],
   "source": [
    "arr=list(map(int,input().split(',')))\n",
    "b=[]\n",
    "def stockPicker(arr):\n",
    "    for i in arr:\n",
    "        for j in range(arr.index(i),len(arr)):\n",
    "            b.append(arr[j]-i)\n",
    "stockPicker(arr)\n",
    "max(b)      "
   ]
  },
  {
   "cell_type": "code",
   "execution_count": 15,
   "id": "7ced0cf8",
   "metadata": {},
   "outputs": [],
   "source": [
    "# include <stdio.h>\n",
    "\n",
    "void main()\n",
    "{\n",
    "    int h = 8;\n",
    "    int b = h++ + h++ + h++;\n",
    "    print(\"%d\\n\",h);\n",
    "}"
   ]
  },
  {
   "cell_type": "code",
   "execution_count": 39,
   "id": "de645377",
   "metadata": {},
   "outputs": [
    {
     "name": "stdout",
     "output_type": "stream",
     "text": [
      "is\n",
      "is\n",
      "my\n",
      "pqrs\n",
      "mabcdy\n"
     ]
    }
   ],
   "source": [
    "def pp(n):\n",
    "    p=[]\n",
    "    c=[]\n",
    "    \n",
    "    for i in n.split():\n",
    "        if len(i)%2==0:\n",
    "            p.append([len(i),i])\n",
    "            c.append(len(i))\n",
    "    g=list(set(c))\n",
    "    g.sort()\n",
    "    \n",
    "    for j in g:\n",
    "        for v in p:\n",
    "            if j==v[0]:\n",
    "                print(v[1])     \n",
    "pp('india is  is mabcdy my country abc pqrs rrb rpgdt')\n",
    "        "
   ]
  },
  {
   "cell_type": "code",
   "execution_count": 1,
   "id": "446e6e7f",
   "metadata": {},
   "outputs": [
    {
     "name": "stdout",
     "output_type": "stream",
     "text": [
      "1\n",
      "2\n",
      "3\n",
      "4\n",
      "5\n",
      "6\n",
      "7\n",
      "8\n",
      "9\n",
      "10\n",
      "11\n",
      "12\n",
      "13\n",
      "14\n",
      "15\n",
      "16\n",
      "17\n",
      "18\n",
      "19\n",
      "20\n",
      "21\n",
      "22\n",
      "23\n",
      "24\n",
      "25\n",
      "26\n",
      "27\n",
      "28\n",
      "29\n",
      "30\n",
      "31\n",
      "32\n",
      "33\n",
      "34\n",
      "35\n",
      "36\n",
      "37\n",
      "38\n",
      "39\n",
      "40\n",
      "41\n",
      "42\n",
      "43\n",
      "44\n",
      "45\n",
      "46\n",
      "47\n",
      "48\n",
      "49\n",
      "50\n",
      "51\n",
      "52\n",
      "53\n",
      "54\n",
      "55\n",
      "56\n",
      "57\n",
      "58\n",
      "59\n",
      "60\n",
      "61\n",
      "62\n",
      "63\n",
      "64\n",
      "65\n",
      "66\n",
      "67\n",
      "68\n",
      "69\n",
      "70\n",
      "71\n",
      "72\n",
      "73\n",
      "74\n",
      "75\n",
      "76\n",
      "77\n",
      "78\n",
      "79\n",
      "80\n",
      "81\n",
      "82\n",
      "83\n",
      "84\n",
      "85\n",
      "86\n",
      "87\n",
      "88\n",
      "89\n",
      "90\n",
      "91\n",
      "92\n",
      "93\n",
      "94\n",
      "95\n",
      "96\n",
      "97\n",
      "98\n",
      "99\n",
      "100\n"
     ]
    }
   ],
   "source": [
    "def abc(n):\n",
    "    if n<101:\n",
    "        print(n)\n",
    "        n+=1\n",
    "        return abc(n)\n",
    "abc(1)"
   ]
  },
  {
   "cell_type": "code",
   "execution_count": 51,
   "id": "a1152bcc",
   "metadata": {},
   "outputs": [
    {
     "name": "stdout",
     "output_type": "stream",
     "text": [
      "1\n",
      "2\n",
      "3\n",
      "4\n",
      "5\n",
      "6\n",
      "7\n",
      "8\n",
      "9\n",
      "10\n",
      "11\n",
      "12\n",
      "13\n",
      "14\n",
      "15\n",
      "16\n",
      "17\n",
      "18\n",
      "19\n",
      "20\n",
      "21\n",
      "22\n",
      "23\n",
      "24\n",
      "25\n",
      "26\n",
      "27\n",
      "28\n",
      "29\n",
      "30\n",
      "31\n",
      "32\n",
      "33\n",
      "34\n",
      "35\n",
      "36\n",
      "37\n",
      "38\n",
      "39\n",
      "40\n",
      "41\n",
      "42\n",
      "43\n",
      "44\n",
      "45\n",
      "46\n",
      "47\n",
      "48\n",
      "49\n",
      "50\n",
      "51\n",
      "52\n",
      "53\n",
      "54\n",
      "55\n",
      "56\n",
      "57\n",
      "58\n",
      "59\n",
      "60\n",
      "61\n",
      "62\n",
      "63\n",
      "64\n",
      "65\n",
      "66\n",
      "67\n",
      "68\n",
      "69\n",
      "70\n",
      "71\n",
      "72\n",
      "73\n",
      "74\n",
      "75\n",
      "76\n",
      "77\n",
      "78\n",
      "79\n",
      "80\n",
      "81\n",
      "82\n",
      "83\n",
      "84\n",
      "85\n",
      "86\n",
      "87\n",
      "88\n",
      "89\n",
      "90\n",
      "91\n",
      "92\n",
      "93\n",
      "94\n",
      "95\n",
      "96\n",
      "97\n",
      "98\n",
      "99\n",
      "100\n"
     ]
    }
   ],
   "source": [
    "def abc(n):\n",
    "    if n<100:\n",
    "        n+=1\n",
    "        print(n)\n",
    "        return abc(n)\n",
    "abc(0)"
   ]
  },
  {
   "cell_type": "code",
   "execution_count": 49,
   "id": "d1292771",
   "metadata": {},
   "outputs": [],
   "source": [
    "##################################"
   ]
  },
  {
   "cell_type": "code",
   "execution_count": 1,
   "id": "c554b46a",
   "metadata": {},
   "outputs": [
    {
     "name": "stdout",
     "output_type": "stream",
     "text": [
      "Requirement already satisfied: schedule in c:\\users\\admin\\miniconda3\\lib\\site-packages (1.2.0)\n",
      "Note: you may need to restart the kernel to use updated packages.\n"
     ]
    },
    {
     "name": "stderr",
     "output_type": "stream",
     "text": [
      "\n",
      "[notice] A new release of pip is available: 23.1.2 -> 23.2.1\n",
      "[notice] To update, run: python.exe -m pip install --upgrade pip\n"
     ]
    }
   ],
   "source": [
    "pip install schedule"
   ]
  },
  {
   "cell_type": "code",
   "execution_count": 3,
   "id": "5e3025ed",
   "metadata": {},
   "outputs": [
    {
     "ename": "KeyboardInterrupt",
     "evalue": "",
     "output_type": "error",
     "traceback": [
      "\u001b[1;31m---------------------------------------------------------------------------\u001b[0m",
      "\u001b[1;31mKeyboardInterrupt\u001b[0m                         Traceback (most recent call last)",
      "Cell \u001b[1;32mIn [3], line 39\u001b[0m\n\u001b[0;32m     37\u001b[0m \u001b[38;5;28;01mwhile\u001b[39;00m \u001b[38;5;28;01mTrue\u001b[39;00m:\n\u001b[0;32m     38\u001b[0m     schedule\u001b[38;5;241m.\u001b[39mrun_pending()\n\u001b[1;32m---> 39\u001b[0m     \u001b[43mtime\u001b[49m\u001b[38;5;241;43m.\u001b[39;49m\u001b[43msleep\u001b[49m\u001b[43m(\u001b[49m\u001b[38;5;241;43m1\u001b[39;49m\u001b[43m)\u001b[49m\n",
      "\u001b[1;31mKeyboardInterrupt\u001b[0m: "
     ]
    }
   ],
   "source": [
    "import smtplib\n",
    "import schedule\n",
    "import time\n",
    "\n",
    "def send_email():\n",
    "    # Replace these variables with your email settings\n",
    "    sender_email = 'draj71149@gmail.com'\n",
    "    sender_password = 'Pass@1122'\n",
    "    receiver_email = 'mohandevde93@gmail.com'\n",
    "    subject = 'Daily Greeting'\n",
    "    body = 'Hello! This is your daily email.'\n",
    "\n",
    "    message = f\"Subject: {subject}\\n\\n{body}\"\n",
    "\n",
    "    try:\n",
    "        # Connect to the SMTP server\n",
    "        smtp_server = 'smtp.example.com'  # Replace with your SMTP server address\n",
    "        smtp_port = 587  # Replace with the SMTP server port (e.g., 587 for TLS)\n",
    "        server = smtplib.SMTP(smtp_server, smtp_port)\n",
    "        server.starttls()  # Use TLS encryption\n",
    "\n",
    "        # Login to the email account\n",
    "        server.login(sender_email, sender_password)\n",
    "\n",
    "        # Send the email\n",
    "        server.sendmail(sender_email, receiver_email, message)\n",
    "        print(\"Email sent successfully!\")\n",
    "\n",
    "        # Quit the server\n",
    "        server.quit()\n",
    "    except Exception as e:\n",
    "        print(f\"An error occurred while sending the email: {e}\")\n",
    "\n",
    "# Schedule the email to be sent every day at a specific time (e.g., 08:00 AM)\n",
    "schedule.every().day.at(\"11:18\").do(send_email)\n",
    "\n",
    "while True:\n",
    "    schedule.run_pending()\n",
    "    time.sleep(1)\n"
   ]
  },
  {
   "cell_type": "code",
   "execution_count": 4,
   "id": "ccd39f2a",
   "metadata": {},
   "outputs": [
    {
     "name": "stdout",
     "output_type": "stream",
     "text": [
      "Collecting gTTS\n",
      "  Downloading gTTS-2.3.2-py3-none-any.whl (28 kB)\n",
      "Requirement already satisfied: requests<3,>=2.27 in c:\\users\\admin\\miniconda3\\lib\\site-packages (from gTTS) (2.27.1)\n",
      "Requirement already satisfied: click<8.2,>=7.1 in c:\\users\\admin\\miniconda3\\lib\\site-packages (from gTTS) (8.1.3)\n",
      "Requirement already satisfied: colorama in c:\\users\\admin\\miniconda3\\lib\\site-packages (from click<8.2,>=7.1->gTTS) (0.4.4)\n",
      "Requirement already satisfied: urllib3<1.27,>=1.21.1 in c:\\users\\admin\\miniconda3\\lib\\site-packages (from requests<3,>=2.27->gTTS) (1.26.8)\n",
      "Requirement already satisfied: certifi>=2017.4.17 in c:\\users\\admin\\miniconda3\\lib\\site-packages (from requests<3,>=2.27->gTTS) (2022.9.24)\n",
      "Requirement already satisfied: charset-normalizer~=2.0.0 in c:\\users\\admin\\miniconda3\\lib\\site-packages (from requests<3,>=2.27->gTTS) (2.0.4)\n",
      "Requirement already satisfied: idna<4,>=2.5 in c:\\users\\admin\\miniconda3\\lib\\site-packages (from requests<3,>=2.27->gTTS) (3.3)\n",
      "Installing collected packages: gTTS\n",
      "Successfully installed gTTS-2.3.2\n",
      "Note: you may need to restart the kernel to use updated packages.\n"
     ]
    },
    {
     "name": "stderr",
     "output_type": "stream",
     "text": [
      "\n",
      "[notice] A new release of pip is available: 23.1.2 -> 23.2.1\n",
      "[notice] To update, run: python.exe -m pip install --upgrade pip\n"
     ]
    }
   ],
   "source": [
    "pip install gTTS"
   ]
  },
  {
   "cell_type": "code",
   "execution_count": 7,
   "id": "19e9e5c5",
   "metadata": {},
   "outputs": [
    {
     "name": "stdout",
     "output_type": "stream",
     "text": [
      "Audio file saved as output_audio1.mp3\n"
     ]
    }
   ],
   "source": [
    "from gtts import gTTS\n",
    "import os\n",
    "\n",
    "def text_to_audio(text, output_file):\n",
    "    tts = gTTS(text=text, lang='en')  # Language code (here, 'en' for English)\n",
    "    tts.save(output_file)\n",
    "    print(f\"Audio file saved as {output_file}\")\n",
    "\n",
    "# Example usage\n",
    "text_to_convert = \"Hello, this is  hghgha hghjgh hjj hbjhghdb  bhbghd hbghbggbd vbgyggd   gftfgv   tyg text-to-speech example.\"\n",
    "output_audio_file1 = \"output_audio1.mp3\"\n",
    "text_to_audio(text_to_convert, output_audio_file1)\n"
   ]
  },
  {
   "cell_type": "code",
   "execution_count": 2,
   "id": "34da3ab8",
   "metadata": {},
   "outputs": [
    {
     "ename": "ModuleNotFoundError",
     "evalue": "No module named 'tensorflow'",
     "output_type": "error",
     "traceback": [
      "\u001b[1;31m---------------------------------------------------------------------------\u001b[0m",
      "\u001b[1;31mModuleNotFoundError\u001b[0m                       Traceback (most recent call last)",
      "Cell \u001b[1;32mIn [2], line 1\u001b[0m\n\u001b[1;32m----> 1\u001b[0m \u001b[38;5;28;01mimport\u001b[39;00m \u001b[38;5;21;01mtensorflow\u001b[39;00m \u001b[38;5;28;01mas\u001b[39;00m \u001b[38;5;21;01mtf\u001b[39;00m\n\u001b[0;32m      2\u001b[0m \u001b[38;5;28;01mfrom\u001b[39;00m \u001b[38;5;21;01mtensorflow\u001b[39;00m\u001b[38;5;21;01m.\u001b[39;00m\u001b[38;5;21;01mkeras\u001b[39;00m\u001b[38;5;21;01m.\u001b[39;00m\u001b[38;5;21;01mlayers\u001b[39;00m \u001b[38;5;28;01mimport\u001b[39;00m Dense, Embedding, Reshape\n\u001b[0;32m      3\u001b[0m \u001b[38;5;28;01mfrom\u001b[39;00m \u001b[38;5;21;01mtensorflow\u001b[39;00m\u001b[38;5;21;01m.\u001b[39;00m\u001b[38;5;21;01mkeras\u001b[39;00m\u001b[38;5;21;01m.\u001b[39;00m\u001b[38;5;21;01mmodels\u001b[39;00m \u001b[38;5;28;01mimport\u001b[39;00m Sequential\n",
      "\u001b[1;31mModuleNotFoundError\u001b[0m: No module named 'tensorflow'"
     ]
    }
   ],
   "source": [
    "import tensorflow as tf\n",
    "from tensorflow.keras.layers import Dense, Embedding, Reshape\n",
    "from tensorflow.keras.models import Sequential\n",
    "\n",
    "# Define parameters\n",
    "vocab_size = 10000  # Vocabulary size of your text data\n",
    "embedding_dim = 128\n",
    "generator_input_dim = 100  # Size of random noise vector\n",
    "image_shape = (64, 64, 3)  # Image dimensions (e.g., 64x64 pixels with 3 channels)\n",
    "\n",
    "# Generator model\n",
    "generator = Sequential([\n",
    "    Dense(256, input_dim=generator_input_dim),\n",
    "    Reshape((1, 1, 256)),\n",
    "    # Upsample using transposed convolutions\n",
    "    tf.keras.layers.Conv2DTranspose(128, (5, 5), strides=(2, 2), padding='same', activation='relu'),\n",
    "    tf.keras.layers.Conv2DTranspose(64, (5, 5), strides=(2, 2), padding='same', activation='relu'),\n",
    "    tf.keras.layers.Conv2DTranspose(32, (5, 5), strides=(2, 2), padding='same', activation='relu'),\n",
    "    tf.keras.layers.Conv2DTranspose(3, (5, 5), strides=(2, 2), padding='same', activation='sigmoid')\n",
    "])\n",
    "\n",
    "# Compile the generator (no need for training in this example)\n",
    "generator.compile(loss='binary_crossentropy', optimizer='adam')\n",
    "\n",
    "# Sample text input (tokenized and padded)\n",
    "text_input = [1, 5, 23, 42, 67, 99, 0, 0, 0, 0]  # Replace with your text data\n",
    "\n",
    "# Generate a random noise vector\n",
    "random_noise = tf.random.normal((1, generator_input_dim))\n",
    "\n",
    "# Generate an image from text and random noise\n",
    "generated_image = generator(random_noise)\n",
    "\n",
    "# Convert image to a numpy array and visualize using Pillow\n",
    "import numpy as np\n",
    "from PIL import Image\n",
    "\n",
    "generated_image = generated_image.numpy()\n",
    "generated_image = np.squeeze(generated_image)  # Remove batch dimension\n",
    "generated_image = (generated_image * 255).astype(np.uint8)  # Convert to pixel values (0-255)\n",
    "pil_image = Image.fromarray(generated_image)\n",
    "\n",
    "# Display the generated image\n",
    "pil_image.show()\n"
   ]
  },
  {
   "cell_type": "code",
   "execution_count": 3,
   "id": "d89a4a04",
   "metadata": {},
   "outputs": [
    {
     "name": "stdout",
     "output_type": "stream",
     "text": [
      "[1, 1, 3, 4, 9]\n"
     ]
    }
   ],
   "source": [
    "a=[1,4,3,9,1]\n",
    "for i in range(len(a)):\n",
    "    for j in range(len(a) - 1):\n",
    "        if a[j] > a[j+1]:\n",
    "            a[j+1], a[j] = a[j], a[j+1]\n",
    "\n",
    "print(a)"
   ]
  },
  {
   "cell_type": "code",
   "execution_count": 7,
   "id": "cace7c4d",
   "metadata": {},
   "outputs": [
    {
     "data": {
      "text/plain": [
       "15"
      ]
     },
     "execution_count": 7,
     "metadata": {},
     "output_type": "execute_result"
    }
   ],
   "source": [
    "a=[10,4,8,9,15]\n",
    "max=a[0]\n",
    "for i in a:\n",
    "    if i>=max:\n",
    "        max=i\n",
    "    else:\n",
    "        max=max\n",
    "max    "
   ]
  },
  {
   "cell_type": "code",
   "execution_count": 11,
   "id": "e17188a0",
   "metadata": {},
   "outputs": [
    {
     "name": "stdout",
     "output_type": "stream",
     "text": [
      "<function <lambda> at 0x000002CB291DD430>\n"
     ]
    }
   ],
   "source": [
    "a=[10,4,8,9,15]\n",
    "max=a[0]\n",
    "for i in a:\n",
    "    max=lambda x: i if i>=max else max\n",
    "print(max)"
   ]
  },
  {
   "cell_type": "code",
   "execution_count": 14,
   "id": "c4253350",
   "metadata": {},
   "outputs": [
    {
     "name": "stdout",
     "output_type": "stream",
     "text": [
      "ana\n"
     ]
    }
   ],
   "source": [
    "a='abc'\n",
    "b='bac'\n",
    "c=0\n",
    "for i in a:\n",
    "    if len(a)==len(b):\n",
    "        if i in b:\n",
    "            c+=1\n",
    "\n",
    "if c==len(a):\n",
    "    print('ana')\n",
    "else:\n",
    "    print('no')\n"
   ]
  },
  {
   "cell_type": "code",
   "execution_count": 15,
   "id": "a8b2fda4",
   "metadata": {},
   "outputs": [
    {
     "data": {
      "text/plain": [
       "'hhh'"
      ]
     },
     "execution_count": 15,
     "metadata": {},
     "output_type": "execute_result"
    }
   ],
   "source": [
    "a={1:'hhh'}\n",
    "dict.pop(key)"
   ]
  },
  {
   "cell_type": "code",
   "execution_count": 16,
   "id": "0313065d",
   "metadata": {},
   "outputs": [
    {
     "data": {
      "text/plain": [
       "{}"
      ]
     },
     "execution_count": 16,
     "metadata": {},
     "output_type": "execute_result"
    }
   ],
   "source": [
    "a"
   ]
  },
  {
   "cell_type": "code",
   "execution_count": 17,
   "id": "b1304085",
   "metadata": {},
   "outputs": [
    {
     "ename": "SyntaxError",
     "evalue": "cannot delete function call (1236497822.py, line 2)",
     "output_type": "error",
     "traceback": [
      "\u001b[1;36m  Cell \u001b[1;32mIn [17], line 2\u001b[1;36m\u001b[0m\n\u001b[1;33m    del a(1)\u001b[0m\n\u001b[1;37m        ^\u001b[0m\n\u001b[1;31mSyntaxError\u001b[0m\u001b[1;31m:\u001b[0m cannot delete function call\n"
     ]
    }
   ],
   "source": [
    "a={1:'hhh'}\n",
    "del a(1)"
   ]
  },
  {
   "cell_type": "code",
   "execution_count": 5,
   "id": "28438330",
   "metadata": {},
   "outputs": [
    {
     "name": "stdout",
     "output_type": "stream",
     "text": [
      "siht si htgnerts \n"
     ]
    }
   ],
   "source": [
    "# this is strength --  input\n",
    "# siht si htgnerts ---output\n",
    "c='this is strength'\n",
    "d=''\n",
    "for i in c.split():  \n",
    "    for j in range(len(i)-1,-1,-1):       # range(start,stop,step)\n",
    "        d+=i[j]\n",
    "    d+=' '    \n",
    "print(d)              "
   ]
  },
  {
   "cell_type": "code",
   "execution_count": 21,
   "id": "95d44d33",
   "metadata": {},
   "outputs": [
    {
     "data": {
      "text/plain": [
       "'siht si htgnerts '"
      ]
     },
     "execution_count": 21,
     "metadata": {},
     "output_type": "execute_result"
    }
   ],
   "source": [
    "c='this is strength '\n",
    "l=''\n",
    "re=''\n",
    "d=''\n",
    "for i in c:\n",
    "    if i!=' ':\n",
    "        d+=i\n",
    "    else:\n",
    "        for j in range(len(d)-1,-1,-1):\n",
    "            re+=d[j]\n",
    "        l+=re\n",
    "        l+=' '\n",
    "        re=''\n",
    "        d=''\n",
    "        \n",
    "l"
   ]
  },
  {
   "cell_type": "code",
   "execution_count": 50,
   "id": "3fdc786c",
   "metadata": {},
   "outputs": [
    {
     "name": "stdout",
     "output_type": "stream",
     "text": [
      "siht si  htgnerts  \n"
     ]
    }
   ],
   "source": [
    "c='this is strength'\n",
    "l=[]\n",
    "p=0\n",
    "for i,j in enumerate(c):\n",
    "    if j==' ':\n",
    "        l.append(c[p:i])\n",
    "        p=i\n",
    "    if i==(len(c)-1):\n",
    "        l.append(c[p:i+1])\n",
    "        p=i\n",
    "        \n",
    "d=''\n",
    "for i in l:  \n",
    "    for j in range(len(i)-1,-1,-1):       # range(start,stop,step)\n",
    "        d+=i[j]\n",
    "    d+=' '    \n",
    "print(d)    "
   ]
  },
  {
   "cell_type": "code",
   "execution_count": 38,
   "id": "3049e570",
   "metadata": {},
   "outputs": [],
   "source": []
  },
  {
   "cell_type": "code",
   "execution_count": 5,
   "id": "116c9464",
   "metadata": {},
   "outputs": [
    {
     "data": {
      "text/plain": [
       "{'d': 5, 'b': 12, 'a': 23, 'c': 32}"
      ]
     },
     "execution_count": 5,
     "metadata": {},
     "output_type": "execute_result"
    }
   ],
   "source": [
    "d={'b':12,'a':23,'c':32,'d':5}\n",
    "v=list(d.values())\n",
    "v.sort()\n",
    "dict={}\n",
    "for p in v:  \n",
    "    for i,j in d.items():\n",
    "        if  p==j:\n",
    "            dict[i]=j\n",
    "            \n",
    "    \n",
    "dict   "
   ]
  },
  {
   "cell_type": "code",
   "execution_count": 7,
   "id": "97979747",
   "metadata": {},
   "outputs": [
    {
     "data": {
      "text/plain": [
       "{'d': 5, 'p': 5, 'b': 12, 'a': 23, 'c': 32}"
      ]
     },
     "execution_count": 7,
     "metadata": {},
     "output_type": "execute_result"
    }
   ],
   "source": [
    "d={'b':12,'a':23,'c':32,'d':5,'p':5}\n",
    "dict={}\n",
    "for p in sorted(d.values()):  \n",
    "    for i,j in d.items():\n",
    "        if  p==j:\n",
    "            dict[i]=j\n",
    "            \n",
    "    \n",
    "dict  "
   ]
  },
  {
   "cell_type": "code",
   "execution_count": 7,
   "id": "76cbbffa",
   "metadata": {},
   "outputs": [
    {
     "data": {
      "text/plain": [
       "{'name': ['ksn', 'raj', 'Uddhav', 'other'], 'sal': [5, 72, 99, 1]}"
      ]
     },
     "execution_count": 7,
     "metadata": {},
     "output_type": "execute_result"
    }
   ],
   "source": [
    "d={'name':['ksn','raj','raj','Uddhav','Uddhav','other','other'],'sal':[5,6,66,33,66,1,0]}\n",
    "\n",
    "f=[]\n",
    "for i,j in d.items():\n",
    "    p=[]\n",
    "    for k in j:\n",
    "        p.append(k)\n",
    "    f.append(p)\n",
    "dict={'name':[],'sal':[]}        \n",
    "for i in range(len(f[0])):\n",
    "    if f[0][i] not in dict['name']:\n",
    "        dict['name'].insert(len(dict['name']),f[0][i])\n",
    "        dict['sal'].insert(len(dict['name']),f[1][i])\n",
    "    else:\n",
    "        dict['sal'][dict['name'].index(f[0][i])]+=f[1][i] \n",
    "dict"
   ]
  },
  {
   "cell_type": "code",
   "execution_count": 9,
   "id": "f6e201b3",
   "metadata": {},
   "outputs": [
    {
     "data": {
      "text/plain": [
       "{'name': ['ksn', 'raj', 'Uddhav', 'other'], 'sal': [5, 72, 99, 1]}"
      ]
     },
     "execution_count": 9,
     "metadata": {},
     "output_type": "execute_result"
    }
   ],
   "source": [
    "d={'name':['ksn','raj','raj','Uddhav','Uddhav','other','other'],'sal':[5,6,66,33,66,1,0]}\n",
    "f=[i for i in d.values()]    \n",
    "dict={'name':[],'sal':[]}        \n",
    "for i in range(len(f[0])):\n",
    "    if f[0][i] not in dict['name']:\n",
    "        dict['name'].insert(len(dict['name']),f[0][i])\n",
    "        dict['sal'].insert(len(dict['name']),f[1][i])\n",
    "    else:\n",
    "        dict['sal'][dict['name'].index(f[0][i])]+=f[1][i] \n",
    "dict"
   ]
  },
  {
   "cell_type": "code",
   "execution_count": null,
   "id": "124f0b1b",
   "metadata": {},
   "outputs": [],
   "source": []
  },
  {
   "cell_type": "code",
   "execution_count": 3,
   "id": "d1e6ddb1",
   "metadata": {},
   "outputs": [
    {
     "name": "stdout",
     "output_type": "stream",
     "text": [
      "87654321\n"
     ]
    }
   ],
   "source": [
    "n=12345678\n",
    "print(int(str(n)[::-1]))"
   ]
  },
  {
   "cell_type": "code",
   "execution_count": 4,
   "id": "ff0c0668",
   "metadata": {},
   "outputs": [
    {
     "data": {
      "text/plain": [
       "1234567"
      ]
     },
     "execution_count": 4,
     "metadata": {},
     "output_type": "execute_result"
    }
   ],
   "source": [
    "12345678//10"
   ]
  },
  {
   "cell_type": "code",
   "execution_count": 5,
   "id": "7412007f",
   "metadata": {},
   "outputs": [
    {
     "data": {
      "text/plain": [
       "123456"
      ]
     },
     "execution_count": 5,
     "metadata": {},
     "output_type": "execute_result"
    }
   ],
   "source": [
    "1234567//10"
   ]
  },
  {
   "cell_type": "code",
   "execution_count": 6,
   "id": "befbec89",
   "metadata": {},
   "outputs": [
    {
     "data": {
      "text/plain": [
       "8"
      ]
     },
     "execution_count": 6,
     "metadata": {},
     "output_type": "execute_result"
    }
   ],
   "source": [
    "12345678%10"
   ]
  },
  {
   "cell_type": "code",
   "execution_count": 10,
   "id": "25e691fd",
   "metadata": {},
   "outputs": [
    {
     "data": {
      "text/plain": [
       "87654321"
      ]
     },
     "execution_count": 10,
     "metadata": {},
     "output_type": "execute_result"
    }
   ],
   "source": [
    "n =12345678\n",
    "final=0\n",
    "for i in range(len(str(n))):\n",
    "    digit=n%10\n",
    "    final=final*10+digit\n",
    "    n=n//10\n",
    "final"
   ]
  },
  {
   "cell_type": "code",
   "execution_count": 11,
   "id": "a9c2412a",
   "metadata": {},
   "outputs": [
    {
     "data": {
      "text/plain": [
       "8"
      ]
     },
     "execution_count": 11,
     "metadata": {},
     "output_type": "execute_result"
    }
   ],
   "source": [
    "n =12345678\n",
    "len(str(n))"
   ]
  },
  {
   "cell_type": "code",
   "execution_count": 14,
   "id": "0c6d46b8",
   "metadata": {},
   "outputs": [],
   "source": [
    "a=(1,2,3)\n",
    "b=(4,5,6)"
   ]
  },
  {
   "cell_type": "code",
   "execution_count": 15,
   "id": "1cb75b2b",
   "metadata": {},
   "outputs": [
    {
     "data": {
      "text/plain": [
       "(1, 2, 3, 4, 5, 6)"
      ]
     },
     "execution_count": 15,
     "metadata": {},
     "output_type": "execute_result"
    }
   ],
   "source": [
    "a+b"
   ]
  },
  {
   "cell_type": "code",
   "execution_count": 16,
   "id": "0e0a12a4",
   "metadata": {},
   "outputs": [
    {
     "ename": "TypeError",
     "evalue": "unhashable type: 'set'",
     "output_type": "error",
     "traceback": [
      "\u001b[1;31m---------------------------------------------------------------------------\u001b[0m",
      "\u001b[1;31mTypeError\u001b[0m                                 Traceback (most recent call last)",
      "Cell \u001b[1;32mIn [16], line 1\u001b[0m\n\u001b[1;32m----> 1\u001b[0m a\u001b[38;5;241m=\u001b[39m{{\u001b[38;5;241m1\u001b[39m,\u001b[38;5;241m2\u001b[39m},{\u001b[38;5;241m2\u001b[39m,\u001b[38;5;241m3\u001b[39m},{\u001b[38;5;241m3\u001b[39m,\u001b[38;5;241m4\u001b[39m},{\u001b[38;5;241m4\u001b[39m,\u001b[38;5;241m5\u001b[39m}}\n",
      "\u001b[1;31mTypeError\u001b[0m: unhashable type: 'set'"
     ]
    }
   ],
   "source": [
    "a={{1,2},{2,3},{3,4},{4,5}}"
   ]
  },
  {
   "cell_type": "code",
   "execution_count": 2,
   "id": "6d649824",
   "metadata": {},
   "outputs": [
    {
     "name": "stdout",
     "output_type": "stream",
     "text": [
      "ace\n",
      "acf\n",
      "ade\n",
      "adf\n",
      "bce\n",
      "bcf\n",
      "bde\n",
      "bdf\n"
     ]
    }
   ],
   "source": [
    "import itertools      \n",
    "d ={'1':['a','b'], '2':['c','d'],'3':['e','f']}\n",
    "for combo in itertools.product(*[d[k] for k in sorted(d.keys())]):\n",
    "    print(''.join(combo))"
   ]
  },
  {
   "cell_type": "code",
   "execution_count": 3,
   "id": "c079815e",
   "metadata": {},
   "outputs": [],
   "source": [
    "s='indiaismycountry'\n",
    "f={}\n",
    "for i in s:\n",
    "    f[i]=s.count(i)"
   ]
  },
  {
   "cell_type": "code",
   "execution_count": 4,
   "id": "3893b94a",
   "metadata": {},
   "outputs": [
    {
     "data": {
      "text/plain": [
       "{'i': 3,\n",
       " 'n': 2,\n",
       " 'd': 1,\n",
       " 'a': 1,\n",
       " 's': 1,\n",
       " 'm': 1,\n",
       " 'y': 2,\n",
       " 'c': 1,\n",
       " 'o': 1,\n",
       " 'u': 1,\n",
       " 't': 1,\n",
       " 'r': 1}"
      ]
     },
     "execution_count": 4,
     "metadata": {},
     "output_type": "execute_result"
    }
   ],
   "source": [
    "f"
   ]
  },
  {
   "cell_type": "code",
   "execution_count": 5,
   "id": "adb36f55",
   "metadata": {},
   "outputs": [
    {
     "name": "stdout",
     "output_type": "stream",
     "text": [
      "pwwkew\n",
      "2 2\n",
      "['w', 'k']\n"
     ]
    }
   ],
   "source": [
    "a=input()\n",
    "c=0\n",
    "b=[]\n",
    "for i in a:\n",
    "    if i in b:\n",
    "        \n",
    "        c=len(b)\n",
    "        b.clear\n",
    "    else:\n",
    "        b.append(i)\n",
    "\n",
    "p=len(b)\n",
    "print(c,p)\n",
    "print(b)    "
   ]
  },
  {
   "cell_type": "code",
   "execution_count": 54,
   "id": "ea8e040b",
   "metadata": {},
   "outputs": [
    {
     "name": "stdout",
     "output_type": "stream",
     "text": [
      "ababxyz\n",
      "6\n"
     ]
    }
   ],
   "source": [
    "a=input()\n",
    "p=[]\n",
    "c=[]\n",
    "\n",
    "for j in a:\n",
    "    if j not in c:\n",
    "        c.append(j)\n",
    "    else: \n",
    "        if len(p)>0:\n",
    "            if p[-1][1:].startswith(j):\n",
    "                \n",
    "                p.append(p[-1][2:]+''.join(c))  \n",
    "\n",
    "                c.clear()\n",
    "                c.append(j)\n",
    "            else:\n",
    "                if p[-1][1:].endswith(j):\n",
    "                    p.append(p[-1][:len(p[-1])]+''.join(c))  \n",
    "                    c.clear()\n",
    "                    c.append(j)\n",
    "                    \n",
    "        else:\n",
    "            p.append(''.join(c))  \n",
    "\n",
    "            c.clear()\n",
    "            c.append(j)\n",
    "p.append(p[-1][1:]+''.join(c))\n",
    "count=0        \n",
    "for i in p:\n",
    "    if len(i)>=count:\n",
    "        count=len(i)\n",
    "print(count) \n"
   ]
  },
  {
   "cell_type": "code",
   "execution_count": 5,
   "id": "bcc9c8fc",
   "metadata": {},
   "outputs": [
    {
     "data": {
      "text/plain": [
       "'yrtnuoc ym si aidni'"
      ]
     },
     "execution_count": 5,
     "metadata": {},
     "output_type": "execute_result"
    }
   ],
   "source": [
    "s='india is my country'\n",
    "p=''\n",
    "for i in range(len(s)-1,-1,-1):\n",
    "    p+=s[i]\n",
    "p"
   ]
  },
  {
   "cell_type": "code",
   "execution_count": 12,
   "id": "068dd34b",
   "metadata": {},
   "outputs": [
    {
     "name": "stdout",
     "output_type": "stream",
     "text": [
      "aidni si ym yrtnuoc\n"
     ]
    }
   ],
   "source": [
    "s='india is my country'\n",
    "l=[]\n",
    "p=''\n",
    "for i in range(len(s)-1,-1,-1):\n",
    "    if s[i]==' ':\n",
    "        l.insert(0,p)\n",
    "        l.insert(0,' ')\n",
    "        p=''\n",
    "    else:\n",
    "        p+=s[\n",
    "l.insert(0,p)\n",
    "print(''.join(l))"
   ]
  },
  {
   "cell_type": "code",
   "execution_count": 15,
   "id": "77424c95",
   "metadata": {},
   "outputs": [
    {
     "name": "stdout",
     "output_type": "stream",
     "text": [
      "3\n",
      "100\n",
      "101\n",
      "102\n",
      "103\n",
      "104\n",
      "105\n",
      "106\n",
      "107\n",
      "108\n",
      "109\n",
      "110\n",
      "111\n",
      "112\n",
      "113\n",
      "114\n",
      "115\n",
      "116\n",
      "117\n",
      "118\n",
      "119\n",
      "120\n",
      "121\n",
      "122\n",
      "123\n",
      "124\n",
      "125\n",
      "126\n",
      "127\n",
      "128\n",
      "129\n",
      "130\n",
      "131\n",
      "132\n",
      "133\n",
      "134\n",
      "135\n",
      "136\n",
      "137\n",
      "138\n",
      "139\n",
      "140\n",
      "141\n",
      "142\n",
      "143\n",
      "144\n",
      "145\n",
      "146\n",
      "147\n",
      "148\n",
      "149\n",
      "150\n",
      "151\n",
      "152\n",
      "153\n",
      "154\n",
      "155\n",
      "156\n",
      "157\n",
      "158\n",
      "159\n",
      "160\n",
      "161\n",
      "162\n",
      "163\n",
      "164\n",
      "165\n",
      "166\n",
      "167\n",
      "168\n",
      "169\n",
      "170\n",
      "171\n",
      "172\n",
      "173\n",
      "174\n",
      "175\n",
      "176\n",
      "177\n",
      "178\n",
      "179\n",
      "180\n",
      "181\n",
      "182\n",
      "183\n",
      "184\n",
      "185\n",
      "186\n",
      "187\n",
      "188\n",
      "189\n",
      "190\n",
      "191\n",
      "192\n",
      "193\n",
      "194\n",
      "195\n",
      "196\n",
      "197\n",
      "198\n",
      "199\n",
      "200\n",
      "201\n",
      "202\n",
      "203\n",
      "204\n",
      "205\n",
      "206\n",
      "207\n",
      "208\n",
      "209\n",
      "210\n",
      "211\n",
      "212\n",
      "213\n",
      "214\n",
      "215\n",
      "216\n",
      "217\n",
      "218\n",
      "219\n",
      "220\n",
      "221\n",
      "222\n",
      "223\n",
      "224\n",
      "225\n",
      "226\n",
      "227\n",
      "228\n",
      "229\n",
      "230\n",
      "231\n",
      "232\n",
      "233\n",
      "234\n",
      "235\n",
      "236\n",
      "237\n",
      "238\n",
      "239\n",
      "240\n",
      "241\n",
      "242\n",
      "243\n",
      "244\n",
      "245\n",
      "246\n",
      "247\n",
      "248\n",
      "249\n",
      "250\n",
      "251\n",
      "252\n",
      "253\n",
      "254\n",
      "255\n",
      "256\n",
      "257\n",
      "258\n",
      "259\n",
      "260\n",
      "261\n",
      "262\n",
      "263\n",
      "264\n",
      "265\n",
      "266\n",
      "267\n",
      "268\n",
      "269\n",
      "270\n",
      "271\n",
      "272\n",
      "273\n",
      "274\n",
      "275\n",
      "276\n",
      "277\n",
      "278\n",
      "279\n",
      "280\n",
      "281\n",
      "282\n",
      "283\n",
      "284\n",
      "285\n",
      "286\n",
      "287\n",
      "288\n",
      "289\n",
      "290\n",
      "291\n",
      "292\n",
      "293\n",
      "294\n",
      "295\n",
      "296\n",
      "297\n",
      "298\n",
      "299\n",
      "300\n",
      "301\n",
      "302\n",
      "303\n",
      "304\n",
      "305\n",
      "306\n",
      "307\n",
      "308\n",
      "309\n",
      "310\n",
      "311\n",
      "312\n",
      "313\n",
      "314\n",
      "315\n",
      "316\n",
      "317\n",
      "318\n",
      "319\n",
      "320\n",
      "321\n",
      "322\n",
      "323\n",
      "324\n",
      "325\n",
      "326\n",
      "327\n",
      "328\n",
      "329\n",
      "330\n",
      "331\n",
      "332\n",
      "333\n",
      "334\n",
      "335\n",
      "336\n",
      "337\n",
      "338\n",
      "339\n",
      "340\n",
      "341\n",
      "342\n",
      "343\n",
      "344\n",
      "345\n",
      "346\n",
      "347\n",
      "348\n",
      "349\n",
      "350\n",
      "351\n",
      "352\n",
      "353\n",
      "354\n",
      "355\n",
      "356\n",
      "357\n",
      "358\n",
      "359\n",
      "360\n",
      "361\n",
      "362\n",
      "363\n",
      "364\n",
      "365\n",
      "366\n",
      "367\n",
      "368\n",
      "369\n",
      "370\n",
      "371\n",
      "372\n",
      "373\n",
      "374\n",
      "375\n",
      "376\n",
      "377\n",
      "378\n",
      "379\n",
      "380\n",
      "381\n",
      "382\n",
      "383\n",
      "384\n",
      "385\n",
      "386\n",
      "387\n",
      "388\n",
      "389\n",
      "390\n",
      "391\n",
      "392\n",
      "393\n",
      "394\n",
      "395\n",
      "396\n",
      "397\n",
      "398\n",
      "399\n",
      "400\n",
      "401\n",
      "402\n",
      "403\n",
      "404\n",
      "405\n",
      "406\n",
      "407\n",
      "408\n",
      "409\n",
      "410\n",
      "411\n",
      "412\n",
      "413\n",
      "414\n",
      "415\n",
      "416\n",
      "417\n",
      "418\n",
      "419\n",
      "420\n",
      "421\n",
      "422\n",
      "423\n",
      "424\n",
      "425\n",
      "426\n",
      "427\n",
      "428\n",
      "429\n",
      "430\n",
      "431\n",
      "432\n",
      "433\n",
      "434\n",
      "435\n",
      "436\n",
      "437\n",
      "438\n",
      "439\n",
      "440\n",
      "441\n",
      "442\n",
      "443\n",
      "444\n",
      "445\n",
      "446\n",
      "447\n",
      "448\n",
      "449\n",
      "450\n",
      "451\n",
      "452\n",
      "453\n",
      "454\n",
      "455\n",
      "456\n",
      "457\n",
      "458\n",
      "459\n",
      "460\n",
      "461\n",
      "462\n",
      "463\n",
      "464\n",
      "465\n",
      "466\n",
      "467\n",
      "468\n",
      "469\n",
      "470\n",
      "471\n",
      "472\n",
      "473\n",
      "474\n",
      "475\n",
      "476\n",
      "477\n",
      "478\n",
      "479\n",
      "480\n",
      "481\n",
      "482\n",
      "483\n",
      "484\n",
      "485\n",
      "486\n",
      "487\n",
      "488\n",
      "489\n",
      "490\n",
      "491\n",
      "492\n",
      "493\n",
      "494\n",
      "495\n",
      "496\n",
      "497\n",
      "498\n",
      "499\n",
      "500\n",
      "501\n",
      "502\n",
      "503\n",
      "504\n",
      "505\n",
      "506\n",
      "507\n",
      "508\n",
      "509\n",
      "510\n",
      "511\n",
      "512\n",
      "513\n",
      "514\n",
      "515\n",
      "516\n",
      "517\n",
      "518\n",
      "519\n",
      "520\n",
      "521\n",
      "522\n",
      "523\n",
      "524\n",
      "525\n",
      "526\n",
      "527\n",
      "528\n",
      "529\n",
      "530\n",
      "531\n",
      "532\n",
      "533\n",
      "534\n",
      "535\n",
      "536\n",
      "537\n",
      "538\n",
      "539\n",
      "540\n",
      "541\n",
      "542\n",
      "543\n",
      "544\n",
      "545\n",
      "546\n",
      "547\n",
      "548\n",
      "549\n",
      "550\n",
      "551\n",
      "552\n",
      "553\n",
      "554\n",
      "555\n",
      "556\n",
      "557\n",
      "558\n",
      "559\n",
      "560\n",
      "561\n",
      "562\n",
      "563\n",
      "564\n",
      "565\n",
      "566\n",
      "567\n",
      "568\n",
      "569\n",
      "570\n",
      "571\n",
      "572\n",
      "573\n",
      "574\n",
      "575\n",
      "576\n",
      "577\n",
      "578\n",
      "579\n",
      "580\n",
      "581\n",
      "582\n",
      "583\n",
      "584\n",
      "585\n",
      "586\n",
      "587\n",
      "588\n",
      "589\n",
      "590\n",
      "591\n",
      "592\n",
      "593\n",
      "594\n",
      "595\n",
      "596\n",
      "597\n",
      "598\n",
      "599\n",
      "600\n",
      "601\n",
      "602\n",
      "603\n",
      "604\n",
      "605\n",
      "606\n",
      "607\n",
      "608\n",
      "609\n",
      "610\n",
      "611\n",
      "612\n",
      "613\n",
      "614\n",
      "615\n",
      "616\n",
      "617\n",
      "618\n",
      "619\n",
      "620\n",
      "621\n",
      "622\n",
      "623\n",
      "624\n",
      "625\n",
      "626\n",
      "627\n",
      "628\n",
      "629\n",
      "630\n",
      "631\n",
      "632\n",
      "633\n",
      "634\n",
      "635\n",
      "636\n",
      "637\n",
      "638\n",
      "639\n",
      "640\n",
      "641\n",
      "642\n",
      "643\n",
      "644\n",
      "645\n",
      "646\n",
      "647\n",
      "648\n",
      "649\n",
      "650\n",
      "651\n",
      "652\n",
      "653\n",
      "654\n",
      "655\n",
      "656\n",
      "657\n",
      "658\n",
      "659\n",
      "660\n",
      "661\n",
      "662\n",
      "663\n",
      "664\n",
      "665\n",
      "666\n",
      "667\n",
      "668\n",
      "669\n",
      "670\n",
      "671\n",
      "672\n",
      "673\n",
      "674\n",
      "675\n",
      "676\n",
      "677\n",
      "678\n",
      "679\n",
      "680\n",
      "681\n",
      "682\n",
      "683\n",
      "684\n",
      "685\n",
      "686\n",
      "687\n",
      "688\n",
      "689\n",
      "690\n",
      "691\n",
      "692\n",
      "693\n",
      "694\n",
      "695\n",
      "696\n",
      "697\n",
      "698\n",
      "699\n",
      "700\n",
      "701\n",
      "702\n",
      "703\n",
      "704\n",
      "705\n",
      "706\n",
      "707\n",
      "708\n",
      "709\n",
      "710\n",
      "711\n",
      "712\n",
      "713\n",
      "714\n",
      "715\n",
      "716\n",
      "717\n",
      "718\n",
      "719\n",
      "720\n",
      "721\n",
      "722\n",
      "723\n",
      "724\n",
      "725\n",
      "726\n",
      "727\n",
      "728\n",
      "729\n",
      "730\n",
      "731\n",
      "732\n",
      "733\n",
      "734\n",
      "735\n",
      "736\n",
      "737\n",
      "738\n",
      "739\n",
      "740\n",
      "741\n",
      "742\n",
      "743\n",
      "744\n",
      "745\n",
      "746\n",
      "747\n",
      "748\n",
      "749\n",
      "750\n",
      "751\n",
      "752\n",
      "753\n",
      "754\n",
      "755\n",
      "756\n",
      "757\n",
      "758\n",
      "759\n",
      "760\n",
      "761\n",
      "762\n",
      "763\n",
      "764\n",
      "765\n",
      "766\n",
      "767\n",
      "768\n",
      "769\n",
      "770\n",
      "771\n",
      "772\n",
      "773\n",
      "774\n",
      "775\n",
      "776\n",
      "777\n",
      "778\n",
      "779\n",
      "780\n",
      "781\n",
      "782\n",
      "783\n",
      "784\n",
      "785\n",
      "786\n",
      "787\n",
      "788\n",
      "789\n",
      "790\n",
      "791\n",
      "792\n",
      "793\n",
      "794\n",
      "795\n",
      "796\n",
      "797\n",
      "798\n",
      "799\n",
      "800\n",
      "801\n",
      "802\n",
      "803\n",
      "804\n",
      "805\n",
      "806\n",
      "807\n",
      "808\n",
      "809\n",
      "810\n",
      "811\n",
      "812\n",
      "813\n",
      "814\n",
      "815\n",
      "816\n",
      "817\n",
      "818\n",
      "819\n",
      "820\n",
      "821\n",
      "822\n",
      "823\n",
      "824\n",
      "825\n",
      "826\n",
      "827\n",
      "828\n",
      "829\n",
      "830\n",
      "831\n",
      "832\n",
      "833\n",
      "834\n",
      "835\n",
      "836\n",
      "837\n",
      "838\n",
      "839\n",
      "840\n",
      "841\n",
      "842\n",
      "843\n",
      "844\n",
      "845\n",
      "846\n",
      "847\n",
      "848\n",
      "849\n",
      "850\n",
      "851\n",
      "852\n",
      "853\n",
      "854\n",
      "855\n",
      "856\n",
      "857\n",
      "858\n",
      "859\n",
      "860\n",
      "861\n",
      "862\n",
      "863\n",
      "864\n",
      "865\n",
      "866\n",
      "867\n",
      "868\n",
      "869\n",
      "870\n",
      "871\n",
      "872\n",
      "873\n",
      "874\n",
      "875\n",
      "876\n",
      "877\n",
      "878\n",
      "879\n",
      "880\n",
      "881\n",
      "882\n",
      "883\n",
      "884\n",
      "885\n",
      "886\n",
      "887\n",
      "888\n",
      "889\n",
      "890\n",
      "891\n",
      "892\n",
      "893\n",
      "894\n",
      "895\n",
      "896\n",
      "897\n",
      "898\n",
      "899\n",
      "900\n",
      "901\n",
      "902\n",
      "903\n",
      "904\n",
      "905\n",
      "906\n",
      "907\n",
      "908\n",
      "909\n",
      "910\n",
      "911\n",
      "912\n",
      "913\n",
      "914\n",
      "915\n",
      "916\n",
      "917\n",
      "918\n",
      "919\n",
      "920\n",
      "921\n",
      "922\n",
      "923\n",
      "924\n",
      "925\n",
      "926\n",
      "927\n",
      "928\n",
      "929\n",
      "930\n",
      "931\n",
      "932\n",
      "933\n",
      "934\n",
      "935\n",
      "936\n",
      "937\n",
      "938\n",
      "939\n",
      "940\n",
      "941\n",
      "942\n",
      "943\n",
      "944\n",
      "945\n",
      "946\n",
      "947\n",
      "948\n",
      "949\n",
      "950\n",
      "951\n",
      "952\n",
      "953\n",
      "954\n",
      "955\n",
      "956\n",
      "957\n",
      "958\n",
      "959\n",
      "960\n",
      "961\n",
      "962\n",
      "963\n",
      "964\n",
      "965\n",
      "966\n",
      "967\n",
      "968\n",
      "969\n",
      "970\n",
      "971\n",
      "972\n",
      "973\n",
      "974\n",
      "975\n",
      "976\n",
      "977\n",
      "978\n",
      "979\n",
      "980\n",
      "981\n",
      "982\n",
      "983\n",
      "984\n",
      "985\n",
      "986\n",
      "987\n",
      "988\n",
      "989\n",
      "990\n",
      "991\n",
      "992\n",
      "993\n",
      "994\n",
      "995\n",
      "996\n",
      "997\n",
      "998\n",
      "999\n"
     ]
    }
   ],
   "source": [
    "c=int(input())\n",
    "for i in range(int('1'+'0'*(c-1)),int('1'+'0'*c)):\n",
    "    print(i)"
   ]
  },
  {
   "cell_type": "code",
   "execution_count": 16,
   "id": "b52f0f65",
   "metadata": {},
   "outputs": [
    {
     "data": {
      "text/plain": [
       "'111'"
      ]
     },
     "execution_count": 16,
     "metadata": {},
     "output_type": "execute_result"
    }
   ],
   "source": [
    "int('1'+'0'*(a-1)),int('1'+'0'*a)"
   ]
  },
  {
   "cell_type": "code",
   "execution_count": 19,
   "id": "b41f274d",
   "metadata": {},
   "outputs": [
    {
     "data": {
      "text/plain": [
       "'mOHANdEVDE'"
      ]
     },
     "execution_count": 19,
     "metadata": {},
     "output_type": "execute_result"
    }
   ],
   "source": [
    "\"MohanDevde\".swapcase()"
   ]
  },
  {
   "cell_type": "code",
   "execution_count": 22,
   "id": "a2bddf63",
   "metadata": {},
   "outputs": [
    {
     "ename": "ModuleNotFoundError",
     "evalue": "No module named 'm'",
     "output_type": "error",
     "traceback": [
      "\u001b[1;31m---------------------------------------------------------------------------\u001b[0m",
      "\u001b[1;31mModuleNotFoundError\u001b[0m                       Traceback (most recent call last)",
      "Cell \u001b[1;32mIn [22], line 5\u001b[0m\n\u001b[0;32m      2\u001b[0m     \u001b[38;5;28;01mdef\u001b[39;00m \u001b[38;5;21mfunction\u001b[39m(\u001b[38;5;28mself\u001b[39m):\n\u001b[0;32m      3\u001b[0m         \u001b[38;5;28mprint\u001b[39m(\u001b[38;5;124m\"\u001b[39m\u001b[38;5;124mfunction()\u001b[39m\u001b[38;5;124m\"\u001b[39m)\n\u001b[1;32m----> 5\u001b[0m \u001b[38;5;28;01mimport\u001b[39;00m \u001b[38;5;21;01mm\u001b[39;00m\n\u001b[0;32m      6\u001b[0m \u001b[38;5;28;01mdef\u001b[39;00m \u001b[38;5;21mmonkey_function\u001b[39m(\u001b[38;5;28mself\u001b[39m):\n\u001b[0;32m      7\u001b[0m     \u001b[38;5;28mprint\u001b[39m(\u001b[38;5;124m\"\u001b[39m\u001b[38;5;124mmonkey_function()\u001b[39m\u001b[38;5;124m\"\u001b[39m)\n",
      "\u001b[1;31mModuleNotFoundError\u001b[0m: No module named 'm'"
     ]
    }
   ],
   "source": [
    "class GeeksClass:\n",
    "    def function(self):\n",
    "        print(\"function()\")\n",
    "\n",
    "import m\n",
    "def monkey_function(self):\n",
    "    print(\"monkey_function()\")\n",
    " \n",
    "m.GeeksClass.function = monkey_function\n",
    "obj = m.GeeksClass()\n",
    "obj.function()"
   ]
  },
  {
   "cell_type": "code",
   "execution_count": 26,
   "id": "1204eae8",
   "metadata": {},
   "outputs": [
    {
     "name": "stdout",
     "output_type": "stream",
     "text": [
      "Current time is time.struct_time(tm_year=2023, tm_mon=9, tm_mday=17, tm_hour=15, tm_min=31, tm_sec=56, tm_wday=6, tm_yday=260, tm_isdst=0)\n"
     ]
    }
   ],
   "source": [
    "import time\n",
    "currenttime= time.localtime(time.time())\n",
    "print('Current time is', currenttime)"
   ]
  },
  {
   "cell_type": "code",
   "execution_count": 32,
   "id": "f00e8249",
   "metadata": {},
   "outputs": [
    {
     "name": "stdout",
     "output_type": "stream",
     "text": [
      "(1, 2, 3)\n",
      "(1, 3, 2)\n",
      "(2, 1, 3)\n",
      "(2, 3, 1)\n",
      "(3, 1, 2)\n",
      "(3, 2, 1)\n"
     ]
    }
   ],
   "source": [
    "# A Python program to print all\n",
    "# permutations using library function\n",
    "from itertools import permutations\n",
    "\n",
    "\n",
    "# Get all permutations of [1, 2, 3]\n",
    "perm = permutations([1, 2, 3])\n",
    "\n",
    "# Print the obtained permutations\n",
    "for i in list(perm):\n",
    "    print (i)"
   ]
  },
  {
   "cell_type": "code",
   "execution_count": 36,
   "id": "1b84329b",
   "metadata": {},
   "outputs": [],
   "source": [
    "#How do I access the ith column of a NumPy multidimensional array?\n",
    "\n"
   ]
  },
  {
   "cell_type": "code",
   "execution_count": 58,
   "id": "4c2810e0",
   "metadata": {},
   "outputs": [
    {
     "name": "stdout",
     "output_type": "stream",
     "text": [
      " Enter ith column:  3\n",
      "3\n",
      "6\n",
      "9\n"
     ]
    }
   ],
   "source": [
    "import numpy as np\n",
    "n=np.array([[1,2,3],[4,5,6],[7,8,9]])\n",
    "c=int(input(' Enter ith column:  '))-1\n",
    "for i in n:\n",
    "    print(i[c])"
   ]
  },
  {
   "cell_type": "code",
   "execution_count": 9,
   "id": "4b876b86",
   "metadata": {},
   "outputs": [
    {
     "name": "stdout",
     "output_type": "stream",
     "text": [
      "[911763564328763, 91223876462767, 913677333]\n"
     ]
    }
   ],
   "source": [
    "def num_decorator(fun):\n",
    "    def inner(*arg):\n",
    "        z=fun(*arg)\n",
    "        l=[]\n",
    "     \n",
    "        for i in z:\n",
    "            p='91'+str(i)\n",
    "            l.append(int(p))\n",
    "        return l\n",
    "    return inner\n",
    "                 \n",
    "                 \n",
    "@num_decorator\n",
    "def return_phn_nos(*arg):\n",
    "    return [*arg]\n",
    "\n",
    "print(return_phn_nos(1763564328763,223876462767,3677333))"
   ]
  },
  {
   "cell_type": "code",
   "execution_count": 15,
   "id": "ecbcb69d",
   "metadata": {},
   "outputs": [
    {
     "name": "stdout",
     "output_type": "stream",
     "text": [
      "0\n"
     ]
    }
   ],
   "source": [
    "l=[8,3,2,4,-5,1,7,4,-2]\n",
    "k=3\n",
    "r=[]\n",
    "for i in l:\n",
    "    if len(l)-(j+k)>=0:\n",
    "        ln=l[j:j+k]\n",
    "        r.append(sum(ln))\n",
    "    else:\n",
    "        pass\n",
    "print(max(r))"
   ]
  },
  {
   "cell_type": "code",
   "execution_count": null,
   "id": "f94dcbd5",
   "metadata": {},
   "outputs": [],
   "source": [
    "a=list(map(int,input().split(',')))\n",
    "b=[]\n",
    "for i,j in enumerate(a):\n",
    "    if j!=\n",
    "        b.append(sum(a[i:i+2]))\n",
    "    else:\n",
    "        b.append(j)\n",
    "print(max(b))\n",
    "       "
   ]
  },
  {
   "cell_type": "code",
   "execution_count": 26,
   "id": "7344b485",
   "metadata": {},
   "outputs": [
    {
     "data": {
      "text/plain": [
       "-1"
      ]
     },
     "execution_count": 26,
     "metadata": {},
     "output_type": "execute_result"
    }
   ],
   "source": [
    "max([-1,-2])"
   ]
  },
  {
   "cell_type": "code",
   "execution_count": 8,
   "id": "090b7be2",
   "metadata": {},
   "outputs": [
    {
     "name": "stdout",
     "output_type": "stream",
     "text": [
      "9,-1,3,4\n"
     ]
    },
    {
     "data": {
      "text/plain": [
       "[9, -1, 3, 4]"
      ]
     },
     "execution_count": 8,
     "metadata": {},
     "output_type": "execute_result"
    }
   ],
   "source": [
    "-1, 8, 1, -7, -1\n",
    "Write a program to convert string input into integer element array and \n",
    "find the continuous subarray from an array which has the largest sum.\n",
    "\n",
    "Time in Minutes: 45 Min\n",
    "\n",
    "Difficulty Level: Medium\n",
    "\n",
    "Tags: Array\n",
    "\n",
    "Description: \n",
    "    \n",
    "Test cases:\n",
    "\n",
    "Pass an array as an input which contains:\n",
    "\n",
    "Positive and negative elements. \n",
    "Input : “-1, 8, 1, -7, -1”\n",
    "Output : ‘9’\n",
    "All positive elements\n",
    "Input : “1, 2”\n",
    "Output : ‘3’\n",
    "All negative numbers.\n",
    "Input : “-1, -2”\n",
    "Output : ‘-1’\n",
    "    \n",
    "Input : “1, -2”\n",
    "Output : ‘-1’"
   ]
  },
  {
   "cell_type": "code",
   "execution_count": 16,
   "id": "0a45ef38",
   "metadata": {},
   "outputs": [
    {
     "name": "stdout",
     "output_type": "stream",
     "text": [
      "-1,-2\n"
     ]
    },
    {
     "data": {
      "text/plain": [
       "-1"
      ]
     },
     "execution_count": 16,
     "metadata": {},
     "output_type": "execute_result"
    }
   ],
   "source": [
    "a=list(map(int,input().split(',')))\n",
    "b=[]\n",
    "for i,j in enumerate(a):\n",
    "    for p in range(i,len(a)):   \n",
    "        b.append(sum(a[i:p+1]))\n",
    "        \n",
    "max(b)"
   ]
  },
  {
   "cell_type": "code",
   "execution_count": 28,
   "id": "7177897c",
   "metadata": {},
   "outputs": [
    {
     "name": "stdout",
     "output_type": "stream",
     "text": [
      "-1,-2\n"
     ]
    },
    {
     "data": {
      "text/plain": [
       "-1"
      ]
     },
     "execution_count": 28,
     "metadata": {},
     "output_type": "execute_result"
    }
   ],
   "source": [
    "a=list(map(int,input().split(',')))\n",
    "b=[]\n",
    "for i,j in enumerate(a):\n",
    "    for p in range(i,len(a)): \n",
    "        b.append(sum(a[i:p+1]))\n",
    "\n",
    "print(max(b))      "
   ]
  },
  {
   "cell_type": "code",
   "execution_count": null,
   "id": "5fb1631e",
   "metadata": {},
   "outputs": [],
   "source": []
  },
  {
   "cell_type": "code",
   "execution_count": 10,
   "id": "03a5c174",
   "metadata": {},
   "outputs": [
    {
     "name": "stdout",
     "output_type": "stream",
     "text": [
      "path1\n"
     ]
    }
   ],
   "source": [
    "ticket_cost=[1,2,2,4]\n",
    "start=3\n",
    "end=1\n",
    "p1=0\n",
    "p2=0\n",
    "for j,i in enumerate(ticket_cost):\n",
    "    \n",
    "    if j>= start-1and j<=end-2:\n",
    "        p1+=i\n",
    "    else:\n",
    "        p2+=i\n",
    "        \n",
    "if p1<=p2:\n",
    "    print('path1')\n",
    "\n",
    "else:\n",
    "    print('path2')\n",
    "    "
   ]
  },
  {
   "cell_type": "code",
   "execution_count": 19,
   "id": "9d032b8a",
   "metadata": {},
   "outputs": [
    {
     "ename": "KeyboardInterrupt",
     "evalue": "Interrupted by user",
     "output_type": "error",
     "traceback": [
      "\u001b[1;31m---------------------------------------------------------------------------\u001b[0m",
      "\u001b[1;31mKeyboardInterrupt\u001b[0m                         Traceback (most recent call last)",
      "Cell \u001b[1;32mIn [19], line 16\u001b[0m\n\u001b[0;32m     13\u001b[0m     \u001b[38;5;28;01melse\u001b[39;00m:\n\u001b[0;32m     14\u001b[0m         \u001b[38;5;28mprint\u001b[39m(\u001b[38;5;124m'\u001b[39m\u001b[38;5;124mpath2\u001b[39m\u001b[38;5;124m'\u001b[39m)\n\u001b[1;32m---> 16\u001b[0m start\u001b[38;5;241m=\u001b[39m\u001b[38;5;28mint\u001b[39m(\u001b[38;5;28;43minput\u001b[39;49m\u001b[43m(\u001b[49m\u001b[43m)\u001b[49m)\n\u001b[0;32m     17\u001b[0m end\u001b[38;5;241m=\u001b[39m\u001b[38;5;28mint\u001b[39m(\u001b[38;5;28minput\u001b[39m())\n\u001b[0;32m     18\u001b[0m ticket_cost\u001b[38;5;241m=\u001b[39m\u001b[38;5;28mlist\u001b[39m(\u001b[38;5;28mmap\u001b[39m(\u001b[38;5;28mint\u001b[39m,\u001b[38;5;28minput\u001b[39m()\u001b[38;5;241m.\u001b[39msplit(\u001b[38;5;124m'\u001b[39m\u001b[38;5;124m,\u001b[39m\u001b[38;5;124m'\u001b[39m)))\n",
      "File \u001b[1;32m~\\miniconda3\\lib\\site-packages\\ipykernel\\kernelbase.py:1177\u001b[0m, in \u001b[0;36mKernel.raw_input\u001b[1;34m(self, prompt)\u001b[0m\n\u001b[0;32m   1173\u001b[0m \u001b[38;5;28;01mif\u001b[39;00m \u001b[38;5;129;01mnot\u001b[39;00m \u001b[38;5;28mself\u001b[39m\u001b[38;5;241m.\u001b[39m_allow_stdin:\n\u001b[0;32m   1174\u001b[0m     \u001b[38;5;28;01mraise\u001b[39;00m StdinNotImplementedError(\n\u001b[0;32m   1175\u001b[0m         \u001b[38;5;124m\"\u001b[39m\u001b[38;5;124mraw_input was called, but this frontend does not support input requests.\u001b[39m\u001b[38;5;124m\"\u001b[39m\n\u001b[0;32m   1176\u001b[0m     )\n\u001b[1;32m-> 1177\u001b[0m \u001b[38;5;28;01mreturn\u001b[39;00m \u001b[38;5;28;43mself\u001b[39;49m\u001b[38;5;241;43m.\u001b[39;49m\u001b[43m_input_request\u001b[49m\u001b[43m(\u001b[49m\n\u001b[0;32m   1178\u001b[0m \u001b[43m    \u001b[49m\u001b[38;5;28;43mstr\u001b[39;49m\u001b[43m(\u001b[49m\u001b[43mprompt\u001b[49m\u001b[43m)\u001b[49m\u001b[43m,\u001b[49m\n\u001b[0;32m   1179\u001b[0m \u001b[43m    \u001b[49m\u001b[38;5;28;43mself\u001b[39;49m\u001b[38;5;241;43m.\u001b[39;49m\u001b[43m_parent_ident\u001b[49m\u001b[43m[\u001b[49m\u001b[38;5;124;43m\"\u001b[39;49m\u001b[38;5;124;43mshell\u001b[39;49m\u001b[38;5;124;43m\"\u001b[39;49m\u001b[43m]\u001b[49m\u001b[43m,\u001b[49m\n\u001b[0;32m   1180\u001b[0m \u001b[43m    \u001b[49m\u001b[38;5;28;43mself\u001b[39;49m\u001b[38;5;241;43m.\u001b[39;49m\u001b[43mget_parent\u001b[49m\u001b[43m(\u001b[49m\u001b[38;5;124;43m\"\u001b[39;49m\u001b[38;5;124;43mshell\u001b[39;49m\u001b[38;5;124;43m\"\u001b[39;49m\u001b[43m)\u001b[49m\u001b[43m,\u001b[49m\n\u001b[0;32m   1181\u001b[0m \u001b[43m    \u001b[49m\u001b[43mpassword\u001b[49m\u001b[38;5;241;43m=\u001b[39;49m\u001b[38;5;28;43;01mFalse\u001b[39;49;00m\u001b[43m,\u001b[49m\n\u001b[0;32m   1182\u001b[0m \u001b[43m\u001b[49m\u001b[43m)\u001b[49m\n",
      "File \u001b[1;32m~\\miniconda3\\lib\\site-packages\\ipykernel\\kernelbase.py:1219\u001b[0m, in \u001b[0;36mKernel._input_request\u001b[1;34m(self, prompt, ident, parent, password)\u001b[0m\n\u001b[0;32m   1216\u001b[0m             \u001b[38;5;28;01mbreak\u001b[39;00m\n\u001b[0;32m   1217\u001b[0m \u001b[38;5;28;01mexcept\u001b[39;00m \u001b[38;5;167;01mKeyboardInterrupt\u001b[39;00m:\n\u001b[0;32m   1218\u001b[0m     \u001b[38;5;66;03m# re-raise KeyboardInterrupt, to truncate traceback\u001b[39;00m\n\u001b[1;32m-> 1219\u001b[0m     \u001b[38;5;28;01mraise\u001b[39;00m \u001b[38;5;167;01mKeyboardInterrupt\u001b[39;00m(\u001b[38;5;124m\"\u001b[39m\u001b[38;5;124mInterrupted by user\u001b[39m\u001b[38;5;124m\"\u001b[39m) \u001b[38;5;28;01mfrom\u001b[39;00m \u001b[38;5;28mNone\u001b[39m\n\u001b[0;32m   1220\u001b[0m \u001b[38;5;28;01mexcept\u001b[39;00m \u001b[38;5;167;01mException\u001b[39;00m:\n\u001b[0;32m   1221\u001b[0m     \u001b[38;5;28mself\u001b[39m\u001b[38;5;241m.\u001b[39mlog\u001b[38;5;241m.\u001b[39mwarning(\u001b[38;5;124m\"\u001b[39m\u001b[38;5;124mInvalid Message:\u001b[39m\u001b[38;5;124m\"\u001b[39m, exc_info\u001b[38;5;241m=\u001b[39m\u001b[38;5;28;01mTrue\u001b[39;00m)\n",
      "\u001b[1;31mKeyboardInterrupt\u001b[0m: Interrupted by user"
     ]
    }
   ],
   "source": [
    "def solve(start,end,ticket_cost):\n",
    "    p1=0\n",
    "    p2=0\n",
    "    for j,i in enumerate(ticket_cost):\n",
    "        if j>= start-1and j<=end-2:\n",
    "            p1+=i\n",
    "        else:\n",
    "            p2+=i\n",
    "        \n",
    "    if p1<=p2:\n",
    "        print('path1')\n",
    "\n",
    "    else:\n",
    "        print('path2')\n",
    "        \n",
    "start=int(input())\n",
    "end=int(input())\n",
    "ticket_cost=list(map(int,input().split(',')))\n",
    "\n",
    "solve(start,end,ticket_cost)\n",
    "    "
   ]
  },
  {
   "cell_type": "code",
   "execution_count": 22,
   "id": "c7a42d0d",
   "metadata": {},
   "outputs": [
    {
     "name": "stdout",
     "output_type": "stream",
     "text": [
      "2\n",
      "4\n",
      "1,2,2,4\n",
      "path1\n"
     ]
    }
   ],
   "source": [
    "def solve(start,end,ticket_cost):\n",
    "    p1=sum(ticket_cost[start-1:end-1])\n",
    "    p2=sum(ticket_cost)-p1\n",
    "    \n",
    "    if p1<=p2:\n",
    "        return 'path1'\n",
    "\n",
    "    else:\n",
    "        return 'path2'\n",
    "    \n",
    "        \n",
    "start=int(input())\n",
    "end=int(input())\n",
    "ticket_cost=list(map(int,input().split(',')))\n",
    "\n",
    "p=solve(start,end,ticket_cost)\n",
    "print(p)"
   ]
  },
  {
   "cell_type": "code",
   "execution_count": null,
   "id": "4621706d",
   "metadata": {},
   "outputs": [],
   "source": [
    "# EDA  \n",
    "# static --role of static in Ml --where you are used ---- \n",
    "# explain which algo. You have implemented \n",
    "# algo. deployement  by flask\n",
    "# pandas\n",
    "\n",
    "# --basic python , static-      ---algo. ----linear , logi, random fore, decision tree ,\n",
    "# -naive bayes --it is based on bayes theorem --- it is used used for the classification data\n",
    "\n",
    "# naive---it is not depend on any external features\n",
    "\n",
    "\n",
    "# ---numpy\n",
    "\n"
   ]
  },
  {
   "cell_type": "code",
   "execution_count": null,
   "id": "edb31178",
   "metadata": {},
   "outputs": [],
   "source": [
    "# "
   ]
  },
  {
   "cell_type": "code",
   "execution_count": 2,
   "id": "4f6f22fc",
   "metadata": {},
   "outputs": [
    {
     "name": "stdout",
     "output_type": "stream",
     "text": [
      "1,2,3,4,5,6\n"
     ]
    }
   ],
   "source": [
    "a=['1','2','3','4','5','6']\n",
    "print(''.join(a))\n"
   ]
  },
  {
   "cell_type": "code",
   "execution_count": 10,
   "id": "8563e175",
   "metadata": {},
   "outputs": [
    {
     "name": "stdout",
     "output_type": "stream",
     "text": [
      "out of range\n",
      "['3', '5', '7', '9', '11']\n"
     ]
    }
   ],
   "source": [
    "a=['1','2','3','4','5','6'] \n",
    "b=[]                   #  1,3 ,5,7 ,9,11\n",
    "try:\n",
    "    for i in range(len(a)):\n",
    "        b.append(str(int(a[i])+int(a[i+1])))\n",
    "except:\n",
    "    print('out of range')\n",
    "finally:\n",
    "    print(b)"
   ]
  },
  {
   "cell_type": "code",
   "execution_count": 17,
   "id": "98ae96e4",
   "metadata": {},
   "outputs": [
    {
     "data": {
      "text/plain": [
       "['1', '3', '6', '10', '15', '21']"
      ]
     },
     "execution_count": 17,
     "metadata": {},
     "output_type": "execute_result"
    }
   ],
   "source": [
    "a=['1','2','3','4','5','6']\n",
    "b=[]  \n",
    "n=0\n",
    "while n<=len(a)-1:\n",
    "    if n!=0:\n",
    "        a[n]=str(int(a[n])+int(a[n-1]))\n",
    "    n+=1\n",
    "a"
   ]
  },
  {
   "cell_type": "code",
   "execution_count": 23,
   "id": "36cac653",
   "metadata": {},
   "outputs": [
    {
     "data": {
      "text/plain": [
       "['1', '3', '5', '7', '9', '11']"
      ]
     },
     "execution_count": 23,
     "metadata": {},
     "output_type": "execute_result"
    }
   ],
   "source": [
    "a=['1','2','3','4','5','6']\n",
    "b=[]  \n",
    "n=0\n",
    "while n<=len(a)-1:\n",
    "    if n!=0:\n",
    "        b.append(str(int(a[n])+int(a[n-1])))\n",
    "       \n",
    "    else:\n",
    "        b.append(a[n])\n",
    "    n+=1\n",
    "    \n",
    "b"
   ]
  },
  {
   "cell_type": "code",
   "execution_count": 2,
   "id": "83569e4d",
   "metadata": {},
   "outputs": [
    {
     "ename": "KeyboardInterrupt",
     "evalue": "",
     "output_type": "error",
     "traceback": [
      "\u001b[1;31m---------------------------------------------------------------------------\u001b[0m",
      "\u001b[1;31mKeyboardInterrupt\u001b[0m                         Traceback (most recent call last)",
      "Cell \u001b[1;32mIn [2], line 4\u001b[0m\n\u001b[0;32m      2\u001b[0m \u001b[38;5;28;01mfor\u001b[39;00m i \u001b[38;5;129;01min\u001b[39;00m lists:\n\u001b[0;32m      3\u001b[0m     \u001b[38;5;28;01mfor\u001b[39;00m j \u001b[38;5;129;01min\u001b[39;00m i:\n\u001b[1;32m----> 4\u001b[0m         lists\u001b[38;5;241m.\u001b[39minsert(\u001b[38;5;241m0\u001b[39m,\u001b[38;5;28mstr\u001b[39m(j))\n",
      "\u001b[1;31mKeyboardInterrupt\u001b[0m: "
     ]
    }
   ],
   "source": [
    "lists=[[1,4,5],[1,3,4],[2,6],3]\n",
    "for i in lists:\n",
    "    for j in i:\n",
    "        lists.insert(0,str(j))"
   ]
  },
  {
   "cell_type": "code",
   "execution_count": 8,
   "id": "f7117d0a",
   "metadata": {},
   "outputs": [],
   "source": [
    "lists=[[1,4,5],[1,3,4],[2,6],3]\n",
    "lists.insert(0,2)"
   ]
  },
  {
   "cell_type": "code",
   "execution_count": 9,
   "id": "2a4d2c80",
   "metadata": {},
   "outputs": [
    {
     "data": {
      "text/plain": [
       "[2, [1, 4, 5], [1, 3, 4], [2, 6], 3]"
      ]
     },
     "execution_count": 9,
     "metadata": {},
     "output_type": "execute_result"
    }
   ],
   "source": [
    "lists\n"
   ]
  },
  {
   "cell_type": "code",
   "execution_count": null,
   "id": "10f2e71a",
   "metadata": {},
   "outputs": [],
   "source": [
    "import itertools \n",
    "lists=[[1,4,5],[1,3,4],[2,6],3]\n",
    "f=list(itertools.chain(*lists))\n",
    "f.sort()\n",
    "f"
   ]
  },
  {
   "cell_type": "code",
   "execution_count": 49,
   "id": "fbc370d7",
   "metadata": {},
   "outputs": [
    {
     "name": "stdout",
     "output_type": "stream",
     "text": [
      "xyzaa\n",
      "invalid\n"
     ]
    }
   ],
   "source": [
    "p=[chr(i) for i in range(97,123)]\n",
    "n=input()   # prst\n",
    "c=0\n",
    "for i in range(p.index(n[0]),p.index(n[0])+len(n)):    # z=122   ---123     #n[c]==p[i]\n",
    "\n",
    "    if n[c].lower()==p[i].lower():\n",
    "        c+=1\n",
    "        if p[i].lower()=='z':\n",
    "            break\n",
    "    else:\n",
    "        \n",
    "        break\n",
    "if c==len(n):\n",
    "    print('valid')\n",
    "else:\n",
    "    print('invalid')"
   ]
  },
  {
   "cell_type": "code",
   "execution_count": 56,
   "id": "0335de97",
   "metadata": {},
   "outputs": [
    {
     "data": {
      "text/plain": [
       "[1, 3, 6, 10, 15]"
      ]
     },
     "execution_count": 56,
     "metadata": {},
     "output_type": "execute_result"
    }
   ],
   "source": [
    "a=[1,2,3,4,5]\n",
    "for i,j in enumerate(a):\n",
    "    if i>0:\n",
    "        a[i]=a[i]+a[i-1]\n",
    "    else:\n",
    "        continue\n",
    "    \n",
    "    \n",
    "a        "
   ]
  },
  {
   "cell_type": "code",
   "execution_count": 1,
   "id": "e4b8121b",
   "metadata": {},
   "outputs": [],
   "source": [
    "#https://insights.blackcoffer.com/rise-of-telemedicine-and-its-impact-on-livelihood-by-2040-3-2/\n",
    "from urllib.request import urlopen"
   ]
  },
  {
   "cell_type": "code",
   "execution_count": 2,
   "id": "2e8db3ad",
   "metadata": {},
   "outputs": [],
   "source": [
    " url='https://insights.blackcoffer.com/rise-of-telemedicine-and-its-impact-on-livelihood-by-2040-3-2/'"
   ]
  },
  {
   "cell_type": "code",
   "execution_count": 3,
   "id": "88bce293",
   "metadata": {},
   "outputs": [],
   "source": [
    "page = urlopen(url)"
   ]
  },
  {
   "cell_type": "code",
   "execution_count": 4,
   "id": "377d5d78",
   "metadata": {},
   "outputs": [
    {
     "data": {
      "text/plain": [
       "<http.client.HTTPResponse at 0x2834f9771c0>"
      ]
     },
     "execution_count": 4,
     "metadata": {},
     "output_type": "execute_result"
    }
   ],
   "source": [
    "page"
   ]
  },
  {
   "cell_type": "code",
   "execution_count": 5,
   "id": "15eabbb9",
   "metadata": {},
   "outputs": [],
   "source": [
    "html_bytes = page.read()\n",
    "html = html_bytes.decode(\"utf-8\")"
   ]
  },
  {
   "cell_type": "code",
   "execution_count": 11,
   "id": "509e1a57",
   "metadata": {},
   "outputs": [
    {
     "name": "stdout",
     "output_type": "stream",
     "text": [
      "Requirement already satisfied: requests in c:\\users\\admin\\miniconda3\\lib\\site-packages (2.27.1)\n",
      "Requirement already satisfied: urllib3<1.27,>=1.21.1 in c:\\users\\admin\\miniconda3\\lib\\site-packages (from requests) (1.26.8)\n",
      "Requirement already satisfied: certifi>=2017.4.17 in c:\\users\\admin\\miniconda3\\lib\\site-packages (from requests) (2022.9.24)\n",
      "Requirement already satisfied: charset-normalizer~=2.0.0 in c:\\users\\admin\\miniconda3\\lib\\site-packages (from requests) (2.0.4)\n",
      "Requirement already satisfied: idna<4,>=2.5 in c:\\users\\admin\\miniconda3\\lib\\site-packages (from requests) (3.3)\n",
      "Requirement already satisfied: requests in c:\\users\\admin\\miniconda3\\lib\\site-packages (2.27.1)\n",
      "Requirement already satisfied: urllib3<1.27,>=1.21.1 in c:\\users\\admin\\miniconda3\\lib\\site-packages (from requests) (1.26.8)\n",
      "Requirement already satisfied: certifi>=2017.4.17 in c:\\users\\admin\\miniconda3\\lib\\site-packages (from requests) (2022.9.24)\n",
      "Requirement already satisfied: charset-normalizer~=2.0.0 in c:\\users\\admin\\miniconda3\\lib\\site-packages (from requests) (2.0.4)\n",
      "Requirement already satisfied: idna<4,>=2.5 in c:\\users\\admin\\miniconda3\\lib\\site-packages (from requests) (3.3)\n",
      "Note: you may need to restart the kernel to use updated packages.\n"
     ]
    }
   ],
   "source": [
    "pip install requests"
   ]
  },
  {
   "cell_type": "code",
   "execution_count": 13,
   "id": "bbba9464",
   "metadata": {},
   "outputs": [
    {
     "name": "stdout",
     "output_type": "stream",
     "text": [
      "Data from URL:\n",
      "<!doctype html >\r\n",
      "<!--[if IE 8]>    <html class=\"ie8\" lang=\"en\"> <![endif]-->\r\n",
      "<!--[if IE 9]>    <html class=\"ie9\" lang=\"en\"> <![endif]-->\r\n",
      "<!--[if gt IE 8]><!--> <html lang=\"en-US\"> <!--<![endif]-->\r\n",
      "<head>\r\n",
      "    <title>Rise of telemedicine and its Impact on Livelihood by 2040 - Blackcoffer Insights</title>\r\n",
      "    <meta charset=\"UTF-8\" />\r\n",
      "    <meta name=\"viewport\" content=\"width=device-width, initial-scale=1.0\">\r\n",
      "    <link rel=\"pingback\" href=\"https://insights.blackcoffer.com/xmlrpc.php\" />\r\n",
      "    <meta name='robots' content='index, follow, max-image-preview:large, max-snippet:-1, max-video-preview:-1' />\n",
      "\n",
      "\t<!-- This site is optimized with the Yoast SEO plugin v21.1 - https://yoast.com/wordpress/plugins/seo/ -->\n",
      "\t<meta name=\"description\" content=\"Telemedicine also has the potential to reduce healthcare costs. Can reduce the need for expensive hospital visits, that it can improve the patient experience\" />\n",
      "\t<link rel=\"canonical\" href=\"https://insights.blackcoffer.com/rise-of-telemedicine-and-its-impact-on-livelihood-by-2040-3-2/\" />\n",
      "\t<meta property=\"og:locale\" content=\"en_US\" />\n",
      "\t<meta property=\"og:type\" content=\"article\" />\n",
      "\t<meta property=\"og:title\" content=\"Rise of telemedicine and its Impact on Livelihood by 2040 - Blackcoffer Insights\" />\n",
      "\t<meta property=\"og:description\" content=\"Telemedicine also has the potential to reduce healthcare costs. Can reduce the need for expensive hospital visits, that it can improve the patient experience\" />\n",
      "\t<meta property=\"og:url\" content=\"https://insights.blackcoffer.com/rise-of-telemedicine-and-its-impact-on-livelihood-by-2040-3-2/\" />\n",
      "\t<meta property=\"og:site_name\" content=\"Blackcoffer Insights\" />\n",
      "\t<meta property=\"article:publisher\" content=\"https://www.facebook.com/blackcoffer.consulting\" />\n",
      "\t<meta property=\"article:published_time\" content=\"2023-01-02T15:15:14+00:00\" />\n",
      "\t<meta property=\"og:image\" content=\"https://insights.blackcoffer.com/wp-content/uploads/2023/01/fidovhj.jpg\" />\n",
      "\t<meta property=\"og:image:width\" content=\"1365\" />\n",
      "\t<meta property=\"og:image:height\" content=\"768\" />\n",
      "\t<meta property=\"og:image:type\" content=\"image/jpeg\" />\n",
      "\t<meta name=\"author\" content=\"Ajay Bidyarthy\" />\n",
      "\t<meta name=\"twitter:card\" content=\"summary_large_image\" />\n",
      "\t<meta name=\"twitter:creator\" content=\"@Blackcoffer1\" />\n",
      "\t<meta name=\"twitter:site\" content=\"@Blackcoffer1\" />\n",
      "\t<meta name=\"twitter:label1\" content=\"Written by\" />\n",
      "\t<meta name=\"twitter:data1\" content=\"Ajay Bidyarthy\" />\n",
      "\t<meta name=\"twitter:label2\" content=\"Est. reading time\" />\n",
      "\t<meta name=\"twitter:data2\" content=\"8 minutes\" />\n",
      "\t<script type=\"application/ld+json\" class=\"yoast-schema-graph\">{\"@context\":\"https://schema.org\",\"@graph\":[{\"@type\":\"Article\",\"@id\":\"https://insights.blackcoffer.com/rise-of-telemedicine-and-its-impact-on-livelihood-by-2040-3-2/#article\",\"isPartOf\":{\"@id\":\"https://insights.blackcoffer.com/rise-of-telemedicine-and-its-impact-on-livelihood-by-2040-3-2/\"},\"author\":{\"name\":\"Ajay Bidyarthy\",\"@id\":\"https://insights.blackcoffer.com/#/schema/person/0d4fd6036c1e876d151c7bad2abf5ab4\"},\"headline\":\"Rise of telemedicine and its Impact on Livelihood by 2040\",\"datePublished\":\"2023-01-02T15:15:14+00:00\",\"dateModified\":\"2023-01-02T15:15:14+00:00\",\"mainEntityOfPage\":{\"@id\":\"https://insights.blackcoffer.com/rise-of-telemedicine-and-its-impact-on-livelihood-by-2040-3-2/\"},\"wordCount\":1665,\"publisher\":{\"@id\":\"https://insights.blackcoffer.com/#organization\"},\"image\":{\"@id\":\"https://insights.blackcoffer.com/rise-of-telemedicine-and-its-impact-on-livelihood-by-2040-3-2/#primaryimage\"},\"thumbnailUrl\":\"https://insights.blackcoffer.com/wp-content/uploads/2023/01/fidovhj.jpg\",\"keywords\":[\"Better Care\",\"Economies\",\"Enhanced Healthcare Outcomes\",\"Flexibility\",\"Healthcare Convenience\",\"Job Opportunities\",\"Medical Facilities\",\"Reduced Healthcare Costs\",\"Telemedicine\"],\"articleSection\":[\"Blackcoffer\",\"Forecasts\",\"Future\",\"Health Care Equipment &amp; Services\",\"Pharmaceutical\",\"What We Think\"],\"inLanguage\":\"en-US\"},{\"@type\":\"WebPage\",\"@id\":\"https://insights.blackcoffer.com/rise-of-telemedicine-and-its-impact-on-livelihood-by-2040-3-2/\",\"url\":\"https://insights.blackcoffer.com/rise-of-telemedicine-and-its-impact-on-livelihood-by-2040-3-2/\",\"name\":\"Rise of telemedicine and its Impact on Livelihood by 2040 - Blackcoffer Insights\",\"isPartOf\":{\"@id\":\"https://insights.blackcoffer.com/#website\"},\"primaryImageOfPage\":{\"@id\":\"https://insights.blackcoffer.com/rise-of-telemedicine-and-its-impact-on-livelihood-by-2040-3-2/#primaryimage\"},\"image\":{\"@id\":\"https://insights.blackcoffer.com/rise-of-telemedicine-and-its-impact-on-livelihood-by-2040-3-2/#primaryimage\"},\"thumbnailUrl\":\"https://insights.blackcoffer.com/wp-content/uploads/2023/01/fidovhj.jpg\",\"datePublished\":\"2023-01-02T15:15:14+00:00\",\"dateModified\":\"2023-01-02T15:15:14+00:00\",\"description\":\"Telemedicine also has the potential to reduce healthcare costs. Can reduce the need for expensive hospital visits, that it can improve the patient experience\",\"breadcrumb\":{\"@id\":\"https://insights.blackcoffer.com/rise-of-telemedicine-and-its-impact-on-livelihood-by-2040-3-2/#breadcrumb\"},\"inLanguage\":\"en-US\",\"potentialAction\":[{\"@type\":\"ReadAction\",\"target\":[\"https://insights.blackcoffer.com/rise-of-telemedicine-and-its-impact-on-livelihood-by-2040-3-2/\"]}]},{\"@type\":\"ImageObject\",\"inLanguage\":\"en-US\",\"@id\":\"https://insights.blackcoffer.com/rise-of-telemedicine-and-its-impact-on-livelihood-by-2040-3-2/#primaryimage\",\"url\":\"https://insights.blackcoffer.com/wp-content/uploads/2023/01/fidovhj.jpg\",\"contentUrl\":\"https://insights.blackcoffer.com/wp-content/uploads/2023/01/fidovhj.jpg\",\"width\":1365,\"height\":768,\"caption\":\"Medical technology concept. Remote medicine. Electronic medical record.\"},{\"@type\":\"BreadcrumbList\",\"@id\":\"https://insights.blackcoffer.com/rise-of-telemedicine-and-its-impact-on-livelihood-by-2040-3-2/#breadcrumb\",\"itemListElement\":[{\"@type\":\"ListItem\",\"position\":1,\"name\":\"Home\",\"item\":\"https://insights.blackcoffer.com/\"},{\"@type\":\"ListItem\",\"position\":2,\"name\":\"Rise of telemedicine and its Impact on Livelihood by 2040\"}]},{\"@type\":\"WebSite\",\"@id\":\"https://insights.blackcoffer.com/#website\",\"url\":\"https://insights.blackcoffer.com/\",\"name\":\"Blackcoffer Insights\",\"description\":\"Delivering beautiful insights, future strategic foresight, industry trends, innovations, and experts thoughts\",\"publisher\":{\"@id\":\"https://insights.blackcoffer.com/#organization\"},\"potentialAction\":[{\"@type\":\"SearchAction\",\"target\":{\"@type\":\"EntryPoint\",\"urlTemplate\":\"https://insights.blackcoffer.com/?s={search_term_string}\"},\"query-input\":\"required name=search_term_string\"}],\"inLanguage\":\"en-US\"},{\"@type\":\"Organization\",\"@id\":\"https://insights.blackcoffer.com/#organization\",\"name\":\"Blackcoffer\",\"url\":\"https://insights.blackcoffer.com/\",\"logo\":{\"@type\":\"ImageObject\",\"inLanguage\":\"en-US\",\"@id\":\"https://insights.blackcoffer.com/#/schema/logo/image/\",\"url\":\"https://insights.blackcoffer.com/wp-content/uploads/2018/12/Black-720x172-Nobackground.png\",\"contentUrl\":\"https://insights.blackcoffer.com/wp-content/uploads/2018/12/Black-720x172-Nobackground.png\",\"width\":720,\"height\":172,\"caption\":\"Blackcoffer\"},\"image\":{\"@id\":\"https://insights.blackcoffer.com/#/schema/logo/image/\"},\"sameAs\":[\"https://www.facebook.com/blackcoffer.consulting\",\"https://twitter.com/Blackcoffer1\",\"https://www.linkedin.com/company-beta/13218008/\"]},{\"@type\":\"Person\",\"@id\":\"https://insights.blackcoffer.com/#/schema/person/0d4fd6036c1e876d151c7bad2abf5ab4\",\"name\":\"Ajay Bidyarthy\",\"url\":\"https://insights.blackcoffer.com/author/admin/\"}]}</script>\n",
      "\t<!-- / Yoast SEO plugin. -->\n",
      "\n",
      "\n",
      "<link rel='dns-prefetch' href='//fonts.googleapis.com' />\n",
      "<link rel=\"alternate\" type=\"application/rss+xml\" title=\"Blackcoffer Insights &raquo; Feed\" href=\"https://insights.blackcoffer.com/feed/\" />\n",
      "<link rel=\"alternate\" type=\"application/rss+xml\" title=\"Blackcoffer Insights &raquo; Comments Feed\" href=\"https://insights.blackcoffer.com/comments/feed/\" />\n",
      "<script type=\"text/javascript\">\n",
      "window._wpemojiSettings = {\"baseUrl\":\"https:\\/\\/s.w.org\\/images\\/core\\/emoji\\/14.0.0\\/72x72\\/\",\"ext\":\".png\",\"svgUrl\":\"https:\\/\\/s.w.org\\/images\\/core\\/emoji\\/14.0.0\\/svg\\/\",\"svgExt\":\".svg\",\"source\":{\"concatemoji\":\"https:\\/\\/insights.blackcoffer.com\\/wp-includes\\/js\\/wp-emoji-release.min.js?ver=6.1.3\"}};\n",
      "/*! This file is auto-generated */\n",
      "!function(e,a,t){var n,r,o,i=a.createElement(\"canvas\"),p=i.getContext&&i.getContext(\"2d\");function s(e,t){var a=String.fromCharCode,e=(p.clearRect(0,0,i.width,i.height),p.fillText(a.apply(this,e),0,0),i.toDataURL());return p.clearRect(0,0,i.width,i.height),p.fillText(a.apply(this,t),0,0),e===i.toDataURL()}function c(e){var t=a.createElement(\"script\");t.src=e,t.defer=t.type=\"text/javascript\",a.getElementsByTagName(\"head\")[0].appendChild(t)}for(o=Array(\"flag\",\"emoji\"),t.supports={everything:!0,everythingExceptFlag:!0},r=0;r<o.length;r++)t.supports[o[r]]=function(e){if(p&&p.fillText)switch(p.textBaseline=\"top\",p.font=\"600 32px Arial\",e){case\"flag\":return s([127987,65039,8205,9895,65039],[127987,65039,8203,9895,65039])?!1:!s([55356,56826,55356,56819],[55356,56826,8203,55356,56819])&&!s([55356,57332,56128,56423,56128,56418,56128,56421,56128,56430,56128,56423,56128,56447],[55356,57332,8203,56128,56423,8203,56128,56418,8203,56128,56421,8203,56128,56430,8203,56128,56423,8203,56128,56447]);case\"emoji\":return!s([129777,127995,8205,129778,127999],[129777,127995,8203,129778,127999])}return!1}(o[r]),t.supports.everything=t.supports.everything&&t.supports[o[r]],\"flag\"!==o[r]&&(t.supports.everythingExceptFlag=t.supports.everythingExceptFlag&&t.supports[o[r]]);t.supports.everythingExceptFlag=t.supports.everythingExceptFlag&&!t.supports.flag,t.DOMReady=!1,t.readyCallback=function(){t.DOMReady=!0},t.supports.everything||(n=function(){t.readyCallback()},a.addEventListener?(a.addEventListener(\"DOMContentLoaded\",n,!1),e.addEventListener(\"load\",n,!1)):(e.attachEvent(\"onload\",n),a.attachEvent(\"onreadystatechange\",function(){\"complete\"===a.readyState&&t.readyCallback()})),(e=t.source||{}).concatemoji?c(e.concatemoji):e.wpemoji&&e.twemoji&&(c(e.twemoji),c(e.wpemoji)))}(window,document,window._wpemojiSettings);\n",
      "</script>\n",
      "<style type=\"text/css\">\n",
      "img.wp-smiley,\n",
      "img.emoji {\n",
      "\tdisplay: inline !important;\n",
      "\tborder: none !important;\n",
      "\tbox-shadow: none !important;\n",
      "\theight: 1em !important;\n",
      "\twidth: 1em !important;\n",
      "\tmargin: 0 0.07em !important;\n",
      "\tvertical-align: -0.1em !important;\n",
      "\tbackground: none !important;\n",
      "\tpadding: 0 !important;\n",
      "}\n",
      "</style>\n",
      "\t<link rel='stylesheet' id='wp-block-library-css' href='https://insights.blackcoffer.com/wp-includes/css/dist/block-library/style.min.css?ver=6.1.3' type='text/css' media='all' />\n",
      "<link rel='stylesheet' id='classic-theme-styles-css' href='https://insights.blackcoffer.com/wp-includes/css/classic-themes.min.css?ver=1' type='text/css' media='all' />\n",
      "<style id='global-styles-inline-css' type='text/css'>\n",
      "body{--wp--preset--color--black: #000000;--wp--preset--color--cyan-bluish-gray: #abb8c3;--wp--preset--color--white: #ffffff;--wp--preset--color--pale-pink: #f78da7;--wp--preset--color--vivid-red: #cf2e2e;--wp--preset--color--luminous-vivid-orange: #ff6900;--wp--preset--color--luminous-vivid-amber: #fcb900;--wp--preset--color--light-green-cyan: #7bdcb5;--wp--preset--color--vivid-green-cyan: #00d084;--wp--preset--color--pale-cyan-blue: #8ed1fc;--wp--preset--color--vivid-cyan-blue: #0693e3;--wp--preset--color--vivid-purple: #9b51e0;--wp--preset--gradient--vivid-cyan-blue-to-vivid-purple: linear-gradient(135deg,rgba(6,147,227,1) 0%,rgb(155,81,224) 100%);--wp--preset--gradient--light-green-cyan-to-vivid-green-cyan: linear-gradient(135deg,rgb(122,220,180) 0%,rgb(0,208,130) 100%);--wp--preset--gradient--luminous-vivid-amber-to-luminous-vivid-orange: linear-gradient(135deg,rgba(252,185,0,1) 0%,rgba(255,105,0,1) 100%);--wp--preset--gradient--luminous-vivid-orange-to-vivid-red: linear-gradient(135deg,rgba(255,105,0,1) 0%,rgb(207,46,46) 100%);--wp--preset--gradient--very-light-gray-to-cyan-bluish-gray: linear-gradient(135deg,rgb(238,238,238) 0%,rgb(169,184,195) 100%);--wp--preset--gradient--cool-to-warm-spectrum: linear-gradient(135deg,rgb(74,234,220) 0%,rgb(151,120,209) 20%,rgb(207,42,186) 40%,rgb(238,44,130) 60%,rgb(251,105,98) 80%,rgb(254,248,76) 100%);--wp--preset--gradient--blush-light-purple: linear-gradient(135deg,rgb(255,206,236) 0%,rgb(152,150,240) 100%);--wp--preset--gradient--blush-bordeaux: linear-gradient(135deg,rgb(254,205,165) 0%,rgb(254,45,45) 50%,rgb(107,0,62) 100%);--wp--preset--gradient--luminous-dusk: linear-gradient(135deg,rgb(255,203,112) 0%,rgb(199,81,192) 50%,rgb(65,88,208) 100%);--wp--preset--gradient--pale-ocean: linear-gradient(135deg,rgb(255,245,203) 0%,rgb(182,227,212) 50%,rgb(51,167,181) 100%);--wp--preset--gradient--electric-grass: linear-gradient(135deg,rgb(202,248,128) 0%,rgb(113,206,126) 100%);--wp--preset--gradient--midnight: linear-gradient(135deg,rgb(2,3,129) 0%,rgb(40,116,252) 100%);--wp--preset--duotone--dark-grayscale: url('#wp-duotone-dark-grayscale');--wp--preset--duotone--grayscale: url('#wp-duotone-grayscale');--wp--preset--duotone--purple-yellow: url('#wp-duotone-purple-yellow');--wp--preset--duotone--blue-red: url('#wp-duotone-blue-red');--wp--preset--duotone--midnight: url('#wp-duotone-midnight');--wp--preset--duotone--magenta-yellow: url('#wp-duotone-magenta-yellow');--wp--preset--duotone--purple-green: url('#wp-duotone-purple-green');--wp--preset--duotone--blue-orange: url('#wp-duotone-blue-orange');--wp--preset--font-size--small: 11px;--wp--preset--font-size--medium: 20px;--wp--preset--font-size--large: 32px;--wp--preset--font-size--x-large: 42px;--wp--preset--font-size--regular: 15px;--wp--preset--font-size--larger: 50px;--wp--preset--spacing--20: 0.44rem;--wp--preset--spacing--30: 0.67rem;--wp--preset--spacing--40: 1rem;--wp--preset--spacing--50: 1.5rem;--wp--preset--spacing--60: 2.25rem;--wp--preset--spacing--70: 3.38rem;--wp--preset--spacing--80: 5.06rem;}:where(.is-layout-flex){gap: 0.5em;}body .is-layout-flow > .alignleft{float: left;margin-inline-start: 0;margin-inline-end: 2em;}body .is-layout-flow > .alignright{float: right;margin-inline-start: 2em;margin-inline-end: 0;}body .is-layout-flow > .aligncenter{margin-left: auto !important;margin-right: auto !important;}body .is-layout-constrained > .alignleft{float: left;margin-inline-start: 0;margin-inline-end: 2em;}body .is-layout-constrained > .alignright{float: right;margin-inline-start: 2em;margin-inline-end: 0;}body .is-layout-constrained > .aligncenter{margin-left: auto !important;margin-right: auto !important;}body .is-layout-constrained > :where(:not(.alignleft):not(.alignright):not(.alignfull)){max-width: var(--wp--style--global--content-size);margin-left: auto !important;margin-right: auto !important;}body .is-layout-constrained > .alignwide{max-width: var(--wp--style--global--wide-size);}body .is-layout-flex{display: flex;}body .is-layout-flex{flex-wrap: wrap;align-items: center;}body .is-layout-flex > *{margin: 0;}:where(.wp-block-columns.is-layout-flex){gap: 2em;}.has-black-color{color: var(--wp--preset--color--black) !important;}.has-cyan-bluish-gray-color{color: var(--wp--preset--color--cyan-bluish-gray) !important;}.has-white-color{color: var(--wp--preset--color--white) !important;}.has-pale-pink-color{color: var(--wp--preset--color--pale-pink) !important;}.has-vivid-red-color{color: var(--wp--preset--color--vivid-red) !important;}.has-luminous-vivid-orange-color{color: var(--wp--preset--color--luminous-vivid-orange) !important;}.has-luminous-vivid-amber-color{color: var(--wp--preset--color--luminous-vivid-amber) !important;}.has-light-green-cyan-color{color: var(--wp--preset--color--light-green-cyan) !important;}.has-vivid-green-cyan-color{color: var(--wp--preset--color--vivid-green-cyan) !important;}.has-pale-cyan-blue-color{color: var(--wp--preset--color--pale-cyan-blue) !important;}.has-vivid-cyan-blue-color{color: var(--wp--preset--color--vivid-cyan-blue) !important;}.has-vivid-purple-color{color: var(--wp--preset--color--vivid-purple) !important;}.has-black-background-color{background-color: var(--wp--preset--color--black) !important;}.has-cyan-bluish-gray-background-color{background-color: var(--wp--preset--color--cyan-bluish-gray) !important;}.has-white-background-color{background-color: var(--wp--preset--color--white) !important;}.has-pale-pink-background-color{background-color: var(--wp--preset--color--pale-pink) !important;}.has-vivid-red-background-color{background-color: var(--wp--preset--color--vivid-red) !important;}.has-luminous-vivid-orange-background-color{background-color: var(--wp--preset--color--luminous-vivid-orange) !important;}.has-luminous-vivid-amber-background-color{background-color: var(--wp--preset--color--luminous-vivid-amber) !important;}.has-light-green-cyan-background-color{background-color: var(--wp--preset--color--light-green-cyan) !important;}.has-vivid-green-cyan-background-color{background-color: var(--wp--preset--color--vivid-green-cyan) !important;}.has-pale-cyan-blue-background-color{background-color: var(--wp--preset--color--pale-cyan-blue) !important;}.has-vivid-cyan-blue-background-color{background-color: var(--wp--preset--color--vivid-cyan-blue) !important;}.has-vivid-purple-background-color{background-color: var(--wp--preset--color--vivid-purple) !important;}.has-black-border-color{border-color: var(--wp--preset--color--black) !important;}.has-cyan-bluish-gray-border-color{border-color: var(--wp--preset--color--cyan-bluish-gray) !important;}.has-white-border-color{border-color: var(--wp--preset--color--white) !important;}.has-pale-pink-border-color{border-color: var(--wp--preset--color--pale-pink) !important;}.has-vivid-red-border-color{border-color: var(--wp--preset--color--vivid-red) !important;}.has-luminous-vivid-orange-border-color{border-color: var(--wp--preset--color--luminous-vivid-orange) !important;}.has-luminous-vivid-amber-border-color{border-color: var(--wp--preset--color--luminous-vivid-amber) !important;}.has-light-green-cyan-border-color{border-color: var(--wp--preset--color--light-green-cyan) !important;}.has-vivid-green-cyan-border-color{border-color: var(--wp--preset--color--vivid-green-cyan) !important;}.has-pale-cyan-blue-border-color{border-color: var(--wp--preset--color--pale-cyan-blue) !important;}.has-vivid-cyan-blue-border-color{border-color: var(--wp--preset--color--vivid-cyan-blue) !important;}.has-vivid-purple-border-color{border-color: var(--wp--preset--color--vivid-purple) !important;}.has-vivid-cyan-blue-to-vivid-purple-gradient-background{background: var(--wp--preset--gradient--vivid-cyan-blue-to-vivid-purple) !important;}.has-light-green-cyan-to-vivid-green-cyan-gradient-background{background: var(--wp--preset--gradient--light-green-cyan-to-vivid-green-cyan) !important;}.has-luminous-vivid-amber-to-luminous-vivid-orange-gradient-background{background: var(--wp--preset--gradient--luminous-vivid-amber-to-luminous-vivid-orange) !important;}.has-luminous-vivid-orange-to-vivid-red-gradient-background{background: var(--wp--preset--gradient--luminous-vivid-orange-to-vivid-red) !important;}.has-very-light-gray-to-cyan-bluish-gray-gradient-background{background: var(--wp--preset--gradient--very-light-gray-to-cyan-bluish-gray) !important;}.has-cool-to-warm-spectrum-gradient-background{background: var(--wp--preset--gradient--cool-to-warm-spectrum) !important;}.has-blush-light-purple-gradient-background{background: var(--wp--preset--gradient--blush-light-purple) !important;}.has-blush-bordeaux-gradient-background{background: var(--wp--preset--gradient--blush-bordeaux) !important;}.has-luminous-dusk-gradient-background{background: var(--wp--preset--gradient--luminous-dusk) !important;}.has-pale-ocean-gradient-background{background: var(--wp--preset--gradient--pale-ocean) !important;}.has-electric-grass-gradient-background{background: var(--wp--preset--gradient--electric-grass) !important;}.has-midnight-gradient-background{background: var(--wp--preset--gradient--midnight) !important;}.has-small-font-size{font-size: var(--wp--preset--font-size--small) !important;}.has-medium-font-size{font-size: var(--wp--preset--font-size--medium) !important;}.has-large-font-size{font-size: var(--wp--preset--font-size--large) !important;}.has-x-large-font-size{font-size: var(--wp--preset--font-size--x-large) !important;}\n",
      ".wp-block-navigation a:where(:not(.wp-element-button)){color: inherit;}\n",
      ":where(.wp-block-columns.is-layout-flex){gap: 2em;}\n",
      ".wp-block-pullquote{font-size: 1.5em;line-height: 1.6;}\n",
      "</style>\n",
      "<link rel='stylesheet' id='td-plugin-newsletter-css' href='https://insights.blackcoffer.com/wp-content/plugins/td-newsletter/style.css?ver=12.5.1' type='text/css' media='all' />\n",
      "<link rel='stylesheet' id='td-plugin-multi-purpose-css' href='https://insights.blackcoffer.com/wp-content/plugins/td-composer/td-multi-purpose/style.css?ver=e12b81d6cbdf467845997a891495df2cx' type='text/css' media='all' />\n",
      "<link rel='stylesheet' id='google-fonts-style-css' href='https://fonts.googleapis.com/css?family=Open+Sans%3A400%2C600%2C700%2C300%7CRoboto%3A400%2C500%2C700%2C300&#038;display=swap&#038;ver=12.5.1' type='text/css' media='all' />\n",
      "<link rel='stylesheet' id='tds-front-css' href='https://insights.blackcoffer.com/wp-content/plugins/td-subscription/assets/css/tds-front.css?ver=1.4.4' type='text/css' media='all' />\n",
      "<link rel='stylesheet' id='td-theme-css' href='https://insights.blackcoffer.com/wp-content/themes/Newspaper/style.css?ver=12.5.1' type='text/css' media='all' />\n",
      "<style id='td-theme-inline-css' type='text/css'>\n",
      "    \r\n",
      "        @media (max-width: 767px) {\r\n",
      "            .td-header-desktop-wrap {\r\n",
      "                display: none;\r\n",
      "            }\r\n",
      "        }\r\n",
      "        @media (min-width: 767px) {\r\n",
      "            .td-header-mobile-wrap {\r\n",
      "                display: none;\r\n",
      "            }\r\n",
      "        }\r\n",
      "    \r\n",
      "\t\n",
      "</style>\n",
      "<link rel='stylesheet' id='td-legacy-framework-front-style-css' href='https://insights.blackcoffer.com/wp-content/plugins/td-composer/legacy/Newspaper/assets/css/td_legacy_main.css?ver=e12b81d6cbdf467845997a891495df2cx' type='text/css' media='all' />\n",
      "<link rel='stylesheet' id='td-standard-pack-framework-front-style-css' href='https://insights.blackcoffer.com/wp-content/plugins/td-standard-pack/Newspaper/assets/css/td_standard_pack_main.css?ver=ea43e379b839e31c21a92e9daeba4b6d' type='text/css' media='all' />\n",
      "<link rel='stylesheet' id='tdb_style_cloud_templates_front-css' href='https://insights.blackcoffer.com/wp-content/plugins/td-cloud-library/assets/css/tdb_main.css?ver=0390de2d4222fae8efaeae107c326a4e' type='text/css' media='all' />\n",
      "<script type='text/javascript' src='https://insights.blackcoffer.com/wp-includes/js/jquery/jquery.min.js?ver=3.6.1' id='jquery-core-js'></script>\n",
      "<script type='text/javascript' src='https://insights.blackcoffer.com/wp-includes/js/jquery/jquery-migrate.min.js?ver=3.3.2' id='jquery-migrate-js'></script>\n",
      "<link rel=\"https://api.w.org/\" href=\"https://insights.blackcoffer.com/wp-json/\" /><link rel=\"alternate\" type=\"application/json\" href=\"https://insights.blackcoffer.com/wp-json/wp/v2/posts/5021\" /><link rel=\"EditURI\" type=\"application/rsd+xml\" title=\"RSD\" href=\"https://insights.blackcoffer.com/xmlrpc.php?rsd\" />\n",
      "<link rel=\"wlwmanifest\" type=\"application/wlwmanifest+xml\" href=\"https://insights.blackcoffer.com/wp-includes/wlwmanifest.xml\" />\n",
      "<meta name=\"generator\" content=\"WordPress 6.1.3\" />\n",
      "<link rel='shortlink' href='https://insights.blackcoffer.com/?p=5021' />\n",
      "<link rel=\"alternate\" type=\"application/json+oembed\" href=\"https://insights.blackcoffer.com/wp-json/oembed/1.0/embed?url=https%3A%2F%2Finsights.blackcoffer.com%2Frise-of-telemedicine-and-its-impact-on-livelihood-by-2040-3-2%2F\" />\n",
      "<link rel=\"alternate\" type=\"text/xml+oembed\" href=\"https://insights.blackcoffer.com/wp-json/oembed/1.0/embed?url=https%3A%2F%2Finsights.blackcoffer.com%2Frise-of-telemedicine-and-its-impact-on-livelihood-by-2040-3-2%2F&#038;format=xml\" />\n",
      "<!--[if lt IE 9]><script src=\"https://cdnjs.cloudflare.com/ajax/libs/html5shiv/3.7.3/html5shiv.js\"></script><![endif]-->\r\n",
      "        <script>\r\n",
      "        window.tdb_global_vars = {\"wpRestUrl\":\"https:\\/\\/insights.blackcoffer.com\\/wp-json\\/\",\"permalinkStructure\":\"\\/%postname%\\/\"};\r\n",
      "        window.tdb_p_autoload_vars = {\"isAjax\":false,\"isAdminBarShowing\":false,\"autoloadScrollPercent\":20,\"postAutoloadStatus\":\"off\",\"origPostEditUrl\":null};\r\n",
      "    </script>\r\n",
      "    \n",
      "    <style id=\"tdb-global-colors\">\r\n",
      "        :root {--accent-color: #fff;}\n",
      "    </style>\r\n",
      "\t\n",
      "<meta name=\"generator\" content=\"Powered by Slider Revolution 6.6.10 - responsive, Mobile-Friendly Slider Plugin for WordPress with comfortable drag and drop interface.\" />\n",
      "\n",
      "<!-- JS generated by theme -->\n",
      "\n",
      "<script>\n",
      "    \n",
      "    \r\n",
      "\r\n",
      "\t    var tdBlocksArray = []; //here we store all the items for the current page\r\n",
      "\r\n",
      "\t    // td_block class - each ajax block uses a object of this class for requests\r\n",
      "\t    function tdBlock() {\r\n",
      "\t\t    this.id = '';\r\n",
      "\t\t    this.block_type = 1; //block type id (1-234 etc)\r\n",
      "\t\t    this.atts = '';\r\n",
      "\t\t    this.td_column_number = '';\r\n",
      "\t\t    this.td_current_page = 1; //\r\n",
      "\t\t    this.post_count = 0; //from wp\r\n",
      "\t\t    this.found_posts = 0; //from wp\r\n",
      "\t\t    this.max_num_pages = 0; //from wp\r\n",
      "\t\t    this.td_filter_value = ''; //current live filter value\r\n",
      "\t\t    this.is_ajax_running = false;\r\n",
      "\t\t    this.td_user_action = ''; // load more or infinite loader (used by the animation)\r\n",
      "\t\t    this.header_color = '';\r\n",
      "\t\t    this.ajax_pagination_infinite_stop = ''; //show load more at page x\r\n",
      "\t    }\r\n",
      "\r\n",
      "        // td_js_generator - mini detector\r\n",
      "        ( function () {\r\n",
      "            var htmlTag = document.getElementsByTagName(\"html\")[0];\r\n",
      "\r\n",
      "\t        if ( navigator.userAgent.indexOf(\"MSIE 10.0\") > -1 ) {\r\n",
      "                htmlTag.className += ' ie10';\r\n",
      "            }\r\n",
      "\r\n",
      "            if ( !!navigator.userAgent.match(/Trident.*rv\\:11\\./) ) {\r\n",
      "                htmlTag.className += ' ie11';\r\n",
      "            }\r\n",
      "\r\n",
      "\t        if ( navigator.userAgent.indexOf(\"Edge\") > -1 ) {\r\n",
      "                htmlTag.className += ' ieEdge';\r\n",
      "            }\r\n",
      "\r\n",
      "            if ( /(iPad|iPhone|iPod)/g.test(navigator.userAgent) ) {\r\n",
      "                htmlTag.className += ' td-md-is-ios';\r\n",
      "            }\r\n",
      "\r\n",
      "            var user_agent = navigator.userAgent.toLowerCase();\r\n",
      "            if ( user_agent.indexOf(\"android\") > -1 ) {\r\n",
      "                htmlTag.className += ' td-md-is-android';\r\n",
      "            }\r\n",
      "\r\n",
      "            if ( -1 !== navigator.userAgent.indexOf('Mac OS X')  ) {\r\n",
      "                htmlTag.className += ' td-md-is-os-x';\r\n",
      "            }\r\n",
      "\r\n",
      "            if ( /chrom(e|ium)/.test(navigator.userAgent.toLowerCase()) ) {\r\n",
      "               htmlTag.className += ' td-md-is-chrome';\r\n",
      "            }\r\n",
      "\r\n",
      "            if ( -1 !== navigator.userAgent.indexOf('Firefox') ) {\r\n",
      "                htmlTag.className += ' td-md-is-firefox';\r\n",
      "            }\r\n",
      "\r\n",
      "            if ( -1 !== navigator.userAgent.indexOf('Safari') && -1 === navigator.userAgent.indexOf('Chrome') ) {\r\n",
      "                htmlTag.className += ' td-md-is-safari';\r\n",
      "            }\r\n",
      "\r\n",
      "            if( -1 !== navigator.userAgent.indexOf('IEMobile') ){\r\n",
      "                htmlTag.className += ' td-md-is-iemobile';\r\n",
      "            }\r\n",
      "\r\n",
      "        })();\r\n",
      "\r\n",
      "        var tdLocalCache = {};\r\n",
      "\r\n",
      "        ( function () {\r\n",
      "            \"use strict\";\r\n",
      "\r\n",
      "            tdLocalCache = {\r\n",
      "                data: {},\r\n",
      "                remove: function (resource_id) {\r\n",
      "                    delete tdLocalCache.data[resource_id];\r\n",
      "                },\r\n",
      "                exist: function (resource_id) {\r\n",
      "                    return tdLocalCache.data.hasOwnProperty(resource_id) && tdLocalCache.data[resource_id] !== null;\r\n",
      "                },\r\n",
      "                get: function (resource_id) {\r\n",
      "                    return tdLocalCache.data[resource_id];\r\n",
      "                },\r\n",
      "                set: function (resource_id, cachedData) {\r\n",
      "                    tdLocalCache.remove(resource_id);\r\n",
      "                    tdLocalCache.data[resource_id] = cachedData;\r\n",
      "                }\r\n",
      "            };\r\n",
      "        })();\r\n",
      "\r\n",
      "    \r\n",
      "    \n",
      "var td_viewport_interval_list=[{\"limitBottom\":767,\"sidebarWidth\":228},{\"limitBottom\":1018,\"sidebarWidth\":300},{\"limitBottom\":1140,\"sidebarWidth\":324}];\n",
      "var td_animation_stack_effect=\"type0\";\n",
      "var tds_animation_stack=true;\n",
      "var td_animation_stack_specific_selectors=\".entry-thumb, img, .td-lazy-img\";\n",
      "var td_animation_stack_general_selectors=\".td-animation-stack img, .td-animation-stack .entry-thumb, .post img, .td-animation-stack .td-lazy-img\";\n",
      "var tds_general_modal_image=\"yes\";\n",
      "var tdc_is_installed=\"yes\";\n",
      "var td_ajax_url=\"https:\\/\\/insights.blackcoffer.com\\/wp-admin\\/admin-ajax.php?td_theme_name=Newspaper&v=12.5.1\";\n",
      "var td_get_template_directory_uri=\"https:\\/\\/insights.blackcoffer.com\\/wp-content\\/plugins\\/td-composer\\/legacy\\/common\";\n",
      "var tds_snap_menu=\"\";\n",
      "var tds_logo_on_sticky=\"\";\n",
      "var tds_header_style=\"\";\n",
      "var td_please_wait=\"Please wait...\";\n",
      "var td_email_user_pass_incorrect=\"User or password incorrect!\";\n",
      "var td_email_user_incorrect=\"Email or username incorrect!\";\n",
      "var td_email_incorrect=\"Email incorrect!\";\n",
      "var td_user_incorrect=\"Username incorrect!\";\n",
      "var td_email_user_empty=\"Email or username empty!\";\n",
      "var td_pass_empty=\"Pass empty!\";\n",
      "var td_pass_pattern_incorrect=\"Invalid Pass Pattern!\";\n",
      "var td_retype_pass_incorrect=\"Retyped Pass incorrect!\";\n",
      "var tds_more_articles_on_post_enable=\"\";\n",
      "var tds_more_articles_on_post_time_to_wait=\"\";\n",
      "var tds_more_articles_on_post_pages_distance_from_top=0;\n",
      "var tds_theme_color_site_wide=\"#4db2ec\";\n",
      "var tds_smart_sidebar=\"enabled\";\n",
      "var tdThemeName=\"Newspaper\";\n",
      "var tdThemeNameWl=\"Newspaper\";\n",
      "var td_magnific_popup_translation_tPrev=\"Previous (Left arrow key)\";\n",
      "var td_magnific_popup_translation_tNext=\"Next (Right arrow key)\";\n",
      "var td_magnific_popup_translation_tCounter=\"%curr% of %total%\";\n",
      "var td_magnific_popup_translation_ajax_tError=\"The content from %url% could not be loaded.\";\n",
      "var td_magnific_popup_translation_image_tError=\"The image #%curr% could not be loaded.\";\n",
      "var tdBlockNonce=\"d2a0533780\";\n",
      "var tdDateNamesI18n={\"month_names\":[\"January\",\"February\",\"March\",\"April\",\"May\",\"June\",\"July\",\"August\",\"September\",\"October\",\"November\",\"December\"],\"month_names_short\":[\"Jan\",\"Feb\",\"Mar\",\"Apr\",\"May\",\"Jun\",\"Jul\",\"Aug\",\"Sep\",\"Oct\",\"Nov\",\"Dec\"],\"day_names\":[\"Sunday\",\"Monday\",\"Tuesday\",\"Wednesday\",\"Thursday\",\"Friday\",\"Saturday\"],\"day_names_short\":[\"Sun\",\"Mon\",\"Tue\",\"Wed\",\"Thu\",\"Fri\",\"Sat\"]};\n",
      "var td_reset_pass_empty=\"Please enter a new password before proceeding.\";\n",
      "var td_reset_pass_confirm_empty=\"Please confirm the new password before proceeding.\";\n",
      "var td_reset_pass_not_matching=\"Please make sure that the passwords match.\";\n",
      "var tdb_modal_confirm=\"Save\";\n",
      "var tdb_modal_cancel=\"Cancel\";\n",
      "var tdb_modal_confirm_alt=\"Yes\";\n",
      "var tdb_modal_cancel_alt=\"No\";\n",
      "var td_ad_background_click_link=\"\";\n",
      "var td_ad_background_click_target=\"\";\n",
      "</script>\n",
      "\n",
      "\n",
      "<!-- Header style compiled by theme -->\n",
      "\n",
      "<style>\n",
      "    \n",
      ".td-menu-background:before,\r\n",
      "    .td-search-background:before {\r\n",
      "        background: rgba(0,0,0,0.5);\r\n",
      "        background: -moz-linear-gradient(top, rgba(0,0,0,0.5) 0%, rgba(0,0,0,0.6) 100%);\r\n",
      "        background: -webkit-gradient(left top, left bottom, color-stop(0%, rgba(0,0,0,0.5)), color-stop(100%, rgba(0,0,0,0.6)));\r\n",
      "        background: -webkit-linear-gradient(top, rgba(0,0,0,0.5) 0%, rgba(0,0,0,0.6) 100%);\r\n",
      "        background: -o-linear-gradient(top, rgba(0,0,0,0.5) 0%, rgba(0,0,0,0.6) 100%);\r\n",
      "        background: -ms-linear-gradient(top, rgba(0,0,0,0.5) 0%, rgba(0,0,0,0.6) 100%);\r\n",
      "        background: linear-gradient(to bottom, rgba(0,0,0,0.5) 0%, rgba(0,0,0,0.6) 100%);\r\n",
      "        filter: progid:DXImageTransform.Microsoft.gradient( startColorstr='rgba(0,0,0,0.5)', endColorstr='rgba(0,0,0,0.6)', GradientType=0 );\r\n",
      "    }\n",
      ".td-menu-background:before,\r\n",
      "    .td-search-background:before {\r\n",
      "        background: rgba(0,0,0,0.5);\r\n",
      "        background: -moz-linear-gradient(top, rgba(0,0,0,0.5) 0%, rgba(0,0,0,0.6) 100%);\r\n",
      "        background: -webkit-gradient(left top, left bottom, color-stop(0%, rgba(0,0,0,0.5)), color-stop(100%, rgba(0,0,0,0.6)));\r\n",
      "        background: -webkit-linear-gradient(top, rgba(0,0,0,0.5) 0%, rgba(0,0,0,0.6) 100%);\r\n",
      "        background: -o-linear-gradient(top, rgba(0,0,0,0.5) 0%, rgba(0,0,0,0.6) 100%);\r\n",
      "        background: -ms-linear-gradient(top, rgba(0,0,0,0.5) 0%, rgba(0,0,0,0.6) 100%);\r\n",
      "        background: linear-gradient(to bottom, rgba(0,0,0,0.5) 0%, rgba(0,0,0,0.6) 100%);\r\n",
      "        filter: progid:DXImageTransform.Microsoft.gradient( startColorstr='rgba(0,0,0,0.5)', endColorstr='rgba(0,0,0,0.6)', GradientType=0 );\r\n",
      "    }\n",
      "</style>\n",
      "\n",
      "\n",
      "\n",
      "\r\n",
      "<script type=\"application/ld+json\">\r\n",
      "    {\r\n",
      "        \"@context\": \"https://schema.org\",\r\n",
      "        \"@type\": \"BreadcrumbList\",\r\n",
      "        \"itemListElement\": [\r\n",
      "            {\r\n",
      "                \"@type\": \"ListItem\",\r\n",
      "                \"position\": 1,\r\n",
      "                \"item\": {\r\n",
      "                    \"@type\": \"WebSite\",\r\n",
      "                    \"@id\": \"https://insights.blackcoffer.com/\",\r\n",
      "                    \"name\": \"Home\"\r\n",
      "                }\r\n",
      "            },\r\n",
      "            {\r\n",
      "                \"@type\": \"ListItem\",\r\n",
      "                \"position\": 2,\r\n",
      "                    \"item\": {\r\n",
      "                    \"@type\": \"WebPage\",\r\n",
      "                    \"@id\": \"https://insights.blackcoffer.com/category/what-we-think/\",\r\n",
      "                    \"name\": \"What We Think\"\r\n",
      "                }\r\n",
      "            }\r\n",
      "            ,{\r\n",
      "                \"@type\": \"ListItem\",\r\n",
      "                \"position\": 3,\r\n",
      "                    \"item\": {\r\n",
      "                    \"@type\": \"WebPage\",\r\n",
      "                    \"@id\": \"https://insights.blackcoffer.com/rise-of-telemedicine-and-its-impact-on-livelihood-by-2040-3-2/\",\r\n",
      "                    \"name\": \"Rise of telemedicine and its Impact on Livelihood by 2040\"                                \r\n",
      "                }\r\n",
      "            }    \r\n",
      "        ]\r\n",
      "    }\r\n",
      "</script>\n",
      "<link rel=\"icon\" href=\"https://insights.blackcoffer.com/wp-content/uploads/2018/06/Black-432x466-v02-150x150.png\" sizes=\"32x32\" />\n",
      "<link rel=\"icon\" href=\"https://insights.blackcoffer.com/wp-content/uploads/2018/06/Black-432x466-v02.png\" sizes=\"192x192\" />\n",
      "<link rel=\"apple-touch-icon\" href=\"https://insights.blackcoffer.com/wp-content/uploads/2018/06/Black-432x466-v02.png\" />\n",
      "<meta name=\"msapplication-TileImage\" content=\"https://insights.blackcoffer.com/wp-content/uploads/2018/06/Black-432x466-v02.png\" />\n",
      "<script>function setREVStartSize(e){\r\n",
      "\t\t\t//window.requestAnimationFrame(function() {\r\n",
      "\t\t\t\twindow.RSIW = window.RSIW===undefined ? window.innerWidth : window.RSIW;\r\n",
      "\t\t\t\twindow.RSIH = window.RSIH===undefined ? window.innerHeight : window.RSIH;\r\n",
      "\t\t\t\ttry {\r\n",
      "\t\t\t\t\tvar pw = document.getElementById(e.c).parentNode.offsetWidth,\r\n",
      "\t\t\t\t\t\tnewh;\r\n",
      "\t\t\t\t\tpw = pw===0 || isNaN(pw) || (e.l==\"fullwidth\" || e.layout==\"fullwidth\") ? window.RSIW : pw;\r\n",
      "\t\t\t\t\te.tabw = e.tabw===undefined ? 0 : parseInt(e.tabw);\r\n",
      "\t\t\t\t\te.thumbw = e.thumbw===undefined ? 0 : parseInt(e.thumbw);\r\n",
      "\t\t\t\t\te.tabh = e.tabh===undefined ? 0 : parseInt(e.tabh);\r\n",
      "\t\t\t\t\te.thumbh = e.thumbh===undefined ? 0 : parseInt(e.thumbh);\r\n",
      "\t\t\t\t\te.tabhide = e.tabhide===undefined ? 0 : parseInt(e.tabhide);\r\n",
      "\t\t\t\t\te.thumbhide = e.thumbhide===undefined ? 0 : parseInt(e.thumbhide);\r\n",
      "\t\t\t\t\te.mh = e.mh===undefined || e.mh==\"\" || e.mh===\"auto\" ? 0 : parseInt(e.mh,0);\r\n",
      "\t\t\t\t\tif(e.layout===\"fullscreen\" || e.l===\"fullscreen\")\r\n",
      "\t\t\t\t\t\tnewh = Math.max(e.mh,window.RSIH);\r\n",
      "\t\t\t\t\telse{\r\n",
      "\t\t\t\t\t\te.gw = Array.isArray(e.gw) ? e.gw : [e.gw];\r\n",
      "\t\t\t\t\t\tfor (var i in e.rl) if (e.gw[i]===undefined || e.gw[i]===0) e.gw[i] = e.gw[i-1];\r\n",
      "\t\t\t\t\t\te.gh = e.el===undefined || e.el===\"\" || (Array.isArray(e.el) && e.el.length==0)? e.gh : e.el;\r\n",
      "\t\t\t\t\t\te.gh = Array.isArray(e.gh) ? e.gh : [e.gh];\r\n",
      "\t\t\t\t\t\tfor (var i in e.rl) if (e.gh[i]===undefined || e.gh[i]===0) e.gh[i] = e.gh[i-1];\r\n",
      "\t\t\t\t\t\t\t\t\t\t\t\r\n",
      "\t\t\t\t\t\tvar nl = new Array(e.rl.length),\r\n",
      "\t\t\t\t\t\t\tix = 0,\r\n",
      "\t\t\t\t\t\t\tsl;\r\n",
      "\t\t\t\t\t\te.tabw = e.tabhide>=pw ? 0 : e.tabw;\r\n",
      "\t\t\t\t\t\te.thumbw = e.thumbhide>=pw ? 0 : e.thumbw;\r\n",
      "\t\t\t\t\t\te.tabh = e.tabhide>=pw ? 0 : e.tabh;\r\n",
      "\t\t\t\t\t\te.thumbh = e.thumbhide>=pw ? 0 : e.thumbh;\r\n",
      "\t\t\t\t\t\tfor (var i in e.rl) nl[i] = e.rl[i]<window.RSIW ? 0 : e.rl[i];\r\n",
      "\t\t\t\t\t\tsl = nl[0];\r\n",
      "\t\t\t\t\t\tfor (var i in nl) if (sl>nl[i] && nl[i]>0) { sl = nl[i]; ix=i;}\r\n",
      "\t\t\t\t\t\tvar m = pw>(e.gw[ix]+e.tabw+e.thumbw) ? 1 : (pw-(e.tabw+e.thumbw)) / (e.gw[ix]);\r\n",
      "\t\t\t\t\t\tnewh =  (e.gh[ix] * m) + (e.tabh + e.thumbh);\r\n",
      "\t\t\t\t\t}\r\n",
      "\t\t\t\t\tvar el = document.getElementById(e.c);\r\n",
      "\t\t\t\t\tif (el!==null && el) el.style.height = newh+\"px\";\r\n",
      "\t\t\t\t\tel = document.getElementById(e.c+\"_wrapper\");\r\n",
      "\t\t\t\t\tif (el!==null && el) {\r\n",
      "\t\t\t\t\t\tel.style.height = newh+\"px\";\r\n",
      "\t\t\t\t\t\tel.style.display = \"block\";\r\n",
      "\t\t\t\t\t}\r\n",
      "\t\t\t\t} catch(e){\r\n",
      "\t\t\t\t\tconsole.log(\"Failure at Presize of Slider:\" + e)\r\n",
      "\t\t\t\t}\r\n",
      "\t\t\t//});\r\n",
      "\t\t  };</script>\n",
      "\t\t<style type=\"text/css\" id=\"wp-custom-css\">\n",
      "\t\t\t#tdi_1{\n",
      "\tbackground:white !important;\n",
      "}\n",
      "li:nth-child(8) span.td-cat-name\n",
      "{\n",
      "\tfont-size:13px;\n",
      "}\n",
      "li:nth-child(10) span.td-cat-name\n",
      "{\n",
      "\tfont-size:13px;\n",
      "}\t\t</style>\n",
      "\t\t\n",
      "<!-- Button style compiled by theme -->\n",
      "\n",
      "<style>\n",
      "    \n",
      "</style>\n",
      "\n",
      "\t<style id=\"tdw-css-placeholder\">.td-big-grid-wrapper .entry-thumb {\r\n",
      "  width: 100% !important;\r\n",
      "  height: 100% !important;\r\n",
      "  object-fit: cover !important;\r\n",
      "}\r\n",
      ".image div.td-all-devices a img {\r\n",
      "  margin: -46px 0 !important;\r\n",
      "}\r\n",
      "</style></head>\r\n",
      "\r\n",
      "<body class=\"post-template-default single single-post postid-5021 single-format-standard td-standard-pack rise-of-telemedicine-and-its-impact-on-livelihood-by-2040-3-2 global-block-template-1 single_template_7  tdc-header-template  tdc-footer-template td-animation-stack-type0 td-full-layout\" itemscope=\"itemscope\" itemtype=\"https://schema.org/WebPage\">\r\n",
      "\r\n",
      "            <div class=\"td-scroll-up  td-hide-scroll-up-on-mob\" style=\"display:none;\"><i class=\"td-icon-menu-up\"></i></div>\r\n",
      "    \r\n",
      "    <div class=\"td-menu-background\" style=\"visibility:hidden\"></div>\r\n",
      "<div id=\"td-mobile-nav\" style=\"visibility:hidden\">\r\n",
      "    <div class=\"td-mobile-container\">\r\n",
      "        <!-- mobile menu top section -->\r\n",
      "        <div class=\"td-menu-socials-wrap\">\r\n",
      "            <!-- socials -->\r\n",
      "            <div class=\"td-menu-socials\">\r\n",
      "                            </div>\r\n",
      "            <!-- close button -->\r\n",
      "            <div class=\"td-mobile-close\">\r\n",
      "                <span><i class=\"td-icon-close-mobile\"></i></span>\r\n",
      "            </div>\r\n",
      "        </div>\r\n",
      "\r\n",
      "        <!-- login section -->\r\n",
      "                    <div class=\"td-menu-login-section\">\r\n",
      "                \r\n",
      "    <div class=\"td-guest-wrap\">\r\n",
      "        <div class=\"td-menu-login\"><a id=\"login-link-mob\">Sign in</a></div>\r\n",
      "    </div>\r\n",
      "            </div>\r\n",
      "        \r\n",
      "        <!-- menu section -->\r\n",
      "        <div class=\"td-mobile-content\">\r\n",
      "            <div class=\"menu-main-2-container\"><ul id=\"menu-main-4\" class=\"td-mobile-main-menu\"><li class=\"menu-item menu-item-type-taxonomy menu-item-object-category menu-item-first menu-item-has-children menu-item-4058\"><a href=\"https://insights.blackcoffer.com/category/our-success-stories/\">Our Success Stories<i class=\"td-icon-menu-right td-element-after\"></i></a>\n",
      "<ul class=\"sub-menu\">\n",
      "\t<li class=\"menu-item-0\"><a href=\"https://insights.blackcoffer.com/category/our-success-stories/banking-securities-and-insurance/\">Banking, Financials, Securities, and Insurance</a></li>\n",
      "\t<li class=\"menu-item-0\"><a href=\"https://insights.blackcoffer.com/category/our-success-stories/energy-our-success-stories/\">Energy</a></li>\n",
      "\t<li class=\"menu-item-0\"><a href=\"https://insights.blackcoffer.com/category/our-success-stories/entertainment-our-success-stories/\">Entertainment</a></li>\n",
      "\t<li class=\"menu-item-0\"><a href=\"https://insights.blackcoffer.com/category/our-success-stories/fast-moving-consumer-goods/\">Fast Moving Consumer Goods</a></li>\n",
      "\t<li class=\"menu-item-0\"><a href=\"https://insights.blackcoffer.com/category/our-success-stories/government-think-tanks/\">Government &amp; Think Tanks</a></li>\n",
      "\t<li class=\"menu-item-0\"><a href=\"https://insights.blackcoffer.com/category/our-success-stories/healthcare-our-success-stories/\">Healthcare</a></li>\n",
      "\t<li class=\"menu-item-0\"><a href=\"https://insights.blackcoffer.com/category/our-success-stories/infrastructure-real-estate/\">Infrastructure &amp; Real Estate</a></li>\n",
      "\t<li class=\"menu-item-0\"><a href=\"https://insights.blackcoffer.com/category/our-success-stories/it/\">IT</a></li>\n",
      "\t<li class=\"menu-item-0\"><a href=\"https://insights.blackcoffer.com/category/our-success-stories/lifestyle-ecommerce-market-place/\">Lifestyle, eCommerce &amp; Online Market Place</a></li>\n",
      "\t<li class=\"menu-item-0\"><a href=\"https://insights.blackcoffer.com/category/our-success-stories/production-manufacturing/\">Production &amp; Manufacturing</a></li>\n",
      "\t<li class=\"menu-item-0\"><a href=\"https://insights.blackcoffer.com/category/our-success-stories/research-academia/\">Research &amp; Academia</a></li>\n",
      "\t<li class=\"menu-item-0\"><a href=\"https://insights.blackcoffer.com/category/our-success-stories/retail-supply-chain/\">Retail &amp; Supply Chain</a></li>\n",
      "\t<li class=\"menu-item-0\"><a href=\"https://insights.blackcoffer.com/category/our-success-stories/telecom/\">Telecom</a></li>\n",
      "</ul>\n",
      "</li>\n",
      "<li class=\"menu-item menu-item-type-taxonomy menu-item-object-category menu-item-has-children menu-item-4059\"><a href=\"https://insights.blackcoffer.com/category/our-solutions/\">What We Do<i class=\"td-icon-menu-right td-element-after\"></i></a>\n",
      "<ul class=\"sub-menu\">\n",
      "\t<li class=\"menu-item-0\"><a href=\"https://insights.blackcoffer.com/category/our-solutions/banking-financials-securities-and-insurance-solutions/\">Banking, Financials, Securities, and Insurance</a></li>\n",
      "\t<li class=\"menu-item-0\"><a href=\"https://insights.blackcoffer.com/category/our-solutions/energy-our-solutions/\">Energy</a></li>\n",
      "\t<li class=\"menu-item-0\"><a href=\"https://insights.blackcoffer.com/category/our-solutions/entertainment-our-solutions/\">Entertainment</a></li>\n",
      "\t<li class=\"menu-item-0\"><a href=\"https://insights.blackcoffer.com/category/our-solutions/fast-moving-consumer-goods-our-solutions/\">Fast Moving Consumer Goods</a></li>\n",
      "\t<li class=\"menu-item-0\"><a href=\"https://insights.blackcoffer.com/category/our-solutions/government-think-tanks-our-solutions/\">Government &amp; Think Tanks</a></li>\n",
      "\t<li class=\"menu-item-0\"><a href=\"https://insights.blackcoffer.com/category/our-solutions/healthcare-our-solutions/\">Healthcare</a></li>\n",
      "\t<li class=\"menu-item-0\"><a href=\"https://insights.blackcoffer.com/category/our-solutions/hospitality/\">Hospitality</a></li>\n",
      "\t<li class=\"menu-item-0\"><a href=\"https://insights.blackcoffer.com/category/our-solutions/infrastructure-real-estate-our-solutions/\">Infrastructure &amp; Real Estate</a></li>\n",
      "\t<li class=\"menu-item-0\"><a href=\"https://insights.blackcoffer.com/category/our-solutions/it-services/\">IT Services</a></li>\n",
      "\t<li class=\"menu-item-0\"><a href=\"https://insights.blackcoffer.com/category/our-solutions/lifestyle-ecommerce-market-place-solutions/\">Lifestyle, eCommerce &amp; Online Market Place</a></li>\n",
      "\t<li class=\"menu-item-0\"><a href=\"https://insights.blackcoffer.com/category/our-solutions/news-media/\">News &amp; Media</a></li>\n",
      "\t<li class=\"menu-item-0\"><a href=\"https://insights.blackcoffer.com/category/our-solutions/production-manufacturing-our-solutions/\">Production &amp; Manufacturing</a></li>\n",
      "\t<li class=\"menu-item-0\"><a href=\"https://insights.blackcoffer.com/category/our-solutions/research-academia-our-solutions/\">Research &amp; Academia</a></li>\n",
      "\t<li class=\"menu-item-0\"><a href=\"https://insights.blackcoffer.com/category/our-solutions/retail-supply-chain-our-solutions/\">Retail &amp; Supply Chain</a></li>\n",
      "</ul>\n",
      "</li>\n",
      "<li class=\"menu-item menu-item-type-taxonomy menu-item-object-category current-post-ancestor current-menu-parent current-post-parent menu-item-has-children menu-item-4060\"><a href=\"https://insights.blackcoffer.com/category/what-we-think/\">What We Think<i class=\"td-icon-menu-right td-element-after\"></i></a>\n",
      "<ul class=\"sub-menu\">\n",
      "\t<li class=\"menu-item-0\"><a href=\"https://insights.blackcoffer.com/category/what-we-think/automobiles-components/\">Automobiles &amp; Components</a></li>\n",
      "\t<li class=\"menu-item-0\"><a href=\"https://insights.blackcoffer.com/category/what-we-think/financials/\">BFSI</a></li>\n",
      "\t<li class=\"menu-item-0\"><a href=\"https://insights.blackcoffer.com/category/what-we-think/financials/asset-and-portfolio/\">Asset and Portfolio</a></li>\n",
      "\t<li class=\"menu-item-0\"><a href=\"https://insights.blackcoffer.com/category/what-we-think/financials/banks/\">Banks</a></li>\n",
      "\t<li class=\"menu-item-0\"><a href=\"https://insights.blackcoffer.com/category/what-we-think/financials/capital-markets/\">Capital Markets</a></li>\n",
      "\t<li class=\"menu-item-0\"><a href=\"https://insights.blackcoffer.com/category/what-we-think/financials/derivatives-and-securities/\">Derivatives and Securities</a></li>\n",
      "\t<li class=\"menu-item-0\"><a href=\"https://insights.blackcoffer.com/category/what-we-think/financials/diversified-financials/\">Diversified Financials</a></li>\n",
      "\t<li class=\"menu-item-0\"><a href=\"https://insights.blackcoffer.com/category/what-we-think/financials/finance-and-accounting/\">Finance &amp; Accounting</a></li>\n",
      "\t<li class=\"menu-item-0\"><a href=\"https://insights.blackcoffer.com/category/what-we-think/financials/insurance/\">Insurance</a></li>\n",
      "\t<li class=\"menu-item-0\"><a href=\"https://insights.blackcoffer.com/category/what-we-think/financials/securities-and-capital-markets/\">Securities and Capital Markets</a></li>\n",
      "\t<li class=\"menu-item-0\"><a href=\"https://insights.blackcoffer.com/category/what-we-think/capital-goods/\">Capital Goods</a></li>\n",
      "\t<li class=\"menu-item-0\"><a href=\"https://insights.blackcoffer.com/category/what-we-think/commercial-professional-services/\">Commercial &amp; Professional Services</a></li>\n",
      "\t<li class=\"menu-item-0\"><a href=\"https://insights.blackcoffer.com/category/what-we-think/consumer-discretionary/\">Consumer Discretionary</a></li>\n",
      "\t<li class=\"menu-item-0\"><a href=\"https://insights.blackcoffer.com/category/what-we-think/consumer-durables-apparel/\">Consumer Durables &amp; Apparel</a></li>\n",
      "\t<li class=\"menu-item-0\"><a href=\"https://insights.blackcoffer.com/category/what-we-think/consumer-services/\">Consumer Services</a></li>\n",
      "\t<li class=\"menu-item-0\"><a href=\"https://insights.blackcoffer.com/category/what-we-think/consumer-staples/\">Consumer Staples</a></li>\n",
      "\t<li class=\"menu-item-0\"><a href=\"https://insights.blackcoffer.com/category/what-we-think/consumer-staples/food-staples-retailing/\">Food &amp; Staples Retailing</a></li>\n",
      "\t<li class=\"menu-item-0\"><a href=\"https://insights.blackcoffer.com/category/what-we-think/consumer-staples/food-beverage-tobacco/\">Food, Beverage &amp; Tobacco</a></li>\n",
      "\t<li class=\"menu-item-0\"><a href=\"https://insights.blackcoffer.com/category/what-we-think/consumer-staples/household-personal-products/\">Household &amp; Personal Products</a></li>\n",
      "\t<li class=\"menu-item-0\"><a href=\"https://insights.blackcoffer.com/category/what-we-think/data-science/\">Data Science</a></li>\n",
      "\t<li class=\"menu-item-0\"><a href=\"https://insights.blackcoffer.com/category/what-we-think/data-science/analytics/\">Analytics</a></li>\n",
      "\t<li class=\"menu-item-0\"><a href=\"https://insights.blackcoffer.com/category/what-we-think/data-science/artificial-intelligence/\">Artificial Intelligence</a></li>\n",
      "\t<li class=\"menu-item-0\"><a href=\"https://insights.blackcoffer.com/category/what-we-think/data-science/big-data/\">Big Data</a></li>\n",
      "\t<li class=\"menu-item-0\"><a href=\"https://insights.blackcoffer.com/category/what-we-think/data-science/business-analytics/\">Business Analytics</a></li>\n",
      "\t<li class=\"menu-item-0\"><a href=\"https://insights.blackcoffer.com/category/what-we-think/data-science/data-visualization/\">Data Visualization</a></li>\n",
      "\t<li class=\"menu-item-0\"><a href=\"https://insights.blackcoffer.com/category/what-we-think/data-science/internet-of-things/\">Internet of Things</a></li>\n",
      "\t<li class=\"menu-item-0\"><a href=\"https://insights.blackcoffer.com/category/what-we-think/data-science/machine-learning/\">Machine Learning</a></li>\n",
      "\t<li class=\"menu-item-0\"><a href=\"https://insights.blackcoffer.com/category/what-we-think/data-science/statistics/\">Statistics</a></li>\n",
      "\t<li class=\"menu-item-0\"><a href=\"https://insights.blackcoffer.com/category/what-we-think/energy/\">Energy</a></li>\n",
      "\t<li class=\"menu-item-0\"><a href=\"https://insights.blackcoffer.com/category/what-we-think/energy/dataoil/\">DataOil</a></li>\n",
      "</ul>\n",
      "</li>\n",
      "<li class=\"menu-item menu-item-type-taxonomy menu-item-object-category menu-item-has-children menu-item-4061\"><a href=\"https://insights.blackcoffer.com/category/how-to/\">How To<i class=\"td-icon-menu-right td-element-after\"></i></a>\n",
      "<ul class=\"sub-menu\">\n",
      "\t<li class=\"menu-item-0\"><a href=\"https://insights.blackcoffer.com/category/how-to/analytics-how-to/\">Analytics</a></li>\n",
      "\t<li class=\"menu-item-0\"><a href=\"https://insights.blackcoffer.com/category/how-to/application-development-how-to/\">Application Development</a></li>\n",
      "\t<li class=\"menu-item-0\"><a href=\"https://insights.blackcoffer.com/category/how-to/artificial-intelligence-how-to/\">Artificial Intelligence</a></li>\n",
      "\t<li class=\"menu-item-0\"><a href=\"https://insights.blackcoffer.com/category/how-to/business-analytics-how-to/\">Business Analytics</a></li>\n",
      "\t<li class=\"menu-item-0\"><a href=\"https://insights.blackcoffer.com/category/how-to/example/\">Example</a></li>\n",
      "\t<li class=\"menu-item-0\"><a href=\"https://insights.blackcoffer.com/category/how-to/optimization/\">Optimization</a></li>\n",
      "\t<li class=\"menu-item-0\"><a href=\"https://insights.blackcoffer.com/category/how-to/projects/\">Projects</a></li>\n",
      "\t<li class=\"menu-item-0\"><a href=\"https://insights.blackcoffer.com/category/how-to/software-development/\">Software Development</a></li>\n",
      "\t<li class=\"menu-item-0\"><a href=\"https://insights.blackcoffer.com/category/how-to/source-code-audit/\">Source Code Audit</a></li>\n",
      "\t<li class=\"menu-item-0\"><a href=\"https://insights.blackcoffer.com/category/how-to/statistics-how-to/\">Statistics</a></li>\n",
      "\t<li class=\"menu-item-0\"><a href=\"https://insights.blackcoffer.com/category/how-to/web-mobile-app-development/\">Web &amp; Mobile App Development</a></li>\n",
      "</ul>\n",
      "</li>\n",
      "<li class=\"menu-item menu-item-type-custom menu-item-object-custom menu-item-4062\"><a target=\"_blank\" href=\"https://blackcoffer.com/get-blackcoffer-demo/\">Schedule Demo</a></li>\n",
      "<li class=\"menu-item menu-item-type-post_type menu-item-object-page menu-item-4063\"><a href=\"https://insights.blackcoffer.com/contact/\">Contact</a></li>\n",
      "</ul></div>        </div>\r\n",
      "    </div>\r\n",
      "\r\n",
      "    <!-- register/login section -->\r\n",
      "            <div id=\"login-form-mobile\" class=\"td-register-section\">\r\n",
      "            \r\n",
      "            <div id=\"td-login-mob\" class=\"td-login-animation td-login-hide-mob\">\r\n",
      "            \t<!-- close button -->\r\n",
      "\t            <div class=\"td-login-close\">\r\n",
      "\t                <span class=\"td-back-button\"><i class=\"td-icon-read-down\"></i></span>\r\n",
      "\t                <div class=\"td-login-title\">Sign in</div>\r\n",
      "\t                <!-- close button -->\r\n",
      "\t\t            <div class=\"td-mobile-close\">\r\n",
      "\t\t                <span><i class=\"td-icon-close-mobile\"></i></span>\r\n",
      "\t\t            </div>\r\n",
      "\t            </div>\r\n",
      "\t            <form class=\"td-login-form-wrap\" action=\"#\" method=\"post\">\r\n",
      "\t                <div class=\"td-login-panel-title\"><span>Welcome!</span>Log into your account</div>\r\n",
      "\t                <div class=\"td_display_err\"></div>\r\n",
      "\t                <div class=\"td-login-inputs\"><input class=\"td-login-input\" autocomplete=\"username\" type=\"text\" name=\"login_email\" id=\"login_email-mob\" value=\"\" required><label for=\"login_email-mob\">your username</label></div>\r\n",
      "\t                <div class=\"td-login-inputs\"><input class=\"td-login-input\" autocomplete=\"current-password\" type=\"password\" name=\"login_pass\" id=\"login_pass-mob\" value=\"\" required><label for=\"login_pass-mob\">your password</label></div>\r\n",
      "\t                <input type=\"button\" name=\"login_button\" id=\"login_button-mob\" class=\"td-login-button\" value=\"LOG IN\">\r\n",
      "\t                \r\n",
      "\t\t\t\t\t\r\n",
      "\t                <div class=\"td-login-info-text\">\r\n",
      "\t                <a href=\"#\" id=\"forgot-pass-link-mob\">Forgot your password?</a>\r\n",
      "\t                </div>\r\n",
      "\t                <div class=\"td-login-register-link\">\r\n",
      "\t                \r\n",
      "\t                </div>\r\n",
      "\t                \r\n",
      "\t                \r\n",
      "\r\n",
      "                </form>\r\n",
      "            </div>\r\n",
      "\r\n",
      "            \r\n",
      "            \r\n",
      "            \r\n",
      "            \r\n",
      "            <div id=\"td-forgot-pass-mob\" class=\"td-login-animation td-login-hide-mob\">\r\n",
      "                <!-- close button -->\r\n",
      "\t            <div class=\"td-forgot-pass-close\">\r\n",
      "\t                <a href=\"#\" aria-label=\"Back\" class=\"td-back-button\"><i class=\"td-icon-read-down\"></i></a>\r\n",
      "\t                <div class=\"td-login-title\">Password recovery</div>\r\n",
      "\t            </div>\r\n",
      "\t            <div class=\"td-login-form-wrap\">\r\n",
      "\t                <div class=\"td-login-panel-title\">Recover your password</div>\r\n",
      "\t                <div class=\"td_display_err\"></div>\r\n",
      "\t                <div class=\"td-login-inputs\"><input class=\"td-login-input\" type=\"text\" name=\"forgot_email\" id=\"forgot_email-mob\" value=\"\" required><label for=\"forgot_email-mob\">your email</label></div>\r\n",
      "\t                <input type=\"button\" name=\"forgot_button\" id=\"forgot_button-mob\" class=\"td-login-button\" value=\"Send My Pass\">\r\n",
      "                </div>\r\n",
      "            </div>\r\n",
      "        </div>\r\n",
      "    </div>    <div class=\"td-search-background\" style=\"visibility:hidden\"></div>\r\n",
      "<div class=\"td-search-wrap-mob\" style=\"visibility:hidden\">\r\n",
      "\t<div class=\"td-drop-down-search\">\r\n",
      "\t\t<form method=\"get\" class=\"td-search-form\" action=\"https://insights.blackcoffer.com/\">\r\n",
      "\t\t\t<!-- close button -->\r\n",
      "\t\t\t<div class=\"td-search-close\">\r\n",
      "\t\t\t\t<span><i class=\"td-icon-close-mobile\"></i></span>\r\n",
      "\t\t\t</div>\r\n",
      "\t\t\t<div role=\"search\" class=\"td-search-input\">\r\n",
      "\t\t\t\t<span>Search</span>\r\n",
      "\t\t\t\t<input id=\"td-header-search-mob\" type=\"text\" value=\"\" name=\"s\" autocomplete=\"off\" />\r\n",
      "\t\t\t</div>\r\n",
      "\t\t</form>\r\n",
      "\t\t<div id=\"td-aj-search-mob\" class=\"td-ajax-search-flex\"></div>\r\n",
      "\t</div>\r\n",
      "</div>\r\n",
      "\r\n",
      "    <div id=\"td-outer-wrap\" class=\"td-theme-wrap\">\r\n",
      "    \r\n",
      "                    <div class=\"td-header-template-wrap\" style=\"position: relative\">\r\n",
      "                                    <div class=\"td-header-mobile-wrap \">\r\n",
      "                        <div id=\"tdi_1\" class=\"tdc-zone\"><div class=\"tdc_zone tdi_2  wpb_row td-pb-row tdc-element-style\"  >\n",
      "<style scoped>\n",
      "\n",
      "/* custom css */\n",
      ".tdi_2{\r\n",
      "                    min-height: 0;\r\n",
      "                }\n",
      "\n",
      "/* phone */\n",
      "@media (max-width: 767px){\n",
      ".tdi_2:before{\r\n",
      "                    content: '';\r\n",
      "                    display: block;\r\n",
      "                    width: 100vw;\r\n",
      "                    height: 100%;\r\n",
      "                    position: absolute;\r\n",
      "                    left: 50%;\r\n",
      "                    transform: translateX(-50%);\r\n",
      "                    box-shadow:  0px 6px 8px 0px rgba(0, 0, 0, 0.08);\r\n",
      "                    z-index: 20;\r\n",
      "                    pointer-events: none;\r\n",
      "                }@media (max-width: 767px) {\r\n",
      "                    .tdi_2:before {\r\n",
      "                        width: 100%;\r\n",
      "                    }\r\n",
      "                }\n",
      "}\n",
      "/* inline tdc_css att */\n",
      "\n",
      "/* phone */\n",
      "@media (max-width: 767px)\n",
      "{\n",
      ".tdi_2{\n",
      "position:relative;\n",
      "}\n",
      "}\n",
      "\n",
      "</style>\n",
      "<div class=\"tdi_1_rand_style td-element-style\" ><style>\n",
      "/* phone */\n",
      "@media (max-width: 767px)\n",
      "{\n",
      ".tdi_1_rand_style{\n",
      "background-color:#222222 !important;\n",
      "}\n",
      "}\n",
      " </style></div><div id=\"tdi_3\" class=\"tdc-row\"><div class=\"vc_row tdi_4  wpb_row td-pb-row\" >\n",
      "<style scoped>\n",
      "\n",
      "/* custom css */\n",
      ".tdi_4,\r\n",
      "                .tdi_4 .tdc-columns{\r\n",
      "                    min-height: 0;\r\n",
      "                }.tdi_4,\r\n",
      "\t\t\t\t.tdi_4 .tdc-columns{\r\n",
      "\t\t\t\t    display: block;\r\n",
      "\t\t\t\t}.tdi_4 .tdc-columns{\r\n",
      "\t\t\t\t    width: 100%;\r\n",
      "\t\t\t\t}\n",
      "\n",
      "/* phone */\n",
      "@media (max-width: 767px){\n",
      "@media (min-width: 768px) {\r\n",
      "\t                .tdi_4 {\r\n",
      "\t                    margin-left: -0px;\r\n",
      "\t                    margin-right: -0px;\r\n",
      "\t                }\r\n",
      "\t                .tdi_4 .tdc-row-video-background-error,\r\n",
      "\t                .tdi_4 .vc_column {\r\n",
      "\t                    padding-left: 0px;\r\n",
      "\t                    padding-right: 0px;\r\n",
      "\t                }\r\n",
      "                }\n",
      "}\n",
      "</style><div class=\"vc_column tdi_6  wpb_column vc_column_container tdc-column td-pb-span4\">\n",
      "<style scoped>\n",
      "\n",
      "/* custom css */\n",
      ".tdi_6{\r\n",
      "                    vertical-align: baseline;\r\n",
      "                }.tdi_6 > .wpb_wrapper,\r\n",
      "\t\t\t\t.tdi_6 > .wpb_wrapper > .tdc-elements{\r\n",
      "\t\t\t\t    display: block;\r\n",
      "\t\t\t\t}.tdi_6 > .wpb_wrapper > .tdc-elements{\r\n",
      "\t\t\t\t    width: 100%;\r\n",
      "\t\t\t\t}.tdi_6 > .wpb_wrapper > .vc_row_inner{\r\n",
      "\t\t\t\t    width: auto;\r\n",
      "\t\t\t\t}.tdi_6 > .wpb_wrapper{\r\n",
      "\t\t\t\t    width: auto;\r\n",
      "\t\t\t\t    height: auto;\r\n",
      "\t\t\t\t}\n",
      "\n",
      "/* phone */\n",
      "@media (max-width: 767px){\n",
      ".tdi_6{\r\n",
      "                    vertical-align: middle;\r\n",
      "                }\n",
      "}\n",
      "/* inline tdc_css att */\n",
      "\n",
      "/* phone */\n",
      "@media (max-width: 767px)\n",
      "{\n",
      ".tdi_6{\n",
      "width:20% !important;\n",
      "display:inline-block !important;\n",
      "}\n",
      "}\n",
      "\n",
      "</style><div class=\"wpb_wrapper\" ><div class=\"td_block_wrap tdb_mobile_menu tdi_7 td-pb-border-top td_block_template_1 tdb-header-align\"  data-td-block-uid=\"tdi_7\" >\n",
      "<style>\n",
      "\n",
      "/* inline tdc_css att */\n",
      "\n",
      "/* phone */\n",
      "@media (max-width: 767px)\n",
      "{\n",
      ".tdi_7{\n",
      "margin-top:2px !important;\n",
      "margin-left:-13px !important;\n",
      "}\n",
      "}\n",
      "\n",
      "</style>\n",
      "<style>\n",
      "/* custom css */\n",
      ".tdb-header-align{\r\n",
      "                  vertical-align: middle;\r\n",
      "                }.tdb_mobile_menu{\r\n",
      "                  margin-bottom: 0;\r\n",
      "                  clear: none;\r\n",
      "                }.tdb_mobile_menu a{\r\n",
      "                  display: inline-block !important;\r\n",
      "                  position: relative;\r\n",
      "                  text-align: center;\r\n",
      "                  color: #4db2ec;\r\n",
      "                }.tdb_mobile_menu a > span{\r\n",
      "                  display: flex;\r\n",
      "                  align-items: center;\r\n",
      "                  justify-content: center;\r\n",
      "                }.tdb_mobile_menu svg{\r\n",
      "                  height: auto;\r\n",
      "                }.tdb_mobile_menu svg,\r\n",
      "                .tdb_mobile_menu svg *{\r\n",
      "                  fill: #4db2ec;\r\n",
      "                }#tdc-live-iframe .tdb_mobile_menu a{\r\n",
      "                  pointer-events: none;\r\n",
      "                }.td-menu-mob-open-menu{\r\n",
      "                  overflow: hidden;\r\n",
      "                }.td-menu-mob-open-menu #td-outer-wrap{\r\n",
      "                  position: static;\r\n",
      "                }.tdi_7{\r\n",
      "                    display: inline-block;\r\n",
      "                }.tdi_7 .tdb-mobile-menu-button i{\r\n",
      "                    font-size: 22px;\r\n",
      "                \r\n",
      "                    width: 55px;\r\n",
      "\t\t\t\t\theight: 55px;\r\n",
      "\t\t\t\t\tline-height:  55px;\r\n",
      "                }.tdi_7 .tdb-mobile-menu-button svg{\r\n",
      "                    width: 22px;\r\n",
      "                }.tdi_7 .tdb-mobile-menu-button .tdb-mobile-menu-icon-svg{\r\n",
      "                    width: 55px;\r\n",
      "\t\t\t\t\theight: 55px;\r\n",
      "                }.tdi_7 .tdb-mobile-menu-button{\r\n",
      "                    color: #ffffff;\r\n",
      "                }.tdi_7 .tdb-mobile-menu-button svg,\r\n",
      "                .tdi_7 .tdb-mobile-menu-button svg *{\r\n",
      "                    fill: #ffffff;\r\n",
      "                }\n",
      "\n",
      "/* phone */\n",
      "@media (max-width: 767px){\n",
      ".tdi_7 .tdb-mobile-menu-button i{\r\n",
      "                    font-size: 27px;\r\n",
      "                \r\n",
      "                    width: 54px;\r\n",
      "\t\t\t\t\theight: 54px;\r\n",
      "\t\t\t\t\tline-height:  54px;\r\n",
      "                }.tdi_7 .tdb-mobile-menu-button svg{\r\n",
      "                    width: 27px;\r\n",
      "                }.tdi_7 .tdb-mobile-menu-button .tdb-mobile-menu-icon-svg{\r\n",
      "                    width: 54px;\r\n",
      "\t\t\t\t\theight: 54px;\r\n",
      "                }\n",
      "}\n",
      "</style><div class=\"tdb-block-inner td-fix-index\"><span class=\"tdb-mobile-menu-button\"><i class=\"tdb-mobile-menu-icon td-icon-mobile\"></i></span></div></div> <!-- ./block --></div></div><div class=\"vc_column tdi_9  wpb_column vc_column_container tdc-column td-pb-span4\">\n",
      "<style scoped>\n",
      "\n",
      "/* custom css */\n",
      ".tdi_9{\r\n",
      "                    vertical-align: baseline;\r\n",
      "                }.tdi_9 > .wpb_wrapper,\r\n",
      "\t\t\t\t.tdi_9 > .wpb_wrapper > .tdc-elements{\r\n",
      "\t\t\t\t    display: block;\r\n",
      "\t\t\t\t}.tdi_9 > .wpb_wrapper > .tdc-elements{\r\n",
      "\t\t\t\t    width: 100%;\r\n",
      "\t\t\t\t}.tdi_9 > .wpb_wrapper > .vc_row_inner{\r\n",
      "\t\t\t\t    width: auto;\r\n",
      "\t\t\t\t}.tdi_9 > .wpb_wrapper{\r\n",
      "\t\t\t\t    width: auto;\r\n",
      "\t\t\t\t    height: auto;\r\n",
      "\t\t\t\t}\n",
      "\n",
      "/* phone */\n",
      "@media (max-width: 767px){\n",
      ".tdi_9{\r\n",
      "                    vertical-align: middle;\r\n",
      "                }\n",
      "}\n",
      "/* inline tdc_css att */\n",
      "\n",
      "/* phone */\n",
      "@media (max-width: 767px)\n",
      "{\n",
      ".tdi_9{\n",
      "width:60% !important;\n",
      "display:inline-block !important;\n",
      "}\n",
      "}\n",
      "\n",
      "</style><div class=\"wpb_wrapper\" ><div class=\"td_block_wrap tdb_header_logo tdi_10 td-pb-border-top td_block_template_1 tdb-header-align\"  data-td-block-uid=\"tdi_10\" >\n",
      "<style>\n",
      "\n",
      "/* inline tdc_css att */\n",
      "\n",
      "/* phone */\n",
      "@media (max-width: 767px)\n",
      "{\n",
      ".tdi_10{\n",
      "margin-top:-8px !important;\n",
      "}\n",
      "}\n",
      "\n",
      "</style>\n",
      "<style>\n",
      "/* custom css */\n",
      ".tdb_header_logo{\r\n",
      "                  margin-bottom: 0;\r\n",
      "                  clear: none;\r\n",
      "                }.tdb_header_logo .tdb-logo-a,\r\n",
      "                .tdb_header_logo h1{\r\n",
      "                  display: flex;\r\n",
      "                  pointer-events: auto;\r\n",
      "                  align-items: flex-start;\r\n",
      "                }.tdb_header_logo h1{\r\n",
      "                  margin: 0;\r\n",
      "                  line-height: 0;\r\n",
      "                }.tdb_header_logo .tdb-logo-img-wrap img{\r\n",
      "                  display: block;\r\n",
      "                }.tdb_header_logo .tdb-logo-svg-wrap + .tdb-logo-img-wrap{\r\n",
      "                  display: none;\r\n",
      "                }.tdb_header_logo .tdb-logo-svg-wrap svg{\r\n",
      "                  width: 50px;\r\n",
      "                  display: block;\r\n",
      "                  transition: fill .3s ease;\r\n",
      "                }.tdb_header_logo .tdb-logo-text-wrap{\r\n",
      "                  display: flex;\r\n",
      "                }.tdb_header_logo .tdb-logo-text-title,\r\n",
      "                .tdb_header_logo .tdb-logo-text-tagline{\r\n",
      "                  -webkit-transition: all 0.2s ease;\r\n",
      "                  transition: all 0.2s ease;\r\n",
      "                }.tdb_header_logo .tdb-logo-text-title{\r\n",
      "                  background-size: cover;\r\n",
      "                  background-position: center center;\r\n",
      "                  font-size: 75px;\r\n",
      "                  font-family: serif;\r\n",
      "                  line-height: 1.1;\r\n",
      "                  color: #222;\r\n",
      "                  white-space: nowrap;\r\n",
      "                }.tdb_header_logo .tdb-logo-text-tagline{\r\n",
      "                  margin-top: 2px;\r\n",
      "                  font-size: 12px;\r\n",
      "                  font-family: serif;\r\n",
      "                  letter-spacing: 1.8px;\r\n",
      "                  line-height: 1;\r\n",
      "                  color: #767676;\r\n",
      "                }.tdb_header_logo .tdb-logo-icon{\r\n",
      "                  position: relative;\r\n",
      "                  font-size: 46px;\r\n",
      "                  color: #000;\r\n",
      "                }.tdb_header_logo .tdb-logo-icon-svg{\r\n",
      "                  line-height: 0;\r\n",
      "                }.tdb_header_logo .tdb-logo-icon-svg svg{\r\n",
      "                  width: 46px;\r\n",
      "                  height: auto;\r\n",
      "                }.tdb_header_logo .tdb-logo-icon-svg svg,\r\n",
      "                .tdb_header_logo .tdb-logo-icon-svg svg *{\r\n",
      "                  fill: #000;\r\n",
      "                }.tdi_10 .tdb-logo-a,\r\n",
      "                .tdi_10 h1{\r\n",
      "                    flex-direction: row;\r\n",
      "                \r\n",
      "                    align-items: center;\r\n",
      "                \r\n",
      "                    justify-content: center;\r\n",
      "                }.tdi_10 .tdb-logo-svg-wrap{\r\n",
      "                    display: block;\r\n",
      "                }.tdi_10 .tdb-logo-img-wrap{\r\n",
      "                    display: none;\r\n",
      "                }.tdi_10 .tdb-logo-text-tagline{\r\n",
      "                    margin-top: -3px;\r\n",
      "                    margin-left: 0;\r\n",
      "                \r\n",
      "                    display: block;\r\n",
      "                }.tdi_10 .tdb-logo-text-title{\r\n",
      "                    display: block;\r\n",
      "                \r\n",
      "                    color: #ffffff;\r\n",
      "                }.tdi_10 .tdb-logo-text-wrap{\r\n",
      "                    flex-direction: column;\r\n",
      "                \r\n",
      "                    align-items: center;\r\n",
      "                }.tdi_10 .tdb-logo-icon{\r\n",
      "                    top: 0px;\r\n",
      "                \r\n",
      "                    display: block;\r\n",
      "                }@media (max-width: 767px) {\r\n",
      "                  .tdb_header_logo .tdb-logo-text-title {\r\n",
      "                    font-size: 36px;\r\n",
      "                  }\r\n",
      "                }@media (max-width: 767px) {\r\n",
      "                  .tdb_header_logo .tdb-logo-text-tagline {\r\n",
      "                    font-size: 11px;\r\n",
      "                  }\r\n",
      "                }\n",
      "\n",
      "/* portrait */\n",
      "@media (min-width: 768px) and (max-width: 1018px){\n",
      ".tdi_10 .tdb-logo-img{\r\n",
      "                    max-width: 186px;\r\n",
      "                }.tdi_10 .tdb-logo-text-tagline{\r\n",
      "                    margin-top: -2px;\r\n",
      "                    margin-left: 0;\r\n",
      "                }\n",
      "}\n",
      "\n",
      "/* phone */\n",
      "@media (max-width: 767px){\n",
      ".tdi_10 .tdb-logo-svg-wrap + .tdb-logo-img-wrap{\r\n",
      "                    display: none;\r\n",
      "                }.tdi_10 .tdb-logo-img{\r\n",
      "                    max-width: 180px;\r\n",
      "                }.tdi_10 .tdb-logo-img-wrap{\r\n",
      "                    display: block;\r\n",
      "                }\n",
      "}\n",
      "</style><div class=\"tdb-block-inner td-fix-index\"><a class=\"tdb-logo-a\" href=\"https://insights.blackcoffer.com/\"><span class=\"tdb-logo-img-wrap\"><img class=\"tdb-logo-img\" src=\"https://insights.blackcoffer.com/wp-content/uploads/2018/12/Insights-blackv02.png\" alt=\"Logo\"  title=\"\"  /></span></a></div></div> <!-- ./block --></div></div><div class=\"vc_column tdi_12  wpb_column vc_column_container tdc-column td-pb-span4\">\n",
      "<style scoped>\n",
      "\n",
      "/* custom css */\n",
      ".tdi_12{\r\n",
      "                    vertical-align: baseline;\r\n",
      "                }.tdi_12 > .wpb_wrapper,\r\n",
      "\t\t\t\t.tdi_12 > .wpb_wrapper > .tdc-elements{\r\n",
      "\t\t\t\t    display: block;\r\n",
      "\t\t\t\t}.tdi_12 > .wpb_wrapper > .tdc-elements{\r\n",
      "\t\t\t\t    width: 100%;\r\n",
      "\t\t\t\t}.tdi_12 > .wpb_wrapper > .vc_row_inner{\r\n",
      "\t\t\t\t    width: auto;\r\n",
      "\t\t\t\t}.tdi_12 > .wpb_wrapper{\r\n",
      "\t\t\t\t    width: auto;\r\n",
      "\t\t\t\t    height: auto;\r\n",
      "\t\t\t\t}\n",
      "\n",
      "/* phone */\n",
      "@media (max-width: 767px){\n",
      ".tdi_12{\r\n",
      "                    vertical-align: middle;\r\n",
      "                }\n",
      "}\n",
      "/* inline tdc_css att */\n",
      "\n",
      "/* phone */\n",
      "@media (max-width: 767px)\n",
      "{\n",
      ".tdi_12{\n",
      "width:20% !important;\n",
      "display:inline-block !important;\n",
      "}\n",
      "}\n",
      "\n",
      "</style><div class=\"wpb_wrapper\" ><div class=\"td_block_wrap tdb_mobile_search tdi_13 td-pb-border-top td_block_template_1 tdb-header-align\"  data-td-block-uid=\"tdi_13\" >\n",
      "<style>\n",
      "\n",
      "/* inline tdc_css att */\n",
      "\n",
      "/* phone */\n",
      "@media (max-width: 767px)\n",
      "{\n",
      ".tdi_13{\n",
      "margin-right:-18px !important;\n",
      "margin-bottom:0px !important;\n",
      "}\n",
      "}\n",
      "\n",
      "</style>\n",
      "<style>\n",
      "/* custom css */\n",
      ".tdb_mobile_search{\r\n",
      "                  margin-bottom: 0;\r\n",
      "                  clear: none;\r\n",
      "                }.tdb_mobile_search a{\r\n",
      "                  display: inline-block !important;\r\n",
      "                  position: relative;\r\n",
      "                  text-align: center;\r\n",
      "                  color: #4db2ec;\r\n",
      "                }.tdb_mobile_search a > span{\r\n",
      "                  display: flex;\r\n",
      "                  align-items: center;\r\n",
      "                  justify-content: center;\r\n",
      "                }.tdb_mobile_search svg{\r\n",
      "                  height: auto;\r\n",
      "                }.tdb_mobile_search svg,\r\n",
      "                .tdb_mobile_search svg *{\r\n",
      "                  fill: #4db2ec;\r\n",
      "                }#tdc-live-iframe .tdb_mobile_search a{\r\n",
      "                  pointer-events: none;\r\n",
      "                }.td-search-opened{\r\n",
      "                  overflow: hidden;\r\n",
      "                }.td-search-opened #td-outer-wrap{\r\n",
      "                  position: static;\r\n",
      "                }.td-search-opened .td-search-wrap-mob{\r\n",
      "                  position: fixed;\r\n",
      "                  height: calc(100% + 1px);\r\n",
      "                }.td-search-opened .td-drop-down-search{\r\n",
      "                    height: calc(~100% + 1px);\r\n",
      "                    overflow-y: scroll;\r\n",
      "                    overflow-x: hidden;\r\n",
      "                }.tdi_13{\r\n",
      "                    display: inline-block;\r\n",
      "                \r\n",
      "                    float: right;\r\n",
      "                    clear: none;\r\n",
      "                }.tdi_13 .tdb-header-search-button-mob i{\r\n",
      "                    font-size: 22px;\r\n",
      "                \r\n",
      "                    width: 55px;\r\n",
      "\t\t\t\t\theight: 55px;\r\n",
      "\t\t\t\t\tline-height:  55px;\r\n",
      "                }.tdi_13 .tdb-header-search-button-mob svg{\r\n",
      "                    width: 22px;\r\n",
      "                }.tdi_13 .tdb-header-search-button-mob .tdb-mobile-search-icon-svg{\r\n",
      "                    width: 55px;\r\n",
      "\t\t\t\t\theight: 55px;\r\n",
      "\t\t\t\t\tdisplay: flex;\r\n",
      "                    justify-content: center;\r\n",
      "                }.tdi_13 .tdb-header-search-button-mob{\r\n",
      "                    color: #ffffff;\r\n",
      "                }.tdi_13 .tdb-header-search-button-mob svg,\r\n",
      "                .tdi_13 .tdb-header-search-button-mob svg *{\r\n",
      "                    fill: #ffffff;\r\n",
      "                }.td-search-wrap-mob .td-module-exclusive .td-module-title a:before{\r\n",
      "                    display: inline-block;\r\n",
      "                }\n",
      "\n",
      "/* landscape */\n",
      "@media (min-width: 1019px) and (max-width: 1140px){\n",
      "\n",
      "}\n",
      "\n",
      "/* portrait */\n",
      "@media (min-width: 768px) and (max-width: 1018px){\n",
      "\n",
      "}\n",
      "\n",
      "/* phone */\n",
      "@media (max-width: 767px){\n",
      "\n",
      "}\n",
      "</style><div class=\"tdb-block-inner td-fix-index\"><span class=\"tdb-header-search-button-mob dropdown-toggle\" data-toggle=\"dropdown\"><span class=\"tdb-mobile-search-icon tdb-mobile-search-icon-svg\" ><svg version=\"1.1\" xmlns=\"http://www.w3.org/2000/svg\" viewBox=\"0 0 1024 1024\"><path d=\"M946.371 843.601l-125.379-125.44c43.643-65.925 65.495-142.1 65.475-218.040 0.051-101.069-38.676-202.588-115.835-279.706-77.117-77.148-178.606-115.948-279.644-115.886-101.079-0.061-202.557 38.738-279.665 115.876-77.169 77.128-115.937 178.627-115.907 279.716-0.031 101.069 38.728 202.588 115.907 279.665 77.117 77.117 178.616 115.825 279.665 115.804 75.94 0.020 152.136-21.862 218.061-65.495l125.348 125.46c30.915 30.904 81.029 30.904 111.954 0.020 30.915-30.935 30.915-81.029 0.020-111.974zM705.772 714.925c-59.443 59.341-136.899 88.842-214.784 88.924-77.896-0.082-155.341-29.583-214.784-88.924-59.443-59.484-88.975-136.919-89.037-214.804 0.061-77.885 29.604-155.372 89.037-214.825 59.464-59.443 136.878-88.945 214.784-89.016 77.865 0.082 155.3 29.583 214.784 89.016 59.361 59.464 88.914 136.919 88.945 214.825-0.041 77.885-29.583 155.361-88.945 214.804z\"></path></svg></span></span></div></div> <!-- ./block --></div></div></div></div></div></div>                    </div>\r\n",
      "                                    <div class=\"td-header-mobile-sticky-wrap tdc-zone-sticky-invisible tdc-zone-sticky-inactive\" style=\"display: none\">\r\n",
      "                        <div id=\"tdi_14\" class=\"tdc-zone\"><div class=\"tdc_zone tdi_15  wpb_row td-pb-row\" data-sticky-offset=\"0\" >\n",
      "<style scoped>\n",
      "\n",
      "/* custom css */\n",
      ".tdi_15{\r\n",
      "                    min-height: 0;\r\n",
      "                }.td-header-mobile-sticky-wrap.td-header-active{\r\n",
      "                    opacity: 1;\r\n",
      "                }\n",
      "</style><div id=\"tdi_16\" class=\"tdc-row\"><div class=\"vc_row tdi_17  wpb_row td-pb-row\" >\n",
      "<style scoped>\n",
      "\n",
      "/* custom css */\n",
      ".tdi_17,\r\n",
      "                .tdi_17 .tdc-columns{\r\n",
      "                    min-height: 0;\r\n",
      "                }.tdi_17,\r\n",
      "\t\t\t\t.tdi_17 .tdc-columns{\r\n",
      "\t\t\t\t    display: block;\r\n",
      "\t\t\t\t}.tdi_17 .tdc-columns{\r\n",
      "\t\t\t\t    width: 100%;\r\n",
      "\t\t\t\t}\n",
      "</style><div class=\"vc_column tdi_19  wpb_column vc_column_container tdc-column td-pb-span12\">\n",
      "<style scoped>\n",
      "\n",
      "/* custom css */\n",
      ".tdi_19{\r\n",
      "                    vertical-align: baseline;\r\n",
      "                }.tdi_19 > .wpb_wrapper,\r\n",
      "\t\t\t\t.tdi_19 > .wpb_wrapper > .tdc-elements{\r\n",
      "\t\t\t\t    display: block;\r\n",
      "\t\t\t\t}.tdi_19 > .wpb_wrapper > .tdc-elements{\r\n",
      "\t\t\t\t    width: 100%;\r\n",
      "\t\t\t\t}.tdi_19 > .wpb_wrapper > .vc_row_inner{\r\n",
      "\t\t\t\t    width: auto;\r\n",
      "\t\t\t\t}.tdi_19 > .wpb_wrapper{\r\n",
      "\t\t\t\t    width: auto;\r\n",
      "\t\t\t\t    height: auto;\r\n",
      "\t\t\t\t}\n",
      "</style><div class=\"wpb_wrapper\" ></div></div></div></div></div></div>                    </div>\r\n",
      "                \r\n",
      "                    <div class=\"td-header-desktop-wrap \">\r\n",
      "                        <!-- LOGIN MODAL -->\r\n",
      "\r\n",
      "                <div id=\"login-form\" class=\"white-popup-block mfp-hide mfp-with-anim td-login-modal-wrap\">\r\n",
      "                    <div class=\"td-login-wrap\">\r\n",
      "                        <a href=\"#\" aria-label=\"Back\" class=\"td-back-button\"><i class=\"td-icon-modal-back\"></i></a>\r\n",
      "                        <div id=\"td-login-div\" class=\"td-login-form-div td-display-block\">\r\n",
      "                            <div class=\"td-login-panel-title\">Sign in</div>\r\n",
      "                            <div class=\"td-login-panel-descr\">Welcome! Log into your account</div>\r\n",
      "                            <div class=\"td_display_err\"></div>\r\n",
      "                            <form id=\"loginForm\" action=\"#\" method=\"post\">\r\n",
      "                                <div class=\"td-login-inputs\"><input class=\"td-login-input\" autocomplete=\"username\" type=\"text\" name=\"login_email\" id=\"login_email\" value=\"\" required><label for=\"login_email\">your username</label></div>\r\n",
      "                                <div class=\"td-login-inputs\"><input class=\"td-login-input\" autocomplete=\"current-password\" type=\"password\" name=\"login_pass\" id=\"login_pass\" value=\"\" required><label for=\"login_pass\">your password</label></div>\r\n",
      "                                <input type=\"button\"  name=\"login_button\" id=\"login_button\" class=\"wpb_button btn td-login-button\" value=\"Login\">\r\n",
      "                                \r\n",
      "                            </form>\r\n",
      "\r\n",
      "                            \r\n",
      "\r\n",
      "                            <div class=\"td-login-info-text\"><a href=\"#\" id=\"forgot-pass-link\">Forgot your password? Get help</a></div>\r\n",
      "                            \r\n",
      "                            \r\n",
      "                            \r\n",
      "                            \r\n",
      "                        </div>\r\n",
      "\r\n",
      "                        \r\n",
      "\r\n",
      "                         <div id=\"td-forgot-pass-div\" class=\"td-login-form-div td-display-none\">\r\n",
      "                            <div class=\"td-login-panel-title\">Password recovery</div>\r\n",
      "                            <div class=\"td-login-panel-descr\">Recover your password</div>\r\n",
      "                            <div class=\"td_display_err\"></div>\r\n",
      "                            <form id=\"forgotpassForm\" action=\"#\" method=\"post\">\r\n",
      "                                <div class=\"td-login-inputs\"><input class=\"td-login-input\" type=\"text\" name=\"forgot_email\" id=\"forgot_email\" value=\"\" required><label for=\"forgot_email\">your email</label></div>\r\n",
      "                                <input type=\"button\" name=\"forgot_button\" id=\"forgot_button\" class=\"wpb_button btn td-login-button\" value=\"Send My Password\">\r\n",
      "                            </form>\r\n",
      "                            <div class=\"td-login-info-text\">A password will be e-mailed to you.</div>\r\n",
      "                        </div>\r\n",
      "                        \r\n",
      "                        \r\n",
      "                    </div>\r\n",
      "                </div>\r\n",
      "                <div id=\"tdi_20\" class=\"tdc-zone\"><div class=\"tdc_zone tdi_21  wpb_row td-pb-row tdc-element-style\"  >\n",
      "<style scoped>\n",
      "\n",
      "/* custom css */\n",
      ".tdi_21{\r\n",
      "                    min-height: 0;\r\n",
      "                }.tdi_21:before{\r\n",
      "                    content: '';\r\n",
      "                    display: block;\r\n",
      "                    width: 100vw;\r\n",
      "                    height: 100%;\r\n",
      "                    position: absolute;\r\n",
      "                    left: 50%;\r\n",
      "                    transform: translateX(-50%);\r\n",
      "                    box-shadow:  0px 6px 8px 0px rgba(0, 0, 0, 0.08);\r\n",
      "                    z-index: 20;\r\n",
      "                    pointer-events: none;\r\n",
      "                }.td-header-desktop-wrap{\r\n",
      "                    position: relative;\r\n",
      "                }@media (max-width: 767px) {\r\n",
      "                    .tdi_21:before {\r\n",
      "                        width: 100%;\r\n",
      "                    }\r\n",
      "                }\n",
      "/* inline tdc_css att */\n",
      "\n",
      ".tdi_21{\n",
      "position:relative;\n",
      "}\n",
      "\n",
      "</style>\n",
      "<div class=\"tdi_20_rand_style td-element-style\" ><style>\n",
      ".tdi_20_rand_style{\n",
      "background-color:#ffffff !important;\n",
      "}\n",
      " </style></div><div id=\"tdi_22\" class=\"tdc-row stretch_row\"><div class=\"vc_row tdi_23  wpb_row td-pb-row tdc-element-style\" >\n",
      "<style scoped>\n",
      "\n",
      "/* custom css */\n",
      ".tdi_23,\r\n",
      "                .tdi_23 .tdc-columns{\r\n",
      "                    min-height: 0;\r\n",
      "                }.tdi_23,\r\n",
      "\t\t\t\t.tdi_23 .tdc-columns{\r\n",
      "\t\t\t\t    display: block;\r\n",
      "\t\t\t\t}.tdi_23 .tdc-columns{\r\n",
      "\t\t\t\t    width: 100%;\r\n",
      "\t\t\t\t}@media (min-width: 768px) {\r\n",
      "\t                .tdi_23 {\r\n",
      "\t                    margin-left: -0px;\r\n",
      "\t                    margin-right: -0px;\r\n",
      "\t                }\r\n",
      "\t                .tdi_23 .tdc-row-video-background-error,\r\n",
      "\t                .tdi_23 .vc_column {\r\n",
      "\t                    padding-left: 0px;\r\n",
      "\t                    padding-right: 0px;\r\n",
      "\t                }\r\n",
      "                }\n",
      "/* inline tdc_css att */\n",
      "\n",
      ".tdi_23{\n",
      "z-index:5 !important;\n",
      "position:relative;\n",
      "}\n",
      "\n",
      ".tdi_23 .td_block_wrap{ text-align:left }\n",
      "\n",
      "</style>\n",
      "<div class=\"tdi_22_rand_style td-element-style\" ><style>\n",
      ".tdi_22_rand_style{\n",
      "background-color:#222222 !important;\n",
      "}\n",
      " </style></div><div class=\"vc_column tdi_25  wpb_column vc_column_container tdc-column td-pb-span12\">\n",
      "<style scoped>\n",
      "\n",
      "/* custom css */\n",
      ".tdi_25{\r\n",
      "                    vertical-align: baseline;\r\n",
      "                }.tdi_25 > .wpb_wrapper,\r\n",
      "\t\t\t\t.tdi_25 > .wpb_wrapper > .tdc-elements{\r\n",
      "\t\t\t\t    display: block;\r\n",
      "\t\t\t\t}.tdi_25 > .wpb_wrapper > .tdc-elements{\r\n",
      "\t\t\t\t    width: 100%;\r\n",
      "\t\t\t\t}.tdi_25 > .wpb_wrapper > .vc_row_inner{\r\n",
      "\t\t\t\t    width: auto;\r\n",
      "\t\t\t\t}.tdi_25 > .wpb_wrapper{\r\n",
      "\t\t\t\t    width: auto;\r\n",
      "\t\t\t\t    height: auto;\r\n",
      "\t\t\t\t}\n",
      "</style><div class=\"wpb_wrapper\" ><div class=\"td_block_wrap tdb_header_date tdi_27 td-pb-border-top td_block_template_1 tdb-header-align\"  data-td-block-uid=\"tdi_27\" >\n",
      "<style>\n",
      "\n",
      "/* inline tdc_css att */\n",
      "\n",
      ".tdi_27{\n",
      "margin-right:32px !important;\n",
      "}\n",
      "\n",
      "/* landscape */\n",
      "@media (min-width: 1019px) and (max-width: 1140px)\n",
      "{\n",
      ".tdi_27{\n",
      "margin-right:20px !important;\n",
      "}\n",
      "}\n",
      "\n",
      "/* portrait */\n",
      "@media (min-width: 768px) and (max-width: 1018px)\n",
      "{\n",
      ".tdi_27{\n",
      "margin-right:20px !important;\n",
      "}\n",
      "}\n",
      "\n",
      "</style>\n",
      "<style>\n",
      "/* custom css */\n",
      ".tdb_header_date{\r\n",
      "                  margin-bottom: 0;\r\n",
      "                  clear: none;\r\n",
      "                }.tdb_header_date .tdb-block-inner{\r\n",
      "                  display: flex;\r\n",
      "                  align-items: baseline;\r\n",
      "                }.tdb_header_date .tdb-head-date-txt{\r\n",
      "                  font-family: 'Open Sans', 'Open Sans Regular', sans-serif;\r\n",
      "                  font-size: 11px;\r\n",
      "                  line-height: 1;\r\n",
      "                  color: #000;\r\n",
      "                }.tdi_27{\r\n",
      "                    display: inline-block;\r\n",
      "                }.tdi_27 .tdb-head-date-txt{\r\n",
      "                    color: #ffffff;\r\n",
      "                \r\n",
      "                    line-height:28px !important;\r\n",
      "                }\n",
      "</style><div class=\"tdb-block-inner td-fix-index\"><div class=\"tdb-head-date-txt\">Thursday, October 5, 2023</div></div></div> <!-- ./block -->\n",
      "\n",
      "<script>\n",
      "\n",
      "var tdb_login_sing_in_shortcode=\"on\";\n",
      "\n",
      "</script>\n",
      "\n",
      "<div class=\"td_block_wrap tdb_header_user tdi_28 td-pb-border-top td_block_template_1 tdb-header-align\"  data-td-block-uid=\"tdi_28\" >\n",
      "<style>\n",
      "\n",
      "/* inline tdc_css att */\n",
      "\n",
      ".tdi_28{\n",
      "margin-right:14px !important;\n",
      "}\n",
      "\n",
      "</style>\n",
      "<style>\n",
      "/* custom css */\n",
      ".tdb_header_user{\r\n",
      "                  margin-bottom: 0;\r\n",
      "                  clear: none;\r\n",
      "                }.tdb_header_user .tdb-block-inner{\r\n",
      "                  display: flex;\r\n",
      "                  align-items: center;\r\n",
      "                }.tdb_header_user .tdb-head-usr-item{\r\n",
      "                  font-family: 'Open Sans', 'Open Sans Regular', sans-serif;\r\n",
      "                  font-size: 11px;\r\n",
      "                  line-height: 1;\r\n",
      "                  color: #000;\r\n",
      "                }.tdb_header_user .tdb-head-usr-item:hover{\r\n",
      "                  color: #4db2ec;\r\n",
      "                }.tdb_header_user .tdb-head-usr-avatar{\r\n",
      "                  position: relative;\r\n",
      "                  width: 20px;\r\n",
      "                  height: 0;\r\n",
      "                  padding-bottom: 20px;\r\n",
      "                  margin-right: 6px;\r\n",
      "                  background-size: cover;\r\n",
      "                  background-position: center center;\r\n",
      "                }.tdb_header_user .tdb-head-usr-name{\r\n",
      "                  margin-right: 16px;\r\n",
      "                  font-weight: 700;\r\n",
      "                }.tdb_header_user .tdb-head-usr-log{\r\n",
      "                  display: flex;\r\n",
      "                  align-items: center;\r\n",
      "                }.tdb_header_user .tdb-head-usr-log i{\r\n",
      "                  font-size: 10px;\r\n",
      "                }.tdb_header_user .tdb-head-usr-log-icon{\r\n",
      "                  position: relative;\r\n",
      "                }.tdb_header_user .tdb-head-usr-log-icon-svg{\r\n",
      "                  line-height: 0;\r\n",
      "                }.tdb_header_user .tdb-head-usr-log-icon-svg svg{\r\n",
      "                  width: 10px;\r\n",
      "                  height: auto;\r\n",
      "                }.tdi_28{\r\n",
      "                    display: inline-block;\r\n",
      "                }.tdi_28 .tdb-head-usr-avatar{\r\n",
      "                    width: 19px;\r\n",
      "                    padding-bottom: 19px;\r\n",
      "                }.tdi_28 .tdb-head-usr-log .tdb-head-usr-log-icon{\r\n",
      "                    margin-right: 2px;\r\n",
      "                \r\n",
      "                    top: 0px;\r\n",
      "                }.tdi_28 .tdb-head-usr-name{\r\n",
      "                    color: #ffffff;\r\n",
      "                \r\n",
      "                    line-height:28px !important;\r\n",
      "                }.tdi_28 .tdb-head-usr-log{\r\n",
      "                    color: #ffffff;\r\n",
      "                \r\n",
      "                    line-height:28px !important;\r\n",
      "                }.tdi_28 .tdb-head-usr-log-icon-svg svg,\r\n",
      "                .tdi_28 .tdb-head-usr-log-icon-svg svg *{\r\n",
      "                    fill: #ffffff;\r\n",
      "                \r\n",
      "                    fill: #ffffff;\r\n",
      "                }.tdi_28 .tdb-head-usr-log i{\r\n",
      "                    color: #ffffff;\r\n",
      "                }\n",
      "</style><div class=\"tdb-block-inner td-fix-index\"><a class=\"td-login-modal-js tdb-head-usr-item tdb-head-usr-log\" href=\"#login-form\" data-effect=\"mpf-td-login-effect\"><span class=\"tdb-head-usr-log-txt\">Sign in / Join</span></a></div></div> <!-- ./block --><div class=\"td_block_wrap tdb_mobile_horiz_menu tdi_29 td-pb-border-top td_block_template_1 tdb-header-align\"  data-td-block-uid=\"tdi_29\"  style=\" z-index: 999;\">\n",
      "<style>\n",
      "\n",
      "/* inline tdc_css att */\n",
      "\n",
      ".tdi_29{\n",
      "margin-bottom:0px !important;\n",
      "}\n",
      "\n",
      "/* portrait */\n",
      "@media (min-width: 768px) and (max-width: 1018px)\n",
      "{\n",
      ".tdi_29{\n",
      "display:none !important;\n",
      "}\n",
      "}\n",
      "\n",
      "</style>\n",
      "<style>\n",
      "/* custom css */\n",
      ".tdb_mobile_horiz_menu{\r\n",
      "                  margin-bottom: 0;\r\n",
      "                  clear: none;\r\n",
      "                }.tdb_mobile_horiz_menu.tdb-horiz-menu-singleline{\r\n",
      "                  width: 100%;\r\n",
      "                }.tdb_mobile_horiz_menu.tdb-horiz-menu-singleline .tdb-horiz-menu{\r\n",
      "                  display: block;\r\n",
      "                  width: 100%;\r\n",
      "                  overflow-x: auto;\r\n",
      "                  overflow-y: hidden;\r\n",
      "                  font-size: 0;\r\n",
      "                  white-space: nowrap;\r\n",
      "                }.tdb_mobile_horiz_menu.tdb-horiz-menu-singleline .tdb-horiz-menu > li{\r\n",
      "                  position: static;\r\n",
      "                  display: inline-block;\r\n",
      "                  float: none;\r\n",
      "                }.tdb_mobile_horiz_menu.tdb-horiz-menu-singleline .tdb-horiz-menu ul{\r\n",
      "                  left: 0;\r\n",
      "                  width: 100%;\r\n",
      "                  z-index: -1;\r\n",
      "                }.tdb-horiz-menu{\r\n",
      "                  display: table;\r\n",
      "                  margin: 0;\r\n",
      "                }.tdb-horiz-menu,\r\n",
      "                .tdb-horiz-menu ul{\r\n",
      "                  list-style-type: none;\r\n",
      "                }.tdb-horiz-menu ul,\r\n",
      "                .tdb-horiz-menu li{\r\n",
      "                  line-height: 1;\r\n",
      "                }.tdb-horiz-menu li{\r\n",
      "                  margin: 0;\r\n",
      "                  font-family: 'Open Sans', 'Open Sans Regular', sans-serif;\r\n",
      "                }.tdb-horiz-menu li.current-menu-item > a,\r\n",
      "                .tdb-horiz-menu li.current-menu-ancestor > a,\r\n",
      "                .tdb-horiz-menu li.current-category-ancestor > a,\r\n",
      "                .tdb-horiz-menu li:hover > a,\r\n",
      "                .tdb-horiz-menu li.tdb-hover > a{\r\n",
      "                  color: #4db2ec;\r\n",
      "                }.tdb-horiz-menu li.current-menu-item > a .tdb-sub-menu-icon-svg,\r\n",
      "                .tdb-horiz-menu li.current-menu-ancestor > a .tdb-sub-menu-icon-svg,\r\n",
      "                .tdb-horiz-menu li.current-category-ancestor > a .tdb-sub-menu-icon-svg,\r\n",
      "                .tdb-horiz-menu li:hover > a .tdb-sub-menu-icon-svg,\r\n",
      "                .tdb-horiz-menu li.tdb-hover > a .tdb-sub-menu-icon-svg,\r\n",
      "                .tdb-horiz-menu li.current-menu-item > a .tdb-sub-menu-icon-svg *,\r\n",
      "                .tdb-horiz-menu li.current-menu-ancestor > a .tdb-sub-menu-icon-svg *,\r\n",
      "                .tdb-horiz-menu li.current-category-ancestor > a .tdb-sub-menu-icon-svg *,\r\n",
      "                .tdb-horiz-menu li:hover > a .tdb-sub-menu-icon-svg *,\r\n",
      "                .tdb-horiz-menu li.tdb-hover > a .tdb-sub-menu-icon-svg *{\r\n",
      "                  fill: #4db2ec;\r\n",
      "                }.tdb-horiz-menu > li{\r\n",
      "                  position: relative;\r\n",
      "                  float: left;\r\n",
      "                  font-size: 0;\r\n",
      "                }.tdb-horiz-menu > li:hover ul{\r\n",
      "                  visibility: visible;\r\n",
      "                  opacity: 1;\r\n",
      "                }.tdb-horiz-menu > li > a{\r\n",
      "                  display: inline-block;\r\n",
      "                  padding: 0 9px;\r\n",
      "                  font-weight: 700;\r\n",
      "                  font-size: 13px;\r\n",
      "                  line-height: 41px;\r\n",
      "                  vertical-align: middle;\r\n",
      "                  -webkit-backface-visibility: hidden;\r\n",
      "                  color: #000;\r\n",
      "                }.tdb-horiz-menu > li > a > .tdb-menu-item-text{\r\n",
      "                  display: inline-block;\r\n",
      "                }.tdb-horiz-menu > li > a .tdb-sub-menu-icon{\r\n",
      "                  margin: 0 0 0 6px;\r\n",
      "                }.tdb-horiz-menu > li > a .tdb-sub-menu-icon-svg svg{\r\n",
      "                  position: relative;\r\n",
      "                  top: -1px;\r\n",
      "                  width: 13px;\r\n",
      "                }.tdb-horiz-menu > li .tdb-menu-sep{\r\n",
      "                  position: relative;\r\n",
      "                }.tdb-horiz-menu > li:last-child .tdb-menu-sep{\r\n",
      "                  display: none;\r\n",
      "                }.tdb-horiz-menu .tdb-sub-menu-icon-svg,\r\n",
      "                .tdb-horiz-menu .tdb-menu-sep-svg{\r\n",
      "                  line-height: 0;\r\n",
      "                }.tdb-horiz-menu .tdb-sub-menu-icon-svg svg,\r\n",
      "                .tdb-horiz-menu .tdb-menu-sep-svg svg{\r\n",
      "                  height: auto;\r\n",
      "                }.tdb-horiz-menu .tdb-sub-menu-icon-svg svg,\r\n",
      "                .tdb-horiz-menu .tdb-menu-sep-svg svg,\r\n",
      "                .tdb-horiz-menu .tdb-sub-menu-icon-svg svg *,\r\n",
      "                .tdb-horiz-menu .tdb-menu-sep-svg svg *{\r\n",
      "                  fill: #000;\r\n",
      "                }.tdb-horiz-menu .tdb-sub-menu-icon{\r\n",
      "                  vertical-align: middle;\r\n",
      "                \r\n",
      "                  position: relative;\r\n",
      "                  top: 0;\r\n",
      "                  padding-left: 0;\r\n",
      "                }.tdb-horiz-menu .tdb-menu-sep{\r\n",
      "                  vertical-align: middle;\r\n",
      "                  font-size: 12px;\r\n",
      "                }.tdb-horiz-menu .tdb-menu-sep-svg svg{\r\n",
      "                  width: 12px;\r\n",
      "                }.tdb-horiz-menu ul{\r\n",
      "                  position: absolute;\r\n",
      "                  top: auto;\r\n",
      "                  left: -7px;\r\n",
      "                  padding: 8px 0;\r\n",
      "                  background-color: #fff;\r\n",
      "                  visibility: hidden;\r\n",
      "                  opacity: 0;\r\n",
      "                }.tdb-horiz-menu ul li > a{\r\n",
      "                  white-space: nowrap;\r\n",
      "                  display: block;\r\n",
      "                  padding: 5px 18px;\r\n",
      "                  font-size: 11px;\r\n",
      "                  line-height: 18px;\r\n",
      "                  color: #111;\r\n",
      "                }.tdb-horiz-menu ul li > a .tdb-sub-menu-icon{\r\n",
      "                  float: right;\r\n",
      "                  font-size: 7px;\r\n",
      "                  line-height: 20px;\r\n",
      "                }.tdb-horiz-menu ul li > a .tdb-sub-menu-icon-svg svg{\r\n",
      "                  width: 7px;\r\n",
      "                }.tdc-dragged .tdb-horiz-menu ul{\r\n",
      "                  visibility: hidden !important;\r\n",
      "                  opacity: 0 !important;\r\n",
      "                  -webkit-transition: all 0.3s ease;\r\n",
      "                  transition: all 0.3s ease;\r\n",
      "                }.tdi_29{\r\n",
      "                    display: inline-block;\r\n",
      "                }.tdi_29 .tdb-horiz-menu > li{\r\n",
      "                    margin-right: 16px;\r\n",
      "                }.tdi_29 .tdb-horiz-menu > li:last-child{\r\n",
      "                    margin-right: 0;\r\n",
      "                }.tdi_29 .tdb-horiz-menu > li > a{\r\n",
      "                    padding: 0px;\r\n",
      "                \r\n",
      "                    color: #ffffff;\r\n",
      "                \r\n",
      "                    font-size:11px !important;line-height:28px !important;font-weight:400 !important;\r\n",
      "                }.tdi_29 .tdb-horiz-menu > li .tdb-menu-sep{\r\n",
      "                    top: 0px;\r\n",
      "                }.tdi_29 .tdb-horiz-menu > li > a  .tdb-sub-menu-icon{\r\n",
      "                    top: 0px;\r\n",
      "                }.tdi_29 .tdb-horiz-menu > li > a .tdb-sub-menu-icon-svg svg,\r\n",
      "                .tdi_29 .tdb-horiz-menu > li > a .tdb-sub-menu-icon-svg svg *{\r\n",
      "                    fill: #ffffff;\r\n",
      "                }.tdi_29 .tdb-horiz-menu > li.current-menu-item > a,\r\n",
      "                .tdi_29 .tdb-horiz-menu > li.current-menu-ancestor > a,\r\n",
      "                .tdi_29 .tdb-horiz-menu > li.current-category-ancestor > a,\r\n",
      "                .tdi_29 .tdb-horiz-menu > li:hover > a{\r\n",
      "                    color: #4db2ec;\r\n",
      "                }.tdi_29 .tdb-horiz-menu > li.current-menu-item > a .tdb-sub-menu-icon-svg svg,\r\n",
      "                .tdi_29 .tdb-horiz-menu > li.current-menu-item > a .tdb-sub-menu-icon-svg svg *,\r\n",
      "                .tdi_29 .tdb-horiz-menu > li.current-menu-ancestor > a .tdb-sub-menu-icon-svg svg,\r\n",
      "                .tdi_29 .tdb-horiz-menu > li.current-menu-ancestor > a .tdb-sub-menu-icon-svg svg *,\r\n",
      "                .tdi_29 .tdb-horiz-menu > li.current-category-ancestor > a .tdb-sub-menu-icon-svg svg,\r\n",
      "                .tdi_29 .tdb-horiz-menu > li.current-category-ancestor > a .tdb-sub-menu-icon-svg svg *,\r\n",
      "                .tdi_29 .tdb-horiz-menu > li:hover > a .tdb-sub-menu-icon-svg svg,\r\n",
      "                .tdi_29 .tdb-horiz-menu > li:hover > a .tdb-sub-menu-icon-svg svg *{\r\n",
      "                    fill: #4db2ec;\r\n",
      "                }.tdi_29 .tdb-horiz-menu ul{\r\n",
      "                    left: -18px;\r\n",
      "                \r\n",
      "                    box-shadow:  1px 1px 4px 0px rgba(0, 0, 0, 0.15);\r\n",
      "                }.tdi_29 .tdb-horiz-menu ul li > a{\r\n",
      "                    line-height:1.2 !important;\r\n",
      "                }\n",
      "</style><div id=tdi_29 class=\"td_block_inner td-fix-index\"><div class=\"menu-main-2-container\"><ul id=\"menu-main-5\" class=\"tdb-horiz-menu\"><li class=\"menu-item menu-item-type-taxonomy menu-item-object-category menu-item-4058\"><a href=\"https://insights.blackcoffer.com/category/our-success-stories/\"><div class=\"tdb-menu-item-text\">Our Success Stories</div></a></li>\n",
      "<li class=\"menu-item menu-item-type-taxonomy menu-item-object-category menu-item-4059\"><a href=\"https://insights.blackcoffer.com/category/our-solutions/\"><div class=\"tdb-menu-item-text\">What We Do</div></a></li>\n",
      "<li class=\"menu-item menu-item-type-taxonomy menu-item-object-category current-post-ancestor current-menu-parent current-post-parent menu-item-4060\"><a href=\"https://insights.blackcoffer.com/category/what-we-think/\"><div class=\"tdb-menu-item-text\">What We Think</div></a></li>\n",
      "<li class=\"menu-item menu-item-type-taxonomy menu-item-object-category menu-item-4061\"><a href=\"https://insights.blackcoffer.com/category/how-to/\"><div class=\"tdb-menu-item-text\">How To</div></a></li>\n",
      "<li class=\"menu-item menu-item-type-custom menu-item-object-custom menu-item-4062\"><a target=\"_blank\" href=\"https://blackcoffer.com/get-blackcoffer-demo/\"><div class=\"tdb-menu-item-text\">Schedule Demo</div></a></li>\n",
      "<li class=\"menu-item menu-item-type-post_type menu-item-object-page menu-item-4063\"><a href=\"https://insights.blackcoffer.com/contact/\"><div class=\"tdb-menu-item-text\">Contact</div></a></li>\n",
      "</ul></div></div></div><div class=\"tdm_block td_block_wrap tdm_block_socials tdi_30 tdm-content-horiz-left td-pb-border-top td_block_template_1\"  data-td-block-uid=\"tdi_30\" >\n",
      "<style>\n",
      "/* custom css */\n",
      ".tdm_block.tdm_block_socials{\r\n",
      "                  margin-bottom: 0;\r\n",
      "                }.tdm-social-wrapper{\r\n",
      "                  *zoom: 1;\r\n",
      "                }.tdm-social-wrapper:before,\r\n",
      "                .tdm-social-wrapper:after{\r\n",
      "                  display: table;\r\n",
      "                  content: '';\r\n",
      "                  line-height: 0;\r\n",
      "                }.tdm-social-wrapper:after{\r\n",
      "                  clear: both;\r\n",
      "                }.tdm-social-item-wrap{\r\n",
      "                  display: inline-block;\r\n",
      "                }.tdm-social-item{\r\n",
      "                  position: relative;\r\n",
      "                  display: inline-block;\r\n",
      "                  vertical-align: middle;\r\n",
      "                  -webkit-transition: all 0.2s;\r\n",
      "                  transition: all 0.2s;\r\n",
      "                  text-align: center;\r\n",
      "                  -webkit-transform: translateZ(0);\r\n",
      "                  transform: translateZ(0);\r\n",
      "                }.tdm-social-item i{\r\n",
      "                  font-size: 14px;\r\n",
      "                  color: #4db2ec;\r\n",
      "                  -webkit-transition: all 0.2s;\r\n",
      "                  transition: all 0.2s;\r\n",
      "                }.tdm-social-text{\r\n",
      "                  display: none;\r\n",
      "                  margin-top: -1px;\r\n",
      "                  vertical-align: middle;\r\n",
      "                  font-size: 13px;\r\n",
      "                  color: #4db2ec;\r\n",
      "                  -webkit-transition: all 0.2s;\r\n",
      "                  transition: all 0.2s;\r\n",
      "                }.tdm-social-item-wrap:hover i,\r\n",
      "                .tdm-social-item-wrap:hover .tdm-social-text{\r\n",
      "                  color: #000;\r\n",
      "                }.tdm-social-item-wrap:last-child .tdm-social-text{\r\n",
      "                  margin-right: 0 !important;\r\n",
      "                }.tdi_30{\r\n",
      "                    float: right;\r\n",
      "                    clear: none;\r\n",
      "                }\n",
      "</style>\n",
      "<style>\n",
      ".tdi_31 .tdm-social-item i{\r\n",
      "\t\t\t\t\tfont-size: 12px;\r\n",
      "\t\t\t\t\tvertical-align: middle;\r\n",
      "\t\t\t\t\r\n",
      "\t\t\t\t\tline-height: 22.8px;\r\n",
      "\t\t\t\t}.tdi_31 .tdm-social-item i.td-icon-twitter,\r\n",
      "\t\t\t\t.tdi_31 .tdm-social-item i.td-icon-linkedin,\r\n",
      "\t\t\t\t.tdi_31 .tdm-social-item i.td-icon-pinterest,\r\n",
      "\t\t\t\t.tdi_31 .tdm-social-item i.td-icon-blogger,\r\n",
      "\t\t\t\t.tdi_31 .tdm-social-item i.td-icon-vimeo{\r\n",
      "\t\t\t\t\tfont-size: 9.6px;\r\n",
      "\t\t\t\t}.tdi_31 .tdm-social-item{\r\n",
      "\t\t\t\t\twidth: 22.8px;\r\n",
      "\t\t\t\t\theight: 22.8px;\r\n",
      "\t\t\t\t\r\n",
      "\t\t\t\t    margin: 2.5px 5px 2.5px 0;\r\n",
      "\t\t\t\t}.tdi_31 .tdm-social-item-wrap:last-child .tdm-social-item{\r\n",
      "\t\t\t\t    margin-right: 0 !important;\r\n",
      "\t\t\t\t}.tdi_31 .tdm-social-item i,\r\n",
      "\t\t\t\t.tds-team-member2 .tdi_31.tds-social1 .tdm-social-item i{\r\n",
      "\t\t\t\t\tcolor: #ffffff;\r\n",
      "\t\t\t\t}.tdi_31 .tdm-social-item-wrap:hover i,\r\n",
      "\t\t\t\t.tds-team-member2 .tdi_31.tds-social1 .tdm-social-item:hover i{\r\n",
      "\t\t\t\t\tcolor: #4db2ec;\r\n",
      "\t\t\t\t}.tdi_31 .tdm-social-text{\r\n",
      "\t\t\t\t\tdisplay: none;\r\n",
      "\t\t\t\t\r\n",
      "\t\t\t\t\tmargin-left: 2px;\r\n",
      "\t\t\t\t\r\n",
      "\t\t\t\t\tmargin-right: 18px;\r\n",
      "\t\t\t\t}\n",
      "</style><div class=\"tdm-social-wrapper tds-social1 tdi_31\"><div class=\"tdm-social-item-wrap\"><a href=\"https://www.facebook.com/blackcoffer.consulting\"  target=\"_blank\"  title=\"Facebook\" class=\"tdm-social-item\"><i class=\"td-icon-font td-icon-facebook\"></i><span style=\"display: none\">Facebook</span></a></div><div class=\"tdm-social-item-wrap\"><a href=\"https://in.linkedin.com/company/blackcoffer\"  target=\"_blank\"  title=\"Linkedin\" class=\"tdm-social-item\"><i class=\"td-icon-font td-icon-linkedin\"></i><span style=\"display: none\">Linkedin</span></a></div><div class=\"tdm-social-item-wrap\"><a href=\"https://twitter.com/Blackcoffer1\"  target=\"_blank\"  title=\"Twitter\" class=\"tdm-social-item\"><i class=\"td-icon-font td-icon-twitter\"></i><span style=\"display: none\">Twitter</span></a></div><div class=\"tdm-social-item-wrap\"><a href=\"https://www.youtube.com/channel/UCfr95TYacXeHI3cklmYdtXg\"  target=\"_blank\"  title=\"Youtube\" class=\"tdm-social-item\"><i class=\"td-icon-font td-icon-youtube\"></i><span style=\"display: none\">Youtube</span></a></div></div></div></div></div></div></div><div id=\"tdi_32\" class=\"tdc-row\"><div class=\"vc_row tdi_33  wpb_row td-pb-row\" >\n",
      "<style scoped>\n",
      "\n",
      "/* custom css */\n",
      ".tdi_33,\r\n",
      "                .tdi_33 .tdc-columns{\r\n",
      "                    min-height: 0;\r\n",
      "                }.tdi_33,\r\n",
      "\t\t\t\t.tdi_33 .tdc-columns{\r\n",
      "\t\t\t\t    display: block;\r\n",
      "\t\t\t\t}.tdi_33 .tdc-columns{\r\n",
      "\t\t\t\t    width: 100%;\r\n",
      "\t\t\t\t}\n",
      "</style><div class=\"vc_column tdi_35  wpb_column vc_column_container tdc-column td-pb-span12\">\n",
      "<style scoped>\n",
      "\n",
      "/* custom css */\n",
      ".tdi_35{\r\n",
      "                    vertical-align: baseline;\r\n",
      "                }.tdi_35 > .wpb_wrapper,\r\n",
      "\t\t\t\t.tdi_35 > .wpb_wrapper > .tdc-elements{\r\n",
      "\t\t\t\t    display: block;\r\n",
      "\t\t\t\t}.tdi_35 > .wpb_wrapper > .tdc-elements{\r\n",
      "\t\t\t\t    width: 100%;\r\n",
      "\t\t\t\t}.tdi_35 > .wpb_wrapper > .vc_row_inner{\r\n",
      "\t\t\t\t    width: auto;\r\n",
      "\t\t\t\t}.tdi_35 > .wpb_wrapper{\r\n",
      "\t\t\t\t    width: auto;\r\n",
      "\t\t\t\t    height: auto;\r\n",
      "\t\t\t\t}\n",
      "</style><div class=\"wpb_wrapper\" ><div class=\"vc_row_inner tdi_37  vc_row vc_inner wpb_row td-pb-row tdc-row-content-vert-center\" >\n",
      "<style scoped>\n",
      "\n",
      "/* custom css */\n",
      ".tdi_37{\r\n",
      "                    position: relative !important;\r\n",
      "                    top: 0;\r\n",
      "                    transform: none;\r\n",
      "                    -webkit-transform: none;\r\n",
      "                }.tdi_37,\r\n",
      "\t\t\t\t.tdi_37 .tdc-inner-columns{\r\n",
      "\t\t\t\t    display: block;\r\n",
      "\t\t\t\t}.tdi_37 .tdc-inner-columns{\r\n",
      "\t\t\t\t    width: 100%;\r\n",
      "\t\t\t\t}@media (min-width: 768px) {\r\n",
      "\t                .tdi_37 {\r\n",
      "\t                    margin-left: -0px;\r\n",
      "\t                    margin-right: -0px;\r\n",
      "\t                }\r\n",
      "\t                .tdi_37 .vc_column_inner {\r\n",
      "\t                    padding-left: 0px;\r\n",
      "\t                    padding-right: 0px;\r\n",
      "\t                }\r\n",
      "                }@media (min-width: 767px) {\r\n",
      "                    .tdi_37.tdc-row-content-vert-center,\r\n",
      "                    .tdi_37.tdc-row-content-vert-center .tdc-inner-columns {\r\n",
      "                        display: flex;\r\n",
      "                        align-items: center;\r\n",
      "                        flex: 1;\r\n",
      "                    }\r\n",
      "                    .tdi_37.tdc-row-content-vert-bottom,\r\n",
      "                    .tdi_37.tdc-row-content-vert-bottom .tdc-inner-columns {\r\n",
      "                        display: flex;\r\n",
      "                        align-items: flex-end;\r\n",
      "                        flex: 1;\r\n",
      "                    }\r\n",
      "                    .tdi_37.tdc-row-content-vert-center .td_block_wrap {\r\n",
      "                        vertical-align: middle;\r\n",
      "                    }\r\n",
      "                    .tdi_37.tdc-row-content-vert-bottom .td_block_wrap {\r\n",
      "                        vertical-align: bottom;\r\n",
      "                    }\r\n",
      "                }\n",
      "/* inline tdc_css att */\n",
      "\n",
      ".tdi_37{\n",
      "padding-top:28px !important;\n",
      "padding-bottom:9px !important;\n",
      "}\n",
      "\n",
      ".tdi_37 .td_block_wrap{ text-align:left }\n",
      "\n",
      "/* portrait */\n",
      "@media (min-width: 768px) and (max-width: 1018px)\n",
      "{\n",
      ".tdi_37{\n",
      "margin-bottom:-3px !important;\n",
      "padding-top:9px !important;\n",
      "padding-bottom:0px !important;\n",
      "}\n",
      "}\n",
      "\n",
      "</style><div class=\"vc_column_inner tdi_39  wpb_column vc_column_container tdc-inner-column td-pb-span4\">\n",
      "<style scoped>\n",
      "\n",
      "/* custom css */\n",
      ".tdi_39{\r\n",
      "                    vertical-align: baseline;\r\n",
      "                }.tdi_39 .vc_column-inner > .wpb_wrapper,\r\n",
      "\t\t\t\t.tdi_39 .vc_column-inner > .wpb_wrapper .tdc-elements{\r\n",
      "\t\t\t\t    display: block;\r\n",
      "\t\t\t\t}.tdi_39 .vc_column-inner > .wpb_wrapper .tdc-elements{\r\n",
      "\t\t\t\t    width: 100%;\r\n",
      "\t\t\t\t}\n",
      "/* inline tdc_css att */\n",
      "\n",
      ".tdi_39{\n",
      "width:30% !important;\n",
      "}\n",
      "\n",
      "/* landscape */\n",
      "@media (min-width: 1019px) and (max-width: 1140px)\n",
      "{\n",
      ".tdi_39{\n",
      "width:24% !important;\n",
      "}\n",
      "}\n",
      "\n",
      "/* portrait */\n",
      "@media (min-width: 768px) and (max-width: 1018px)\n",
      "{\n",
      ".tdi_39{\n",
      "width:calc(100% - 468px) !important;\n",
      "}\n",
      "}\n",
      "\n",
      "</style><div class=\"vc_column-inner\"><div class=\"wpb_wrapper\" ><div class=\"td_block_wrap tdb_header_logo tdi_40 td-pb-border-top td_block_template_1 tdb-header-align\"  data-td-block-uid=\"tdi_40\" >\n",
      "<style>\n",
      "/* custom css */\n",
      ".tdi_40 .tdb-logo-a,\r\n",
      "                .tdi_40 h1{\r\n",
      "                    flex-direction: row;\r\n",
      "                \r\n",
      "                    align-items: center;\r\n",
      "                \r\n",
      "                    justify-content: center;\r\n",
      "                }.tdi_40 .tdb-logo-svg-wrap{\r\n",
      "                    display: block;\r\n",
      "                }.tdi_40 .tdb-logo-svg-wrap + .tdb-logo-img-wrap{\r\n",
      "                    display: none;\r\n",
      "                }.tdi_40 .tdb-logo-img-wrap{\r\n",
      "                    display: block;\r\n",
      "                }.tdi_40 .tdb-logo-text-tagline{\r\n",
      "                    margin-top: 2px;\r\n",
      "                    margin-left: 0;\r\n",
      "                \r\n",
      "                    display: block;\r\n",
      "                }.tdi_40 .tdb-logo-text-title{\r\n",
      "                    display: block;\r\n",
      "                }.tdi_40 .tdb-logo-text-wrap{\r\n",
      "                    flex-direction: column;\r\n",
      "                \r\n",
      "                    align-items: flex-start;\r\n",
      "                }.tdi_40 .tdb-logo-icon{\r\n",
      "                    top: 0px;\r\n",
      "                \r\n",
      "                    display: block;\r\n",
      "                }\n",
      "\n",
      "/* portrait */\n",
      "@media (min-width: 768px) and (max-width: 1018px){\n",
      ".tdi_40 .tdb-logo-img{\r\n",
      "                    max-width: 220px;\r\n",
      "                }\n",
      "}\n",
      "</style><div class=\"tdb-block-inner td-fix-index\"><a class=\"tdb-logo-a\" href=\"https://insights.blackcoffer.com/\"><span class=\"tdb-logo-img-wrap\"><img class=\"tdb-logo-img\" src=\"https://insights.blackcoffer.com/wp-content/uploads/2018/12/Insights-blackv02.png\" alt=\"Logo\"  title=\"\"  /></span></a></div></div> <!-- ./block --></div></div></div><div class=\"vc_column_inner tdi_42  wpb_column vc_column_container tdc-inner-column td-pb-span8\">\n",
      "<style scoped>\n",
      "\n",
      "/* custom css */\n",
      ".tdi_42{\r\n",
      "                    vertical-align: baseline;\r\n",
      "                }.tdi_42 .vc_column-inner > .wpb_wrapper,\r\n",
      "\t\t\t\t.tdi_42 .vc_column-inner > .wpb_wrapper .tdc-elements{\r\n",
      "\t\t\t\t    display: block;\r\n",
      "\t\t\t\t}.tdi_42 .vc_column-inner > .wpb_wrapper .tdc-elements{\r\n",
      "\t\t\t\t    width: 100%;\r\n",
      "\t\t\t\t}\n",
      "/* inline tdc_css att */\n",
      "\n",
      ".tdi_42{\n",
      "width:70% !important;\n",
      "z-index:0 !important;\n",
      "}\n",
      "\n",
      "/* landscape */\n",
      "@media (min-width: 1019px) and (max-width: 1140px)\n",
      "{\n",
      ".tdi_42{\n",
      "width:76% !important;\n",
      "}\n",
      "}\n",
      "\n",
      "/* portrait */\n",
      "@media (min-width: 768px) and (max-width: 1018px)\n",
      "{\n",
      ".tdi_42{\n",
      "width:468px !important;\n",
      "}\n",
      "}\n",
      "\n",
      "</style><div class=\"vc_column-inner\"><div class=\"wpb_wrapper\" ><div class=\"td-a-rec td-a-rec-id-header  td-rec-hide-on-p image tdi_43 td_block_template_1\">\n",
      "<style>\n",
      "\n",
      "/* inline tdc_css att */\n",
      "\n",
      ".tdi_43{\n",
      "margin-bottom:0px !important;\n",
      "}\n",
      "\n",
      "</style>\n",
      "<style>\n",
      "/* custom css */\n",
      ".tdi_43.td-a-rec{\r\n",
      "\t\t\t\t\ttext-align: center;\r\n",
      "\t\t\t\t}.tdi_43 .td-element-style{\r\n",
      "\t\t\t\t\tz-index: -1;\r\n",
      "\t\t\t\t}.tdi_43.td-a-rec-img{\r\n",
      "\t\t\t\t    text-align: right;\r\n",
      "\t\t\t\t}.tdi_43.td-a-rec-img img{\r\n",
      "                    margin: 0 0 0 auto;\r\n",
      "                }@media (max-width: 767px) {\r\n",
      "\t\t\t\t    .tdi_43.td-a-rec-img {\r\n",
      "\t\t\t\t        text-align: center;\r\n",
      "\t\t\t\t    }\r\n",
      "                }\n",
      "</style><div class=\"td-all-devices\"><a href=\"https://blackcoffer.com/contact-us/\" target=\"_blank\"><img src=\"https://insights.blackcoffer.com/wp-content/uploads/2018/12/1.png\"  style=\"transition: all 0.3s ease 0s; transform: scale(1);\" onmouseover=\"this.style.transform=`scale(0.9)`\" onmouseout=\"this.style.transform=`scale(1)`\"/></a></div></div></div></div></div></div><div class=\"vc_row_inner tdi_45  vc_row vc_inner wpb_row td-pb-row\" >\n",
      "<style scoped>\n",
      "\n",
      "/* custom css */\n",
      ".tdi_45{\r\n",
      "                    position: relative !important;\r\n",
      "                    top: 0;\r\n",
      "                    transform: none;\r\n",
      "                    -webkit-transform: none;\r\n",
      "                }.tdi_45,\r\n",
      "\t\t\t\t.tdi_45 .tdc-inner-columns{\r\n",
      "\t\t\t\t    display: block;\r\n",
      "\t\t\t\t}.tdi_45 .tdc-inner-columns{\r\n",
      "\t\t\t\t    width: 100%;\r\n",
      "\t\t\t\t}\n",
      "</style><div class=\"vc_column_inner tdi_47  wpb_column vc_column_container tdc-inner-column td-pb-span12\">\n",
      "<style scoped>\n",
      "\n",
      "/* custom css */\n",
      ".tdi_47{\r\n",
      "                    vertical-align: baseline;\r\n",
      "                }.tdi_47 .vc_column-inner > .wpb_wrapper,\r\n",
      "\t\t\t\t.tdi_47 .vc_column-inner > .wpb_wrapper .tdc-elements{\r\n",
      "\t\t\t\t    display: block;\r\n",
      "\t\t\t\t}.tdi_47 .vc_column-inner > .wpb_wrapper .tdc-elements{\r\n",
      "\t\t\t\t    width: 100%;\r\n",
      "\t\t\t\t}\n",
      "/* inline tdc_css att */\n",
      "\n",
      ".tdi_47{\n",
      "position:relative;\n",
      "}\n",
      "\n",
      "</style>\n",
      "<div class=\"tdi_46_rand_style td-element-style\" ><style>\n",
      ".tdi_46_rand_style{\n",
      "background-color:#ffffff !important;\n",
      "}\n",
      " </style></div><div class=\"vc_column-inner\"><div class=\"wpb_wrapper\" ><div class=\"td_block_wrap tdb_header_menu tdi_48 tds_menu_active1 tds_menu_sub_active1 tdb-head-menu-inline tdb-mm-align-screen td-pb-border-top td_block_template_1 tdb-header-align\"  data-td-block-uid=\"tdi_48\"  style=\" z-index: 999;\">\n",
      "<style>\n",
      "/* custom css */\n",
      ".tdb_header_menu{\r\n",
      "                  margin-bottom: 0;\r\n",
      "                  z-index: 999;\r\n",
      "                  clear: none;\r\n",
      "                }.tdb_header_menu .tdb-main-sub-icon-fake,\r\n",
      "                .tdb_header_menu .tdb-sub-icon-fake{\r\n",
      "                    display: none;\r\n",
      "                }.rtl .tdb_header_menu .tdb-menu{\r\n",
      "                  display: flex;\r\n",
      "                }.tdb_header_menu .tdb-menu{\r\n",
      "                  display: inline-block;\r\n",
      "                  vertical-align: middle;\r\n",
      "                  margin: 0;\r\n",
      "                }.tdb_header_menu .tdb-menu .tdb-mega-menu-inactive,\r\n",
      "                .tdb_header_menu .tdb-menu .tdb-menu-item-inactive{\r\n",
      "                  pointer-events: none;\r\n",
      "                }.tdb_header_menu .tdb-menu .tdb-mega-menu-inactive > ul,\r\n",
      "                .tdb_header_menu .tdb-menu .tdb-menu-item-inactive > ul{\r\n",
      "                  visibility: hidden;\r\n",
      "                  opacity: 0;\r\n",
      "                }.tdb_header_menu .tdb-menu .sub-menu{\r\n",
      "                  font-size: 14px;\r\n",
      "                \r\n",
      "                  position: absolute;\r\n",
      "                  top: -999em;\r\n",
      "                  background-color: #fff;\r\n",
      "                  z-index: 99;\r\n",
      "                }.tdb_header_menu .tdb-menu .sub-menu > li{\r\n",
      "                  list-style-type: none;\r\n",
      "                  margin: 0;\r\n",
      "                  font-family: 'Open Sans', 'Open Sans Regular', sans-serif;\r\n",
      "                }.tdb_header_menu .tdb-menu > li{\r\n",
      "                  float: left;\r\n",
      "                  list-style-type: none;\r\n",
      "                  margin: 0;\r\n",
      "                }.tdb_header_menu .tdb-menu > li > a{\r\n",
      "                  position: relative;\r\n",
      "                  display: inline-block;\r\n",
      "                  padding: 0 14px;\r\n",
      "                  font-weight: 700;\r\n",
      "                  font-size: 14px;\r\n",
      "                  line-height: 48px;\r\n",
      "                  vertical-align: middle;\r\n",
      "                  text-transform: uppercase;\r\n",
      "                  -webkit-backface-visibility: hidden;\r\n",
      "                  color: #000;\r\n",
      "                  font-family: 'Open Sans', 'Open Sans Regular', sans-serif;\r\n",
      "                }.tdb_header_menu .tdb-menu > li > a:after{\r\n",
      "                  content: '';\r\n",
      "                  position: absolute;\r\n",
      "                  bottom: 0;\r\n",
      "                  left: 0;\r\n",
      "                  right: 0;\r\n",
      "                  margin: 0 auto;\r\n",
      "                  width: 0;\r\n",
      "                  height: 3px;\r\n",
      "                  background-color: #4db2ec;\r\n",
      "                  -webkit-transform: translate3d(0, 0, 0);\r\n",
      "                  transform: translate3d(0, 0, 0);\r\n",
      "                  -webkit-transition: width 0.2s ease;\r\n",
      "                  transition: width 0.2s ease;\r\n",
      "                }.tdb_header_menu .tdb-menu > li > a > .tdb-menu-item-text{\r\n",
      "                  display: inline-block;\r\n",
      "                }.tdb_header_menu .tdb-menu > li > a .tdb-menu-item-text,\r\n",
      "                .tdb_header_menu .tdb-menu > li > a span{\r\n",
      "                  vertical-align: middle;\r\n",
      "                  float: left;\r\n",
      "                }.tdb_header_menu .tdb-menu > li > a .tdb-sub-menu-icon{\r\n",
      "                  margin: 0 0 0 7px;\r\n",
      "                }.tdb_header_menu .tdb-menu > li > a .tdb-sub-menu-icon-svg{\r\n",
      "                  float: none;\r\n",
      "                  line-height: 0;\r\n",
      "                }.tdb_header_menu .tdb-menu > li > a .tdb-sub-menu-icon-svg svg{\r\n",
      "                  width: 14px;\r\n",
      "                  height: auto;\r\n",
      "                }.tdb_header_menu .tdb-menu > li > a .tdb-sub-menu-icon-svg svg,\r\n",
      "                .tdb_header_menu .tdb-menu > li > a .tdb-sub-menu-icon-svg svg *{\r\n",
      "                  fill: #000;\r\n",
      "                }.tdb_header_menu .tdb-menu > li.current-menu-item > a:after,\r\n",
      "                .tdb_header_menu .tdb-menu > li.current-menu-ancestor > a:after,\r\n",
      "                .tdb_header_menu .tdb-menu > li.current-category-ancestor > a:after,\r\n",
      "                .tdb_header_menu .tdb-menu > li:hover > a:after,\r\n",
      "                .tdb_header_menu .tdb-menu > li.tdb-hover > a:after{\r\n",
      "                  width: 100%;\r\n",
      "                }.tdb_header_menu .tdb-menu > li:hover > ul,\r\n",
      "                .tdb_header_menu .tdb-menu > li.tdb-hover > ul{\r\n",
      "                  top: auto;\r\n",
      "                  display: block !important;\r\n",
      "                }.tdb_header_menu .tdb-menu > li.td-normal-menu > ul.sub-menu{\r\n",
      "                  top: auto;\r\n",
      "                  left: 0;\r\n",
      "                  z-index: 99;\r\n",
      "                }.tdb_header_menu .tdb-menu > li .tdb-menu-sep{\r\n",
      "                  position: relative;\r\n",
      "                  vertical-align: middle;\r\n",
      "                  font-size: 14px;\r\n",
      "                }.tdb_header_menu .tdb-menu > li .tdb-menu-sep-svg{\r\n",
      "                  line-height: 0;\r\n",
      "                }.tdb_header_menu .tdb-menu > li .tdb-menu-sep-svg svg{\r\n",
      "                  width: 14px;\r\n",
      "                  height: auto;\r\n",
      "                }.tdb_header_menu .tdb-menu > li:last-child .tdb-menu-sep{\r\n",
      "                  display: none;\r\n",
      "                }.tdb_header_menu .tdb-menu-item-text{\r\n",
      "                  word-wrap: break-word;\r\n",
      "                }.tdb_header_menu .tdb-menu-item-text,\r\n",
      "                .tdb_header_menu .tdb-sub-menu-icon,\r\n",
      "                .tdb_header_menu .tdb-menu-more-subicon{\r\n",
      "                  vertical-align: middle;\r\n",
      "                }.tdb_header_menu .tdb-sub-menu-icon,\r\n",
      "                .tdb_header_menu .tdb-menu-more-subicon{\r\n",
      "                  position: relative;\r\n",
      "                  top: 0;\r\n",
      "                  padding-left: 0;\r\n",
      "                }.tdb_header_menu .tdb-normal-menu{\r\n",
      "                  position: relative;\r\n",
      "                }.tdb_header_menu .tdb-normal-menu ul{\r\n",
      "                  left: 0;\r\n",
      "                  padding: 15px 0;\r\n",
      "                  text-align: left;\r\n",
      "                }.tdb_header_menu .tdb-normal-menu ul ul{\r\n",
      "                  margin-top: -15px;\r\n",
      "                }.tdb_header_menu .tdb-normal-menu ul .tdb-menu-item{\r\n",
      "                  position: relative;\r\n",
      "                  list-style-type: none;\r\n",
      "                }.tdb_header_menu .tdb-normal-menu ul .tdb-menu-item > a{\r\n",
      "                  position: relative;\r\n",
      "                  display: block;\r\n",
      "                  padding: 7px 30px;\r\n",
      "                  font-size: 12px;\r\n",
      "                  line-height: 20px;\r\n",
      "                  color: #111;\r\n",
      "                }.tdb_header_menu .tdb-normal-menu ul .tdb-menu-item > a .tdb-sub-menu-icon,\r\n",
      "                .tdb_header_menu .td-pulldown-filter-list .tdb-menu-item > a .tdb-sub-menu-icon{\r\n",
      "                  position: absolute;\r\n",
      "                  top: 50%;\r\n",
      "                  -webkit-transform: translateY(-50%);\r\n",
      "                  transform: translateY(-50%);\r\n",
      "                  right: 0;\r\n",
      "                  padding-right: inherit;\r\n",
      "                  font-size: 7px;\r\n",
      "                  line-height: 20px;\r\n",
      "                }.tdb_header_menu .tdb-normal-menu ul .tdb-menu-item > a .tdb-sub-menu-icon-svg,\r\n",
      "                .tdb_header_menu .td-pulldown-filter-list .tdb-menu-item > a .tdb-sub-menu-icon-svg{\r\n",
      "                  line-height: 0;\r\n",
      "                }.tdb_header_menu .tdb-normal-menu ul .tdb-menu-item > a .tdb-sub-menu-icon-svg svg,\r\n",
      "                .tdb_header_menu .td-pulldown-filter-list .tdb-menu-item > a .tdb-sub-menu-icon-svg svg{\r\n",
      "                  width: 7px;\r\n",
      "                  height: auto;\r\n",
      "                }.tdb_header_menu .tdb-normal-menu ul .tdb-menu-item > a .tdb-sub-menu-icon-svg svg,\r\n",
      "                .tdb_header_menu .tdb-normal-menu ul .tdb-menu-item > a .tdb-sub-menu-icon-svg svg *,\r\n",
      "                .tdb_header_menu .td-pulldown-filter-list .tdb-menu-item > a .tdb-sub-menu-icon svg,\r\n",
      "                .tdb_header_menu .td-pulldown-filter-list .tdb-menu-item > a .tdb-sub-menu-icon svg *{\r\n",
      "                  fill: #000;\r\n",
      "                }.tdb_header_menu .tdb-normal-menu ul .tdb-menu-item:hover > ul,\r\n",
      "                .tdb_header_menu .tdb-normal-menu ul .tdb-menu-item.tdb-hover > ul{\r\n",
      "                  top: 0;\r\n",
      "                  display: block !important;\r\n",
      "                }.tdb_header_menu .tdb-normal-menu ul .tdb-menu-item.current-menu-item > a,\r\n",
      "                .tdb_header_menu .tdb-normal-menu ul .tdb-menu-item.current-menu-ancestor > a,\r\n",
      "                .tdb_header_menu .tdb-normal-menu ul .tdb-menu-item.current-category-ancestor > a,\r\n",
      "                .tdb_header_menu .tdb-normal-menu ul .tdb-menu-item.tdb-hover > a,\r\n",
      "                .tdb_header_menu .tdb-normal-menu ul .tdb-menu-item:hover > a{\r\n",
      "                  color: #4db2ec;\r\n",
      "                }.tdb_header_menu .tdb-normal-menu > ul{\r\n",
      "                  left: -15px;\r\n",
      "                }.tdb_header_menu.tdb-menu-sub-inline .tdb-normal-menu ul,\r\n",
      "                .tdb_header_menu.tdb-menu-sub-inline .td-pulldown-filter-list{\r\n",
      "                  width: 100% !important;\r\n",
      "                }.tdb_header_menu.tdb-menu-sub-inline .tdb-normal-menu ul li,\r\n",
      "                .tdb_header_menu.tdb-menu-sub-inline .td-pulldown-filter-list li{\r\n",
      "                  display: inline-block;\r\n",
      "                  width: auto !important;\r\n",
      "                }.tdb_header_menu.tdb-menu-sub-inline .tdb-normal-menu,\r\n",
      "                .tdb_header_menu.tdb-menu-sub-inline .tdb-normal-menu .tdb-menu-item{\r\n",
      "                  position: static;\r\n",
      "                }.tdb_header_menu.tdb-menu-sub-inline .tdb-normal-menu ul ul{\r\n",
      "                  margin-top: 0 !important;\r\n",
      "                }.tdb_header_menu.tdb-menu-sub-inline .tdb-normal-menu > ul{\r\n",
      "                  left: 0 !important;\r\n",
      "                }.tdb_header_menu.tdb-menu-sub-inline .tdb-normal-menu .tdb-menu-item > a .tdb-sub-menu-icon{\r\n",
      "                  float: none;\r\n",
      "                  line-height: 1;\r\n",
      "                }.tdb_header_menu.tdb-menu-sub-inline .tdb-normal-menu .tdb-menu-item:hover > ul,\r\n",
      "                .tdb_header_menu.tdb-menu-sub-inline .tdb-normal-menu .tdb-menu-item.tdb-hover > ul{\r\n",
      "                  top: 100%;\r\n",
      "                }.tdb_header_menu.tdb-menu-sub-inline .tdb-menu-items-dropdown{\r\n",
      "                  position: static;\r\n",
      "                }.tdb_header_menu.tdb-menu-sub-inline .td-pulldown-filter-list{\r\n",
      "                  left: 0 !important;\r\n",
      "                }.tdb-menu .tdb-mega-menu .sub-menu{\r\n",
      "                  -webkit-transition: opacity 0.3s ease;\r\n",
      "                  transition: opacity 0.3s ease;\r\n",
      "                  width: 1114px !important;\r\n",
      "                }.tdb-menu .tdb-mega-menu .sub-menu,\r\n",
      "                .tdb-menu .tdb-mega-menu .sub-menu > li{\r\n",
      "                  position: absolute;\r\n",
      "                  left: 50%;\r\n",
      "                  -webkit-transform: translateX(-50%);\r\n",
      "                  transform: translateX(-50%);\r\n",
      "                }.tdb-menu .tdb-mega-menu .sub-menu > li{\r\n",
      "                  top: 0;\r\n",
      "                  width: 100%;\r\n",
      "                  max-width: 1114px !important;\r\n",
      "                  height: auto;\r\n",
      "                  background-color: #fff;\r\n",
      "                  border: 1px solid #eaeaea;\r\n",
      "                  overflow: hidden;\r\n",
      "                }.tdc-dragged .tdb-block-menu ul{\r\n",
      "                  visibility: hidden !important;\r\n",
      "                  opacity: 0 !important;\r\n",
      "                  -webkit-transition: all 0.3s ease;\r\n",
      "                  transition: all 0.3s ease;\r\n",
      "                }.tdb-mm-align-screen .tdb-menu .tdb-mega-menu .sub-menu{\r\n",
      "                  -webkit-transform: translateX(0);\r\n",
      "                  transform: translateX(0);\r\n",
      "                }.tdb-mm-align-parent .tdb-menu .tdb-mega-menu{\r\n",
      "                  position: relative;\r\n",
      "                }.tdb-menu .tdb-mega-menu .tdc-row:not([class*='stretch_row_']),\r\n",
      "                .tdb-menu .tdb-mega-menu .tdc-row-composer:not([class*='stretch_row_']){\r\n",
      "                    width: auto !important;\r\n",
      "                    max-width: 1240px;\r\n",
      "                }.tdb-menu .tdb-mega-menu-page > .sub-menu > li .tdb-page-tpl-edit-btns{\r\n",
      "                    position: absolute;\r\n",
      "\t\t\t\t\ttop: 0;\r\n",
      "\t\t\t\t\tleft: 0;\r\n",
      "\t\t\t\t\tdisplay: none;\r\n",
      "\t\t\t\t\tflex-wrap: wrap;\r\n",
      "\t\t\t\t\tgap: 0 4px;\r\n",
      "                }.tdb-menu .tdb-mega-menu-page > .sub-menu > li:hover .tdb-page-tpl-edit-btns{\r\n",
      "                    display: flex;\r\n",
      "                }.tdb-menu .tdb-mega-menu-page > .sub-menu > li .tdb-page-tpl-edit-btn{\r\n",
      "\t\t\t\t\tbackground-color: #000;\r\n",
      "\t\t\t\t\tpadding: 1px 8px 2px;\r\n",
      "\t\t\t\t\tfont-size: 11px;\r\n",
      "\t\t\t\t\tcolor: #fff;\r\n",
      "\t\t\t\t\tz-index: 100;\r\n",
      "\t\t\t\t}.tdi_48{\r\n",
      "                    display: inline-block;\r\n",
      "                }.tdi_48 .tdb-menu > li .tdb-menu-sep,\r\n",
      "                .tdi_48 .tdb-menu-items-dropdown .tdb-menu-sep{\r\n",
      "                    top: -1px;\r\n",
      "                }.tdi_48 .tdb-menu > li > a .tdb-sub-menu-icon,\r\n",
      "                .tdi_48 .td-subcat-more .tdb-menu-more-subicon{\r\n",
      "                    top: -1px;\r\n",
      "                }.tdi_48 .td-subcat-more .tdb-menu-more-icon{\r\n",
      "                    top: 0px;\r\n",
      "                }.tdi_48 .tdb-normal-menu ul .tdb-menu-item > a .tdb-sub-menu-icon,\r\n",
      "                .tdi_48 .td-pulldown-filter-list .tdb-menu-item > a .tdb-sub-menu-icon{\r\n",
      "                    right: 0;\r\n",
      "                \r\n",
      "                    margin-top: 1px;\r\n",
      "                }.tdi_48 .tdb-menu .tdb-normal-menu ul,\r\n",
      "                .tdi_48 .td-pulldown-filter-list,\r\n",
      "                .tdi_48 .td-pulldown-filter-list .sub-menu{\r\n",
      "                    box-shadow:  1px 1px 4px 0px rgba(0, 0, 0, 0.15);\r\n",
      "                }.tdi_48:not(.tdb-mm-align-screen) .tdb-mega-menu .sub-menu,\r\n",
      "                .tdi_48 .tdb-mega-menu .sub-menu > li{\r\n",
      "                    max-width: 1300px !important;\r\n",
      "                }.tdi_48 .tdb-mega-menu .tdb_header_mega_menu{\r\n",
      "                    min-height: 345px;\r\n",
      "                }.tdi_48 .tdb-menu .tdb-mega-menu .sub-menu > li{\r\n",
      "\t\t\t\t\tbox-shadow:  0px 2px 6px 0px rgba(0, 0, 0, 0.1);\r\n",
      "\t\t\t\t}@media (max-width: 1140px) {\r\n",
      "                  .tdb-menu .tdb-mega-menu .sub-menu > li {\r\n",
      "                    width: 100% !important;\r\n",
      "                  }\r\n",
      "                }\n",
      "\n",
      "/* landscape */\n",
      "@media (min-width: 1019px) and (max-width: 1140px){\n",
      ".tdi_48 .tdb-mega-menu .tdb_header_mega_menu{\r\n",
      "                    min-height: 300px;\r\n",
      "                }\n",
      "}\n",
      "\n",
      "/* portrait */\n",
      "@media (min-width: 768px) and (max-width: 1018px){\n",
      ".tdi_48 .tdb-menu > li > a,\r\n",
      "                .tdi_48 .td-subcat-more{\r\n",
      "                    padding: 0 12px;\r\n",
      "                }.tdi_48 .tdb-menu > li > a,\r\n",
      "                .tdi_48 .td-subcat-more,\r\n",
      "                .tdi_48 .td-subcat-more > .tdb-menu-item-text{\r\n",
      "                    font-size:11px !important;line-height:48px !important;\r\n",
      "                }.tdi_48 .tdb-mega-menu .tdb_header_mega_menu{\r\n",
      "                    min-height: 240px;\r\n",
      "                }.tdi_48 .tdb-mega-menu-page > .sub-menu > li{\r\n",
      "                    padding: 14px;\r\n",
      "                }\n",
      "}\n",
      "</style>\n",
      "<style>\n",
      ".tdi_48 .tdb-menu > li > a:after,\r\n",
      "\t\t\t\t.tdi_48 .tdb-menu-items-dropdown .td-subcat-more:after{\r\n",
      "\t\t\t\t\tbackground-color:     ;\r\n",
      "\t\t\t\t\r\n",
      "\t\t\t\t\tbottom: 0px;\r\n",
      "\t\t\t\t}\n",
      "</style>\n",
      "<style>\n",
      "\n",
      "</style><div id=tdi_48 class=\"td_block_inner td-fix-index\"><div class=\"tdb-main-sub-icon-fake\"><i class=\"tdb-sub-menu-icon td-icon-down tdb-main-sub-menu-icon\"></i></div><div class=\"tdb-sub-icon-fake\"><i class=\"tdb-sub-menu-icon td-icon-right-arrow\"></i></div><ul id=\"menu-main-6\" class=\"tdb-block-menu tdb-menu tdb-menu-items-visible\"><li class=\"menu-item menu-item-type-taxonomy menu-item-object-category tdb-cur-menu-item menu-item-first tdb-menu-item-button tdb-menu-item tdb-mega-menu tdb-mega-menu-inactive tdb-mega-menu-cats-first menu-item-4058\"><a href=\"https://insights.blackcoffer.com/category/our-success-stories/\"><div class=\"tdb-menu-item-text\">Our Success Stories</div><i class=\"tdb-sub-menu-icon td-icon-down tdb-main-sub-menu-icon\"></i></a>\n",
      "<ul class=\"sub-menu\">\n",
      "\t<li class=\"menu-item-0\"><div class=\"tdb-menu-item-text\"><div class=\"tdb_header_mega_menu tdi_51 td_with_ajax_pagination td-pb-border-top td_block_template_1\"  data-td-block-uid=\"tdi_51\" >\n",
      "<style>\n",
      "/* custom css */\n",
      ".tdb_module_header{\r\n",
      "                  width: 100%;\r\n",
      "                  padding-bottom: 0;\r\n",
      "                }.tdb_module_header .td-module-container{\r\n",
      "                  display: flex;\r\n",
      "                  flex-direction: column;\r\n",
      "                  position: relative;\r\n",
      "                }.tdb_module_header .td-module-container:before{\r\n",
      "                  content: '';\r\n",
      "                  position: absolute;\r\n",
      "                  bottom: 0;\r\n",
      "                  left: 0;\r\n",
      "                  width: 100%;\r\n",
      "                  height: 1px;\r\n",
      "                }.tdb_module_header .td-image-wrap{\r\n",
      "                  display: block;\r\n",
      "                  position: relative;\r\n",
      "                  padding-bottom: 70%;\r\n",
      "                }.tdb_module_header .td-image-container{\r\n",
      "                  position: relative;\r\n",
      "                  width: 100%;\r\n",
      "                  flex: 0 0 auto;\r\n",
      "                }.tdb_module_header .td-module-thumb{\r\n",
      "                  margin-bottom: 0;\r\n",
      "                }.tdb_module_header .td-module-meta-info{\r\n",
      "                  width: 100%;\r\n",
      "                  margin-bottom: 0;\r\n",
      "                  padding: 7px 0 0 0;\r\n",
      "                  z-index: 1;\r\n",
      "                  border: 0 solid #eaeaea;\r\n",
      "                  min-height: 0;\r\n",
      "                }.tdb_module_header .entry-title{\r\n",
      "                  margin: 0;\r\n",
      "                  font-size: 13px;\r\n",
      "                  font-weight: 500;\r\n",
      "                  line-height: 18px;\r\n",
      "                }.tdb_module_header .td-post-author-name,\r\n",
      "                .tdb_module_header .td-post-date,\r\n",
      "                .tdb_module_header .td-module-comments{\r\n",
      "                  vertical-align: text-top;\r\n",
      "                }.tdb_module_header .td-post-author-name,\r\n",
      "                .tdb_module_header .td-post-date{\r\n",
      "                  top: 3px;\r\n",
      "                }.tdb_module_header .td-thumb-css{\r\n",
      "                  width: 100%;\r\n",
      "                  height: 100%;\r\n",
      "                  position: absolute;\r\n",
      "                  background-size: cover;\r\n",
      "                  background-position: center center;\r\n",
      "                }.tdb_module_header .td-category-pos-image .td-post-category:not(.td-post-extra-category),\r\n",
      "                .tdb_module_header .td-post-vid-time{\r\n",
      "                  position: absolute;\r\n",
      "                  z-index: 2;\r\n",
      "                  bottom: 0;\r\n",
      "                }.tdb_module_header .td-category-pos-image .td-post-category:not(.td-post-extra-category){\r\n",
      "                  left: 0;\r\n",
      "                }.tdb_module_header .td-post-vid-time{\r\n",
      "                  right: 0;\r\n",
      "                  background-color: #000;\r\n",
      "                  padding: 3px 6px 4px;\r\n",
      "                  font-family: 'Open Sans', 'Open Sans Regular', sans-serif;\r\n",
      "                  font-size: 10px;\r\n",
      "                  font-weight: 600;\r\n",
      "                  line-height: 1;\r\n",
      "                  color: #fff;\r\n",
      "                }.tdb_module_header .td-excerpt{\r\n",
      "                  margin: 20px 0 0;\r\n",
      "                  line-height: 21px;\r\n",
      "                }.tdb_module_header .td-read-more{\r\n",
      "                  margin: 20px 0 0;\r\n",
      "                }.tdb_header_mega_menu{\r\n",
      "                  display: flex;\r\n",
      "                  overflow: visible;\r\n",
      "                }.tdb_header_mega_menu .block-mega-child-cats{\r\n",
      "                  position: relative;\r\n",
      "                  padding: 22px 0;\r\n",
      "                  width: 200px;\r\n",
      "                  max-height: none;\r\n",
      "                  vertical-align: top;\r\n",
      "                  text-align: left;\r\n",
      "                  overflow: visible;\r\n",
      "                }.tdb_header_mega_menu .block-mega-child-cats:before{\r\n",
      "                  content: '';\r\n",
      "                  position: absolute;\r\n",
      "                  top: 0;\r\n",
      "                  right: 0;\r\n",
      "                  width: 100vw;\r\n",
      "                  height: 100%;\r\n",
      "                  background-color: #fafafa;\r\n",
      "                  z-index: -1;\r\n",
      "                }.tdb_header_mega_menu .block-mega-child-cats:after{\r\n",
      "                  content: '';\r\n",
      "                  position: absolute;\r\n",
      "                  top: 0;\r\n",
      "                  left: 0;\r\n",
      "                  width: 100%;\r\n",
      "                  height: 100%;\r\n",
      "                  border-width: 0 1px 0 0;\r\n",
      "                  border-style: solid;\r\n",
      "                  border-color: #eaeaea;\r\n",
      "                }.tdb_header_mega_menu .block-mega-child-cats a{\r\n",
      "                  display: block;\r\n",
      "                  font-size: 13px;\r\n",
      "                  font-weight: 600;\r\n",
      "                  color: #333;\r\n",
      "                  padding: 5px 22px;\r\n",
      "                  position: relative;\r\n",
      "                  vertical-align: middle;\r\n",
      "                  border-width: 1px 0;\r\n",
      "                  border-style: solid;\r\n",
      "                  border-color: transparent;\r\n",
      "                  z-index: 99;\r\n",
      "                }.tdb_header_mega_menu .block-mega-child-cats .cur-sub-cat{\r\n",
      "                  background-color: #fff;\r\n",
      "                  color: #4db2ec;\r\n",
      "                  border-color: #eaeaea;\r\n",
      "                  z-index: 99;\r\n",
      "                }.tdb_header_mega_menu .td-next-prev-wrap{\r\n",
      "                  text-align: left;\r\n",
      "                }.tdb_header_mega_menu .td-next-prev-wrap a{\r\n",
      "                  width: auto;\r\n",
      "                  height: auto;\r\n",
      "                  min-width: 25px;\r\n",
      "                  min-height: 25px;\r\n",
      "                }.td-js-loaded .tdb_header_mega_menu .td-audio-player{\r\n",
      "                  visibility: inherit;\r\n",
      "                }.tdb-mega-modules-wrap{\r\n",
      "                  flex: 1;\r\n",
      "                  padding: 22px;\r\n",
      "                  display: flex;\r\n",
      "                  flex-direction: column;\r\n",
      "                  justify-content: space-between;\r\n",
      "                }.tdb-mega-modules-wrap .td_block_inner{\r\n",
      "                  *zoom: 1;\r\n",
      "                }.tdb-mega-modules-wrap .td_block_inner:before,\r\n",
      "                .tdb-mega-modules-wrap .td_block_inner:after{\r\n",
      "                  display: table;\r\n",
      "                  content: '';\r\n",
      "                  line-height: 0;\r\n",
      "                }.tdb-mega-modules-wrap .td_block_inner:after{\r\n",
      "                  clear: both;\r\n",
      "                }.tdb_module_mm .td-author-photo{\r\n",
      "                  display: inline-block;\r\n",
      "                }.tdb_module_mm .td-author-photo,\r\n",
      "                .tdb_module_mm .td-author-photo img{\r\n",
      "                  vertical-align: middle;\r\n",
      "                }.tdb_module_mm .td-module-meta-info{\r\n",
      "                  text-align: left;\r\n",
      "                }.tdi_51 .block-mega-child-cats{\r\n",
      "\t\t\t\t\tpadding: 16px 0;\r\n",
      "\t\t\t\t\r\n",
      "\t\t\t\t\ttext-align: right;\r\n",
      "\t\t\t\t}.tdi_51 .block-mega-child-cats:after{\r\n",
      "\t\t\t\t    border-width: 0 1px 0 0;\r\n",
      "\t\t\t\t}.tdi_51 .block-mega-child-cats a{\r\n",
      "\t\t\t\t\tpadding: 2px 22px;\r\n",
      "\t\t\t\t\r\n",
      "\t\t\t\t\tborder-width: 0 1px 0 0;\r\n",
      "\t\t\t\t\r\n",
      "\t\t\t\t\tfont-size:13px !important;\r\n",
      "\t\t\t\t}.tdi_51 .block-mega-child-cats .cur-sub-cat{\r\n",
      "\t\t\t\t\tborder-width: 0 1px 0 0;\r\n",
      "\t\t\t\t}.tdi_51:not(.td-no-subcats) .td_module_wrap{\r\n",
      "\t\t\t\t\twidth: 25%;\r\n",
      "\t\t\t\t\tfloat: left;\r\n",
      "\t\t\t\t}.td-md-is-safari .tdi_51:not(.td-no-subcats) .td_module_wrap{\r\n",
      "\t\t\t\t    margin-right: -1px;\r\n",
      "\t\t\t\t}.tdi_51.td-no-subcats .td_module_wrap{\r\n",
      "\t\t\t\t\twidth: 20%;\r\n",
      "\t\t\t\t\tfloat: left;\r\n",
      "\t\t\t\t}.td-md-is-safari .tdi_51.td-no-subcats .td_module_wrap{\r\n",
      "\t\t\t\t    margin-right: -1px;\r\n",
      "\t\t\t\t}.tdi_51 .td_module_wrap:nth-child(4n+1){\r\n",
      "\t\t\t\t\tclear: both;\r\n",
      "\t\t\t\t}.tdi_51 .td_module_wrap:nth-last-child(-n+4){\r\n",
      "\t\t\t\t\tmargin-bottom: 0;\r\n",
      "\t\t\t\t\tpadding-bottom: 0;\r\n",
      "\t\t\t\t}.tdi_51 .td_module_wrap:nth-last-child(-n+4) .td-module-container:before{\r\n",
      "\t\t\t\t\tdisplay: none;\r\n",
      "\t\t\t\t}.tdi_51 .td_module_wrap{\r\n",
      "\t\t\t\t\tpadding-left: 11px;\r\n",
      "\t\t\t\t\tpadding-right: 11px;\r\n",
      "\t\t\t\t\r\n",
      "\t\t\t\t\tpadding-bottom: 13px;\r\n",
      "\t\t\t\t\tmargin-bottom: 13px;\r\n",
      "\t\t\t\t\r\n",
      "\t\t\t        display: flex;\r\n",
      "\t\t\t        flex-direction: column;\r\n",
      "\t\t\t    }.tdi_51 .td_block_inner{\r\n",
      "\t\t\t\t\tmargin-left: -11px;\r\n",
      "\t\t\t\t\tmargin-right: -11px;\r\n",
      "\t\t\t\t\r\n",
      "\t\t\t        display: flex;\r\n",
      "\t\t\t        flex-wrap: wrap;\r\n",
      "\t\t\t    }.tdi_51 .td-module-container:before{\r\n",
      "\t\t\t\t\tbottom: -13px;\r\n",
      "\t\t\t\t\r\n",
      "\t\t\t\t\tborder-color: #eaeaea;\r\n",
      "\t\t\t\t}.tdi_51 .td-module-container{\r\n",
      "\t\t\t\t    border-color: #eaeaea;\r\n",
      "\t\t\t\t\r\n",
      "\t\t\t\t\tflex-direction: column;\r\n",
      "\t\t\t\t\r\n",
      "\t\t\t        flex: 1;\r\n",
      "                    flex-basis: auto;\r\n",
      "\t\t\t    }.tdi_51 .entry-thumb{\r\n",
      "\t\t\t\t\tbackground-position: center 50%;\r\n",
      "\t\t\t\t}.tdi_51 .td-image-container{\r\n",
      "                \tdisplay: block; order: 0;\r\n",
      "                }.ie10 .tdi_51 .td-module-meta-info,\r\n",
      "\t\t\t\t.ie11 .tdi_51 .td-module-meta-info{\r\n",
      "\t\t\t\t \tflex: auto;\r\n",
      "\t\t\t    }.tdi_51 .td-post-vid-time{\r\n",
      "\t\t\t\t\tdisplay: block;\r\n",
      "\t\t\t\t}.tdi_51 .entry-title{\r\n",
      "\t\t\t\t\tmargin: 3px 0;\r\n",
      "\t\t\t\t\r\n",
      "\t\t\t\t\tfont-size:15px !important;line-height:1.2 !important;\r\n",
      "\t\t\t\t}.tdi_51 .td-excerpt{\r\n",
      "\t\t\t\t\tcolumn-count: 1;\r\n",
      "\t\t\t\t\r\n",
      "\t\t\t\t\tcolumn-gap: 48px;\r\n",
      "\t\t\t\t\r\n",
      "\t\t\t\t\tdisplay: none;\r\n",
      "\t\t\t\t}.tdi_51 .td-audio-player{\r\n",
      "\t\t\t\t\tfont-size: 12px;\r\n",
      "\t\t\t\t\r\n",
      "\t\t\t\t\topacity: 1;\r\n",
      "\t\t\t\t\tvisibility: visible;\r\n",
      "\t\t\t\t\theight: auto;\r\n",
      "\t\t\t\t}.tdi_51 .td-module-meta-info{\r\n",
      "\t\t\t\t\tborder-color: #eaeaea;\r\n",
      "\t\t\t\t}.tdi_51 .td-post-category:not(.td-post-extra-category){\r\n",
      "\t\t\t\t\tdisplay: inline-block;\r\n",
      "\t\t\t\t}.tdi_51 .td-author-date{\r\n",
      "\t\t\t\t\tdisplay: inline;\r\n",
      "\t\t\t\t}.tdi_51 .td-post-author-name{\r\n",
      "\t\t\t\t\tdisplay: none;\r\n",
      "\t\t\t\t}.tdi_51 .entry-review-stars{\r\n",
      "\t\t\t\t\tdisplay: inline-block;\r\n",
      "\t\t\t\t}.tdi_51 .td-icon-star,\r\n",
      "                .tdi_51 .td-icon-star-empty,\r\n",
      "                .tdi_51 .td-icon-star-half{\r\n",
      "\t\t\t\t\tfont-size: 15px;\r\n",
      "\t\t\t\t}.tdi_51 .td-module-comments{\r\n",
      "\t\t\t\t\tdisplay: none;\r\n",
      "\t\t\t\t}.tdi_51 .td-author-photo .avatar{\r\n",
      "\t\t\t\t    width: 20px;\r\n",
      "\t\t\t\t    height: 20px;\r\n",
      "\t\t\t\t\r\n",
      "\t\t\t\t    margin-right: 6px;\r\n",
      "\t\t\t\t\r\n",
      "\t\t\t\t    border-radius: 50%;\r\n",
      "\t\t\t\t}.tdi_51:not(.td-no-subcats) .block-mega-child-cats:before{\r\n",
      "\t\t\t\t\tbackground-color: #ffffff;\r\n",
      "\t\t\t\t}.tdi_51 .td-module-exclusive .td-module-title a:before{\r\n",
      "                    display: inline-block;\r\n",
      "                }html:not([class*='ie']) .tdi_51 .td-module-container:hover .entry-thumb:before{\r\n",
      "                    opacity: 0;\r\n",
      "                }\n",
      "\n",
      "/* landscape */\n",
      "@media (min-width: 1019px) and (max-width: 1140px){\n",
      ".tdi_51 .block-mega-child-cats{\r\n",
      "\t\t\t\t\twidth: 160px;\r\n",
      "\t\t\t\t}.tdi_51 .td_module_wrap{\r\n",
      "\t\t\t\t\tpadding-bottom: 13px !important;\r\n",
      "\t\t\t\t\tmargin-bottom: 13px !important;\r\n",
      "\t\t\t\t\r\n",
      "\t\t\t\t\tclear: none !important;\r\n",
      "\t\t\t\t\r\n",
      "\t\t\t\t\tpadding-bottom: 13px;\r\n",
      "\t\t\t\t\tmargin-bottom: 13px;\r\n",
      "\t\t\t\t}.tdi_51 .td_module_wrap:nth-last-child(-n+4){\r\n",
      "\t\t\t\t\tmargin-bottom: 0 !important;\r\n",
      "\t\t\t\t\tpadding-bottom: 0 !important;\r\n",
      "\t\t\t\t}.tdi_51 .td_module_wrap .td-module-container:before{\r\n",
      "\t\t\t\t\tdisplay: block !important;\r\n",
      "\t\t\t\t}.tdi_51 .td_module_wrap:nth-last-child(-n+4) .td-module-container:before{\r\n",
      "\t\t\t\t\tdisplay: none !important;\r\n",
      "\t\t\t\t}.tdi_51 .td_module_wrap:nth-child(4n+1){\r\n",
      "\t\t\t\t\tclear: both !important;\r\n",
      "\t\t\t\t}.tdi_51 .td-module-container:before{\r\n",
      "\t\t\t\t\tbottom: -13px;\r\n",
      "\t\t\t\t}.tdi_51 .entry-title{\r\n",
      "\t\t\t\t\tfont-size:14px !important;\r\n",
      "\t\t\t\t}\n",
      "}\n",
      "\n",
      "/* portrait */\n",
      "@media (min-width: 768px) and (max-width: 1018px){\n",
      ".tdi_51 .tdb-mega-modules-wrap{\r\n",
      "\t\t\t\t\tpadding: 14px;\r\n",
      "\t\t\t\t}.tdi_51 .block-mega-child-cats{\r\n",
      "\t\t\t\t\twidth: 140px;\r\n",
      "\t\t\t\t\r\n",
      "\t\t\t\t\tpadding: 14px 0;\r\n",
      "\t\t\t\t}.tdi_51 .block-mega-child-cats a{\r\n",
      "\t\t\t\t\tpadding: 0 14px;\r\n",
      "\t\t\t\t\r\n",
      "\t\t\t\t\tfont-size:11px !important;\r\n",
      "\t\t\t\t}.tdi_51 .td_module_wrap{\r\n",
      "\t\t\t\t\tpadding-bottom: 13px !important;\r\n",
      "\t\t\t\t\tmargin-bottom: 13px !important;\r\n",
      "\t\t\t\t\r\n",
      "\t\t\t\t\tclear: none !important;\r\n",
      "\t\t\t\t\r\n",
      "\t\t\t\t\tpadding-left: 7px;\r\n",
      "\t\t\t\t\tpadding-right: 7px;\r\n",
      "\t\t\t\t\r\n",
      "\t\t\t\t\tpadding-bottom: 13px;\r\n",
      "\t\t\t\t\tmargin-bottom: 13px;\r\n",
      "\t\t\t\t}.tdi_51 .td_module_wrap:nth-last-child(-n+4){\r\n",
      "\t\t\t\t\tmargin-bottom: 0 !important;\r\n",
      "\t\t\t\t\tpadding-bottom: 0 !important;\r\n",
      "\t\t\t\t}.tdi_51 .td_module_wrap .td-module-container:before{\r\n",
      "\t\t\t\t\tdisplay: block !important;\r\n",
      "\t\t\t\t}.tdi_51 .td_module_wrap:nth-last-child(-n+4) .td-module-container:before{\r\n",
      "\t\t\t\t\tdisplay: none !important;\r\n",
      "\t\t\t\t}.tdi_51 .td_module_wrap:nth-child(4n+1){\r\n",
      "\t\t\t\t\tclear: both !important;\r\n",
      "\t\t\t\t}.tdi_51 .td_block_inner{\r\n",
      "\t\t\t\t\tmargin-left: -7px;\r\n",
      "\t\t\t\t\tmargin-right: -7px;\r\n",
      "\t\t\t\t}.tdi_51 .td-module-container:before{\r\n",
      "\t\t\t\t\tbottom: -13px;\r\n",
      "\t\t\t\t}.tdi_51 .td-video-play-ico{\r\n",
      "\t\t\t\t\twidth: 24px;\r\n",
      "\t\t\t\t\theight: 24px;\r\n",
      "\t\t\t\t\tfont-size: 24px;\r\n",
      "\t\t\t\t}.tdi_51 .entry-title{\r\n",
      "\t\t\t\t\tfont-size:13px !important;\r\n",
      "\t\t\t\t}\n",
      "}\n",
      "\n",
      "/* phone */\n",
      "@media (max-width: 767px){\n",
      ".tdi_51 .td_module_wrap{\r\n",
      "\t\t\t\t\tpadding-bottom: 13px !important;\r\n",
      "\t\t\t\t\tmargin-bottom: 13px !important;\r\n",
      "\t\t\t\t\r\n",
      "\t\t\t\t\tclear: none !important;\r\n",
      "\t\t\t\t\r\n",
      "\t\t\t\t\tpadding-bottom: 13px;\r\n",
      "\t\t\t\t\tmargin-bottom: 13px;\r\n",
      "\t\t\t\t}.tdi_51 .td_module_wrap:nth-last-child(-n+4){\r\n",
      "\t\t\t\t\tmargin-bottom: 0 !important;\r\n",
      "\t\t\t\t\tpadding-bottom: 0 !important;\r\n",
      "\t\t\t\t}.tdi_51 .td_module_wrap .td-module-container:before{\r\n",
      "\t\t\t\t\tdisplay: block !important;\r\n",
      "\t\t\t\t}.tdi_51 .td_module_wrap:nth-last-child(-n+4) .td-module-container:before{\r\n",
      "\t\t\t\t\tdisplay: none !important;\r\n",
      "\t\t\t\t}.tdi_51 .td_module_wrap:nth-child(4n+1){\r\n",
      "\t\t\t\t\tclear: both !important;\r\n",
      "\t\t\t\t}.tdi_51 .td-module-container:before{\r\n",
      "\t\t\t\t\tbottom: -13px;\r\n",
      "\t\t\t\t}\n",
      "}\n",
      "</style><script>var block_tdi_51 = new tdBlock();\n",
      "block_tdi_51.id = \"tdi_51\";\n",
      "block_tdi_51.atts = '{\"mc1_title_tag\":\"p\",\"main_sub_tdicon\":\"td-icon-down\",\"sub_tdicon\":\"td-icon-right-arrow\",\"mm_align_horiz\":\"content-horiz-center\",\"modules_on_row_regular\":\"20%\",\"modules_on_row_cats\":\"25%\",\"image_size\":\"td_324x400\",\"modules_category\":\"image\",\"show_excerpt\":\"none\",\"show_com\":\"none\",\"show_date\":\"\",\"show_author\":\"none\",\"mm_sub_align_horiz\":\"content-horiz-right\",\"mm_elem_align_horiz\":\"content-horiz-right\",\"inline\":\"yes\",\"menu_id\":\"\",\"mm_align_screen\":\"yes\",\"f_elem_font_family\":\"\",\"f_elem_font_size\":\"eyJwb3J0cmFpdCI6IjExIn0=\",\"mm_width\":\"1300\",\"mm_subcats_bg\":\"#ffffff\",\"mm_elem_border_a\":\"0 1px 0 0\",\"mm_elem_padd\":\"eyJhbGwiOiIycHggMjJweCIsInBvcnRyYWl0IjoiMCAxNHB4In0=\",\"mm_sub_padd\":\"eyJhbGwiOiIxNnB4IDAiLCJwb3J0cmFpdCI6IjE0cHggMCJ9\",\"f_title_font_size\":\"eyJhbGwiOiIxNSIsImxhbmRzY2FwZSI6IjE0IiwicG9ydHJhaXQiOiIxMyJ9\",\"f_title_font_line_height\":\"1.2\",\"art_title\":\"3px 0\",\"f_mm_sub_font_size\":\"eyJhbGwiOiIxMyIsInBvcnRyYWl0IjoiMTEifQ==\",\"mm_child_cats\":\"11\",\"mm_elem_border\":\"0 1px 0 0\",\"mm_height\":\"eyJhbGwiOiIzNDUiLCJsYW5kc2NhcGUiOiIzMDAiLCJwb3J0cmFpdCI6IjI0MCJ9\",\"mm_sub_width\":\"eyJsYW5kc2NhcGUiOiIxNjAiLCJwb3J0cmFpdCI6IjE0MCJ9\",\"mm_padd\":\"eyJwb3J0cmFpdCI6IjE0In0=\",\"modules_gap\":\"eyJwb3J0cmFpdCI6IjE0In0=\",\"elem_padd\":\"eyJwb3J0cmFpdCI6IjAgMTJweCJ9\",\"f_elem_font_line_height\":\"eyJwb3J0cmFpdCI6IjQ4cHgifQ==\",\"video_icon\":\"eyJwb3J0cmFpdCI6IjI0In0=\",\"all_modules_space\":\"26\",\"tds_menu_sub_active\":\"tds_menu_sub_active1\",\"tds_menu_sub_active2-line_color\":\"\",\"tds_menu_active\":\"tds_menu_active1\",\"block_type\":\"tdb_header_mega_menu\",\"show_subcat\":\"\",\"show_mega\":\"\",\"show_mega_cats\":\"\",\"separator\":\"\",\"width\":\"\",\"more\":\"\",\"float_right\":\"\",\"align_horiz\":\"content-horiz-left\",\"elem_space\":\"\",\"main_sub_icon_size\":\"\",\"main_sub_icon_space\":\"\",\"main_sub_icon_align\":\"-1\",\"sep_tdicon\":\"\",\"sep_icon_size\":\"\",\"sep_icon_space\":\"\",\"sep_icon_align\":\"-1\",\"more_txt\":\"\",\"more_tdicon\":\"\",\"more_icon_size\":\"\",\"more_icon_align\":\"0\",\"sub_width\":\"\",\"sub_first_left\":\"\",\"sub_rest_top\":\"\",\"sub_padd\":\"\",\"sub_align_horiz\":\"content-horiz-left\",\"sub_elem_inline\":\"\",\"sub_elem_space\":\"\",\"sub_elem_padd\":\"\",\"sub_elem_radius\":\"0\",\"sub_icon_size\":\"\",\"sub_icon_space\":\"\",\"sub_icon_pos\":\"\",\"sub_icon_align\":\"1\",\"mm_content_width\":\"\",\"mm_radius\":\"\",\"mm_offset\":\"\",\"mm_posts_limit\":\"5\",\"mm_subcats_posts_limit\":\"4\",\"open_in_new_window\":\"\",\"mm_ajax_preloading\":\"\",\"mm_hide_all_item\":\"\",\"mm_sub_border\":\"\",\"mm_sub_inline\":\"\",\"mm_elem_order\":\"name\",\"mm_elem_space\":\"\",\"mm_elem_border_rad\":\"\",\"mc1_tl\":\"\",\"mc1_el\":\"\",\"m_padding\":\"\",\"modules_border_size\":\"\",\"modules_border_style\":\"\",\"modules_border_color\":\"#eaeaea\",\"modules_divider\":\"\",\"modules_divider_color\":\"#eaeaea\",\"h_effect\":\"\",\"image_alignment\":\"50\",\"image_height\":\"\",\"image_width\":\"\",\"image_floated\":\"no_float\",\"image_radius\":\"\",\"hide_image\":\"\",\"show_vid_t\":\"block\",\"vid_t_margin\":\"\",\"vid_t_padding\":\"\",\"vid_t_color\":\"\",\"vid_t_bg_color\":\"\",\"f_vid_time_font_header\":\"\",\"f_vid_time_font_title\":\"Video duration text\",\"f_vid_time_font_settings\":\"\",\"f_vid_time_font_family\":\"\",\"f_vid_time_font_size\":\"\",\"f_vid_time_font_line_height\":\"\",\"f_vid_time_font_style\":\"\",\"f_vid_time_font_weight\":\"\",\"f_vid_time_font_transform\":\"\",\"f_vid_time_font_spacing\":\"\",\"f_vid_time_\":\"\",\"excl_show\":\"inline-block\",\"excl_txt\":\"\",\"excl_margin\":\"\",\"excl_padd\":\"\",\"all_excl_border\":\"\",\"all_excl_border_style\":\"solid\",\"excl_radius\":\"\",\"excl_color\":\"\",\"excl_color_h\":\"\",\"excl_bg\":\"\",\"excl_bg_h\":\"\",\"all_excl_border_color\":\"\",\"excl_border_color_h\":\"\",\"f_excl_font_header\":\"\",\"f_excl_font_title\":\"Label text\",\"f_excl_font_settings\":\"\",\"f_excl_font_family\":\"\",\"f_excl_font_size\":\"\",\"f_excl_font_line_height\":\"\",\"f_excl_font_style\":\"\",\"f_excl_font_weight\":\"\",\"f_excl_font_transform\":\"\",\"f_excl_font_spacing\":\"\",\"f_excl_\":\"\",\"show_audio\":\"block\",\"hide_audio\":\"\",\"art_audio\":\"\",\"art_audio_size\":\"1\",\"meta_info_align\":\"\",\"meta_info_horiz\":\"content-horiz-left\",\"meta_width\":\"\",\"meta_margin\":\"\",\"meta_padding\":\"\",\"meta_info_border_size\":\"\",\"meta_info_border_style\":\"\",\"meta_info_border_color\":\"#eaeaea\",\"modules_category_margin\":\"\",\"modules_category_padding\":\"\",\"modules_cat_border\":\"\",\"modules_category_radius\":\"0\",\"show_cat\":\"inline-block\",\"modules_extra_cat\":\"\",\"author_photo\":\"\",\"author_photo_size\":\"\",\"author_photo_space\":\"\",\"author_photo_radius\":\"\",\"show_modified_date\":\"\",\"time_ago\":\"\",\"time_ago_add_txt\":\"ago\",\"time_ago_txt_pos\":\"\",\"art_excerpt\":\"\",\"excerpt_col\":\"1\",\"excerpt_gap\":\"\",\"excerpt_middle\":\"\",\"show_review\":\"inline-block\",\"review_space\":\"\",\"review_size\":\"2.5\",\"review_distance\":\"\",\"show_pagination\":\"\",\"pag_space\":\"\",\"pag_padding\":\"\",\"pag_border_width\":\"\",\"pag_border_radius\":\"\",\"prev_tdicon\":\"\",\"next_tdicon\":\"\",\"pag_icons_size\":\"\",\"text_color\":\"\",\"main_sub_color\":\"\",\"sep_color\":\"\",\"more_icon_color\":\"\",\"hover_opacity\":\"\",\"f_elem_font_header\":\"\",\"f_elem_font_title\":\"Elements text\",\"f_elem_font_settings\":\"\",\"f_elem_font_style\":\"\",\"f_elem_font_weight\":\"\",\"f_elem_font_transform\":\"\",\"f_elem_font_spacing\":\"\",\"f_elem_\":\"\",\"sub_bg_color\":\"\",\"sub_border_size\":\"\",\"sub_border_color\":\"\",\"sub_border_radius\":\"\",\"sub_text_color\":\"\",\"sub_elem_bg_color\":\"\",\"sub_color\":\"\",\"sub_shadow_shadow_header\":\"\",\"sub_shadow_shadow_title\":\"Shadow\",\"sub_shadow_shadow_size\":\"\",\"sub_shadow_shadow_offset_horizontal\":\"\",\"sub_shadow_shadow_offset_vertical\":\"\",\"sub_shadow_shadow_spread\":\"\",\"sub_shadow_shadow_color\":\"\",\"f_sub_elem_font_header\":\"\",\"f_sub_elem_font_title\":\"Elements text\",\"f_sub_elem_font_settings\":\"\",\"f_sub_elem_font_family\":\"\",\"f_sub_elem_font_size\":\"\",\"f_sub_elem_font_line_height\":\"\",\"f_sub_elem_font_style\":\"\",\"f_sub_elem_font_weight\":\"\",\"f_sub_elem_font_transform\":\"\",\"f_sub_elem_font_spacing\":\"\",\"f_sub_elem_\":\"\",\"mm_bg\":\"\",\"mm_border_size\":\"\",\"mm_border_color\":\"\",\"mm_shadow_shadow_header\":\"\",\"mm_shadow_shadow_title\":\"Shadow\",\"mm_shadow_shadow_size\":\"\",\"mm_shadow_shadow_offset_horizontal\":\"\",\"mm_shadow_shadow_offset_vertical\":\"\",\"mm_shadow_shadow_spread\":\"\",\"mm_shadow_shadow_color\":\"\",\"mm_subcats_border_color\":\"\",\"mm_elem_color\":\"\",\"mm_elem_color_a\":\"\",\"mm_elem_bg\":\"\",\"mm_elem_bg_a\":\"\",\"mm_elem_border_color\":\"\",\"mm_elem_border_color_a\":\"\",\"mm_elem_shadow_shadow_header\":\"\",\"mm_elem_shadow_shadow_title\":\"Elements shadow\",\"mm_elem_shadow_shadow_size\":\"\",\"mm_elem_shadow_shadow_offset_horizontal\":\"\",\"mm_elem_shadow_shadow_offset_vertical\":\"\",\"mm_elem_shadow_shadow_spread\":\"\",\"mm_elem_shadow_shadow_color\":\"\",\"f_mm_sub_font_header\":\"\",\"f_mm_sub_font_title\":\"Sub categories elements\",\"f_mm_sub_font_settings\":\"\",\"f_mm_sub_font_family\":\"\",\"f_mm_sub_font_line_height\":\"\",\"f_mm_sub_font_style\":\"\",\"f_mm_sub_font_weight\":\"\",\"f_mm_sub_font_transform\":\"\",\"f_mm_sub_font_spacing\":\"\",\"f_mm_sub_\":\"\",\"m_bg\":\"\",\"color_overlay\":\"\",\"shadow_shadow_header\":\"\",\"shadow_shadow_title\":\"Module Shadow\",\"shadow_shadow_size\":\"\",\"shadow_shadow_offset_horizontal\":\"\",\"shadow_shadow_offset_vertical\":\"\",\"shadow_shadow_spread\":\"\",\"shadow_shadow_color\":\"\",\"title_txt\":\"\",\"title_txt_hover\":\"\",\"all_underline_height\":\"\",\"all_underline_color\":\"#000\",\"cat_bg\":\"\",\"cat_bg_hover\":\"\",\"cat_txt\":\"\",\"cat_txt_hover\":\"\",\"cat_border\":\"\",\"cat_border_hover\":\"\",\"meta_bg\":\"\",\"author_txt\":\"\",\"author_txt_hover\":\"\",\"date_txt\":\"\",\"ex_txt\":\"\",\"com_bg\":\"\",\"com_txt\":\"\",\"rev_txt\":\"\",\"shadow_m_shadow_header\":\"\",\"shadow_m_shadow_title\":\"Meta info shadow\",\"shadow_m_shadow_size\":\"\",\"shadow_m_shadow_offset_horizontal\":\"\",\"shadow_m_shadow_offset_vertical\":\"\",\"shadow_m_shadow_spread\":\"\",\"shadow_m_shadow_color\":\"\",\"audio_btn_color\":\"\",\"audio_time_color\":\"\",\"audio_bar_color\":\"\",\"audio_bar_curr_color\":\"\",\"pag_text\":\"\",\"pag_h_text\":\"\",\"pag_bg\":\"\",\"pag_h_bg\":\"\",\"pag_border\":\"\",\"pag_h_border\":\"\",\"f_title_font_header\":\"\",\"f_title_font_title\":\"Article title\",\"f_title_font_settings\":\"\",\"f_title_font_family\":\"\",\"f_title_font_style\":\"\",\"f_title_font_weight\":\"\",\"f_title_font_transform\":\"\",\"f_title_font_spacing\":\"\",\"f_title_\":\"\",\"f_cat_font_title\":\"Article category tag\",\"f_cat_font_settings\":\"\",\"f_cat_font_family\":\"\",\"f_cat_font_size\":\"\",\"f_cat_font_line_height\":\"\",\"f_cat_font_style\":\"\",\"f_cat_font_weight\":\"\",\"f_cat_font_transform\":\"\",\"f_cat_font_spacing\":\"\",\"f_cat_\":\"\",\"f_meta_font_title\":\"Article meta info\",\"f_meta_font_settings\":\"\",\"f_meta_font_family\":\"\",\"f_meta_font_size\":\"\",\"f_meta_font_line_height\":\"\",\"f_meta_font_style\":\"\",\"f_meta_font_weight\":\"\",\"f_meta_font_transform\":\"\",\"f_meta_font_spacing\":\"\",\"f_meta_\":\"\",\"f_ex_font_title\":\"Article excerpt\",\"f_ex_font_settings\":\"\",\"f_ex_font_family\":\"\",\"f_ex_font_size\":\"\",\"f_ex_font_line_height\":\"\",\"f_ex_font_style\":\"\",\"f_ex_font_weight\":\"\",\"f_ex_font_transform\":\"\",\"f_ex_font_spacing\":\"\",\"f_ex_\":\"\",\"mix_color\":\"\",\"mix_type\":\"\",\"fe_brightness\":\"1\",\"fe_contrast\":\"1\",\"fe_saturate\":\"1\",\"mix_color_h\":\"\",\"mix_type_h\":\"\",\"fe_brightness_h\":\"1\",\"fe_contrast_h\":\"1\",\"fe_saturate_h\":\"1\",\"el_class\":\"\",\"block_template_id\":\"\",\"td_column_number\":3,\"header_color\":\"\",\"ajax_pagination_infinite_stop\":\"\",\"offset\":\"\",\"limit\":\"4\",\"td_ajax_preloading\":\"\",\"td_ajax_filter_type\":\"td_category_ids_filter\",\"td_filter_default_txt\":\"\",\"td_ajax_filter_ids\":\"\",\"color_preset\":\"\",\"ajax_pagination\":\"next_prev\",\"ajax_pagination_next_prev_swipe\":\"\",\"border_top\":\"\",\"css\":\"\",\"tdc_css_class\":\"tdi_51\",\"tdc_css_class_style\":\"tdi_51_rand_style\",\"category_id\":\"268\",\"subcats_posts_limit\":\"4\",\"child_cats_limit\":\"11\",\"hide_all\":\"\",\"tdc_css\":\"\",\"class\":\"tdi_51\"}';\n",
      "block_tdi_51.td_column_number = \"3\";\n",
      "block_tdi_51.block_type = \"tdb_header_mega_menu\";\n",
      "block_tdi_51.post_count = \"4\";\n",
      "block_tdi_51.found_posts = \"178\";\n",
      "block_tdi_51.header_color = \"\";\n",
      "block_tdi_51.ajax_pagination_infinite_stop = \"\";\n",
      "block_tdi_51.max_num_pages = \"45\";\n",
      "tdBlocksArray.push(block_tdi_51);\n",
      "</script><div class=\"block-mega-child-cats\"><a \r\n",
      "                        class=\"cur-sub-cat mega-menu-sub-cat-tdi_51\" \r\n",
      "                        id=\"tdi_52\" \r\n",
      "                        data-td_block_id=\"tdi_51\" \r\n",
      "                        data-td_filter_value=\"\" \r\n",
      "                        href=\"https://insights.blackcoffer.com/category/our-success-stories/\"\r\n",
      "                    >All</a><a \r\n",
      "                        class=\"mega-menu-sub-cat-tdi_51\" \r\n",
      "                        id=\"tdi_53\" \r\n",
      "                        data-td_block_id=\"tdi_51\" \r\n",
      "                        data-td_filter_value=\"274\" \r\n",
      "                        href=\"https://insights.blackcoffer.com/category/our-success-stories/banking-securities-and-insurance/\"\r\n",
      "                    >Banking, Financials, Securities, and Insurance</a><a \r\n",
      "                        class=\"mega-menu-sub-cat-tdi_51\" \r\n",
      "                        id=\"tdi_54\" \r\n",
      "                        data-td_block_id=\"tdi_51\" \r\n",
      "                        data-td_filter_value=\"273\" \r\n",
      "                        href=\"https://insights.blackcoffer.com/category/our-success-stories/energy-our-success-stories/\"\r\n",
      "                    >Energy</a><a \r\n",
      "                        class=\"mega-menu-sub-cat-tdi_51\" \r\n",
      "                        id=\"tdi_55\" \r\n",
      "                        data-td_block_id=\"tdi_51\" \r\n",
      "                        data-td_filter_value=\"279\" \r\n",
      "                        href=\"https://insights.blackcoffer.com/category/our-success-stories/entertainment-our-success-stories/\"\r\n",
      "                    >Entertainment</a><a \r\n",
      "                        class=\"mega-menu-sub-cat-tdi_51\" \r\n",
      "                        id=\"tdi_56\" \r\n",
      "                        data-td_block_id=\"tdi_51\" \r\n",
      "                        data-td_filter_value=\"275\" \r\n",
      "                        href=\"https://insights.blackcoffer.com/category/our-success-stories/fast-moving-consumer-goods/\"\r\n",
      "                    >Fast Moving Consumer Goods</a><a \r\n",
      "                        class=\"mega-menu-sub-cat-tdi_51\" \r\n",
      "                        id=\"tdi_57\" \r\n",
      "                        data-td_block_id=\"tdi_51\" \r\n",
      "                        data-td_filter_value=\"277\" \r\n",
      "                        href=\"https://insights.blackcoffer.com/category/our-success-stories/government-think-tanks/\"\r\n",
      "                    >Government &amp; Think Tanks</a><a \r\n",
      "                        class=\"mega-menu-sub-cat-tdi_51\" \r\n",
      "                        id=\"tdi_58\" \r\n",
      "                        data-td_block_id=\"tdi_51\" \r\n",
      "                        data-td_filter_value=\"272\" \r\n",
      "                        href=\"https://insights.blackcoffer.com/category/our-success-stories/healthcare-our-success-stories/\"\r\n",
      "                    >Healthcare</a><a \r\n",
      "                        class=\"mega-menu-sub-cat-tdi_51\" \r\n",
      "                        id=\"tdi_59\" \r\n",
      "                        data-td_block_id=\"tdi_51\" \r\n",
      "                        data-td_filter_value=\"281\" \r\n",
      "                        href=\"https://insights.blackcoffer.com/category/our-success-stories/infrastructure-real-estate/\"\r\n",
      "                    >Infrastructure &amp; Real Estate</a><a \r\n",
      "                        class=\"mega-menu-sub-cat-tdi_51\" \r\n",
      "                        id=\"tdi_60\" \r\n",
      "                        data-td_block_id=\"tdi_51\" \r\n",
      "                        data-td_filter_value=\"1264\" \r\n",
      "                        href=\"https://insights.blackcoffer.com/category/our-success-stories/it/\"\r\n",
      "                    >IT</a><a \r\n",
      "                        class=\"mega-menu-sub-cat-tdi_51\" \r\n",
      "                        id=\"tdi_61\" \r\n",
      "                        data-td_block_id=\"tdi_51\" \r\n",
      "                        data-td_filter_value=\"280\" \r\n",
      "                        href=\"https://insights.blackcoffer.com/category/our-success-stories/lifestyle-ecommerce-market-place/\"\r\n",
      "                    >Lifestyle, eCommerce &amp; Online Market Place</a><a \r\n",
      "                        class=\"mega-menu-sub-cat-tdi_51\" \r\n",
      "                        id=\"tdi_62\" \r\n",
      "                        data-td_block_id=\"tdi_51\" \r\n",
      "                        data-td_filter_value=\"278\" \r\n",
      "                        href=\"https://insights.blackcoffer.com/category/our-success-stories/production-manufacturing/\"\r\n",
      "                    >Production &amp; Manufacturing</a><a \r\n",
      "                        class=\"mega-menu-sub-cat-tdi_51\" \r\n",
      "                        id=\"tdi_63\" \r\n",
      "                        data-td_block_id=\"tdi_51\" \r\n",
      "                        data-td_filter_value=\"276\" \r\n",
      "                        href=\"https://insights.blackcoffer.com/category/our-success-stories/research-academia/\"\r\n",
      "                    >Research &amp; Academia</a></div><div class=\"tdb-mega-modules-wrap\"><div id=tdi_51 class=\"td_block_inner\">\r\n",
      "        <div class=\"tdb_module_header tdb_module_mm td_module_wrap td-animation-stack td-cpt-post\">\r\n",
      "            <div class=\"td-module-container td-category-pos-image\">\r\n",
      "                                    <div class=\"td-image-container\">\r\n",
      "                        <a href=\"https://insights.blackcoffer.com/category/our-success-stories/\" class=\"td-post-category\">Our Success Stories</a>                        <div class=\"td-module-thumb\"><a href=\"https://insights.blackcoffer.com/automate-the-data-management-process/\"  rel=\"bookmark\" class=\"td-image-wrap \" title=\"Automate the Data Management Process\" ><span class=\"entry-thumb td-thumb-css\" data-type=\"css_image\" data-img-url=\"https://insights.blackcoffer.com/wp-content/uploads/2023/08/2-5-324x400.jpeg\"  ></span></a></div>                                            </div>\r\n",
      "                \r\n",
      "                <div class=\"td-module-meta-info\">\r\n",
      "                                        \r\n",
      "                    <p class=\"entry-title td-module-title\"><a href=\"https://insights.blackcoffer.com/automate-the-data-management-process/\"  rel=\"bookmark\" title=\"Automate the Data Management Process\">Automate the Data Management Process</a></p>\r\n",
      "                    \r\n",
      "                                            <div class=\"td-editor-date\">\r\n",
      "                                                        \r\n",
      "                                                            <span class=\"td-author-date\">\r\n",
      "                                    \r\n",
      "                                    <span class=\"td-post-date\"><time class=\"entry-date updated td-module-date\" datetime=\"2023-08-08T12:47:15+05:30\" >August 8, 2023</time></span>                                                                                                        </span>\r\n",
      "                                                    </div>\r\n",
      "                    \r\n",
      "                    \r\n",
      "                                    </div>\r\n",
      "            </div>\r\n",
      "        </div>\r\n",
      "\r\n",
      "        \r\n",
      "        <div class=\"tdb_module_header tdb_module_mm td_module_wrap td-animation-stack td-cpt-post\">\r\n",
      "            <div class=\"td-module-container td-category-pos-image\">\r\n",
      "                                    <div class=\"td-image-container\">\r\n",
      "                        <a href=\"https://insights.blackcoffer.com/category/our-success-stories/\" class=\"td-post-category\">Our Success Stories</a>                        <div class=\"td-module-thumb\"><a href=\"https://insights.blackcoffer.com/realtime-kibana-dashboard-for-a-financial-tech-firm/\"  rel=\"bookmark\" class=\"td-image-wrap \" title=\"Realtime Kibana Dashboard for a financial tech firm\" ><span class=\"entry-thumb td-thumb-css\" data-type=\"css_image\" data-img-url=\"https://insights.blackcoffer.com/wp-content/uploads/2023/08/2-1-324x400.jpeg\"  ></span></a></div>                                            </div>\r\n",
      "                \r\n",
      "                <div class=\"td-module-meta-info\">\r\n",
      "                                        \r\n",
      "                    <p class=\"entry-title td-module-title\"><a href=\"https://insights.blackcoffer.com/realtime-kibana-dashboard-for-a-financial-tech-firm/\"  rel=\"bookmark\" title=\"Realtime Kibana Dashboard for a financial tech firm\">Realtime Kibana Dashboard for a financial tech firm</a></p>\r\n",
      "                    \r\n",
      "                                            <div class=\"td-editor-date\">\r\n",
      "                                                        \r\n",
      "                                                            <span class=\"td-author-date\">\r\n",
      "                                    \r\n",
      "                                    <span class=\"td-post-date\"><time class=\"entry-date updated td-module-date\" datetime=\"2023-08-08T12:25:46+05:30\" >August 8, 2023</time></span>                                                                                                        </span>\r\n",
      "                                                    </div>\r\n",
      "                    \r\n",
      "                    \r\n",
      "                                    </div>\r\n",
      "            </div>\r\n",
      "        </div>\r\n",
      "\r\n",
      "        \r\n",
      "        <div class=\"tdb_module_header tdb_module_mm td_module_wrap td-animation-stack td-cpt-post\">\r\n",
      "            <div class=\"td-module-container td-category-pos-image\">\r\n",
      "                                    <div class=\"td-image-container\">\r\n",
      "                        <a href=\"https://insights.blackcoffer.com/category/our-success-stories/\" class=\"td-post-category\">Our Success Stories</a>                        <div class=\"td-module-thumb\"><a href=\"https://insights.blackcoffer.com/data-management-etl-and-data-automation/\"  rel=\"bookmark\" class=\"td-image-wrap \" title=\"Data Management, ETL, and Data Automation\" ><span class=\"entry-thumb td-thumb-css\" data-type=\"css_image\" data-img-url=\"https://insights.blackcoffer.com/wp-content/uploads/2023/08/2-4-324x400.jpeg\"  ></span></a></div>                                            </div>\r\n",
      "                \r\n",
      "                <div class=\"td-module-meta-info\">\r\n",
      "                                        \r\n",
      "                    <p class=\"entry-title td-module-title\"><a href=\"https://insights.blackcoffer.com/data-management-etl-and-data-automation/\"  rel=\"bookmark\" title=\"Data Management, ETL, and Data Automation\">Data Management, ETL, and Data Automation</a></p>\r\n",
      "                    \r\n",
      "                                            <div class=\"td-editor-date\">\r\n",
      "                                                        \r\n",
      "                                                            <span class=\"td-author-date\">\r\n",
      "                                    \r\n",
      "                                    <span class=\"td-post-date\"><time class=\"entry-date updated td-module-date\" datetime=\"2023-08-06T14:36:02+05:30\" >August 6, 2023</time></span>                                                                                                        </span>\r\n",
      "                                                    </div>\r\n",
      "                    \r\n",
      "                    \r\n",
      "                                    </div>\r\n",
      "            </div>\r\n",
      "        </div>\r\n",
      "\r\n",
      "        \r\n",
      "        <div class=\"tdb_module_header tdb_module_mm td_module_wrap td-animation-stack td-cpt-post\">\r\n",
      "            <div class=\"td-module-container td-category-pos-image\">\r\n",
      "                                    <div class=\"td-image-container\">\r\n",
      "                        <a href=\"https://insights.blackcoffer.com/category/our-success-stories/\" class=\"td-post-category\">Our Success Stories</a>                        <div class=\"td-module-thumb\"><a href=\"https://insights.blackcoffer.com/data-management-egeas/\"  rel=\"bookmark\" class=\"td-image-wrap \" title=\"Data Management &#8211; EGEAS\" ><span class=\"entry-thumb td-thumb-css\" data-type=\"css_image\" data-img-url=\"https://insights.blackcoffer.com/wp-content/uploads/2023/08/2-1-324x400.webp\"  ></span></a></div>                                            </div>\r\n",
      "                \r\n",
      "                <div class=\"td-module-meta-info\">\r\n",
      "                                        \r\n",
      "                    <p class=\"entry-title td-module-title\"><a href=\"https://insights.blackcoffer.com/data-management-egeas/\"  rel=\"bookmark\" title=\"Data Management &#8211; EGEAS\">Data Management &#8211; EGEAS</a></p>\r\n",
      "                    \r\n",
      "                                            <div class=\"td-editor-date\">\r\n",
      "                                                        \r\n",
      "                                                            <span class=\"td-author-date\">\r\n",
      "                                    \r\n",
      "                                    <span class=\"td-post-date\"><time class=\"entry-date updated td-module-date\" datetime=\"2023-08-06T14:31:16+05:30\" >August 6, 2023</time></span>                                                                                                        </span>\r\n",
      "                                                    </div>\r\n",
      "                    \r\n",
      "                    \r\n",
      "                                    </div>\r\n",
      "            </div>\r\n",
      "        </div>\r\n",
      "\r\n",
      "        </div><div class=\"td-next-prev-wrap\"><a href=\"#\" class=\"td-ajax-prev-page ajax-page-disabled\" aria-label=\"prev-page\" id=\"prev-page-tdi_51\" data-td_block_id=\"tdi_51\"><i class=\"td-next-prev-icon td-icon-font td-icon-menu-left\"></i></a><a href=\"#\"  class=\"td-ajax-next-page\" aria-label=\"next-page\" id=\"next-page-tdi_51\" data-td_block_id=\"tdi_51\"><i class=\"td-next-prev-icon td-icon-font td-icon-menu-right\"></i></a></div></div></div> <!-- ./block1 --></div></li>\n",
      "</ul>\n",
      "</li>\n",
      "<li class=\"menu-item menu-item-type-taxonomy menu-item-object-category tdb-menu-item-button tdb-menu-item tdb-mega-menu tdb-mega-menu-inactive menu-item-4059\"><a href=\"https://insights.blackcoffer.com/category/our-solutions/\"><div class=\"tdb-menu-item-text\">What We Do</div><i class=\"tdb-sub-menu-icon td-icon-down tdb-main-sub-menu-icon\"></i></a>\n",
      "<ul class=\"sub-menu\">\n",
      "\t<li class=\"menu-item-0\"><div class=\"tdb-menu-item-text\"><div class=\"tdb_header_mega_menu tdi_64 td_with_ajax_pagination td-pb-border-top td_block_template_1\"  data-td-block-uid=\"tdi_64\" >\n",
      "<style>\n",
      "/* custom css */\n",
      ".tdi_64 .block-mega-child-cats{\r\n",
      "\t\t\t\t\tpadding: 16px 0;\r\n",
      "\t\t\t\t\r\n",
      "\t\t\t\t\ttext-align: right;\r\n",
      "\t\t\t\t}.tdi_64 .block-mega-child-cats:after{\r\n",
      "\t\t\t\t    border-width: 0 1px 0 0;\r\n",
      "\t\t\t\t}.tdi_64 .block-mega-child-cats a{\r\n",
      "\t\t\t\t\tpadding: 2px 22px;\r\n",
      "\t\t\t\t\r\n",
      "\t\t\t\t\tborder-width: 0 1px 0 0;\r\n",
      "\t\t\t\t\r\n",
      "\t\t\t\t\tfont-size:13px !important;\r\n",
      "\t\t\t\t}.tdi_64 .block-mega-child-cats .cur-sub-cat{\r\n",
      "\t\t\t\t\tborder-width: 0 1px 0 0;\r\n",
      "\t\t\t\t}.tdi_64:not(.td-no-subcats) .td_module_wrap{\r\n",
      "\t\t\t\t\twidth: 25%;\r\n",
      "\t\t\t\t\tfloat: left;\r\n",
      "\t\t\t\t}.td-md-is-safari .tdi_64:not(.td-no-subcats) .td_module_wrap{\r\n",
      "\t\t\t\t    margin-right: -1px;\r\n",
      "\t\t\t\t}.tdi_64.td-no-subcats .td_module_wrap{\r\n",
      "\t\t\t\t\twidth: 20%;\r\n",
      "\t\t\t\t\tfloat: left;\r\n",
      "\t\t\t\t}.td-md-is-safari .tdi_64.td-no-subcats .td_module_wrap{\r\n",
      "\t\t\t\t    margin-right: -1px;\r\n",
      "\t\t\t\t}.tdi_64 .td_module_wrap:nth-child(4n+1){\r\n",
      "\t\t\t\t\tclear: both;\r\n",
      "\t\t\t\t}.tdi_64 .td_module_wrap:nth-last-child(-n+4){\r\n",
      "\t\t\t\t\tmargin-bottom: 0;\r\n",
      "\t\t\t\t\tpadding-bottom: 0;\r\n",
      "\t\t\t\t}.tdi_64 .td_module_wrap:nth-last-child(-n+4) .td-module-container:before{\r\n",
      "\t\t\t\t\tdisplay: none;\r\n",
      "\t\t\t\t}.tdi_64 .td_module_wrap{\r\n",
      "\t\t\t\t\tpadding-left: 11px;\r\n",
      "\t\t\t\t\tpadding-right: 11px;\r\n",
      "\t\t\t\t\r\n",
      "\t\t\t\t\tpadding-bottom: 13px;\r\n",
      "\t\t\t\t\tmargin-bottom: 13px;\r\n",
      "\t\t\t\t\r\n",
      "\t\t\t        display: flex;\r\n",
      "\t\t\t        flex-direction: column;\r\n",
      "\t\t\t    }.tdi_64 .td_block_inner{\r\n",
      "\t\t\t\t\tmargin-left: -11px;\r\n",
      "\t\t\t\t\tmargin-right: -11px;\r\n",
      "\t\t\t\t\r\n",
      "\t\t\t        display: flex;\r\n",
      "\t\t\t        flex-wrap: wrap;\r\n",
      "\t\t\t    }.tdi_64 .td-module-container:before{\r\n",
      "\t\t\t\t\tbottom: -13px;\r\n",
      "\t\t\t\t\r\n",
      "\t\t\t\t\tborder-color: #eaeaea;\r\n",
      "\t\t\t\t}.tdi_64 .td-module-container{\r\n",
      "\t\t\t\t    border-color: #eaeaea;\r\n",
      "\t\t\t\t\r\n",
      "\t\t\t\t\tflex-direction: column;\r\n",
      "\t\t\t\t\r\n",
      "\t\t\t        flex: 1;\r\n",
      "                    flex-basis: auto;\r\n",
      "\t\t\t    }.tdi_64 .entry-thumb{\r\n",
      "\t\t\t\t\tbackground-position: center 50%;\r\n",
      "\t\t\t\t}.tdi_64 .td-image-container{\r\n",
      "                \tdisplay: block; order: 0;\r\n",
      "                }.ie10 .tdi_64 .td-module-meta-info,\r\n",
      "\t\t\t\t.ie11 .tdi_64 .td-module-meta-info{\r\n",
      "\t\t\t\t \tflex: auto;\r\n",
      "\t\t\t    }.tdi_64 .td-post-vid-time{\r\n",
      "\t\t\t\t\tdisplay: block;\r\n",
      "\t\t\t\t}.tdi_64 .entry-title{\r\n",
      "\t\t\t\t\tmargin: 3px 0;\r\n",
      "\t\t\t\t\r\n",
      "\t\t\t\t\tfont-size:15px !important;line-height:1.2 !important;\r\n",
      "\t\t\t\t}.tdi_64 .td-excerpt{\r\n",
      "\t\t\t\t\tcolumn-count: 1;\r\n",
      "\t\t\t\t\r\n",
      "\t\t\t\t\tcolumn-gap: 48px;\r\n",
      "\t\t\t\t\r\n",
      "\t\t\t\t\tdisplay: none;\r\n",
      "\t\t\t\t}.tdi_64 .td-audio-player{\r\n",
      "\t\t\t\t\tfont-size: 12px;\r\n",
      "\t\t\t\t\r\n",
      "\t\t\t\t\topacity: 1;\r\n",
      "\t\t\t\t\tvisibility: visible;\r\n",
      "\t\t\t\t\theight: auto;\r\n",
      "\t\t\t\t}.tdi_64 .td-module-meta-info{\r\n",
      "\t\t\t\t\tborder-color: #eaeaea;\r\n",
      "\t\t\t\t}.tdi_64 .td-post-category:not(.td-post-extra-category){\r\n",
      "\t\t\t\t\tdisplay: inline-block;\r\n",
      "\t\t\t\t}.tdi_64 .td-author-date{\r\n",
      "\t\t\t\t\tdisplay: inline;\r\n",
      "\t\t\t\t}.tdi_64 .td-post-author-name{\r\n",
      "\t\t\t\t\tdisplay: none;\r\n",
      "\t\t\t\t}.tdi_64 .entry-review-stars{\r\n",
      "\t\t\t\t\tdisplay: inline-block;\r\n",
      "\t\t\t\t}.tdi_64 .td-icon-star,\r\n",
      "                .tdi_64 .td-icon-star-empty,\r\n",
      "                .tdi_64 .td-icon-star-half{\r\n",
      "\t\t\t\t\tfont-size: 15px;\r\n",
      "\t\t\t\t}.tdi_64 .td-module-comments{\r\n",
      "\t\t\t\t\tdisplay: none;\r\n",
      "\t\t\t\t}.tdi_64 .td-author-photo .avatar{\r\n",
      "\t\t\t\t    width: 20px;\r\n",
      "\t\t\t\t    height: 20px;\r\n",
      "\t\t\t\t\r\n",
      "\t\t\t\t    margin-right: 6px;\r\n",
      "\t\t\t\t\r\n",
      "\t\t\t\t    border-radius: 50%;\r\n",
      "\t\t\t\t}.tdi_64:not(.td-no-subcats) .block-mega-child-cats:before{\r\n",
      "\t\t\t\t\tbackground-color: #ffffff;\r\n",
      "\t\t\t\t}.tdi_64 .td-module-exclusive .td-module-title a:before{\r\n",
      "                    display: inline-block;\r\n",
      "                }html:not([class*='ie']) .tdi_64 .td-module-container:hover .entry-thumb:before{\r\n",
      "                    opacity: 0;\r\n",
      "                }\n",
      "\n",
      "/* landscape */\n",
      "@media (min-width: 1019px) and (max-width: 1140px){\n",
      ".tdi_64 .block-mega-child-cats{\r\n",
      "\t\t\t\t\twidth: 160px;\r\n",
      "\t\t\t\t}.tdi_64 .td_module_wrap{\r\n",
      "\t\t\t\t\tpadding-bottom: 13px !important;\r\n",
      "\t\t\t\t\tmargin-bottom: 13px !important;\r\n",
      "\t\t\t\t\r\n",
      "\t\t\t\t\tclear: none !important;\r\n",
      "\t\t\t\t\r\n",
      "\t\t\t\t\tpadding-bottom: 13px;\r\n",
      "\t\t\t\t\tmargin-bottom: 13px;\r\n",
      "\t\t\t\t}.tdi_64 .td_module_wrap:nth-last-child(-n+4){\r\n",
      "\t\t\t\t\tmargin-bottom: 0 !important;\r\n",
      "\t\t\t\t\tpadding-bottom: 0 !important;\r\n",
      "\t\t\t\t}.tdi_64 .td_module_wrap .td-module-container:before{\r\n",
      "\t\t\t\t\tdisplay: block !important;\r\n",
      "\t\t\t\t}.tdi_64 .td_module_wrap:nth-last-child(-n+4) .td-module-container:before{\r\n",
      "\t\t\t\t\tdisplay: none !important;\r\n",
      "\t\t\t\t}.tdi_64 .td_module_wrap:nth-child(4n+1){\r\n",
      "\t\t\t\t\tclear: both !important;\r\n",
      "\t\t\t\t}.tdi_64 .td-module-container:before{\r\n",
      "\t\t\t\t\tbottom: -13px;\r\n",
      "\t\t\t\t}.tdi_64 .entry-title{\r\n",
      "\t\t\t\t\tfont-size:14px !important;\r\n",
      "\t\t\t\t}\n",
      "}\n",
      "\n",
      "/* portrait */\n",
      "@media (min-width: 768px) and (max-width: 1018px){\n",
      ".tdi_64 .tdb-mega-modules-wrap{\r\n",
      "\t\t\t\t\tpadding: 14px;\r\n",
      "\t\t\t\t}.tdi_64 .block-mega-child-cats{\r\n",
      "\t\t\t\t\twidth: 140px;\r\n",
      "\t\t\t\t\r\n",
      "\t\t\t\t\tpadding: 14px 0;\r\n",
      "\t\t\t\t}.tdi_64 .block-mega-child-cats a{\r\n",
      "\t\t\t\t\tpadding: 0 14px;\r\n",
      "\t\t\t\t\r\n",
      "\t\t\t\t\tfont-size:11px !important;\r\n",
      "\t\t\t\t}.tdi_64 .td_module_wrap{\r\n",
      "\t\t\t\t\tpadding-bottom: 13px !important;\r\n",
      "\t\t\t\t\tmargin-bottom: 13px !important;\r\n",
      "\t\t\t\t\r\n",
      "\t\t\t\t\tclear: none !important;\r\n",
      "\t\t\t\t\r\n",
      "\t\t\t\t\tpadding-left: 7px;\r\n",
      "\t\t\t\t\tpadding-right: 7px;\r\n",
      "\t\t\t\t\r\n",
      "\t\t\t\t\tpadding-bottom: 13px;\r\n",
      "\t\t\t\t\tmargin-bottom: 13px;\r\n",
      "\t\t\t\t}.tdi_64 .td_module_wrap:nth-last-child(-n+4){\r\n",
      "\t\t\t\t\tmargin-bottom: 0 !important;\r\n",
      "\t\t\t\t\tpadding-bottom: 0 !important;\r\n",
      "\t\t\t\t}.tdi_64 .td_module_wrap .td-module-container:before{\r\n",
      "\t\t\t\t\tdisplay: block !important;\r\n",
      "\t\t\t\t}.tdi_64 .td_module_wrap:nth-last-child(-n+4) .td-module-container:before{\r\n",
      "\t\t\t\t\tdisplay: none !important;\r\n",
      "\t\t\t\t}.tdi_64 .td_module_wrap:nth-child(4n+1){\r\n",
      "\t\t\t\t\tclear: both !important;\r\n",
      "\t\t\t\t}.tdi_64 .td_block_inner{\r\n",
      "\t\t\t\t\tmargin-left: -7px;\r\n",
      "\t\t\t\t\tmargin-right: -7px;\r\n",
      "\t\t\t\t}.tdi_64 .td-module-container:before{\r\n",
      "\t\t\t\t\tbottom: -13px;\r\n",
      "\t\t\t\t}.tdi_64 .td-video-play-ico{\r\n",
      "\t\t\t\t\twidth: 24px;\r\n",
      "\t\t\t\t\theight: 24px;\r\n",
      "\t\t\t\t\tfont-size: 24px;\r\n",
      "\t\t\t\t}.tdi_64 .entry-title{\r\n",
      "\t\t\t\t\tfont-size:13px !important;\r\n",
      "\t\t\t\t}\n",
      "}\n",
      "\n",
      "/* phone */\n",
      "@media (max-width: 767px){\n",
      ".tdi_64 .td_module_wrap{\r\n",
      "\t\t\t\t\tpadding-bottom: 13px !important;\r\n",
      "\t\t\t\t\tmargin-bottom: 13px !important;\r\n",
      "\t\t\t\t\r\n",
      "\t\t\t\t\tclear: none !important;\r\n",
      "\t\t\t\t\r\n",
      "\t\t\t\t\tpadding-bottom: 13px;\r\n",
      "\t\t\t\t\tmargin-bottom: 13px;\r\n",
      "\t\t\t\t}.tdi_64 .td_module_wrap:nth-last-child(-n+4){\r\n",
      "\t\t\t\t\tmargin-bottom: 0 !important;\r\n",
      "\t\t\t\t\tpadding-bottom: 0 !important;\r\n",
      "\t\t\t\t}.tdi_64 .td_module_wrap .td-module-container:before{\r\n",
      "\t\t\t\t\tdisplay: block !important;\r\n",
      "\t\t\t\t}.tdi_64 .td_module_wrap:nth-last-child(-n+4) .td-module-container:before{\r\n",
      "\t\t\t\t\tdisplay: none !important;\r\n",
      "\t\t\t\t}.tdi_64 .td_module_wrap:nth-child(4n+1){\r\n",
      "\t\t\t\t\tclear: both !important;\r\n",
      "\t\t\t\t}.tdi_64 .td-module-container:before{\r\n",
      "\t\t\t\t\tbottom: -13px;\r\n",
      "\t\t\t\t}\n",
      "}\n",
      "</style><script>var block_tdi_64 = new tdBlock();\n",
      "block_tdi_64.id = \"tdi_64\";\n",
      "block_tdi_64.atts = '{\"mc1_title_tag\":\"p\",\"main_sub_tdicon\":\"td-icon-down\",\"sub_tdicon\":\"td-icon-right-arrow\",\"mm_align_horiz\":\"content-horiz-center\",\"modules_on_row_regular\":\"20%\",\"modules_on_row_cats\":\"25%\",\"image_size\":\"td_324x400\",\"modules_category\":\"image\",\"show_excerpt\":\"none\",\"show_com\":\"none\",\"show_date\":\"\",\"show_author\":\"none\",\"mm_sub_align_horiz\":\"content-horiz-right\",\"mm_elem_align_horiz\":\"content-horiz-right\",\"inline\":\"yes\",\"menu_id\":\"\",\"mm_align_screen\":\"yes\",\"f_elem_font_family\":\"\",\"f_elem_font_size\":\"eyJwb3J0cmFpdCI6IjExIn0=\",\"mm_width\":\"1300\",\"mm_subcats_bg\":\"#ffffff\",\"mm_elem_border_a\":\"0 1px 0 0\",\"mm_elem_padd\":\"eyJhbGwiOiIycHggMjJweCIsInBvcnRyYWl0IjoiMCAxNHB4In0=\",\"mm_sub_padd\":\"eyJhbGwiOiIxNnB4IDAiLCJwb3J0cmFpdCI6IjE0cHggMCJ9\",\"f_title_font_size\":\"eyJhbGwiOiIxNSIsImxhbmRzY2FwZSI6IjE0IiwicG9ydHJhaXQiOiIxMyJ9\",\"f_title_font_line_height\":\"1.2\",\"art_title\":\"3px 0\",\"f_mm_sub_font_size\":\"eyJhbGwiOiIxMyIsInBvcnRyYWl0IjoiMTEifQ==\",\"mm_child_cats\":\"11\",\"mm_elem_border\":\"0 1px 0 0\",\"mm_height\":\"eyJhbGwiOiIzNDUiLCJsYW5kc2NhcGUiOiIzMDAiLCJwb3J0cmFpdCI6IjI0MCJ9\",\"mm_sub_width\":\"eyJsYW5kc2NhcGUiOiIxNjAiLCJwb3J0cmFpdCI6IjE0MCJ9\",\"mm_padd\":\"eyJwb3J0cmFpdCI6IjE0In0=\",\"modules_gap\":\"eyJwb3J0cmFpdCI6IjE0In0=\",\"elem_padd\":\"eyJwb3J0cmFpdCI6IjAgMTJweCJ9\",\"f_elem_font_line_height\":\"eyJwb3J0cmFpdCI6IjQ4cHgifQ==\",\"video_icon\":\"eyJwb3J0cmFpdCI6IjI0In0=\",\"all_modules_space\":\"26\",\"tds_menu_sub_active\":\"tds_menu_sub_active1\",\"tds_menu_sub_active2-line_color\":\"\",\"tds_menu_active\":\"tds_menu_active1\",\"block_type\":\"tdb_header_mega_menu\",\"show_subcat\":\"\",\"show_mega\":\"\",\"show_mega_cats\":\"\",\"separator\":\"\",\"width\":\"\",\"more\":\"\",\"float_right\":\"\",\"align_horiz\":\"content-horiz-left\",\"elem_space\":\"\",\"main_sub_icon_size\":\"\",\"main_sub_icon_space\":\"\",\"main_sub_icon_align\":\"-1\",\"sep_tdicon\":\"\",\"sep_icon_size\":\"\",\"sep_icon_space\":\"\",\"sep_icon_align\":\"-1\",\"more_txt\":\"\",\"more_tdicon\":\"\",\"more_icon_size\":\"\",\"more_icon_align\":\"0\",\"sub_width\":\"\",\"sub_first_left\":\"\",\"sub_rest_top\":\"\",\"sub_padd\":\"\",\"sub_align_horiz\":\"content-horiz-left\",\"sub_elem_inline\":\"\",\"sub_elem_space\":\"\",\"sub_elem_padd\":\"\",\"sub_elem_radius\":\"0\",\"sub_icon_size\":\"\",\"sub_icon_space\":\"\",\"sub_icon_pos\":\"\",\"sub_icon_align\":\"1\",\"mm_content_width\":\"\",\"mm_radius\":\"\",\"mm_offset\":\"\",\"mm_posts_limit\":\"5\",\"mm_subcats_posts_limit\":\"4\",\"open_in_new_window\":\"\",\"mm_ajax_preloading\":\"\",\"mm_hide_all_item\":\"\",\"mm_sub_border\":\"\",\"mm_sub_inline\":\"\",\"mm_elem_order\":\"name\",\"mm_elem_space\":\"\",\"mm_elem_border_rad\":\"\",\"mc1_tl\":\"\",\"mc1_el\":\"\",\"m_padding\":\"\",\"modules_border_size\":\"\",\"modules_border_style\":\"\",\"modules_border_color\":\"#eaeaea\",\"modules_divider\":\"\",\"modules_divider_color\":\"#eaeaea\",\"h_effect\":\"\",\"image_alignment\":\"50\",\"image_height\":\"\",\"image_width\":\"\",\"image_floated\":\"no_float\",\"image_radius\":\"\",\"hide_image\":\"\",\"show_vid_t\":\"block\",\"vid_t_margin\":\"\",\"vid_t_padding\":\"\",\"vid_t_color\":\"\",\"vid_t_bg_color\":\"\",\"f_vid_time_font_header\":\"\",\"f_vid_time_font_title\":\"Video duration text\",\"f_vid_time_font_settings\":\"\",\"f_vid_time_font_family\":\"\",\"f_vid_time_font_size\":\"\",\"f_vid_time_font_line_height\":\"\",\"f_vid_time_font_style\":\"\",\"f_vid_time_font_weight\":\"\",\"f_vid_time_font_transform\":\"\",\"f_vid_time_font_spacing\":\"\",\"f_vid_time_\":\"\",\"excl_show\":\"inline-block\",\"excl_txt\":\"\",\"excl_margin\":\"\",\"excl_padd\":\"\",\"all_excl_border\":\"\",\"all_excl_border_style\":\"solid\",\"excl_radius\":\"\",\"excl_color\":\"\",\"excl_color_h\":\"\",\"excl_bg\":\"\",\"excl_bg_h\":\"\",\"all_excl_border_color\":\"\",\"excl_border_color_h\":\"\",\"f_excl_font_header\":\"\",\"f_excl_font_title\":\"Label text\",\"f_excl_font_settings\":\"\",\"f_excl_font_family\":\"\",\"f_excl_font_size\":\"\",\"f_excl_font_line_height\":\"\",\"f_excl_font_style\":\"\",\"f_excl_font_weight\":\"\",\"f_excl_font_transform\":\"\",\"f_excl_font_spacing\":\"\",\"f_excl_\":\"\",\"show_audio\":\"block\",\"hide_audio\":\"\",\"art_audio\":\"\",\"art_audio_size\":\"1\",\"meta_info_align\":\"\",\"meta_info_horiz\":\"content-horiz-left\",\"meta_width\":\"\",\"meta_margin\":\"\",\"meta_padding\":\"\",\"meta_info_border_size\":\"\",\"meta_info_border_style\":\"\",\"meta_info_border_color\":\"#eaeaea\",\"modules_category_margin\":\"\",\"modules_category_padding\":\"\",\"modules_cat_border\":\"\",\"modules_category_radius\":\"0\",\"show_cat\":\"inline-block\",\"modules_extra_cat\":\"\",\"author_photo\":\"\",\"author_photo_size\":\"\",\"author_photo_space\":\"\",\"author_photo_radius\":\"\",\"show_modified_date\":\"\",\"time_ago\":\"\",\"time_ago_add_txt\":\"ago\",\"time_ago_txt_pos\":\"\",\"art_excerpt\":\"\",\"excerpt_col\":\"1\",\"excerpt_gap\":\"\",\"excerpt_middle\":\"\",\"show_review\":\"inline-block\",\"review_space\":\"\",\"review_size\":\"2.5\",\"review_distance\":\"\",\"show_pagination\":\"\",\"pag_space\":\"\",\"pag_padding\":\"\",\"pag_border_width\":\"\",\"pag_border_radius\":\"\",\"prev_tdicon\":\"\",\"next_tdicon\":\"\",\"pag_icons_size\":\"\",\"text_color\":\"\",\"main_sub_color\":\"\",\"sep_color\":\"\",\"more_icon_color\":\"\",\"hover_opacity\":\"\",\"f_elem_font_header\":\"\",\"f_elem_font_title\":\"Elements text\",\"f_elem_font_settings\":\"\",\"f_elem_font_style\":\"\",\"f_elem_font_weight\":\"\",\"f_elem_font_transform\":\"\",\"f_elem_font_spacing\":\"\",\"f_elem_\":\"\",\"sub_bg_color\":\"\",\"sub_border_size\":\"\",\"sub_border_color\":\"\",\"sub_border_radius\":\"\",\"sub_text_color\":\"\",\"sub_elem_bg_color\":\"\",\"sub_color\":\"\",\"sub_shadow_shadow_header\":\"\",\"sub_shadow_shadow_title\":\"Shadow\",\"sub_shadow_shadow_size\":\"\",\"sub_shadow_shadow_offset_horizontal\":\"\",\"sub_shadow_shadow_offset_vertical\":\"\",\"sub_shadow_shadow_spread\":\"\",\"sub_shadow_shadow_color\":\"\",\"f_sub_elem_font_header\":\"\",\"f_sub_elem_font_title\":\"Elements text\",\"f_sub_elem_font_settings\":\"\",\"f_sub_elem_font_family\":\"\",\"f_sub_elem_font_size\":\"\",\"f_sub_elem_font_line_height\":\"\",\"f_sub_elem_font_style\":\"\",\"f_sub_elem_font_weight\":\"\",\"f_sub_elem_font_transform\":\"\",\"f_sub_elem_font_spacing\":\"\",\"f_sub_elem_\":\"\",\"mm_bg\":\"\",\"mm_border_size\":\"\",\"mm_border_color\":\"\",\"mm_shadow_shadow_header\":\"\",\"mm_shadow_shadow_title\":\"Shadow\",\"mm_shadow_shadow_size\":\"\",\"mm_shadow_shadow_offset_horizontal\":\"\",\"mm_shadow_shadow_offset_vertical\":\"\",\"mm_shadow_shadow_spread\":\"\",\"mm_shadow_shadow_color\":\"\",\"mm_subcats_border_color\":\"\",\"mm_elem_color\":\"\",\"mm_elem_color_a\":\"\",\"mm_elem_bg\":\"\",\"mm_elem_bg_a\":\"\",\"mm_elem_border_color\":\"\",\"mm_elem_border_color_a\":\"\",\"mm_elem_shadow_shadow_header\":\"\",\"mm_elem_shadow_shadow_title\":\"Elements shadow\",\"mm_elem_shadow_shadow_size\":\"\",\"mm_elem_shadow_shadow_offset_horizontal\":\"\",\"mm_elem_shadow_shadow_offset_vertical\":\"\",\"mm_elem_shadow_shadow_spread\":\"\",\"mm_elem_shadow_shadow_color\":\"\",\"f_mm_sub_font_header\":\"\",\"f_mm_sub_font_title\":\"Sub categories elements\",\"f_mm_sub_font_settings\":\"\",\"f_mm_sub_font_family\":\"\",\"f_mm_sub_font_line_height\":\"\",\"f_mm_sub_font_style\":\"\",\"f_mm_sub_font_weight\":\"\",\"f_mm_sub_font_transform\":\"\",\"f_mm_sub_font_spacing\":\"\",\"f_mm_sub_\":\"\",\"m_bg\":\"\",\"color_overlay\":\"\",\"shadow_shadow_header\":\"\",\"shadow_shadow_title\":\"Module Shadow\",\"shadow_shadow_size\":\"\",\"shadow_shadow_offset_horizontal\":\"\",\"shadow_shadow_offset_vertical\":\"\",\"shadow_shadow_spread\":\"\",\"shadow_shadow_color\":\"\",\"title_txt\":\"\",\"title_txt_hover\":\"\",\"all_underline_height\":\"\",\"all_underline_color\":\"#000\",\"cat_bg\":\"\",\"cat_bg_hover\":\"\",\"cat_txt\":\"\",\"cat_txt_hover\":\"\",\"cat_border\":\"\",\"cat_border_hover\":\"\",\"meta_bg\":\"\",\"author_txt\":\"\",\"author_txt_hover\":\"\",\"date_txt\":\"\",\"ex_txt\":\"\",\"com_bg\":\"\",\"com_txt\":\"\",\"rev_txt\":\"\",\"shadow_m_shadow_header\":\"\",\"shadow_m_shadow_title\":\"Meta info shadow\",\"shadow_m_shadow_size\":\"\",\"shadow_m_shadow_offset_horizontal\":\"\",\"shadow_m_shadow_offset_vertical\":\"\",\"shadow_m_shadow_spread\":\"\",\"shadow_m_shadow_color\":\"\",\"audio_btn_color\":\"\",\"audio_time_color\":\"\",\"audio_bar_color\":\"\",\"audio_bar_curr_color\":\"\",\"pag_text\":\"\",\"pag_h_text\":\"\",\"pag_bg\":\"\",\"pag_h_bg\":\"\",\"pag_border\":\"\",\"pag_h_border\":\"\",\"f_title_font_header\":\"\",\"f_title_font_title\":\"Article title\",\"f_title_font_settings\":\"\",\"f_title_font_family\":\"\",\"f_title_font_style\":\"\",\"f_title_font_weight\":\"\",\"f_title_font_transform\":\"\",\"f_title_font_spacing\":\"\",\"f_title_\":\"\",\"f_cat_font_title\":\"Article category tag\",\"f_cat_font_settings\":\"\",\"f_cat_font_family\":\"\",\"f_cat_font_size\":\"\",\"f_cat_font_line_height\":\"\",\"f_cat_font_style\":\"\",\"f_cat_font_weight\":\"\",\"f_cat_font_transform\":\"\",\"f_cat_font_spacing\":\"\",\"f_cat_\":\"\",\"f_meta_font_title\":\"Article meta info\",\"f_meta_font_settings\":\"\",\"f_meta_font_family\":\"\",\"f_meta_font_size\":\"\",\"f_meta_font_line_height\":\"\",\"f_meta_font_style\":\"\",\"f_meta_font_weight\":\"\",\"f_meta_font_transform\":\"\",\"f_meta_font_spacing\":\"\",\"f_meta_\":\"\",\"f_ex_font_title\":\"Article excerpt\",\"f_ex_font_settings\":\"\",\"f_ex_font_family\":\"\",\"f_ex_font_size\":\"\",\"f_ex_font_line_height\":\"\",\"f_ex_font_style\":\"\",\"f_ex_font_weight\":\"\",\"f_ex_font_transform\":\"\",\"f_ex_font_spacing\":\"\",\"f_ex_\":\"\",\"mix_color\":\"\",\"mix_type\":\"\",\"fe_brightness\":\"1\",\"fe_contrast\":\"1\",\"fe_saturate\":\"1\",\"mix_color_h\":\"\",\"mix_type_h\":\"\",\"fe_brightness_h\":\"1\",\"fe_contrast_h\":\"1\",\"fe_saturate_h\":\"1\",\"el_class\":\"\",\"block_template_id\":\"\",\"td_column_number\":3,\"header_color\":\"\",\"ajax_pagination_infinite_stop\":\"\",\"offset\":\"\",\"limit\":\"4\",\"td_ajax_preloading\":\"\",\"td_ajax_filter_type\":\"td_category_ids_filter\",\"td_filter_default_txt\":\"\",\"td_ajax_filter_ids\":\"\",\"color_preset\":\"\",\"ajax_pagination\":\"next_prev\",\"ajax_pagination_next_prev_swipe\":\"\",\"border_top\":\"\",\"css\":\"\",\"tdc_css_class\":\"tdi_64\",\"tdc_css_class_style\":\"tdi_64_rand_style\",\"category_id\":\"269\",\"subcats_posts_limit\":\"4\",\"child_cats_limit\":\"11\",\"hide_all\":\"\",\"tdc_css\":\"\",\"class\":\"tdi_64\"}';\n",
      "block_tdi_64.td_column_number = \"3\";\n",
      "block_tdi_64.block_type = \"tdb_header_mega_menu\";\n",
      "block_tdi_64.post_count = \"4\";\n",
      "block_tdi_64.found_posts = \"57\";\n",
      "block_tdi_64.header_color = \"\";\n",
      "block_tdi_64.ajax_pagination_infinite_stop = \"\";\n",
      "block_tdi_64.max_num_pages = \"15\";\n",
      "tdBlocksArray.push(block_tdi_64);\n",
      "</script><div class=\"block-mega-child-cats\"><a \r\n",
      "                        class=\"cur-sub-cat mega-menu-sub-cat-tdi_64\" \r\n",
      "                        id=\"tdi_65\" \r\n",
      "                        data-td_block_id=\"tdi_64\" \r\n",
      "                        data-td_filter_value=\"\" \r\n",
      "                        href=\"https://insights.blackcoffer.com/category/our-solutions/\"\r\n",
      "                    >All</a><a \r\n",
      "                        class=\"mega-menu-sub-cat-tdi_64\" \r\n",
      "                        id=\"tdi_66\" \r\n",
      "                        data-td_block_id=\"tdi_64\" \r\n",
      "                        data-td_filter_value=\"285\" \r\n",
      "                        href=\"https://insights.blackcoffer.com/category/our-solutions/banking-financials-securities-and-insurance-solutions/\"\r\n",
      "                    >Banking, Financials, Securities, and Insurance</a><a \r\n",
      "                        class=\"mega-menu-sub-cat-tdi_64\" \r\n",
      "                        id=\"tdi_67\" \r\n",
      "                        data-td_block_id=\"tdi_64\" \r\n",
      "                        data-td_filter_value=\"284\" \r\n",
      "                        href=\"https://insights.blackcoffer.com/category/our-solutions/energy-our-solutions/\"\r\n",
      "                    >Energy</a><a \r\n",
      "                        class=\"mega-menu-sub-cat-tdi_64\" \r\n",
      "                        id=\"tdi_68\" \r\n",
      "                        data-td_block_id=\"tdi_64\" \r\n",
      "                        data-td_filter_value=\"290\" \r\n",
      "                        href=\"https://insights.blackcoffer.com/category/our-solutions/entertainment-our-solutions/\"\r\n",
      "                    >Entertainment</a><a \r\n",
      "                        class=\"mega-menu-sub-cat-tdi_64\" \r\n",
      "                        id=\"tdi_69\" \r\n",
      "                        data-td_block_id=\"tdi_64\" \r\n",
      "                        data-td_filter_value=\"286\" \r\n",
      "                        href=\"https://insights.blackcoffer.com/category/our-solutions/fast-moving-consumer-goods-our-solutions/\"\r\n",
      "                    >Fast Moving Consumer Goods</a><a \r\n",
      "                        class=\"mega-menu-sub-cat-tdi_64\" \r\n",
      "                        id=\"tdi_70\" \r\n",
      "                        data-td_block_id=\"tdi_64\" \r\n",
      "                        data-td_filter_value=\"288\" \r\n",
      "                        href=\"https://insights.blackcoffer.com/category/our-solutions/government-think-tanks-our-solutions/\"\r\n",
      "                    >Government &amp; Think Tanks</a><a \r\n",
      "                        class=\"mega-menu-sub-cat-tdi_64\" \r\n",
      "                        id=\"tdi_71\" \r\n",
      "                        data-td_block_id=\"tdi_64\" \r\n",
      "                        data-td_filter_value=\"283\" \r\n",
      "                        href=\"https://insights.blackcoffer.com/category/our-solutions/healthcare-our-solutions/\"\r\n",
      "                    >Healthcare</a><a \r\n",
      "                        class=\"mega-menu-sub-cat-tdi_64\" \r\n",
      "                        id=\"tdi_72\" \r\n",
      "                        data-td_block_id=\"tdi_64\" \r\n",
      "                        data-td_filter_value=\"339\" \r\n",
      "                        href=\"https://insights.blackcoffer.com/category/our-solutions/hospitality/\"\r\n",
      "                    >Hospitality</a><a \r\n",
      "                        class=\"mega-menu-sub-cat-tdi_64\" \r\n",
      "                        id=\"tdi_73\" \r\n",
      "                        data-td_block_id=\"tdi_64\" \r\n",
      "                        data-td_filter_value=\"292\" \r\n",
      "                        href=\"https://insights.blackcoffer.com/category/our-solutions/infrastructure-real-estate-our-solutions/\"\r\n",
      "                    >Infrastructure &amp; Real Estate</a><a \r\n",
      "                        class=\"mega-menu-sub-cat-tdi_64\" \r\n",
      "                        id=\"tdi_74\" \r\n",
      "                        data-td_block_id=\"tdi_64\" \r\n",
      "                        data-td_filter_value=\"321\" \r\n",
      "                        href=\"https://insights.blackcoffer.com/category/our-solutions/it-services/\"\r\n",
      "                    >IT Services</a><a \r\n",
      "                        class=\"mega-menu-sub-cat-tdi_64\" \r\n",
      "                        id=\"tdi_75\" \r\n",
      "                        data-td_block_id=\"tdi_64\" \r\n",
      "                        data-td_filter_value=\"291\" \r\n",
      "                        href=\"https://insights.blackcoffer.com/category/our-solutions/lifestyle-ecommerce-market-place-solutions/\"\r\n",
      "                    >Lifestyle, eCommerce &amp; Online Market Place</a><a \r\n",
      "                        class=\"mega-menu-sub-cat-tdi_64\" \r\n",
      "                        id=\"tdi_76\" \r\n",
      "                        data-td_block_id=\"tdi_64\" \r\n",
      "                        data-td_filter_value=\"604\" \r\n",
      "                        href=\"https://insights.blackcoffer.com/category/our-solutions/news-media/\"\r\n",
      "                    >News &amp; Media</a></div><div class=\"tdb-mega-modules-wrap\"><div id=tdi_64 class=\"td_block_inner\">\r\n",
      "        <div class=\"tdb_module_header tdb_module_mm td_module_wrap td-animation-stack td-cpt-post\">\r\n",
      "            <div class=\"td-module-container td-category-pos-image\">\r\n",
      "                                    <div class=\"td-image-container\">\r\n",
      "                        <a href=\"https://insights.blackcoffer.com/category/our-solutions/\" class=\"td-post-category\">What We Do</a>                        <div class=\"td-module-thumb\"><a href=\"https://insights.blackcoffer.com/how-to-secure-ssl-nginx-with-lets-encrypt-on-ubuntu-cloud-vm-gcp-aws-azure-linode-and-add-domain/\"  rel=\"bookmark\" class=\"td-image-wrap \" title=\"How To Secure (SSL) Nginx with Let&#8217;s Encrypt on Ubuntu (Cloud VM, GCP, AWS, Azure, Linode) and Add Domain\" ><span class=\"entry-thumb td-thumb-css\" data-type=\"css_image\" data-img-url=\"https://insights.blackcoffer.com/wp-content/uploads/2023/08/2-6-324x400.png\"  ></span></a></div>                                            </div>\r\n",
      "                \r\n",
      "                <div class=\"td-module-meta-info\">\r\n",
      "                                        \r\n",
      "                    <p class=\"entry-title td-module-title\"><a href=\"https://insights.blackcoffer.com/how-to-secure-ssl-nginx-with-lets-encrypt-on-ubuntu-cloud-vm-gcp-aws-azure-linode-and-add-domain/\"  rel=\"bookmark\" title=\"How To Secure (SSL) Nginx with Let&#8217;s Encrypt on Ubuntu (Cloud VM, GCP, AWS, Azure, Linode) and Add Domain\">How To Secure (SSL) Nginx with Let&#8217;s Encrypt on Ubuntu (Cloud VM, GCP, AWS, Azure, Linode) and Add Domain</a></p>\r\n",
      "                    \r\n",
      "                                            <div class=\"td-editor-date\">\r\n",
      "                                                        \r\n",
      "                                                            <span class=\"td-author-date\">\r\n",
      "                                    \r\n",
      "                                    <span class=\"td-post-date\"><time class=\"entry-date updated td-module-date\" datetime=\"2023-08-08T12:11:31+05:30\" >August 8, 2023</time></span>                                                                                                        </span>\r\n",
      "                                                    </div>\r\n",
      "                    \r\n",
      "                    \r\n",
      "                                    </div>\r\n",
      "            </div>\r\n",
      "        </div>\r\n",
      "\r\n",
      "        \r\n",
      "        <div class=\"tdb_module_header tdb_module_mm td_module_wrap td-animation-stack td-cpt-post\">\r\n",
      "            <div class=\"td-module-container td-category-pos-image\">\r\n",
      "                                    <div class=\"td-image-container\">\r\n",
      "                        <a href=\"https://insights.blackcoffer.com/category/our-solutions/\" class=\"td-post-category\">What We Do</a>                        <div class=\"td-module-thumb\"><a href=\"https://insights.blackcoffer.com/deploy-and-view-react-appnextjs-on-cloud-vm-such-as-gcp-aws-azure-linode/\"  rel=\"bookmark\" class=\"td-image-wrap \" title=\"Deploy and view React app(Nextjs) on cloud VM such as GCP, AWS, Azure, Linode\" ><span class=\"entry-thumb td-thumb-css\" data-type=\"css_image\" data-img-url=\"https://insights.blackcoffer.com/wp-content/uploads/2023/08/2-3-324x400.webp\"  ></span></a></div>                                            </div>\r\n",
      "                \r\n",
      "                <div class=\"td-module-meta-info\">\r\n",
      "                                        \r\n",
      "                    <p class=\"entry-title td-module-title\"><a href=\"https://insights.blackcoffer.com/deploy-and-view-react-appnextjs-on-cloud-vm-such-as-gcp-aws-azure-linode/\"  rel=\"bookmark\" title=\"Deploy and view React app(Nextjs) on cloud VM such as GCP, AWS, Azure, Linode\">Deploy and view React app(Nextjs) on cloud VM such as GCP, AWS, Azure, Linode</a></p>\r\n",
      "                    \r\n",
      "                                            <div class=\"td-editor-date\">\r\n",
      "                                                        \r\n",
      "                                                            <span class=\"td-author-date\">\r\n",
      "                                    \r\n",
      "                                    <span class=\"td-post-date\"><time class=\"entry-date updated td-module-date\" datetime=\"2023-08-08T12:06:35+05:30\" >August 8, 2023</time></span>                                                                                                        </span>\r\n",
      "                                                    </div>\r\n",
      "                    \r\n",
      "                    \r\n",
      "                                    </div>\r\n",
      "            </div>\r\n",
      "        </div>\r\n",
      "\r\n",
      "        \r\n",
      "        <div class=\"tdb_module_header tdb_module_mm td_module_wrap td-animation-stack td-cpt-post\">\r\n",
      "            <div class=\"td-module-container td-category-pos-image\">\r\n",
      "                                    <div class=\"td-image-container\">\r\n",
      "                        <a href=\"https://insights.blackcoffer.com/category/our-solutions/\" class=\"td-post-category\">What We Do</a>                        <div class=\"td-module-thumb\"><a href=\"https://insights.blackcoffer.com/deploy-nodejs-app-on-a-cloud-vm-such-as-gcp-aws-azure-linode/\"  rel=\"bookmark\" class=\"td-image-wrap \" title=\"Deploy Nodejs app on a cloud VM such as GCP, AWS, Azure, Linode\" ><span class=\"entry-thumb td-thumb-css\" data-type=\"css_image\" data-img-url=\"https://insights.blackcoffer.com/wp-content/uploads/2023/08/2-2-324x400.webp\"  ></span></a></div>                                            </div>\r\n",
      "                \r\n",
      "                <div class=\"td-module-meta-info\">\r\n",
      "                                        \r\n",
      "                    <p class=\"entry-title td-module-title\"><a href=\"https://insights.blackcoffer.com/deploy-nodejs-app-on-a-cloud-vm-such-as-gcp-aws-azure-linode/\"  rel=\"bookmark\" title=\"Deploy Nodejs app on a cloud VM such as GCP, AWS, Azure, Linode\">Deploy Nodejs app on a cloud VM such as GCP, AWS, Azure, Linode</a></p>\r\n",
      "                    \r\n",
      "                                            <div class=\"td-editor-date\">\r\n",
      "                                                        \r\n",
      "                                                            <span class=\"td-author-date\">\r\n",
      "                                    \r\n",
      "                                    <span class=\"td-post-date\"><time class=\"entry-date updated td-module-date\" datetime=\"2023-08-08T12:03:29+05:30\" >August 8, 2023</time></span>                                                                                                        </span>\r\n",
      "                                                    </div>\r\n",
      "                    \r\n",
      "                    \r\n",
      "                                    </div>\r\n",
      "            </div>\r\n",
      "        </div>\r\n",
      "\r\n",
      "        \r\n",
      "        <div class=\"tdb_module_header tdb_module_mm td_module_wrap td-animation-stack td-cpt-post\">\r\n",
      "            <div class=\"td-module-container td-category-pos-image\">\r\n",
      "                                    <div class=\"td-image-container\">\r\n",
      "                        <a href=\"https://insights.blackcoffer.com/category/our-solutions/\" class=\"td-post-category\">What We Do</a>                        <div class=\"td-module-thumb\"><a href=\"https://insights.blackcoffer.com/grafana-dashboard-oscar-awards/\"  rel=\"bookmark\" class=\"td-image-wrap \" title=\"Grafana Dashboard &#8211; Oscar Awards\" ><span class=\"entry-thumb td-thumb-css\" data-type=\"css_image\" data-img-url=\"https://insights.blackcoffer.com/wp-content/uploads/2023/07/slider-demo4-1-1-324x400.jpg\"  ></span></a></div>                                            </div>\r\n",
      "                \r\n",
      "                <div class=\"td-module-meta-info\">\r\n",
      "                                        \r\n",
      "                    <p class=\"entry-title td-module-title\"><a href=\"https://insights.blackcoffer.com/grafana-dashboard-oscar-awards/\"  rel=\"bookmark\" title=\"Grafana Dashboard &#8211; Oscar Awards\">Grafana Dashboard &#8211; Oscar Awards</a></p>\r\n",
      "                    \r\n",
      "                                            <div class=\"td-editor-date\">\r\n",
      "                                                        \r\n",
      "                                                            <span class=\"td-author-date\">\r\n",
      "                                    \r\n",
      "                                    <span class=\"td-post-date\"><time class=\"entry-date updated td-module-date\" datetime=\"2023-07-08T16:24:48+05:30\" >July 8, 2023</time></span>                                                                                                        </span>\r\n",
      "                                                    </div>\r\n",
      "                    \r\n",
      "                    \r\n",
      "                                    </div>\r\n",
      "            </div>\r\n",
      "        </div>\r\n",
      "\r\n",
      "        </div><div class=\"td-next-prev-wrap\"><a href=\"#\" class=\"td-ajax-prev-page ajax-page-disabled\" aria-label=\"prev-page\" id=\"prev-page-tdi_64\" data-td_block_id=\"tdi_64\"><i class=\"td-next-prev-icon td-icon-font td-icon-menu-left\"></i></a><a href=\"#\"  class=\"td-ajax-next-page\" aria-label=\"next-page\" id=\"next-page-tdi_64\" data-td_block_id=\"tdi_64\"><i class=\"td-next-prev-icon td-icon-font td-icon-menu-right\"></i></a></div></div></div> <!-- ./block1 --></div></li>\n",
      "</ul>\n",
      "</li>\n",
      "<li class=\"menu-item menu-item-type-taxonomy menu-item-object-category current-post-ancestor current-menu-parent current-post-parent tdb-menu-item-button tdb-menu-item tdb-mega-menu tdb-mega-menu-inactive menu-item-4060\"><a href=\"https://insights.blackcoffer.com/category/what-we-think/\"><div class=\"tdb-menu-item-text\">What We Think</div><i class=\"tdb-sub-menu-icon td-icon-down tdb-main-sub-menu-icon\"></i></a>\n",
      "<ul class=\"sub-menu\">\n",
      "\t<li class=\"menu-item-0\"><div class=\"tdb-menu-item-text\"><div class=\"tdb_header_mega_menu tdi_77 td_with_ajax_pagination td-pb-border-top td_block_template_1\"  data-td-block-uid=\"tdi_77\" >\n",
      "<style>\n",
      "/* custom css */\n",
      ".tdi_77 .block-mega-child-cats{\r\n",
      "\t\t\t\t\tpadding: 16px 0;\r\n",
      "\t\t\t\t\r\n",
      "\t\t\t\t\ttext-align: right;\r\n",
      "\t\t\t\t}.tdi_77 .block-mega-child-cats:after{\r\n",
      "\t\t\t\t    border-width: 0 1px 0 0;\r\n",
      "\t\t\t\t}.tdi_77 .block-mega-child-cats a{\r\n",
      "\t\t\t\t\tpadding: 2px 22px;\r\n",
      "\t\t\t\t\r\n",
      "\t\t\t\t\tborder-width: 0 1px 0 0;\r\n",
      "\t\t\t\t\r\n",
      "\t\t\t\t\tfont-size:13px !important;\r\n",
      "\t\t\t\t}.tdi_77 .block-mega-child-cats .cur-sub-cat{\r\n",
      "\t\t\t\t\tborder-width: 0 1px 0 0;\r\n",
      "\t\t\t\t}.tdi_77:not(.td-no-subcats) .td_module_wrap{\r\n",
      "\t\t\t\t\twidth: 25%;\r\n",
      "\t\t\t\t\tfloat: left;\r\n",
      "\t\t\t\t}.td-md-is-safari .tdi_77:not(.td-no-subcats) .td_module_wrap{\r\n",
      "\t\t\t\t    margin-right: -1px;\r\n",
      "\t\t\t\t}.tdi_77.td-no-subcats .td_module_wrap{\r\n",
      "\t\t\t\t\twidth: 20%;\r\n",
      "\t\t\t\t\tfloat: left;\r\n",
      "\t\t\t\t}.td-md-is-safari .tdi_77.td-no-subcats .td_module_wrap{\r\n",
      "\t\t\t\t    margin-right: -1px;\r\n",
      "\t\t\t\t}.tdi_77 .td_module_wrap:nth-child(4n+1){\r\n",
      "\t\t\t\t\tclear: both;\r\n",
      "\t\t\t\t}.tdi_77 .td_module_wrap:nth-last-child(-n+4){\r\n",
      "\t\t\t\t\tmargin-bottom: 0;\r\n",
      "\t\t\t\t\tpadding-bottom: 0;\r\n",
      "\t\t\t\t}.tdi_77 .td_module_wrap:nth-last-child(-n+4) .td-module-container:before{\r\n",
      "\t\t\t\t\tdisplay: none;\r\n",
      "\t\t\t\t}.tdi_77 .td_module_wrap{\r\n",
      "\t\t\t\t\tpadding-left: 11px;\r\n",
      "\t\t\t\t\tpadding-right: 11px;\r\n",
      "\t\t\t\t\r\n",
      "\t\t\t\t\tpadding-bottom: 13px;\r\n",
      "\t\t\t\t\tmargin-bottom: 13px;\r\n",
      "\t\t\t\t\r\n",
      "\t\t\t        display: flex;\r\n",
      "\t\t\t        flex-direction: column;\r\n",
      "\t\t\t    }.tdi_77 .td_block_inner{\r\n",
      "\t\t\t\t\tmargin-left: -11px;\r\n",
      "\t\t\t\t\tmargin-right: -11px;\r\n",
      "\t\t\t\t\r\n",
      "\t\t\t        display: flex;\r\n",
      "\t\t\t        flex-wrap: wrap;\r\n",
      "\t\t\t    }.tdi_77 .td-module-container:before{\r\n",
      "\t\t\t\t\tbottom: -13px;\r\n",
      "\t\t\t\t\r\n",
      "\t\t\t\t\tborder-color: #eaeaea;\r\n",
      "\t\t\t\t}.tdi_77 .td-module-container{\r\n",
      "\t\t\t\t    border-color: #eaeaea;\r\n",
      "\t\t\t\t\r\n",
      "\t\t\t\t\tflex-direction: column;\r\n",
      "\t\t\t\t\r\n",
      "\t\t\t        flex: 1;\r\n",
      "                    flex-basis: auto;\r\n",
      "\t\t\t    }.tdi_77 .entry-thumb{\r\n",
      "\t\t\t\t\tbackground-position: center 50%;\r\n",
      "\t\t\t\t}.tdi_77 .td-image-container{\r\n",
      "                \tdisplay: block; order: 0;\r\n",
      "                }.ie10 .tdi_77 .td-module-meta-info,\r\n",
      "\t\t\t\t.ie11 .tdi_77 .td-module-meta-info{\r\n",
      "\t\t\t\t \tflex: auto;\r\n",
      "\t\t\t    }.tdi_77 .td-post-vid-time{\r\n",
      "\t\t\t\t\tdisplay: block;\r\n",
      "\t\t\t\t}.tdi_77 .entry-title{\r\n",
      "\t\t\t\t\tmargin: 3px 0;\r\n",
      "\t\t\t\t\r\n",
      "\t\t\t\t\tfont-size:15px !important;line-height:1.2 !important;\r\n",
      "\t\t\t\t}.tdi_77 .td-excerpt{\r\n",
      "\t\t\t\t\tcolumn-count: 1;\r\n",
      "\t\t\t\t\r\n",
      "\t\t\t\t\tcolumn-gap: 48px;\r\n",
      "\t\t\t\t\r\n",
      "\t\t\t\t\tdisplay: none;\r\n",
      "\t\t\t\t}.tdi_77 .td-audio-player{\r\n",
      "\t\t\t\t\tfont-size: 12px;\r\n",
      "\t\t\t\t\r\n",
      "\t\t\t\t\topacity: 1;\r\n",
      "\t\t\t\t\tvisibility: visible;\r\n",
      "\t\t\t\t\theight: auto;\r\n",
      "\t\t\t\t}.tdi_77 .td-module-meta-info{\r\n",
      "\t\t\t\t\tborder-color: #eaeaea;\r\n",
      "\t\t\t\t}.tdi_77 .td-post-category:not(.td-post-extra-category){\r\n",
      "\t\t\t\t\tdisplay: inline-block;\r\n",
      "\t\t\t\t}.tdi_77 .td-author-date{\r\n",
      "\t\t\t\t\tdisplay: inline;\r\n",
      "\t\t\t\t}.tdi_77 .td-post-author-name{\r\n",
      "\t\t\t\t\tdisplay: none;\r\n",
      "\t\t\t\t}.tdi_77 .entry-review-stars{\r\n",
      "\t\t\t\t\tdisplay: inline-block;\r\n",
      "\t\t\t\t}.tdi_77 .td-icon-star,\r\n",
      "                .tdi_77 .td-icon-star-empty,\r\n",
      "                .tdi_77 .td-icon-star-half{\r\n",
      "\t\t\t\t\tfont-size: 15px;\r\n",
      "\t\t\t\t}.tdi_77 .td-module-comments{\r\n",
      "\t\t\t\t\tdisplay: none;\r\n",
      "\t\t\t\t}.tdi_77 .td-author-photo .avatar{\r\n",
      "\t\t\t\t    width: 20px;\r\n",
      "\t\t\t\t    height: 20px;\r\n",
      "\t\t\t\t\r\n",
      "\t\t\t\t    margin-right: 6px;\r\n",
      "\t\t\t\t\r\n",
      "\t\t\t\t    border-radius: 50%;\r\n",
      "\t\t\t\t}.tdi_77:not(.td-no-subcats) .block-mega-child-cats:before{\r\n",
      "\t\t\t\t\tbackground-color: #ffffff;\r\n",
      "\t\t\t\t}.tdi_77 .td-module-exclusive .td-module-title a:before{\r\n",
      "                    display: inline-block;\r\n",
      "                }html:not([class*='ie']) .tdi_77 .td-module-container:hover .entry-thumb:before{\r\n",
      "                    opacity: 0;\r\n",
      "                }\n",
      "\n",
      "/* landscape */\n",
      "@media (min-width: 1019px) and (max-width: 1140px){\n",
      ".tdi_77 .block-mega-child-cats{\r\n",
      "\t\t\t\t\twidth: 160px;\r\n",
      "\t\t\t\t}.tdi_77 .td_module_wrap{\r\n",
      "\t\t\t\t\tpadding-bottom: 13px !important;\r\n",
      "\t\t\t\t\tmargin-bottom: 13px !important;\r\n",
      "\t\t\t\t\r\n",
      "\t\t\t\t\tclear: none !important;\r\n",
      "\t\t\t\t\r\n",
      "\t\t\t\t\tpadding-bottom: 13px;\r\n",
      "\t\t\t\t\tmargin-bottom: 13px;\r\n",
      "\t\t\t\t}.tdi_77 .td_module_wrap:nth-last-child(-n+4){\r\n",
      "\t\t\t\t\tmargin-bottom: 0 !important;\r\n",
      "\t\t\t\t\tpadding-bottom: 0 !important;\r\n",
      "\t\t\t\t}.tdi_77 .td_module_wrap .td-module-container:before{\r\n",
      "\t\t\t\t\tdisplay: block !important;\r\n",
      "\t\t\t\t}.tdi_77 .td_module_wrap:nth-last-child(-n+4) .td-module-container:before{\r\n",
      "\t\t\t\t\tdisplay: none !important;\r\n",
      "\t\t\t\t}.tdi_77 .td_module_wrap:nth-child(4n+1){\r\n",
      "\t\t\t\t\tclear: both !important;\r\n",
      "\t\t\t\t}.tdi_77 .td-module-container:before{\r\n",
      "\t\t\t\t\tbottom: -13px;\r\n",
      "\t\t\t\t}.tdi_77 .entry-title{\r\n",
      "\t\t\t\t\tfont-size:14px !important;\r\n",
      "\t\t\t\t}\n",
      "}\n",
      "\n",
      "/* portrait */\n",
      "@media (min-width: 768px) and (max-width: 1018px){\n",
      ".tdi_77 .tdb-mega-modules-wrap{\r\n",
      "\t\t\t\t\tpadding: 14px;\r\n",
      "\t\t\t\t}.tdi_77 .block-mega-child-cats{\r\n",
      "\t\t\t\t\twidth: 140px;\r\n",
      "\t\t\t\t\r\n",
      "\t\t\t\t\tpadding: 14px 0;\r\n",
      "\t\t\t\t}.tdi_77 .block-mega-child-cats a{\r\n",
      "\t\t\t\t\tpadding: 0 14px;\r\n",
      "\t\t\t\t\r\n",
      "\t\t\t\t\tfont-size:11px !important;\r\n",
      "\t\t\t\t}.tdi_77 .td_module_wrap{\r\n",
      "\t\t\t\t\tpadding-bottom: 13px !important;\r\n",
      "\t\t\t\t\tmargin-bottom: 13px !important;\r\n",
      "\t\t\t\t\r\n",
      "\t\t\t\t\tclear: none !important;\r\n",
      "\t\t\t\t\r\n",
      "\t\t\t\t\tpadding-left: 7px;\r\n",
      "\t\t\t\t\tpadding-right: 7px;\r\n",
      "\t\t\t\t\r\n",
      "\t\t\t\t\tpadding-bottom: 13px;\r\n",
      "\t\t\t\t\tmargin-bottom: 13px;\r\n",
      "\t\t\t\t}.tdi_77 .td_module_wrap:nth-last-child(-n+4){\r\n",
      "\t\t\t\t\tmargin-bottom: 0 !important;\r\n",
      "\t\t\t\t\tpadding-bottom: 0 !important;\r\n",
      "\t\t\t\t}.tdi_77 .td_module_wrap .td-module-container:before{\r\n",
      "\t\t\t\t\tdisplay: block !important;\r\n",
      "\t\t\t\t}.tdi_77 .td_module_wrap:nth-last-child(-n+4) .td-module-container:before{\r\n",
      "\t\t\t\t\tdisplay: none !important;\r\n",
      "\t\t\t\t}.tdi_77 .td_module_wrap:nth-child(4n+1){\r\n",
      "\t\t\t\t\tclear: both !important;\r\n",
      "\t\t\t\t}.tdi_77 .td_block_inner{\r\n",
      "\t\t\t\t\tmargin-left: -7px;\r\n",
      "\t\t\t\t\tmargin-right: -7px;\r\n",
      "\t\t\t\t}.tdi_77 .td-module-container:before{\r\n",
      "\t\t\t\t\tbottom: -13px;\r\n",
      "\t\t\t\t}.tdi_77 .td-video-play-ico{\r\n",
      "\t\t\t\t\twidth: 24px;\r\n",
      "\t\t\t\t\theight: 24px;\r\n",
      "\t\t\t\t\tfont-size: 24px;\r\n",
      "\t\t\t\t}.tdi_77 .entry-title{\r\n",
      "\t\t\t\t\tfont-size:13px !important;\r\n",
      "\t\t\t\t}\n",
      "}\n",
      "\n",
      "/* phone */\n",
      "@media (max-width: 767px){\n",
      ".tdi_77 .td_module_wrap{\r\n",
      "\t\t\t\t\tpadding-bottom: 13px !important;\r\n",
      "\t\t\t\t\tmargin-bottom: 13px !important;\r\n",
      "\t\t\t\t\r\n",
      "\t\t\t\t\tclear: none !important;\r\n",
      "\t\t\t\t\r\n",
      "\t\t\t\t\tpadding-bottom: 13px;\r\n",
      "\t\t\t\t\tmargin-bottom: 13px;\r\n",
      "\t\t\t\t}.tdi_77 .td_module_wrap:nth-last-child(-n+4){\r\n",
      "\t\t\t\t\tmargin-bottom: 0 !important;\r\n",
      "\t\t\t\t\tpadding-bottom: 0 !important;\r\n",
      "\t\t\t\t}.tdi_77 .td_module_wrap .td-module-container:before{\r\n",
      "\t\t\t\t\tdisplay: block !important;\r\n",
      "\t\t\t\t}.tdi_77 .td_module_wrap:nth-last-child(-n+4) .td-module-container:before{\r\n",
      "\t\t\t\t\tdisplay: none !important;\r\n",
      "\t\t\t\t}.tdi_77 .td_module_wrap:nth-child(4n+1){\r\n",
      "\t\t\t\t\tclear: both !important;\r\n",
      "\t\t\t\t}.tdi_77 .td-module-container:before{\r\n",
      "\t\t\t\t\tbottom: -13px;\r\n",
      "\t\t\t\t}\n",
      "}\n",
      "</style><script>var block_tdi_77 = new tdBlock();\n",
      "block_tdi_77.id = \"tdi_77\";\n",
      "block_tdi_77.atts = '{\"mc1_title_tag\":\"p\",\"main_sub_tdicon\":\"td-icon-down\",\"sub_tdicon\":\"td-icon-right-arrow\",\"mm_align_horiz\":\"content-horiz-center\",\"modules_on_row_regular\":\"20%\",\"modules_on_row_cats\":\"25%\",\"image_size\":\"td_324x400\",\"modules_category\":\"image\",\"show_excerpt\":\"none\",\"show_com\":\"none\",\"show_date\":\"\",\"show_author\":\"none\",\"mm_sub_align_horiz\":\"content-horiz-right\",\"mm_elem_align_horiz\":\"content-horiz-right\",\"inline\":\"yes\",\"menu_id\":\"\",\"mm_align_screen\":\"yes\",\"f_elem_font_family\":\"\",\"f_elem_font_size\":\"eyJwb3J0cmFpdCI6IjExIn0=\",\"mm_width\":\"1300\",\"mm_subcats_bg\":\"#ffffff\",\"mm_elem_border_a\":\"0 1px 0 0\",\"mm_elem_padd\":\"eyJhbGwiOiIycHggMjJweCIsInBvcnRyYWl0IjoiMCAxNHB4In0=\",\"mm_sub_padd\":\"eyJhbGwiOiIxNnB4IDAiLCJwb3J0cmFpdCI6IjE0cHggMCJ9\",\"f_title_font_size\":\"eyJhbGwiOiIxNSIsImxhbmRzY2FwZSI6IjE0IiwicG9ydHJhaXQiOiIxMyJ9\",\"f_title_font_line_height\":\"1.2\",\"art_title\":\"3px 0\",\"f_mm_sub_font_size\":\"eyJhbGwiOiIxMyIsInBvcnRyYWl0IjoiMTEifQ==\",\"mm_child_cats\":\"11\",\"mm_elem_border\":\"0 1px 0 0\",\"mm_height\":\"eyJhbGwiOiIzNDUiLCJsYW5kc2NhcGUiOiIzMDAiLCJwb3J0cmFpdCI6IjI0MCJ9\",\"mm_sub_width\":\"eyJsYW5kc2NhcGUiOiIxNjAiLCJwb3J0cmFpdCI6IjE0MCJ9\",\"mm_padd\":\"eyJwb3J0cmFpdCI6IjE0In0=\",\"modules_gap\":\"eyJwb3J0cmFpdCI6IjE0In0=\",\"elem_padd\":\"eyJwb3J0cmFpdCI6IjAgMTJweCJ9\",\"f_elem_font_line_height\":\"eyJwb3J0cmFpdCI6IjQ4cHgifQ==\",\"video_icon\":\"eyJwb3J0cmFpdCI6IjI0In0=\",\"all_modules_space\":\"26\",\"tds_menu_sub_active\":\"tds_menu_sub_active1\",\"tds_menu_sub_active2-line_color\":\"\",\"tds_menu_active\":\"tds_menu_active1\",\"block_type\":\"tdb_header_mega_menu\",\"show_subcat\":\"\",\"show_mega\":\"\",\"show_mega_cats\":\"\",\"separator\":\"\",\"width\":\"\",\"more\":\"\",\"float_right\":\"\",\"align_horiz\":\"content-horiz-left\",\"elem_space\":\"\",\"main_sub_icon_size\":\"\",\"main_sub_icon_space\":\"\",\"main_sub_icon_align\":\"-1\",\"sep_tdicon\":\"\",\"sep_icon_size\":\"\",\"sep_icon_space\":\"\",\"sep_icon_align\":\"-1\",\"more_txt\":\"\",\"more_tdicon\":\"\",\"more_icon_size\":\"\",\"more_icon_align\":\"0\",\"sub_width\":\"\",\"sub_first_left\":\"\",\"sub_rest_top\":\"\",\"sub_padd\":\"\",\"sub_align_horiz\":\"content-horiz-left\",\"sub_elem_inline\":\"\",\"sub_elem_space\":\"\",\"sub_elem_padd\":\"\",\"sub_elem_radius\":\"0\",\"sub_icon_size\":\"\",\"sub_icon_space\":\"\",\"sub_icon_pos\":\"\",\"sub_icon_align\":\"1\",\"mm_content_width\":\"\",\"mm_radius\":\"\",\"mm_offset\":\"\",\"mm_posts_limit\":\"5\",\"mm_subcats_posts_limit\":\"4\",\"open_in_new_window\":\"\",\"mm_ajax_preloading\":\"\",\"mm_hide_all_item\":\"\",\"mm_sub_border\":\"\",\"mm_sub_inline\":\"\",\"mm_elem_order\":\"name\",\"mm_elem_space\":\"\",\"mm_elem_border_rad\":\"\",\"mc1_tl\":\"\",\"mc1_el\":\"\",\"m_padding\":\"\",\"modules_border_size\":\"\",\"modules_border_style\":\"\",\"modules_border_color\":\"#eaeaea\",\"modules_divider\":\"\",\"modules_divider_color\":\"#eaeaea\",\"h_effect\":\"\",\"image_alignment\":\"50\",\"image_height\":\"\",\"image_width\":\"\",\"image_floated\":\"no_float\",\"image_radius\":\"\",\"hide_image\":\"\",\"show_vid_t\":\"block\",\"vid_t_margin\":\"\",\"vid_t_padding\":\"\",\"vid_t_color\":\"\",\"vid_t_bg_color\":\"\",\"f_vid_time_font_header\":\"\",\"f_vid_time_font_title\":\"Video duration text\",\"f_vid_time_font_settings\":\"\",\"f_vid_time_font_family\":\"\",\"f_vid_time_font_size\":\"\",\"f_vid_time_font_line_height\":\"\",\"f_vid_time_font_style\":\"\",\"f_vid_time_font_weight\":\"\",\"f_vid_time_font_transform\":\"\",\"f_vid_time_font_spacing\":\"\",\"f_vid_time_\":\"\",\"excl_show\":\"inline-block\",\"excl_txt\":\"\",\"excl_margin\":\"\",\"excl_padd\":\"\",\"all_excl_border\":\"\",\"all_excl_border_style\":\"solid\",\"excl_radius\":\"\",\"excl_color\":\"\",\"excl_color_h\":\"\",\"excl_bg\":\"\",\"excl_bg_h\":\"\",\"all_excl_border_color\":\"\",\"excl_border_color_h\":\"\",\"f_excl_font_header\":\"\",\"f_excl_font_title\":\"Label text\",\"f_excl_font_settings\":\"\",\"f_excl_font_family\":\"\",\"f_excl_font_size\":\"\",\"f_excl_font_line_height\":\"\",\"f_excl_font_style\":\"\",\"f_excl_font_weight\":\"\",\"f_excl_font_transform\":\"\",\"f_excl_font_spacing\":\"\",\"f_excl_\":\"\",\"show_audio\":\"block\",\"hide_audio\":\"\",\"art_audio\":\"\",\"art_audio_size\":\"1\",\"meta_info_align\":\"\",\"meta_info_horiz\":\"content-horiz-left\",\"meta_width\":\"\",\"meta_margin\":\"\",\"meta_padding\":\"\",\"meta_info_border_size\":\"\",\"meta_info_border_style\":\"\",\"meta_info_border_color\":\"#eaeaea\",\"modules_category_margin\":\"\",\"modules_category_padding\":\"\",\"modules_cat_border\":\"\",\"modules_category_radius\":\"0\",\"show_cat\":\"inline-block\",\"modules_extra_cat\":\"\",\"author_photo\":\"\",\"author_photo_size\":\"\",\"author_photo_space\":\"\",\"author_photo_radius\":\"\",\"show_modified_date\":\"\",\"time_ago\":\"\",\"time_ago_add_txt\":\"ago\",\"time_ago_txt_pos\":\"\",\"art_excerpt\":\"\",\"excerpt_col\":\"1\",\"excerpt_gap\":\"\",\"excerpt_middle\":\"\",\"show_review\":\"inline-block\",\"review_space\":\"\",\"review_size\":\"2.5\",\"review_distance\":\"\",\"show_pagination\":\"\",\"pag_space\":\"\",\"pag_padding\":\"\",\"pag_border_width\":\"\",\"pag_border_radius\":\"\",\"prev_tdicon\":\"\",\"next_tdicon\":\"\",\"pag_icons_size\":\"\",\"text_color\":\"\",\"main_sub_color\":\"\",\"sep_color\":\"\",\"more_icon_color\":\"\",\"hover_opacity\":\"\",\"f_elem_font_header\":\"\",\"f_elem_font_title\":\"Elements text\",\"f_elem_font_settings\":\"\",\"f_elem_font_style\":\"\",\"f_elem_font_weight\":\"\",\"f_elem_font_transform\":\"\",\"f_elem_font_spacing\":\"\",\"f_elem_\":\"\",\"sub_bg_color\":\"\",\"sub_border_size\":\"\",\"sub_border_color\":\"\",\"sub_border_radius\":\"\",\"sub_text_color\":\"\",\"sub_elem_bg_color\":\"\",\"sub_color\":\"\",\"sub_shadow_shadow_header\":\"\",\"sub_shadow_shadow_title\":\"Shadow\",\"sub_shadow_shadow_size\":\"\",\"sub_shadow_shadow_offset_horizontal\":\"\",\"sub_shadow_shadow_offset_vertical\":\"\",\"sub_shadow_shadow_spread\":\"\",\"sub_shadow_shadow_color\":\"\",\"f_sub_elem_font_header\":\"\",\"f_sub_elem_font_title\":\"Elements text\",\"f_sub_elem_font_settings\":\"\",\"f_sub_elem_font_family\":\"\",\"f_sub_elem_font_size\":\"\",\"f_sub_elem_font_line_height\":\"\",\"f_sub_elem_font_style\":\"\",\"f_sub_elem_font_weight\":\"\",\"f_sub_elem_font_transform\":\"\",\"f_sub_elem_font_spacing\":\"\",\"f_sub_elem_\":\"\",\"mm_bg\":\"\",\"mm_border_size\":\"\",\"mm_border_color\":\"\",\"mm_shadow_shadow_header\":\"\",\"mm_shadow_shadow_title\":\"Shadow\",\"mm_shadow_shadow_size\":\"\",\"mm_shadow_shadow_offset_horizontal\":\"\",\"mm_shadow_shadow_offset_vertical\":\"\",\"mm_shadow_shadow_spread\":\"\",\"mm_shadow_shadow_color\":\"\",\"mm_subcats_border_color\":\"\",\"mm_elem_color\":\"\",\"mm_elem_color_a\":\"\",\"mm_elem_bg\":\"\",\"mm_elem_bg_a\":\"\",\"mm_elem_border_color\":\"\",\"mm_elem_border_color_a\":\"\",\"mm_elem_shadow_shadow_header\":\"\",\"mm_elem_shadow_shadow_title\":\"Elements shadow\",\"mm_elem_shadow_shadow_size\":\"\",\"mm_elem_shadow_shadow_offset_horizontal\":\"\",\"mm_elem_shadow_shadow_offset_vertical\":\"\",\"mm_elem_shadow_shadow_spread\":\"\",\"mm_elem_shadow_shadow_color\":\"\",\"f_mm_sub_font_header\":\"\",\"f_mm_sub_font_title\":\"Sub categories elements\",\"f_mm_sub_font_settings\":\"\",\"f_mm_sub_font_family\":\"\",\"f_mm_sub_font_line_height\":\"\",\"f_mm_sub_font_style\":\"\",\"f_mm_sub_font_weight\":\"\",\"f_mm_sub_font_transform\":\"\",\"f_mm_sub_font_spacing\":\"\",\"f_mm_sub_\":\"\",\"m_bg\":\"\",\"color_overlay\":\"\",\"shadow_shadow_header\":\"\",\"shadow_shadow_title\":\"Module Shadow\",\"shadow_shadow_size\":\"\",\"shadow_shadow_offset_horizontal\":\"\",\"shadow_shadow_offset_vertical\":\"\",\"shadow_shadow_spread\":\"\",\"shadow_shadow_color\":\"\",\"title_txt\":\"\",\"title_txt_hover\":\"\",\"all_underline_height\":\"\",\"all_underline_color\":\"#000\",\"cat_bg\":\"\",\"cat_bg_hover\":\"\",\"cat_txt\":\"\",\"cat_txt_hover\":\"\",\"cat_border\":\"\",\"cat_border_hover\":\"\",\"meta_bg\":\"\",\"author_txt\":\"\",\"author_txt_hover\":\"\",\"date_txt\":\"\",\"ex_txt\":\"\",\"com_bg\":\"\",\"com_txt\":\"\",\"rev_txt\":\"\",\"shadow_m_shadow_header\":\"\",\"shadow_m_shadow_title\":\"Meta info shadow\",\"shadow_m_shadow_size\":\"\",\"shadow_m_shadow_offset_horizontal\":\"\",\"shadow_m_shadow_offset_vertical\":\"\",\"shadow_m_shadow_spread\":\"\",\"shadow_m_shadow_color\":\"\",\"audio_btn_color\":\"\",\"audio_time_color\":\"\",\"audio_bar_color\":\"\",\"audio_bar_curr_color\":\"\",\"pag_text\":\"\",\"pag_h_text\":\"\",\"pag_bg\":\"\",\"pag_h_bg\":\"\",\"pag_border\":\"\",\"pag_h_border\":\"\",\"f_title_font_header\":\"\",\"f_title_font_title\":\"Article title\",\"f_title_font_settings\":\"\",\"f_title_font_family\":\"\",\"f_title_font_style\":\"\",\"f_title_font_weight\":\"\",\"f_title_font_transform\":\"\",\"f_title_font_spacing\":\"\",\"f_title_\":\"\",\"f_cat_font_title\":\"Article category tag\",\"f_cat_font_settings\":\"\",\"f_cat_font_family\":\"\",\"f_cat_font_size\":\"\",\"f_cat_font_line_height\":\"\",\"f_cat_font_style\":\"\",\"f_cat_font_weight\":\"\",\"f_cat_font_transform\":\"\",\"f_cat_font_spacing\":\"\",\"f_cat_\":\"\",\"f_meta_font_title\":\"Article meta info\",\"f_meta_font_settings\":\"\",\"f_meta_font_family\":\"\",\"f_meta_font_size\":\"\",\"f_meta_font_line_height\":\"\",\"f_meta_font_style\":\"\",\"f_meta_font_weight\":\"\",\"f_meta_font_transform\":\"\",\"f_meta_font_spacing\":\"\",\"f_meta_\":\"\",\"f_ex_font_title\":\"Article excerpt\",\"f_ex_font_settings\":\"\",\"f_ex_font_family\":\"\",\"f_ex_font_size\":\"\",\"f_ex_font_line_height\":\"\",\"f_ex_font_style\":\"\",\"f_ex_font_weight\":\"\",\"f_ex_font_transform\":\"\",\"f_ex_font_spacing\":\"\",\"f_ex_\":\"\",\"mix_color\":\"\",\"mix_type\":\"\",\"fe_brightness\":\"1\",\"fe_contrast\":\"1\",\"fe_saturate\":\"1\",\"mix_color_h\":\"\",\"mix_type_h\":\"\",\"fe_brightness_h\":\"1\",\"fe_contrast_h\":\"1\",\"fe_saturate_h\":\"1\",\"el_class\":\"\",\"block_template_id\":\"\",\"td_column_number\":3,\"header_color\":\"\",\"ajax_pagination_infinite_stop\":\"\",\"offset\":\"\",\"limit\":\"4\",\"td_ajax_preloading\":\"\",\"td_ajax_filter_type\":\"td_category_ids_filter\",\"td_filter_default_txt\":\"\",\"td_ajax_filter_ids\":\"\",\"color_preset\":\"\",\"ajax_pagination\":\"next_prev\",\"ajax_pagination_next_prev_swipe\":\"\",\"border_top\":\"\",\"css\":\"\",\"tdc_css_class\":\"tdi_77\",\"tdc_css_class_style\":\"tdi_77_rand_style\",\"category_id\":\"270\",\"subcats_posts_limit\":\"4\",\"child_cats_limit\":\"11\",\"hide_all\":\"\",\"tdc_css\":\"\",\"class\":\"tdi_77\"}';\n",
      "block_tdi_77.td_column_number = \"3\";\n",
      "block_tdi_77.block_type = \"tdb_header_mega_menu\";\n",
      "block_tdi_77.post_count = \"4\";\n",
      "block_tdi_77.found_posts = \"217\";\n",
      "block_tdi_77.header_color = \"\";\n",
      "block_tdi_77.ajax_pagination_infinite_stop = \"\";\n",
      "block_tdi_77.max_num_pages = \"55\";\n",
      "tdBlocksArray.push(block_tdi_77);\n",
      "</script><div class=\"block-mega-child-cats\"><a \r\n",
      "                        class=\"cur-sub-cat mega-menu-sub-cat-tdi_77\" \r\n",
      "                        id=\"tdi_78\" \r\n",
      "                        data-td_block_id=\"tdi_77\" \r\n",
      "                        data-td_filter_value=\"\" \r\n",
      "                        href=\"https://insights.blackcoffer.com/category/what-we-think/\"\r\n",
      "                    >All</a><a \r\n",
      "                        class=\"mega-menu-sub-cat-tdi_77\" \r\n",
      "                        id=\"tdi_79\" \r\n",
      "                        data-td_block_id=\"tdi_77\" \r\n",
      "                        data-td_filter_value=\"116\" \r\n",
      "                        href=\"https://insights.blackcoffer.com/category/what-we-think/automobiles-components/\"\r\n",
      "                    >Automobiles &amp; Components</a><a \r\n",
      "                        class=\"mega-menu-sub-cat-tdi_77\" \r\n",
      "                        id=\"tdi_80\" \r\n",
      "                        data-td_block_id=\"tdi_77\" \r\n",
      "                        data-td_filter_value=\"129\" \r\n",
      "                        href=\"https://insights.blackcoffer.com/category/what-we-think/financials/\"\r\n",
      "                    >BFSI</a><a \r\n",
      "                        class=\"mega-menu-sub-cat-tdi_77\" \r\n",
      "                        id=\"tdi_81\" \r\n",
      "                        data-td_block_id=\"tdi_77\" \r\n",
      "                        data-td_filter_value=\"247\" \r\n",
      "                        href=\"https://insights.blackcoffer.com/category/what-we-think/financials/asset-and-portfolio/\"\r\n",
      "                    >Asset and Portfolio</a><a \r\n",
      "                        class=\"mega-menu-sub-cat-tdi_77\" \r\n",
      "                        id=\"tdi_82\" \r\n",
      "                        data-td_block_id=\"tdi_77\" \r\n",
      "                        data-td_filter_value=\"130\" \r\n",
      "                        href=\"https://insights.blackcoffer.com/category/what-we-think/financials/banks/\"\r\n",
      "                    >Banks</a><a \r\n",
      "                        class=\"mega-menu-sub-cat-tdi_77\" \r\n",
      "                        id=\"tdi_83\" \r\n",
      "                        data-td_block_id=\"tdi_77\" \r\n",
      "                        data-td_filter_value=\"244\" \r\n",
      "                        href=\"https://insights.blackcoffer.com/category/what-we-think/financials/capital-markets/\"\r\n",
      "                    >Capital Markets</a><a \r\n",
      "                        class=\"mega-menu-sub-cat-tdi_77\" \r\n",
      "                        id=\"tdi_84\" \r\n",
      "                        data-td_block_id=\"tdi_77\" \r\n",
      "                        data-td_filter_value=\"245\" \r\n",
      "                        href=\"https://insights.blackcoffer.com/category/what-we-think/financials/derivatives-and-securities/\"\r\n",
      "                    >Derivatives and Securities</a><a \r\n",
      "                        class=\"mega-menu-sub-cat-tdi_77\" \r\n",
      "                        id=\"tdi_85\" \r\n",
      "                        data-td_block_id=\"tdi_77\" \r\n",
      "                        data-td_filter_value=\"131\" \r\n",
      "                        href=\"https://insights.blackcoffer.com/category/what-we-think/financials/diversified-financials/\"\r\n",
      "                    >Diversified Financials</a><a \r\n",
      "                        class=\"mega-menu-sub-cat-tdi_77\" \r\n",
      "                        id=\"tdi_86\" \r\n",
      "                        data-td_block_id=\"tdi_77\" \r\n",
      "                        data-td_filter_value=\"243\" \r\n",
      "                        href=\"https://insights.blackcoffer.com/category/what-we-think/financials/finance-and-accounting/\"\r\n",
      "                    >Finance &amp; Accounting</a><a \r\n",
      "                        class=\"mega-menu-sub-cat-tdi_77\" \r\n",
      "                        id=\"tdi_87\" \r\n",
      "                        data-td_block_id=\"tdi_77\" \r\n",
      "                        data-td_filter_value=\"132\" \r\n",
      "                        href=\"https://insights.blackcoffer.com/category/what-we-think/financials/insurance/\"\r\n",
      "                    >Insurance</a><a \r\n",
      "                        class=\"mega-menu-sub-cat-tdi_77\" \r\n",
      "                        id=\"tdi_88\" \r\n",
      "                        data-td_block_id=\"tdi_77\" \r\n",
      "                        data-td_filter_value=\"246\" \r\n",
      "                        href=\"https://insights.blackcoffer.com/category/what-we-think/financials/securities-and-capital-markets/\"\r\n",
      "                    >Securities and Capital Markets</a><a \r\n",
      "                        class=\"mega-menu-sub-cat-tdi_77\" \r\n",
      "                        id=\"tdi_89\" \r\n",
      "                        data-td_block_id=\"tdi_77\" \r\n",
      "                        data-td_filter_value=\"113\" \r\n",
      "                        href=\"https://insights.blackcoffer.com/category/what-we-think/capital-goods/\"\r\n",
      "                    >Capital Goods</a></div><div class=\"tdb-mega-modules-wrap\"><div id=tdi_77 class=\"td_block_inner\">\r\n",
      "        <div class=\"tdb_module_header tdb_module_mm td_module_wrap td-animation-stack td-cpt-post\">\r\n",
      "            <div class=\"td-module-container td-category-pos-image\">\r\n",
      "                                    <div class=\"td-image-container\">\r\n",
      "                        <a href=\"https://insights.blackcoffer.com/category/what-we-think/\" class=\"td-post-category\">What We Think</a>                        <div class=\"td-module-thumb\"><a href=\"https://insights.blackcoffer.com/rising-it-cities-and-its-impact-on-the-economy-environment-infrastructure-and-city-life-by-the-year-2040-2/\"  rel=\"bookmark\" class=\"td-image-wrap \" title=\"Rising IT cities and its impact on the economy, environment, infrastructure, and city life by the year 2040.\" ><span class=\"entry-thumb td-thumb-css\" data-type=\"css_image\" data-img-url=\"https://insights.blackcoffer.com/wp-content/uploads/2023/08/pexels-tranmautritam-326508-324x400.jpg\"  ></span></a></div>                                            </div>\r\n",
      "                \r\n",
      "                <div class=\"td-module-meta-info\">\r\n",
      "                                        \r\n",
      "                    <p class=\"entry-title td-module-title\"><a href=\"https://insights.blackcoffer.com/rising-it-cities-and-its-impact-on-the-economy-environment-infrastructure-and-city-life-by-the-year-2040-2/\"  rel=\"bookmark\" title=\"Rising IT cities and its impact on the economy, environment, infrastructure, and city life by the year 2040.\">Rising IT cities and its impact on the economy, environment, infrastructure, and city life by the year 2040.</a></p>\r\n",
      "                    \r\n",
      "                                            <div class=\"td-editor-date\">\r\n",
      "                                                        \r\n",
      "                                                            <span class=\"td-author-date\">\r\n",
      "                                    \r\n",
      "                                    <span class=\"td-post-date\"><time class=\"entry-date updated td-module-date\" datetime=\"2023-08-24T14:28:47+05:30\" >August 24, 2023</time></span>                                                                                                        </span>\r\n",
      "                                                    </div>\r\n",
      "                    \r\n",
      "                    \r\n",
      "                                    </div>\r\n",
      "            </div>\r\n",
      "        </div>\r\n",
      "\r\n",
      "        \r\n",
      "        <div class=\"tdb_module_header tdb_module_mm td_module_wrap td-animation-stack td-cpt-post\">\r\n",
      "            <div class=\"td-module-container td-category-pos-image\">\r\n",
      "                                    <div class=\"td-image-container\">\r\n",
      "                        <a href=\"https://insights.blackcoffer.com/category/what-we-think/\" class=\"td-post-category\">What We Think</a>                        <div class=\"td-module-thumb\"><a href=\"https://insights.blackcoffer.com/rising-it-cities-and-their-impact-on-the-economy-environment-infrastructure-and-city-life-in-future/\"  rel=\"bookmark\" class=\"td-image-wrap \" title=\"Rising IT Cities and Their Impact on the Economy, Environment, Infrastructure, and City Life in Future\" ><span class=\"entry-thumb td-thumb-css\" data-type=\"css_image\" data-img-url=\"https://insights.blackcoffer.com/wp-content/uploads/2023/08/pexels-fox-1595391-1-324x400.jpg\"  ></span></a></div>                                            </div>\r\n",
      "                \r\n",
      "                <div class=\"td-module-meta-info\">\r\n",
      "                                        \r\n",
      "                    <p class=\"entry-title td-module-title\"><a href=\"https://insights.blackcoffer.com/rising-it-cities-and-their-impact-on-the-economy-environment-infrastructure-and-city-life-in-future/\"  rel=\"bookmark\" title=\"Rising IT Cities and Their Impact on the Economy, Environment, Infrastructure, and City Life in Future\">Rising IT Cities and Their Impact on the Economy, Environment, Infrastructure, and City Life in Future</a></p>\r\n",
      "                    \r\n",
      "                                            <div class=\"td-editor-date\">\r\n",
      "                                                        \r\n",
      "                                                            <span class=\"td-author-date\">\r\n",
      "                                    \r\n",
      "                                    <span class=\"td-post-date\"><time class=\"entry-date updated td-module-date\" datetime=\"2023-08-18T18:37:03+05:30\" >August 18, 2023</time></span>                                                                                                        </span>\r\n",
      "                                                    </div>\r\n",
      "                    \r\n",
      "                    \r\n",
      "                                    </div>\r\n",
      "            </div>\r\n",
      "        </div>\r\n",
      "\r\n",
      "        \r\n",
      "        <div class=\"tdb_module_header tdb_module_mm td_module_wrap td-animation-stack td-cpt-post\">\r\n",
      "            <div class=\"td-module-container td-category-pos-image\">\r\n",
      "                                    <div class=\"td-image-container\">\r\n",
      "                        <a href=\"https://insights.blackcoffer.com/category/what-we-think/\" class=\"td-post-category\">What We Think</a>                        <div class=\"td-module-thumb\"><a href=\"https://insights.blackcoffer.com/internet-demands-evolution-communication-impact-and-2035s-alternative-pathways/\"  rel=\"bookmark\" class=\"td-image-wrap \" title=\"Internet Demand&#8217;s Evolution, Communication Impact, and 2035&#8217;s Alternative Pathways\" ><span class=\"entry-thumb td-thumb-css\" data-type=\"css_image\" data-img-url=\"https://insights.blackcoffer.com/wp-content/uploads/2023/08/pexels-darlene-alderson-7970849-324x400.jpg\"  ></span></a></div>                                            </div>\r\n",
      "                \r\n",
      "                <div class=\"td-module-meta-info\">\r\n",
      "                                        \r\n",
      "                    <p class=\"entry-title td-module-title\"><a href=\"https://insights.blackcoffer.com/internet-demands-evolution-communication-impact-and-2035s-alternative-pathways/\"  rel=\"bookmark\" title=\"Internet Demand&#8217;s Evolution, Communication Impact, and 2035&#8217;s Alternative Pathways\">Internet Demand&#8217;s Evolution, Communication Impact, and 2035&#8217;s Alternative Pathways</a></p>\r\n",
      "                    \r\n",
      "                                            <div class=\"td-editor-date\">\r\n",
      "                                                        \r\n",
      "                                                            <span class=\"td-author-date\">\r\n",
      "                                    \r\n",
      "                                    <span class=\"td-post-date\"><time class=\"entry-date updated td-module-date\" datetime=\"2023-08-18T17:25:05+05:30\" >August 18, 2023</time></span>                                                                                                        </span>\r\n",
      "                                                    </div>\r\n",
      "                    \r\n",
      "                    \r\n",
      "                                    </div>\r\n",
      "            </div>\r\n",
      "        </div>\r\n",
      "\r\n",
      "        \r\n",
      "        <div class=\"tdb_module_header tdb_module_mm td_module_wrap td-animation-stack td-cpt-post\">\r\n",
      "            <div class=\"td-module-container td-category-pos-image\">\r\n",
      "                                    <div class=\"td-image-container\">\r\n",
      "                        <a href=\"https://insights.blackcoffer.com/category/what-we-think/\" class=\"td-post-category\">What We Think</a>                        <div class=\"td-module-thumb\"><a href=\"https://insights.blackcoffer.com/rise-of-cybercrime-and-its-effect-in-upcoming-future/\"  rel=\"bookmark\" class=\"td-image-wrap \" title=\"Rise of Cybercrime and its Effect in upcoming Future\" ><span class=\"entry-thumb td-thumb-css\" data-type=\"css_image\" data-img-url=\"https://insights.blackcoffer.com/wp-content/uploads/2023/08/pexels-olha-ruskykh-7504837-324x400.jpg\"  ></span></a></div>                                            </div>\r\n",
      "                \r\n",
      "                <div class=\"td-module-meta-info\">\r\n",
      "                                        \r\n",
      "                    <p class=\"entry-title td-module-title\"><a href=\"https://insights.blackcoffer.com/rise-of-cybercrime-and-its-effect-in-upcoming-future/\"  rel=\"bookmark\" title=\"Rise of Cybercrime and its Effect in upcoming Future\">Rise of Cybercrime and its Effect in upcoming Future</a></p>\r\n",
      "                    \r\n",
      "                                            <div class=\"td-editor-date\">\r\n",
      "                                                        \r\n",
      "                                                            <span class=\"td-author-date\">\r\n",
      "                                    \r\n",
      "                                    <span class=\"td-post-date\"><time class=\"entry-date updated td-module-date\" datetime=\"2023-08-18T17:05:08+05:30\" >August 18, 2023</time></span>                                                                                                        </span>\r\n",
      "                                                    </div>\r\n",
      "                    \r\n",
      "                    \r\n",
      "                                    </div>\r\n",
      "            </div>\r\n",
      "        </div>\r\n",
      "\r\n",
      "        </div><div class=\"td-next-prev-wrap\"><a href=\"#\" class=\"td-ajax-prev-page ajax-page-disabled\" aria-label=\"prev-page\" id=\"prev-page-tdi_77\" data-td_block_id=\"tdi_77\"><i class=\"td-next-prev-icon td-icon-font td-icon-menu-left\"></i></a><a href=\"#\"  class=\"td-ajax-next-page\" aria-label=\"next-page\" id=\"next-page-tdi_77\" data-td_block_id=\"tdi_77\"><i class=\"td-next-prev-icon td-icon-font td-icon-menu-right\"></i></a></div></div></div> <!-- ./block1 --></div></li>\n",
      "</ul>\n",
      "</li>\n",
      "<li class=\"menu-item menu-item-type-taxonomy menu-item-object-category tdb-menu-item-button tdb-menu-item tdb-mega-menu tdb-mega-menu-inactive menu-item-4061\"><a href=\"https://insights.blackcoffer.com/category/how-to/\"><div class=\"tdb-menu-item-text\">How To</div><i class=\"tdb-sub-menu-icon td-icon-down tdb-main-sub-menu-icon\"></i></a>\n",
      "<ul class=\"sub-menu\">\n",
      "\t<li class=\"menu-item-0\"><div class=\"tdb-menu-item-text\"><div class=\"tdb_header_mega_menu tdi_90 td_with_ajax_pagination td-pb-border-top td_block_template_1\"  data-td-block-uid=\"tdi_90\" >\n",
      "<style>\n",
      "/* custom css */\n",
      ".tdi_90 .block-mega-child-cats{\r\n",
      "\t\t\t\t\tpadding: 16px 0;\r\n",
      "\t\t\t\t\r\n",
      "\t\t\t\t\ttext-align: right;\r\n",
      "\t\t\t\t}.tdi_90 .block-mega-child-cats:after{\r\n",
      "\t\t\t\t    border-width: 0 1px 0 0;\r\n",
      "\t\t\t\t}.tdi_90 .block-mega-child-cats a{\r\n",
      "\t\t\t\t\tpadding: 2px 22px;\r\n",
      "\t\t\t\t\r\n",
      "\t\t\t\t\tborder-width: 0 1px 0 0;\r\n",
      "\t\t\t\t\r\n",
      "\t\t\t\t\tfont-size:13px !important;\r\n",
      "\t\t\t\t}.tdi_90 .block-mega-child-cats .cur-sub-cat{\r\n",
      "\t\t\t\t\tborder-width: 0 1px 0 0;\r\n",
      "\t\t\t\t}.tdi_90:not(.td-no-subcats) .td_module_wrap{\r\n",
      "\t\t\t\t\twidth: 25%;\r\n",
      "\t\t\t\t\tfloat: left;\r\n",
      "\t\t\t\t}.td-md-is-safari .tdi_90:not(.td-no-subcats) .td_module_wrap{\r\n",
      "\t\t\t\t    margin-right: -1px;\r\n",
      "\t\t\t\t}.tdi_90.td-no-subcats .td_module_wrap{\r\n",
      "\t\t\t\t\twidth: 20%;\r\n",
      "\t\t\t\t\tfloat: left;\r\n",
      "\t\t\t\t}.td-md-is-safari .tdi_90.td-no-subcats .td_module_wrap{\r\n",
      "\t\t\t\t    margin-right: -1px;\r\n",
      "\t\t\t\t}.tdi_90 .td_module_wrap:nth-child(4n+1){\r\n",
      "\t\t\t\t\tclear: both;\r\n",
      "\t\t\t\t}.tdi_90 .td_module_wrap:nth-last-child(-n+4){\r\n",
      "\t\t\t\t\tmargin-bottom: 0;\r\n",
      "\t\t\t\t\tpadding-bottom: 0;\r\n",
      "\t\t\t\t}.tdi_90 .td_module_wrap:nth-last-child(-n+4) .td-module-container:before{\r\n",
      "\t\t\t\t\tdisplay: none;\r\n",
      "\t\t\t\t}.tdi_90 .td_module_wrap{\r\n",
      "\t\t\t\t\tpadding-left: 11px;\r\n",
      "\t\t\t\t\tpadding-right: 11px;\r\n",
      "\t\t\t\t\r\n",
      "\t\t\t\t\tpadding-bottom: 13px;\r\n",
      "\t\t\t\t\tmargin-bottom: 13px;\r\n",
      "\t\t\t\t\r\n",
      "\t\t\t        display: flex;\r\n",
      "\t\t\t        flex-direction: column;\r\n",
      "\t\t\t    }.tdi_90 .td_block_inner{\r\n",
      "\t\t\t\t\tmargin-left: -11px;\r\n",
      "\t\t\t\t\tmargin-right: -11px;\r\n",
      "\t\t\t\t\r\n",
      "\t\t\t        display: flex;\r\n",
      "\t\t\t        flex-wrap: wrap;\r\n",
      "\t\t\t    }.tdi_90 .td-module-container:before{\r\n",
      "\t\t\t\t\tbottom: -13px;\r\n",
      "\t\t\t\t\r\n",
      "\t\t\t\t\tborder-color: #eaeaea;\r\n",
      "\t\t\t\t}.tdi_90 .td-module-container{\r\n",
      "\t\t\t\t    border-color: #eaeaea;\r\n",
      "\t\t\t\t\r\n",
      "\t\t\t\t\tflex-direction: column;\r\n",
      "\t\t\t\t\r\n",
      "\t\t\t        flex: 1;\r\n",
      "                    flex-basis: auto;\r\n",
      "\t\t\t    }.tdi_90 .entry-thumb{\r\n",
      "\t\t\t\t\tbackground-position: center 50%;\r\n",
      "\t\t\t\t}.tdi_90 .td-image-container{\r\n",
      "                \tdisplay: block; order: 0;\r\n",
      "                }.ie10 .tdi_90 .td-module-meta-info,\r\n",
      "\t\t\t\t.ie11 .tdi_90 .td-module-meta-info{\r\n",
      "\t\t\t\t \tflex: auto;\r\n",
      "\t\t\t    }.tdi_90 .td-post-vid-time{\r\n",
      "\t\t\t\t\tdisplay: block;\r\n",
      "\t\t\t\t}.tdi_90 .entry-title{\r\n",
      "\t\t\t\t\tmargin: 3px 0;\r\n",
      "\t\t\t\t\r\n",
      "\t\t\t\t\tfont-size:15px !important;line-height:1.2 !important;\r\n",
      "\t\t\t\t}.tdi_90 .td-excerpt{\r\n",
      "\t\t\t\t\tcolumn-count: 1;\r\n",
      "\t\t\t\t\r\n",
      "\t\t\t\t\tcolumn-gap: 48px;\r\n",
      "\t\t\t\t\r\n",
      "\t\t\t\t\tdisplay: none;\r\n",
      "\t\t\t\t}.tdi_90 .td-audio-player{\r\n",
      "\t\t\t\t\tfont-size: 12px;\r\n",
      "\t\t\t\t\r\n",
      "\t\t\t\t\topacity: 1;\r\n",
      "\t\t\t\t\tvisibility: visible;\r\n",
      "\t\t\t\t\theight: auto;\r\n",
      "\t\t\t\t}.tdi_90 .td-module-meta-info{\r\n",
      "\t\t\t\t\tborder-color: #eaeaea;\r\n",
      "\t\t\t\t}.tdi_90 .td-post-category:not(.td-post-extra-category){\r\n",
      "\t\t\t\t\tdisplay: inline-block;\r\n",
      "\t\t\t\t}.tdi_90 .td-author-date{\r\n",
      "\t\t\t\t\tdisplay: inline;\r\n",
      "\t\t\t\t}.tdi_90 .td-post-author-name{\r\n",
      "\t\t\t\t\tdisplay: none;\r\n",
      "\t\t\t\t}.tdi_90 .entry-review-stars{\r\n",
      "\t\t\t\t\tdisplay: inline-block;\r\n",
      "\t\t\t\t}.tdi_90 .td-icon-star,\r\n",
      "                .tdi_90 .td-icon-star-empty,\r\n",
      "                .tdi_90 .td-icon-star-half{\r\n",
      "\t\t\t\t\tfont-size: 15px;\r\n",
      "\t\t\t\t}.tdi_90 .td-module-comments{\r\n",
      "\t\t\t\t\tdisplay: none;\r\n",
      "\t\t\t\t}.tdi_90 .td-author-photo .avatar{\r\n",
      "\t\t\t\t    width: 20px;\r\n",
      "\t\t\t\t    height: 20px;\r\n",
      "\t\t\t\t\r\n",
      "\t\t\t\t    margin-right: 6px;\r\n",
      "\t\t\t\t\r\n",
      "\t\t\t\t    border-radius: 50%;\r\n",
      "\t\t\t\t}.tdi_90:not(.td-no-subcats) .block-mega-child-cats:before{\r\n",
      "\t\t\t\t\tbackground-color: #ffffff;\r\n",
      "\t\t\t\t}.tdi_90 .td-module-exclusive .td-module-title a:before{\r\n",
      "                    display: inline-block;\r\n",
      "                }html:not([class*='ie']) .tdi_90 .td-module-container:hover .entry-thumb:before{\r\n",
      "                    opacity: 0;\r\n",
      "                }\n",
      "\n",
      "/* landscape */\n",
      "@media (min-width: 1019px) and (max-width: 1140px){\n",
      ".tdi_90 .block-mega-child-cats{\r\n",
      "\t\t\t\t\twidth: 160px;\r\n",
      "\t\t\t\t}.tdi_90 .td_module_wrap{\r\n",
      "\t\t\t\t\tpadding-bottom: 13px !important;\r\n",
      "\t\t\t\t\tmargin-bottom: 13px !important;\r\n",
      "\t\t\t\t\r\n",
      "\t\t\t\t\tclear: none !important;\r\n",
      "\t\t\t\t\r\n",
      "\t\t\t\t\tpadding-bottom: 13px;\r\n",
      "\t\t\t\t\tmargin-bottom: 13px;\r\n",
      "\t\t\t\t}.tdi_90 .td_module_wrap:nth-last-child(-n+4){\r\n",
      "\t\t\t\t\tmargin-bottom: 0 !important;\r\n",
      "\t\t\t\t\tpadding-bottom: 0 !important;\r\n",
      "\t\t\t\t}.tdi_90 .td_module_wrap .td-module-container:before{\r\n",
      "\t\t\t\t\tdisplay: block !important;\r\n",
      "\t\t\t\t}.tdi_90 .td_module_wrap:nth-last-child(-n+4) .td-module-container:before{\r\n",
      "\t\t\t\t\tdisplay: none !important;\r\n",
      "\t\t\t\t}.tdi_90 .td_module_wrap:nth-child(4n+1){\r\n",
      "\t\t\t\t\tclear: both !important;\r\n",
      "\t\t\t\t}.tdi_90 .td-module-container:before{\r\n",
      "\t\t\t\t\tbottom: -13px;\r\n",
      "\t\t\t\t}.tdi_90 .entry-title{\r\n",
      "\t\t\t\t\tfont-size:14px !important;\r\n",
      "\t\t\t\t}\n",
      "}\n",
      "\n",
      "/* portrait */\n",
      "@media (min-width: 768px) and (max-width: 1018px){\n",
      ".tdi_90 .tdb-mega-modules-wrap{\r\n",
      "\t\t\t\t\tpadding: 14px;\r\n",
      "\t\t\t\t}.tdi_90 .block-mega-child-cats{\r\n",
      "\t\t\t\t\twidth: 140px;\r\n",
      "\t\t\t\t\r\n",
      "\t\t\t\t\tpadding: 14px 0;\r\n",
      "\t\t\t\t}.tdi_90 .block-mega-child-cats a{\r\n",
      "\t\t\t\t\tpadding: 0 14px;\r\n",
      "\t\t\t\t\r\n",
      "\t\t\t\t\tfont-size:11px !important;\r\n",
      "\t\t\t\t}.tdi_90 .td_module_wrap{\r\n",
      "\t\t\t\t\tpadding-bottom: 13px !important;\r\n",
      "\t\t\t\t\tmargin-bottom: 13px !important;\r\n",
      "\t\t\t\t\r\n",
      "\t\t\t\t\tclear: none !important;\r\n",
      "\t\t\t\t\r\n",
      "\t\t\t\t\tpadding-left: 7px;\r\n",
      "\t\t\t\t\tpadding-right: 7px;\r\n",
      "\t\t\t\t\r\n",
      "\t\t\t\t\tpadding-bottom: 13px;\r\n",
      "\t\t\t\t\tmargin-bottom: 13px;\r\n",
      "\t\t\t\t}.tdi_90 .td_module_wrap:nth-last-child(-n+4){\r\n",
      "\t\t\t\t\tmargin-bottom: 0 !important;\r\n",
      "\t\t\t\t\tpadding-bottom: 0 !important;\r\n",
      "\t\t\t\t}.tdi_90 .td_module_wrap .td-module-container:before{\r\n",
      "\t\t\t\t\tdisplay: block !important;\r\n",
      "\t\t\t\t}.tdi_90 .td_module_wrap:nth-last-child(-n+4) .td-module-container:before{\r\n",
      "\t\t\t\t\tdisplay: none !important;\r\n",
      "\t\t\t\t}.tdi_90 .td_module_wrap:nth-child(4n+1){\r\n",
      "\t\t\t\t\tclear: both !important;\r\n",
      "\t\t\t\t}.tdi_90 .td_block_inner{\r\n",
      "\t\t\t\t\tmargin-left: -7px;\r\n",
      "\t\t\t\t\tmargin-right: -7px;\r\n",
      "\t\t\t\t}.tdi_90 .td-module-container:before{\r\n",
      "\t\t\t\t\tbottom: -13px;\r\n",
      "\t\t\t\t}.tdi_90 .td-video-play-ico{\r\n",
      "\t\t\t\t\twidth: 24px;\r\n",
      "\t\t\t\t\theight: 24px;\r\n",
      "\t\t\t\t\tfont-size: 24px;\r\n",
      "\t\t\t\t}.tdi_90 .entry-title{\r\n",
      "\t\t\t\t\tfont-size:13px !important;\r\n",
      "\t\t\t\t}\n",
      "}\n",
      "\n",
      "/* phone */\n",
      "@media (max-width: 767px){\n",
      ".tdi_90 .td_module_wrap{\r\n",
      "\t\t\t\t\tpadding-bottom: 13px !important;\r\n",
      "\t\t\t\t\tmargin-bottom: 13px !important;\r\n",
      "\t\t\t\t\r\n",
      "\t\t\t\t\tclear: none !important;\r\n",
      "\t\t\t\t\r\n",
      "\t\t\t\t\tpadding-bottom: 13px;\r\n",
      "\t\t\t\t\tmargin-bottom: 13px;\r\n",
      "\t\t\t\t}.tdi_90 .td_module_wrap:nth-last-child(-n+4){\r\n",
      "\t\t\t\t\tmargin-bottom: 0 !important;\r\n",
      "\t\t\t\t\tpadding-bottom: 0 !important;\r\n",
      "\t\t\t\t}.tdi_90 .td_module_wrap .td-module-container:before{\r\n",
      "\t\t\t\t\tdisplay: block !important;\r\n",
      "\t\t\t\t}.tdi_90 .td_module_wrap:nth-last-child(-n+4) .td-module-container:before{\r\n",
      "\t\t\t\t\tdisplay: none !important;\r\n",
      "\t\t\t\t}.tdi_90 .td_module_wrap:nth-child(4n+1){\r\n",
      "\t\t\t\t\tclear: both !important;\r\n",
      "\t\t\t\t}.tdi_90 .td-module-container:before{\r\n",
      "\t\t\t\t\tbottom: -13px;\r\n",
      "\t\t\t\t}\n",
      "}\n",
      "</style><script>var block_tdi_90 = new tdBlock();\n",
      "block_tdi_90.id = \"tdi_90\";\n",
      "block_tdi_90.atts = '{\"mc1_title_tag\":\"p\",\"main_sub_tdicon\":\"td-icon-down\",\"sub_tdicon\":\"td-icon-right-arrow\",\"mm_align_horiz\":\"content-horiz-center\",\"modules_on_row_regular\":\"20%\",\"modules_on_row_cats\":\"25%\",\"image_size\":\"td_324x400\",\"modules_category\":\"image\",\"show_excerpt\":\"none\",\"show_com\":\"none\",\"show_date\":\"\",\"show_author\":\"none\",\"mm_sub_align_horiz\":\"content-horiz-right\",\"mm_elem_align_horiz\":\"content-horiz-right\",\"inline\":\"yes\",\"menu_id\":\"\",\"mm_align_screen\":\"yes\",\"f_elem_font_family\":\"\",\"f_elem_font_size\":\"eyJwb3J0cmFpdCI6IjExIn0=\",\"mm_width\":\"1300\",\"mm_subcats_bg\":\"#ffffff\",\"mm_elem_border_a\":\"0 1px 0 0\",\"mm_elem_padd\":\"eyJhbGwiOiIycHggMjJweCIsInBvcnRyYWl0IjoiMCAxNHB4In0=\",\"mm_sub_padd\":\"eyJhbGwiOiIxNnB4IDAiLCJwb3J0cmFpdCI6IjE0cHggMCJ9\",\"f_title_font_size\":\"eyJhbGwiOiIxNSIsImxhbmRzY2FwZSI6IjE0IiwicG9ydHJhaXQiOiIxMyJ9\",\"f_title_font_line_height\":\"1.2\",\"art_title\":\"3px 0\",\"f_mm_sub_font_size\":\"eyJhbGwiOiIxMyIsInBvcnRyYWl0IjoiMTEifQ==\",\"mm_child_cats\":\"11\",\"mm_elem_border\":\"0 1px 0 0\",\"mm_height\":\"eyJhbGwiOiIzNDUiLCJsYW5kc2NhcGUiOiIzMDAiLCJwb3J0cmFpdCI6IjI0MCJ9\",\"mm_sub_width\":\"eyJsYW5kc2NhcGUiOiIxNjAiLCJwb3J0cmFpdCI6IjE0MCJ9\",\"mm_padd\":\"eyJwb3J0cmFpdCI6IjE0In0=\",\"modules_gap\":\"eyJwb3J0cmFpdCI6IjE0In0=\",\"elem_padd\":\"eyJwb3J0cmFpdCI6IjAgMTJweCJ9\",\"f_elem_font_line_height\":\"eyJwb3J0cmFpdCI6IjQ4cHgifQ==\",\"video_icon\":\"eyJwb3J0cmFpdCI6IjI0In0=\",\"all_modules_space\":\"26\",\"tds_menu_sub_active\":\"tds_menu_sub_active1\",\"tds_menu_sub_active2-line_color\":\"\",\"tds_menu_active\":\"tds_menu_active1\",\"block_type\":\"tdb_header_mega_menu\",\"show_subcat\":\"\",\"show_mega\":\"\",\"show_mega_cats\":\"\",\"separator\":\"\",\"width\":\"\",\"more\":\"\",\"float_right\":\"\",\"align_horiz\":\"content-horiz-left\",\"elem_space\":\"\",\"main_sub_icon_size\":\"\",\"main_sub_icon_space\":\"\",\"main_sub_icon_align\":\"-1\",\"sep_tdicon\":\"\",\"sep_icon_size\":\"\",\"sep_icon_space\":\"\",\"sep_icon_align\":\"-1\",\"more_txt\":\"\",\"more_tdicon\":\"\",\"more_icon_size\":\"\",\"more_icon_align\":\"0\",\"sub_width\":\"\",\"sub_first_left\":\"\",\"sub_rest_top\":\"\",\"sub_padd\":\"\",\"sub_align_horiz\":\"content-horiz-left\",\"sub_elem_inline\":\"\",\"sub_elem_space\":\"\",\"sub_elem_padd\":\"\",\"sub_elem_radius\":\"0\",\"sub_icon_size\":\"\",\"sub_icon_space\":\"\",\"sub_icon_pos\":\"\",\"sub_icon_align\":\"1\",\"mm_content_width\":\"\",\"mm_radius\":\"\",\"mm_offset\":\"\",\"mm_posts_limit\":\"5\",\"mm_subcats_posts_limit\":\"4\",\"open_in_new_window\":\"\",\"mm_ajax_preloading\":\"\",\"mm_hide_all_item\":\"\",\"mm_sub_border\":\"\",\"mm_sub_inline\":\"\",\"mm_elem_order\":\"name\",\"mm_elem_space\":\"\",\"mm_elem_border_rad\":\"\",\"mc1_tl\":\"\",\"mc1_el\":\"\",\"m_padding\":\"\",\"modules_border_size\":\"\",\"modules_border_style\":\"\",\"modules_border_color\":\"#eaeaea\",\"modules_divider\":\"\",\"modules_divider_color\":\"#eaeaea\",\"h_effect\":\"\",\"image_alignment\":\"50\",\"image_height\":\"\",\"image_width\":\"\",\"image_floated\":\"no_float\",\"image_radius\":\"\",\"hide_image\":\"\",\"show_vid_t\":\"block\",\"vid_t_margin\":\"\",\"vid_t_padding\":\"\",\"vid_t_color\":\"\",\"vid_t_bg_color\":\"\",\"f_vid_time_font_header\":\"\",\"f_vid_time_font_title\":\"Video duration text\",\"f_vid_time_font_settings\":\"\",\"f_vid_time_font_family\":\"\",\"f_vid_time_font_size\":\"\",\"f_vid_time_font_line_height\":\"\",\"f_vid_time_font_style\":\"\",\"f_vid_time_font_weight\":\"\",\"f_vid_time_font_transform\":\"\",\"f_vid_time_font_spacing\":\"\",\"f_vid_time_\":\"\",\"excl_show\":\"inline-block\",\"excl_txt\":\"\",\"excl_margin\":\"\",\"excl_padd\":\"\",\"all_excl_border\":\"\",\"all_excl_border_style\":\"solid\",\"excl_radius\":\"\",\"excl_color\":\"\",\"excl_color_h\":\"\",\"excl_bg\":\"\",\"excl_bg_h\":\"\",\"all_excl_border_color\":\"\",\"excl_border_color_h\":\"\",\"f_excl_font_header\":\"\",\"f_excl_font_title\":\"Label text\",\"f_excl_font_settings\":\"\",\"f_excl_font_family\":\"\",\"f_excl_font_size\":\"\",\"f_excl_font_line_height\":\"\",\"f_excl_font_style\":\"\",\"f_excl_font_weight\":\"\",\"f_excl_font_transform\":\"\",\"f_excl_font_spacing\":\"\",\"f_excl_\":\"\",\"show_audio\":\"block\",\"hide_audio\":\"\",\"art_audio\":\"\",\"art_audio_size\":\"1\",\"meta_info_align\":\"\",\"meta_info_horiz\":\"content-horiz-left\",\"meta_width\":\"\",\"meta_margin\":\"\",\"meta_padding\":\"\",\"meta_info_border_size\":\"\",\"meta_info_border_style\":\"\",\"meta_info_border_color\":\"#eaeaea\",\"modules_category_margin\":\"\",\"modules_category_padding\":\"\",\"modules_cat_border\":\"\",\"modules_category_radius\":\"0\",\"show_cat\":\"inline-block\",\"modules_extra_cat\":\"\",\"author_photo\":\"\",\"author_photo_size\":\"\",\"author_photo_space\":\"\",\"author_photo_radius\":\"\",\"show_modified_date\":\"\",\"time_ago\":\"\",\"time_ago_add_txt\":\"ago\",\"time_ago_txt_pos\":\"\",\"art_excerpt\":\"\",\"excerpt_col\":\"1\",\"excerpt_gap\":\"\",\"excerpt_middle\":\"\",\"show_review\":\"inline-block\",\"review_space\":\"\",\"review_size\":\"2.5\",\"review_distance\":\"\",\"show_pagination\":\"\",\"pag_space\":\"\",\"pag_padding\":\"\",\"pag_border_width\":\"\",\"pag_border_radius\":\"\",\"prev_tdicon\":\"\",\"next_tdicon\":\"\",\"pag_icons_size\":\"\",\"text_color\":\"\",\"main_sub_color\":\"\",\"sep_color\":\"\",\"more_icon_color\":\"\",\"hover_opacity\":\"\",\"f_elem_font_header\":\"\",\"f_elem_font_title\":\"Elements text\",\"f_elem_font_settings\":\"\",\"f_elem_font_style\":\"\",\"f_elem_font_weight\":\"\",\"f_elem_font_transform\":\"\",\"f_elem_font_spacing\":\"\",\"f_elem_\":\"\",\"sub_bg_color\":\"\",\"sub_border_size\":\"\",\"sub_border_color\":\"\",\"sub_border_radius\":\"\",\"sub_text_color\":\"\",\"sub_elem_bg_color\":\"\",\"sub_color\":\"\",\"sub_shadow_shadow_header\":\"\",\"sub_shadow_shadow_title\":\"Shadow\",\"sub_shadow_shadow_size\":\"\",\"sub_shadow_shadow_offset_horizontal\":\"\",\"sub_shadow_shadow_offset_vertical\":\"\",\"sub_shadow_shadow_spread\":\"\",\"sub_shadow_shadow_color\":\"\",\"f_sub_elem_font_header\":\"\",\"f_sub_elem_font_title\":\"Elements text\",\"f_sub_elem_font_settings\":\"\",\"f_sub_elem_font_family\":\"\",\"f_sub_elem_font_size\":\"\",\"f_sub_elem_font_line_height\":\"\",\"f_sub_elem_font_style\":\"\",\"f_sub_elem_font_weight\":\"\",\"f_sub_elem_font_transform\":\"\",\"f_sub_elem_font_spacing\":\"\",\"f_sub_elem_\":\"\",\"mm_bg\":\"\",\"mm_border_size\":\"\",\"mm_border_color\":\"\",\"mm_shadow_shadow_header\":\"\",\"mm_shadow_shadow_title\":\"Shadow\",\"mm_shadow_shadow_size\":\"\",\"mm_shadow_shadow_offset_horizontal\":\"\",\"mm_shadow_shadow_offset_vertical\":\"\",\"mm_shadow_shadow_spread\":\"\",\"mm_shadow_shadow_color\":\"\",\"mm_subcats_border_color\":\"\",\"mm_elem_color\":\"\",\"mm_elem_color_a\":\"\",\"mm_elem_bg\":\"\",\"mm_elem_bg_a\":\"\",\"mm_elem_border_color\":\"\",\"mm_elem_border_color_a\":\"\",\"mm_elem_shadow_shadow_header\":\"\",\"mm_elem_shadow_shadow_title\":\"Elements shadow\",\"mm_elem_shadow_shadow_size\":\"\",\"mm_elem_shadow_shadow_offset_horizontal\":\"\",\"mm_elem_shadow_shadow_offset_vertical\":\"\",\"mm_elem_shadow_shadow_spread\":\"\",\"mm_elem_shadow_shadow_color\":\"\",\"f_mm_sub_font_header\":\"\",\"f_mm_sub_font_title\":\"Sub categories elements\",\"f_mm_sub_font_settings\":\"\",\"f_mm_sub_font_family\":\"\",\"f_mm_sub_font_line_height\":\"\",\"f_mm_sub_font_style\":\"\",\"f_mm_sub_font_weight\":\"\",\"f_mm_sub_font_transform\":\"\",\"f_mm_sub_font_spacing\":\"\",\"f_mm_sub_\":\"\",\"m_bg\":\"\",\"color_overlay\":\"\",\"shadow_shadow_header\":\"\",\"shadow_shadow_title\":\"Module Shadow\",\"shadow_shadow_size\":\"\",\"shadow_shadow_offset_horizontal\":\"\",\"shadow_shadow_offset_vertical\":\"\",\"shadow_shadow_spread\":\"\",\"shadow_shadow_color\":\"\",\"title_txt\":\"\",\"title_txt_hover\":\"\",\"all_underline_height\":\"\",\"all_underline_color\":\"#000\",\"cat_bg\":\"\",\"cat_bg_hover\":\"\",\"cat_txt\":\"\",\"cat_txt_hover\":\"\",\"cat_border\":\"\",\"cat_border_hover\":\"\",\"meta_bg\":\"\",\"author_txt\":\"\",\"author_txt_hover\":\"\",\"date_txt\":\"\",\"ex_txt\":\"\",\"com_bg\":\"\",\"com_txt\":\"\",\"rev_txt\":\"\",\"shadow_m_shadow_header\":\"\",\"shadow_m_shadow_title\":\"Meta info shadow\",\"shadow_m_shadow_size\":\"\",\"shadow_m_shadow_offset_horizontal\":\"\",\"shadow_m_shadow_offset_vertical\":\"\",\"shadow_m_shadow_spread\":\"\",\"shadow_m_shadow_color\":\"\",\"audio_btn_color\":\"\",\"audio_time_color\":\"\",\"audio_bar_color\":\"\",\"audio_bar_curr_color\":\"\",\"pag_text\":\"\",\"pag_h_text\":\"\",\"pag_bg\":\"\",\"pag_h_bg\":\"\",\"pag_border\":\"\",\"pag_h_border\":\"\",\"f_title_font_header\":\"\",\"f_title_font_title\":\"Article title\",\"f_title_font_settings\":\"\",\"f_title_font_family\":\"\",\"f_title_font_style\":\"\",\"f_title_font_weight\":\"\",\"f_title_font_transform\":\"\",\"f_title_font_spacing\":\"\",\"f_title_\":\"\",\"f_cat_font_title\":\"Article category tag\",\"f_cat_font_settings\":\"\",\"f_cat_font_family\":\"\",\"f_cat_font_size\":\"\",\"f_cat_font_line_height\":\"\",\"f_cat_font_style\":\"\",\"f_cat_font_weight\":\"\",\"f_cat_font_transform\":\"\",\"f_cat_font_spacing\":\"\",\"f_cat_\":\"\",\"f_meta_font_title\":\"Article meta info\",\"f_meta_font_settings\":\"\",\"f_meta_font_family\":\"\",\"f_meta_font_size\":\"\",\"f_meta_font_line_height\":\"\",\"f_meta_font_style\":\"\",\"f_meta_font_weight\":\"\",\"f_meta_font_transform\":\"\",\"f_meta_font_spacing\":\"\",\"f_meta_\":\"\",\"f_ex_font_title\":\"Article excerpt\",\"f_ex_font_settings\":\"\",\"f_ex_font_family\":\"\",\"f_ex_font_size\":\"\",\"f_ex_font_line_height\":\"\",\"f_ex_font_style\":\"\",\"f_ex_font_weight\":\"\",\"f_ex_font_transform\":\"\",\"f_ex_font_spacing\":\"\",\"f_ex_\":\"\",\"mix_color\":\"\",\"mix_type\":\"\",\"fe_brightness\":\"1\",\"fe_contrast\":\"1\",\"fe_saturate\":\"1\",\"mix_color_h\":\"\",\"mix_type_h\":\"\",\"fe_brightness_h\":\"1\",\"fe_contrast_h\":\"1\",\"fe_saturate_h\":\"1\",\"el_class\":\"\",\"block_template_id\":\"\",\"td_column_number\":3,\"header_color\":\"\",\"ajax_pagination_infinite_stop\":\"\",\"offset\":\"\",\"limit\":\"4\",\"td_ajax_preloading\":\"\",\"td_ajax_filter_type\":\"td_category_ids_filter\",\"td_filter_default_txt\":\"\",\"td_ajax_filter_ids\":\"\",\"color_preset\":\"\",\"ajax_pagination\":\"next_prev\",\"ajax_pagination_next_prev_swipe\":\"\",\"border_top\":\"\",\"css\":\"\",\"tdc_css_class\":\"tdi_90\",\"tdc_css_class_style\":\"tdi_90_rand_style\",\"category_id\":\"271\",\"subcats_posts_limit\":\"4\",\"child_cats_limit\":\"11\",\"hide_all\":\"\",\"tdc_css\":\"\",\"class\":\"tdi_90\"}';\n",
      "block_tdi_90.td_column_number = \"3\";\n",
      "block_tdi_90.block_type = \"tdb_header_mega_menu\";\n",
      "block_tdi_90.post_count = \"4\";\n",
      "block_tdi_90.found_posts = \"15\";\n",
      "block_tdi_90.header_color = \"\";\n",
      "block_tdi_90.ajax_pagination_infinite_stop = \"\";\n",
      "block_tdi_90.max_num_pages = \"4\";\n",
      "tdBlocksArray.push(block_tdi_90);\n",
      "</script><div class=\"block-mega-child-cats\"><a \r\n",
      "                        class=\"cur-sub-cat mega-menu-sub-cat-tdi_90\" \r\n",
      "                        id=\"tdi_91\" \r\n",
      "                        data-td_block_id=\"tdi_90\" \r\n",
      "                        data-td_filter_value=\"\" \r\n",
      "                        href=\"https://insights.blackcoffer.com/category/how-to/\"\r\n",
      "                    >All</a><a \r\n",
      "                        class=\"mega-menu-sub-cat-tdi_90\" \r\n",
      "                        id=\"tdi_92\" \r\n",
      "                        data-td_block_id=\"tdi_90\" \r\n",
      "                        data-td_filter_value=\"294\" \r\n",
      "                        href=\"https://insights.blackcoffer.com/category/how-to/analytics-how-to/\"\r\n",
      "                    >Analytics</a><a \r\n",
      "                        class=\"mega-menu-sub-cat-tdi_90\" \r\n",
      "                        id=\"tdi_93\" \r\n",
      "                        data-td_block_id=\"tdi_90\" \r\n",
      "                        data-td_filter_value=\"305\" \r\n",
      "                        href=\"https://insights.blackcoffer.com/category/how-to/application-development-how-to/\"\r\n",
      "                    >Application Development</a><a \r\n",
      "                        class=\"mega-menu-sub-cat-tdi_90\" \r\n",
      "                        id=\"tdi_94\" \r\n",
      "                        data-td_block_id=\"tdi_90\" \r\n",
      "                        data-td_filter_value=\"295\" \r\n",
      "                        href=\"https://insights.blackcoffer.com/category/how-to/artificial-intelligence-how-to/\"\r\n",
      "                    >Artificial Intelligence</a><a \r\n",
      "                        class=\"mega-menu-sub-cat-tdi_90\" \r\n",
      "                        id=\"tdi_95\" \r\n",
      "                        data-td_block_id=\"tdi_90\" \r\n",
      "                        data-td_filter_value=\"297\" \r\n",
      "                        href=\"https://insights.blackcoffer.com/category/how-to/business-analytics-how-to/\"\r\n",
      "                    >Business Analytics</a><a \r\n",
      "                        class=\"mega-menu-sub-cat-tdi_90\" \r\n",
      "                        id=\"tdi_96\" \r\n",
      "                        data-td_block_id=\"tdi_90\" \r\n",
      "                        data-td_filter_value=\"309\" \r\n",
      "                        href=\"https://insights.blackcoffer.com/category/how-to/example/\"\r\n",
      "                    >Example</a><a \r\n",
      "                        class=\"mega-menu-sub-cat-tdi_90\" \r\n",
      "                        id=\"tdi_97\" \r\n",
      "                        data-td_block_id=\"tdi_90\" \r\n",
      "                        data-td_filter_value=\"313\" \r\n",
      "                        href=\"https://insights.blackcoffer.com/category/how-to/optimization/\"\r\n",
      "                    >Optimization</a><a \r\n",
      "                        class=\"mega-menu-sub-cat-tdi_90\" \r\n",
      "                        id=\"tdi_98\" \r\n",
      "                        data-td_block_id=\"tdi_90\" \r\n",
      "                        data-td_filter_value=\"311\" \r\n",
      "                        href=\"https://insights.blackcoffer.com/category/how-to/projects/\"\r\n",
      "                    >Projects</a><a \r\n",
      "                        class=\"mega-menu-sub-cat-tdi_90\" \r\n",
      "                        id=\"tdi_99\" \r\n",
      "                        data-td_block_id=\"tdi_90\" \r\n",
      "                        data-td_filter_value=\"307\" \r\n",
      "                        href=\"https://insights.blackcoffer.com/category/how-to/software-development/\"\r\n",
      "                    >Software Development</a><a \r\n",
      "                        class=\"mega-menu-sub-cat-tdi_90\" \r\n",
      "                        id=\"tdi_100\" \r\n",
      "                        data-td_block_id=\"tdi_90\" \r\n",
      "                        data-td_filter_value=\"347\" \r\n",
      "                        href=\"https://insights.blackcoffer.com/category/how-to/source-code-audit/\"\r\n",
      "                    >Source Code Audit</a><a \r\n",
      "                        class=\"mega-menu-sub-cat-tdi_90\" \r\n",
      "                        id=\"tdi_101\" \r\n",
      "                        data-td_block_id=\"tdi_90\" \r\n",
      "                        data-td_filter_value=\"301\" \r\n",
      "                        href=\"https://insights.blackcoffer.com/category/how-to/statistics-how-to/\"\r\n",
      "                    >Statistics</a><a \r\n",
      "                        class=\"mega-menu-sub-cat-tdi_90\" \r\n",
      "                        id=\"tdi_102\" \r\n",
      "                        data-td_block_id=\"tdi_90\" \r\n",
      "                        data-td_filter_value=\"306\" \r\n",
      "                        href=\"https://insights.blackcoffer.com/category/how-to/web-mobile-app-development/\"\r\n",
      "                    >Web &amp; Mobile App Development</a></div><div class=\"tdb-mega-modules-wrap\"><div id=tdi_90 class=\"td_block_inner\">\r\n",
      "        <div class=\"tdb_module_header tdb_module_mm td_module_wrap td-animation-stack td-cpt-post\">\r\n",
      "            <div class=\"td-module-container td-category-pos-image\">\r\n",
      "                                    <div class=\"td-image-container\">\r\n",
      "                        <a href=\"https://insights.blackcoffer.com/category/our-solutions/\" class=\"td-post-category\">What We Do</a>                        <div class=\"td-module-thumb\"><a href=\"https://insights.blackcoffer.com/ai-ml-and-predictive-modeling/\"  rel=\"bookmark\" class=\"td-image-wrap \" title=\"AI/ML and Predictive Modeling\" ><span class=\"entry-thumb td-thumb-css\" data-type=\"css_image\" data-img-url=\"https://insights.blackcoffer.com/wp-content/uploads/2022/02/theme-08-324x400.jpg\"  ></span></a></div>                                            </div>\r\n",
      "                \r\n",
      "                <div class=\"td-module-meta-info\">\r\n",
      "                                        \r\n",
      "                    <p class=\"entry-title td-module-title\"><a href=\"https://insights.blackcoffer.com/ai-ml-and-predictive-modeling/\"  rel=\"bookmark\" title=\"AI/ML and Predictive Modeling\">AI/ML and Predictive Modeling</a></p>\r\n",
      "                    \r\n",
      "                                            <div class=\"td-editor-date\">\r\n",
      "                                                        \r\n",
      "                                                            <span class=\"td-author-date\">\r\n",
      "                                    \r\n",
      "                                    <span class=\"td-post-date\"><time class=\"entry-date updated td-module-date\" datetime=\"2022-02-03T12:12:40+05:30\" >February 3, 2022</time></span>                                                                                                        </span>\r\n",
      "                                                    </div>\r\n",
      "                    \r\n",
      "                    \r\n",
      "                                    </div>\r\n",
      "            </div>\r\n",
      "        </div>\r\n",
      "\r\n",
      "        \r\n",
      "        <div class=\"tdb_module_header tdb_module_mm td_module_wrap td-animation-stack td-cpt-post\">\r\n",
      "            <div class=\"td-module-container td-category-pos-image\">\r\n",
      "                                    <div class=\"td-image-container\">\r\n",
      "                        <a href=\"https://insights.blackcoffer.com/category/blackcoffer/\" class=\"td-post-category\">Blackcoffer</a>                        <div class=\"td-module-thumb\"><a href=\"https://insights.blackcoffer.com/solution-for-contact-centre-problems/\"  rel=\"bookmark\" class=\"td-image-wrap \" title=\"Solution for Contact Centre Problems\" ><span class=\"entry-thumb td-thumb-css\" data-type=\"css_image\" data-img-url=\"https://insights.blackcoffer.com/wp-content/uploads/2020/01/new2-slider1-bg02-324x400.jpg\"  ></span></a></div>                                            </div>\r\n",
      "                \r\n",
      "                <div class=\"td-module-meta-info\">\r\n",
      "                                        \r\n",
      "                    <p class=\"entry-title td-module-title\"><a href=\"https://insights.blackcoffer.com/solution-for-contact-centre-problems/\"  rel=\"bookmark\" title=\"Solution for Contact Centre Problems\">Solution for Contact Centre Problems</a></p>\r\n",
      "                    \r\n",
      "                                            <div class=\"td-editor-date\">\r\n",
      "                                                        \r\n",
      "                                                            <span class=\"td-author-date\">\r\n",
      "                                    \r\n",
      "                                    <span class=\"td-post-date\"><time class=\"entry-date updated td-module-date\" datetime=\"2021-04-26T14:09:58+05:30\" >April 26, 2021</time></span>                                                                                                        </span>\r\n",
      "                                                    </div>\r\n",
      "                    \r\n",
      "                    \r\n",
      "                                    </div>\r\n",
      "            </div>\r\n",
      "        </div>\r\n",
      "\r\n",
      "        \r\n",
      "        <div class=\"tdb_module_header tdb_module_mm td_module_wrap td-animation-stack td-cpt-post\">\r\n",
      "            <div class=\"td-module-container td-category-pos-image\">\r\n",
      "                                    <div class=\"td-image-container\">\r\n",
      "                        <a href=\"https://insights.blackcoffer.com/category/how-to/\" class=\"td-post-category\">How To</a>                        <div class=\"td-module-thumb\"><a href=\"https://insights.blackcoffer.com/how-to-setup-custom-domain-for-google-app-engine-application/\"  rel=\"bookmark\" class=\"td-image-wrap \" title=\"How to Setup Custom Domain for Google App Engine Application?\" ><span class=\"entry-thumb td-thumb-css\" data-type=\"css_image\" data-img-url=\"https://insights.blackcoffer.com/wp-content/uploads/2021/02/01-3-7-768x581-1-324x400.png\"  ></span></a></div>                                            </div>\r\n",
      "                \r\n",
      "                <div class=\"td-module-meta-info\">\r\n",
      "                                        \r\n",
      "                    <p class=\"entry-title td-module-title\"><a href=\"https://insights.blackcoffer.com/how-to-setup-custom-domain-for-google-app-engine-application/\"  rel=\"bookmark\" title=\"How to Setup Custom Domain for Google App Engine Application?\">How to Setup Custom Domain for Google App Engine Application?</a></p>\r\n",
      "                    \r\n",
      "                                            <div class=\"td-editor-date\">\r\n",
      "                                                        \r\n",
      "                                                            <span class=\"td-author-date\">\r\n",
      "                                    \r\n",
      "                                    <span class=\"td-post-date\"><time class=\"entry-date updated td-module-date\" datetime=\"2021-02-13T12:35:59+05:30\" >February 13, 2021</time></span>                                                                                                        </span>\r\n",
      "                                                    </div>\r\n",
      "                    \r\n",
      "                    \r\n",
      "                                    </div>\r\n",
      "            </div>\r\n",
      "        </div>\r\n",
      "\r\n",
      "        \r\n",
      "        <div class=\"tdb_module_header tdb_module_mm td_module_wrap td-animation-stack td-cpt-post\">\r\n",
      "            <div class=\"td-module-container td-category-pos-image\">\r\n",
      "                                    <div class=\"td-image-container\">\r\n",
      "                        <a href=\"https://insights.blackcoffer.com/category/how-to/\" class=\"td-post-category\">How To</a>                        <div class=\"td-module-thumb\"><a href=\"https://insights.blackcoffer.com/code-review-checklist/\"  rel=\"bookmark\" class=\"td-image-wrap \" title=\"Code Review Checklist\" ><span class=\"entry-thumb td-thumb-css\" data-type=\"css_image\" data-img-url=\"https://insights.blackcoffer.com/wp-content/uploads/2020/04/slider-home-3-324x400.jpg\"  ></span></a></div>                                            </div>\r\n",
      "                \r\n",
      "                <div class=\"td-module-meta-info\">\r\n",
      "                                        \r\n",
      "                    <p class=\"entry-title td-module-title\"><a href=\"https://insights.blackcoffer.com/code-review-checklist/\"  rel=\"bookmark\" title=\"Code Review Checklist\">Code Review Checklist</a></p>\r\n",
      "                    \r\n",
      "                                            <div class=\"td-editor-date\">\r\n",
      "                                                        \r\n",
      "                                                            <span class=\"td-author-date\">\r\n",
      "                                    \r\n",
      "                                    <span class=\"td-post-date\"><time class=\"entry-date updated td-module-date\" datetime=\"2020-04-10T00:21:29+05:30\" >April 10, 2020</time></span>                                                                                                        </span>\r\n",
      "                                                    </div>\r\n",
      "                    \r\n",
      "                    \r\n",
      "                                    </div>\r\n",
      "            </div>\r\n",
      "        </div>\r\n",
      "\r\n",
      "        </div><div class=\"td-next-prev-wrap\"><a href=\"#\" class=\"td-ajax-prev-page ajax-page-disabled\" aria-label=\"prev-page\" id=\"prev-page-tdi_90\" data-td_block_id=\"tdi_90\"><i class=\"td-next-prev-icon td-icon-font td-icon-menu-left\"></i></a><a href=\"#\"  class=\"td-ajax-next-page\" aria-label=\"next-page\" id=\"next-page-tdi_90\" data-td_block_id=\"tdi_90\"><i class=\"td-next-prev-icon td-icon-font td-icon-menu-right\"></i></a></div></div></div> <!-- ./block1 --></div></li>\n",
      "</ul>\n",
      "</li>\n",
      "<li class=\"menu-item menu-item-type-custom menu-item-object-custom tdb-menu-item-button tdb-menu-item tdb-normal-menu menu-item-4062\"><a target=\"_blank\" href=\"https://blackcoffer.com/get-blackcoffer-demo/\"><div class=\"tdb-menu-item-text\">Schedule Demo</div></a></li>\n",
      "<li class=\"menu-item menu-item-type-post_type menu-item-object-page tdb-menu-item-button tdb-menu-item tdb-normal-menu menu-item-4063\"><a href=\"https://insights.blackcoffer.com/contact/\"><div class=\"tdb-menu-item-text\">Contact</div></a></li>\n",
      "</ul></div></div><div class=\"td_block_wrap tdb_header_search tdi_103 tdb-header-search-trigger-enabled td-pb-border-top td_block_template_1 tdb-header-align\"  data-td-block-uid=\"tdi_103\" >\n",
      "<style>\n",
      "\n",
      "/* inline tdc_css att */\n",
      "\n",
      "/* portrait */\n",
      "@media (min-width: 768px) and (max-width: 1018px)\n",
      "{\n",
      ".tdi_103{\n",
      "margin-top:1px !important;\n",
      "}\n",
      "}\n",
      "\n",
      "</style>\n",
      "<style>\n",
      "/* custom css */\n",
      ".tdb_module_search .tdb-author-photo{\r\n",
      "                  display: inline-block;\r\n",
      "                }.tdb_module_search .tdb-author-photo,\r\n",
      "                .tdb_module_search .tdb-author-photo img{\r\n",
      "                  vertical-align: middle;\r\n",
      "                }.tdb_module_search .td-post-author-name{\r\n",
      "                  white-space: normal;\r\n",
      "                }.tdb_header_search{\r\n",
      "                  margin-bottom: 0;\r\n",
      "                  clear: none;\r\n",
      "                }.tdb_header_search .tdb-block-inner{\r\n",
      "                  position: relative;\r\n",
      "                  display: inline-block;\r\n",
      "                  width: 100%;\r\n",
      "                }.tdb_header_search .tdb-search-form{\r\n",
      "                  position: relative;\r\n",
      "                  padding: 20px;\r\n",
      "                  border-width: 3px 0 0;\r\n",
      "                  border-style: solid;\r\n",
      "                  border-color: #4db2ec;\r\n",
      "                  pointer-events: auto;\r\n",
      "                }.tdb_header_search .tdb-search-form:before{\r\n",
      "                  content: '';\r\n",
      "                  position: absolute;\r\n",
      "                  top: 0;\r\n",
      "                  left: 0;\r\n",
      "                  width: 100%;\r\n",
      "                  height: 100%;\r\n",
      "                  background-color: #fff;\r\n",
      "                }.tdb_header_search .tdb-search-form-inner{\r\n",
      "                  position: relative;\r\n",
      "                  display: flex;\r\n",
      "                  background-color: #fff;\r\n",
      "                }.tdb_header_search .tdb-search-form-inner:after{\r\n",
      "                  content: '';\r\n",
      "                  position: absolute;\r\n",
      "                  top: 0;\r\n",
      "                  left: 0;\r\n",
      "                  width: 100%;\r\n",
      "                  height: 100%;\r\n",
      "                  border: 1px solid #e1e1e1;\r\n",
      "                  pointer-events: none;\r\n",
      "                }.tdb_header_search .tdb-head-search-placeholder{\r\n",
      "                  position: absolute;\r\n",
      "                  top: 50%;\r\n",
      "                  transform: translateY(-50%);\r\n",
      "                  padding: 3px 9px;\r\n",
      "                  font-size: 12px;\r\n",
      "                  line-height: 21px;\r\n",
      "                  color: #999;\r\n",
      "                  -webkit-transition: all 0.3s ease;\r\n",
      "                  transition: all 0.3s ease;\r\n",
      "                  pointer-events: none;\r\n",
      "                }.tdb_header_search .tdb-head-search-form-input:focus + .tdb-head-search-placeholder,\r\n",
      "                .tdb-head-search-form-input:not(:placeholder-shown) ~ .tdb-head-search-placeholder{\r\n",
      "                  opacity: 0;\r\n",
      "                }.tdb_header_search .tdb-head-search-form-btn,\r\n",
      "                .tdb_header_search .tdb-head-search-form-input{\r\n",
      "                  height: auto;\r\n",
      "                  min-height: 32px;\r\n",
      "                }.tdb_header_search .tdb-head-search-form-input{\r\n",
      "                  color: #444;\r\n",
      "                  flex: 1;\r\n",
      "                  background-color: transparent;\r\n",
      "                  border: 0;\r\n",
      "                }.tdb_header_search .tdb-head-search-form-input.tdb-head-search-nofocus{\r\n",
      "                  color: transparent;\r\n",
      "                  text-shadow: 0 0 0 #444;\r\n",
      "                }.tdb_header_search .tdb-head-search-form-btn{\r\n",
      "                  margin-bottom: 0;\r\n",
      "                  padding: 0 15px;\r\n",
      "                  background-color: #222222;\r\n",
      "                  font-family: 'Roboto', sans-serif;\r\n",
      "                  font-size: 13px;\r\n",
      "                  font-weight: 500;\r\n",
      "                  color: #fff;\r\n",
      "                  -webkit-transition: all 0.3s ease;\r\n",
      "                  transition: all 0.3s ease;\r\n",
      "                  z-index: 1;\r\n",
      "                }.tdb_header_search .tdb-head-search-form-btn:hover{\r\n",
      "                  background-color: #4db2ec;\r\n",
      "                }.tdb_header_search .tdb-head-search-form-btn i,\r\n",
      "                .tdb_header_search .tdb-head-search-form-btn span{\r\n",
      "                  display: inline-block;\r\n",
      "                  vertical-align: middle;\r\n",
      "                }.tdb_header_search .tdb-head-search-form-btn i{\r\n",
      "                  font-size: 12px;\r\n",
      "                }.tdb_header_search .tdb-head-search-form-btn .tdb-head-search-form-btn-icon{\r\n",
      "                  position: relative;\r\n",
      "                }.tdb_header_search .tdb-head-search-form-btn .tdb-head-search-form-btn-icon-svg{\r\n",
      "                  line-height: 0;\r\n",
      "                }.tdb_header_search .tdb-head-search-form-btn svg{\r\n",
      "                  width: 12px;\r\n",
      "                  height: auto;\r\n",
      "                }.tdb_header_search .tdb-head-search-form-btn svg,\r\n",
      "                .tdb_header_search .tdb-head-search-form-btn svg *{\r\n",
      "                  fill: #fff;\r\n",
      "                  -webkit-transition: all 0.3s ease;\r\n",
      "                  transition: all 0.3s ease;\r\n",
      "                }.tdb_header_search .tdb-aj-search-results{\r\n",
      "                  padding: 20px;\r\n",
      "                  background-color: rgba(144, 144, 144, 0.02);\r\n",
      "                  border-width: 1px 0;\r\n",
      "                  border-style: solid;\r\n",
      "                  border-color: #ededed;\r\n",
      "                  background-color: #fff;\r\n",
      "                }.tdb_header_search .tdb-aj-search-results .td_module_wrap:last-child{\r\n",
      "                  margin-bottom: 0;\r\n",
      "                  padding-bottom: 0;\r\n",
      "                }.tdb_header_search .tdb-aj-search-results .td_module_wrap:last-child .td-module-container:before{\r\n",
      "                  display: none;\r\n",
      "                }.tdb_header_search .tdb-aj-search-inner{\r\n",
      "                  display: flex;\r\n",
      "                  flex-wrap: wrap;\r\n",
      "                  *zoom: 1;\r\n",
      "                }.tdb_header_search .tdb-aj-search-inner:before,\r\n",
      "                .tdb_header_search .tdb-aj-search-inner:after{\r\n",
      "                  display: table;\r\n",
      "                  content: '';\r\n",
      "                  line-height: 0;\r\n",
      "                }.tdb_header_search .tdb-aj-search-inner:after{\r\n",
      "                  clear: both;\r\n",
      "                }.tdb_header_search .result-msg{\r\n",
      "                  padding: 4px 0 6px 0;\r\n",
      "                  font-family: 'Roboto', sans-serif;\r\n",
      "                  font-size: 12px;\r\n",
      "                  font-style: italic;\r\n",
      "                  background-color: #fff;\r\n",
      "                }.tdb_header_search .result-msg a{\r\n",
      "                  color: #222;\r\n",
      "                }.tdb_header_search .result-msg a:hover{\r\n",
      "                  color: #4db2ec;\r\n",
      "                }.tdb_header_search .td-module-meta-info,\r\n",
      "                .tdb_header_search .td-next-prev-wrap{\r\n",
      "                  text-align: left;\r\n",
      "                }.tdb_header_search .td_module_wrap:hover .entry-title a{\r\n",
      "                  color: #4db2ec;\r\n",
      "                }.tdb_header_search .tdb-aj-cur-element .entry-title a{\r\n",
      "                  color: #4db2ec;\r\n",
      "                }.tdc-dragged .tdb-head-search-btn:after,\r\n",
      "                .tdc-dragged .tdb-drop-down-search{\r\n",
      "                  visibility: hidden !important;\r\n",
      "                  opacity: 0 !important;\r\n",
      "                  -webkit-transition: all 0.3s ease;\r\n",
      "                  transition: all 0.3s ease;\r\n",
      "                }.tdb-header-search-trigger-enabled{\r\n",
      "                  z-index: 1000;\r\n",
      "                }.tdb-header-search-trigger-enabled .tdb-head-search-btn{\r\n",
      "                  display: flex;\r\n",
      "                  align-items: center;\r\n",
      "                  position: relative;\r\n",
      "                  text-align: center;\r\n",
      "                  color: #4db2ec;\r\n",
      "                }.tdb-header-search-trigger-enabled .tdb-head-search-btn:after{\r\n",
      "                  visibility: hidden;\r\n",
      "                  opacity: 0;\r\n",
      "                  content: '';\r\n",
      "                  display: block;\r\n",
      "                  position: absolute;\r\n",
      "                  bottom: 0;\r\n",
      "                  left: 0;\r\n",
      "                  right: 0;\r\n",
      "                  margin: 0 auto;\r\n",
      "                  width: 0;\r\n",
      "                  height: 0;\r\n",
      "                  border-style: solid;\r\n",
      "                  border-width: 0 6.5px 7px 6.5px;\r\n",
      "                  -webkit-transform: translate3d(0, 20px, 0);\r\n",
      "                  transform: translate3d(0, 20px, 0);\r\n",
      "                  -webkit-transition: all 0.4s ease;\r\n",
      "                  transition: all 0.4s ease;\r\n",
      "                  border-color: transparent transparent #4db2ec transparent;\r\n",
      "                }.tdb-header-search-trigger-enabled .tdb-drop-down-search-open + .tdb-head-search-btn:after{\r\n",
      "                  visibility: visible;\r\n",
      "                  opacity: 1;\r\n",
      "                  -webkit-transform: translate3d(0, 0, 0);\r\n",
      "                  transform: translate3d(0, 0, 0);\r\n",
      "                }.tdb-header-search-trigger-enabled .tdb-search-icon,\r\n",
      "                .tdb-header-search-trigger-enabled .tdb-search-txt,\r\n",
      "                .tdb-header-search-trigger-enabled .tdb-search-icon-svg svg *{\r\n",
      "                  -webkit-transition: all 0.3s ease-in-out;\r\n",
      "                  transition: all 0.3s ease-in-out;\r\n",
      "                }.tdb-header-search-trigger-enabled .tdb-search-icon-svg{\r\n",
      "                  display: flex;\r\n",
      "                  align-items: center;\r\n",
      "                  justify-content: center;\r\n",
      "                }.tdb-header-search-trigger-enabled .tdb-search-icon-svg svg{\r\n",
      "                  height: auto;\r\n",
      "                }.tdb-header-search-trigger-enabled .tdb-search-icon-svg svg,\r\n",
      "                .tdb-header-search-trigger-enabled .tdb-search-icon-svg svg *{\r\n",
      "                  fill: #4db2ec;\r\n",
      "                }.tdb-header-search-trigger-enabled .tdb-search-txt{\r\n",
      "                  position: relative;\r\n",
      "                  line-height: 1;\r\n",
      "                }.tdb-header-search-trigger-enabled .tdb-drop-down-search{\r\n",
      "                  visibility: hidden;\r\n",
      "                  opacity: 0;\r\n",
      "                  position: absolute;\r\n",
      "                  top: 100%;\r\n",
      "                  left: 0;\r\n",
      "                  -webkit-transform: translate3d(0, 20px, 0);\r\n",
      "                  transform: translate3d(0, 20px, 0);\r\n",
      "                  -webkit-transition: all 0.4s ease;\r\n",
      "                  transition: all 0.4s ease;\r\n",
      "                  pointer-events: none;\r\n",
      "                  z-index: 10;\r\n",
      "                }.tdb-header-search-trigger-enabled .tdb-drop-down-search-open{\r\n",
      "                  visibility: visible;\r\n",
      "                  opacity: 1;\r\n",
      "                  -webkit-transform: translate3d(0, 0, 0);\r\n",
      "                  transform: translate3d(0, 0, 0);\r\n",
      "                }.tdb-header-search-trigger-enabled .tdb-drop-down-search-inner{\r\n",
      "                  position: relative;\r\n",
      "                  max-width: 300px;\r\n",
      "                  pointer-events: all;\r\n",
      "                }.rtl .tdb-header-search-trigger-enabled .tdb-drop-down-search-inner{\r\n",
      "                  margin-left: 0;\r\n",
      "                  margin-right: auto;\r\n",
      "                }.tdb_header_search .tdb-aj-srs-title{\r\n",
      "                    margin-bottom: 10px;\r\n",
      "                    font-family: 'Roboto', sans-serif;\r\n",
      "                    font-weight: 500;\r\n",
      "                    font-size: 13px;\r\n",
      "                    line-height: 1.3;\r\n",
      "                    color: #888;\r\n",
      "                }.tdb_header_search .tdb-aj-sr-taxonomies{\r\n",
      "                    display: flex;\r\n",
      "                    flex-direction: column;\r\n",
      "                }.tdb_header_search .tdb-aj-sr-taxonomy{\r\n",
      "                    font-family: 'Roboto', sans-serif;\r\n",
      "                    font-size: 13px;\r\n",
      "                    font-weight: 500;\r\n",
      "                    line-height: 18px;\r\n",
      "                    color: #111;\r\n",
      "                }.tdb_header_search .tdb-aj-sr-taxonomy:not(:last-child){\r\n",
      "                    margin-bottom: 5px;\r\n",
      "                }.tdb_header_search .tdb-aj-sr-taxonomy:hover{\r\n",
      "                    color: #4db2ec;\r\n",
      "                }.tdi_103 .tdb-head-search-btn i{\r\n",
      "                    font-size: 20px;\r\n",
      "                \r\n",
      "                    width: 46px;\r\n",
      "\t\t\t\t\theight: 46px;\r\n",
      "\t\t\t\t\tline-height:  46px;\r\n",
      "                \r\n",
      "                    color: #000000;\r\n",
      "                }.tdi_103{\r\n",
      "                    display: inline-block;\r\n",
      "                \r\n",
      "                    float: right;\r\n",
      "                    clear: none;\r\n",
      "                }.tdi_103 .tdb-search-txt{\r\n",
      "                    top: 0px;\r\n",
      "                }.tdi_103 .tdb-drop-down-search .tdb-drop-down-search-inner{\r\n",
      "                    max-width: 600px;\r\n",
      "                }.tdi_103 .tdb-search-form{\r\n",
      "                    padding: 30px;\r\n",
      "                \r\n",
      "                    border-width: 0px;\r\n",
      "                }.tdi_103 .tdb-drop-down-search{\r\n",
      "                    left: auto;\r\n",
      "                    right: 0;\r\n",
      "                }body .tdi_103 .tdb-drop-down-search-inner,\r\n",
      "                .tdi_103 .tdb-search-form,\r\n",
      "                .tdi_103 .tdb-aj-search{\r\n",
      "                    margin-left: auto;\r\n",
      "                    margin-right: 0;\r\n",
      "                }.tdi_103 .tdb-search-form-inner:after{\r\n",
      "                    border-width: 0 0 1px 0;\r\n",
      "                }.tdi_103 .tdb-head-search-form-btn i{\r\n",
      "                    font-size: 7px;\r\n",
      "                }.tdi_103 .tdb-head-search-form-btn-icon{\r\n",
      "                    margin-left: 8px;\r\n",
      "                \r\n",
      "                    top: 0px;\r\n",
      "                }.tdi_103 .tdb-head-search-form-btn{\r\n",
      "                    padding: 0px;\r\n",
      "                \r\n",
      "                    color: #000000;\r\n",
      "                \r\n",
      "                    background-color: rgba(0,0,0,0);\r\n",
      "                }.tdi_103 .tdb-aj-search-results{\r\n",
      "                    padding: 0 30px 30px;\r\n",
      "                \r\n",
      "                    border-width: 0 0 1px 0;\r\n",
      "                }.tdi_103 .result-msg{\r\n",
      "                    padding: 10px 0;\r\n",
      "                \r\n",
      "                    text-align: center;\r\n",
      "                \r\n",
      "                    font-style:normal !important;\r\n",
      "                }.tdi_103 .tdb-head-search-btn svg,\r\n",
      "                .tdi_103 .tdb-head-search-btn svg *{\r\n",
      "                    fill: #000000;\r\n",
      "                }.tdi_103 .tdb-head-search-btn:after{\r\n",
      "                    border-bottom-color: #ffffff;\r\n",
      "                }.tdi_103 .tdb-drop-down-search-inner{\r\n",
      "                    box-shadow:  0px 3px 6px 0px rgba(0, 0, 0, 0.2);\r\n",
      "                }.tdi_103 .tdb-head-search-form-btn svg,\r\n",
      "                .tdi_103 .tdb-head-search-form-btn svg *{\r\n",
      "                    fill: #000000;\r\n",
      "                }.tdi_103 .tdb-head-search-form-btn:hover{\r\n",
      "                    color: #4db2ec;\r\n",
      "                \r\n",
      "                    background-color: rgba(0,0,0,0);\r\n",
      "                }.tdi_103 .tdb-head-search-form-btn:hover svg,\r\n",
      "                .tdi_103 .tdb-head-search-form-btn:hover svg *{\r\n",
      "                    fill: #4db2ec;\r\n",
      "                }.tdi_103 .result-msg a:hover{\r\n",
      "                    color: #4db2ec;\r\n",
      "                }.tdi_103 .td_module_wrap{\r\n",
      "\t\t\t\t\twidth: 50%;\r\n",
      "\t\t\t\t\tfloat: left;\r\n",
      "\t\t\t\t\r\n",
      "\t\t\t\t\tpadding-left: 10px;\r\n",
      "\t\t\t\t\tpadding-right: 10px;\r\n",
      "\t\t\t\t\r\n",
      "\t\t\t\t\tpadding-bottom: 10px;\r\n",
      "\t\t\t\t\tmargin-bottom: 10px;\r\n",
      "\t\t\t\t}.tdi_103 .td_module_wrap:nth-last-child(-n+2){\r\n",
      "\t\t\t\t\tmargin-bottom: 0;\r\n",
      "\t\t\t\t\tpadding-bottom: 0;\r\n",
      "\t\t\t\t}.tdi_103 .td_module_wrap:nth-last-child(-n+2) .td-module-container:before{\r\n",
      "\t\t\t\t\tdisplay: none;\r\n",
      "\t\t\t\t}.tdi_103 .tdb-aj-search-inner{\r\n",
      "\t\t\t\t\tmargin-left: -10px;\r\n",
      "\t\t\t\t\tmargin-right: -10px;\r\n",
      "\t\t\t\t}.tdi_103 .td-module-container:before{\r\n",
      "\t\t\t\t\tbottom: -10px;\r\n",
      "\t\t\t\t}.tdi_103 .entry-thumb{\r\n",
      "\t\t\t\t\tbackground-position: center 50%;\r\n",
      "\t\t\t\t}.tdi_103 .td-image-wrap{\r\n",
      "\t\t\t\t\tpadding-bottom: 100%;\r\n",
      "\t\t\t\t}.tdi_103 .td-image-container{\r\n",
      "\t\t\t\t \tflex: 0 0 30%;\r\n",
      "\t\t\t\t \twidth: 30%;\r\n",
      "\t\t\t    \r\n",
      "                \tdisplay: block; order: 0;\r\n",
      "                }.ie10 .tdi_103 .td-image-container,\r\n",
      "\t\t\t\t.ie11 .tdi_103 .td-image-container{\r\n",
      "\t\t\t\t \tflex: 0 0 auto;\r\n",
      "\t\t\t    }.tdi_103 .td-module-container{\r\n",
      "\t\t\t\t\tflex-direction: row;\r\n",
      "\t\t\t\t}.ie10 .tdi_103 .td-module-meta-info,\r\n",
      "\t\t\t\t.ie11 .tdi_103 .td-module-meta-info{\r\n",
      "\t\t\t\t \tflex: 1;\r\n",
      "\t\t\t    }.tdi_103 .td-video-play-ico{\r\n",
      "\t\t\t\t\twidth: 24px;\r\n",
      "\t\t\t\t\theight: 24px;\r\n",
      "\t\t\t\t\tfont-size: 24px;\r\n",
      "\t\t\t\t}.tdi_103 .td-post-vid-time{\r\n",
      "\t\t\t\t\tdisplay: block;\r\n",
      "\t\t\t\t}.tdi_103 .td-module-meta-info{\r\n",
      "\t\t\t\t\tpadding: 3px 0 0 16px;\r\n",
      "\t\t\t\t\r\n",
      "\t\t\t\t\tborder-color: #eaeaea;\r\n",
      "\t\t\t\t}.tdi_103 .entry-title{\r\n",
      "\t\t\t\t\tmargin: 0 0 2px 0;\r\n",
      "\t\t\t\t\r\n",
      "\t\t\t\t\tfont-size:13px !important;line-height:1.4 !important;\r\n",
      "\t\t\t\t}.tdi_103 .td-excerpt{\r\n",
      "\t\t\t\t\tcolumn-count: 1;\r\n",
      "\t\t\t\t\r\n",
      "\t\t\t\t\tcolumn-gap: 48px;\r\n",
      "\t\t\t\t\r\n",
      "\t\t\t\t\tdisplay: none;\r\n",
      "\t\t\t\t}.tdi_103 .td-post-category:not(.td-post-extra-category){\r\n",
      "\t\t\t\t\tdisplay: none;\r\n",
      "\t\t\t\t}.tdi_103 .td-read-more{\r\n",
      "\t\t\t\t\tdisplay: none;\r\n",
      "\t\t\t\t}.tdi_103 .td-author-date{\r\n",
      "\t\t\t\t\tdisplay: inline;\r\n",
      "\t\t\t\t}.tdi_103 .td-post-author-name{\r\n",
      "\t\t\t\t\tdisplay: none;\r\n",
      "\t\t\t\t}.tdi_103 .td-icon-star,\r\n",
      "                .tdi_103 .td-icon-star-empty,\r\n",
      "                .tdi_103 .td-icon-star-half{\r\n",
      "\t\t\t\t\tfont-size: 15px;\r\n",
      "\t\t\t\t}.tdi_103 .td-module-comments{\r\n",
      "\t\t\t\t\tdisplay: none;\r\n",
      "\t\t\t\t}.tdi_103 .tdb-author-photo .avatar{\r\n",
      "\t\t\t\t    width: 20px;\r\n",
      "\t\t\t\t    height: 20px;\r\n",
      "\t\t\t\t\r\n",
      "\t\t\t\t    margin-right: 6px;\r\n",
      "\t\t\t\t\r\n",
      "\t\t\t\t    border-radius: 50%;\r\n",
      "\t\t\t\t}body .tdi_103 .td_module_wrap:hover .td-module-title a,\r\n",
      "\t\t\t\t.tdi_103 .tdb-aj-cur-element .entry-title a{\r\n",
      "\t\t\t\t\tcolor: #4db2ec !important;\r\n",
      "\t\t\t\t}.tdi_103 .td-post-category{\r\n",
      "\t\t\t\t\ttext-transform:uppercase !important;\r\n",
      "\t\t\t\t}.tdi_103 .td-module-exclusive .td-module-title a:before{\r\n",
      "                    display: inline-block;\r\n",
      "                }\n",
      "\n",
      "/* landscape */\n",
      "@media (min-width: 1019px) and (max-width: 1140px){\n",
      ".tdi_103 .td_module_wrap{\r\n",
      "\t\t\t\t\tpadding-bottom: 10px !important;\r\n",
      "\t\t\t\t\tmargin-bottom: 10px !important;\r\n",
      "\t\t\t\t\r\n",
      "\t\t\t\t\tpadding-bottom: 10px;\r\n",
      "\t\t\t\t\tmargin-bottom: 10px;\r\n",
      "\t\t\t\t}.tdi_103 .td_module_wrap:nth-last-child(-n+2){\r\n",
      "\t\t\t\t\tmargin-bottom: 0 !important;\r\n",
      "\t\t\t\t\tpadding-bottom: 0 !important;\r\n",
      "\t\t\t\t}.tdi_103 .td_module_wrap .td-module-container:before{\r\n",
      "\t\t\t\t\tdisplay: block !important;\r\n",
      "\t\t\t\t}.tdi_103 .td_module_wrap:nth-last-child(-n+2) .td-module-container:before{\r\n",
      "\t\t\t\t\tdisplay: none !important;\r\n",
      "\t\t\t\t}.tdi_103 .td-module-container:before{\r\n",
      "\t\t\t\t\tbottom: -10px;\r\n",
      "\t\t\t\t}\n",
      "}\n",
      "\n",
      "/* portrait */\n",
      "@media (min-width: 768px) and (max-width: 1018px){\n",
      ".tdi_103 .tdb-head-search-btn i{\r\n",
      "                    font-size: 18px;\r\n",
      "                \r\n",
      "                    width: 46.8px;\r\n",
      "\t\t\t\t\theight: 46.8px;\r\n",
      "\t\t\t\t\tline-height:  46.8px;\r\n",
      "                }.tdi_103 .tdb-search-form{\r\n",
      "                    padding: 20px 20px 20px;\r\n",
      "                }.tdi_103 .td_module_wrap{\r\n",
      "\t\t\t\t\tpadding-bottom: 10px !important;\r\n",
      "\t\t\t\t\tmargin-bottom: 10px !important;\r\n",
      "\t\t\t\t\r\n",
      "\t\t\t\t\tpadding-bottom: 10px;\r\n",
      "\t\t\t\t\tmargin-bottom: 10px;\r\n",
      "\t\t\t\t}.tdi_103 .td_module_wrap:nth-last-child(-n+2){\r\n",
      "\t\t\t\t\tmargin-bottom: 0 !important;\r\n",
      "\t\t\t\t\tpadding-bottom: 0 !important;\r\n",
      "\t\t\t\t}.tdi_103 .td_module_wrap .td-module-container:before{\r\n",
      "\t\t\t\t\tdisplay: block !important;\r\n",
      "\t\t\t\t}.tdi_103 .td_module_wrap:nth-last-child(-n+2) .td-module-container:before{\r\n",
      "\t\t\t\t\tdisplay: none !important;\r\n",
      "\t\t\t\t}.tdi_103 .td-module-container:before{\r\n",
      "\t\t\t\t\tbottom: -10px;\r\n",
      "\t\t\t\t}\n",
      "}\n",
      "\n",
      "/* phone */\n",
      "@media (max-width: 767px){\n",
      ".tdi_103 .td_module_wrap{\r\n",
      "\t\t\t\t\tpadding-bottom: 10px !important;\r\n",
      "\t\t\t\t\tmargin-bottom: 10px !important;\r\n",
      "\t\t\t\t\r\n",
      "\t\t\t\t\tpadding-bottom: 10px;\r\n",
      "\t\t\t\t\tmargin-bottom: 10px;\r\n",
      "\t\t\t\t}.tdi_103 .td_module_wrap:nth-last-child(-n+2){\r\n",
      "\t\t\t\t\tmargin-bottom: 0 !important;\r\n",
      "\t\t\t\t\tpadding-bottom: 0 !important;\r\n",
      "\t\t\t\t}.tdi_103 .td_module_wrap .td-module-container:before{\r\n",
      "\t\t\t\t\tdisplay: block !important;\r\n",
      "\t\t\t\t}.tdi_103 .td_module_wrap:nth-last-child(-n+2) .td-module-container:before{\r\n",
      "\t\t\t\t\tdisplay: none !important;\r\n",
      "\t\t\t\t}.tdi_103 .td-module-container:before{\r\n",
      "\t\t\t\t\tbottom: -10px;\r\n",
      "\t\t\t\t}\n",
      "}\n",
      "</style><div class=\"tdb-block-inner td-fix-index\"><div class=\"tdb-drop-down-search\" aria-labelledby=\"td-header-search-button\"><div class=\"tdb-drop-down-search-inner\"><form method=\"get\" class=\"tdb-search-form\" action=\"https://insights.blackcoffer.com/\"><div class=\"tdb-search-form-inner\"><input class=\"tdb-head-search-form-input\" placeholder=\" \" type=\"text\" value=\"\" name=\"s\" autocomplete=\"off\" /><button class=\"wpb_button wpb_btn-inverse btn tdb-head-search-form-btn\" type=\"submit\"><span>Search</span><i class=\"tdb-head-search-form-btn-icon td-icon-menu-right\"></i></button></div></form><div class=\"tdb-aj-search\"></div></div></div><a href=\"#\" role=\"button\" aria-label=\"Search\" class=\"tdb-head-search-btn dropdown-toggle\" data-toggle=\"dropdown\"><i class=\"tdb-search-icon td-icon-search\"></i></a></div></div> <!-- ./block --></div></div></div></div></div></div></div></div></div></div>                    </div>\r\n",
      "                                <div class=\"td-header-desktop-sticky-wrap tdc-zone-sticky-invisible tdc-zone-sticky-inactive\" style=\"display: none\">\r\n",
      "                    <div id=\"tdi_104\" class=\"tdc-zone\"><div class=\"tdc_zone tdi_105  wpb_row td-pb-row\" data-sticky-offset=\"0\" >\n",
      "<style scoped>\n",
      "\n",
      "/* custom css */\n",
      ".tdi_105{\r\n",
      "                    min-height: 0;\r\n",
      "                }.td-header-desktop-sticky-wrap.td-header-active{\r\n",
      "                    opacity: 1;\r\n",
      "                }\n",
      "</style><div id=\"tdi_106\" class=\"tdc-row\"><div class=\"vc_row tdi_107  wpb_row td-pb-row\" >\n",
      "<style scoped>\n",
      "\n",
      "/* custom css */\n",
      ".tdi_107,\r\n",
      "                .tdi_107 .tdc-columns{\r\n",
      "                    min-height: 0;\r\n",
      "                }.tdi_107,\r\n",
      "\t\t\t\t.tdi_107 .tdc-columns{\r\n",
      "\t\t\t\t    display: block;\r\n",
      "\t\t\t\t}.tdi_107 .tdc-columns{\r\n",
      "\t\t\t\t    width: 100%;\r\n",
      "\t\t\t\t}\n",
      "</style><div class=\"vc_column tdi_109  wpb_column vc_column_container tdc-column td-pb-span12\">\n",
      "<style scoped>\n",
      "\n",
      "/* custom css */\n",
      ".tdi_109{\r\n",
      "                    vertical-align: baseline;\r\n",
      "                }.tdi_109 > .wpb_wrapper,\r\n",
      "\t\t\t\t.tdi_109 > .wpb_wrapper > .tdc-elements{\r\n",
      "\t\t\t\t    display: block;\r\n",
      "\t\t\t\t}.tdi_109 > .wpb_wrapper > .tdc-elements{\r\n",
      "\t\t\t\t    width: 100%;\r\n",
      "\t\t\t\t}.tdi_109 > .wpb_wrapper > .vc_row_inner{\r\n",
      "\t\t\t\t    width: auto;\r\n",
      "\t\t\t\t}.tdi_109 > .wpb_wrapper{\r\n",
      "\t\t\t\t    width: auto;\r\n",
      "\t\t\t\t    height: auto;\r\n",
      "\t\t\t\t}\n",
      "</style><div class=\"wpb_wrapper\" ></div></div></div></div></div></div>                </div>\r\n",
      "            </div>\r\n",
      "            \r\n",
      "\r\n",
      "<article id=\"post-5021\" class=\"td-post-template-7 post-5021 post type-post status-publish format-standard has-post-thumbnail category-blackcoffer category-forecasts category-future category-health-care-equipment-services category-pharmaceutical category-what-we-think tag-better-care tag-economies tag-enhanced-healthcare-outcomes tag-flexibility tag-healthcare-convenience tag-job-opportunities tag-medical-facilities tag-reduced-healthcare-costs tag-telemedicine td-container-wrap\" itemscope itemtype=\"https://schema.org/Article\">\r\n",
      "\r\n",
      "    <div class=\"td-full-screen-header-image-wrap\">\r\n",
      "\r\n",
      "        <div class=\"td-container td-post-header\">\r\n",
      "            <div class=\"td-crumb-container\"><div class=\"entry-crumbs\"><span><a title=\"\" class=\"entry-crumb\" href=\"https://insights.blackcoffer.com/\">Home</a></span> <i class=\"td-icon-right td-bread-sep\"></i> <span><a title=\"View all posts in What We Think\" class=\"entry-crumb\" href=\"https://insights.blackcoffer.com/category/what-we-think/\">What We Think</a></span> <i class=\"td-icon-right td-bread-sep td-bred-no-url-last\"></i> <span class=\"td-bred-no-url-last\">Rise of telemedicine and its Impact on Livelihood by 2040</span></div></div>\r\n",
      "\r\n",
      "\t        <div class=\"td-post-header-holder\">\r\n",
      "\r\n",
      "\t\t        <div class=\"td-parallax-header\">\r\n",
      "\r\n",
      "\t                <header class=\"td-post-title\">\r\n",
      "\r\n",
      "\t                    <ul class=\"td-category\"><li class=\"entry-category\"><a  href=\"https://insights.blackcoffer.com/category/blackcoffer/\">Blackcoffer</a></li><li class=\"entry-category\"><a  href=\"https://insights.blackcoffer.com/category/what-we-think/future/\">Future</a></li><li class=\"entry-category\"><a  href=\"https://insights.blackcoffer.com/category/what-we-think/future/forecasts/\">Forecasts</a></li><li class=\"entry-category\"><a  href=\"https://insights.blackcoffer.com/category/what-we-think/\">What We Think</a></li><li class=\"entry-category\"><a  href=\"https://insights.blackcoffer.com/category/what-we-think/healthcare/\">Healthcare</a></li><li class=\"entry-category\"><a  href=\"https://insights.blackcoffer.com/category/what-we-think/healthcare/health-care-equipment-services/\">Health Care Equipment &amp; Services</a></li><li class=\"entry-category\"><a  href=\"https://insights.blackcoffer.com/category/what-we-think/healthcare/pharmaceutical/\">Pharmaceutical</a></li></ul>\t                    <h1 class=\"entry-title\">Rise of telemedicine and its Impact on Livelihood by 2040</h1>\r\n",
      "\r\n",
      "\t                    \r\n",
      "\t                    <div class=\"td-module-meta-info\">\r\n",
      "\t                        <div class=\"td-post-author-name\"><div class=\"td-author-by\">By</div> <a href=\"https://insights.blackcoffer.com/author/admin/\">Ajay Bidyarthy</a><div class=\"td-author-line\"> - </div> </div>\t                        <span class=\"td-post-date\"><time class=\"entry-date updated td-module-date\" datetime=\"2023-01-02T20:45:14+05:30\" >January 2, 2023</time></span>\t                        <div class=\"td-post-views\"><i class=\"td-icon-views\"></i><span class=\"td-nr-views-5021\">6131</span></div>\t                        \t                    </div>\r\n",
      "\r\n",
      "\t                </header>\r\n",
      "\r\n",
      "\t\t            <div class=\"td-read-down\"><a href=\"#\"><i class=\"td-icon-read-down\"></i></a></div>\r\n",
      "\t\t        </div>\r\n",
      "            </div>\r\n",
      "\r\n",
      "        </div>\r\n",
      "\r\n",
      "        <div id=\"td-full-screen-header-image\" class=\"td-image-gradient-style7\">\r\n",
      "            <img class=\"td-backstretch\" src=\"https://insights.blackcoffer.com/wp-content/uploads/2023/01/fidovhj.jpg\">\r\n",
      "        </div>\r\n",
      "    </div>\r\n",
      "\r\n",
      "    <div class=\"td-container\">\r\n",
      "        <div class=\"td-pb-row\">\r\n",
      "                                    <div class=\"td-pb-span8 td-main-content\" role=\"main\">\r\n",
      "                            <div class=\"td-ss-main-content\">\r\n",
      "                                \r\n",
      "    \r\n",
      "\r\n",
      "    <div class=\"td-post-content tagdiv-type\">\r\n",
      "        \n",
      "<p>Telemedicine, the use of technology to diagnose and treat patients remotely, has been rising in recent years. With the advent of high-speed internet and improved video conferencing tools, healthcare providers are increasingly turning to telemedicine to provide care to patients in remote or underserved areas.</p>\n",
      "\n",
      "\n",
      "\n",
      "<p><strong>Telemedicine</strong>, using technology to provide healthcare services remotely, has recently gained popularity. With advancements in communication and medical technology, it has become increasingly possible for doctors and patients to connect and interact from anywhere in the world. This has led to the rise of telemedicine, which has the potential to revolutionize the way healthcare is delivered<strong>.#Telemedicine</strong></p>\n",
      "\n",
      "\n",
      "\n",
      "<p>The increasing focus on preventative healthcare has also driven the rise of telemedicine. As more and more people become aware of the importance of staying healthy, they are looking for ways to prevent illness and maintain their health. Telemedicine allows people to monitor their health and get advice from healthcare providers without traveling to a clinic or hospital.</p>\n",
      "\n",
      "\n",
      "\n",
      "<p>Improved access to <strong>healthcare</strong>: One of the biggest challenges in the healthcare industry is the unequal distribution of medical resources, with many remote and rural areas lacking access to quality care. Telemedicine can help bridge this gap by allowing patients in these underserved areas to connect with healthcare providers worldwide. This can give people access to specialized medical care that they would otherwise not be able to receive, improving their health and overall well-being<strong>.#Healthcare</strong></p>\n",
      "\n",
      "\n",
      "\n",
      "<p>Greater convenience and flexibility: Telemedicine also offers a level of <strong>convenience</strong> and <strong>flexibility</strong> that is impossible with traditional in-person medical visits. Patients can consult with their healthcare providers from the comfort of their own homes, saving time and money on travel. This is particularly beneficial for individuals who have mobility issues or who live in areas with limited access to <strong>medical facilities.</strong></p>\n",
      "\n",
      "\n",
      "\n",
      "<p><strong>Reduced healthcare costs</strong>: By enabling patients to receive care remotely, telemedicine can help reduce the overall cost of healthcare. This is because telemedicine visits are generally less expensive than in-person visits and can help prevent the need for more costly interventions, such as hospitalizations. As a result, telemedicine has the potential to make healthcare more affordable for patients and healthcare providers alike<strong>.#Costs</strong></p>\n",
      "\n",
      "\n",
      "\n",
      "<p><strong>Enhanced healthcare outcomes</strong>: Telemedicine can also improve patients&#8217; quality of care. By allowing healthcare providers to access medical records and other important information remotely, telemedicine can help ensure that patients receive the most appropriate care for their needs. This can lead to better health outcomes and a higher quality of life for patients<strong>.#Enhanced</strong></p>\n",
      "\n",
      "\n",
      "\n",
      "<p>More significant <strong>job opportunities</strong> in the healthcare industry like healthcare sector, including for healthcare providers, support staff, and technology experts. This can provide a boost to local <strong>economies </strong>and help to reduce unemployment<strong>.#Jobs</strong></p>\n",
      "\n",
      "\n",
      "\n",
      "<p><strong>Better care</strong> for chronic conditions: Telemedicine can help patients with chronic conditions to manage their health more effectively, allowing them to receive regular check-ups and treatment without the need to travel long distances. This can improve the quality of life for these individuals and reduce the risk of complications from their conditions.</p>\n",
      "\n",
      "\n",
      "\n",
      "<p>Increased flexibility for patients and healthcare providers: Telemedicine allows patients and providers to schedule consultations at times convenient for them, improving the overall flexibility of the healthcare system. This can help to reduce wait times and improve patient satisfaction.</p>\n",
      "\n",
      "\n",
      "\n",
      "<p>Increased accessibility: Telemedicine makes healthcare more accessible to people living in rural and remote areas, who may not have easy access to medical facilities. With telemedicine, patients can consult with doctors and specialists from their homes using their phones, computers, or other devices. This means that more people will be able to get the medical care they need, regardless of where they live.</p>\n",
      "\n",
      "\n",
      "\n",
      "<p>Reduced costs: One of the most significant benefits of telemedicine is that it can reduce healthcare costs. Patients can avoid the costs of travel, accommodation, and time off work associated with in-person visits to the doctor. Telemedicine can also help reduce the cost of medical procedures, as doctors can remotely monitor patients and provide care without needing hospitalization.</p>\n",
      "\n",
      "\n",
      "\n",
      "<p>Improved health outcomes: By providing patients with access to medical care from the comfort of their own homes, telemedicine can help improve their health outcomes. For example, patients with chronic conditions can use telemedicine to manage their symptoms and reduce the risk of complications. Telemedicine can also help prevent the spread of infectious diseases, as patients can receive care without contacting other people.</p>\n",
      "\n",
      "\n",
      "\n",
      "<p>Increased convenience: Telemedicine offers a more convenient option for patients who need medical care. With telemedicine, patients can schedule appointments and consult with doctors at a convenient time without having to take time off work or arrange transportation. This can be especially beneficial for people with busy schedules or mobility issues.</p>\n",
      "\n",
      "\n",
      "\n",
      "<p>Telemedicine, or the use of electronic communication and information technologies to provide healthcare services remotely, has the potential to significantly impact the way we receive and deliver medical care. In the next 20 years, telemedicine will likely become an increasingly important part of our healthcare system, providing numerous benefits and improving the livelihood of many people.</p>\n",
      "\n",
      "\n",
      "\n",
      "<p>The benefits of telemedicine are numerous. For patients, it provides convenient access to medical care without traveling long distances. It also allows for faster diagnosis and treatment and improved continuity of care. For healthcare providers, telemedicine can reduce the strain on already-overburdened healthcare systems and make providing care to patients in remote areas more accessible.</p>\n",
      "\n",
      "\n",
      "\n",
      "<p>The rise of telemedicine will likely significantly impact how we receive medical care in the future. By 2040, it is estimated that telemedicine will be a standard part of the healthcare landscape, with more and more doctors using it to diagnose and treat patients remotely.</p>\n",
      "\n",
      "\n",
      "\n",
      "<p>One of the key drivers of the rise of telemedicine has been the increasing availability of high-speed internet and improved video conferencing tools. In the past, the video and audio quality of telemedicine consultations were often poor, making it difficult for doctors to diagnose and treat patients accurately. However, with faster internet speeds and better video conferencing tools, telemedicine consultations are just as good as in-person visits.</p>\n",
      "\n",
      "\n",
      "\n",
      "<p>Telemedicine makes healthcare more accessible. With telemedicine, patients no longer travel long distances to see a doctor or specialist. Instead, they can receive care from the comfort of their own home. This is particularly beneficial for people living in rural areas, where access to healthcare can be limited.</p>\n",
      "\n",
      "\n",
      "\n",
      "<p>Another factor contributing to the rise of telemedicine is the increasing demand for healthcare services. With the global population growing and people living longer, the need for medical care will only continue to increase. Telemedicine offers a way for healthcare providers to meet this demand by allowing them to provide care to more patients in a shorter amount of time.</p>\n",
      "\n",
      "\n",
      "\n",
      "<p>Another substantial impact of telemedicine is that it can improve patient quality of care. By using technology to connect patients with doctors, telemedicine can help ensure patients receive the best care possible. For example, a doctor can use video conferencing to consult with a specialist or use remote monitoring devices to track a patient&#8217;s vital signs. This can help doctors make more informed decisions and provide better treatment.</p>\n",
      "\n",
      "\n",
      "\n",
      "<p>Telemedicine also has the potential to reduce healthcare costs. By allowing patients to receive care from their homes, telemedicine can reduce the need for expensive hospital visits. In addition, telemedicine can help prevent the spread of infectious diseases, reducing healthcare costs by avoiding hospitalization.</p>\n",
      "\n",
      "\n",
      "\n",
      "<p>One of the critical impacts of telemedicine is that it can improve the patient experience. By providing patients with the ability to receive care from the comfort of their own homes, telemedicine can help reduce anxiety and stress. In addition, telemedicine can make it easier for patients to communicate with their doctors and get the answers they need.</p>\n",
      "\n",
      "\n",
      "\n",
      "<p>Another way in which telemedicine will impact people&#8217;s livelihoods is by making healthcare more efficient. By allowing doctors to diagnose and treat patients remotely, telemedicine will help reduce the time patients spend waiting to see a doctor. It will also help reduce doctors&#8217; spending on administrative tasks, freeing them up to see more patients and provide better care.</p>\n",
      "\n",
      "\n",
      "\n",
      "<p>One major factor driving the rise of telemedicine is the increasing use of technology in healthcare. With advances in communication and medical technology, it is now possible for doctors and other healthcare providers to remotely diagnose and treat patients using video conferencing, remote monitoring, and other forms of telemedicine. This not only allows for more efficient and convenient healthcare delivery but also enables healthcare providers to offer specialized care to patients who otherwise may not have access to it.</p>\n",
      "\n",
      "\n",
      "\n",
      "<p>Another factor contributing to the rise of telemedicine is the need for improved access to healthcare. Patients may travel long distances in many rural and underserved areas; patients may travel long distances to access medical care. Telemedicine can bridge this gap by allowing patients in these areas to consult with healthcare providers remotely. This not only improves access to healthcare but also reduces the need for patients to travel long distances, saving them time and money.</p>\n",
      "\n",
      "\n",
      "\n",
      "<p>Finally, telemedicine&#8217;s rise is also driven by the growing trend of remote work. As more and more people work from home or other remote locations, the need for convenient and accessible healthcare is increasing. Telemedicine allows employees to consult with healthcare providers from their homes, reducing the need for them to take time off work to visit a doctor or other healthcare provider.</p>\n",
      "\n",
      "\n",
      "\n",
      "<p>Overall, the rise of telemedicine by 2040 is a result of a combination of factors, including the increasing use of technology in healthcare, the need for improved access to healthcare, and the growing trend of remote work. As these factors continue to evolve, likely, telemedicine will likely become an increasingly important part of the healthcare landscape.</p>\n",
      "\n",
      "\n",
      "\n",
      "<p>However, the rise of telemedicine is also likely to present some challenges. For example, telemedicine consultations may only be suitable for some medical conditions, and some patients may still need to see a doctor. Additionally, telemedicine may put some jobs at risk, such as receptionists and other administrative staff in healthcare facilities.</p>\n",
      "\n",
      "\n",
      "\n",
      "<pre class=\"wp-block-preformatted\">Blackcoffer Insights 46: G.K.Harish Balaji, Indian Institute of Technology,Madras</pre>\n",
      "    </div>\r\n",
      "\r\n",
      "\r\n",
      "    <footer>\r\n",
      "                \r\n",
      "        <div class=\"td-post-source-tags\">\r\n",
      "                        <ul class=\"td-tags td-post-small-box clearfix\"><li><span>TAGS</span></li><li><a href=\"https://insights.blackcoffer.com/tag/better-care/\">Better Care</a></li><li><a href=\"https://insights.blackcoffer.com/tag/economies/\">Economies</a></li><li><a href=\"https://insights.blackcoffer.com/tag/enhanced-healthcare-outcomes/\">Enhanced Healthcare Outcomes</a></li><li><a href=\"https://insights.blackcoffer.com/tag/flexibility/\">Flexibility</a></li><li><a href=\"https://insights.blackcoffer.com/tag/healthcare-convenience/\">Healthcare Convenience</a></li><li><a href=\"https://insights.blackcoffer.com/tag/job-opportunities/\">Job Opportunities</a></li><li><a href=\"https://insights.blackcoffer.com/tag/medical-facilities/\">Medical Facilities</a></li><li><a href=\"https://insights.blackcoffer.com/tag/reduced-healthcare-costs/\">Reduced Healthcare Costs</a></li><li><a href=\"https://insights.blackcoffer.com/tag/telemedicine/\">Telemedicine</a></li></ul>        </div>\r\n",
      "\r\n",
      "                <div class=\"td-block-row td-post-next-prev\"><div class=\"td-block-span6 td-post-prev-post\"><div class=\"td-post-next-prev-content\"><span>Previous article</span><a href=\"https://insights.blackcoffer.com/rise-of-e-health-and-its-impact-on-humans-by-the-year-2030/\">Rise of e-health and its impact on humans by the year 2030</a></div></div><div class=\"td-next-prev-separator\"></div><div class=\"td-block-span6 td-post-next-post\"><div class=\"td-post-next-prev-content\"><span>Next article</span><a href=\"https://insights.blackcoffer.com/autogpt-setup/\">AutoGPT Setup</a></div></div></div>        <div class=\"td-author-name vcard author\" style=\"display: none\"><span class=\"fn\"><a href=\"https://insights.blackcoffer.com/author/admin/\">Ajay Bidyarthy</a></span></div>        <span class=\"td-page-meta\" itemprop=\"author\" itemscope itemtype=\"https://schema.org/Person\"><meta itemprop=\"name\" content=\"Ajay Bidyarthy\"><meta itemprop=\"url\" content=\"https://insights.blackcoffer.com/author/admin/\"></span><meta itemprop=\"datePublished\" content=\"2023-01-02T20:45:14+05:30\"><meta itemprop=\"dateModified\" content=\"2023-01-02T20:45:14+05:30\"><meta itemscope itemprop=\"mainEntityOfPage\" itemType=\"https://schema.org/WebPage\" itemid=\"https://insights.blackcoffer.com/rise-of-telemedicine-and-its-impact-on-livelihood-by-2040-3-2/\"/><span class=\"td-page-meta\" itemprop=\"publisher\" itemscope itemtype=\"https://schema.org/Organization\"><span class=\"td-page-meta\" itemprop=\"logo\" itemscope itemtype=\"https://schema.org/ImageObject\"><meta itemprop=\"url\" content=\"https://insights.blackcoffer.com/wp-content/uploads/2018/12/Insights-blackv02.png\"></span><meta itemprop=\"name\" content=\"Blackcoffer Insights\"></span><meta itemprop=\"headline \" content=\"Rise of telemedicine and its Impact on Livelihood by 2040\"><span class=\"td-page-meta\" itemprop=\"image\" itemscope itemtype=\"https://schema.org/ImageObject\"><meta itemprop=\"url\" content=\"https://insights.blackcoffer.com/wp-content/uploads/2023/01/fidovhj.jpg\"><meta itemprop=\"width\" content=\"1365\"><meta itemprop=\"height\" content=\"768\"></span>    </footer>\r\n",
      "\r\n",
      "    <div class=\"td_block_wrap td_block_related_posts tdi_111 td_with_ajax_pagination td-pb-border-top td_block_template_1\"  data-td-block-uid=\"tdi_111\" ><script>var block_tdi_111 = new tdBlock();\n",
      "block_tdi_111.id = \"tdi_111\";\n",
      "block_tdi_111.atts = '{\"limit\":3,\"ajax_pagination\":\"next_prev\",\"live_filter\":\"cur_post_same_categories\",\"td_ajax_filter_type\":\"td_custom_related\",\"class\":\"tdi_111\",\"td_column_number\":3,\"block_type\":\"td_block_related_posts\",\"live_filter_cur_post_id\":5021,\"live_filter_cur_post_author\":\"1\",\"block_template_id\":\"\",\"header_color\":\"\",\"ajax_pagination_infinite_stop\":\"\",\"offset\":\"\",\"td_ajax_preloading\":\"\",\"td_filter_default_txt\":\"\",\"td_ajax_filter_ids\":\"\",\"el_class\":\"\",\"color_preset\":\"\",\"ajax_pagination_next_prev_swipe\":\"\",\"border_top\":\"\",\"css\":\"\",\"tdc_css\":\"\",\"tdc_css_class\":\"tdi_111\",\"tdc_css_class_style\":\"tdi_111_rand_style\"}';\n",
      "block_tdi_111.td_column_number = \"3\";\n",
      "block_tdi_111.block_type = \"td_block_related_posts\";\n",
      "block_tdi_111.post_count = \"3\";\n",
      "block_tdi_111.found_posts = \"212\";\n",
      "block_tdi_111.header_color = \"\";\n",
      "block_tdi_111.ajax_pagination_infinite_stop = \"\";\n",
      "block_tdi_111.max_num_pages = \"71\";\n",
      "tdBlocksArray.push(block_tdi_111);\n",
      "</script><h4 class=\"td-related-title td-block-title\"><a id=\"tdi_112\" class=\"td-related-left td-cur-simple-item\" data-td_filter_value=\"\" data-td_block_id=\"tdi_111\" href=\"#\">RELATED ARTICLES</a><a id=\"tdi_113\" class=\"td-related-right\" data-td_filter_value=\"td_related_more_from_author\" data-td_block_id=\"tdi_111\" href=\"#\">MORE FROM AUTHOR</a></h4><div id=tdi_111 class=\"td_block_inner\">\n",
      "\n",
      "\t<div class=\"td-related-row\">\n",
      "\n",
      "\t<div class=\"td-related-span4\">\n",
      "\r\n",
      "        <div class=\"td_module_related_posts td-animation-stack td_mod_related_posts\">\r\n",
      "            <div class=\"td-module-image\">\r\n",
      "                <div class=\"td-module-thumb\"><a href=\"https://insights.blackcoffer.com/rise-of-cybercrime-and-its-effect-by-the-year-2040-3/\"  rel=\"bookmark\" class=\"td-image-wrap \" title=\"Rise of cybercrime and its effect by the year 2040.\" ><img class=\"entry-thumb\" src=\"data:image/png;base64,iVBORw0KGgoAAAANSUhEUgAAANoAAACWAQMAAACCSQSPAAAAA1BMVEWurq51dlI4AAAAAXRSTlMmkutdmwAAABpJREFUWMPtwQENAAAAwiD7p7bHBwwAAAAg7RD+AAGXD7BoAAAAAElFTkSuQmCC\" alt=\"\" title=\"Rise of cybercrime and its effect by the year 2040.\" data-type=\"image_tag\" data-img-url=\"https://insights.blackcoffer.com/wp-content/uploads/2023/08/pexels-paras-katwal-4218883-218x150.jpg\"  width=\"218\" height=\"150\" /></a></div>                            </div>\r\n",
      "            <div class=\"item-details\">\r\n",
      "                <h3 class=\"entry-title td-module-title\"><a href=\"https://insights.blackcoffer.com/rise-of-cybercrime-and-its-effect-by-the-year-2040-3/\"  rel=\"bookmark\" title=\"Rise of cybercrime and its effect by the year 2040.\">Rise of cybercrime and its effect by the year 2040.</a></h3>            </div>\r\n",
      "        </div>\r\n",
      "        \n",
      "\t</div> <!-- ./td-related-span4 -->\n",
      "\n",
      "\t<div class=\"td-related-span4\">\n",
      "\r\n",
      "        <div class=\"td_module_related_posts td-animation-stack td_mod_related_posts\">\r\n",
      "            <div class=\"td-module-image\">\r\n",
      "                <div class=\"td-module-thumb\"><a href=\"https://insights.blackcoffer.com/rising-it-cities-and-its-impact-on-the-economy-environment-infrastructure-and-city-life-by-the-year-2040-2/\"  rel=\"bookmark\" class=\"td-image-wrap \" title=\"Rising IT cities and its impact on the economy, environment, infrastructure, and city life by the year 2040.\" ><img class=\"entry-thumb\" src=\"data:image/png;base64,iVBORw0KGgoAAAANSUhEUgAAANoAAACWAQMAAACCSQSPAAAAA1BMVEWurq51dlI4AAAAAXRSTlMmkutdmwAAABpJREFUWMPtwQENAAAAwiD7p7bHBwwAAAAg7RD+AAGXD7BoAAAAAElFTkSuQmCC\" alt=\"\" title=\"Rising IT cities and its impact on the economy, environment, infrastructure, and city life by the year 2040.\" data-type=\"image_tag\" data-img-url=\"https://insights.blackcoffer.com/wp-content/uploads/2023/08/pexels-tranmautritam-326508-218x150.jpg\"  width=\"218\" height=\"150\" /></a></div>                            </div>\r\n",
      "            <div class=\"item-details\">\r\n",
      "                <h3 class=\"entry-title td-module-title\"><a href=\"https://insights.blackcoffer.com/rising-it-cities-and-its-impact-on-the-economy-environment-infrastructure-and-city-life-by-the-year-2040-2/\"  rel=\"bookmark\" title=\"Rising IT cities and its impact on the economy, environment, infrastructure, and city life by the year 2040.\">Rising IT cities and its impact on the economy, environment, infrastructure, and city life by the year 2040.</a></h3>            </div>\r\n",
      "        </div>\r\n",
      "        \n",
      "\t</div> <!-- ./td-related-span4 -->\n",
      "\n",
      "\t<div class=\"td-related-span4\">\n",
      "\r\n",
      "        <div class=\"td_module_related_posts td-animation-stack td_mod_related_posts\">\r\n",
      "            <div class=\"td-module-image\">\r\n",
      "                <div class=\"td-module-thumb\"><a href=\"https://insights.blackcoffer.com/rising-it-cities-and-their-impact-on-the-economy-environment-infrastructure-and-city-life-in-future/\"  rel=\"bookmark\" class=\"td-image-wrap \" title=\"Rising IT Cities and Their Impact on the Economy, Environment, Infrastructure, and City Life in Future\" ><img class=\"entry-thumb\" src=\"data:image/png;base64,iVBORw0KGgoAAAANSUhEUgAAANoAAACWAQMAAACCSQSPAAAAA1BMVEWurq51dlI4AAAAAXRSTlMmkutdmwAAABpJREFUWMPtwQENAAAAwiD7p7bHBwwAAAAg7RD+AAGXD7BoAAAAAElFTkSuQmCC\" alt=\"\" title=\"Rising IT Cities and Their Impact on the Economy, Environment, Infrastructure, and City Life in Future\" data-type=\"image_tag\" data-img-url=\"https://insights.blackcoffer.com/wp-content/uploads/2023/08/pexels-fox-1595391-1-218x150.jpg\"  width=\"218\" height=\"150\" /></a></div>                            </div>\r\n",
      "            <div class=\"item-details\">\r\n",
      "                <h3 class=\"entry-title td-module-title\"><a href=\"https://insights.blackcoffer.com/rising-it-cities-and-their-impact-on-the-economy-environment-infrastructure-and-city-life-in-future/\"  rel=\"bookmark\" title=\"Rising IT Cities and Their Impact on the Economy, Environment, Infrastructure, and City Life in Future\">Rising IT Cities and Their Impact on the Economy, Environment, Infrastructure, and City Life in Future</a></h3>            </div>\r\n",
      "        </div>\r\n",
      "        \n",
      "\t</div> <!-- ./td-related-span4 --></div><!--./row-fluid--></div><div class=\"td-next-prev-wrap\"><a href=\"#\" class=\"td-ajax-prev-page ajax-page-disabled\" aria-label=\"prev-page\" id=\"prev-page-tdi_111\" data-td_block_id=\"tdi_111\"><i class=\"td-next-prev-icon td-icon-font td-icon-menu-left\"></i></a><a href=\"#\"  class=\"td-ajax-next-page\" aria-label=\"next-page\" id=\"next-page-tdi_111\" data-td_block_id=\"tdi_111\"><i class=\"td-next-prev-icon td-icon-font td-icon-menu-right\"></i></a></div></div> <!-- ./block -->\r\n",
      "    <div class=\"comments\" id=\"comments\">\r\n",
      "            </div> <!-- /.content -->\r\n",
      "                                </div>\r\n",
      "                        </div>\r\n",
      "                        <div class=\"td-pb-span4 td-main-sidebar\" role=\"complementary\">\r\n",
      "                            <div class=\"td-ss-main-sidebar\">\r\n",
      "                                <div class=\"td-a-rec td-a-rec-id-sidebar  tdi_114 td_block_template_1\">\n",
      "<style>\n",
      "/* custom css */\n",
      ".tdi_114.td-a-rec{\r\n",
      "\t\t\t\t\ttext-align: center;\r\n",
      "\t\t\t\t}.tdi_114 .td-element-style{\r\n",
      "\t\t\t\t\tz-index: -1;\r\n",
      "\t\t\t\t}.tdi_114.td-a-rec-img{\r\n",
      "\t\t\t\t    text-align: left;\r\n",
      "\t\t\t\t}.tdi_114.td-a-rec-img img{\r\n",
      "                    margin: 0 auto 0 0;\r\n",
      "                }@media (max-width: 767px) {\r\n",
      "\t\t\t\t    .tdi_114.td-a-rec-img {\r\n",
      "\t\t\t\t        text-align: center;\r\n",
      "\t\t\t\t    }\r\n",
      "                }\n",
      "</style><span class=\"td-adspot-title\">- Advertisement -</span><div class=\"td-all-devices\"><a href=\"#\" target=\"_blank\"><img src=\"https://insights.blackcoffer.com/wp-content/uploads/2019/01/Blackcoffer_ad.png\"  style=\"transition: all 0.3s ease 0s; transform: scale(1);\" onmouseover=\"this.style.transform=`scale(1.1)`\" onmouseout=\"this.style.transform=`scale(1)`\"/></a></div></div><div class=\"td_block_wrap td_block_7 td_block_widget tdi_115 td_with_ajax_pagination td-pb-border-top td_block_template_1 td-column-1 td_block_padding\"  data-td-block-uid=\"tdi_115\" ><script>var block_tdi_115 = new tdBlock();\n",
      "block_tdi_115.id = \"tdi_115\";\n",
      "block_tdi_115.atts = '{\"custom_title\":\"MOST POPULAR INSIGHTS\",\"custom_url\":\"\",\"block_template_id\":\"\",\"header_color\":\"#\",\"header_text_color\":\"#\",\"accent_text_color\":\"#\",\"m6_tl\":\"\",\"limit\":\"4\",\"offset\":\"\",\"el_class\":\"\",\"post_ids\":\"-5021\",\"category_id\":\"\",\"category_ids\":\"\",\"tag_slug\":\"\",\"autors_id\":\"\",\"installed_post_types\":\"\",\"sort\":\"random_posts\",\"td_ajax_filter_type\":\"\",\"td_ajax_filter_ids\":\"\",\"td_filter_default_txt\":\"All\",\"td_ajax_preloading\":\"\",\"ajax_pagination\":\"load_more\",\"ajax_pagination_infinite_stop\":\"\",\"class\":\"td_block_widget tdi_115\",\"block_type\":\"td_block_7\",\"separator\":\"\",\"taxonomies\":\"\",\"in_all_terms\":\"\",\"include_cf_posts\":\"\",\"exclude_cf_posts\":\"\",\"linked_posts\":\"\",\"favourite_only\":\"\",\"open_in_new_window\":\"\",\"show_modified_date\":\"\",\"time_ago\":\"\",\"time_ago_add_txt\":\"ago\",\"time_ago_txt_pos\":\"\",\"f_header_font_header\":\"\",\"f_header_font_title\":\"Block header\",\"f_header_font_settings\":\"\",\"f_header_font_family\":\"\",\"f_header_font_size\":\"\",\"f_header_font_line_height\":\"\",\"f_header_font_style\":\"\",\"f_header_font_weight\":\"\",\"f_header_font_transform\":\"\",\"f_header_font_spacing\":\"\",\"f_header_\":\"\",\"f_ajax_font_title\":\"Ajax categories\",\"f_ajax_font_settings\":\"\",\"f_ajax_font_family\":\"\",\"f_ajax_font_size\":\"\",\"f_ajax_font_line_height\":\"\",\"f_ajax_font_style\":\"\",\"f_ajax_font_weight\":\"\",\"f_ajax_font_transform\":\"\",\"f_ajax_font_spacing\":\"\",\"f_ajax_\":\"\",\"f_more_font_title\":\"Load more button\",\"f_more_font_settings\":\"\",\"f_more_font_family\":\"\",\"f_more_font_size\":\"\",\"f_more_font_line_height\":\"\",\"f_more_font_style\":\"\",\"f_more_font_weight\":\"\",\"f_more_font_transform\":\"\",\"f_more_font_spacing\":\"\",\"f_more_\":\"\",\"m6f_title_font_header\":\"\",\"m6f_title_font_title\":\"Article title\",\"m6f_title_font_settings\":\"\",\"m6f_title_font_family\":\"\",\"m6f_title_font_size\":\"\",\"m6f_title_font_line_height\":\"\",\"m6f_title_font_style\":\"\",\"m6f_title_font_weight\":\"\",\"m6f_title_font_transform\":\"\",\"m6f_title_font_spacing\":\"\",\"m6f_title_\":\"\",\"m6f_cat_font_title\":\"Article category tag\",\"m6f_cat_font_settings\":\"\",\"m6f_cat_font_family\":\"\",\"m6f_cat_font_size\":\"\",\"m6f_cat_font_line_height\":\"\",\"m6f_cat_font_style\":\"\",\"m6f_cat_font_weight\":\"\",\"m6f_cat_font_transform\":\"\",\"m6f_cat_font_spacing\":\"\",\"m6f_cat_\":\"\",\"m6f_meta_font_title\":\"Article meta info\",\"m6f_meta_font_settings\":\"\",\"m6f_meta_font_family\":\"\",\"m6f_meta_font_size\":\"\",\"m6f_meta_font_line_height\":\"\",\"m6f_meta_font_style\":\"\",\"m6f_meta_font_weight\":\"\",\"m6f_meta_font_transform\":\"\",\"m6f_meta_font_spacing\":\"\",\"m6f_meta_\":\"\",\"ajax_pagination_next_prev_swipe\":\"\",\"css\":\"\",\"tdc_css\":\"\",\"td_column_number\":1,\"color_preset\":\"\",\"border_top\":\"\",\"tdc_css_class\":\"tdi_115\",\"tdc_css_class_style\":\"tdi_115_rand_style\"}';\n",
      "block_tdi_115.td_column_number = \"1\";\n",
      "block_tdi_115.block_type = \"td_block_7\";\n",
      "block_tdi_115.post_count = \"4\";\n",
      "block_tdi_115.found_posts = \"471\";\n",
      "block_tdi_115.header_color = \"#\";\n",
      "block_tdi_115.ajax_pagination_infinite_stop = \"\";\n",
      "block_tdi_115.max_num_pages = \"118\";\n",
      "tdBlocksArray.push(block_tdi_115);\n",
      "</script><div class=\"td-block-title-wrap\"><h4 class=\"block-title td-block-title\"><span class=\"td-pulldown-size\">MOST POPULAR INSIGHTS</span></h4></div><div id=tdi_115 class=\"td_block_inner\">\n",
      "\n",
      "\t<div class=\"td-block-span12\">\n",
      "\r\n",
      "        <div class=\"td_module_6 td_module_wrap td-animation-stack\">\r\n",
      "\r\n",
      "        <div class=\"td-module-thumb\"><a href=\"https://insights.blackcoffer.com/etl-and-mlops-infrastructure-for-blockchain-analytics/\"  rel=\"bookmark\" class=\"td-image-wrap \" title=\"ETL and MLOps Infrastructure for Blockchain Analytics\" ><img class=\"entry-thumb\" src=\"data:image/png;base64,iVBORw0KGgoAAAANSUhEUgAAAGQAAABGAQMAAAAASKMqAAAAA1BMVEWurq51dlI4AAAAAXRSTlMmkutdmwAAABBJREFUKM9jGAWjYBQMKwAAA9QAAQWBn6cAAAAASUVORK5CYII=\" alt=\"\" title=\"ETL and MLOps Infrastructure for Blockchain Analytics\" data-type=\"image_tag\" data-img-url=\"https://insights.blackcoffer.com/wp-content/uploads/2022/09/post_15-1-100x70.jpg\"  width=\"100\" height=\"70\" /></a></div>\r\n",
      "        <div class=\"item-details\">\r\n",
      "            <h3 class=\"entry-title td-module-title\"><a href=\"https://insights.blackcoffer.com/etl-and-mlops-infrastructure-for-blockchain-analytics/\"  rel=\"bookmark\" title=\"ETL and MLOps Infrastructure for Blockchain Analytics\">ETL and MLOps Infrastructure for Blockchain Analytics</a></h3>            <div class=\"td-module-meta-info\">\r\n",
      "                                                <span class=\"td-post-date\"><time class=\"entry-date updated td-module-date\" datetime=\"2022-09-16T00:10:24+05:30\" >September 16, 2022</time></span>                            </div>\r\n",
      "        </div>\r\n",
      "\r\n",
      "        </div>\r\n",
      "\r\n",
      "        \n",
      "\t</div> <!-- ./td-block-span12 -->\n",
      "\n",
      "\t<div class=\"td-block-span12\">\n",
      "\r\n",
      "        <div class=\"td_module_6 td_module_wrap td-animation-stack\">\r\n",
      "\r\n",
      "        <div class=\"td-module-thumb\"><a href=\"https://insights.blackcoffer.com/on-page-seo/\"  rel=\"bookmark\" class=\"td-image-wrap \" title=\"On-Page SEO\" ><img class=\"entry-thumb\" src=\"data:image/png;base64,iVBORw0KGgoAAAANSUhEUgAAAGQAAABGAQMAAAAASKMqAAAAA1BMVEWurq51dlI4AAAAAXRSTlMmkutdmwAAABBJREFUKM9jGAWjYBQMKwAAA9QAAQWBn6cAAAAASUVORK5CYII=\" alt=\"\" title=\"On-Page SEO\" data-type=\"image_tag\" data-img-url=\"https://insights.blackcoffer.com/wp-content/uploads/2020/09/workof-100x70.jpg\"  width=\"100\" height=\"70\" /></a></div>\r\n",
      "        <div class=\"item-details\">\r\n",
      "            <h3 class=\"entry-title td-module-title\"><a href=\"https://insights.blackcoffer.com/on-page-seo/\"  rel=\"bookmark\" title=\"On-Page SEO\">On-Page SEO</a></h3>            <div class=\"td-module-meta-info\">\r\n",
      "                                                <span class=\"td-post-date\"><time class=\"entry-date updated td-module-date\" datetime=\"2020-09-19T19:59:30+05:30\" >September 19, 2020</time></span>                            </div>\r\n",
      "        </div>\r\n",
      "\r\n",
      "        </div>\r\n",
      "\r\n",
      "        \n",
      "\t</div> <!-- ./td-block-span12 -->\n",
      "\n",
      "\t<div class=\"td-block-span12\">\n",
      "\r\n",
      "        <div class=\"td_module_6 td_module_wrap td-animation-stack\">\r\n",
      "\r\n",
      "        <div class=\"td-module-thumb\"><a href=\"https://insights.blackcoffer.com/iot-ai-ml-to-detect-fire-and-smoke/\"  rel=\"bookmark\" class=\"td-image-wrap \" title=\"IoT, AI, ML to Detect Fire and Smoke\" ><img class=\"entry-thumb\" src=\"data:image/png;base64,iVBORw0KGgoAAAANSUhEUgAAAGQAAABGAQMAAAAASKMqAAAAA1BMVEWurq51dlI4AAAAAXRSTlMmkutdmwAAABBJREFUKM9jGAWjYBQMKwAAA9QAAQWBn6cAAAAASUVORK5CYII=\" alt=\"IoT, AI, ML to Detect Fire and Smoke\" title=\"IoT, AI, ML to Detect Fire and Smoke\" data-type=\"image_tag\" data-img-url=\"https://insights.blackcoffer.com/wp-content/uploads/2020/06/banner-img-1-1920x860-1-100x70.jpg\"  width=\"100\" height=\"70\" /></a></div>\r\n",
      "        <div class=\"item-details\">\r\n",
      "            <h3 class=\"entry-title td-module-title\"><a href=\"https://insights.blackcoffer.com/iot-ai-ml-to-detect-fire-and-smoke/\"  rel=\"bookmark\" title=\"IoT, AI, ML to Detect Fire and Smoke\">IoT, AI, ML to Detect Fire and Smoke</a></h3>            <div class=\"td-module-meta-info\">\r\n",
      "                                                <span class=\"td-post-date\"><time class=\"entry-date updated td-module-date\" datetime=\"2020-06-17T23:15:16+05:30\" >June 17, 2020</time></span>                            </div>\r\n",
      "        </div>\r\n",
      "\r\n",
      "        </div>\r\n",
      "\r\n",
      "        \n",
      "\t</div> <!-- ./td-block-span12 -->\n",
      "\n",
      "\t<div class=\"td-block-span12\">\n",
      "\r\n",
      "        <div class=\"td_module_6 td_module_wrap td-animation-stack\">\r\n",
      "\r\n",
      "        <div class=\"td-module-thumb\"><a href=\"https://insights.blackcoffer.com/what-are-the-challenges-and-acceptance-of-e-learning-during-the-covid-19-for-students-and-teachers/\"  rel=\"bookmark\" class=\"td-image-wrap \" title=\"What are the challenges, and acceptance of e-learning during the COVID-19 for students and teachers?\" ><img class=\"entry-thumb\" src=\"data:image/png;base64,iVBORw0KGgoAAAANSUhEUgAAAGQAAABGAQMAAAAASKMqAAAAA1BMVEWurq51dlI4AAAAAXRSTlMmkutdmwAAABBJREFUKM9jGAWjYBQMKwAAA9QAAQWBn6cAAAAASUVORK5CYII=\" alt=\"\" title=\"What are the challenges, and acceptance of e-learning during the COVID-19 for students and teachers?\" data-type=\"image_tag\" data-img-url=\"https://insights.blackcoffer.com/wp-content/uploads/2021/12/girl-study-100x70.jpg\"  width=\"100\" height=\"70\" /></a></div>\r\n",
      "        <div class=\"item-details\">\r\n",
      "            <h3 class=\"entry-title td-module-title\"><a href=\"https://insights.blackcoffer.com/what-are-the-challenges-and-acceptance-of-e-learning-during-the-covid-19-for-students-and-teachers/\"  rel=\"bookmark\" title=\"What are the challenges, and acceptance of e-learning during the COVID-19 for students and teachers?\">What are the challenges, and acceptance of e-learning during the COVID-19...</a></h3>            <div class=\"td-module-meta-info\">\r\n",
      "                                                <span class=\"td-post-date\"><time class=\"entry-date updated td-module-date\" datetime=\"2021-12-07T18:34:14+05:30\" >December 7, 2021</time></span>                            </div>\r\n",
      "        </div>\r\n",
      "\r\n",
      "        </div>\r\n",
      "\r\n",
      "        \n",
      "\t</div> <!-- ./td-block-span12 --></div><div class=\"td-load-more-wrap\"><a href=\"#\" class=\"td_ajax_load_more td_ajax_load_more_js\"  aria-label=\"load_more\" id=\"next-page-tdi_115\" data-td_block_id=\"tdi_115\">Load more<i class=\"td-load-more-icon td-icon-font td-icon-menu-right\"></i></a></div></div> <!-- ./block --><div class=\"td_block_wrap td_block_15 td_block_widget tdi_116 td_with_ajax_pagination td-pb-border-top td_block_template_1 td-column-1 td_block_padding\"  data-td-block-uid=\"tdi_116\" ><script>var block_tdi_116 = new tdBlock();\n",
      "block_tdi_116.id = \"tdi_116\";\n",
      "block_tdi_116.atts = '{\"custom_title\":\"RECOMMENDED INSIGHTS\",\"custom_url\":\"\",\"block_template_id\":\"\",\"header_color\":\"#\",\"header_text_color\":\"#\",\"accent_text_color\":\"#\",\"mx4_tl\":\"\",\"limit\":\"4\",\"offset\":\"\",\"el_class\":\"\",\"post_ids\":\"-5021\",\"category_id\":\"\",\"category_ids\":\"\",\"tag_slug\":\"\",\"autors_id\":\"\",\"installed_post_types\":\"\",\"sort\":\"random_posts\",\"td_ajax_filter_type\":\"\",\"td_ajax_filter_ids\":\"\",\"td_filter_default_txt\":\"All\",\"td_ajax_preloading\":\"\",\"ajax_pagination\":\"next_prev\",\"ajax_pagination_infinite_stop\":\"\",\"class\":\"td_block_widget tdi_116\",\"block_type\":\"td_block_15\",\"separator\":\"\",\"taxonomies\":\"\",\"in_all_terms\":\"\",\"include_cf_posts\":\"\",\"exclude_cf_posts\":\"\",\"linked_posts\":\"\",\"favourite_only\":\"\",\"open_in_new_window\":\"\",\"show_modified_date\":\"\",\"time_ago\":\"\",\"time_ago_add_txt\":\"ago\",\"time_ago_txt_pos\":\"\",\"f_header_font_header\":\"\",\"f_header_font_title\":\"Block header\",\"f_header_font_settings\":\"\",\"f_header_font_family\":\"\",\"f_header_font_size\":\"\",\"f_header_font_line_height\":\"\",\"f_header_font_style\":\"\",\"f_header_font_weight\":\"\",\"f_header_font_transform\":\"\",\"f_header_font_spacing\":\"\",\"f_header_\":\"\",\"f_ajax_font_title\":\"Ajax categories\",\"f_ajax_font_settings\":\"\",\"f_ajax_font_family\":\"\",\"f_ajax_font_size\":\"\",\"f_ajax_font_line_height\":\"\",\"f_ajax_font_style\":\"\",\"f_ajax_font_weight\":\"\",\"f_ajax_font_transform\":\"\",\"f_ajax_font_spacing\":\"\",\"f_ajax_\":\"\",\"f_more_font_title\":\"Load more button\",\"f_more_font_settings\":\"\",\"f_more_font_family\":\"\",\"f_more_font_size\":\"\",\"f_more_font_line_height\":\"\",\"f_more_font_style\":\"\",\"f_more_font_weight\":\"\",\"f_more_font_transform\":\"\",\"f_more_font_spacing\":\"\",\"f_more_\":\"\",\"mx4f_title_font_header\":\"\",\"mx4f_title_font_title\":\"Article title\",\"mx4f_title_font_settings\":\"\",\"mx4f_title_font_family\":\"\",\"mx4f_title_font_size\":\"\",\"mx4f_title_font_line_height\":\"\",\"mx4f_title_font_style\":\"\",\"mx4f_title_font_weight\":\"\",\"mx4f_title_font_transform\":\"\",\"mx4f_title_font_spacing\":\"\",\"mx4f_title_\":\"\",\"mx4f_cat_font_title\":\"Article category tag\",\"mx4f_cat_font_settings\":\"\",\"mx4f_cat_font_family\":\"\",\"mx4f_cat_font_size\":\"\",\"mx4f_cat_font_line_height\":\"\",\"mx4f_cat_font_style\":\"\",\"mx4f_cat_font_weight\":\"\",\"mx4f_cat_font_transform\":\"\",\"mx4f_cat_font_spacing\":\"\",\"mx4f_cat_\":\"\",\"ajax_pagination_next_prev_swipe\":\"\",\"css\":\"\",\"tdc_css\":\"\",\"td_column_number\":1,\"color_preset\":\"\",\"border_top\":\"\",\"tdc_css_class\":\"tdi_116\",\"tdc_css_class_style\":\"tdi_116_rand_style\"}';\n",
      "block_tdi_116.td_column_number = \"1\";\n",
      "block_tdi_116.block_type = \"td_block_15\";\n",
      "block_tdi_116.post_count = \"4\";\n",
      "block_tdi_116.found_posts = \"471\";\n",
      "block_tdi_116.header_color = \"#\";\n",
      "block_tdi_116.ajax_pagination_infinite_stop = \"\";\n",
      "block_tdi_116.max_num_pages = \"118\";\n",
      "tdBlocksArray.push(block_tdi_116);\n",
      "</script><div class=\"td-block-title-wrap\"><h4 class=\"block-title td-block-title\"><span class=\"td-pulldown-size\">RECOMMENDED INSIGHTS</span></h4></div><div id=tdi_116 class=\"td_block_inner td-column-1\"><div class=\"td-cust-row\">\n",
      "\n",
      "\t<div class=\"td-block-span12\">\n",
      "\r\n",
      "        <div class=\"td_module_mx4 td_module_wrap td-animation-stack\">\r\n",
      "            <div class=\"td-module-image\">\r\n",
      "                <div class=\"td-module-thumb\"><a href=\"https://insights.blackcoffer.com/seo-tool-ai-and-data-driven/\"  rel=\"bookmark\" class=\"td-image-wrap \" title=\"SEO Tool &#8211; AI and Data Driven\" ><img class=\"entry-thumb\" src=\"data:image/png;base64,iVBORw0KGgoAAAANSUhEUgAAANoAAACWAQMAAACCSQSPAAAAA1BMVEWurq51dlI4AAAAAXRSTlMmkutdmwAAABpJREFUWMPtwQENAAAAwiD7p7bHBwwAAAAg7RD+AAGXD7BoAAAAAElFTkSuQmCC\" alt=\"SEO Tool - AI and Data Driven\" title=\"SEO Tool &#8211; AI and Data Driven\" data-type=\"image_tag\" data-img-url=\"https://insights.blackcoffer.com/wp-content/uploads/2021/03/1-7-218x150.png\"  width=\"218\" height=\"150\" /></a></div>                            </div>\r\n",
      "\r\n",
      "            <h3 class=\"entry-title td-module-title\"><a href=\"https://insights.blackcoffer.com/seo-tool-ai-and-data-driven/\"  rel=\"bookmark\" title=\"SEO Tool &#8211; AI and Data Driven\">SEO Tool &#8211; AI and Data Driven</a></h3>\r\n",
      "        </div>\r\n",
      "\r\n",
      "        \n",
      "\t</div> <!-- ./td-block-span12 -->\n",
      "\n",
      "\t<div class=\"td-block-span12\">\n",
      "\r\n",
      "        <div class=\"td_module_mx4 td_module_wrap td-animation-stack\">\r\n",
      "            <div class=\"td-module-image\">\r\n",
      "                <div class=\"td-module-thumb\"><a href=\"https://insights.blackcoffer.com/a-web-based-dashboard-for-the-filtered-data-retrieval-of-land-records/\"  rel=\"bookmark\" class=\"td-image-wrap \" title=\"A web-based dashboard for the filtered data retrieval of land records\" ><img class=\"entry-thumb\" src=\"data:image/png;base64,iVBORw0KGgoAAAANSUhEUgAAANoAAACWAQMAAACCSQSPAAAAA1BMVEWurq51dlI4AAAAAXRSTlMmkutdmwAAABpJREFUWMPtwQENAAAAwiD7p7bHBwwAAAAg7RD+AAGXD7BoAAAAAElFTkSuQmCC\" alt=\"\" title=\"A web-based dashboard for the filtered data retrieval of land records\" data-type=\"image_tag\" data-img-url=\"https://insights.blackcoffer.com/wp-content/uploads/2022/09/post_05-1-218x150.jpg\"  width=\"218\" height=\"150\" /></a></div>                            </div>\r\n",
      "\r\n",
      "            <h3 class=\"entry-title td-module-title\"><a href=\"https://insights.blackcoffer.com/a-web-based-dashboard-for-the-filtered-data-retrieval-of-land-records/\"  rel=\"bookmark\" title=\"A web-based dashboard for the filtered data retrieval of land records\">A web-based dashboard for the filtered data retrieval of land records</a></h3>\r\n",
      "        </div>\r\n",
      "\r\n",
      "        \n",
      "\t</div> <!-- ./td-block-span12 --></div><div class=\"td-cust-row\">\n",
      "\n",
      "\t<div class=\"td-block-span12\">\n",
      "\r\n",
      "        <div class=\"td_module_mx4 td_module_wrap td-animation-stack\">\r\n",
      "            <div class=\"td-module-image\">\r\n",
      "                <div class=\"td-module-thumb\"><a href=\"https://insights.blackcoffer.com/datawarehouse-and-recommendations-engine-for-airbnb/\"  rel=\"bookmark\" class=\"td-image-wrap \" title=\"Datawarehouse, and Recommendations Engine for AirBNB\" ><img class=\"entry-thumb\" src=\"data:image/png;base64,iVBORw0KGgoAAAANSUhEUgAAANoAAACWAQMAAACCSQSPAAAAA1BMVEWurq51dlI4AAAAAXRSTlMmkutdmwAAABpJREFUWMPtwQENAAAAwiD7p7bHBwwAAAAg7RD+AAGXD7BoAAAAAElFTkSuQmCC\" alt=\"\" title=\"Datawarehouse, and Recommendations Engine for AirBNB\" data-type=\"image_tag\" data-img-url=\"https://insights.blackcoffer.com/wp-content/uploads/2021/09/slide-4.3-218x150.jpg\"  width=\"218\" height=\"150\" /></a></div>                            </div>\r\n",
      "\r\n",
      "            <h3 class=\"entry-title td-module-title\"><a href=\"https://insights.blackcoffer.com/datawarehouse-and-recommendations-engine-for-airbnb/\"  rel=\"bookmark\" title=\"Datawarehouse, and Recommendations Engine for AirBNB\">Datawarehouse, and Recommendations Engine for AirBNB</a></h3>\r\n",
      "        </div>\r\n",
      "\r\n",
      "        \n",
      "\t</div> <!-- ./td-block-span12 -->\n",
      "\n",
      "\t<div class=\"td-block-span12\">\n",
      "\r\n",
      "        <div class=\"td_module_mx4 td_module_wrap td-animation-stack\">\r\n",
      "            <div class=\"td-module-image\">\r\n",
      "                <div class=\"td-module-thumb\"><a href=\"https://insights.blackcoffer.com/credit-scoring-model/\"  rel=\"bookmark\" class=\"td-image-wrap \" title=\"Credit Scoring model\" ><img class=\"entry-thumb\" src=\"data:image/png;base64,iVBORw0KGgoAAAANSUhEUgAAANoAAACWAQMAAACCSQSPAAAAA1BMVEWurq51dlI4AAAAAXRSTlMmkutdmwAAABpJREFUWMPtwQENAAAAwiD7p7bHBwwAAAAg7RD+AAGXD7BoAAAAAElFTkSuQmCC\" alt=\"Credit Scoring model\" title=\"Credit Scoring model\" data-type=\"image_tag\" data-img-url=\"https://insights.blackcoffer.com/wp-content/uploads/2019/01/Credti-Scoring-218x150.jpg\"  width=\"218\" height=\"150\" /></a></div>                            </div>\r\n",
      "\r\n",
      "            <h3 class=\"entry-title td-module-title\"><a href=\"https://insights.blackcoffer.com/credit-scoring-model/\"  rel=\"bookmark\" title=\"Credit Scoring model\">Credit Scoring model</a></h3>\r\n",
      "        </div>\r\n",
      "\r\n",
      "        \n",
      "\t</div> <!-- ./td-block-span12 --></div></div><div class=\"td-next-prev-wrap\"><a href=\"#\" class=\"td-ajax-prev-page ajax-page-disabled\" aria-label=\"prev-page\" id=\"prev-page-tdi_116\" data-td_block_id=\"tdi_116\"><i class=\"td-next-prev-icon td-icon-font td-icon-menu-left\"></i></a><a href=\"#\"  class=\"td-ajax-next-page\" aria-label=\"next-page\" id=\"next-page-tdi_116\" data-td_block_id=\"tdi_116\"><i class=\"td-next-prev-icon td-icon-font td-icon-menu-right\"></i></a></div></div> <!-- ./block --><div class=\"clearfix\"></div>                            </div>\r\n",
      "                        </div>\r\n",
      "                            </div> <!-- /.td-pb-row -->\r\n",
      "    </div> <!-- /.td-container -->\r\n",
      "</article> <!-- /.post -->\r\n",
      "\r\n",
      "<!-- Instagram -->\r\n",
      "    <div class=\"td-footer-template-wrap\" style=\"position: relative\">\r\n",
      "                <div class=\"td-footer-wrap \">\r\n",
      "            <div id=\"tdi_117\" class=\"tdc-zone\"><div class=\"tdc_zone tdi_118  wpb_row td-pb-row\"  >\n",
      "<style scoped>\n",
      "\n",
      "/* custom css */\n",
      ".tdi_118{\r\n",
      "                    min-height: 0;\r\n",
      "                }\n",
      "</style><div id=\"tdi_119\" class=\"tdc-row stretch_row\"><div class=\"vc_row tdi_120  wpb_row td-pb-row tdc-element-style\" >\n",
      "<style scoped>\n",
      "\n",
      "/* custom css */\n",
      ".tdi_120,\r\n",
      "                .tdi_120 .tdc-columns{\r\n",
      "                    min-height: 0;\r\n",
      "                }.tdi_120,\r\n",
      "\t\t\t\t.tdi_120 .tdc-columns{\r\n",
      "\t\t\t\t    display: block;\r\n",
      "\t\t\t\t}.tdi_120 .tdc-columns{\r\n",
      "\t\t\t\t    width: 100%;\r\n",
      "\t\t\t\t}\n",
      "/* inline tdc_css att */\n",
      "\n",
      ".tdi_120{\n",
      "padding-top:54px !important;\n",
      "padding-bottom:20px !important;\n",
      "position:relative;\n",
      "}\n",
      "\n",
      ".tdi_120 .td_block_wrap{ text-align:left }\n",
      "\n",
      "/* phone */\n",
      "@media (max-width: 767px)\n",
      "{\n",
      ".tdi_120{\n",
      "padding-top:40px !important;\n",
      "}\n",
      "}\n",
      "\n",
      "/* portrait */\n",
      "@media (min-width: 768px) and (max-width: 1018px)\n",
      "{\n",
      ".tdi_120{\n",
      "padding-top:44px !important;\n",
      "}\n",
      "}\n",
      "\n",
      "</style>\n",
      "<div class=\"tdi_119_rand_style td-element-style\" ><div class=\"td-element-style-before\"><style>\n",
      ".tdi_119_rand_style > .td-element-style-before {\n",
      "content:'' !important;\n",
      "width:100% !important;\n",
      "height:100% !important;\n",
      "position:absolute !important;\n",
      "top:0 !important;\n",
      "left:0 !important;\n",
      "display:block !important;\n",
      "z-index:0 !important;\n",
      "background-image:url(\"https://insights.blackcoffer.com/wp-content/uploads/2023/03/footer_bg.jpg\") !important;\n",
      "opacity:0.1 !important;\n",
      "background-size:cover !important;\n",
      "background-position:center top !important;\n",
      "}\n",
      "</style></div><style>\n",
      ".tdi_119_rand_style{\n",
      "background-color:#111111 !important;\n",
      "}\n",
      " </style></div><div class=\"vc_column tdi_122  wpb_column vc_column_container tdc-column td-pb-span12\">\n",
      "<style scoped>\n",
      "\n",
      "/* custom css */\n",
      ".tdi_122{\r\n",
      "                    vertical-align: baseline;\r\n",
      "                }.tdi_122 > .wpb_wrapper,\r\n",
      "\t\t\t\t.tdi_122 > .wpb_wrapper > .tdc-elements{\r\n",
      "\t\t\t\t    display: block;\r\n",
      "\t\t\t\t}.tdi_122 > .wpb_wrapper > .tdc-elements{\r\n",
      "\t\t\t\t    width: 100%;\r\n",
      "\t\t\t\t}.tdi_122 > .wpb_wrapper > .vc_row_inner{\r\n",
      "\t\t\t\t    width: auto;\r\n",
      "\t\t\t\t}.tdi_122 > .wpb_wrapper{\r\n",
      "\t\t\t\t    width: auto;\r\n",
      "\t\t\t\t    height: auto;\r\n",
      "\t\t\t\t}\n",
      "</style><div class=\"wpb_wrapper\" ><div class=\"vc_row_inner tdi_124  vc_row vc_inner wpb_row td-pb-row\" >\n",
      "<style scoped>\n",
      "\n",
      "/* custom css */\n",
      ".tdi_124{\r\n",
      "                    position: relative !important;\r\n",
      "                    top: 0;\r\n",
      "                    transform: none;\r\n",
      "                    -webkit-transform: none;\r\n",
      "                }.tdi_124,\r\n",
      "\t\t\t\t.tdi_124 .tdc-inner-columns{\r\n",
      "\t\t\t\t    display: block;\r\n",
      "\t\t\t\t}.tdi_124 .tdc-inner-columns{\r\n",
      "\t\t\t\t    width: 100%;\r\n",
      "\t\t\t\t}\n",
      "</style><div class=\"vc_column_inner tdi_126  wpb_column vc_column_container tdc-inner-column td-pb-span4\">\n",
      "<style scoped>\n",
      "\n",
      "/* custom css */\n",
      ".tdi_126{\r\n",
      "                    vertical-align: baseline;\r\n",
      "                }.tdi_126 .vc_column-inner > .wpb_wrapper,\r\n",
      "\t\t\t\t.tdi_126 .vc_column-inner > .wpb_wrapper .tdc-elements{\r\n",
      "\t\t\t\t    display: block;\r\n",
      "\t\t\t\t}.tdi_126 .vc_column-inner > .wpb_wrapper .tdc-elements{\r\n",
      "\t\t\t\t    width: 100%;\r\n",
      "\t\t\t\t}\n",
      "</style><div class=\"vc_column-inner\"><div class=\"wpb_wrapper\" ><div class=\"td_block_wrap td_flex_block_1 tdi_127 td-pb-border-top td_block_template_2 td_flex_block\"  data-td-block-uid=\"tdi_127\" >\n",
      "<style>\n",
      ".td_block_template_2.widget > ul > li {\r\n",
      "                margin-left: 0 !important;\r\n",
      "            }\r\n",
      "            \r\n",
      "            .td_block_template_2 .td-block-title {\r\n",
      "                font-size: 17px;\r\n",
      "                font-weight: 500;\r\n",
      "                margin-top: 0;\r\n",
      "                margin-bottom: 16px;\r\n",
      "                line-height: 31px;\r\n",
      "                text-align: left;\r\n",
      "            }\r\n",
      "            .td_block_template_2 .td-block-title > * {\r\n",
      "                color: #000;\r\n",
      "            }\r\n",
      "            .td_block_template_2 .td-related-title a {\r\n",
      "                padding: 0 20px 0 0;\r\n",
      "            }\r\n",
      "            @media (max-width: 767px) {\r\n",
      "                .td_block_template_2 .td-related-title a {\r\n",
      "                    font-size: 15px;\r\n",
      "                }\r\n",
      "            }\r\n",
      "            .td_block_template_2 .td-related-title .td-cur-simple-item {\r\n",
      "                color: #4db2ec;\r\n",
      "            }\r\n",
      "            \r\n",
      "            \r\n",
      "            \r\n",
      "            \r\n",
      "            .td-theme-wrap .tdi_127 .td-block-title > *,\r\n",
      "            .td-theme-wrap .tdi_127 .td-pulldown-filter-link:hover,\r\n",
      "            .td-theme-wrap .tdi_127 .td-subcat-item a:hover,\r\n",
      "            .td-theme-wrap .tdi_127 .td-subcat-item .td-cur-simple-item,\r\n",
      "            .td-theme-wrap .tdi_127 .td-subcat-dropdown:hover .td-subcat-more span,\r\n",
      "            .td-theme-wrap .tdi_127 .td-subcat-dropdown:hover .td-subcat-more i {\r\n",
      "                color: #ffffff;\r\n",
      "            }\r\n",
      "\r\n",
      "            .td-theme-wrap .tdi_127 .td-subcat-dropdown ul:after {\r\n",
      "                background-color: #ffffff;\r\n",
      "            }\r\n",
      "            \r\n",
      "            \r\n",
      "            .td-theme-wrap .tdi_127 .td_module_wrap:hover .entry-title a,\r\n",
      "            .td-theme-wrap .tdi_127 .td_quote_on_blocks,\r\n",
      "            .td-theme-wrap .tdi_127 .td-opacity-cat .td-post-category:hover,\r\n",
      "            .td-theme-wrap .tdi_127 .td-opacity-read .td-read-more a:hover,\r\n",
      "            .td-theme-wrap .tdi_127 .td-opacity-author .td-post-author-name a:hover,\r\n",
      "            .td-theme-wrap .tdi_127 .td-instagram-user a {\r\n",
      "                color: #ffffff;\r\n",
      "            }\r\n",
      "\r\n",
      "            .td-theme-wrap .tdi_127 .td-next-prev-wrap a:hover,\r\n",
      "            .td-theme-wrap .tdi_127 .td-load-more-wrap a:hover {\r\n",
      "                background-color: #ffffff;\r\n",
      "                border-color: #ffffff;\r\n",
      "            }\r\n",
      "\r\n",
      "            .td-theme-wrap .tdi_127 .td-read-more a,\r\n",
      "            .td-theme-wrap .tdi_127 .td-weather-information:before,\r\n",
      "            .td-theme-wrap .tdi_127 .td-weather-week:before,\r\n",
      "            .td-theme-wrap .tdi_127 .td-exchange-header:before,\r\n",
      "            .td-theme-wrap .td-footer-wrapper .tdi_127 .td-post-category,\r\n",
      "            .td-theme-wrap .tdi_127 .td-post-category:hover {\r\n",
      "                background-color: #ffffff;\r\n",
      "            }\n",
      "/* inline tdc_css att */\n",
      "\n",
      "/* phone */\n",
      "@media (max-width: 767px)\n",
      "{\n",
      ".tdi_127{\n",
      "margin-bottom:40px !important;\n",
      "}\n",
      "}\n",
      "\n",
      "/* portrait */\n",
      "@media (min-width: 768px) and (max-width: 1018px)\n",
      "{\n",
      ".tdi_127{\n",
      "margin-bottom:20px !important;\n",
      "}\n",
      "}\n",
      "\n",
      "</style>\n",
      "<style>\n",
      "/* custom css */\n",
      ".tdi_127 .td-image-wrap{\r\n",
      "\t\t\t\t\tpadding-bottom: 70%;\r\n",
      "\t\t\t\t}.tdi_127 .entry-thumb{\r\n",
      "\t\t\t\t\tbackground-position: center 50%;\r\n",
      "\t\t\t\t}.tdi_127 .td-image-container{\r\n",
      "\t\t\t\t \tflex: 0 0 30%;\r\n",
      "\t\t\t\t \twidth: 30%;\r\n",
      "\t\t\t    \r\n",
      "                \tdisplay: block; order: 0;\r\n",
      "                }.ie10 .tdi_127 .td-image-container,\r\n",
      "\t\t\t\t.ie11 .tdi_127 .td-image-container{\r\n",
      "\t\t\t\t \tflex: 0 0 auto;\r\n",
      "\t\t\t    }.tdi_127 .td-module-container{\r\n",
      "\t\t\t\t\tflex-direction: row;\r\n",
      "\t\t\t\t\r\n",
      "\t\t\t\t    border-color: #eaeaea !important;\r\n",
      "\t\t\t\t}.ie10 .tdi_127 .td-module-meta-info,\r\n",
      "\t\t\t\t.ie11 .tdi_127 .td-module-meta-info{\r\n",
      "\t\t\t\t \tflex: 1;\r\n",
      "\t\t\t    }body .tdi_127 .td-favorite{\r\n",
      "                    font-size: 36px;\r\n",
      "                \r\n",
      "                    box-shadow:  1px 1px 4px 0px rgba(0, 0, 0, 0.2);\r\n",
      "                }.tdi_127 .td-module-meta-info{\r\n",
      "\t\t\t\t\tpadding: 0 0 0 16px;\r\n",
      "\t\t\t\t\r\n",
      "\t\t\t\t\tborder-color: #eaeaea;\r\n",
      "\t\t\t\t}.tdi_127 .td_module_wrap{\r\n",
      "\t\t\t\t\tpadding-left: 20px;\r\n",
      "\t\t\t\t\tpadding-right: 20px;\r\n",
      "\t\t\t\t\r\n",
      "\t\t\t\t\tpadding-bottom: 13px;\r\n",
      "\t\t\t\t\tmargin-bottom: 13px;\r\n",
      "\t\t\t\t}.tdi_127 .td_block_inner{\r\n",
      "\t\t\t\t\tmargin-left: -20px;\r\n",
      "\t\t\t\t\tmargin-right: -20px;\r\n",
      "\t\t\t\t}.tdi_127 .td-module-container:before{\r\n",
      "\t\t\t\t\tbottom: -13px;\r\n",
      "\t\t\t\t\r\n",
      "\t\t\t\t\tborder-color: #eaeaea;\r\n",
      "\t\t\t\t}.tdi_127 .td-video-play-ico{\r\n",
      "\t\t\t\t\twidth: 24px;\r\n",
      "\t\t\t\t\theight: 24px;\r\n",
      "\t\t\t\t\tfont-size: 24px;\r\n",
      "\t\t\t\t}.tdi_127 .td-post-vid-time{\r\n",
      "\t\t\t\t\tdisplay: block;\r\n",
      "\t\t\t\t}.tdi_127 .td-post-category:not(.td-post-extra-category){\r\n",
      "\t\t\t\t\tdisplay: none;\r\n",
      "\t\t\t\t}.tdi_127 .td-author-photo .avatar{\r\n",
      "\t\t\t\t    width: 20px;\r\n",
      "\t\t\t\t    height: 20px;\r\n",
      "\t\t\t\t\r\n",
      "\t\t\t\t    margin-right: 6px;\r\n",
      "\t\t\t\t\r\n",
      "\t\t\t\t    border-radius: 50%;\r\n",
      "\t\t\t\t}.tdi_127 .td-excerpt{\r\n",
      "\t\t\t\t\tdisplay: none;\r\n",
      "\t\t\t\t\r\n",
      "\t\t\t\t\tcolumn-count: 1;\r\n",
      "\t\t\t\t\r\n",
      "\t\t\t\t\tcolumn-gap: 48px;\r\n",
      "\t\t\t\t}.tdi_127 .td-audio-player{\r\n",
      "\t\t\t\t\topacity: 1;\r\n",
      "\t\t\t\t\tvisibility: visible;\r\n",
      "\t\t\t\t\theight: auto;\r\n",
      "\t\t\t\t\r\n",
      "\t\t\t\t\tfont-size: 13px;\r\n",
      "\t\t\t\t}.tdi_127 .td-read-more{\r\n",
      "\t\t\t\t\tdisplay: none;\r\n",
      "\t\t\t\t}.tdi_127 .td-author-date{\r\n",
      "\t\t\t\t\tdisplay: inline;\r\n",
      "\t\t\t\t}.tdi_127 .td-post-author-name{\r\n",
      "\t\t\t\t\tdisplay: none;\r\n",
      "\t\t\t\t}.tdi_127 .entry-review-stars{\r\n",
      "\t\t\t\t\tdisplay: inline-block;\r\n",
      "\t\t\t\t\r\n",
      "\t\t\t\t\tcolor: #ffffff;\r\n",
      "\t\t\t\t}.tdi_127 .td-icon-star,\r\n",
      "                .tdi_127 .td-icon-star-empty,\r\n",
      "                .tdi_127 .td-icon-star-half{\r\n",
      "\t\t\t\t\tfont-size: 15px;\r\n",
      "\t\t\t\t}.tdi_127 .td-module-comments{\r\n",
      "\t\t\t\t\tdisplay: none;\r\n",
      "\t\t\t\t}.tdi_127 .td_module_wrap:nth-last-child(1){\r\n",
      "\t\t\t\t\tmargin-bottom: 0;\r\n",
      "\t\t\t\t\tpadding-bottom: 0;\r\n",
      "\t\t\t\t}.tdi_127 .td_module_wrap:nth-last-child(1) .td-module-container:before{\r\n",
      "\t\t\t\t\tdisplay: none;\r\n",
      "\t\t\t\t}.tdi_127 .td-module-title a{\r\n",
      "\t\t\t\t\tcolor: #ffffff;\r\n",
      "\t\t\t\t}.tdi_127 .td_module_wrap:hover .td-module-title a{\r\n",
      "\t\t\t\t\tcolor: #4db2ec !important;\r\n",
      "\t\t\t\t}.tdi_127 .td-module-exclusive .td-module-title a:before{\r\n",
      "                    display: inline-block;\r\n",
      "                }.tdi_127 .td-block-title a,\r\n",
      "\t\t\t\t.tdi_127 .td-block-title span{\r\n",
      "\t\t\t\t\tfont-size:18px !important;\r\n",
      "\t\t\t\t}.tdi_127 .entry-title{\r\n",
      "\t\t\t\t\tfont-size:14px !important;line-height:1.4 !important;font-weight:500 !important;\r\n",
      "\t\t\t\t}html:not([class*='ie']) .tdi_127 .td-module-container:hover .entry-thumb:before{\r\n",
      "                    opacity: 0;\r\n",
      "                }\n",
      "\n",
      "/* landscape */\n",
      "@media (min-width: 1019px) and (max-width: 1140px){\n",
      ".tdi_127 .td_module_wrap{\r\n",
      "\t\t\t\t\tpadding-bottom: 13px;\r\n",
      "\t\t\t\t\tmargin-bottom: 13px;\r\n",
      "\t\t\t\t\r\n",
      "\t\t\t\t\tpadding-bottom: 13px !important;\r\n",
      "\t\t\t\t\tmargin-bottom: 13px !important;\r\n",
      "\t\t\t\t}.tdi_127 .td-module-container:before{\r\n",
      "\t\t\t\t\tbottom: -13px;\r\n",
      "\t\t\t\t}.tdi_127 .td_module_wrap:nth-last-child(1){\r\n",
      "\t\t\t\t\tmargin-bottom: 0 !important;\r\n",
      "\t\t\t\t\tpadding-bottom: 0 !important;\r\n",
      "\t\t\t\t}.tdi_127 .td_module_wrap .td-module-container:before{\r\n",
      "\t\t\t\t\tdisplay: block !important;\r\n",
      "\t\t\t\t}.tdi_127 .td_module_wrap:nth-last-child(1) .td-module-container:before{\r\n",
      "\t\t\t\t\tdisplay: none !important;\r\n",
      "\t\t\t\t}\n",
      "}\n",
      "\n",
      "/* portrait */\n",
      "@media (min-width: 768px) and (max-width: 1018px){\n",
      ".tdi_127 .td-module-meta-info{\r\n",
      "\t\t\t\t\tpadding: 0 0 0 13px;\r\n",
      "\t\t\t\t}.tdi_127 .td_module_wrap{\r\n",
      "\t\t\t\t\twidth: 100%;\r\n",
      "\t\t\t\t\tfloat: left;\r\n",
      "\t\t\t\t\r\n",
      "\t\t\t\t\tpadding-left: 10px;\r\n",
      "\t\t\t\t\tpadding-right: 10px;\r\n",
      "\t\t\t\t\r\n",
      "\t\t\t\t\tpadding-bottom: 10px;\r\n",
      "\t\t\t\t\tmargin-bottom: 10px;\r\n",
      "\t\t\t\t\r\n",
      "\t\t\t\t\tpadding-bottom: 10px !important;\r\n",
      "\t\t\t\t\tmargin-bottom: 10px !important;\r\n",
      "\t\t\t\t}.rtl .tdi_127 .td_module_wrap{\r\n",
      "\t\t\t\t\tfloat: right;\r\n",
      "\t\t\t\t}.tdi_127 .td_block_inner{\r\n",
      "\t\t\t\t\tmargin-left: -10px;\r\n",
      "\t\t\t\t\tmargin-right: -10px;\r\n",
      "\t\t\t\t}.tdi_127 .td-module-container:before{\r\n",
      "\t\t\t\t\tbottom: -10px;\r\n",
      "\t\t\t\t}.tdi_127 .td_module_wrap:nth-last-child(1){\r\n",
      "\t\t\t\t\tmargin-bottom: 0 !important;\r\n",
      "\t\t\t\t\tpadding-bottom: 0 !important;\r\n",
      "\t\t\t\t}.tdi_127 .td_module_wrap .td-module-container:before{\r\n",
      "\t\t\t\t\tdisplay: block !important;\r\n",
      "\t\t\t\t}.tdi_127 .td_module_wrap:nth-last-child(1) .td-module-container:before{\r\n",
      "\t\t\t\t\tdisplay: none !important;\r\n",
      "\t\t\t\t}.tdi_127 .entry-title{\r\n",
      "\t\t\t\t\tfont-size:12px !important;\r\n",
      "\t\t\t\t}\n",
      "}\n",
      "\n",
      "/* phone */\n",
      "@media (max-width: 767px){\n",
      ".tdi_127 .td_module_wrap{\r\n",
      "\t\t\t\t\twidth: 100%;\r\n",
      "\t\t\t\t\tfloat: left;\r\n",
      "\t\t\t\t\r\n",
      "\t\t\t\t\tpadding-bottom: 13px;\r\n",
      "\t\t\t\t\tmargin-bottom: 13px;\r\n",
      "\t\t\t\t\r\n",
      "\t\t\t\t\tpadding-bottom: 13px !important;\r\n",
      "\t\t\t\t\tmargin-bottom: 13px !important;\r\n",
      "\t\t\t\t}.rtl .tdi_127 .td_module_wrap{\r\n",
      "\t\t\t\t\tfloat: right;\r\n",
      "\t\t\t\t}.tdi_127 .td-module-container:before{\r\n",
      "\t\t\t\t\tbottom: -13px;\r\n",
      "\t\t\t\t}.tdi_127 .td_module_wrap:nth-last-child(1){\r\n",
      "\t\t\t\t\tmargin-bottom: 0 !important;\r\n",
      "\t\t\t\t\tpadding-bottom: 0 !important;\r\n",
      "\t\t\t\t}.tdi_127 .td_module_wrap .td-module-container:before{\r\n",
      "\t\t\t\t\tdisplay: block !important;\r\n",
      "\t\t\t\t}.tdi_127 .td_module_wrap:nth-last-child(1) .td-module-container:before{\r\n",
      "\t\t\t\t\tdisplay: none !important;\r\n",
      "\t\t\t\t}\n",
      "}\n",
      "</style><script>var block_tdi_127 = new tdBlock();\n",
      "block_tdi_127.id = \"tdi_127\";\n",
      "block_tdi_127.atts = '{\"modules_on_row\":\"eyJwb3J0cmFpdCI6IjEwMCUiLCJwaG9uZSI6IjEwMCUifQ==\",\"image_size\":\"td_218x150\",\"image_floated\":\"float_left\",\"image_width\":\"30\",\"image_height\":\"70\",\"show_btn\":\"none\",\"show_excerpt\":\"none\",\"show_com\":\"none\",\"show_author\":\"none\",\"show_cat\":\"none\",\"meta_padding\":\"eyJhbGwiOiIwIDAgMCAxNnB4IiwicG9ydHJhaXQiOiIwIDAgMCAxM3B4In0=\",\"f_title_font_size\":\"eyJhbGwiOiIxNCIsInBvcnRyYWl0IjoiMTIifQ==\",\"f_title_font_line_height\":\"1.4\",\"f_title_font_weight\":\"500\",\"all_modules_space\":\"eyJhbGwiOiIyNiIsInBvcnRyYWl0IjoiMjAiLCJwaG9uZSI6IjI2In0=\",\"category_id\":\"\",\"modules_gap\":\"eyJwb3J0cmFpdCI6IjIwIn0=\",\"show_date\":\"\",\"limit\":\"3\",\"custom_title\":\"LATEST INSIGHTS\",\"block_template_id\":\"td_block_template_2\",\"f_header_font_size\":\"18\",\"f_header_font_weight\":\"\",\"header_text_color\":\"#ffffff\",\"title_txt\":\"#ffffff\",\"sort\":\"\",\"title_txt_hover\":\"#4db2ec\",\"tdc_css\":\"eyJwaG9uZSI6eyJtYXJnaW4tYm90dG9tIjoiNDAiLCJkaXNwbGF5IjoiIn0sInBob25lX21heF93aWR0aCI6NzY3LCJwb3J0cmFpdCI6eyJtYXJnaW4tYm90dG9tIjoiMjAiLCJkaXNwbGF5IjoiIn0sInBvcnRyYWl0X21heF93aWR0aCI6MTAxOCwicG9ydHJhaXRfbWluX3dpZHRoIjo3Njh9\",\"rev_txt\":\"#ffffff\",\"post_ids\":\"-5021\",\"video_icon\":\"24\",\"block_type\":\"td_flex_block_1\",\"separator\":\"\",\"custom_url\":\"\",\"title_tag\":\"\",\"mc1_tl\":\"\",\"mc1_title_tag\":\"\",\"mc1_el\":\"\",\"taxonomies\":\"\",\"category_ids\":\"\",\"in_all_terms\":\"\",\"tag_slug\":\"\",\"autors_id\":\"\",\"installed_post_types\":\"\",\"include_cf_posts\":\"\",\"exclude_cf_posts\":\"\",\"linked_posts\":\"\",\"favourite_only\":\"\",\"locked_only\":\"\",\"offset\":\"\",\"open_in_new_window\":\"\",\"show_modified_date\":\"\",\"time_ago\":\"\",\"time_ago_add_txt\":\"ago\",\"time_ago_txt_pos\":\"\",\"el_class\":\"\",\"td_query_cache\":\"\",\"td_query_cache_expiration\":\"\",\"td_ajax_filter_type\":\"\",\"td_ajax_filter_ids\":\"\",\"td_filter_default_txt\":\"All\",\"td_ajax_preloading\":\"\",\"container_width\":\"\",\"m_padding\":\"\",\"modules_border_size\":\"\",\"modules_border_style\":\"\",\"modules_border_color\":\"#eaeaea\",\"modules_border_radius\":\"\",\"modules_divider\":\"\",\"modules_divider_color\":\"#eaeaea\",\"h_effect\":\"\",\"image_alignment\":\"50\",\"image_radius\":\"\",\"hide_image\":\"\",\"show_favourites\":\"\",\"fav_size\":\"2\",\"fav_space\":\"\",\"fav_ico_color\":\"\",\"fav_ico_color_h\":\"\",\"fav_bg\":\"\",\"fav_bg_h\":\"\",\"fav_shadow_shadow_header\":\"\",\"fav_shadow_shadow_title\":\"Shadow\",\"fav_shadow_shadow_size\":\"\",\"fav_shadow_shadow_offset_horizontal\":\"\",\"fav_shadow_shadow_offset_vertical\":\"\",\"fav_shadow_shadow_spread\":\"\",\"fav_shadow_shadow_color\":\"\",\"video_popup\":\"yes\",\"video_rec\":\"\",\"spot_header\":\"\",\"video_rec_title\":\"\",\"video_rec_color\":\"\",\"video_rec_disable\":\"\",\"autoplay_vid\":\"yes\",\"show_vid_t\":\"block\",\"vid_t_margin\":\"\",\"vid_t_padding\":\"\",\"video_title_color\":\"\",\"video_title_color_h\":\"\",\"video_bg\":\"\",\"video_overlay\":\"\",\"vid_t_color\":\"\",\"vid_t_bg_color\":\"\",\"f_vid_title_font_header\":\"\",\"f_vid_title_font_title\":\"Video pop-up article title\",\"f_vid_title_font_settings\":\"\",\"f_vid_title_font_family\":\"\",\"f_vid_title_font_size\":\"\",\"f_vid_title_font_line_height\":\"\",\"f_vid_title_font_style\":\"\",\"f_vid_title_font_weight\":\"\",\"f_vid_title_font_transform\":\"\",\"f_vid_title_font_spacing\":\"\",\"f_vid_title_\":\"\",\"f_vid_time_font_title\":\"Video duration text\",\"f_vid_time_font_settings\":\"\",\"f_vid_time_font_family\":\"\",\"f_vid_time_font_size\":\"\",\"f_vid_time_font_line_height\":\"\",\"f_vid_time_font_style\":\"\",\"f_vid_time_font_weight\":\"\",\"f_vid_time_font_transform\":\"\",\"f_vid_time_font_spacing\":\"\",\"f_vid_time_\":\"\",\"excl_show\":\"inline-block\",\"excl_txt\":\"\",\"excl_margin\":\"\",\"excl_padd\":\"\",\"all_excl_border\":\"\",\"all_excl_border_style\":\"solid\",\"excl_radius\":\"\",\"excl_color\":\"\",\"excl_color_h\":\"\",\"excl_bg\":\"\",\"excl_bg_h\":\"\",\"all_excl_border_color\":\"\",\"excl_border_color_h\":\"\",\"f_excl_font_header\":\"\",\"f_excl_font_title\":\"Label text\",\"f_excl_font_settings\":\"\",\"f_excl_font_family\":\"\",\"f_excl_font_size\":\"\",\"f_excl_font_line_height\":\"\",\"f_excl_font_style\":\"\",\"f_excl_font_weight\":\"\",\"f_excl_font_transform\":\"\",\"f_excl_font_spacing\":\"\",\"f_excl_\":\"\",\"meta_info_align\":\"\",\"meta_info_horiz\":\"layout-default\",\"meta_width\":\"\",\"meta_margin\":\"\",\"meta_space\":\"\",\"art_title\":\"\",\"art_btn\":\"\",\"meta_info_border_size\":\"\",\"meta_info_border_style\":\"\",\"meta_info_border_color\":\"#eaeaea\",\"meta_info_border_radius\":\"\",\"modules_category\":\"\",\"modules_category_margin\":\"\",\"modules_category_padding\":\"\",\"modules_cat_border\":\"\",\"modules_category_radius\":\"0\",\"modules_extra_cat\":\"\",\"author_photo\":\"\",\"author_photo_size\":\"\",\"author_photo_space\":\"\",\"author_photo_radius\":\"\",\"show_review\":\"inline-block\",\"review_space\":\"\",\"review_size\":\"2.5\",\"review_distance\":\"\",\"art_excerpt\":\"\",\"excerpt_col\":\"1\",\"excerpt_gap\":\"\",\"excerpt_middle\":\"\",\"excerpt_inline\":\"\",\"show_audio\":\"block\",\"hide_audio\":\"\",\"art_audio\":\"\",\"art_audio_size\":\"1.5\",\"btn_title\":\"\",\"btn_margin\":\"\",\"btn_padding\":\"\",\"btn_border_width\":\"\",\"btn_radius\":\"\",\"pag_space\":\"\",\"pag_padding\":\"\",\"pag_border_width\":\"\",\"pag_border_radius\":\"\",\"prev_tdicon\":\"\",\"next_tdicon\":\"\",\"pag_icons_size\":\"\",\"f_header_font_header\":\"\",\"f_header_font_title\":\"Block header\",\"f_header_font_settings\":\"\",\"f_header_font_family\":\"\",\"f_header_font_line_height\":\"\",\"f_header_font_style\":\"\",\"f_header_font_transform\":\"\",\"f_header_font_spacing\":\"\",\"f_header_\":\"\",\"f_ajax_font_title\":\"Ajax categories\",\"f_ajax_font_settings\":\"\",\"f_ajax_font_family\":\"\",\"f_ajax_font_size\":\"\",\"f_ajax_font_line_height\":\"\",\"f_ajax_font_style\":\"\",\"f_ajax_font_weight\":\"\",\"f_ajax_font_transform\":\"\",\"f_ajax_font_spacing\":\"\",\"f_ajax_\":\"\",\"f_more_font_title\":\"Load more button\",\"f_more_font_settings\":\"\",\"f_more_font_family\":\"\",\"f_more_font_size\":\"\",\"f_more_font_line_height\":\"\",\"f_more_font_style\":\"\",\"f_more_font_weight\":\"\",\"f_more_font_transform\":\"\",\"f_more_font_spacing\":\"\",\"f_more_\":\"\",\"f_title_font_header\":\"\",\"f_title_font_title\":\"Article title\",\"f_title_font_settings\":\"\",\"f_title_font_family\":\"\",\"f_title_font_style\":\"\",\"f_title_font_transform\":\"\",\"f_title_font_spacing\":\"\",\"f_title_\":\"\",\"f_cat_font_title\":\"Article category tag\",\"f_cat_font_settings\":\"\",\"f_cat_font_family\":\"\",\"f_cat_font_size\":\"\",\"f_cat_font_line_height\":\"\",\"f_cat_font_style\":\"\",\"f_cat_font_weight\":\"\",\"f_cat_font_transform\":\"\",\"f_cat_font_spacing\":\"\",\"f_cat_\":\"\",\"f_meta_font_title\":\"Article meta info\",\"f_meta_font_settings\":\"\",\"f_meta_font_family\":\"\",\"f_meta_font_size\":\"\",\"f_meta_font_line_height\":\"\",\"f_meta_font_style\":\"\",\"f_meta_font_weight\":\"\",\"f_meta_font_transform\":\"\",\"f_meta_font_spacing\":\"\",\"f_meta_\":\"\",\"f_ex_font_title\":\"Article excerpt\",\"f_ex_font_settings\":\"\",\"f_ex_font_family\":\"\",\"f_ex_font_size\":\"\",\"f_ex_font_line_height\":\"\",\"f_ex_font_style\":\"\",\"f_ex_font_weight\":\"\",\"f_ex_font_transform\":\"\",\"f_ex_font_spacing\":\"\",\"f_ex_\":\"\",\"f_btn_font_title\":\"Article read more button\",\"f_btn_font_settings\":\"\",\"f_btn_font_family\":\"\",\"f_btn_font_size\":\"\",\"f_btn_font_line_height\":\"\",\"f_btn_font_style\":\"\",\"f_btn_font_weight\":\"\",\"f_btn_font_transform\":\"\",\"f_btn_font_spacing\":\"\",\"f_btn_\":\"\",\"mix_color\":\"\",\"mix_type\":\"\",\"fe_brightness\":\"1\",\"fe_contrast\":\"1\",\"fe_saturate\":\"1\",\"mix_color_h\":\"\",\"mix_type_h\":\"\",\"fe_brightness_h\":\"1\",\"fe_contrast_h\":\"1\",\"fe_saturate_h\":\"1\",\"m_bg\":\"\",\"color_overlay\":\"\",\"shadow_shadow_header\":\"\",\"shadow_shadow_title\":\"Module Shadow\",\"shadow_shadow_size\":\"\",\"shadow_shadow_offset_horizontal\":\"\",\"shadow_shadow_offset_vertical\":\"\",\"shadow_shadow_spread\":\"\",\"shadow_shadow_color\":\"\",\"all_underline_height\":\"\",\"all_underline_color\":\"\",\"cat_bg\":\"\",\"cat_bg_hover\":\"\",\"cat_txt\":\"\",\"cat_txt_hover\":\"\",\"cat_border\":\"\",\"cat_border_hover\":\"\",\"meta_bg\":\"\",\"author_txt\":\"\",\"author_txt_hover\":\"\",\"date_txt\":\"\",\"ex_txt\":\"\",\"com_bg\":\"\",\"com_txt\":\"\",\"audio_btn_color\":\"\",\"audio_time_color\":\"\",\"audio_bar_color\":\"\",\"audio_bar_curr_color\":\"\",\"shadow_m_shadow_header\":\"\",\"shadow_m_shadow_title\":\"Meta info shadow\",\"shadow_m_shadow_size\":\"\",\"shadow_m_shadow_offset_horizontal\":\"\",\"shadow_m_shadow_offset_vertical\":\"\",\"shadow_m_shadow_spread\":\"\",\"shadow_m_shadow_color\":\"\",\"btn_bg\":\"\",\"btn_bg_hover\":\"\",\"btn_txt\":\"\",\"btn_txt_hover\":\"\",\"btn_border\":\"\",\"btn_border_hover\":\"\",\"pag_text\":\"\",\"pag_h_text\":\"\",\"pag_bg\":\"\",\"pag_h_bg\":\"\",\"pag_border\":\"\",\"pag_h_border\":\"\",\"ajax_pagination\":\"\",\"ajax_pagination_next_prev_swipe\":\"\",\"ajax_pagination_infinite_stop\":\"\",\"css\":\"\",\"td_column_number\":1,\"header_color\":\"\",\"color_preset\":\"\",\"border_top\":\"\",\"class\":\"tdi_127\",\"tdc_css_class\":\"tdi_127\",\"tdc_css_class_style\":\"tdi_127_rand_style\"}';\n",
      "block_tdi_127.td_column_number = \"1\";\n",
      "block_tdi_127.block_type = \"td_flex_block_1\";\n",
      "block_tdi_127.post_count = \"3\";\n",
      "block_tdi_127.found_posts = \"471\";\n",
      "block_tdi_127.header_color = \"\";\n",
      "block_tdi_127.ajax_pagination_infinite_stop = \"\";\n",
      "block_tdi_127.max_num_pages = \"157\";\n",
      "tdBlocksArray.push(block_tdi_127);\n",
      "</script><div class=\"td-block-title-wrap\"><h4 class=\"td-block-title\"><span class=\"td-pulldown-size\">LATEST INSIGHTS</span></h4></div><div id=tdi_127 class=\"td_block_inner td-mc1-wrap\">\r\n",
      "        <div class=\"td_module_flex td_module_flex_1 td_module_wrap td-animation-stack td-cpt-post\">\r\n",
      "            <div class=\"td-module-container td-category-pos-\">\r\n",
      "                                    <div class=\"td-image-container\">\r\n",
      "                                                <div class=\"td-module-thumb\"><a href=\"https://insights.blackcoffer.com/rise-of-cybercrime-and-its-effect-by-the-year-2040-3/\"  rel=\"bookmark\" class=\"td-image-wrap \" title=\"Rise of cybercrime and its effect by the year 2040.\" ><span class=\"entry-thumb td-thumb-css\" data-type=\"css_image\" data-img-url=\"https://insights.blackcoffer.com/wp-content/uploads/2023/08/pexels-paras-katwal-4218883-218x150.jpg\"  ></span></a></div>                                                                    </div>\r\n",
      "                \r\n",
      "                <div class=\"td-module-meta-info\">\r\n",
      "                                        \r\n",
      "                    <h3 class=\"entry-title td-module-title\"><a href=\"https://insights.blackcoffer.com/rise-of-cybercrime-and-its-effect-by-the-year-2040-3/\"  rel=\"bookmark\" title=\"Rise of cybercrime and its effect by the year 2040.\">Rise of cybercrime and its effect by the year 2040.</a></h3>\r\n",
      "                    \r\n",
      "                                            <div class=\"td-editor-date\">\r\n",
      "                                                        \r\n",
      "                                                            <span class=\"td-author-date\">\r\n",
      "                                                                                                            <span class=\"td-post-date\"><time class=\"entry-date updated td-module-date\" datetime=\"2023-08-28T12:52:25+05:30\" >August 28, 2023</time></span>                                                                                                        </span>\r\n",
      "                                                    </div>\r\n",
      "                    \r\n",
      "                    \r\n",
      "                    \r\n",
      "                                    </div>\r\n",
      "            </div>\r\n",
      "        </div>\r\n",
      "\r\n",
      "        \r\n",
      "        <div class=\"td_module_flex td_module_flex_1 td_module_wrap td-animation-stack td-cpt-post\">\r\n",
      "            <div class=\"td-module-container td-category-pos-\">\r\n",
      "                                    <div class=\"td-image-container\">\r\n",
      "                                                <div class=\"td-module-thumb\"><a href=\"https://insights.blackcoffer.com/rising-it-cities-and-its-impact-on-the-economy-environment-infrastructure-and-city-life-by-the-year-2040-2/\"  rel=\"bookmark\" class=\"td-image-wrap \" title=\"Rising IT cities and its impact on the economy, environment, infrastructure, and city life by the year 2040.\" ><span class=\"entry-thumb td-thumb-css\" data-type=\"css_image\" data-img-url=\"https://insights.blackcoffer.com/wp-content/uploads/2023/08/pexels-tranmautritam-326508-218x150.jpg\"  ></span></a></div>                                                                    </div>\r\n",
      "                \r\n",
      "                <div class=\"td-module-meta-info\">\r\n",
      "                                        \r\n",
      "                    <h3 class=\"entry-title td-module-title\"><a href=\"https://insights.blackcoffer.com/rising-it-cities-and-its-impact-on-the-economy-environment-infrastructure-and-city-life-by-the-year-2040-2/\"  rel=\"bookmark\" title=\"Rising IT cities and its impact on the economy, environment, infrastructure, and city life by the year 2040.\">Rising IT cities and its impact on the economy, environment, infrastructure, and city life by the year 2040.</a></h3>\r\n",
      "                    \r\n",
      "                                            <div class=\"td-editor-date\">\r\n",
      "                                                        \r\n",
      "                                                            <span class=\"td-author-date\">\r\n",
      "                                                                                                            <span class=\"td-post-date\"><time class=\"entry-date updated td-module-date\" datetime=\"2023-08-24T14:28:47+05:30\" >August 24, 2023</time></span>                                                                                                        </span>\r\n",
      "                                                    </div>\r\n",
      "                    \r\n",
      "                    \r\n",
      "                    \r\n",
      "                                    </div>\r\n",
      "            </div>\r\n",
      "        </div>\r\n",
      "\r\n",
      "        \r\n",
      "        <div class=\"td_module_flex td_module_flex_1 td_module_wrap td-animation-stack td-cpt-post\">\r\n",
      "            <div class=\"td-module-container td-category-pos-\">\r\n",
      "                                    <div class=\"td-image-container\">\r\n",
      "                                                <div class=\"td-module-thumb\"><a href=\"https://insights.blackcoffer.com/rising-it-cities-and-their-impact-on-the-economy-environment-infrastructure-and-city-life-in-future/\"  rel=\"bookmark\" class=\"td-image-wrap \" title=\"Rising IT Cities and Their Impact on the Economy, Environment, Infrastructure, and City Life in Future\" ><span class=\"entry-thumb td-thumb-css\" data-type=\"css_image\" data-img-url=\"https://insights.blackcoffer.com/wp-content/uploads/2023/08/pexels-fox-1595391-1-218x150.jpg\"  ></span></a></div>                                                                    </div>\r\n",
      "                \r\n",
      "                <div class=\"td-module-meta-info\">\r\n",
      "                                        \r\n",
      "                    <h3 class=\"entry-title td-module-title\"><a href=\"https://insights.blackcoffer.com/rising-it-cities-and-their-impact-on-the-economy-environment-infrastructure-and-city-life-in-future/\"  rel=\"bookmark\" title=\"Rising IT Cities and Their Impact on the Economy, Environment, Infrastructure, and City Life in Future\">Rising IT Cities and Their Impact on the Economy, Environment, Infrastructure, and City Life in Future</a></h3>\r\n",
      "                    \r\n",
      "                                            <div class=\"td-editor-date\">\r\n",
      "                                                        \r\n",
      "                                                            <span class=\"td-author-date\">\r\n",
      "                                                                                                            <span class=\"td-post-date\"><time class=\"entry-date updated td-module-date\" datetime=\"2023-08-18T18:37:03+05:30\" >August 18, 2023</time></span>                                                                                                        </span>\r\n",
      "                                                    </div>\r\n",
      "                    \r\n",
      "                    \r\n",
      "                    \r\n",
      "                                    </div>\r\n",
      "            </div>\r\n",
      "        </div>\r\n",
      "\r\n",
      "        </div></div></div></div></div><div class=\"vc_column_inner tdi_129  wpb_column vc_column_container tdc-inner-column td-pb-span4\">\n",
      "<style scoped>\n",
      "\n",
      "/* custom css */\n",
      ".tdi_129{\r\n",
      "                    vertical-align: baseline;\r\n",
      "                }.tdi_129 .vc_column-inner > .wpb_wrapper,\r\n",
      "\t\t\t\t.tdi_129 .vc_column-inner > .wpb_wrapper .tdc-elements{\r\n",
      "\t\t\t\t    display: block;\r\n",
      "\t\t\t\t}.tdi_129 .vc_column-inner > .wpb_wrapper .tdc-elements{\r\n",
      "\t\t\t\t    width: 100%;\r\n",
      "\t\t\t\t}\n",
      "</style><div class=\"vc_column-inner\"><div class=\"wpb_wrapper\" ><div class=\"td_block_wrap td_flex_block_1 tdi_130 td-pb-border-top td_block_template_2 td_flex_block\"  data-td-block-uid=\"tdi_130\" >\n",
      "<style>\n",
      ".td-theme-wrap .tdi_130 .td-block-title > *,\r\n",
      "            .td-theme-wrap .tdi_130 .td-pulldown-filter-link:hover,\r\n",
      "            .td-theme-wrap .tdi_130 .td-subcat-item a:hover,\r\n",
      "            .td-theme-wrap .tdi_130 .td-subcat-item .td-cur-simple-item,\r\n",
      "            .td-theme-wrap .tdi_130 .td-subcat-dropdown:hover .td-subcat-more span,\r\n",
      "            .td-theme-wrap .tdi_130 .td-subcat-dropdown:hover .td-subcat-more i {\r\n",
      "                color: #ffffff;\r\n",
      "            }\r\n",
      "\r\n",
      "            .td-theme-wrap .tdi_130 .td-subcat-dropdown ul:after {\r\n",
      "                background-color: #ffffff;\r\n",
      "            }\r\n",
      "            \r\n",
      "            \r\n",
      "            .td-theme-wrap .tdi_130 .td_module_wrap:hover .entry-title a,\r\n",
      "            .td-theme-wrap .tdi_130 .td_quote_on_blocks,\r\n",
      "            .td-theme-wrap .tdi_130 .td-opacity-cat .td-post-category:hover,\r\n",
      "            .td-theme-wrap .tdi_130 .td-opacity-read .td-read-more a:hover,\r\n",
      "            .td-theme-wrap .tdi_130 .td-opacity-author .td-post-author-name a:hover,\r\n",
      "            .td-theme-wrap .tdi_130 .td-instagram-user a {\r\n",
      "                color: #ffffff;\r\n",
      "            }\r\n",
      "\r\n",
      "            .td-theme-wrap .tdi_130 .td-next-prev-wrap a:hover,\r\n",
      "            .td-theme-wrap .tdi_130 .td-load-more-wrap a:hover {\r\n",
      "                background-color: #ffffff;\r\n",
      "                border-color: #ffffff;\r\n",
      "            }\r\n",
      "\r\n",
      "            .td-theme-wrap .tdi_130 .td-read-more a,\r\n",
      "            .td-theme-wrap .tdi_130 .td-weather-information:before,\r\n",
      "            .td-theme-wrap .tdi_130 .td-weather-week:before,\r\n",
      "            .td-theme-wrap .tdi_130 .td-exchange-header:before,\r\n",
      "            .td-theme-wrap .td-footer-wrapper .tdi_130 .td-post-category,\r\n",
      "            .td-theme-wrap .tdi_130 .td-post-category:hover {\r\n",
      "                background-color: #ffffff;\r\n",
      "            }\n",
      "/* inline tdc_css att */\n",
      "\n",
      "/* phone */\n",
      "@media (max-width: 767px)\n",
      "{\n",
      ".tdi_130{\n",
      "margin-bottom:48px !important;\n",
      "}\n",
      "}\n",
      "\n",
      "/* portrait */\n",
      "@media (min-width: 768px) and (max-width: 1018px)\n",
      "{\n",
      ".tdi_130{\n",
      "margin-bottom:20px !important;\n",
      "}\n",
      "}\n",
      "\n",
      "</style>\n",
      "<style>\n",
      "/* custom css */\n",
      ".tdi_130 .td-image-wrap{\r\n",
      "\t\t\t\t\tpadding-bottom: 70%;\r\n",
      "\t\t\t\t}.tdi_130 .entry-thumb{\r\n",
      "\t\t\t\t\tbackground-position: center 50%;\r\n",
      "\t\t\t\t}.tdi_130 .td-image-container{\r\n",
      "\t\t\t\t \tflex: 0 0 30%;\r\n",
      "\t\t\t\t \twidth: 30%;\r\n",
      "\t\t\t    \r\n",
      "                \tdisplay: block; order: 0;\r\n",
      "                }.ie10 .tdi_130 .td-image-container,\r\n",
      "\t\t\t\t.ie11 .tdi_130 .td-image-container{\r\n",
      "\t\t\t\t \tflex: 0 0 auto;\r\n",
      "\t\t\t    }.tdi_130 .td-module-container{\r\n",
      "\t\t\t\t\tflex-direction: row;\r\n",
      "\t\t\t\t\r\n",
      "\t\t\t\t    border-color: #eaeaea !important;\r\n",
      "\t\t\t\t}.ie10 .tdi_130 .td-module-meta-info,\r\n",
      "\t\t\t\t.ie11 .tdi_130 .td-module-meta-info{\r\n",
      "\t\t\t\t \tflex: 1;\r\n",
      "\t\t\t    }body .tdi_130 .td-favorite{\r\n",
      "                    font-size: 36px;\r\n",
      "                \r\n",
      "                    box-shadow:  1px 1px 4px 0px rgba(0, 0, 0, 0.2);\r\n",
      "                }.tdi_130 .td-module-meta-info{\r\n",
      "\t\t\t\t\tpadding: 0 0 0 16px;\r\n",
      "\t\t\t\t\r\n",
      "\t\t\t\t\tborder-color: #eaeaea;\r\n",
      "\t\t\t\t}.tdi_130 .td_module_wrap{\r\n",
      "\t\t\t\t\tpadding-left: 20px;\r\n",
      "\t\t\t\t\tpadding-right: 20px;\r\n",
      "\t\t\t\t\r\n",
      "\t\t\t\t\tpadding-bottom: 13px;\r\n",
      "\t\t\t\t\tmargin-bottom: 13px;\r\n",
      "\t\t\t\t}.tdi_130 .td_block_inner{\r\n",
      "\t\t\t\t\tmargin-left: -20px;\r\n",
      "\t\t\t\t\tmargin-right: -20px;\r\n",
      "\t\t\t\t}.tdi_130 .td-module-container:before{\r\n",
      "\t\t\t\t\tbottom: -13px;\r\n",
      "\t\t\t\t\r\n",
      "\t\t\t\t\tborder-color: #eaeaea;\r\n",
      "\t\t\t\t}.tdi_130 .td-video-play-ico{\r\n",
      "\t\t\t\t\twidth: 24px;\r\n",
      "\t\t\t\t\theight: 24px;\r\n",
      "\t\t\t\t\tfont-size: 24px;\r\n",
      "\t\t\t\t}.tdi_130 .td-post-vid-time{\r\n",
      "\t\t\t\t\tdisplay: block;\r\n",
      "\t\t\t\t}.tdi_130 .td-post-category:not(.td-post-extra-category){\r\n",
      "\t\t\t\t\tdisplay: none;\r\n",
      "\t\t\t\t}.tdi_130 .td-author-photo .avatar{\r\n",
      "\t\t\t\t    width: 20px;\r\n",
      "\t\t\t\t    height: 20px;\r\n",
      "\t\t\t\t\r\n",
      "\t\t\t\t    margin-right: 6px;\r\n",
      "\t\t\t\t\r\n",
      "\t\t\t\t    border-radius: 50%;\r\n",
      "\t\t\t\t}.tdi_130 .td-excerpt{\r\n",
      "\t\t\t\t\tdisplay: none;\r\n",
      "\t\t\t\t\r\n",
      "\t\t\t\t\tcolumn-count: 1;\r\n",
      "\t\t\t\t\r\n",
      "\t\t\t\t\tcolumn-gap: 48px;\r\n",
      "\t\t\t\t}.tdi_130 .td-audio-player{\r\n",
      "\t\t\t\t\topacity: 1;\r\n",
      "\t\t\t\t\tvisibility: visible;\r\n",
      "\t\t\t\t\theight: auto;\r\n",
      "\t\t\t\t\r\n",
      "\t\t\t\t\tfont-size: 13px;\r\n",
      "\t\t\t\t}.tdi_130 .td-read-more{\r\n",
      "\t\t\t\t\tdisplay: none;\r\n",
      "\t\t\t\t}.tdi_130 .td-author-date{\r\n",
      "\t\t\t\t\tdisplay: inline;\r\n",
      "\t\t\t\t}.tdi_130 .td-post-author-name{\r\n",
      "\t\t\t\t\tdisplay: none;\r\n",
      "\t\t\t\t}.tdi_130 .entry-review-stars{\r\n",
      "\t\t\t\t\tdisplay: inline-block;\r\n",
      "\t\t\t\t\r\n",
      "\t\t\t\t\tcolor: #ffffff;\r\n",
      "\t\t\t\t}.tdi_130 .td-icon-star,\r\n",
      "                .tdi_130 .td-icon-star-empty,\r\n",
      "                .tdi_130 .td-icon-star-half{\r\n",
      "\t\t\t\t\tfont-size: 15px;\r\n",
      "\t\t\t\t}.tdi_130 .td-module-comments{\r\n",
      "\t\t\t\t\tdisplay: none;\r\n",
      "\t\t\t\t}.tdi_130 .td_module_wrap:nth-last-child(1){\r\n",
      "\t\t\t\t\tmargin-bottom: 0;\r\n",
      "\t\t\t\t\tpadding-bottom: 0;\r\n",
      "\t\t\t\t}.tdi_130 .td_module_wrap:nth-last-child(1) .td-module-container:before{\r\n",
      "\t\t\t\t\tdisplay: none;\r\n",
      "\t\t\t\t}.tdi_130 .td-module-title a{\r\n",
      "\t\t\t\t\tcolor: #ffffff;\r\n",
      "\t\t\t\t}.tdi_130 .td_module_wrap:hover .td-module-title a{\r\n",
      "\t\t\t\t\tcolor: #4db2ec !important;\r\n",
      "\t\t\t\t}.tdi_130 .td-module-exclusive .td-module-title a:before{\r\n",
      "                    display: inline-block;\r\n",
      "                }.tdi_130 .td-block-title a,\r\n",
      "\t\t\t\t.tdi_130 .td-block-title span{\r\n",
      "\t\t\t\t\tfont-size:18px !important;\r\n",
      "\t\t\t\t}.tdi_130 .entry-title{\r\n",
      "\t\t\t\t\tfont-size:14px !important;line-height:1.4 !important;font-weight:500 !important;\r\n",
      "\t\t\t\t}html:not([class*='ie']) .tdi_130 .td-module-container:hover .entry-thumb:before{\r\n",
      "                    opacity: 0;\r\n",
      "                }\n",
      "\n",
      "/* landscape */\n",
      "@media (min-width: 1019px) and (max-width: 1140px){\n",
      ".tdi_130 .td_module_wrap{\r\n",
      "\t\t\t\t\tpadding-bottom: 13px;\r\n",
      "\t\t\t\t\tmargin-bottom: 13px;\r\n",
      "\t\t\t\t\r\n",
      "\t\t\t\t\tpadding-bottom: 13px !important;\r\n",
      "\t\t\t\t\tmargin-bottom: 13px !important;\r\n",
      "\t\t\t\t}.tdi_130 .td-module-container:before{\r\n",
      "\t\t\t\t\tbottom: -13px;\r\n",
      "\t\t\t\t}.tdi_130 .td_module_wrap:nth-last-child(1){\r\n",
      "\t\t\t\t\tmargin-bottom: 0 !important;\r\n",
      "\t\t\t\t\tpadding-bottom: 0 !important;\r\n",
      "\t\t\t\t}.tdi_130 .td_module_wrap .td-module-container:before{\r\n",
      "\t\t\t\t\tdisplay: block !important;\r\n",
      "\t\t\t\t}.tdi_130 .td_module_wrap:nth-last-child(1) .td-module-container:before{\r\n",
      "\t\t\t\t\tdisplay: none !important;\r\n",
      "\t\t\t\t}\n",
      "}\n",
      "\n",
      "/* portrait */\n",
      "@media (min-width: 768px) and (max-width: 1018px){\n",
      ".tdi_130 .td-module-meta-info{\r\n",
      "\t\t\t\t\tpadding: 0 0 0 13px;\r\n",
      "\t\t\t\t}.tdi_130 .td_module_wrap{\r\n",
      "\t\t\t\t\twidth: 100%;\r\n",
      "\t\t\t\t\tfloat: left;\r\n",
      "\t\t\t\t\r\n",
      "\t\t\t\t\tpadding-left: 10px;\r\n",
      "\t\t\t\t\tpadding-right: 10px;\r\n",
      "\t\t\t\t\r\n",
      "\t\t\t\t\tpadding-bottom: 10px;\r\n",
      "\t\t\t\t\tmargin-bottom: 10px;\r\n",
      "\t\t\t\t\r\n",
      "\t\t\t\t\tpadding-bottom: 10px !important;\r\n",
      "\t\t\t\t\tmargin-bottom: 10px !important;\r\n",
      "\t\t\t\t}.rtl .tdi_130 .td_module_wrap{\r\n",
      "\t\t\t\t\tfloat: right;\r\n",
      "\t\t\t\t}.tdi_130 .td_block_inner{\r\n",
      "\t\t\t\t\tmargin-left: -10px;\r\n",
      "\t\t\t\t\tmargin-right: -10px;\r\n",
      "\t\t\t\t}.tdi_130 .td-module-container:before{\r\n",
      "\t\t\t\t\tbottom: -10px;\r\n",
      "\t\t\t\t}.tdi_130 .td_module_wrap:nth-last-child(1){\r\n",
      "\t\t\t\t\tmargin-bottom: 0 !important;\r\n",
      "\t\t\t\t\tpadding-bottom: 0 !important;\r\n",
      "\t\t\t\t}.tdi_130 .td_module_wrap .td-module-container:before{\r\n",
      "\t\t\t\t\tdisplay: block !important;\r\n",
      "\t\t\t\t}.tdi_130 .td_module_wrap:nth-last-child(1) .td-module-container:before{\r\n",
      "\t\t\t\t\tdisplay: none !important;\r\n",
      "\t\t\t\t}.tdi_130 .entry-title{\r\n",
      "\t\t\t\t\tfont-size:12px !important;\r\n",
      "\t\t\t\t}\n",
      "}\n",
      "\n",
      "/* phone */\n",
      "@media (max-width: 767px){\n",
      ".tdi_130 .td_module_wrap{\r\n",
      "\t\t\t\t\twidth: 100%;\r\n",
      "\t\t\t\t\tfloat: left;\r\n",
      "\t\t\t\t\r\n",
      "\t\t\t\t\tpadding-bottom: 13px;\r\n",
      "\t\t\t\t\tmargin-bottom: 13px;\r\n",
      "\t\t\t\t\r\n",
      "\t\t\t\t\tpadding-bottom: 13px !important;\r\n",
      "\t\t\t\t\tmargin-bottom: 13px !important;\r\n",
      "\t\t\t\t}.rtl .tdi_130 .td_module_wrap{\r\n",
      "\t\t\t\t\tfloat: right;\r\n",
      "\t\t\t\t}.tdi_130 .td-module-container:before{\r\n",
      "\t\t\t\t\tbottom: -13px;\r\n",
      "\t\t\t\t}.tdi_130 .td_module_wrap:nth-last-child(1){\r\n",
      "\t\t\t\t\tmargin-bottom: 0 !important;\r\n",
      "\t\t\t\t\tpadding-bottom: 0 !important;\r\n",
      "\t\t\t\t}.tdi_130 .td_module_wrap .td-module-container:before{\r\n",
      "\t\t\t\t\tdisplay: block !important;\r\n",
      "\t\t\t\t}.tdi_130 .td_module_wrap:nth-last-child(1) .td-module-container:before{\r\n",
      "\t\t\t\t\tdisplay: none !important;\r\n",
      "\t\t\t\t}\n",
      "}\n",
      "</style><script>var block_tdi_130 = new tdBlock();\n",
      "block_tdi_130.id = \"tdi_130\";\n",
      "block_tdi_130.atts = '{\"modules_on_row\":\"eyJwb3J0cmFpdCI6IjEwMCUiLCJwaG9uZSI6IjEwMCUifQ==\",\"image_size\":\"td_218x150\",\"image_floated\":\"float_left\",\"image_width\":\"30\",\"image_height\":\"70\",\"show_btn\":\"none\",\"show_excerpt\":\"none\",\"show_com\":\"none\",\"show_author\":\"none\",\"show_cat\":\"none\",\"meta_padding\":\"eyJhbGwiOiIwIDAgMCAxNnB4IiwicGhvbmUiOiIwIDAgMCAxNnB4IiwicG9ydHJhaXQiOiIwIDAgMCAxM3B4In0=\",\"f_title_font_size\":\"eyJhbGwiOiIxNCIsInBvcnRyYWl0IjoiMTIifQ==\",\"f_title_font_line_height\":\"1.4\",\"f_title_font_weight\":\"500\",\"all_modules_space\":\"eyJhbGwiOiIyNiIsInBvcnRyYWl0IjoiMjAiLCJwaG9uZSI6IjI2In0=\",\"category_id\":\"\",\"modules_gap\":\"eyJwb3J0cmFpdCI6IjIwIn0=\",\"show_date\":\"\",\"limit\":\"3\",\"custom_title\":\"POPULAR INSIGHTS\",\"block_template_id\":\"td_block_template_2\",\"f_header_font_size\":\"18\",\"f_header_font_weight\":\"\",\"header_text_color\":\"#ffffff\",\"title_txt\":\"#ffffff\",\"sort\":\"\",\"title_txt_hover\":\"#4db2ec\",\"tdc_css\":\"eyJwaG9uZSI6eyJtYXJnaW4tYm90dG9tIjoiNDgiLCJkaXNwbGF5IjoiIn0sInBob25lX21heF93aWR0aCI6NzY3LCJwb3J0cmFpdCI6eyJtYXJnaW4tYm90dG9tIjoiMjAiLCJkaXNwbGF5IjoiIn0sInBvcnRyYWl0X21heF93aWR0aCI6MTAxOCwicG9ydHJhaXRfbWluX3dpZHRoIjo3Njh9\",\"post_ids\":\"-5021\",\"rev_txt\":\"#ffffff\",\"video_icon\":\"24\",\"block_type\":\"td_flex_block_1\",\"separator\":\"\",\"custom_url\":\"\",\"title_tag\":\"\",\"mc1_tl\":\"\",\"mc1_title_tag\":\"\",\"mc1_el\":\"\",\"taxonomies\":\"\",\"category_ids\":\"\",\"in_all_terms\":\"\",\"tag_slug\":\"\",\"autors_id\":\"\",\"installed_post_types\":\"\",\"include_cf_posts\":\"\",\"exclude_cf_posts\":\"\",\"linked_posts\":\"\",\"favourite_only\":\"\",\"locked_only\":\"\",\"offset\":\"\",\"open_in_new_window\":\"\",\"show_modified_date\":\"\",\"time_ago\":\"\",\"time_ago_add_txt\":\"ago\",\"time_ago_txt_pos\":\"\",\"el_class\":\"\",\"td_query_cache\":\"\",\"td_query_cache_expiration\":\"\",\"td_ajax_filter_type\":\"\",\"td_ajax_filter_ids\":\"\",\"td_filter_default_txt\":\"All\",\"td_ajax_preloading\":\"\",\"container_width\":\"\",\"m_padding\":\"\",\"modules_border_size\":\"\",\"modules_border_style\":\"\",\"modules_border_color\":\"#eaeaea\",\"modules_border_radius\":\"\",\"modules_divider\":\"\",\"modules_divider_color\":\"#eaeaea\",\"h_effect\":\"\",\"image_alignment\":\"50\",\"image_radius\":\"\",\"hide_image\":\"\",\"show_favourites\":\"\",\"fav_size\":\"2\",\"fav_space\":\"\",\"fav_ico_color\":\"\",\"fav_ico_color_h\":\"\",\"fav_bg\":\"\",\"fav_bg_h\":\"\",\"fav_shadow_shadow_header\":\"\",\"fav_shadow_shadow_title\":\"Shadow\",\"fav_shadow_shadow_size\":\"\",\"fav_shadow_shadow_offset_horizontal\":\"\",\"fav_shadow_shadow_offset_vertical\":\"\",\"fav_shadow_shadow_spread\":\"\",\"fav_shadow_shadow_color\":\"\",\"video_popup\":\"yes\",\"video_rec\":\"\",\"spot_header\":\"\",\"video_rec_title\":\"\",\"video_rec_color\":\"\",\"video_rec_disable\":\"\",\"autoplay_vid\":\"yes\",\"show_vid_t\":\"block\",\"vid_t_margin\":\"\",\"vid_t_padding\":\"\",\"video_title_color\":\"\",\"video_title_color_h\":\"\",\"video_bg\":\"\",\"video_overlay\":\"\",\"vid_t_color\":\"\",\"vid_t_bg_color\":\"\",\"f_vid_title_font_header\":\"\",\"f_vid_title_font_title\":\"Video pop-up article title\",\"f_vid_title_font_settings\":\"\",\"f_vid_title_font_family\":\"\",\"f_vid_title_font_size\":\"\",\"f_vid_title_font_line_height\":\"\",\"f_vid_title_font_style\":\"\",\"f_vid_title_font_weight\":\"\",\"f_vid_title_font_transform\":\"\",\"f_vid_title_font_spacing\":\"\",\"f_vid_title_\":\"\",\"f_vid_time_font_title\":\"Video duration text\",\"f_vid_time_font_settings\":\"\",\"f_vid_time_font_family\":\"\",\"f_vid_time_font_size\":\"\",\"f_vid_time_font_line_height\":\"\",\"f_vid_time_font_style\":\"\",\"f_vid_time_font_weight\":\"\",\"f_vid_time_font_transform\":\"\",\"f_vid_time_font_spacing\":\"\",\"f_vid_time_\":\"\",\"excl_show\":\"inline-block\",\"excl_txt\":\"\",\"excl_margin\":\"\",\"excl_padd\":\"\",\"all_excl_border\":\"\",\"all_excl_border_style\":\"solid\",\"excl_radius\":\"\",\"excl_color\":\"\",\"excl_color_h\":\"\",\"excl_bg\":\"\",\"excl_bg_h\":\"\",\"all_excl_border_color\":\"\",\"excl_border_color_h\":\"\",\"f_excl_font_header\":\"\",\"f_excl_font_title\":\"Label text\",\"f_excl_font_settings\":\"\",\"f_excl_font_family\":\"\",\"f_excl_font_size\":\"\",\"f_excl_font_line_height\":\"\",\"f_excl_font_style\":\"\",\"f_excl_font_weight\":\"\",\"f_excl_font_transform\":\"\",\"f_excl_font_spacing\":\"\",\"f_excl_\":\"\",\"meta_info_align\":\"\",\"meta_info_horiz\":\"layout-default\",\"meta_width\":\"\",\"meta_margin\":\"\",\"meta_space\":\"\",\"art_title\":\"\",\"art_btn\":\"\",\"meta_info_border_size\":\"\",\"meta_info_border_style\":\"\",\"meta_info_border_color\":\"#eaeaea\",\"meta_info_border_radius\":\"\",\"modules_category\":\"\",\"modules_category_margin\":\"\",\"modules_category_padding\":\"\",\"modules_cat_border\":\"\",\"modules_category_radius\":\"0\",\"modules_extra_cat\":\"\",\"author_photo\":\"\",\"author_photo_size\":\"\",\"author_photo_space\":\"\",\"author_photo_radius\":\"\",\"show_review\":\"inline-block\",\"review_space\":\"\",\"review_size\":\"2.5\",\"review_distance\":\"\",\"art_excerpt\":\"\",\"excerpt_col\":\"1\",\"excerpt_gap\":\"\",\"excerpt_middle\":\"\",\"excerpt_inline\":\"\",\"show_audio\":\"block\",\"hide_audio\":\"\",\"art_audio\":\"\",\"art_audio_size\":\"1.5\",\"btn_title\":\"\",\"btn_margin\":\"\",\"btn_padding\":\"\",\"btn_border_width\":\"\",\"btn_radius\":\"\",\"pag_space\":\"\",\"pag_padding\":\"\",\"pag_border_width\":\"\",\"pag_border_radius\":\"\",\"prev_tdicon\":\"\",\"next_tdicon\":\"\",\"pag_icons_size\":\"\",\"f_header_font_header\":\"\",\"f_header_font_title\":\"Block header\",\"f_header_font_settings\":\"\",\"f_header_font_family\":\"\",\"f_header_font_line_height\":\"\",\"f_header_font_style\":\"\",\"f_header_font_transform\":\"\",\"f_header_font_spacing\":\"\",\"f_header_\":\"\",\"f_ajax_font_title\":\"Ajax categories\",\"f_ajax_font_settings\":\"\",\"f_ajax_font_family\":\"\",\"f_ajax_font_size\":\"\",\"f_ajax_font_line_height\":\"\",\"f_ajax_font_style\":\"\",\"f_ajax_font_weight\":\"\",\"f_ajax_font_transform\":\"\",\"f_ajax_font_spacing\":\"\",\"f_ajax_\":\"\",\"f_more_font_title\":\"Load more button\",\"f_more_font_settings\":\"\",\"f_more_font_family\":\"\",\"f_more_font_size\":\"\",\"f_more_font_line_height\":\"\",\"f_more_font_style\":\"\",\"f_more_font_weight\":\"\",\"f_more_font_transform\":\"\",\"f_more_font_spacing\":\"\",\"f_more_\":\"\",\"f_title_font_header\":\"\",\"f_title_font_title\":\"Article title\",\"f_title_font_settings\":\"\",\"f_title_font_family\":\"\",\"f_title_font_style\":\"\",\"f_title_font_transform\":\"\",\"f_title_font_spacing\":\"\",\"f_title_\":\"\",\"f_cat_font_title\":\"Article category tag\",\"f_cat_font_settings\":\"\",\"f_cat_font_family\":\"\",\"f_cat_font_size\":\"\",\"f_cat_font_line_height\":\"\",\"f_cat_font_style\":\"\",\"f_cat_font_weight\":\"\",\"f_cat_font_transform\":\"\",\"f_cat_font_spacing\":\"\",\"f_cat_\":\"\",\"f_meta_font_title\":\"Article meta info\",\"f_meta_font_settings\":\"\",\"f_meta_font_family\":\"\",\"f_meta_font_size\":\"\",\"f_meta_font_line_height\":\"\",\"f_meta_font_style\":\"\",\"f_meta_font_weight\":\"\",\"f_meta_font_transform\":\"\",\"f_meta_font_spacing\":\"\",\"f_meta_\":\"\",\"f_ex_font_title\":\"Article excerpt\",\"f_ex_font_settings\":\"\",\"f_ex_font_family\":\"\",\"f_ex_font_size\":\"\",\"f_ex_font_line_height\":\"\",\"f_ex_font_style\":\"\",\"f_ex_font_weight\":\"\",\"f_ex_font_transform\":\"\",\"f_ex_font_spacing\":\"\",\"f_ex_\":\"\",\"f_btn_font_title\":\"Article read more button\",\"f_btn_font_settings\":\"\",\"f_btn_font_family\":\"\",\"f_btn_font_size\":\"\",\"f_btn_font_line_height\":\"\",\"f_btn_font_style\":\"\",\"f_btn_font_weight\":\"\",\"f_btn_font_transform\":\"\",\"f_btn_font_spacing\":\"\",\"f_btn_\":\"\",\"mix_color\":\"\",\"mix_type\":\"\",\"fe_brightness\":\"1\",\"fe_contrast\":\"1\",\"fe_saturate\":\"1\",\"mix_color_h\":\"\",\"mix_type_h\":\"\",\"fe_brightness_h\":\"1\",\"fe_contrast_h\":\"1\",\"fe_saturate_h\":\"1\",\"m_bg\":\"\",\"color_overlay\":\"\",\"shadow_shadow_header\":\"\",\"shadow_shadow_title\":\"Module Shadow\",\"shadow_shadow_size\":\"\",\"shadow_shadow_offset_horizontal\":\"\",\"shadow_shadow_offset_vertical\":\"\",\"shadow_shadow_spread\":\"\",\"shadow_shadow_color\":\"\",\"all_underline_height\":\"\",\"all_underline_color\":\"\",\"cat_bg\":\"\",\"cat_bg_hover\":\"\",\"cat_txt\":\"\",\"cat_txt_hover\":\"\",\"cat_border\":\"\",\"cat_border_hover\":\"\",\"meta_bg\":\"\",\"author_txt\":\"\",\"author_txt_hover\":\"\",\"date_txt\":\"\",\"ex_txt\":\"\",\"com_bg\":\"\",\"com_txt\":\"\",\"audio_btn_color\":\"\",\"audio_time_color\":\"\",\"audio_bar_color\":\"\",\"audio_bar_curr_color\":\"\",\"shadow_m_shadow_header\":\"\",\"shadow_m_shadow_title\":\"Meta info shadow\",\"shadow_m_shadow_size\":\"\",\"shadow_m_shadow_offset_horizontal\":\"\",\"shadow_m_shadow_offset_vertical\":\"\",\"shadow_m_shadow_spread\":\"\",\"shadow_m_shadow_color\":\"\",\"btn_bg\":\"\",\"btn_bg_hover\":\"\",\"btn_txt\":\"\",\"btn_txt_hover\":\"\",\"btn_border\":\"\",\"btn_border_hover\":\"\",\"pag_text\":\"\",\"pag_h_text\":\"\",\"pag_bg\":\"\",\"pag_h_bg\":\"\",\"pag_border\":\"\",\"pag_h_border\":\"\",\"ajax_pagination\":\"\",\"ajax_pagination_next_prev_swipe\":\"\",\"ajax_pagination_infinite_stop\":\"\",\"css\":\"\",\"td_column_number\":1,\"header_color\":\"\",\"color_preset\":\"\",\"border_top\":\"\",\"class\":\"tdi_130\",\"tdc_css_class\":\"tdi_130\",\"tdc_css_class_style\":\"tdi_130_rand_style\"}';\n",
      "block_tdi_130.td_column_number = \"1\";\n",
      "block_tdi_130.block_type = \"td_flex_block_1\";\n",
      "block_tdi_130.post_count = \"3\";\n",
      "block_tdi_130.found_posts = \"471\";\n",
      "block_tdi_130.header_color = \"\";\n",
      "block_tdi_130.ajax_pagination_infinite_stop = \"\";\n",
      "block_tdi_130.max_num_pages = \"157\";\n",
      "tdBlocksArray.push(block_tdi_130);\n",
      "</script><div class=\"td-block-title-wrap\"><h4 class=\"td-block-title\"><span class=\"td-pulldown-size\">POPULAR INSIGHTS</span></h4></div><div id=tdi_130 class=\"td_block_inner td-mc1-wrap\">\r\n",
      "        <div class=\"td_module_flex td_module_flex_1 td_module_wrap td-animation-stack td-cpt-post\">\r\n",
      "            <div class=\"td-module-container td-category-pos-\">\r\n",
      "                                    <div class=\"td-image-container\">\r\n",
      "                                                <div class=\"td-module-thumb\"><a href=\"https://insights.blackcoffer.com/rise-of-cybercrime-and-its-effect-by-the-year-2040-3/\"  rel=\"bookmark\" class=\"td-image-wrap \" title=\"Rise of cybercrime and its effect by the year 2040.\" ><span class=\"entry-thumb td-thumb-css\" data-type=\"css_image\" data-img-url=\"https://insights.blackcoffer.com/wp-content/uploads/2023/08/pexels-paras-katwal-4218883-218x150.jpg\"  ></span></a></div>                                                                    </div>\r\n",
      "                \r\n",
      "                <div class=\"td-module-meta-info\">\r\n",
      "                                        \r\n",
      "                    <h3 class=\"entry-title td-module-title\"><a href=\"https://insights.blackcoffer.com/rise-of-cybercrime-and-its-effect-by-the-year-2040-3/\"  rel=\"bookmark\" title=\"Rise of cybercrime and its effect by the year 2040.\">Rise of cybercrime and its effect by the year 2040.</a></h3>\r\n",
      "                    \r\n",
      "                                            <div class=\"td-editor-date\">\r\n",
      "                                                        \r\n",
      "                                                            <span class=\"td-author-date\">\r\n",
      "                                                                                                            <span class=\"td-post-date\"><time class=\"entry-date updated td-module-date\" datetime=\"2023-08-28T12:52:25+05:30\" >August 28, 2023</time></span>                                                                                                        </span>\r\n",
      "                                                    </div>\r\n",
      "                    \r\n",
      "                    \r\n",
      "                    \r\n",
      "                                    </div>\r\n",
      "            </div>\r\n",
      "        </div>\r\n",
      "\r\n",
      "        \r\n",
      "        <div class=\"td_module_flex td_module_flex_1 td_module_wrap td-animation-stack td-cpt-post\">\r\n",
      "            <div class=\"td-module-container td-category-pos-\">\r\n",
      "                                    <div class=\"td-image-container\">\r\n",
      "                                                <div class=\"td-module-thumb\"><a href=\"https://insights.blackcoffer.com/rising-it-cities-and-its-impact-on-the-economy-environment-infrastructure-and-city-life-by-the-year-2040-2/\"  rel=\"bookmark\" class=\"td-image-wrap \" title=\"Rising IT cities and its impact on the economy, environment, infrastructure, and city life by the year 2040.\" ><span class=\"entry-thumb td-thumb-css\" data-type=\"css_image\" data-img-url=\"https://insights.blackcoffer.com/wp-content/uploads/2023/08/pexels-tranmautritam-326508-218x150.jpg\"  ></span></a></div>                                                                    </div>\r\n",
      "                \r\n",
      "                <div class=\"td-module-meta-info\">\r\n",
      "                                        \r\n",
      "                    <h3 class=\"entry-title td-module-title\"><a href=\"https://insights.blackcoffer.com/rising-it-cities-and-its-impact-on-the-economy-environment-infrastructure-and-city-life-by-the-year-2040-2/\"  rel=\"bookmark\" title=\"Rising IT cities and its impact on the economy, environment, infrastructure, and city life by the year 2040.\">Rising IT cities and its impact on the economy, environment, infrastructure, and city life by the year 2040.</a></h3>\r\n",
      "                    \r\n",
      "                                            <div class=\"td-editor-date\">\r\n",
      "                                                        \r\n",
      "                                                            <span class=\"td-author-date\">\r\n",
      "                                                                                                            <span class=\"td-post-date\"><time class=\"entry-date updated td-module-date\" datetime=\"2023-08-24T14:28:47+05:30\" >August 24, 2023</time></span>                                                                                                        </span>\r\n",
      "                                                    </div>\r\n",
      "                    \r\n",
      "                    \r\n",
      "                    \r\n",
      "                                    </div>\r\n",
      "            </div>\r\n",
      "        </div>\r\n",
      "\r\n",
      "        \r\n",
      "        <div class=\"td_module_flex td_module_flex_1 td_module_wrap td-animation-stack td-cpt-post\">\r\n",
      "            <div class=\"td-module-container td-category-pos-\">\r\n",
      "                                    <div class=\"td-image-container\">\r\n",
      "                                                <div class=\"td-module-thumb\"><a href=\"https://insights.blackcoffer.com/rising-it-cities-and-their-impact-on-the-economy-environment-infrastructure-and-city-life-in-future/\"  rel=\"bookmark\" class=\"td-image-wrap \" title=\"Rising IT Cities and Their Impact on the Economy, Environment, Infrastructure, and City Life in Future\" ><span class=\"entry-thumb td-thumb-css\" data-type=\"css_image\" data-img-url=\"https://insights.blackcoffer.com/wp-content/uploads/2023/08/pexels-fox-1595391-1-218x150.jpg\"  ></span></a></div>                                                                    </div>\r\n",
      "                \r\n",
      "                <div class=\"td-module-meta-info\">\r\n",
      "                                        \r\n",
      "                    <h3 class=\"entry-title td-module-title\"><a href=\"https://insights.blackcoffer.com/rising-it-cities-and-their-impact-on-the-economy-environment-infrastructure-and-city-life-in-future/\"  rel=\"bookmark\" title=\"Rising IT Cities and Their Impact on the Economy, Environment, Infrastructure, and City Life in Future\">Rising IT Cities and Their Impact on the Economy, Environment, Infrastructure, and City Life in Future</a></h3>\r\n",
      "                    \r\n",
      "                                            <div class=\"td-editor-date\">\r\n",
      "                                                        \r\n",
      "                                                            <span class=\"td-author-date\">\r\n",
      "                                                                                                            <span class=\"td-post-date\"><time class=\"entry-date updated td-module-date\" datetime=\"2023-08-18T18:37:03+05:30\" >August 18, 2023</time></span>                                                                                                        </span>\r\n",
      "                                                    </div>\r\n",
      "                    \r\n",
      "                    \r\n",
      "                    \r\n",
      "                                    </div>\r\n",
      "            </div>\r\n",
      "        </div>\r\n",
      "\r\n",
      "        </div></div></div></div></div><div class=\"vc_column_inner tdi_132  wpb_column vc_column_container tdc-inner-column td-pb-span4\">\n",
      "<style scoped>\n",
      "\n",
      "/* custom css */\n",
      ".tdi_132{\r\n",
      "                    vertical-align: baseline;\r\n",
      "                }.tdi_132 .vc_column-inner > .wpb_wrapper,\r\n",
      "\t\t\t\t.tdi_132 .vc_column-inner > .wpb_wrapper .tdc-elements{\r\n",
      "\t\t\t\t    display: block;\r\n",
      "\t\t\t\t}.tdi_132 .vc_column-inner > .wpb_wrapper .tdc-elements{\r\n",
      "\t\t\t\t    width: 100%;\r\n",
      "\t\t\t\t}\n",
      "</style><div class=\"vc_column-inner\"><div class=\"wpb_wrapper\" ><div class=\"td_block_wrap td_block_popular_categories tdi_133 widget widget_categories td-pb-border-top td_block_template_2\"  data-td-block-uid=\"tdi_133\" >\n",
      "<style>\n",
      ".td-theme-wrap .tdi_133 .td-block-title > *,\r\n",
      "            .td-theme-wrap .tdi_133 .td-pulldown-filter-link:hover,\r\n",
      "            .td-theme-wrap .tdi_133 .td-subcat-item a:hover,\r\n",
      "            .td-theme-wrap .tdi_133 .td-subcat-item .td-cur-simple-item,\r\n",
      "            .td-theme-wrap .tdi_133 .td-subcat-dropdown:hover .td-subcat-more span,\r\n",
      "            .td-theme-wrap .tdi_133 .td-subcat-dropdown:hover .td-subcat-more i {\r\n",
      "                color: #ffffff;\r\n",
      "            }\r\n",
      "\r\n",
      "            .td-theme-wrap .tdi_133 .td-subcat-dropdown ul:after {\r\n",
      "                background-color: #ffffff;\r\n",
      "            }\r\n",
      "            \r\n",
      "            \r\n",
      "            .td-theme-wrap .tdi_133 .td_module_wrap:hover .entry-title a,\r\n",
      "            .td-theme-wrap .tdi_133 .td_quote_on_blocks,\r\n",
      "            .td-theme-wrap .tdi_133 .td-opacity-cat .td-post-category:hover,\r\n",
      "            .td-theme-wrap .tdi_133 .td-opacity-read .td-read-more a:hover,\r\n",
      "            .td-theme-wrap .tdi_133 .td-opacity-author .td-post-author-name a:hover,\r\n",
      "            .td-theme-wrap .tdi_133 .td-instagram-user a {\r\n",
      "                color: #ffffff;\r\n",
      "            }\r\n",
      "\r\n",
      "            .td-theme-wrap .tdi_133 .td-next-prev-wrap a:hover,\r\n",
      "            .td-theme-wrap .tdi_133 .td-load-more-wrap a:hover {\r\n",
      "                background-color: #ffffff;\r\n",
      "                border-color: #ffffff;\r\n",
      "            }\r\n",
      "\r\n",
      "            .td-theme-wrap .tdi_133 .td-read-more a,\r\n",
      "            .td-theme-wrap .tdi_133 .td-weather-information:before,\r\n",
      "            .td-theme-wrap .tdi_133 .td-weather-week:before,\r\n",
      "            .td-theme-wrap .tdi_133 .td-exchange-header:before,\r\n",
      "            .td-theme-wrap .td-footer-wrapper .tdi_133 .td-post-category,\r\n",
      "            .td-theme-wrap .tdi_133 .td-post-category:hover {\r\n",
      "                background-color: #ffffff;\r\n",
      "            }\n",
      "/* inline tdc_css att */\n",
      "\n",
      "/* portrait */\n",
      "@media (min-width: 768px) and (max-width: 1018px)\n",
      "{\n",
      ".tdi_133{\n",
      "margin-bottom:20px !important;\n",
      "}\n",
      "}\n",
      "\n",
      "</style>\n",
      "<style>\n",
      "/* custom css */\n",
      ".td_block_popular_categories{\r\n",
      "                  padding-bottom: 0;\r\n",
      "                }.tdi_133 .td-cat-name{\r\n",
      "\t\t\t\t\tcolor: #ffffff;\r\n",
      "\t\t\t\t}.tdi_133 .td-cat-no{\r\n",
      "\t\t\t\t\tcolor: #ffffff;\r\n",
      "\t\t\t\t}.tdi_133 li:hover .td-cat-name{\r\n",
      "\t\t\t\t\tcolor: #4db2ec;\r\n",
      "\t\t\t\t}.tdi_133 li:hover .td-cat-no{\r\n",
      "\t\t\t\t\tcolor: #4db2ec;\r\n",
      "\t\t\t\t}.tdi_133 .td-block-title a,\r\n",
      "\t\t\t\t.tdi_133 .td-block-title span{\r\n",
      "\t\t\t\t\tfont-size:18px !important;\r\n",
      "\t\t\t\t}\n",
      "\n",
      "/* portrait */\n",
      "@media (min-width: 768px) and (max-width: 1018px){\n",
      ".tdi_133 li{\r\n",
      "\t\t\t\t\tfont-size:13px !important;line-height:26px !important;\r\n",
      "\t\t\t\t}\n",
      "}\n",
      "</style><div class=\"td-block-title-wrap\"><h4 class=\"td-block-title\"><span class=\"td-pulldown-size\">POPULAR INSIGHTS CATEGORY</span></h4></div><ul class=\"td-pb-padding-side\"><li><a href=\"https://insights.blackcoffer.com/category/what-we-think/\"><span class=\"td-cat-name\">What We Think</span><span class=\"td-cat-no\">178</span></a></li><li><a href=\"https://insights.blackcoffer.com/category/our-success-stories/\"><span class=\"td-cat-name\">Our Success Stories</span><span class=\"td-cat-no\">171</span></a></li><li><a href=\"https://insights.blackcoffer.com/category/blackcoffer/\"><span class=\"td-cat-name\">Blackcoffer</span><span class=\"td-cat-no\">123</span></a></li><li><a href=\"https://insights.blackcoffer.com/category/our-success-stories/it/\"><span class=\"td-cat-name\">IT</span><span class=\"td-cat-no\">66</span></a></li><li><a href=\"https://insights.blackcoffer.com/category/what-we-think/data-science/artificial-intelligence/\"><span class=\"td-cat-name\">Artificial Intelligence</span><span class=\"td-cat-no\">53</span></a></li><li><a href=\"https://insights.blackcoffer.com/category/what-we-think/healthcare/\"><span class=\"td-cat-name\">Healthcare</span><span class=\"td-cat-no\">52</span></a></li><li><a href=\"https://insights.blackcoffer.com/category/what-we-think/data-science/big-data/\"><span class=\"td-cat-name\">Big Data</span><span class=\"td-cat-no\">44</span></a></li><li><a href=\"https://insights.blackcoffer.com/category/our-success-stories/lifestyle-ecommerce-market-place/\"><span class=\"td-cat-name\">Lifestyle, eCommerce &amp; Online Market Place</span><span class=\"td-cat-no\">40</span></a></li></ul></div></div></div></div></div><div class=\"vc_row_inner tdi_135  vc_row vc_inner wpb_row td-pb-row\" >\n",
      "<style scoped>\n",
      "\n",
      "/* custom css */\n",
      ".tdi_135{\r\n",
      "                    position: relative !important;\r\n",
      "                    top: 0;\r\n",
      "                    transform: none;\r\n",
      "                    -webkit-transform: none;\r\n",
      "                }.tdi_135,\r\n",
      "\t\t\t\t.tdi_135 .tdc-inner-columns{\r\n",
      "\t\t\t\t    display: block;\r\n",
      "\t\t\t\t}.tdi_135 .tdc-inner-columns{\r\n",
      "\t\t\t\t    width: 100%;\r\n",
      "\t\t\t\t}\n",
      "</style><div class=\"vc_column_inner tdi_137  wpb_column vc_column_container tdc-inner-column td-pb-span12\">\n",
      "<style scoped>\n",
      "\n",
      "/* custom css */\n",
      ".tdi_137{\r\n",
      "                    vertical-align: baseline;\r\n",
      "                }.tdi_137 .vc_column-inner > .wpb_wrapper,\r\n",
      "\t\t\t\t.tdi_137 .vc_column-inner > .wpb_wrapper .tdc-elements{\r\n",
      "\t\t\t\t    display: block;\r\n",
      "\t\t\t\t}.tdi_137 .vc_column-inner > .wpb_wrapper .tdc-elements{\r\n",
      "\t\t\t\t    width: 100%;\r\n",
      "\t\t\t\t}\n",
      "/* inline tdc_css att */\n",
      "\n",
      "/* portrait */\n",
      "@media (min-width: 768px) and (max-width: 1018px)\n",
      "{\n",
      ".tdi_137{\n",
      "margin-bottom:0px !important;\n",
      "}\n",
      "}\n",
      "\n",
      "</style><div class=\"vc_column-inner\"><div class=\"wpb_wrapper\" ><div class=\"wpb_wrapper td_block_separator td_block_wrap vc_separator tdi_139  td_separator_solid td_separator_center\"><span style=\"border-color:rgba(255,255,255,0.1);border-width:1px;width:80%;\"></span>\n",
      "<style scoped>\n",
      "\n",
      "/* custom css */\n",
      ".td_block_separator{\r\n",
      "                  width: 100%;\r\n",
      "                  align-items: center;\r\n",
      "                  margin-bottom: 38px;\r\n",
      "                  padding-bottom: 10px;\r\n",
      "                }.td_block_separator span{\r\n",
      "                  position: relative;\r\n",
      "                  display: block;\r\n",
      "                  margin: 0 auto;\r\n",
      "                  width: 100%;\r\n",
      "                  height: 1px;\r\n",
      "                  border-top: 1px solid #EBEBEB;\r\n",
      "                }.td_separator_align_left span{\r\n",
      "                  margin-left: 0;\r\n",
      "                }.td_separator_align_right span{\r\n",
      "                  margin-right: 0;\r\n",
      "                }.td_separator_dashed span{\r\n",
      "                  border-top-style: dashed;\r\n",
      "                }.td_separator_dotted span{\r\n",
      "                  border-top-style: dotted;\r\n",
      "                }.td_separator_double span{\r\n",
      "                  height: 3px;\r\n",
      "                  border-bottom: 1px solid #EBEBEB;\r\n",
      "                }.td_separator_shadow > span{\r\n",
      "                  position: relative;\r\n",
      "                  height: 20px;\r\n",
      "                  overflow: hidden;\r\n",
      "                  border: 0;\r\n",
      "                  color: #EBEBEB;\r\n",
      "                }.td_separator_shadow > span > span{\r\n",
      "                  position: absolute;\r\n",
      "                  top: -30px;\r\n",
      "                  left: 0;\r\n",
      "                  right: 0;\r\n",
      "                  margin: 0 auto;\r\n",
      "                  height: 13px;\r\n",
      "                  width: 98%;\r\n",
      "                  border-radius: 100%;\r\n",
      "                }html :where([style*='border-width']){\r\n",
      "                    border-style: none;\r\n",
      "                }\n",
      "/* inline tdc_css att */\n",
      "\n",
      "/* portrait */\n",
      "@media (min-width: 768px) and (max-width: 1018px)\n",
      "{\n",
      ".tdi_139{\n",
      "margin-bottom:20px !important;\n",
      "}\n",
      "}\n",
      "\n",
      "</style></div></div></div></div></div><div class=\"vc_row_inner tdi_141  vc_row vc_inner wpb_row td-pb-row\" >\n",
      "<style scoped>\n",
      "\n",
      "/* custom css */\n",
      ".tdi_141{\r\n",
      "                    position: relative !important;\r\n",
      "                    top: 0;\r\n",
      "                    transform: none;\r\n",
      "                    -webkit-transform: none;\r\n",
      "                }.tdi_141,\r\n",
      "\t\t\t\t.tdi_141 .tdc-inner-columns{\r\n",
      "\t\t\t\t    display: block;\r\n",
      "\t\t\t\t}.tdi_141 .tdc-inner-columns{\r\n",
      "\t\t\t\t    width: 100%;\r\n",
      "\t\t\t\t}\n",
      "/* inline tdc_css att */\n",
      "\n",
      ".tdi_141{\n",
      "padding-bottom:30px !important;\n",
      "}\n",
      "\n",
      ".tdi_141 .td_block_wrap{ text-align:left }\n",
      "\n",
      "/* portrait */\n",
      "@media (min-width: 768px) and (max-width: 1018px)\n",
      "{\n",
      ".tdi_141{\n",
      "padding-bottom:20px !important;\n",
      "}\n",
      "}\n",
      "\n",
      "</style><div class=\"vc_column_inner tdi_143  wpb_column vc_column_container tdc-inner-column td-pb-span4\">\n",
      "<style scoped>\n",
      "\n",
      "/* custom css */\n",
      ".tdi_143{\r\n",
      "                    vertical-align: baseline;\r\n",
      "                }.tdi_143 .vc_column-inner > .wpb_wrapper,\r\n",
      "\t\t\t\t.tdi_143 .vc_column-inner > .wpb_wrapper .tdc-elements{\r\n",
      "\t\t\t\t    display: block;\r\n",
      "\t\t\t\t}.tdi_143 .vc_column-inner > .wpb_wrapper .tdc-elements{\r\n",
      "\t\t\t\t    width: 100%;\r\n",
      "\t\t\t\t}\n",
      "/* inline tdc_css att */\n",
      "\n",
      ".tdi_143{\n",
      "width:25% !important;\n",
      "}\n",
      "\n",
      "/* phone */\n",
      "@media (max-width: 767px)\n",
      "{\n",
      ".tdi_143{\n",
      "margin-bottom:50px !important;\n",
      "width:100% !important;\n",
      "}\n",
      "}\n",
      "\n",
      "</style><div class=\"vc_column-inner\"><div class=\"wpb_wrapper\" ><div class=\"td_block_wrap tdb_header_logo tdi_144 td-pb-border-top td_block_template_1 tdb-header-align\"  data-td-block-uid=\"tdi_144\" >\n",
      "<style>\n",
      "\n",
      "/* inline tdc_css att */\n",
      "\n",
      ".tdi_144{\n",
      "margin-top:37px !important;\n",
      "}\n",
      "\n",
      "/* portrait */\n",
      "@media (min-width: 768px) and (max-width: 1018px)\n",
      "{\n",
      ".tdi_144{\n",
      "margin-top:44px !important;\n",
      "}\n",
      "}\n",
      "\n",
      "/* phone */\n",
      "@media (max-width: 767px)\n",
      "{\n",
      ".tdi_144{\n",
      "margin-top:0px !important;\n",
      "}\n",
      "}\n",
      "\n",
      "</style>\n",
      "<style>\n",
      "/* custom css */\n",
      ".tdi_144 .tdb-logo-a,\r\n",
      "                .tdi_144 h1{\r\n",
      "                    flex-direction: row;\r\n",
      "                \r\n",
      "                   align-items: flex-start;\r\n",
      "                \r\n",
      "                    justify-content: center;\r\n",
      "                }.tdi_144 .tdb-logo-svg-wrap{\r\n",
      "                    display: block;\r\n",
      "                }.tdi_144 .tdb-logo-svg-wrap + .tdb-logo-img-wrap{\r\n",
      "                    display: none;\r\n",
      "                }.tdi_144 .tdb-logo-img-wrap{\r\n",
      "                    display: block;\r\n",
      "                }.tdi_144 .tdb-logo-text-tagline{\r\n",
      "                    margin-top: 2px;\r\n",
      "                    margin-left: 0;\r\n",
      "                \r\n",
      "                    display: block;\r\n",
      "                }.tdi_144 .tdb-logo-text-title{\r\n",
      "                    display: block;\r\n",
      "                }.tdi_144 .tdb-logo-text-wrap{\r\n",
      "                    flex-direction: column;\r\n",
      "                \r\n",
      "                    align-items: flex-start;\r\n",
      "                }.tdi_144 .tdb-logo-icon{\r\n",
      "                    top: 0px;\r\n",
      "                \r\n",
      "                    display: block;\r\n",
      "                }\n",
      "</style><div class=\"tdb-block-inner td-fix-index\"><a class=\"tdb-logo-a\" href=\"https://insights.blackcoffer.com/\"><span class=\"tdb-logo-img-wrap\"><img class=\"tdb-logo-img\" src=\"https://insights.blackcoffer.com/wp-content/uploads/2023/03/insights-white.png\" alt=\"Logo\"  title=\"\"  width=\"621\" height=\"125\" /></span></a></div></div> <!-- ./block --></div></div></div><div class=\"vc_column_inner tdi_146  wpb_column vc_column_container tdc-inner-column td-pb-span4\">\n",
      "<style scoped>\n",
      "\n",
      "/* custom css */\n",
      ".tdi_146{\r\n",
      "                    vertical-align: baseline;\r\n",
      "                }.tdi_146 .vc_column-inner > .wpb_wrapper,\r\n",
      "\t\t\t\t.tdi_146 .vc_column-inner > .wpb_wrapper .tdc-elements{\r\n",
      "\t\t\t\t    display: block;\r\n",
      "\t\t\t\t}.tdi_146 .vc_column-inner > .wpb_wrapper .tdc-elements{\r\n",
      "\t\t\t\t    width: 100%;\r\n",
      "\t\t\t\t}\n",
      "/* inline tdc_css att */\n",
      "\n",
      ".tdi_146{\n",
      "width:41.66666667% !important;\n",
      "}\n",
      "\n",
      "/* phone */\n",
      "@media (max-width: 767px)\n",
      "{\n",
      ".tdi_146{\n",
      "margin-bottom:50px !important;\n",
      "width:100% !important;\n",
      "justify-content:center !important;\n",
      "text-align:center !important;\n",
      "}\n",
      "}\n",
      "\n",
      "</style><div class=\"vc_column-inner\"><div class=\"wpb_wrapper\" ><div class=\"tdm_block td_block_wrap tdm_block_column_title tdi_147 tdm-content-horiz-left td-pb-border-top td_block_template_1\"  data-td-block-uid=\"tdi_147\" >\n",
      "<style>\n",
      "\n",
      "/* inline tdc_css att */\n",
      "\n",
      "/* phone */\n",
      "@media (max-width: 767px)\n",
      "{\n",
      ".tdi_147{\n",
      "justify-content:center !important;\n",
      "text-align:center !important;\n",
      "}\n",
      "}\n",
      "\n",
      "</style>\n",
      "<style>\n",
      "/* custom css */\n",
      ".tdm_block_column_title{\r\n",
      "                  margin-bottom: 0;\r\n",
      "                  display: inline-block;\r\n",
      "                  width: 100%;\r\n",
      "                }\n",
      "</style><div class=\"td-block-row\"><div class=\"td-block-span12 tdm-col\">\n",
      "<style>\n",
      "body .tdi_148 .tdm-title{\r\n",
      "\t\t\t\t\tcolor: #ffffff;\r\n",
      "\t\t\t\t}.tdi_148 .tdm-title{\r\n",
      "\t\t\t\t\tfont-size:18px !important;line-height:1 !important;font-weight:700 !important;\r\n",
      "\t\t\t\t}\n",
      "</style><div class=\"tds-title tds-title1 td-fix-index tdi_148 \"><h3 class=\"tdm-title tdm-title-md\">ABOUT US</h3></div></div></div></div><div class=\"tdm_block td_block_wrap tdm_block_inline_text tdi_149 td-pb-border-top td_block_template_1\"  data-td-block-uid=\"tdi_149\" >\n",
      "<style>\n",
      "\n",
      "/* inline tdc_css att */\n",
      "\n",
      "/* phone */\n",
      "@media (max-width: 767px)\n",
      "{\n",
      ".tdi_149{\n",
      "justify-content:center !important;\n",
      "text-align:center !important;\n",
      "}\n",
      "}\n",
      "\n",
      "</style>\n",
      "<style>\n",
      "/* custom css */\n",
      ".tdm_block.tdm_block_inline_text{\r\n",
      "                  margin-bottom: 0;\r\n",
      "                  vertical-align: top;\r\n",
      "                }.tdm_block.tdm_block_inline_text .tdm-descr{\r\n",
      "                  margin-bottom: 0;\r\n",
      "                  -webkit-transform: translateZ(0);\r\n",
      "                  transform: translateZ(0);\r\n",
      "                }.tdc-row-content-vert-center .tdm-inline-text-yes{\r\n",
      "                  vertical-align: middle;\r\n",
      "                }.tdc-row-content-vert-bottom .tdm-inline-text-yes{\r\n",
      "                  vertical-align: bottom;\r\n",
      "                }.tdi_149{\r\n",
      "                    text-align: left !important;\r\n",
      "                }.tdi_149 .tdm-descr{\r\n",
      "                    color: #eaeaea;\r\n",
      "                \r\n",
      "\t\t\t\t\tfont-size:14px !important;line-height:1.6 !important;\r\n",
      "\t\t\t\t}\n",
      "\n",
      "/* portrait */\n",
      "@media (min-width: 768px) and (max-width: 1018px){\n",
      ".tdi_149 .tdm-descr{\r\n",
      "\t\t\t\t\tfont-size:13px !important;\r\n",
      "\t\t\t\t}\n",
      "}\n",
      "</style><p class=\"tdm-descr\">We provide intelligence, accelerate innovation and implement technology with extraordinary breadth and depth global insights into the big data,data-driven dashboards, applications development, and information management for organizations through combining unique, specialist services and high-lvel human expertise.</p></div><div class=\"tdm_block td_block_wrap tdm_block_inline_text tdi_150 td-pb-border-top td_block_template_1\"  data-td-block-uid=\"tdi_150\" >\n",
      "<style>\n",
      "\n",
      "/* inline tdc_css att */\n",
      "\n",
      ".tdi_150{\n",
      "margin-top:21px !important;\n",
      "}\n",
      "\n",
      "/* phone */\n",
      "@media (max-width: 767px)\n",
      "{\n",
      ".tdi_150{\n",
      "justify-content:center !important;\n",
      "text-align:center !important;\n",
      "}\n",
      "}\n",
      "\n",
      "</style>\n",
      "<style>\n",
      "/* custom css */\n",
      ".tdi_150{\r\n",
      "                    text-align: left !important;\r\n",
      "                }.tdi_150 .tdm-descr{\r\n",
      "                    color: #eaeaea;\r\n",
      "                \r\n",
      "\t\t\t\t\tfont-size:14px !important;line-height:1.6 !important;\r\n",
      "\t\t\t\t}.tdi_150 .tdm-descr a{\r\n",
      "                    color: #1aa4ce;\r\n",
      "                }\n",
      "\n",
      "/* portrait */\n",
      "@media (min-width: 768px) and (max-width: 1018px){\n",
      ".tdi_150 .tdm-descr{\r\n",
      "\t\t\t\t\tfont-size:13px !important;\r\n",
      "\t\t\t\t}\n",
      "}\n",
      "</style><p class=\"tdm-descr\">Contact us: <a href=\"mailto:hello@blackcoffer.com\">hello@blackcoffer.com</a></p></div></div></div></div><div class=\"vc_column_inner tdi_152  wpb_column vc_column_container tdc-inner-column td-pb-span4\">\n",
      "<style scoped>\n",
      "\n",
      "/* custom css */\n",
      ".tdi_152{\r\n",
      "                    vertical-align: baseline;\r\n",
      "                }.tdi_152 .vc_column-inner > .wpb_wrapper,\r\n",
      "\t\t\t\t.tdi_152 .vc_column-inner > .wpb_wrapper .tdc-elements{\r\n",
      "\t\t\t\t    display: block;\r\n",
      "\t\t\t\t}.tdi_152 .vc_column-inner > .wpb_wrapper .tdc-elements{\r\n",
      "\t\t\t\t    width: 100%;\r\n",
      "\t\t\t\t}\n",
      "/* inline tdc_css att */\n",
      "\n",
      "/* phone */\n",
      "@media (max-width: 767px)\n",
      "{\n",
      ".tdi_152{\n",
      "justify-content:center !important;\n",
      "text-align:center !important;\n",
      "}\n",
      "}\n",
      "\n",
      "</style><div class=\"vc_column-inner\"><div class=\"wpb_wrapper\" ><div class=\"tdm_block td_block_wrap tdm_block_column_title tdi_153 tdm-content-horiz-left td-pb-border-top td_block_template_1\"  data-td-block-uid=\"tdi_153\" >\n",
      "<style>\n",
      "\n",
      "/* inline tdc_css att */\n",
      "\n",
      "/* phone */\n",
      "@media (max-width: 767px)\n",
      "{\n",
      ".tdi_153{\n",
      "justify-content:center !important;\n",
      "text-align:center !important;\n",
      "}\n",
      "}\n",
      "\n",
      "</style><div class=\"td-block-row\"><div class=\"td-block-span12 tdm-col\">\n",
      "<style>\n",
      "body .tdi_154 .tdm-title{\r\n",
      "\t\t\t\t\tcolor: #ffffff;\r\n",
      "\t\t\t\t}.tdi_154 .tdm-title{\r\n",
      "\t\t\t\t\tfont-size:18px !important;line-height:1 !important;font-weight:700 !important;\r\n",
      "\t\t\t\t}\n",
      "</style><div class=\"tds-title tds-title1 td-fix-index tdi_154 \"><h3 class=\"tdm-title tdm-title-md\">FOLLOW US</h3></div></div></div></div><div class=\"tdm_block td_block_wrap tdm_block_socials tdi_155 tdm-content-horiz-left td-pb-border-top td_block_template_1\"  data-td-block-uid=\"tdi_155\" >\n",
      "<style>\n",
      "\n",
      "/* inline tdc_css att */\n",
      "\n",
      "/* phone */\n",
      "@media (max-width: 767px)\n",
      "{\n",
      ".tdi_155{\n",
      "justify-content:center !important;\n",
      "text-align:center !important;\n",
      "}\n",
      "}\n",
      "\n",
      "</style>\n",
      "<style>\n",
      ".tdi_156 .tdm-social-item i{\r\n",
      "\t\t\t\t\tfont-size: 14px;\r\n",
      "\t\t\t\t\tvertical-align: middle;\r\n",
      "\t\t\t\t\r\n",
      "\t\t\t\t\tline-height: 39.2px;\r\n",
      "\t\t\t\t}.tdi_156 .tdm-social-item i.td-icon-twitter,\r\n",
      "\t\t\t\t.tdi_156 .tdm-social-item i.td-icon-linkedin,\r\n",
      "\t\t\t\t.tdi_156 .tdm-social-item i.td-icon-pinterest,\r\n",
      "\t\t\t\t.tdi_156 .tdm-social-item i.td-icon-blogger,\r\n",
      "\t\t\t\t.tdi_156 .tdm-social-item i.td-icon-vimeo{\r\n",
      "\t\t\t\t\tfont-size: 11.2px;\r\n",
      "\t\t\t\t}.tdi_156 .tdm-social-item{\r\n",
      "\t\t\t\t\twidth: 39.2px;\r\n",
      "\t\t\t\t\theight: 39.2px;\r\n",
      "\t\t\t\t\r\n",
      "\t\t\t\t    margin: 5px 10px 5px 0;\r\n",
      "\t\t\t\t\r\n",
      "\t\t\t\t\tbackground: rgba(255,255,255,0.03);\r\n",
      "\t\t\t\t}.tdi_156 .tdm-social-item-wrap:last-child .tdm-social-item{\r\n",
      "\t\t\t\t    margin-right: 0 !important;\r\n",
      "\t\t\t\t}.tdi_156 .tdm-social-item i,\r\n",
      "\t\t\t\t.tds-team-member2 .tdi_156.tds-social4 .tdm-social-item i{\r\n",
      "\t\t\t\t\tcolor: #ffffff;\r\n",
      "\t\t\t\t}.tdi_156 .tdm-social-item-wrap:hover i,\r\n",
      "\t\t\t\tbody .tds-team-member2 .tdi_156.tds-social4 .tdm-social-item-wrap:hover i{\r\n",
      "\t\t\t\t\tcolor: #4db2ec;\r\n",
      "\t\t\t\t}body .tdi_156 .tdm-social-item{\r\n",
      "\t\t\t\t    border: 1px solid rgba(255,255,255,0.03);\r\n",
      "\t\t\t\t}.tdi_156 .tdm-social-text{\r\n",
      "\t\t\t\t\tdisplay: none;\r\n",
      "\t\t\t\t\r\n",
      "\t\t\t\t\tmargin-left: 2px;\r\n",
      "\t\t\t\t\r\n",
      "\t\t\t\t\tmargin-right: 18px;\r\n",
      "\t\t\t\t}\n",
      "\n",
      "/* landscape */\n",
      "@media (min-width: 1019px) and (max-width: 1140px){\n",
      "body .tdi_156 .tdm-social-item{\r\n",
      "\t\t\t\t    border: 1px solid rgba(255,255,255,0.03);\r\n",
      "\t\t\t\t}\n",
      "}\n",
      "\n",
      "/* portrait */\n",
      "@media (min-width: 768px) and (max-width: 1018px){\n",
      ".tdi_156 .tdm-social-item{\r\n",
      "\t\t\t\t\twidth: 35px;\r\n",
      "\t\t\t\t\theight: 35px;\r\n",
      "\t\t\t\t}.tdi_156 .tdm-social-item i{\r\n",
      "\t\t\t\t\tline-height: 35px;\r\n",
      "\t\t\t\t}body .tdi_156 .tdm-social-item{\r\n",
      "\t\t\t\t    border: 1px solid rgba(255,255,255,0.03);\r\n",
      "\t\t\t\t}\n",
      "}\n",
      "\n",
      "/* phone */\n",
      "@media (max-width: 767px){\n",
      "body .tdi_156 .tdm-social-item{\r\n",
      "\t\t\t\t    border: 1px solid rgba(255,255,255,0.03);\r\n",
      "\t\t\t\t}\n",
      "}\n",
      "</style><div class=\"tdm-social-wrapper tds-social4 tdi_156\"><div class=\"tdm-social-item-wrap\"><a href=\"https://www.facebook.com/blackcoffer.consulting\"  target=\"_blank\"  title=\"Facebook\" class=\"tdm-social-item\"><i class=\"td-icon-font td-icon-facebook\"></i><span style=\"display: none\">Facebook</span></a></div><div class=\"tdm-social-item-wrap\"><a href=\"https://www.linkedin.com/company/blackcoffer\"  target=\"_blank\"  title=\"Linkedin\" class=\"tdm-social-item\"><i class=\"td-icon-font td-icon-linkedin\"></i><span style=\"display: none\">Linkedin</span></a></div><div class=\"tdm-social-item-wrap\"><a href=\"https://twitter.com/Blackcoffer1\"  target=\"_blank\"  title=\"Twitter\" class=\"tdm-social-item\"><i class=\"td-icon-font td-icon-twitter\"></i><span style=\"display: none\">Twitter</span></a></div><div class=\"tdm-social-item-wrap\"><a href=\"https://www.youtube.com/channel/UCfr95TYacXeHI3cklmYdtXg\"  target=\"_blank\"  title=\"Youtube\" class=\"tdm-social-item\"><i class=\"td-icon-font td-icon-youtube\"></i><span style=\"display: none\">Youtube</span></a></div></div></div></div></div></div></div></div></div></div></div><div id=\"tdi_157\" class=\"tdc-row stretch_row\"><div class=\"vc_row tdi_158  wpb_row td-pb-row tdc-element-style\" >\n",
      "<style scoped>\n",
      "\n",
      "/* custom css */\n",
      ".tdi_158,\r\n",
      "                .tdi_158 .tdc-columns{\r\n",
      "                    min-height: 0;\r\n",
      "                }.tdi_158,\r\n",
      "\t\t\t\t.tdi_158 .tdc-columns{\r\n",
      "\t\t\t\t    display: block;\r\n",
      "\t\t\t\t}.tdi_158 .tdc-columns{\r\n",
      "\t\t\t\t    width: 100%;\r\n",
      "\t\t\t\t}\n",
      "/* inline tdc_css att */\n",
      "\n",
      ".tdi_158{\n",
      "position:relative;\n",
      "}\n",
      "\n",
      ".tdi_158 .td_block_wrap{ text-align:left }\n",
      "\n",
      "/* phone */\n",
      "@media (max-width: 767px)\n",
      "{\n",
      ".tdi_158{\n",
      "padding-top:6px !important;\n",
      "padding-bottom:6px !important;\n",
      "}\n",
      "}\n",
      "\n",
      "</style>\n",
      "<div class=\"tdi_157_rand_style td-element-style\" ><style>\n",
      ".tdi_157_rand_style{\n",
      "background-color:#0d0d0d !important;\n",
      "}\n",
      " </style></div><div class=\"vc_column tdi_160  wpb_column vc_column_container tdc-column td-pb-span6\">\n",
      "<style scoped>\n",
      "\n",
      "/* custom css */\n",
      ".tdi_160{\r\n",
      "                    vertical-align: baseline;\r\n",
      "                }.tdi_160 > .wpb_wrapper,\r\n",
      "\t\t\t\t.tdi_160 > .wpb_wrapper > .tdc-elements{\r\n",
      "\t\t\t\t    display: block;\r\n",
      "\t\t\t\t}.tdi_160 > .wpb_wrapper > .tdc-elements{\r\n",
      "\t\t\t\t    width: 100%;\r\n",
      "\t\t\t\t}.tdi_160 > .wpb_wrapper > .vc_row_inner{\r\n",
      "\t\t\t\t    width: auto;\r\n",
      "\t\t\t\t}.tdi_160 > .wpb_wrapper{\r\n",
      "\t\t\t\t    width: auto;\r\n",
      "\t\t\t\t    height: auto;\r\n",
      "\t\t\t\t}\n",
      "</style><div class=\"wpb_wrapper\" ><div class=\"tdm_block td_block_wrap tdm_block_inline_text tdi_161 td-pb-border-top td_block_template_1\"  data-td-block-uid=\"tdi_161\" >\n",
      "<style>\n",
      "\n",
      "/* inline tdc_css att */\n",
      "\n",
      ".tdi_161{\n",
      "margin-top:2px !important;\n",
      "margin-bottom:0px !important;\n",
      "padding-top:8px !important;\n",
      "padding-bottom:8px !important;\n",
      "}\n",
      "\n",
      "/* phone */\n",
      "@media (max-width: 767px)\n",
      "{\n",
      ".tdi_161{\n",
      "margin-top:0px !important;\n",
      "justify-content:center !important;\n",
      "text-align:center !important;\n",
      "}\n",
      "}\n",
      "\n",
      "</style>\n",
      "<style>\n",
      "/* custom css */\n",
      ".tdi_161{\r\n",
      "                    text-align: left !important;\r\n",
      "                }.tdi_161 .tdm-descr{\r\n",
      "                    color: #cccccc;\r\n",
      "                \r\n",
      "\t\t\t\t\tfont-size:12px !important;line-height:21px !important;\r\n",
      "\t\t\t\t}\n",
      "</style><p class=\"tdm-descr\">&copy; All Right Reserved, Blackcoffer(OPC) Pvt. Ltd</p></div></div></div><div class=\"vc_column tdi_163  wpb_column vc_column_container tdc-column td-pb-span6\">\n",
      "<style scoped>\n",
      "\n",
      "/* custom css */\n",
      ".tdi_163{\r\n",
      "                    vertical-align: baseline;\r\n",
      "                }.tdi_163 > .wpb_wrapper,\r\n",
      "\t\t\t\t.tdi_163 > .wpb_wrapper > .tdc-elements{\r\n",
      "\t\t\t\t    display: block;\r\n",
      "\t\t\t\t}.tdi_163 > .wpb_wrapper > .tdc-elements{\r\n",
      "\t\t\t\t    width: 100%;\r\n",
      "\t\t\t\t}.tdi_163 > .wpb_wrapper > .vc_row_inner{\r\n",
      "\t\t\t\t    width: auto;\r\n",
      "\t\t\t\t}.tdi_163 > .wpb_wrapper{\r\n",
      "\t\t\t\t    width: auto;\r\n",
      "\t\t\t\t    height: auto;\r\n",
      "\t\t\t\t}\n",
      "/* inline tdc_css att */\n",
      "\n",
      ".tdi_163{\n",
      "justify-content:flex-end !important;\n",
      "text-align:right !important;\n",
      "}\n",
      "\n",
      "/* phone */\n",
      "@media (max-width: 767px)\n",
      "{\n",
      ".tdi_163{\n",
      "justify-content:center !important;\n",
      "text-align:center !important;\n",
      "}\n",
      "}\n",
      "\n",
      "</style><div class=\"wpb_wrapper\" ><div class=\"td_block_wrap td_block_list_menu tdi_164 td-blm-display-horizontal td-pb-border-top td_block_template_1 widget\"  data-td-block-uid=\"tdi_164\" >\n",
      "<style>\n",
      "\n",
      "/* inline tdc_css att */\n",
      "\n",
      ".tdi_164{\n",
      "margin-bottom:0px !important;\n",
      "padding-top:8px !important;\n",
      "padding-bottom:8px !important;\n",
      "}\n",
      "\n",
      "/* desktop */ @media(min-width: 1141px) { .tdi_164 { \n",
      "display:inline-table !important;\n",
      "} }\n",
      "\n",
      "/* phone */\n",
      "@media (max-width: 767px)\n",
      "{\n",
      ".tdi_164{\n",
      "margin-left:16px !important;\n",
      "justify-content:center !important;\n",
      "text-align:center !important;\n",
      "display:inline-table !important;\n",
      "}\n",
      "}\n",
      "\n",
      "/* portrait */\n",
      "@media (min-width: 768px) and (max-width: 1018px)\n",
      "{\n",
      ".tdi_164{\n",
      "display:inline-table !important;\n",
      "}\n",
      "}\n",
      "\n",
      "/* landscape */\n",
      "@media (min-width: 1019px) and (max-width: 1140px)\n",
      "{\n",
      ".tdi_164{\n",
      "display:inline-table !important;\n",
      "}\n",
      "}\n",
      "\n",
      "</style>\n",
      "<style>\n",
      "/* custom css */\n",
      ".td_block_list_menu ul{\r\n",
      "                  flex-wrap: wrap;\r\n",
      "                  margin-left: 12px;\r\n",
      "                }.td_block_list_menu ul li{\r\n",
      "\t\t\t\t\tmargin-left: 0;\r\n",
      "\t\t\t\t}.td_block_list_menu ul li a{\r\n",
      "\t\t\t\t\tdisplay: flex;\r\n",
      "                  \tmargin-left: 0;\r\n",
      "                }.td_block_list_menu .td-blm-menu-item-txt{\r\n",
      "\t\t\t\t\tdisplay: flex;\r\n",
      "\t\t\t\t\talign-items: center;\r\n",
      "\t\t\t\t\tflex-grow: 1;\r\n",
      "\t\t\t\t}.td_block_list_menu .sub-menu{\r\n",
      "                  padding-left: 22px;\r\n",
      "                }.td_block_list_menu .sub-menu li{\r\n",
      "                  font-size: 13px;\r\n",
      "                }.td_block_list_menu li.current-menu-item > a,\r\n",
      "\t\t\t\t.td_block_list_menu li.current-menu-ancestor > a,\r\n",
      "\t\t\t\t.td_block_list_menu li.current-category-ancestor > a{\r\n",
      "\t\t\t\t    color: #4db2ec;\r\n",
      "\t\t\t\t}.td_block_list_menu .td-blm-sub-icon{\r\n",
      "\t\t\t\t\tdisplay: flex;\r\n",
      "\t\t\t\t\talign-items: center;\r\n",
      "\t\t\t\t\tjustify-content: center;\r\n",
      "\t\t\t\t\tmargin-left: .6em;\r\n",
      "\t\t\t\t\tpadding: 0 .6em;\r\n",
      "\t\t\t\t\ttransition: transform .2s ease-in-out;\r\n",
      "\t\t\t\t}.td_block_list_menu .td-blm-sub-icon svg{\r\n",
      "\t\t\t\t\tdisplay: block;\r\n",
      "\t\t\t\t\twidth: 1em;\r\n",
      "\t\t\t\t\theight: auto;\r\n",
      "\t\t\t\t}.td_block_list_menu .td-blm-sub-icon svg,\r\n",
      "\t\t\t\t.td_block_list_menu .td-blm-sub-icon svg *{\r\n",
      "\t\t\t\t\tfill: currentColor;\r\n",
      "\t\t\t\t}.td_block_list_menu.td-blm-display-accordion .menu-item-has-children ul{\r\n",
      "\t\t\t\t\tdisplay: none;\r\n",
      "\t\t\t\t}.td_block_list_menu.td-blm-display-accordion .menu-item-has-children-open > a > .td-blm-sub-icon{\r\n",
      "\t\t\t\t\ttransform: rotate(180deg);\r\n",
      "\t\t\t\t}.td_block_list_menu.td-blm-display-horizontal ul{\r\n",
      "\t\t\t\t\tdisplay: flex;\r\n",
      "\t\t\t\t}body .tdi_164 ul{\r\n",
      "\t\t\t\t\ttext-align: left;\r\n",
      "\t\t\t\t\tjustify-content: flex-start;\r\n",
      "\t\t\t\t\r\n",
      "\t\t\t\t\tmargin: 0px;\r\n",
      "\t\t\t\t}body .tdi_164 ul li a{\r\n",
      "\t\t\t\t\tjustify-content: flex-start;\r\n",
      "\t\t\t\t}body .tdi_164 .td-blm-menu-item-txt{\r\n",
      "\t\t\t\t\tflex-grow: 1;\r\n",
      "\t\t\t\t}body .tdi_164 ul li{\r\n",
      "\t\t\t\t\tmargin-right: 16px;\r\n",
      "\t\t\t\t}body .tdi_164 ul li:last-child{\r\n",
      "\t\t\t\t\tmargin-right: 0;\r\n",
      "\t\t\t\t}body .tdi_164 a,\r\n",
      "\t\t\t\tbody .tdi_164 .td-blm-sub-icon{\r\n",
      "\t\t\t\t\tcolor: #cccccc;\r\n",
      "\t\t\t\t}body .tdi_164 li.current-menu-item > a,\r\n",
      "\t\t\t\tbody .tdi_164 li.current-menu-ancestor > a,\r\n",
      "\t\t\t\tbody .tdi_164 li.current-category-ancestor > a,\r\n",
      "\t\t\t\tbody .tdi_164 a:hover,\r\n",
      "\t\t\t\tbody .tdi_164 li.current-menu-item > a > .td-blm-sub-icon,\r\n",
      "\t\t\t\tbody .tdi_164 li.current-menu-ancestor > a > .td-blm-sub-icon,\r\n",
      "\t\t\t\tbody .tdi_164 li.current-category-ancestor > a > .td-blm-sub-icon,\r\n",
      "\t\t\t\tbody .tdi_164 a:hover > .td-blm-sub-icon{\r\n",
      "\t\t\t\t\tcolor: #1aa4ce;\r\n",
      "\t\t\t\t}body .tdi_164 li{\r\n",
      "\t\t\t\t\tfont-size:12px !important;line-height:21px !important;\r\n",
      "\t\t\t\t}\n",
      "</style><div class=\"td-block-title-wrap\"></div><div id=tdi_164 class=\"td_block_inner td-fix-index\"><div class=\"menu-main-2-container\"><ul id=\"menu-main-7\" class=\"menu\"><li class=\"menu-item menu-item-type-taxonomy menu-item-object-category menu-item-4058\"><a href=\"https://insights.blackcoffer.com/category/our-success-stories/\"><span class=\"td-blm-menu-item-txt\">Our Success Stories</span></a></li>\n",
      "<li class=\"menu-item menu-item-type-taxonomy menu-item-object-category menu-item-4059\"><a href=\"https://insights.blackcoffer.com/category/our-solutions/\"><span class=\"td-blm-menu-item-txt\">What We Do</span></a></li>\n",
      "<li class=\"menu-item menu-item-type-taxonomy menu-item-object-category current-post-ancestor current-menu-parent current-post-parent menu-item-4060\"><a href=\"https://insights.blackcoffer.com/category/what-we-think/\"><span class=\"td-blm-menu-item-txt\">What We Think</span></a></li>\n",
      "<li class=\"menu-item menu-item-type-taxonomy menu-item-object-category menu-item-4061\"><a href=\"https://insights.blackcoffer.com/category/how-to/\"><span class=\"td-blm-menu-item-txt\">How To</span></a></li>\n",
      "<li class=\"menu-item menu-item-type-custom menu-item-object-custom menu-item-4062\"><a target=\"_blank\" rel=\"noopener\" href=\"https://blackcoffer.com/get-blackcoffer-demo/\"><span class=\"td-blm-menu-item-txt\">Schedule Demo</span></a></li>\n",
      "<li class=\"menu-item menu-item-type-post_type menu-item-object-page menu-item-4063\"><a href=\"https://insights.blackcoffer.com/contact/\"><span class=\"td-blm-menu-item-txt\">Contact</span></a></li>\n",
      "</ul></div></div></div></div></div></div></div></div></div>        </div>\r\n",
      "\r\n",
      "    </div>\r\n",
      "    \r\n",
      "</div><!--close td-outer-wrap-->\r\n",
      "\r\n",
      "\r\n",
      "\r\n",
      "\t\t<script>\r\n",
      "\t\t\twindow.RS_MODULES = window.RS_MODULES || {};\r\n",
      "\t\t\twindow.RS_MODULES.modules = window.RS_MODULES.modules || {};\r\n",
      "\t\t\twindow.RS_MODULES.waiting = window.RS_MODULES.waiting || [];\r\n",
      "\t\t\twindow.RS_MODULES.defered = true;\r\n",
      "\t\t\twindow.RS_MODULES.moduleWaiting = window.RS_MODULES.moduleWaiting || {};\r\n",
      "\t\t\twindow.RS_MODULES.type = 'compiled';\r\n",
      "\t\t</script>\r\n",
      "\t\t\r\n",
      "\r\n",
      "    <!--\r\n",
      "\r\n",
      "        Theme: Newspaper by tagDiv.com 2023\r\n",
      "        Version: 12.5.1 (rara)\r\n",
      "        Deploy mode: deploy\r\n",
      "        \r\n",
      "        uid: 651e75e6d1645\r\n",
      "    -->\r\n",
      "\r\n",
      "    <link rel='stylesheet' id='rs-plugin-settings-css' href='https://insights.blackcoffer.com/wp-content/plugins/public/assets/css/rs6.css?ver=6.6.10' type='text/css' media='all' />\n",
      "<style id='rs-plugin-settings-inline-css' type='text/css'>\n",
      "#rs-demo-id {}\n",
      "</style>\n",
      "<script type='text/javascript' src='https://insights.blackcoffer.com/wp-content/plugins/public/assets/js/rbtools.min.js?ver=6.6.10' defer async id='tp-tools-js'></script>\n",
      "<script type='text/javascript' src='https://insights.blackcoffer.com/wp-content/plugins/public/assets/js/rs6.min.js?ver=6.6.10' defer async id='revmin-js'></script>\n",
      "<script type='text/javascript' src='https://insights.blackcoffer.com/wp-includes/js/underscore.min.js?ver=1.13.4' id='underscore-js'></script>\n",
      "<script type='text/javascript' src='https://insights.blackcoffer.com/wp-content/plugins/td-cloud-library/assets/js/js_posts_autoload.min.js?ver=0390de2d4222fae8efaeae107c326a4e' id='tdb_js_posts_autoload-js'></script>\n",
      "<script type='text/javascript' src='https://insights.blackcoffer.com/wp-content/plugins/td-composer/legacy/Newspaper/js/tagdiv_theme.min.js?ver=12.5.1' id='td-site-min-js'></script>\n",
      "<script type='text/javascript' src='https://insights.blackcoffer.com/wp-includes/js/comment-reply.min.js?ver=6.1.3' id='comment-reply-js'></script>\n",
      "<script type='text/javascript' id='tds_js_files_for_front-js-extra'>\n",
      "/* <![CDATA[ */\n",
      "var tds_js_globals = {\"wpRestNonce\":\"f3295ae871\",\"wpRestUrl\":\"https:\\/\\/insights.blackcoffer.com\\/wp-json\\/\",\"permalinkStructure\":\"\\/%postname%\\/\"};\n",
      "/* ]]> */\n",
      "</script>\n",
      "<script type='text/javascript' src='https://insights.blackcoffer.com/wp-content/plugins/td-subscription/assets/js/js_files_for_front.min.js?ver=1.4.4' id='tds_js_files_for_front-js'></script>\n",
      "<script type='text/javascript' src='https://insights.blackcoffer.com/wp-content/plugins/td-cloud-library/assets/js/js_files_for_front.min.js?ver=0390de2d4222fae8efaeae107c326a4e' id='tdb_js_files_for_front-js'></script>\n",
      "<script>\r\n",
      "// Use querySelectorAll to select elements with the specific id and classes\r\n",
      "const elements = document.querySelectorAll(\"#tdi_112.td-related-left.td-cur-simple-item\");\r\n",
      "\r\n",
      "// Iterate through the selected elements (if there are multiple)\r\n",
      "elements.forEach(element => {\r\n",
      "  // You can now manipulate the element, for example, changing the text\r\n",
      "  element.innerHTML = \"RELATED INSIGHTS\";\r\n",
      "});\r\n",
      "\r\n",
      "</script>\n",
      "<!-- JS generated by theme -->\n",
      "\n",
      "<script>\n",
      "    \n",
      "\n",
      "            \r\n",
      "                /* global jQuery:{} */\r\n",
      "                jQuery(document).ready( function () {\r\n",
      "\r\n",
      "                    var tdbMenuItem = new tdbMenu.item();\r\n",
      "                    tdbMenuItem.blockUid = 'tdi_1';\r\n",
      "                    tdbMenuItem.jqueryObj = jQuery('.tdi_1');\r\n",
      "\r\n",
      "\t                \r\n",
      "                    tdbMenuItem.isMegaMenuFull = true;\r\n",
      "\r\n",
      "\t                \r\n",
      "\t                \r\n",
      "                    tdbMenuItem.megaMenuLoadType = '';\r\n",
      "\r\n",
      "\t                \r\n",
      "                    tdbMenu.addItem(tdbMenuItem);\r\n",
      "\r\n",
      "                });\r\n",
      "            \r\n",
      "            \n",
      "\n",
      "            \r\n",
      "                /* global jQuery:{} */\r\n",
      "                jQuery(document).ready( function () {\r\n",
      "\r\n",
      "                    var tdbMenuItem = new tdbMenu.item();\r\n",
      "                    tdbMenuItem.blockUid = 'tdi_56';\r\n",
      "                    tdbMenuItem.jqueryObj = jQuery('.tdi_56');\r\n",
      "\r\n",
      "\t                \r\n",
      "                    tdbMenuItem.isMegaMenuFull = true;\r\n",
      "\r\n",
      "\t                \r\n",
      "\t                \r\n",
      "                    tdbMenuItem.megaMenuLoadType = '';\r\n",
      "\r\n",
      "\t                \r\n",
      "                    tdbMenu.addItem(tdbMenuItem);\r\n",
      "\r\n",
      "                });\r\n",
      "            \r\n",
      "            \n",
      "\n",
      "            \r\n",
      "                jQuery().ready(function () {\r\n",
      "\r\n",
      "                    var blockClass = '.tdi_29';\r\n",
      "\r\n",
      "                    jQuery(blockClass + '.tdb-horiz-menu-singleline > .menu-item-has-children a').click(function (e) {\r\n",
      "                        e.preventDefault();\r\n",
      "                    })\r\n",
      "\r\n",
      "                });\r\n",
      "            \r\n",
      "            \n",
      "\n",
      "            \r\n",
      "                /* global jQuery:{} */\r\n",
      "                jQuery(document).ready( function () {\r\n",
      "\r\n",
      "                    var tdbMenuItem = new tdbMenu.item();\r\n",
      "                    tdbMenuItem.blockUid = 'tdi_48';\r\n",
      "                    tdbMenuItem.jqueryObj = jQuery('.tdi_48');\r\n",
      "\r\n",
      "\t                \r\n",
      "                    tdbMenuItem.isMegaMenuFull = true;\r\n",
      "\r\n",
      "\t                \r\n",
      "\t                \r\n",
      "                    tdbMenuItem.megaMenuLoadType = '';\r\n",
      "\r\n",
      "\t                \r\n",
      "                    tdbMenu.addItem(tdbMenuItem);\r\n",
      "\r\n",
      "                });\r\n",
      "            \r\n",
      "            \n",
      "\n",
      "        \r\n",
      "            jQuery().ready(function () {\r\n",
      "\r\n",
      "                var tdbSearchItem = new tdbSearch.item();\r\n",
      "\r\n",
      "                //block unique ID\r\n",
      "                tdbSearchItem.blockUid = 'tdi_103';\r\n",
      "                tdbSearchItem.blockAtts = '{\"inline\":\"yes\",\"toggle_txt_pos\":\"after\",\"form_align\":\"content-horiz-right\",\"results_msg_align\":\"content-horiz-center\",\"image_floated\":\"float_left\",\"image_width\":\"30\",\"image_size\":\"td_324x400\",\"show_cat\":\"none\",\"show_btn\":\"none\",\"show_date\":\"\",\"show_review\":\"\",\"show_com\":\"none\",\"show_excerpt\":\"none\",\"show_author\":\"none\",\"art_title\":\"0 0 2px 0\",\"all_modules_space\":\"20\",\"tdicon\":\"td-icon-search\",\"icon_size\":\"eyJhbGwiOiIyMCIsInBvcnRyYWl0IjoiMTgifQ==\",\"tdc_css\":\"eyJhbGwiOnsiZGlzcGxheSI6IiJ9LCJwb3J0cmFpdCI6eyJtYXJnaW4tdG9wIjoiMSIsImRpc3BsYXkiOiIifSwicG9ydHJhaXRfbWF4X3dpZHRoIjoxMDE4LCJwb3J0cmFpdF9taW5fd2lkdGgiOjc2OH0=\",\"modules_on_row\":\"eyJhbGwiOiI1MCUiLCJwb3J0cmFpdCI6IjUwJSIsImxhbmRzY2FwZSI6IjUwJSJ9\",\"meta_info_horiz\":\"content-horiz-left\",\"form_width\":\"600\",\"input_border\":\"0 0 1px 0\",\"modules_divider\":\"\",\"form_padding\":\"eyJwb3J0cmFpdCI6IjIwcHggMjBweCAyMHB4IiwiYWxsIjoiMzBweCJ9\",\"arrow_color\":\"#ffffff\",\"btn_bg_h\":\"rgba(0,0,0,0)\",\"btn_tdicon\":\"td-icon-menu-right\",\"btn_icon_pos\":\"after\",\"btn_icon_size\":\"7\",\"btn_icon_space\":\"8\",\"f_title_font_family\":\"\",\"f_cat_font_family\":\"\",\"f_cat_font_transform\":\"uppercase\",\"f_title_font_weight\":\"\",\"f_title_font_transform\":\"\",\"f_title_font_size\":\"13\",\"title_txt_hover\":\"#4db2ec\",\"results_limit\":\"6\",\"float_block\":\"yes\",\"icon_color\":\"#000000\",\"results_border\":\"0 0 1px 0\",\"f_title_font_line_height\":\"1.4\",\"btn_color\":\"#000000\",\"btn_color_h\":\"#4db2ec\",\"all_underline_color\":\"\",\"results_msg_color_h\":\"#4db2ec\",\"image_height\":\"100\",\"meta_padding\":\"3px 0 0 16px\",\"modules_gap\":\"20\",\"mc1_tl\":\"12\",\"show_form\":\"yes\",\"f_meta_font_weight\":\"\",\"h_effect\":\"\",\"results_msg_padding\":\"10px 0\",\"f_results_msg_font_style\":\"normal\",\"video_icon\":\"24\",\"modules_divider_color\":\"\",\"modules_border_color\":\"\",\"btn_padding\":\"0\",\"form_border\":\"0\",\"form_shadow_shadow_offset_vertical\":\"3\",\"results_padding\":\"0 30px 30px\",\"btn_bg\":\"rgba(0,0,0,0)\",\"icon_padding\":\"eyJhbGwiOiIyLjMiLCJwb3J0cmFpdCI6IjIuNiJ9\",\"block_type\":\"tdb_header_search\",\"post_type\":\"\",\"disable_trigger\":\"\",\"show_results\":\"yes\",\"separator\":\"\",\"disable_live_search\":\"\",\"exclude_pages\":\"\",\"exclude_posts\":\"\",\"search_section_header\":\"\",\"results_section_1_title\":\"\",\"results_section_1_taxonomies\":\"\",\"results_section_1_level\":\"\",\"results_section_2_title\":\"\",\"results_section_2_taxonomies\":\"\",\"results_section_2_level\":\"\",\"results_section_3_title\":\"\",\"results_section_3_taxonomies\":\"\",\"results_section_3_level\":\"\",\"results_section_search_query_terms\":\"\",\"results_section_search_query_terms_title\":\"\",\"results_section_search_query_terms_taxonomies\":\"\",\"sec_title_space\":\"\",\"sec_title_color\":\"\",\"tax_space\":\"\",\"tax_title_color\":\"\",\"tax_title_color_h\":\"\",\"f_sec_title_font_header\":\"\",\"f_sec_title_font_title\":\"Section title text\",\"f_sec_title_font_settings\":\"\",\"f_sec_title_font_family\":\"\",\"f_sec_title_font_size\":\"\",\"f_sec_title_font_line_height\":\"\",\"f_sec_title_font_style\":\"\",\"f_sec_title_font_weight\":\"\",\"f_sec_title_font_transform\":\"\",\"f_sec_title_font_spacing\":\"\",\"f_sec_title_\":\"\",\"f_tax_title_font_title\":\"Taxonomy title text\",\"f_tax_title_font_settings\":\"\",\"f_tax_title_font_family\":\"\",\"f_tax_title_font_size\":\"\",\"f_tax_title_font_line_height\":\"\",\"f_tax_title_font_style\":\"\",\"f_tax_title_font_weight\":\"\",\"f_tax_title_font_transform\":\"\",\"f_tax_title_font_spacing\":\"\",\"f_tax_title_\":\"\",\"toggle_txt\":\"\",\"toggle_txt_align\":\"0\",\"toggle_txt_space\":\"\",\"toggle_horiz_align\":\"content-horiz-left\",\"form_offset\":\"\",\"form_offset_left\":\"\",\"form_content_width\":\"\",\"form_align_screen\":\"\",\"input_placeholder\":\"\",\"placeholder_travel\":\"0\",\"input_padding\":\"\",\"input_radius\":\"\",\"btn_text\":\"Search\",\"btn_icon_align\":\"0\",\"btn_margin\":\"\",\"btn_border\":\"\",\"btn_radius\":\"\",\"results_msg_border\":\"\",\"mc1_title_tag\":\"\",\"mc1_el\":\"\",\"open_in_new_window\":\"\",\"m_padding\":\"\",\"modules_border_size\":\"\",\"modules_border_style\":\"\",\"image_alignment\":\"50\",\"image_radius\":\"\",\"hide_image\":\"\",\"show_vid_t\":\"block\",\"vid_t_margin\":\"\",\"vid_t_padding\":\"\",\"vid_t_color\":\"\",\"vid_t_bg_color\":\"\",\"f_vid_time_font_header\":\"\",\"f_vid_time_font_title\":\"Video duration text\",\"f_vid_time_font_settings\":\"\",\"f_vid_time_font_family\":\"\",\"f_vid_time_font_size\":\"\",\"f_vid_time_font_line_height\":\"\",\"f_vid_time_font_style\":\"\",\"f_vid_time_font_weight\":\"\",\"f_vid_time_font_transform\":\"\",\"f_vid_time_font_spacing\":\"\",\"f_vid_time_\":\"\",\"excl_show\":\"inline-block\",\"excl_txt\":\"\",\"excl_margin\":\"\",\"excl_padd\":\"\",\"all_excl_border\":\"\",\"all_excl_border_style\":\"solid\",\"excl_radius\":\"\",\"excl_color\":\"\",\"excl_color_h\":\"\",\"excl_bg\":\"\",\"excl_bg_h\":\"\",\"all_excl_border_color\":\"\",\"excl_border_color_h\":\"\",\"f_excl_font_header\":\"\",\"f_excl_font_title\":\"Label text\",\"f_excl_font_settings\":\"\",\"f_excl_font_family\":\"\",\"f_excl_font_size\":\"\",\"f_excl_font_line_height\":\"\",\"f_excl_font_style\":\"\",\"f_excl_font_weight\":\"\",\"f_excl_font_transform\":\"\",\"f_excl_font_spacing\":\"\",\"f_excl_\":\"\",\"meta_info_align\":\"\",\"meta_width\":\"\",\"meta_margin\":\"\",\"meta_info_border_size\":\"\",\"meta_info_border_style\":\"\",\"meta_info_border_color\":\"#eaeaea\",\"art_btn\":\"\",\"modules_category\":\"\",\"modules_category_margin\":\"\",\"modules_category_padding\":\"\",\"modules_cat_border\":\"\",\"modules_category_radius\":\"0\",\"modules_extra_cat\":\"\",\"author_photo\":\"\",\"author_photo_size\":\"\",\"author_photo_space\":\"\",\"author_photo_radius\":\"\",\"show_modified_date\":\"\",\"time_ago\":\"\",\"time_ago_add_txt\":\"ago\",\"time_ago_txt_pos\":\"\",\"review_space\":\"\",\"review_size\":\"2.5\",\"review_distance\":\"\",\"art_excerpt\":\"\",\"excerpt_col\":\"1\",\"excerpt_gap\":\"\",\"excerpt_middle\":\"\",\"btn_title\":\"\",\"btn_border_width\":\"\",\"form_general_bg\":\"\",\"icon_color_h\":\"\",\"toggle_txt_color\":\"\",\"toggle_txt_color_h\":\"\",\"f_toggle_txt_font_header\":\"\",\"f_toggle_txt_font_title\":\"Text\",\"f_toggle_txt_font_settings\":\"\",\"f_toggle_txt_font_family\":\"\",\"f_toggle_txt_font_size\":\"\",\"f_toggle_txt_font_line_height\":\"\",\"f_toggle_txt_font_style\":\"\",\"f_toggle_txt_font_weight\":\"\",\"f_toggle_txt_font_transform\":\"\",\"f_toggle_txt_font_spacing\":\"\",\"f_toggle_txt_\":\"\",\"form_bg\":\"\",\"form_border_color\":\"\",\"form_shadow_shadow_header\":\"\",\"form_shadow_shadow_title\":\"Shadow\",\"form_shadow_shadow_size\":\"\",\"form_shadow_shadow_offset_horizontal\":\"\",\"form_shadow_shadow_spread\":\"\",\"form_shadow_shadow_color\":\"\",\"input_color\":\"\",\"placeholder_color\":\"\",\"placeholder_opacity\":\"0\",\"input_bg\":\"\",\"input_border_color\":\"\",\"input_shadow_shadow_header\":\"\",\"input_shadow_shadow_title\":\"Input shadow\",\"input_shadow_shadow_size\":\"\",\"input_shadow_shadow_offset_horizontal\":\"\",\"input_shadow_shadow_offset_vertical\":\"\",\"input_shadow_shadow_spread\":\"\",\"input_shadow_shadow_color\":\"\",\"btn_icon_color\":\"\",\"btn_icon_color_h\":\"\",\"btn_border_color\":\"\",\"btn_border_color_h\":\"\",\"btn_shadow_shadow_header\":\"\",\"btn_shadow_shadow_title\":\"Button shadow\",\"btn_shadow_shadow_size\":\"\",\"btn_shadow_shadow_offset_horizontal\":\"\",\"btn_shadow_shadow_offset_vertical\":\"\",\"btn_shadow_shadow_spread\":\"\",\"btn_shadow_shadow_color\":\"\",\"f_input_font_header\":\"\",\"f_input_font_title\":\"Input text\",\"f_input_font_settings\":\"\",\"f_input_font_family\":\"\",\"f_input_font_size\":\"\",\"f_input_font_line_height\":\"\",\"f_input_font_style\":\"\",\"f_input_font_weight\":\"\",\"f_input_font_transform\":\"\",\"f_input_font_spacing\":\"\",\"f_input_\":\"\",\"f_placeholder_font_title\":\"Placeholder text\",\"f_placeholder_font_settings\":\"\",\"f_placeholder_font_family\":\"\",\"f_placeholder_font_size\":\"\",\"f_placeholder_font_line_height\":\"\",\"f_placeholder_font_style\":\"\",\"f_placeholder_font_weight\":\"\",\"f_placeholder_font_transform\":\"\",\"f_placeholder_font_spacing\":\"\",\"f_placeholder_\":\"\",\"f_btn_font_title\":\"Button text\",\"f_btn_font_settings\":\"\",\"f_btn_font_family\":\"\",\"f_btn_font_size\":\"\",\"f_btn_font_line_height\":\"\",\"f_btn_font_style\":\"\",\"f_btn_font_weight\":\"\",\"f_btn_font_transform\":\"\",\"f_btn_font_spacing\":\"\",\"f_btn_\":\"\",\"results_bg\":\"\",\"results_border_color\":\"\",\"results_msg_color\":\"\",\"results_msg_bg\":\"\",\"results_msg_border_color\":\"\",\"f_results_msg_font_header\":\"\",\"f_results_msg_font_title\":\"Text\",\"f_results_msg_font_settings\":\"\",\"f_results_msg_font_family\":\"\",\"f_results_msg_font_size\":\"\",\"f_results_msg_font_line_height\":\"\",\"f_results_msg_font_weight\":\"\",\"f_results_msg_font_transform\":\"\",\"f_results_msg_font_spacing\":\"\",\"f_results_msg_\":\"\",\"m_bg\":\"\",\"color_overlay\":\"\",\"shadow_module_shadow_header\":\"\",\"shadow_module_shadow_title\":\"Module Shadow\",\"shadow_module_shadow_size\":\"\",\"shadow_module_shadow_offset_horizontal\":\"\",\"shadow_module_shadow_offset_vertical\":\"\",\"shadow_module_shadow_spread\":\"\",\"shadow_module_shadow_color\":\"\",\"title_txt\":\"\",\"all_underline_height\":\"\",\"cat_bg\":\"\",\"cat_bg_hover\":\"\",\"cat_txt\":\"\",\"cat_txt_hover\":\"\",\"cat_border\":\"\",\"cat_border_hover\":\"\",\"meta_bg\":\"\",\"author_txt\":\"\",\"author_txt_hover\":\"\",\"date_txt\":\"\",\"ex_txt\":\"\",\"com_bg\":\"\",\"com_txt\":\"\",\"rev_txt\":\"\",\"shadow_meta_shadow_header\":\"\",\"shadow_meta_shadow_title\":\"Meta info shadow\",\"shadow_meta_shadow_size\":\"\",\"shadow_meta_shadow_offset_horizontal\":\"\",\"shadow_meta_shadow_offset_vertical\":\"\",\"shadow_meta_shadow_spread\":\"\",\"shadow_meta_shadow_color\":\"\",\"btn_bg_hover\":\"\",\"btn_txt\":\"\",\"btn_txt_hover\":\"\",\"btn_border_hover\":\"\",\"f_title_font_header\":\"\",\"f_title_font_title\":\"Article title\",\"f_title_font_settings\":\"\",\"f_title_font_style\":\"\",\"f_title_font_spacing\":\"\",\"f_title_\":\"\",\"f_cat_font_title\":\"Article category tag\",\"f_cat_font_settings\":\"\",\"f_cat_font_size\":\"\",\"f_cat_font_line_height\":\"\",\"f_cat_font_style\":\"\",\"f_cat_font_weight\":\"\",\"f_cat_font_spacing\":\"\",\"f_cat_\":\"\",\"f_meta_font_title\":\"Article meta info\",\"f_meta_font_settings\":\"\",\"f_meta_font_family\":\"\",\"f_meta_font_size\":\"\",\"f_meta_font_line_height\":\"\",\"f_meta_font_style\":\"\",\"f_meta_font_transform\":\"\",\"f_meta_font_spacing\":\"\",\"f_meta_\":\"\",\"f_ex_font_title\":\"Article excerpt\",\"f_ex_font_settings\":\"\",\"f_ex_font_family\":\"\",\"f_ex_font_size\":\"\",\"f_ex_font_line_height\":\"\",\"f_ex_font_style\":\"\",\"f_ex_font_weight\":\"\",\"f_ex_font_transform\":\"\",\"f_ex_font_spacing\":\"\",\"f_ex_\":\"\",\"el_class\":\"\",\"block_template_id\":\"\",\"td_column_number\":3,\"header_color\":\"\",\"ajax_pagination_infinite_stop\":\"\",\"offset\":\"\",\"limit\":\"5\",\"td_ajax_preloading\":\"\",\"td_ajax_filter_type\":\"\",\"td_filter_default_txt\":\"\",\"td_ajax_filter_ids\":\"\",\"color_preset\":\"\",\"ajax_pagination\":\"\",\"ajax_pagination_next_prev_swipe\":\"\",\"border_top\":\"\",\"css\":\"\",\"class\":\"tdi_103\",\"tdc_css_class\":\"tdi_103\",\"tdc_css_class_style\":\"tdi_103_rand_style\"}';\r\n",
      "                tdbSearchItem.jqueryObj = jQuery('.tdi_103');\r\n",
      "                tdbSearchItem._openSearchFormClass = 'tdb-drop-down-search-open';\r\n",
      "                tdbSearchItem._resultsLimit = '6';\r\n",
      "\r\n",
      "                \r\n",
      "\t            \r\n",
      "                \r\n",
      "                tdbSearch.addItem( tdbSearchItem );\r\n",
      "\r\n",
      "            });\r\n",
      "        \r\n",
      "        \n",
      "jQuery(window).ready(function() {\r\n",
      "(function(){\r\n",
      "var td_backstr_item = new tdBackstr.item();\r\n",
      "td_backstr_item.wrapper_image_jquery_obj = jQuery( \"#td-full-screen-header-image\" );\r\n",
      "td_backstr_item.image_jquery_obj = td_backstr_item.wrapper_image_jquery_obj.find( 'img:first' );\r\n",
      "tdBackstr.add_item( td_backstr_item );\r\n",
      "jQuery('.td-read-down a').click(function(event){\r\n",
      "event.preventDefault();\r\n",
      "var header_wrap = jQuery( '.td-full-screen-header-image-wrap:first' )\r\n",
      "if ( 1 === header_wrap.length ) {\r\n",
      "tdUtil.scrollToPosition(header_wrap.height() + header_wrap.offset().top, 1200);\r\n",
      "}\r\n",
      "});\r\n",
      "})();\r\n",
      "});\n",
      "\n",
      "var td_res_context_registered_atts=[\"style_general_mobile_menu\",\"style_general_header_align\",\"style_general_header_logo\",\"style_general_mobile_search\",\"style_general_header_date\",\"style_general_header_user\",\"style_general_mobile_horiz_menu\",\"style_general_socials\",\"style_general_header_menu\",\"style_general_header_mega_menu\",\"style_general_module_header\",\"style_general_header_search\",\"style_general_header_search_trigger_enabled\",\"style_general_popular_categories\",\"style_general_separator\",\"style_general_column_title\",\"style_general_inline_text\",\"style_general_list_menu\",\"style_specific_list_menu_vertical\",\"style_specific_list_menu_accordion\",\"style_specific_list_menu_horizontal\"];\n",
      "</script>\n",
      "\n",
      "\r\n",
      "</body>\r\n",
      "</html>\n"
     ]
    }
   ],
   "source": [
    "\n",
    "import requests\n",
    "\n",
    "def read_data_from_url(url):\n",
    "    try:\n",
    "        # Send a GET request to the URL\n",
    "        response = requests.get(url)\n",
    "\n",
    "        # Check if the request was successful (HTTP status code 200)\n",
    "        if response.status_code == 200:\n",
    "            # Print the content of the response (data from the URL)\n",
    "            print(\"Data from URL:\")\n",
    "            print(response.content.decode('utf-8'))\n",
    "        else:\n",
    "            print(f\"Failed to retrieve data from the URL. Status code: {response.status_code}\")\n",
    "\n",
    "    except requests.exceptions.RequestException as e:\n",
    "        print(f\"An error occurred: {e}\")\n",
    "\n",
    "# URL to read data from\n",
    "url = \"https://insights.blackcoffer.com/rise-of-telemedicine-and-its-impact-on-livelihood-by-2040-3-2/\"\n",
    "\n",
    "# Call the function to read data from the URL\n",
    "read_data_from_url(url)\n"
   ]
  },
  {
   "cell_type": "code",
   "execution_count": 1,
   "id": "6a51b45b",
   "metadata": {},
   "outputs": [
    {
     "name": "stdout",
     "output_type": "stream",
     "text": [
      "6.000000   6 -3 4.819\n"
     ]
    }
   ],
   "source": [
    "a=6\n",
    "b=4.819\n",
    "c=-3\n",
    "str1='{0:4f} {0:-3d} {2} {1}'.format(a,b,c)\n",
    "print(str1)"
   ]
  },
  {
   "cell_type": "code",
   "execution_count": 2,
   "id": "7e6475db",
   "metadata": {},
   "outputs": [
    {
     "ename": "SyntaxError",
     "evalue": "invalid syntax (426957478.py, line 4)",
     "output_type": "error",
     "traceback": [
      "\u001b[1;36m  Cell \u001b[1;32mIn [2], line 4\u001b[1;36m\u001b[0m\n\u001b[1;33m    i++\u001b[0m\n\u001b[1;37m       ^\u001b[0m\n\u001b[1;31mSyntaxError\u001b[0m\u001b[1;31m:\u001b[0m invalid syntax\n"
     ]
    }
   ],
   "source": [
    "i=0\n",
    "while i<3:\n",
    "    print(i)\n",
    "    i++\n",
    "    print(i+1)"
   ]
  },
  {
   "cell_type": "code",
   "execution_count": 3,
   "id": "73fda543",
   "metadata": {},
   "outputs": [
    {
     "data": {
      "text/plain": [
       "True"
      ]
     },
     "execution_count": 3,
     "metadata": {},
     "output_type": "execute_result"
    }
   ],
   "source": [
    "(1<=5<=10) and not len('')"
   ]
  },
  {
   "cell_type": "code",
   "execution_count": 4,
   "id": "d752fff7",
   "metadata": {},
   "outputs": [
    {
     "ename": "SyntaxError",
     "evalue": "invalid syntax (1900326100.py, line 2)",
     "output_type": "error",
     "traceback": [
      "\u001b[1;36m  Cell \u001b[1;32mIn [4], line 2\u001b[1;36m\u001b[0m\n\u001b[1;33m    else:\u001b[0m\n\u001b[1;37m    ^\u001b[0m\n\u001b[1;31mSyntaxError\u001b[0m\u001b[1;31m:\u001b[0m invalid syntax\n"
     ]
    }
   ],
   "source": [
    "count[key]=count[key]+1\n",
    "else:\n",
    "    count[key]=1"
   ]
  },
  {
   "cell_type": "code",
   "execution_count": 5,
   "id": "0e4455ec",
   "metadata": {},
   "outputs": [
    {
     "data": {
      "text/plain": [
       "0"
      ]
     },
     "execution_count": 5,
     "metadata": {},
     "output_type": "execute_result"
    }
   ],
   "source": [
    "0%2"
   ]
  },
  {
   "cell_type": "code",
   "execution_count": 3,
   "id": "d760d552",
   "metadata": {},
   "outputs": [
    {
     "data": {
      "text/plain": [
       "1"
      ]
     },
     "execution_count": 3,
     "metadata": {},
     "output_type": "execute_result"
    }
   ],
   "source": [
    "1%2"
   ]
  },
  {
   "cell_type": "code",
   "execution_count": 8,
   "id": "add24e85",
   "metadata": {},
   "outputs": [],
   "source": [
    "a='rrrr123njhhk'"
   ]
  },
  {
   "cell_type": "code",
   "execution_count": 11,
   "id": "33d45d7e",
   "metadata": {},
   "outputs": [],
   "source": [
    "x=15\n",
    "y=20\n"
   ]
  },
  {
   "cell_type": "code",
   "execution_count": 21,
   "id": "0fd90e5c",
   "metadata": {},
   "outputs": [
    {
     "data": {
      "text/plain": [
       "0"
      ]
     },
     "execution_count": 21,
     "metadata": {},
     "output_type": "execute_result"
    }
   ],
   "source": [
    "temp=x&y\n",
    "temp"
   ]
  },
  {
   "cell_type": "code",
   "execution_count": 22,
   "id": "be575cdd",
   "metadata": {},
   "outputs": [
    {
     "data": {
      "text/plain": [
       "35"
      ]
     },
     "execution_count": 22,
     "metadata": {},
     "output_type": "execute_result"
    }
   ],
   "source": [
    "x=x^y\n",
    "x"
   ]
  },
  {
   "cell_type": "code",
   "execution_count": 23,
   "id": "0e32e9cb",
   "metadata": {},
   "outputs": [
    {
     "data": {
      "text/plain": [
       "0"
      ]
     },
     "execution_count": 23,
     "metadata": {},
     "output_type": "execute_result"
    }
   ],
   "source": [
    "y=temp<<1\n",
    "y"
   ]
  },
  {
   "cell_type": "code",
   "execution_count": 24,
   "id": "63c87c72",
   "metadata": {},
   "outputs": [
    {
     "data": {
      "text/plain": [
       "'0b1010'"
      ]
     },
     "execution_count": 24,
     "metadata": {},
     "output_type": "execute_result"
    }
   ],
   "source": [
    "bin(10)"
   ]
  },
  {
   "cell_type": "code",
   "execution_count": 26,
   "id": "92a06e93",
   "metadata": {},
   "outputs": [],
   "source": [
    "import numpy as np\n",
    "a=np.array([])\n"
   ]
  },
  {
   "cell_type": "code",
   "execution_count": 27,
   "id": "df987d48",
   "metadata": {},
   "outputs": [
    {
     "data": {
      "text/plain": [
       "array([], dtype=float64)"
      ]
     },
     "execution_count": 27,
     "metadata": {},
     "output_type": "execute_result"
    }
   ],
   "source": [
    "a"
   ]
  },
  {
   "cell_type": "code",
   "execution_count": 53,
   "id": "2b24e093",
   "metadata": {},
   "outputs": [
    {
     "data": {
      "text/plain": [
       "43"
      ]
     },
     "execution_count": 53,
     "metadata": {},
     "output_type": "execute_result"
    }
   ],
   "source": [
    "import random\n",
    "np.random.randint(40,50)"
   ]
  },
  {
   "cell_type": "code",
   "execution_count": 54,
   "id": "18346537",
   "metadata": {},
   "outputs": [
    {
     "data": {
      "text/plain": [
       "45.44366091787757"
      ]
     },
     "execution_count": 54,
     "metadata": {},
     "output_type": "execute_result"
    }
   ],
   "source": [
    "np.random.uniform(40,50)"
   ]
  },
  {
   "cell_type": "code",
   "execution_count": 57,
   "id": "59379c74",
   "metadata": {},
   "outputs": [
    {
     "data": {
      "text/plain": [
       "array([0.68825365, 0.81609463, 0.67995457, 0.25200428, 0.75593114,\n",
       "       0.38772226, 0.04347979, 0.28512459, 0.65674134, 0.33210989])"
      ]
     },
     "execution_count": 57,
     "metadata": {},
     "output_type": "execute_result"
    }
   ],
   "source": [
    "np.random.random(10)"
   ]
  },
  {
   "cell_type": "code",
   "execution_count": 58,
   "id": "92b9875b",
   "metadata": {},
   "outputs": [],
   "source": [
    "a=[1,2,3,4]"
   ]
  },
  {
   "cell_type": "code",
   "execution_count": 62,
   "id": "08e20487",
   "metadata": {},
   "outputs": [
    {
     "ename": "NameError",
     "evalue": "name 'avg' is not defined",
     "output_type": "error",
     "traceback": [
      "\u001b[1;31m---------------------------------------------------------------------------\u001b[0m",
      "\u001b[1;31mNameError\u001b[0m                                 Traceback (most recent call last)",
      "Cell \u001b[1;32mIn [62], line 1\u001b[0m\n\u001b[1;32m----> 1\u001b[0m \u001b[43mavg\u001b[49m(a)\n",
      "\u001b[1;31mNameError\u001b[0m: name 'avg' is not defined"
     ]
    }
   ],
   "source": [
    "sum(a)"
   ]
  },
  {
   "cell_type": "code",
   "execution_count": 7,
   "id": "066ecf50",
   "metadata": {},
   "outputs": [
    {
     "name": "stdout",
     "output_type": "stream",
     "text": [
      "Khwahish\n"
     ]
    }
   ],
   "source": [
    "str='Khwahish'\n",
    "str=str.replace('k','d')\n",
    "print(str)"
   ]
  },
  {
   "cell_type": "code",
   "execution_count": 1,
   "id": "7cadc4e4",
   "metadata": {},
   "outputs": [],
   "source": [
    "import pandas as pd\n",
    "\n",
    "df=pd.read_csv(r'C:\\Users\\admin\\Desktop\\2019-Dec.csv')"
   ]
  },
  {
   "cell_type": "code",
   "execution_count": 2,
   "id": "6d04c82c",
   "metadata": {},
   "outputs": [
    {
     "data": {
      "text/html": [
       "<div>\n",
       "<style scoped>\n",
       "    .dataframe tbody tr th:only-of-type {\n",
       "        vertical-align: middle;\n",
       "    }\n",
       "\n",
       "    .dataframe tbody tr th {\n",
       "        vertical-align: top;\n",
       "    }\n",
       "\n",
       "    .dataframe thead th {\n",
       "        text-align: right;\n",
       "    }\n",
       "</style>\n",
       "<table border=\"1\" class=\"dataframe\">\n",
       "  <thead>\n",
       "    <tr style=\"text-align: right;\">\n",
       "      <th></th>\n",
       "      <th>event_time</th>\n",
       "      <th>event_type</th>\n",
       "      <th>product_id</th>\n",
       "      <th>category_id</th>\n",
       "      <th>category_code</th>\n",
       "      <th>brand</th>\n",
       "      <th>price</th>\n",
       "      <th>user_id</th>\n",
       "      <th>user_session</th>\n",
       "    </tr>\n",
       "  </thead>\n",
       "  <tbody>\n",
       "    <tr>\n",
       "      <th>0</th>\n",
       "      <td>2019-12-01 00:00:00 UTC</td>\n",
       "      <td>remove_from_cart</td>\n",
       "      <td>5712790</td>\n",
       "      <td>1487580005268456287</td>\n",
       "      <td>NaN</td>\n",
       "      <td>f.o.x</td>\n",
       "      <td>6.27</td>\n",
       "      <td>576802932</td>\n",
       "      <td>51d85cb0-897f-48d2-918b-ad63965c12dc</td>\n",
       "    </tr>\n",
       "    <tr>\n",
       "      <th>1</th>\n",
       "      <td>2019-12-01 00:00:00 UTC</td>\n",
       "      <td>view</td>\n",
       "      <td>5764655</td>\n",
       "      <td>1487580005411062629</td>\n",
       "      <td>NaN</td>\n",
       "      <td>cnd</td>\n",
       "      <td>29.05</td>\n",
       "      <td>412120092</td>\n",
       "      <td>8adff31e-2051-4894-9758-224bfa8aec18</td>\n",
       "    </tr>\n",
       "    <tr>\n",
       "      <th>2</th>\n",
       "      <td>2019-12-01 00:00:02 UTC</td>\n",
       "      <td>cart</td>\n",
       "      <td>4958</td>\n",
       "      <td>1487580009471148064</td>\n",
       "      <td>NaN</td>\n",
       "      <td>runail</td>\n",
       "      <td>1.19</td>\n",
       "      <td>494077766</td>\n",
       "      <td>c99a50e8-2fac-4c4d-89ec-41c05f114554</td>\n",
       "    </tr>\n",
       "    <tr>\n",
       "      <th>3</th>\n",
       "      <td>2019-12-01 00:00:05 UTC</td>\n",
       "      <td>view</td>\n",
       "      <td>5848413</td>\n",
       "      <td>1487580007675986893</td>\n",
       "      <td>NaN</td>\n",
       "      <td>freedecor</td>\n",
       "      <td>0.79</td>\n",
       "      <td>348405118</td>\n",
       "      <td>722ffea5-73c0-4924-8e8f-371ff8031af4</td>\n",
       "    </tr>\n",
       "    <tr>\n",
       "      <th>4</th>\n",
       "      <td>2019-12-01 00:00:07 UTC</td>\n",
       "      <td>view</td>\n",
       "      <td>5824148</td>\n",
       "      <td>1487580005511725929</td>\n",
       "      <td>NaN</td>\n",
       "      <td>NaN</td>\n",
       "      <td>5.56</td>\n",
       "      <td>576005683</td>\n",
       "      <td>28172809-7e4a-45ce-bab0-5efa90117cd5</td>\n",
       "    </tr>\n",
       "    <tr>\n",
       "      <th>...</th>\n",
       "      <td>...</td>\n",
       "      <td>...</td>\n",
       "      <td>...</td>\n",
       "      <td>...</td>\n",
       "      <td>...</td>\n",
       "      <td>...</td>\n",
       "      <td>...</td>\n",
       "      <td>...</td>\n",
       "      <td>...</td>\n",
       "    </tr>\n",
       "    <tr>\n",
       "      <th>3533281</th>\n",
       "      <td>2019-12-31 23:59:39 UTC</td>\n",
       "      <td>view</td>\n",
       "      <td>5683350</td>\n",
       "      <td>1487580005671109489</td>\n",
       "      <td>NaN</td>\n",
       "      <td>masura</td>\n",
       "      <td>2.84</td>\n",
       "      <td>536812729</td>\n",
       "      <td>e4a2d47c-a956-4c46-8176-745f52ea664b</td>\n",
       "    </tr>\n",
       "    <tr>\n",
       "      <th>3533282</th>\n",
       "      <td>2019-12-31 23:59:46 UTC</td>\n",
       "      <td>view</td>\n",
       "      <td>5888097</td>\n",
       "      <td>1487580013388628160</td>\n",
       "      <td>NaN</td>\n",
       "      <td>shik</td>\n",
       "      <td>179.05</td>\n",
       "      <td>503658154</td>\n",
       "      <td>2dde9867-9e71-4a64-880d-aa68b66aae6d</td>\n",
       "    </tr>\n",
       "    <tr>\n",
       "      <th>3533283</th>\n",
       "      <td>2019-12-31 23:59:51 UTC</td>\n",
       "      <td>view</td>\n",
       "      <td>59975</td>\n",
       "      <td>1487580012096782476</td>\n",
       "      <td>NaN</td>\n",
       "      <td>NaN</td>\n",
       "      <td>7.14</td>\n",
       "      <td>595414541</td>\n",
       "      <td>4c6d80bb-5dd3-4fbb-b592-187b51db2753</td>\n",
       "    </tr>\n",
       "    <tr>\n",
       "      <th>3533284</th>\n",
       "      <td>2019-12-31 23:59:52 UTC</td>\n",
       "      <td>view</td>\n",
       "      <td>5775982</td>\n",
       "      <td>1783999063314661546</td>\n",
       "      <td>NaN</td>\n",
       "      <td>NaN</td>\n",
       "      <td>11.90</td>\n",
       "      <td>397780878</td>\n",
       "      <td>7e8a2b85-153a-44eb-a71f-b748fde14fcc</td>\n",
       "    </tr>\n",
       "    <tr>\n",
       "      <th>3533285</th>\n",
       "      <td>2019-12-31 23:59:57 UTC</td>\n",
       "      <td>view</td>\n",
       "      <td>5635090</td>\n",
       "      <td>1487580005754995573</td>\n",
       "      <td>NaN</td>\n",
       "      <td>NaN</td>\n",
       "      <td>4.44</td>\n",
       "      <td>420652863</td>\n",
       "      <td>546f6af3-a517-4752-a98b-80c4c5860711</td>\n",
       "    </tr>\n",
       "  </tbody>\n",
       "</table>\n",
       "<p>3533286 rows × 9 columns</p>\n",
       "</div>"
      ],
      "text/plain": [
       "                      event_time        event_type  product_id  \\\n",
       "0        2019-12-01 00:00:00 UTC  remove_from_cart     5712790   \n",
       "1        2019-12-01 00:00:00 UTC              view     5764655   \n",
       "2        2019-12-01 00:00:02 UTC              cart        4958   \n",
       "3        2019-12-01 00:00:05 UTC              view     5848413   \n",
       "4        2019-12-01 00:00:07 UTC              view     5824148   \n",
       "...                          ...               ...         ...   \n",
       "3533281  2019-12-31 23:59:39 UTC              view     5683350   \n",
       "3533282  2019-12-31 23:59:46 UTC              view     5888097   \n",
       "3533283  2019-12-31 23:59:51 UTC              view       59975   \n",
       "3533284  2019-12-31 23:59:52 UTC              view     5775982   \n",
       "3533285  2019-12-31 23:59:57 UTC              view     5635090   \n",
       "\n",
       "                 category_id category_code      brand   price    user_id  \\\n",
       "0        1487580005268456287           NaN      f.o.x    6.27  576802932   \n",
       "1        1487580005411062629           NaN        cnd   29.05  412120092   \n",
       "2        1487580009471148064           NaN     runail    1.19  494077766   \n",
       "3        1487580007675986893           NaN  freedecor    0.79  348405118   \n",
       "4        1487580005511725929           NaN        NaN    5.56  576005683   \n",
       "...                      ...           ...        ...     ...        ...   \n",
       "3533281  1487580005671109489           NaN     masura    2.84  536812729   \n",
       "3533282  1487580013388628160           NaN       shik  179.05  503658154   \n",
       "3533283  1487580012096782476           NaN        NaN    7.14  595414541   \n",
       "3533284  1783999063314661546           NaN        NaN   11.90  397780878   \n",
       "3533285  1487580005754995573           NaN        NaN    4.44  420652863   \n",
       "\n",
       "                                 user_session  \n",
       "0        51d85cb0-897f-48d2-918b-ad63965c12dc  \n",
       "1        8adff31e-2051-4894-9758-224bfa8aec18  \n",
       "2        c99a50e8-2fac-4c4d-89ec-41c05f114554  \n",
       "3        722ffea5-73c0-4924-8e8f-371ff8031af4  \n",
       "4        28172809-7e4a-45ce-bab0-5efa90117cd5  \n",
       "...                                       ...  \n",
       "3533281  e4a2d47c-a956-4c46-8176-745f52ea664b  \n",
       "3533282  2dde9867-9e71-4a64-880d-aa68b66aae6d  \n",
       "3533283  4c6d80bb-5dd3-4fbb-b592-187b51db2753  \n",
       "3533284  7e8a2b85-153a-44eb-a71f-b748fde14fcc  \n",
       "3533285  546f6af3-a517-4752-a98b-80c4c5860711  \n",
       "\n",
       "[3533286 rows x 9 columns]"
      ]
     },
     "execution_count": 2,
     "metadata": {},
     "output_type": "execute_result"
    }
   ],
   "source": [
    "df"
   ]
  },
  {
   "cell_type": "code",
   "execution_count": 1,
   "id": "f93714c3",
   "metadata": {},
   "outputs": [
    {
     "name": "stdout",
     "output_type": "stream",
     "text": [
      "Collecting reportlab\n",
      "  Obtaining dependency information for reportlab from https://files.pythonhosted.org/packages/7e/4b/f1d01a4e2712310ebb4715d38d01c5c72ce0fe27cc4540b9c1fd54a6d1df/reportlab-4.0.6-py3-none-any.whl.metadata\n",
      "  Downloading reportlab-4.0.6-py3-none-any.whl.metadata (1.3 kB)\n",
      "Requirement already satisfied: pillow>=9.0.0 in c:\\users\\admin\\miniconda3\\lib\\site-packages (from reportlab) (9.5.0)\n",
      "Downloading reportlab-4.0.6-py3-none-any.whl (1.9 MB)\n",
      "   ---------------------------------------- 1.9/1.9 MB 950.0 kB/s eta 0:00:00\n",
      "Installing collected packages: reportlab\n",
      "Successfully installed reportlab-4.0.6\n",
      "Note: you may need to restart the kernel to use updated packages.\n"
     ]
    },
    {
     "name": "stderr",
     "output_type": "stream",
     "text": [
      "\n",
      "[notice] A new release of pip is available: 23.2.1 -> 23.3.1\n",
      "[notice] To update, run: python.exe -m pip install --upgrade pip\n"
     ]
    }
   ],
   "source": [
    "pip install reportlab\n"
   ]
  },
  {
   "cell_type": "code",
   "execution_count": 28,
   "id": "653ef23d",
   "metadata": {},
   "outputs": [],
   "source": [
    "import os\n",
    "from reportlab.lib.pagesizes import letter\n",
    "from reportlab.pdfgen import canvas\n",
    "\n",
    "# Function to create a PDF file from text\n",
    "def text_to_pdf(text, output_file):\n",
    "    c = canvas.Canvas(output_file, pagesize=letter)\n",
    "    width, height = letter\n",
    "    c.drawString(100, height - 100, text)\n",
    "    c.showPage()\n",
    "    c.save()\n",
    "a=8\n",
    "output_file =str(a)+'.pdf'\n",
    "path1 = r\"C:\\Users\\admin\\Desktop\\New folder\"\n",
    "path2 = output_file\n",
    "result_path = os.path.join(path1, path2)\n",
    "data=open('p.txt','r')\n",
    "text = data.read()\n",
    "text_to_pdf(text,result_path )\n"
   ]
  },
  {
   "cell_type": "code",
   "execution_count": 30,
   "id": "0273ca5c",
   "metadata": {},
   "outputs": [
    {
     "name": "stdout",
     "output_type": "stream",
     "text": [
      "^C\n",
      "Note: you may need to restart the kernel to use updated packages.\n"
     ]
    }
   ],
   "source": [
    "pip uninstall fpdf2\n"
   ]
  },
  {
   "cell_type": "code",
   "execution_count": 31,
   "id": "89bdc07c",
   "metadata": {},
   "outputs": [
    {
     "name": "stdout",
     "output_type": "stream",
     "text": [
      "Requirement already satisfied: reportlab in c:\\users\\admin\\miniconda3\\lib\\site-packages (4.0.6)\n",
      "Requirement already satisfied: pillow>=9.0.0 in c:\\users\\admin\\miniconda3\\lib\\site-packages (from reportlab) (9.5.0)\n",
      "Note: you may need to restart the kernel to use updated packages.\n"
     ]
    },
    {
     "name": "stderr",
     "output_type": "stream",
     "text": [
      "\n",
      "[notice] A new release of pip is available: 23.2.1 -> 23.3.1\n",
      "[notice] To update, run: python.exe -m pip install --upgrade pip\n"
     ]
    }
   ],
   "source": [
    "pip install reportlab\n"
   ]
  },
  {
   "cell_type": "code",
   "execution_count": 45,
   "id": "9edddaf5",
   "metadata": {},
   "outputs": [
    {
     "name": "stdout",
     "output_type": "stream",
     "text": [
      "Text file 'p.txt' has been converted to PDF: 'C:\\Users\\admin\\Desktop\\New folder\\9.pdf'\n"
     ]
    }
   ],
   "source": [
    "from reportlab.lib.pagesizes import letter\n",
    "from reportlab.platypus import SimpleDocTemplate, Paragraph\n",
    "from reportlab.lib.styles import getSampleStyleSheet\n",
    "import os\n",
    "# Function to convert a text file to PDF\n",
    "def text_to_pdf(text_file, pdf_file):\n",
    "    # Create a SimpleDocTemplate\n",
    "    doc = SimpleDocTemplate(pdf_file, pagesize=letter)\n",
    "\n",
    "    # Create a list to hold the flowables (elements to be added to the PDF)\n",
    "    story = []\n",
    "\n",
    "    # Create a style for the text\n",
    "    styles = getSampleStyleSheet()\n",
    "    style = styles[\"Normal\"]\n",
    "\n",
    "    # Open the text file and read its content\n",
    "    with open(text_file, \"r\") as file:\n",
    "        text_content = file.read()\n",
    "\n",
    "    # Create a Paragraph and add it to the story\n",
    "    paragraph = Paragraph(text_content, style)\n",
    "    story.append(paragraph)\n",
    "\n",
    "    # Build the PDF document\n",
    "    doc.build(story)\n",
    "\n",
    "# Provide the input text file and the output PDF file names\n",
    "a=9\n",
    "output_file =str(a)+'.pdf'\n",
    "path1 = r\"C:\\Users\\admin\\Desktop\\New folder\"\n",
    "path2 = output_file\n",
    "result_path = os.path.join(path1, path2)\n",
    "text_file = \"p.txt\"\n",
    "# Convert the text file to a PDF\n",
    "text_to_pdf(text_file, result_path)\n",
    "\n",
    "print(f\"Text file '{text_file}' has been converted to PDF: '{result_path}'\")\n",
    "\n"
   ]
  },
  {
   "cell_type": "code",
   "execution_count": null,
   "id": "d5085e0f",
   "metadata": {},
   "outputs": [],
   "source": []
  },
  {
   "cell_type": "code",
   "execution_count": 14,
   "id": "b054b023",
   "metadata": {},
   "outputs": [
    {
     "name": "stdout",
     "output_type": "stream",
     "text": [
      "no\n"
     ]
    }
   ],
   "source": [
    "p='ccre'     \n",
    "q='care'\n",
    "c=0\n",
    "if len(p)==len(q):\n",
    "    for i in p:\n",
    "        if p.count(i)==q.count(i):\n",
    "            c+=1\n",
    "    \n",
    "if c==len(p) and len(p)==len(q):\n",
    "    print('ana')\n",
    "else:\n",
    "    print('no')\n",
    "            "
   ]
  },
  {
   "cell_type": "code",
   "execution_count": 18,
   "id": "00119fec",
   "metadata": {},
   "outputs": [
    {
     "name": "stdout",
     "output_type": "stream",
     "text": [
      "given strings are not anagram\n"
     ]
    }
   ],
   "source": [
    "s1='race'\n",
    "s2='car'\n",
    "result=False\n",
    "if len(s1)==len(s2):\n",
    "    for i in s1:\n",
    "        if s1.count(i)==s2.count(i):\n",
    "            result=True\n",
    "        else:\n",
    "            result=False\n",
    "            break\n",
    "\n",
    "if result==True and len(s1)==len(s2):\n",
    "    print('given strings are anagram')\n",
    "else:\n",
    "    print('given strings are not anagram')"
   ]
  },
  {
   "cell_type": "code",
   "execution_count": 24,
   "id": "1b024727",
   "metadata": {},
   "outputs": [
    {
     "name": "stdout",
     "output_type": "stream",
     "text": [
      "given strings are not anagram\n"
     ]
    }
   ],
   "source": [
    "s1='race'\n",
    "s2='car'\n",
    "result=[]\n",
    "if len(s1)==len(s2):\n",
    "    [result.append(True) for i in s1  if s1.count(i)==s2.count(i)]\n",
    "if result.count(True) ==len(s1) and len(s1)==len(s2):\n",
    "    print('given strings are anagram')\n",
    "else:\n",
    "    print('given strings are not anagram')"
   ]
  },
  {
   "cell_type": "code",
   "execution_count": 30,
   "id": "79ee3bc0",
   "metadata": {},
   "outputs": [
    {
     "name": "stdout",
     "output_type": "stream",
     "text": [
      "ab\n",
      "abc\n",
      "abcab\n"
     ]
    }
   ],
   "source": [
    "a=['abc','abcab','1221','axcd']\n",
    "b=input()\n",
    "for i in a:\n",
    "    if i.startswith(b):\n",
    "        print(i)"
   ]
  },
  {
   "cell_type": "code",
   "execution_count": 37,
   "id": "55e217a4",
   "metadata": {},
   "outputs": [
    {
     "data": {
      "text/plain": [
       "['abcab', '12512']"
      ]
     },
     "execution_count": 37,
     "metadata": {},
     "output_type": "execute_result"
    }
   ],
   "source": [
    "a=['abc','abcab','12512','axcd']\n",
    "[i for i in a if i[0:2]==i[len(i)-2:len(i)]]      "
   ]
  },
  {
   "cell_type": "code",
   "execution_count": 42,
   "id": "401fc300",
   "metadata": {},
   "outputs": [
    {
     "name": "stdout",
     "output_type": "stream",
     "text": [
      "abc\n"
     ]
    },
    {
     "data": {
      "text/plain": [
       "['abcab', 'dbabc']"
      ]
     },
     "execution_count": 42,
     "metadata": {},
     "output_type": "execute_result"
    }
   ],
   "source": [
    "a=['abbc','abcab','1221','dbabc']\n",
    "b=input()\n",
    "[i for i in a if b in i ]        "
   ]
  },
  {
   "cell_type": "code",
   "execution_count": 46,
   "id": "9f4372d0",
   "metadata": {},
   "outputs": [],
   "source": [
    "import pandas as pd"
   ]
  },
  {
   "cell_type": "code",
   "execution_count": 47,
   "id": "7bccf117",
   "metadata": {},
   "outputs": [],
   "source": [
    "df=pd.read_csv(r'E:\\9.csv')"
   ]
  },
  {
   "cell_type": "code",
   "execution_count": 48,
   "id": "45492364",
   "metadata": {},
   "outputs": [
    {
     "data": {
      "text/html": [
       "<div>\n",
       "<style scoped>\n",
       "    .dataframe tbody tr th:only-of-type {\n",
       "        vertical-align: middle;\n",
       "    }\n",
       "\n",
       "    .dataframe tbody tr th {\n",
       "        vertical-align: top;\n",
       "    }\n",
       "\n",
       "    .dataframe thead th {\n",
       "        text-align: right;\n",
       "    }\n",
       "</style>\n",
       "<table border=\"1\" class=\"dataframe\">\n",
       "  <thead>\n",
       "    <tr style=\"text-align: right;\">\n",
       "      <th></th>\n",
       "      <th>[Your Name] [Your Address] [Your City, State ZIP Code] [Your Phone Number] [Your Email Address]</th>\n",
       "    </tr>\n",
       "  </thead>\n",
       "  <tbody>\n",
       "    <tr>\n",
       "      <th>0</th>\n",
       "      <td>[LinkedIn Profile (if applicable)] Objective: ...</td>\n",
       "    </tr>\n",
       "    <tr>\n",
       "      <th>1</th>\n",
       "      <td>with [X] years of experience in [Your Industry...</td>\n",
       "    </tr>\n",
       "    <tr>\n",
       "      <th>2</th>\n",
       "      <td>expertise to a dynamic team. Summary of Qualif...</td>\n",
       "    </tr>\n",
       "    <tr>\n",
       "      <th>3</th>\n",
       "      <td>management, data analysis, communication] - [A...</td>\n",
       "    </tr>\n",
       "    <tr>\n",
       "      <th>4</th>\n",
       "      <td>or qualification] Professional Experience: [Jo...</td>\n",
       "    </tr>\n",
       "    <tr>\n",
       "      <th>5</th>\n",
       "      <td>[Month Year] - [Highlight a key achievement or...</td>\n",
       "    </tr>\n",
       "    <tr>\n",
       "      <th>6</th>\n",
       "      <td>[Another relevant achievement or responsibilit...</td>\n",
       "    </tr>\n",
       "    <tr>\n",
       "      <th>7</th>\n",
       "      <td>Year] - [Month Year] - [Highlight a key achiev...</td>\n",
       "    </tr>\n",
       "    <tr>\n",
       "      <th>8</th>\n",
       "      <td>for] - [Another relevant achievement or respon...</td>\n",
       "    </tr>\n",
       "    <tr>\n",
       "      <th>9</th>\n",
       "      <td>Name] | [City, State] | [Year] Skills: - [List...</td>\n",
       "    </tr>\n",
       "    <tr>\n",
       "      <th>10</th>\n",
       "      <td>Certifications: - [Certification Name] | [Issu...</td>\n",
       "    </tr>\n",
       "    <tr>\n",
       "      <th>11</th>\n",
       "      <td>you are proficient in] Professional Membership...</td>\n",
       "    </tr>\n",
       "    <tr>\n",
       "      <th>12</th>\n",
       "      <td>a member of] References: Available upon reques...</td>\n",
       "    </tr>\n",
       "  </tbody>\n",
       "</table>\n",
       "</div>"
      ],
      "text/plain": [
       "   [Your Name] [Your Address] [Your City, State ZIP Code] [Your Phone Number] [Your Email Address]\n",
       "0   [LinkedIn Profile (if applicable)] Objective: ...                                             \n",
       "1   with [X] years of experience in [Your Industry...                                             \n",
       "2   expertise to a dynamic team. Summary of Qualif...                                             \n",
       "3   management, data analysis, communication] - [A...                                             \n",
       "4   or qualification] Professional Experience: [Jo...                                             \n",
       "5   [Month Year] - [Highlight a key achievement or...                                             \n",
       "6   [Another relevant achievement or responsibilit...                                             \n",
       "7   Year] - [Month Year] - [Highlight a key achiev...                                             \n",
       "8   for] - [Another relevant achievement or respon...                                             \n",
       "9   Name] | [City, State] | [Year] Skills: - [List...                                             \n",
       "10  Certifications: - [Certification Name] | [Issu...                                             \n",
       "11  you are proficient in] Professional Membership...                                             \n",
       "12  a member of] References: Available upon reques...                                             "
      ]
     },
     "execution_count": 48,
     "metadata": {},
     "output_type": "execute_result"
    }
   ],
   "source": [
    "df"
   ]
  },
  {
   "cell_type": "code",
   "execution_count": 49,
   "id": "fd00940a",
   "metadata": {},
   "outputs": [],
   "source": [
    "# [Your Name] [Your Address] [Your City, State ZIP Code] [Your Phone Number] [Your Email Address]\n",
    "# [LinkedIn Profile (if applicable)] Objective: Dedicated and highly motivated [Your Profession/Job Title]\n",
    "# with [X] years of experience in [Your Industry]. Seeking an opportunity to contribute my skills and\n",
    "# expertise to a dynamic team. Summary of Qualifications: - [List your key skills, e.g., project\n",
    "# management, data analysis, communication] - [Another relevant skill or qualification] - [One more skill\n",
    "# or qualification] Professional Experience: [Job Title] | [Company Name] | [City, State] | [Month Year] -\n",
    "# [Month Year] - [Highlight a key achievement or responsibility relevant to the job you're applying for] -\n",
    "# [Another relevant achievement or responsibility] [Job Title] | [Company Name] | [City, State] | [Month\n",
    "# Year] - [Month Year] - [Highlight a key achievement or responsibility relevant to the job you're applying\n",
    "# for] - [Another relevant achievement or responsibility] Education: [Degree] in [Your Major] | [University\n",
    "# Name] | [City, State] | [Year] Skills: - [List 3-5 key skills relevant to the job] - [Another relevant skill]\n",
    "# Certifications: - [Certification Name] | [Issuing Organization] | [Year] Languages: - [List any languages\n",
    "# you are proficient in] Professional Memberships: - [List any relevant professional organizations you are\n",
    "# a member of] References: Available upon request. "
   ]
  },
  {
   "cell_type": "code",
   "execution_count": 52,
   "id": "e609c351",
   "metadata": {},
   "outputs": [
    {
     "data": {
      "text/html": [
       "<div>\n",
       "<style scoped>\n",
       "    .dataframe tbody tr th:only-of-type {\n",
       "        vertical-align: middle;\n",
       "    }\n",
       "\n",
       "    .dataframe tbody tr th {\n",
       "        vertical-align: top;\n",
       "    }\n",
       "\n",
       "    .dataframe thead th {\n",
       "        text-align: right;\n",
       "    }\n",
       "</style>\n",
       "<table border=\"1\" class=\"dataframe\">\n",
       "  <thead>\n",
       "    <tr style=\"text-align: right;\">\n",
       "      <th></th>\n",
       "      <th>[Your Name] [Your Address] [Your City, State ZIP Code] [Your Phone Number] [Your Email Address]</th>\n",
       "    </tr>\n",
       "  </thead>\n",
       "  <tbody>\n",
       "    <tr>\n",
       "      <th>2</th>\n",
       "      <td>expertise to a dynamic team. Summary of Qualif...</td>\n",
       "    </tr>\n",
       "  </tbody>\n",
       "</table>\n",
       "</div>"
      ],
      "text/plain": [
       "  [Your Name] [Your Address] [Your City, State ZIP Code] [Your Phone Number] [Your Email Address]\n",
       "2  expertise to a dynamic team. Summary of Qualif...                                             "
      ]
     },
     "execution_count": 52,
     "metadata": {},
     "output_type": "execute_result"
    }
   ],
   "source": [
    "df.iloc[[2],:]"
   ]
  },
  {
   "cell_type": "code",
   "execution_count": null,
   "id": "72b56d17",
   "metadata": {},
   "outputs": [],
   "source": []
  },
  {
   "cell_type": "code",
   "execution_count": null,
   "id": "9a8877df",
   "metadata": {},
   "outputs": [],
   "source": []
  },
  {
   "cell_type": "code",
   "execution_count": null,
   "id": "e8fea72c",
   "metadata": {},
   "outputs": [],
   "source": []
  },
  {
   "cell_type": "code",
   "execution_count": 52,
   "id": "6ffaa62f",
   "metadata": {},
   "outputs": [
    {
     "name": "stdout",
     "output_type": "stream",
     "text": [
      "3a2b1c3a2b\n"
     ]
    }
   ],
   "source": [
    "a='aaabbcaaabb'\n",
    "f=''\n",
    "c=''\n",
    "for j,i in enumerate(a):\n",
    "    if len(c)==0 and j!=len(a)-1 :\n",
    "        c+=i\n",
    "        if j==len(a)-1:\n",
    "            f+=str(len(c))+c[-1]\n",
    "    elif i==c[-1] and len(c)!=0:\n",
    "        c+=i\n",
    "        if j==len(a)-1:\n",
    "            f+=str(len(c))+c[-1]\n",
    "        \n",
    "    else:\n",
    "        f+=str(len(c))+c[-1]\n",
    "        c=''\n",
    "        c+=i\n",
    "        if j==len(a)-1:\n",
    "            f+=str(len(c))+c[-1]\n",
    "        \n",
    "        \n",
    "print(f)     \n",
    "    \n",
    "    "
   ]
  },
  {
   "cell_type": "code",
   "execution_count": null,
   "id": "9b1fdc8c",
   "metadata": {},
   "outputs": [],
   "source": []
  },
  {
   "cell_type": "code",
   "execution_count": null,
   "id": "9b2fa564",
   "metadata": {},
   "outputs": [],
   "source": []
  },
  {
   "cell_type": "code",
   "execution_count": 1,
   "id": "81361ec9",
   "metadata": {},
   "outputs": [
    {
     "name": "stdout",
     "output_type": "stream",
     "text": [
      "<class 'tuple'>\n"
     ]
    }
   ],
   "source": [
    "def pp(*args):\n",
    "    print(type(args))\n",
    "    \n",
    "pp(1,2,3,4)"
   ]
  },
  {
   "cell_type": "code",
   "execution_count": 3,
   "id": "1eff0dd3",
   "metadata": {},
   "outputs": [],
   "source": [
    "a=[1,2,3]"
   ]
  },
  {
   "cell_type": "code",
   "execution_count": 7,
   "id": "8bc0f7f4",
   "metadata": {},
   "outputs": [
    {
     "data": {
      "text/plain": [
       "[('Alice', 90, 876543), ('Bob', 85, 76543), ('Charlie', 92, 76543)]"
      ]
     },
     "execution_count": 7,
     "metadata": {},
     "output_type": "execute_result"
    }
   ],
   "source": [
    "names = [\"Alice\", \"Bob\", \"Charlie\"]\n",
    "scores = [90, 85, 92]\n",
    "salary=[876543,76543,76543]\n",
    "combined = list(zip(names, scores,salary))\n",
    "combined"
   ]
  },
  {
   "cell_type": "code",
   "execution_count": 1,
   "id": "c45542b6",
   "metadata": {},
   "outputs": [
    {
     "data": {
      "text/plain": [
       "2285343836400"
      ]
     },
     "execution_count": 1,
     "metadata": {},
     "output_type": "execute_result"
    }
   ],
   "source": [
    "a='mohanraj'\n",
    "id(a)"
   ]
  },
  {
   "cell_type": "code",
   "execution_count": 4,
   "id": "20a6d18c",
   "metadata": {},
   "outputs": [],
   "source": [
    "a=a.replace('j','')"
   ]
  },
  {
   "cell_type": "code",
   "execution_count": 6,
   "id": "6d85003b",
   "metadata": {},
   "outputs": [
    {
     "data": {
      "text/plain": [
       "2285344043248"
      ]
     },
     "execution_count": 6,
     "metadata": {},
     "output_type": "execute_result"
    }
   ],
   "source": [
    "id(a)"
   ]
  },
  {
   "cell_type": "code",
   "execution_count": 7,
   "id": "efbd258f",
   "metadata": {},
   "outputs": [
    {
     "name": "stdout",
     "output_type": "stream",
     "text": [
      "Hell, Wrld!\n"
     ]
    }
   ],
   "source": [
    "original_string = \"Hello, World!\"\n",
    "element_to_delete = \"o\"\n",
    "new_string = original_string.replace(element_to_delete, \"\")\n",
    "print(new_string)  # This will output \"Hell, Wrld!\"\n"
   ]
  },
  {
   "cell_type": "code",
   "execution_count": 8,
   "id": "bbdbbfe7",
   "metadata": {},
   "outputs": [
    {
     "name": "stdout",
     "output_type": "stream",
     "text": [
      "mohanraj jarnahom\n"
     ]
    }
   ],
   "source": [
    "def is_palindrome(input_string):\n",
    "    print(input_string,input_string[::-1])\n",
    "    \n",
    "\n",
    "is_palindrome('mohanraj')"
   ]
  },
  {
   "cell_type": "code",
   "execution_count": 10,
   "id": "9b24dd4d",
   "metadata": {},
   "outputs": [
    {
     "data": {
      "text/plain": [
       "True"
      ]
     },
     "execution_count": 10,
     "metadata": {},
     "output_type": "execute_result"
    }
   ],
   "source": [
    "def are_anagrams(str1, str2):\n",
    "    return sorted(str1) == sorted(str2)\n",
    "are_anagrams('mohanraj','rajmohan')"
   ]
  },
  {
   "cell_type": "code",
   "execution_count": 23,
   "id": "55e3d141",
   "metadata": {},
   "outputs": [
    {
     "data": {
      "text/plain": [
       "'a3m2b2'"
      ]
     },
     "execution_count": 23,
     "metadata": {},
     "output_type": "execute_result"
    }
   ],
   "source": [
    "def compress_string(input_string):\n",
    "    compressed = ''\n",
    "    count = 1\n",
    "\n",
    "    for i in range(1, len(input_string)):\n",
    "        if input_string[i] == input_string[i - 1]:\n",
    "            count += 1\n",
    "        else:\n",
    "            compressed += input_string[i - 1] + str(count)\n",
    "            count = 1\n",
    "\n",
    "    compressed += input_string[-1] + str(count)\n",
    "    return compressed if len(compressed) < len(input_string) else input_string\n",
    "compress_string('aaammbb')\n"
   ]
  },
  {
   "cell_type": "code",
   "execution_count": 25,
   "id": "555cda32",
   "metadata": {},
   "outputs": [
    {
     "data": {
      "text/plain": [
       "False"
      ]
     },
     "execution_count": 25,
     "metadata": {},
     "output_type": "execute_result"
    }
   ],
   "source": [
    "def has_unique_characters(input_string):\n",
    "    return len(input_string) == len(set(input_string))\n",
    "has_unique_characters('rajj')"
   ]
  },
  {
   "cell_type": "code",
   "execution_count": 36,
   "id": "67c510c0",
   "metadata": {},
   "outputs": [
    {
     "name": "stdout",
     "output_type": "stream",
     "text": [
      "1 , 2 , FIZZ , 4 , BUZZ , FIZZ , 7 , 8 , FIZZ , BUZZ , 11 , FIZZ , 13 , 14 , FIZZBUZZ , 16 , 17 , FIZZ , 19 , BUZZ , FIZZ , 22 , 23 , FIZZ , BUZZ , 26 , FIZZ , 28 , 29 , FIZZBUZZ , 31 , 32 , FIZZ , 34 , BUZZ , FIZZ , 37 , 38 , FIZZ , BUZZ , 41 , FIZZ , 43 , 44 , FIZZBUZZ , 46 , 47 , FIZZ , 49 , BUZZ , FIZZ , 52 , 53 , FIZZ , BUZZ , 56 , FIZZ , 58 , 59 , FIZZBUZZ , 61 , 62 , FIZZ , 64 , BUZZ , FIZZ , 67 , 68 , FIZZ , BUZZ , 71 , FIZZ , 73 , 74 , FIZZBUZZ , 76 , 77 , FIZZ , 79 , BUZZ , FIZZ , 82 , 83 , FIZZ , BUZZ , 86 , FIZZ , 88 , 89 , FIZZBUZZ , 91 , 92 , FIZZ , 94 , BUZZ , FIZZ , 97 , 98 , FIZZ , BUZZ , "
     ]
    }
   ],
   "source": [
    "for i in range(1,101):\n",
    "    if i%3==0 and i%5==0:\n",
    "        print('FIZZBUZZ' ,end=' , ')\n",
    "    elif i%3==0:\n",
    "        print('FIZZ' ,end=' , ')\n",
    "    elif i%5==0:\n",
    "        print('BUZZ' ,end=' , ')\n",
    "    else:\n",
    "        print(i ,end=' , ')\n",
    "        "
   ]
  },
  {
   "cell_type": "code",
   "execution_count": 40,
   "id": "9e287b29",
   "metadata": {},
   "outputs": [
    {
     "data": {
      "text/plain": [
       "24"
      ]
     },
     "execution_count": 40,
     "metadata": {},
     "output_type": "execute_result"
    }
   ],
   "source": [
    "def factorial(n):\n",
    "    if n == 0:\n",
    "        return 1\n",
    "    else:\n",
    "        return n * factorial(n - 1)\n",
    "factorial(4)"
   ]
  },
  {
   "cell_type": "code",
   "execution_count": 38,
   "id": "20b2067c",
   "metadata": {},
   "outputs": [
    {
     "data": {
      "text/plain": [
       "24"
      ]
     },
     "execution_count": 38,
     "metadata": {},
     "output_type": "execute_result"
    }
   ],
   "source": [
    "4*3*2*1"
   ]
  },
  {
   "cell_type": "code",
   "execution_count": null,
   "id": "98cb6a6e",
   "metadata": {},
   "outputs": [],
   "source": []
  },
  {
   "cell_type": "code",
   "execution_count": 62,
   "id": "d053d4c4",
   "metadata": {},
   "outputs": [
    {
     "name": "stdout",
     "output_type": "stream",
     "text": [
      "0.0\n"
     ]
    }
   ],
   "source": [
    "import time\n",
    "p=time.time()\n",
    "def fibonacci(n):\n",
    "    sequence = [0, 1]\n",
    "    while len(sequence) < n:\n",
    "        sequence.append(sequence[-1] + sequence[-2])\n",
    "    return sequence\n",
    "fibonacci(7)\n",
    "q=time.time()\n",
    "print(q-p)"
   ]
  },
  {
   "cell_type": "code",
   "execution_count": 63,
   "id": "d6a877b1",
   "metadata": {},
   "outputs": [
    {
     "name": "stdout",
     "output_type": "stream",
     "text": [
      "[0, 1, 1, 2, 3, 5, 8]\n"
     ]
    }
   ],
   "source": [
    "def fibonacci(n):\n",
    "    sequence = [0, 1]\n",
    "    for i in range(n-2):\n",
    "      \n",
    "        sequence.append(sequence[-1] + sequence[-2])\n",
    "    print(sequence)  \n",
    "fibonacci(7)"
   ]
  },
  {
   "cell_type": "code",
   "execution_count": 64,
   "id": "91ff772d",
   "metadata": {},
   "outputs": [
    {
     "data": {
      "text/plain": [
       "[3, 2, 1]"
      ]
     },
     "execution_count": 64,
     "metadata": {},
     "output_type": "execute_result"
    }
   ],
   "source": [
    "a=[1,2,3]\n",
    "a[::-1]"
   ]
  },
  {
   "cell_type": "code",
   "execution_count": 68,
   "id": "1299a253",
   "metadata": {},
   "outputs": [
    {
     "data": {
      "text/plain": [
       "-2"
      ]
     },
     "execution_count": 68,
     "metadata": {},
     "output_type": "execute_result"
    }
   ],
   "source": [
    "def find_missing_number(nums):\n",
    "    n = len(nums) + 1\n",
    "    total_sum = n * (n + 1) // 2\n",
    "    actual_sum = sum(nums)\n",
    "    return total_sum - actual_sum\n",
    "find_missing_number([1,2,8,6])"
   ]
  },
  {
   "cell_type": "code",
   "execution_count": 70,
   "id": "ee80160e",
   "metadata": {},
   "outputs": [
    {
     "data": {
      "text/plain": [
       "[[7, 4, 1], [8, 5, 2], [9, 6, 3]]"
      ]
     },
     "execution_count": 70,
     "metadata": {},
     "output_type": "execute_result"
    }
   ],
   "source": [
    "import numpy as np\n",
    "matrix=np.array([[1,2,3],[4,5,6],[7,8,9]])\n",
    "\n",
    "def rotate_matrix(matrix):\n",
    "    n = len(matrix)\n",
    "    rotated = [[0] * n for _ in range(n)]\n",
    "    for i in range(n):\n",
    "        for j in range(n):\n",
    "            rotated[i][j] = matrix[n - j - 1][i]\n",
    "    return rotated\n",
    "rotate_matrix(matrix)"
   ]
  },
  {
   "cell_type": "code",
   "execution_count": 75,
   "id": "85563a9c",
   "metadata": {},
   "outputs": [
    {
     "data": {
      "text/plain": [
       "array([[1, 2, 3],\n",
       "       [4, 5, 6],\n",
       "       [7, 8, 9]])"
      ]
     },
     "execution_count": 75,
     "metadata": {},
     "output_type": "execute_result"
    }
   ],
   "source": [
    "matrix"
   ]
  },
  {
   "cell_type": "code",
   "execution_count": 72,
   "id": "10340406",
   "metadata": {},
   "outputs": [
    {
     "data": {
      "text/plain": [
       "3"
      ]
     },
     "execution_count": 72,
     "metadata": {},
     "output_type": "execute_result"
    }
   ],
   "source": [
    "len(matrix)"
   ]
  },
  {
   "cell_type": "code",
   "execution_count": 73,
   "id": "033c0ee4",
   "metadata": {},
   "outputs": [
    {
     "data": {
      "text/plain": [
       "[0, 0, 0]"
      ]
     },
     "execution_count": 73,
     "metadata": {},
     "output_type": "execute_result"
    }
   ],
   "source": [
    "[0] * 3"
   ]
  },
  {
   "cell_type": "code",
   "execution_count": 85,
   "id": "92723814",
   "metadata": {},
   "outputs": [
    {
     "data": {
      "text/plain": [
       "[[7, 4, 1], [8, 5, 2], [9, 6, 3]]"
      ]
     },
     "execution_count": 85,
     "metadata": {},
     "output_type": "execute_result"
    }
   ],
   "source": [
    "def rotate_matrix(matrix):\n",
    "    return list(map(list, zip(*matrix[::-1])))\n",
    "rotate_matrix(matrix)"
   ]
  },
  {
   "cell_type": "code",
   "execution_count": 83,
   "id": "79f39125",
   "metadata": {},
   "outputs": [
    {
     "data": {
      "text/plain": [
       "[[7, 4, 1], [8, 5, 2], [9, 6, 3]]"
      ]
     },
     "execution_count": 83,
     "metadata": {},
     "output_type": "execute_result"
    }
   ],
   "source": [
    "list(map(list, zip(*matrix[::-1])))"
   ]
  },
  {
   "cell_type": "code",
   "execution_count": 80,
   "id": "408b5893",
   "metadata": {},
   "outputs": [
    {
     "data": {
      "text/plain": [
       "array([[1, 2, 3],\n",
       "       [4, 5, 6],\n",
       "       [7, 8, 9]])"
      ]
     },
     "execution_count": 80,
     "metadata": {},
     "output_type": "execute_result"
    }
   ],
   "source": [
    "matrix"
   ]
  },
  {
   "cell_type": "code",
   "execution_count": 87,
   "id": "47809f6b",
   "metadata": {},
   "outputs": [
    {
     "data": {
      "text/plain": [
       "False"
      ]
     },
     "execution_count": 87,
     "metadata": {},
     "output_type": "execute_result"
    }
   ],
   "source": [
    "def is_substring(sub, string):\n",
    "    return sub in string\n",
    "is_substring('mohn','mohan')"
   ]
  },
  {
   "cell_type": "code",
   "execution_count": 89,
   "id": "0fa9df48",
   "metadata": {},
   "outputs": [
    {
     "data": {
      "text/plain": [
       "11"
      ]
     },
     "execution_count": 89,
     "metadata": {},
     "output_type": "execute_result"
    }
   ],
   "source": [
    "def find_missing_number(nums, n):\n",
    "    total = (n * (n + 1)) // 2\n",
    "    return total - sum(nums)\n",
    "find_missing_number([1,2,3,4], 6)"
   ]
  },
  {
   "cell_type": "code",
   "execution_count": null,
   "id": "eb485b92",
   "metadata": {},
   "outputs": [],
   "source": []
  },
  {
   "cell_type": "code",
   "execution_count": 19,
   "id": "494b8bc6",
   "metadata": {},
   "outputs": [
    {
     "name": "stdout",
     "output_type": "stream",
     "text": [
      "Welcome to Group Expense Calculator\n",
      "1. Add the expense\n",
      "2. Calculate debts\n",
      "3. Exit\n",
      "Enter option: 1\n",
      "Enter spender’s name: \n",
      "Please input the total spent amount: \n"
     ]
    },
    {
     "ename": "ValueError",
     "evalue": "could not convert string to float: ''",
     "output_type": "error",
     "traceback": [
      "\u001b[1;31m---------------------------------------------------------------------------\u001b[0m",
      "\u001b[1;31mValueError\u001b[0m                                Traceback (most recent call last)",
      "Cell \u001b[1;32mIn [19], line 64\u001b[0m\n\u001b[0;32m     62\u001b[0m \u001b[38;5;28;01mif\u001b[39;00m \u001b[38;5;18m__name__\u001b[39m \u001b[38;5;241m==\u001b[39m \u001b[38;5;124m\"\u001b[39m\u001b[38;5;124m__main__\u001b[39m\u001b[38;5;124m\"\u001b[39m:\n\u001b[0;32m     63\u001b[0m     calculator \u001b[38;5;241m=\u001b[39m GroupExpenseCalculator()\n\u001b[1;32m---> 64\u001b[0m     \u001b[43mcalculator\u001b[49m\u001b[38;5;241;43m.\u001b[39;49m\u001b[43mrun\u001b[49m\u001b[43m(\u001b[49m\u001b[43m)\u001b[49m\n",
      "Cell \u001b[1;32mIn [19], line 18\u001b[0m, in \u001b[0;36mGroupExpenseCalculator.run\u001b[1;34m(self)\u001b[0m\n\u001b[0;32m     16\u001b[0m \u001b[38;5;28;01mif\u001b[39;00m option \u001b[38;5;241m==\u001b[39m \u001b[38;5;124m'\u001b[39m\u001b[38;5;124m1\u001b[39m\u001b[38;5;124m'\u001b[39m:\n\u001b[0;32m     17\u001b[0m     spender \u001b[38;5;241m=\u001b[39m \u001b[38;5;28minput\u001b[39m(\u001b[38;5;124m\"\u001b[39m\u001b[38;5;124mEnter spender’s name: \u001b[39m\u001b[38;5;124m\"\u001b[39m)\u001b[38;5;241m.\u001b[39mstrip()\n\u001b[1;32m---> 18\u001b[0m     amount \u001b[38;5;241m=\u001b[39m \u001b[38;5;28;43mfloat\u001b[39;49m\u001b[43m(\u001b[49m\u001b[38;5;28;43minput\u001b[39;49m\u001b[43m(\u001b[49m\u001b[38;5;124;43m\"\u001b[39;49m\u001b[38;5;124;43mPlease input the total spent amount: \u001b[39;49m\u001b[38;5;124;43m\"\u001b[39;49m\u001b[43m)\u001b[49m\u001b[43m)\u001b[49m\n\u001b[0;32m     19\u001b[0m     members \u001b[38;5;241m=\u001b[39m [m\u001b[38;5;241m.\u001b[39mstrip() \u001b[38;5;28;01mfor\u001b[39;00m m \u001b[38;5;129;01min\u001b[39;00m \u001b[38;5;28minput\u001b[39m(\u001b[38;5;124m\"\u001b[39m\u001b[38;5;124mEnter the members of the group including yourself: \u001b[39m\u001b[38;5;124m\"\u001b[39m)\u001b[38;5;241m.\u001b[39msplit(\u001b[38;5;124m\"\u001b[39m\u001b[38;5;124m,\u001b[39m\u001b[38;5;124m\"\u001b[39m)]\n\u001b[0;32m     20\u001b[0m     \u001b[38;5;28mself\u001b[39m\u001b[38;5;241m.\u001b[39madd_expense(spender, amount, members)\n",
      "\u001b[1;31mValueError\u001b[0m: could not convert string to float: ''"
     ]
    }
   ],
   "source": [
    "import time\n",
    "class GroupExpenseCalculator:\n",
    "    def __init__(self):\n",
    "        self.groups = {}\n",
    "    \n",
    "    \n",
    "    def run(self):\n",
    "        while True:\n",
    "            print(\"Welcome to Group Expense Calculator\")\n",
    "            print(\"1. Add the expense\")\n",
    "            print(\"2. Calculate debts\")\n",
    "            print(\"3. Exit\")\n",
    "            time.sleep(0.2)\n",
    "            option = input(\"Enter option: \")\n",
    "\n",
    "            if option == '1':\n",
    "                spender = input(\"Enter spender’s name: \").strip()\n",
    "                amount = float(input(\"Please input the total spent amount: \"))\n",
    "                members = [m.strip() for m in input(\"Enter the members of the group including yourself: \").split(\",\")]\n",
    "                self.add_expense(spender, amount, members)\n",
    "                print(self.groups)\n",
    "\n",
    "            elif option == '2':\n",
    "                self.calculate_debts()\n",
    "\n",
    "            elif option == '3':\n",
    "                break\n",
    "\n",
    "    def add_expense(self, spender, amount, group_members):\n",
    "        if spender not in group_members:\n",
    "            group_members.append(spender)\n",
    "\n",
    "        expense_per_person = amount / len(group_members)\n",
    "\n",
    "        for member in group_members:\n",
    "            if member != spender:\n",
    "                self.update_balance(spender, member, expense_per_person)\n",
    "\n",
    "    def update_balance(self, payer, payee, amount):\n",
    "        if payer not in self.groups:\n",
    "            self.groups[payer] = {}\n",
    "        if payee not in self.groups:\n",
    "            self.groups[payee] = {}\n",
    "\n",
    "        if payee in self.groups[payer]:\n",
    "            self.groups[payer][payee] += amount\n",
    "        else:\n",
    "            self.groups[payer][payee] = amount\n",
    "\n",
    "        if payer in self.groups[payee]:\n",
    "            self.groups[payee][payer] -= amount\n",
    "        else:\n",
    "            self.groups[payee][payer] = -amount\n",
    "\n",
    "    def calculate_debts(self):\n",
    "        for payer, balances in self.groups.items():\n",
    "            for payee, amount in balances.items():\n",
    "                if amount > 0:\n",
    "                    print(f\"{payee} owes Rs.{amount:.2f} to {payer}\")\n",
    "\n",
    "\n",
    "if __name__ == \"__main__\":\n",
    "    calculator = GroupExpenseCalculator()\n",
    "    calculator.run()\n"
   ]
  },
  {
   "cell_type": "code",
   "execution_count": null,
   "id": "9ed1c1a5",
   "metadata": {},
   "outputs": [],
   "source": []
  },
  {
   "cell_type": "code",
   "execution_count": 2,
   "id": "81b57275",
   "metadata": {},
   "outputs": [
    {
     "name": "stdout",
     "output_type": "stream",
     "text": [
      "Welcome to Group Expense Calculator\n",
      "1. Add the expense\n",
      "2. Calculate debts\n",
      "3. Exit\n",
      "Enter option: 1\n",
      "Enter spender’s name: tanuja\n",
      "Please input the total spent amount: 1000\n",
      "Enter the members of the group including yourself: tanju,raj,uddhav\n",
      "{'tanuja': {'tanju': 333.3333333333333, 'raj': 333.3333333333333, 'uddhav': 333.3333333333333}, 'tanju': {'tanuja': -333.3333333333333}, 'raj': {'tanuja': -333.3333333333333}, 'uddhav': {'tanuja': -333.3333333333333}}\n",
      "Welcome to Group Expense Calculator\n",
      "1. Add the expense\n",
      "2. Calculate debts\n",
      "3. Exit\n",
      "Enter option: 1\n",
      "Enter spender’s name: uddhav\n",
      "Please input the total spent amount: 900\n",
      "Enter the members of the group including yourself: tanuja,raj,uddhav\n",
      "{'tanuja': {'tanju': 333.3333333333333, 'raj': 333.3333333333333, 'uddhav': 33.333333333333314}, 'tanju': {'tanuja': -333.3333333333333}, 'raj': {'tanuja': -333.3333333333333, 'uddhav': -300.0}, 'uddhav': {'tanuja': -33.333333333333314, 'raj': 300.0}}\n",
      "Welcome to Group Expense Calculator\n",
      "1. Add the expense\n",
      "2. Calculate debts\n",
      "3. Exit\n",
      "Enter option: 2\n",
      "tanju owes Rs.333.33 to tanuja\n",
      "raj owes Rs.333.33 to tanuja\n",
      "uddhav owes Rs.33.33 to tanuja\n",
      "raj owes Rs.300.00 to uddhav\n",
      "Welcome to Group Expense Calculator\n",
      "1. Add the expense\n",
      "2. Calculate debts\n",
      "3. Exit\n",
      "Enter option: 3\n"
     ]
    }
   ],
   "source": [
    "import time\n",
    "\n",
    "class GroupExpenseCalculator:\n",
    "    def __init__(self):\n",
    "        self.groups = {}\n",
    "\n",
    "    def run(self):\n",
    "        while True:\n",
    "            print(\"Welcome to Group Expense Calculator\")\n",
    "            print(\"1. Add the expense\")\n",
    "            print(\"2. Calculate debts\")\n",
    "            print(\"3. Exit\")\n",
    "            option = input(\"Enter option: \")\n",
    "\n",
    "            if option == '1':\n",
    "                spender = input(\"Enter spender’s name: \").strip()\n",
    "                amount = self.get_float_input(\"Please input the total spent amount: \")\n",
    "                members = [m.strip() for m in input(\"Enter the members of the group including yourself: \").split(\",\")]\n",
    "\n",
    "                try:\n",
    "                    self.add_expense(spender, amount, members)\n",
    "                    print(self.groups)\n",
    "                except ValueError:\n",
    "                    print(\"Invalid input. Please ensure the amount is a valid number.\")\n",
    "\n",
    "            elif option == '2':\n",
    "                self.calculate_debts()\n",
    "\n",
    "            elif option == '3':\n",
    "                break\n",
    "\n",
    "    def get_float_input(self, prompt):\n",
    "        while True:\n",
    "            try:\n",
    "                amount = float(input(prompt))\n",
    "                return amount\n",
    "            except ValueError:\n",
    "                print(\"Invalid input. Please enter a valid number.\")\n",
    "\n",
    "    def add_expense(self, spender, amount, group_members):\n",
    "\n",
    "\n",
    "        expense_per_person = amount / len(group_members)\n",
    "\n",
    "        for member in group_members:\n",
    "            if member != spender:\n",
    "                self.update_balance(spender, member, expense_per_person)\n",
    "\n",
    "    def update_balance(self, payer, payee, amount):\n",
    "        if payer not in self.groups:\n",
    "            self.groups[payer] = {}\n",
    "        if payee not in self.groups:\n",
    "            self.groups[payee] = {}\n",
    "\n",
    "        if payee in self.groups[payer]:\n",
    "            self.groups[payer][payee] += amount       \n",
    "        else:\n",
    "            self.groups[payer][payee] = amount\n",
    "\n",
    "        if payer in self.groups[payee]:\n",
    "            self.groups[payee][payer] -= amount\n",
    "        else:\n",
    "            self.groups[payee][payer] = -amount\n",
    "\n",
    "    def calculate_debts(self):\n",
    "        for payer, balances in self.groups.items():\n",
    "            for payee, amount in balances.items():\n",
    "                if amount > 0:\n",
    "                    print(f\"{payee} owes Rs.{amount:.2f} to {payer}\")\n",
    "\n",
    "if __name__ == \"__main__\":\n",
    "    calculator = GroupExpenseCalculator()\n",
    "    calculator.run()\n"
   ]
  },
  {
   "cell_type": "code",
   "execution_count": null,
   "id": "67b3dc27",
   "metadata": {},
   "outputs": [],
   "source": [
    "# {\"uddhav\": {'mohan':-100,'kri':200},\"mohan\": {'uddhav':100,'kri':300,'sagar':300},\"kri\": {'uddhav':-200,'mohan':-300},'sagar':{'mohan':-300}}\n",
    "\n",
    "# # mohan ---1200--300\n",
    "\n",
    "# # uddhav,kri,mohan,sagar\n",
    "\n",
    "# uddhav 200 from kri\n",
    "# mohan 100 from uddhav\n",
    "# mohan 300 from kri\n",
    "# mohan 300 from sagar\n",
    "\n",
    "\n"
   ]
  },
  {
   "cell_type": "code",
   "execution_count": 30,
   "id": "bc4848e8",
   "metadata": {},
   "outputs": [
    {
     "data": {
      "text/plain": [
       "6"
      ]
     },
     "execution_count": 30,
     "metadata": {},
     "output_type": "execute_result"
    }
   ],
   "source": [
    "# uddhav has a box --- 3 wholes   -- 1 -x, 2-y ,3-z   \n",
    "\n",
    "\n",
    "\n",
    "# def pp(k,x,y,z):\n",
    "    \n",
    "#     final=0\n",
    "#     for i in range(k):\n",
    "#         final+=x+y+z\n",
    "#     return final\n",
    "# pp(2,1,1,1)\n",
    "    "
   ]
  },
  {
   "cell_type": "code",
   "execution_count": null,
   "id": "cf13cf1a",
   "metadata": {},
   "outputs": [],
   "source": [
    "import pytest\n",
    "from group_expense_calculator import GroupExpenseCalculator\n",
    "\n",
    "@pytest.fixture\n",
    "def calculator():\n",
    "    return GroupExpenseCalculator()\n",
    "\n",
    "def test_add_expense(calculator):\n",
    "    calculator.add_expense(\"John\", 100.0, [\"John\", \"Alice\", \"Bob\"])\n",
    "    assert calculator.groups[\"John\"][\"Alice\"] == 33.33\n",
    "    assert calculator.groups[\"John\"][\"Bob\"] == 33.33\n",
    "\n",
    "def test_update_balance(calculator):\n",
    "    calculator.update_balance(\"John\", \"Alice\", 33.33)  # Update with 33.33\n",
    "    assert calculator.groups[\"John\"][\"Alice\"] == 33.33  # The balance remains 33.33\n",
    "\n",
    "def test_calculate_debts(capfd, calculator):\n",
    "    calculator.add_expense(\"John\", 100.0, [\"John\", \"Alice\", \"Bob\"])\n",
    "    calculator.calculate_debts()\n",
    "    captured = capfd.readouterr()\n",
    "    assert \"Alice owes Rs.33.33 to John\" in captured.out\n"
   ]
  },
  {
   "cell_type": "code",
   "execution_count": 3,
   "id": "354b0c91",
   "metadata": {},
   "outputs": [
    {
     "name": "stdout",
     "output_type": "stream",
     "text": [
      "4\n",
      "5\n",
      "6\n"
     ]
    }
   ],
   "source": [
    "l1=[1,2,3,4,5,6]\n",
    "l2=[4,5,6,7,8]\n",
    "def p(l1,l2):\n",
    "    for i in l1:\n",
    "        if i in l2:\n",
    "            print(i)\n",
    "p(l1,l2)"
   ]
  },
  {
   "cell_type": "code",
   "execution_count": null,
   "id": "9427ef86",
   "metadata": {},
   "outputs": [],
   "source": [
    "# Write a Python program to find the longest increasing subsequence in a list of integers."
   ]
  },
  {
   "cell_type": "code",
   "execution_count": null,
   "id": "e699990b",
   "metadata": {},
   "outputs": [],
   "source": [
    "a=[[1,2,3,4,5],[1,2,3,4,5,6],]"
   ]
  },
  {
   "cell_type": "code",
   "execution_count": 1,
   "id": "809937ce",
   "metadata": {},
   "outputs": [
    {
     "name": "stdout",
     "output_type": "stream",
     "text": [
      "[10, 22, 33, 41, 60, 80]\n"
     ]
    }
   ],
   "source": [
    "def longest_increasing_subsequence(arr):\n",
    "    n = len(arr)\n",
    "    lis = [1] * n\n",
    "\n",
    "    for i in range(1, n):\n",
    "        for j in range(0, i):\n",
    "            if arr[i] > arr[j] and lis[i] < lis[j] + 1:\n",
    "                lis[i] = lis[j] + 1\n",
    "   \n",
    "    max_length = max(lis)\n",
    "    longest_seq = []\n",
    "\n",
    "    for i in range(n - 1, -1, -1):\n",
    "        if lis[i] == max_length:\n",
    "            longest_seq.insert(0, arr[i])\n",
    "            max_length -= 1\n",
    "\n",
    "    return longest_seq\n",
    "\n",
    "# Example usage:\n",
    "arr = [10, 22, 9, 33, 21, 50, 41, 60, 80]\n",
    "result = longest_increasing_subsequence(arr)\n",
    "print(result)\n"
   ]
  },
  {
   "cell_type": "code",
   "execution_count": 2,
   "id": "d2382e49",
   "metadata": {},
   "outputs": [],
   "source": [
    "arr = [10, 22, 9, 33, 21, 50, 41, 60, 80]\n",
    "        |   |  |   |   |   |   |   |   |\n",
    "        0   1  2   3   4   5   6   7   8\n",
    "#[10, 22, 33, 41, 60, 80]"
   ]
  },
  {
   "cell_type": "code",
   "execution_count": null,
   "id": "a854fb30",
   "metadata": {},
   "outputs": [],
   "source": [
    "arr = [10, 22, 9, 33, 21, 50, 41, 60, 80]"
   ]
  },
  {
   "cell_type": "code",
   "execution_count": 20,
   "id": "4fb5c94c",
   "metadata": {},
   "outputs": [
    {
     "data": {
      "text/plain": [
       "[80, 60, 50, 33, 22, 10]"
      ]
     },
     "execution_count": 20,
     "metadata": {},
     "output_type": "execute_result"
    }
   ],
   "source": [
    "a=[]\n",
    "for i in range(len(arr)-1,-1,-1):\n",
    "    if i==len(arr)-1:\n",
    "        a.append(arr[i])\n",
    "    elif i==0:\n",
    "        a.append(arr[i])\n",
    "    elif arr[i]<a[-1] and arr[i]>arr[i-1]:\n",
    "        a.append(arr[i])\n",
    "a    "
   ]
  },
  {
   "cell_type": "code",
   "execution_count": 30,
   "id": "020d9866",
   "metadata": {},
   "outputs": [],
   "source": [
    "a = [10, 22, 9, 33, 21, 50, 41, 60, 80]\n",
    "a.reverse()"
   ]
  },
  {
   "cell_type": "code",
   "execution_count": 31,
   "id": "3b1a34bb",
   "metadata": {},
   "outputs": [
    {
     "data": {
      "text/plain": [
       "[80, 60, 41, 50, 21, 33, 9, 22, 10]"
      ]
     },
     "execution_count": 31,
     "metadata": {},
     "output_type": "execute_result"
    }
   ],
   "source": [
    "a"
   ]
  },
  {
   "cell_type": "code",
   "execution_count": 36,
   "id": "8df1eb66",
   "metadata": {},
   "outputs": [
    {
     "data": {
      "text/plain": [
       "[80, 41, 21, 9, 10]"
      ]
     },
     "execution_count": 36,
     "metadata": {},
     "output_type": "execute_result"
    }
   ],
   "source": [
    "b=[]\n",
    "for i in range(len(a)):\n",
    "    if i==0 or i==len(a)-1:\n",
    "        b.append(a[i])\n",
    "    else:\n",
    "        if a[i]<a[i-1] and a[i]<a[i+1]:\n",
    "            b.append(a[i])\n",
    "b\n",
    "            \n"
   ]
  },
  {
   "cell_type": "code",
   "execution_count": 29,
   "id": "1c247a23",
   "metadata": {},
   "outputs": [
    {
     "data": {
      "text/plain": [
       "[80, 60, 50, 33, 22, 10, 10, 80]"
      ]
     },
     "execution_count": 29,
     "metadata": {},
     "output_type": "execute_result"
    }
   ],
   "source": []
  },
  {
   "cell_type": "code",
   "execution_count": 37,
   "id": "fa7cb29a",
   "metadata": {},
   "outputs": [
    {
     "data": {
      "text/plain": [
       "[1, 1, 1, 1, 1, 1, 1, 1, 1]"
      ]
     },
     "execution_count": 37,
     "metadata": {},
     "output_type": "execute_result"
    }
   ],
   "source": [
    "[1]*9"
   ]
  },
  {
   "cell_type": "code",
   "execution_count": null,
   "id": "09710a98",
   "metadata": {},
   "outputs": [],
   "source": []
  },
  {
   "cell_type": "code",
   "execution_count": 11,
   "id": "3131c01e",
   "metadata": {},
   "outputs": [
    {
     "name": "stdout",
     "output_type": "stream",
     "text": [
      " profit is 8 when buy at 7 and sell at 15\n"
     ]
    }
   ],
   "source": [
    "sl=[10,12,8,7,13,12,15]\n",
    "c=0\n",
    "g=[]\n",
    "for i,j in enumerate(sl):\n",
    "    for p in range(i+1,len(sl)):\n",
    "        if sl[p]-j>c:\n",
    "            c=sl[p]-j\n",
    "            g=[j,sl[p]]     \n",
    "print(\" profit is {} when buy at {} and sell at {}\".format(c,g[0],g[1]))"
   ]
  },
  {
   "cell_type": "code",
   "execution_count": null,
   "id": "4427baec",
   "metadata": {},
   "outputs": [],
   "source": []
  },
  {
   "cell_type": "code",
   "execution_count": 33,
   "id": "ebcfd881",
   "metadata": {},
   "outputs": [
    {
     "name": "stdout",
     "output_type": "stream",
     "text": [
      "main\n"
     ]
    }
   ],
   "source": [
    "from multiprocessing import Process, Queue\n",
    "import time\n",
    "\n",
    "def f1(output_q):\n",
    "    for i in range(10):\n",
    "        time.sleep(2)\n",
    "        output_q.put('from f1')\n",
    "\n",
    "def f2(output_q):\n",
    "    for i in range(10):\n",
    "        output_q.put('from f2')\n",
    "\n",
    "output_queue = Queue()\n",
    "\n",
    "p1 = Process(target=f1, args=(output_queue,))\n",
    "p2 = Process(target=f2, args=(output_queue,))\n",
    "\n",
    "p1.start()\n",
    "p2.start()\n",
    "\n",
    "p1.join()\n",
    "p2.join()\n",
    "\n",
    "while not output_queue.empty():\n",
    "    print(output_queue.get())\n",
    "\n",
    "print('main')\n"
   ]
  },
  {
   "cell_type": "code",
   "execution_count": null,
   "id": "9110e96c",
   "metadata": {},
   "outputs": [],
   "source": []
  },
  {
   "cell_type": "code",
   "execution_count": 35,
   "id": "1b1ecb7b",
   "metadata": {},
   "outputs": [
    {
     "name": "stdout",
     "output_type": "stream",
     "text": [
      "All processes finished.\n"
     ]
    }
   ],
   "source": [
    "from multiprocessing import Process\n",
    "\n",
    "def print_info():\n",
    "    for i in range(10):\n",
    "        print('from 1')\n",
    "\n",
    "# Creating multiple processes using a for loop\n",
    "for i in range(5):\n",
    "    p = Process(target=print_info)\n",
    "    p.start()\n",
    "    \n",
    "\n",
    "print(\"All processes finished.\")\n"
   ]
  },
  {
   "cell_type": "code",
   "execution_count": 37,
   "id": "0786e7ee",
   "metadata": {},
   "outputs": [
    {
     "name": "stdout",
     "output_type": "stream",
     "text": [
      "All processes finished.\n"
     ]
    }
   ],
   "source": [
    "from multiprocessing import Process\n",
    "\n",
    "def print_info():\n",
    "    for i in range(10):\n",
    "        print('from 1')\n",
    "\n",
    "# Creating multiple processes using a for loop\n",
    "processes = []\n",
    "for i in range(5):\n",
    "    p = Process(target=print_info)\n",
    "    processes.append(p)\n",
    "    p.start()\n",
    "\n",
    "# Wait for all processes to complete\n",
    "for p in processes:\n",
    "    p.join()\n",
    "\n",
    "print(\"All processes finished.\")\n"
   ]
  },
  {
   "cell_type": "code",
   "execution_count": 7,
   "id": "040b46f1",
   "metadata": {},
   "outputs": [
    {
     "name": "stdout",
     "output_type": "stream",
     "text": [
      "4 is not a prime number\n"
     ]
    }
   ],
   "source": [
    "is_prime = lambda n: n > 1 and all(n % i != 0 for i in range(2, int(n/2) + 1))\n",
    "n = 4\n",
    "\n",
    "print(f\"{n} is a prime number\" if is_prime(n) else f\"{n} is not a prime number\")\n"
   ]
  },
  {
   "cell_type": "code",
   "execution_count": 11,
   "id": "3dd7d398",
   "metadata": {},
   "outputs": [
    {
     "name": "stdout",
     "output_type": "stream",
     "text": [
      "enter no : 4\n"
     ]
    },
    {
     "data": {
      "text/plain": [
       "[2, 3, 5, 7]"
      ]
     },
     "execution_count": 11,
     "metadata": {},
     "output_type": "execute_result"
    }
   ],
   "source": [
    "no=int(input('enter no : '))\n",
    "l=[]\n",
    "n=2\n",
    "while len(l)<no:\n",
    "    is_prime = lambda n: n > 1 and all(n % i != 0 for i in range(2, int(n/2) + 1))\n",
    "    if is_prime(n)==True:\n",
    "        l.append(n)\n",
    "        n+=1\n",
    "    else:\n",
    "        n+=1\n",
    "l    "
   ]
  },
  {
   "cell_type": "code",
   "execution_count": 13,
   "id": "d6de4490",
   "metadata": {},
   "outputs": [
    {
     "name": "stdout",
     "output_type": "stream",
     "text": [
      "enter no : 20\n"
     ]
    },
    {
     "data": {
      "text/plain": [
       "[2, 3, 5, 7, 11, 13, 17, 19, 23, 29, 31, 37, 41, 43, 47, 53, 59, 61, 67, 71]"
      ]
     },
     "execution_count": 13,
     "metadata": {},
     "output_type": "execute_result"
    }
   ],
   "source": [
    "no=int(input('enter no : '))\n",
    "l=[]\n",
    "n=2\n",
    "while len(l)<no:\n",
    "    is_prime = lambda n: n > 1 and all(n % i != 0 for i in range(2, int(n/2) + 1))\n",
    "    if is_prime(n)==True:\n",
    "        l.append(n)\n",
    "        n+=1\n",
    "    else:\n",
    "        n+=1\n",
    "l  "
   ]
  },
  {
   "cell_type": "code",
   "execution_count": 30,
   "id": "c792988d",
   "metadata": {},
   "outputs": [
    {
     "name": "stdout",
     "output_type": "stream",
     "text": [
      "enter no : 4\n"
     ]
    },
    {
     "data": {
      "text/plain": [
       "[2, 3, 5, 7]"
      ]
     },
     "execution_count": 30,
     "metadata": {},
     "output_type": "execute_result"
    }
   ],
   "source": [
    "no=int(input('enter no : '))\n",
    "l=[]\n",
    "n=2\n",
    "while len(l)<no:\n",
    "    def is_prime(n):\n",
    "        flag=True\n",
    "        if n>1:\n",
    "            for i in range(2,int(n/2)+1):\n",
    "                if n%i!=0:\n",
    "                    flag=True\n",
    "                else:\n",
    "                    flag=False\n",
    "                    break\n",
    "\n",
    "        else:\n",
    "            flag=False\n",
    "        return flag\n",
    "    \n",
    "    if is_prime(n):\n",
    "        l.append(n)\n",
    "        n+=1\n",
    "    else:\n",
    "        n+=1\n",
    "    \n",
    "l"
   ]
  },
  {
   "cell_type": "code",
   "execution_count": 36,
   "id": "5a3dfdc9",
   "metadata": {},
   "outputs": [
    {
     "data": {
      "text/plain": [
       "[9, 3, 4, 1, 5]"
      ]
     },
     "execution_count": 36,
     "metadata": {},
     "output_type": "execute_result"
    }
   ],
   "source": [
    "a=[9,3,4,1,5]\n",
    "\n",
    "for i in range(len(a)):\n",
    "    for p,j in a:\n",
    "        if j==max(a):\n",
    "            b=max(a)\n",
    "            a.remove(j)\n",
    "            a.insert(0,b)\n",
    "\n",
    "a    "
   ]
  },
  {
   "cell_type": "code",
   "execution_count": 11,
   "id": "81c451b4",
   "metadata": {},
   "outputs": [
    {
     "name": "stdout",
     "output_type": "stream",
     "text": [
      "['india', 'is', 'my', 'country', 'i', 'love', 'my', 'country']\n"
     ]
    }
   ],
   "source": [
    "l=['in','i','m','co']\n",
    "l2=['dia','s','y','untry','i','love','my','country']\n",
    "res=[]\n",
    "if len(l)>len(l2):\n",
    "    a=[l[i]+l2[i] for i in range(len(l2))]\n",
    "    b=[a.append(l[i])for i in range(len(l2),len(l))]\n",
    "    print(a)\n",
    "else:\n",
    "    a=[l[i]+l2[i] for i in range(len(l))]\n",
    "    b=[a.append(l2[i])for i in range(len(l),len(l2))]\n",
    "    print(a)\n",
    "    \n"
   ]
  },
  {
   "cell_type": "code",
   "execution_count": 13,
   "id": "d066dd6a",
   "metadata": {},
   "outputs": [
    {
     "name": "stdout",
     "output_type": "stream",
     "text": [
      "list index out of range\n"
     ]
    }
   ],
   "source": [
    "try:\n",
    "    def add(l,l2):\n",
    "        res=[]\n",
    "        if len(l)>len(l2):\n",
    "            a=[l[i]+l2[i] for i in range(len(l2))]\n",
    "            b=[a.append(l[i])for i in range(len(l2),len(l))]\n",
    "            return a\n",
    "        else:\n",
    "            a=[l[i]+l2[i] for i in range(len(l)+2)]\n",
    "            b=[a.append(l2[i])for i in range(len(l),len(l2))]\n",
    "            return a\n",
    "\n",
    "    l=['in','i','m','co']\n",
    "    l2=['dia','s','y','untry','i','love','my','country']\n",
    "    print(add(l,l2))\n",
    "except Exception as e:\n",
    "    print(e)\n",
    "    "
   ]
  },
  {
   "cell_type": "code",
   "execution_count": null,
   "id": "a443a05e",
   "metadata": {},
   "outputs": [],
   "source": []
  },
  {
   "cell_type": "code",
   "execution_count": 21,
   "id": "643a1283",
   "metadata": {},
   "outputs": [
    {
     "name": "stdout",
     "output_type": "stream",
     "text": [
      "1994\n"
     ]
    }
   ],
   "source": [
    "class Solution:\n",
    "    def romanToInt(self, s: str) -> int:\n",
    "        d={'I':1,\"V\":5,'X':10,'L':50,'C':100,'D':500,'M':1000}\n",
    "        t=0\n",
    "        index=0\n",
    "        while index<len(s):\n",
    "            if s[index]=='I' :\n",
    "                if index<len(s)-1 and s[index+1]=='V':\n",
    "                    t+=d['V']-1\n",
    "                    index+=2\n",
    "                elif index<len(s)-1 and s[index+1]=='X':\n",
    "                    t+=d['X']-1\n",
    "                    index+=2\n",
    "                else:\n",
    "                    t+=d[s[index]]\n",
    "                    index+=1\n",
    "            elif s[index]=='X':\n",
    "                if index<len(s)-1 and s[index+1]=='L'  :\n",
    "                    t+=d['L']-10\n",
    "                    index+=2\n",
    "                elif index<len(s)-1 and s[index+1]=='C':\n",
    "                    t+=d['C']-10\n",
    "                    index+=2\n",
    "                else:\n",
    "                    t+=d[s[index]]\n",
    "                    index+=1\n",
    "            elif s[index]=='C':\n",
    "                if index<len(s)-1 and s[index+1]=='D':\n",
    "                    t+=d['D']-100\n",
    "                    index+=2\n",
    "                elif index<len(s)-1 and s[index+1]=='M' :\n",
    "                    t+=d['M']-100\n",
    "                    index+=2\n",
    "                else:\n",
    "                    t+=d[s[index]]\n",
    "                    index+=1\n",
    "            else:\n",
    "                t+=d[s[index]]\n",
    "                index+=1\n",
    "                \n",
    "        return t\n",
    "        \n",
    "obj=Solution()\n",
    "print(obj.romanToInt('MCMXCIV'))"
   ]
  },
  {
   "cell_type": "code",
   "execution_count": 13,
   "id": "7534a7c2",
   "metadata": {},
   "outputs": [
    {
     "name": "stdout",
     "output_type": "stream",
     "text": [
      "7 raj from pune\n",
      "6 krish from kolhapur\n",
      "4 mohan from nanded\n",
      "2 aditya from beed\n",
      "1 prem from pune\n"
     ]
    }
   ],
   "source": [
    "d={'mohan':[4,'nanded'],'raj':[7,'pune'],'aditya':[2,'beed'],'prem':[1,'pune'],'krish':[6,'kolhapur']}\n",
    "b=dict(sorted(d.items(), key=lambda x: x[1][0], reverse=True))\n",
    "for i,j in b.items():\n",
    "    print(j[0],i,'from',j[1])"
   ]
  },
  {
   "cell_type": "code",
   "execution_count": 18,
   "id": "f3b645a1",
   "metadata": {},
   "outputs": [
    {
     "data": {
      "text/plain": [
       "20"
      ]
     },
     "execution_count": 18,
     "metadata": {},
     "output_type": "execute_result"
    }
   ],
   "source": [
    "d={'mohan':[4,'nanded'],'raj':[7,'pune'],'aditya':[2,'beed'],'prem':[1,'pune'],'krish':[6,'kolhapur']}\n",
    "from functools import reduce\n",
    "c=[i[0] for i in d.values()]\n",
    "b=reduce(lambda x,y:x+y,c)\n",
    "b"
   ]
  },
  {
   "cell_type": "code",
   "execution_count": null,
   "id": "7ed6f343",
   "metadata": {},
   "outputs": [],
   "source": [
    "# 1.\n",
    "a='mohan'     # revere withount using inbuilt function\n",
    "a=list('mohan')    # revere withount using inbuilt function\n",
    "\n",
    "\n",
    "# 2. \n",
    "a={['mohan','raj']['pune','kolhapue']}     #   =>  mohan pune\n",
    "\n",
    "\n",
    "# 3. second highest element   a=[1,5,2,9,3,6,5,7]    , if len(a) <=1   none  \n",
    "\n",
    "# 4. second highest element   a=[1,5,2,9,3,6,5,7]     withount using sorting\n",
    "\n"
   ]
  },
  {
   "cell_type": "code",
   "execution_count": 16,
   "id": "0dd67286",
   "metadata": {},
   "outputs": [
    {
     "name": "stdout",
     "output_type": "stream",
     "text": [
      "bbg\n"
     ]
    }
   ],
   "source": [
    "s_l=['bbbgjghg','bbg','bbgbhjvghaHgjg']\n",
    "s=s_l[0]\n",
    "l=[]\n",
    "\n",
    "for j in range(len(s)):\n",
    "    sub=''\n",
    "    for i in range(j,len(s)+1):\n",
    "        if j!=i:\n",
    "            sub=s[j:i]\n",
    "            l.append(sub)\n",
    "length=0\n",
    "strs=''\n",
    "for p in l:\n",
    "    c=0\n",
    "    for q in s_l:\n",
    "        if p in q :\n",
    "            c+=1\n",
    "    if c==len(s_l) and  len(p)>length:\n",
    "        length=len(p)\n",
    "        strs=p\n",
    "        \n",
    "print(strs)   "
   ]
  },
  {
   "cell_type": "code",
   "execution_count": null,
   "id": "aad6909d",
   "metadata": {},
   "outputs": [],
   "source": []
  },
  {
   "cell_type": "code",
   "execution_count": null,
   "id": "67315fea",
   "metadata": {},
   "outputs": [],
   "source": []
  },
  {
   "cell_type": "code",
   "execution_count": null,
   "id": "68ab583c",
   "metadata": {},
   "outputs": [],
   "source": []
  },
  {
   "cell_type": "code",
   "execution_count": null,
   "id": "b4ef0126",
   "metadata": {},
   "outputs": [],
   "source": []
  },
  {
   "cell_type": "code",
   "execution_count": null,
   "id": "2d57565f",
   "metadata": {},
   "outputs": [],
   "source": []
  },
  {
   "cell_type": "code",
   "execution_count": 3,
   "id": "c252f6c3",
   "metadata": {},
   "outputs": [
    {
     "ename": "SyntaxError",
     "evalue": "invalid syntax (2395850482.py, line 163)",
     "output_type": "error",
     "traceback": [
      "\u001b[1;36m  Cell \u001b[1;32mIn [3], line 163\u001b[1;36m\u001b[0m\n\u001b[1;33m    200. Number of Islands\u001b[0m\n\u001b[1;37m         ^\u001b[0m\n\u001b[1;31mSyntaxError\u001b[0m\u001b[1;31m:\u001b[0m invalid syntax\n"
     ]
    }
   ],
   "source": [
    "#7. Reverse Integer\n",
    "class Solution:\n",
    "    def reverse(self, x: int) -> int:\n",
    "        Max= 2**31 - 1\n",
    "        Min = -2**31\n",
    "        sign= 1 if x >= 0 else -1\n",
    "        x = abs(x)\n",
    "        result=0\n",
    "        while x!=0:\n",
    "            digit=x%10\n",
    "            x=x//10\n",
    "            if result > (Max - digit) // 10:\n",
    "                return 0\n",
    "            result=result*10 +digit\n",
    "            \n",
    "        return result*sign\n",
    "    \n",
    "# 88. Merge Sorted Array  \n",
    "class Solution:\n",
    "    def merge(self, nums1: List[int], m: int, nums2: List[int], n: int) -> None:\n",
    "        c=0\n",
    "        for i in range(m,m+n):\n",
    "            nums1[i]=nums2[c]\n",
    "            c+=1\n",
    "        nums1.sort()\n",
    "\n",
    "        \n",
    "# 122. Best Time to Buy and Sell Stock II\n",
    "class Solution:\n",
    "    def maxProfit(self, prices):\n",
    "        if not prices or len(prices) == 1:\n",
    "            return 0\n",
    "\n",
    "        profit = 0\n",
    "        for i in range(1, len(prices)):\n",
    "            if prices[i] > prices[i-1]:\n",
    "                profit += prices[i] - prices[i-1]\n",
    "\n",
    "        return profit\n",
    "\n",
    "    \n",
    "#83.Remove Duplicates from Sorted List   \n",
    "class Solution:\n",
    "    def deleteDuplicates(self, head: Optional[ListNode]) -> Optional[ListNode]:\n",
    "        curr = head\n",
    "\n",
    "        while curr and curr.next:\n",
    "            if curr.val == curr.next.val:\n",
    "                curr.next = curr.next.next\n",
    "            else:\n",
    "                curr = curr.next\n",
    "\n",
    "        return head\n",
    "    \n",
    "    \n",
    "# 78. Subsets\n",
    "from typing import List\n",
    "\n",
    "class Solution:\n",
    "    def subsets(self, nums: List[int]) -> List[List[int]]:\n",
    "        output = [[]]\n",
    "        n = len(nums)\n",
    "\n",
    "        for num in nums:\n",
    "            new_subsets = [curr + [num] for curr in output]\n",
    "            print(new_subsets)\n",
    "            output.extend(new_subsets)\n",
    "\n",
    "        return output\n",
    "    \n",
    "# 257  Binary Tree Paths\n",
    "class Solution:\n",
    "    def binaryTreePaths(self, root: Optional[TreeNode]) -> List[str]:\n",
    "        def dfs(node, curr, result):\n",
    "            if not node:\n",
    "                return\n",
    "\n",
    "            curr += str(node.val)\n",
    "\n",
    "            if not node.left and not node.right: \n",
    "                result.append(curr)\n",
    "            else:\n",
    "                curr += '->'\n",
    "                dfs(node.left, curr, result)\n",
    "                dfs(node.right, curr, result)\n",
    "\n",
    "        result = []\n",
    "        dfs(root, \"\", result)\n",
    "        return result\n",
    "\n",
    "\n",
    "\n",
    "    \n",
    "#141. Linked List Cycle\n",
    "\n",
    "class Solution:\n",
    "    def hasCycle(self, head: Optional[ListNode]) -> bool:\n",
    "        if head==None or head.next==None:\n",
    "            return False\n",
    "\n",
    "        curr = head\n",
    "        coming = head.next\n",
    "\n",
    "        while curr != coming:\n",
    "            if coming==None or coming.next==None:\n",
    "                return False\n",
    "\n",
    "            curr = curr.next\n",
    "            coming = coming.next.next\n",
    "\n",
    "        return True\n",
    "\n",
    "\n",
    "    \n",
    "# peak value\n",
    "def peak_values(l):\n",
    "    peak=[]\n",
    "    if len(l) == 1 or l[0] > l[1]:\n",
    "        peak.append(l[0])\n",
    "\n",
    "    for i in range(1, len(l) - 1):\n",
    "        if l[i] > l[i - 1] and l[i] > l[i + 1]:\n",
    "            peak.append(l[i])\n",
    "    if l[len(l)-1]>l[len(l)-2]:\n",
    "        peak.append(l[len(l)-1])\n",
    "        \n",
    "    return peak\n",
    "l=[11,1,4,2,9,8,6,5,15]\n",
    "print(peak_values(l))\n",
    "\n",
    "\n",
    "\n",
    "# Square root of a number\n",
    "\n",
    "def floorSqrt(num):\n",
    "    if 1 <= num and num<= 10**7:\n",
    "        i = 1\n",
    "        while i * i <= num:\n",
    "            i += 1\n",
    "        return i - 1\n",
    "    else:\n",
    "        return 'Not in range'\n",
    "floorSqrt(5)\n",
    "\n",
    "\n",
    "\n",
    "\n",
    "## Print all triplets with given sum\n",
    "arr= [0, -1, 2, -3, 1]\n",
    "sum1 = -2\n",
    "\n",
    "# Output:  0 -3  1\n",
    "#         -1  2 -3\n",
    "for i in range(len(arr)-2):\n",
    "    for j in range(i+1,len(arr)-1):\n",
    "        a=[arr[i]]+arr[j:j+2]\n",
    "        c=a[0]+a[1]+a[2]\n",
    "        if c==sum1:\n",
    "            print(arr[i],arr[j],arr[j+1])\n",
    "            \n",
    "\n",
    "            \n",
    "200. Number of Islands\n",
    "class Solution:\n",
    "    def numIslands(self, grid: List[List[str]]) -> int:\n",
    "        if not grid or not grid[0]:\n",
    "            return 0\n",
    "\n",
    "        def dfs(i, j):\n",
    "            if i < 0 or i >= len(grid) or j < 0 or j >= len(grid[i]) or grid[i][j] == '0':\n",
    "                return\n",
    "\n",
    "            grid[i][j] = '0' \n",
    "            \n",
    "            dfs(i + 1, j)\n",
    "            dfs(i - 1, j)\n",
    "            dfs(i, j + 1)\n",
    "            dfs(i, j - 1)\n",
    "\n",
    "        island_count = 0\n",
    "\n",
    "        for i in range(len(grid)):\n",
    "            for j in range(len(grid[i])):\n",
    "                if grid[i][j] == '1':\n",
    "                    island_count += 1\n",
    "                    dfs(i, j)\n",
    "\n",
    "        return island_count\n",
    "\n",
    "     \n",
    "            \n",
    "# 463   Island Perimeter\n",
    "class Solution:\n",
    "    def islandPerimeter(self, grid: List[List[int]]) -> int:\n",
    "        count=0\n",
    "        def Adjacentsides(i,j):\n",
    "            pick=0\n",
    "            cells=[(i,j-1),(i,j+1),(i-1,j),(i+1,j)]\n",
    "            for x,y in cells:\n",
    "                if (x<0 or y<0 or x==len(grid) or y==len(grid[0]) or grid[x][y]==0):\n",
    "                    pick+=1\n",
    "            return pick\n",
    "        for i in range(len(grid)):\n",
    "            for j in range(len(grid[0])):\n",
    "                if (grid[i][j]==1):\n",
    "                    count+=Adjacentsides(i,j)\n",
    "        return count"
   ]
  },
  {
   "cell_type": "code",
   "execution_count": 2,
   "id": "8a70b7e9",
   "metadata": {},
   "outputs": [
    {
     "data": {
      "text/plain": [
       "51"
      ]
     },
     "execution_count": 2,
     "metadata": {},
     "output_type": "execute_result"
    }
   ],
   "source": [
    "#7. Reverse Integer\n",
    "class Solution:\n",
    "    def reverse(self, x: int) -> int:\n",
    "        Max= 2**31 - 1\n",
    "        Min = -2**31\n",
    "        sign= 1 if x >= 0 else -1\n",
    "        x = abs(x)\n",
    "        result=0\n",
    "        while x!=0:\n",
    "            digit=x%10\n",
    "            x=x//10\n",
    "            if result > (Max - digit) // 10:\n",
    "                return 0\n",
    "            result=result*10 +digit\n",
    "            \n",
    "        return result*sign\n",
    "obj=Solution()\n",
    "obj.reverse(15)"
   ]
  },
  {
   "cell_type": "code",
   "execution_count": 12,
   "id": "8497bf1b",
   "metadata": {},
   "outputs": [
    {
     "data": {
      "text/plain": [
       "[1, 2, 2, 4, 4]"
      ]
     },
     "execution_count": 12,
     "metadata": {},
     "output_type": "execute_result"
    }
   ],
   "source": [
    "# 88. Merge Sorted Array  \n",
    "from typing import List\n",
    "class Solution:\n",
    "    def merge(self, nums1: List[int], m: int, nums2: List[int], n: int) -> None:\n",
    "        c=0\n",
    "        for i in range(m,m+n):\n",
    "            nums1[i]=nums2[c]\n",
    "            c+=1\n",
    "        nums1.sort()\n",
    "        return nums1\n",
    "obj=Solution()\n",
    "obj.merge([1,2,4,5,6],3,[2,4,67,8],2)"
   ]
  },
  {
   "cell_type": "code",
   "execution_count": 17,
   "id": "e2fc51bc",
   "metadata": {},
   "outputs": [
    {
     "data": {
      "text/plain": [
       "<__main__.ListNode at 0x2de072fa250>"
      ]
     },
     "execution_count": 17,
     "metadata": {},
     "output_type": "execute_result"
    }
   ],
   "source": [
    "#83.Remove Duplicates from Sorted List   \n",
    "from typing import Optional\n",
    "class ListNode:\n",
    "    def __init__(self, val=0, next=None):\n",
    "        self.val = val\n",
    "        self.next = next\n",
    "class Solution:\n",
    "    def deleteDuplicates(self, head: Optional[ListNode]) -> Optional[ListNode]:\n",
    "        curr = head\n",
    "\n",
    "        while curr and curr.next:\n",
    "            if curr.val == curr.next.val:\n",
    "                curr.next = curr.next.next\n",
    "            else:\n",
    "                curr = curr.next\n",
    "\n",
    "        return head\n",
    "head = ListNode(1, ListNode(1, ListNode(2, ListNode(3, ListNode(3)))))\n",
    "obj=Solution()\n",
    "obj.deleteDuplicates(head)"
   ]
  },
  {
   "cell_type": "code",
   "execution_count": 12,
   "id": "ece0b1ee",
   "metadata": {},
   "outputs": [
    {
     "name": "stdout",
     "output_type": "stream",
     "text": [
      "5\n"
     ]
    }
   ],
   "source": [
    "def floorSqrt(x):\n",
    "    if x == 0 or x == 1:\n",
    "        return x\n",
    "\n",
    "    left, right = 1, x\n",
    "\n",
    "    while left <= right:\n",
    "        mid = (left + right) // 2\n",
    "        mid_sq = mid * mid\n",
    "\n",
    "        if mid_sq == x:\n",
    "            return mid\n",
    "        elif mid_sq < x:\n",
    "            left = mid + 1\n",
    "        else:\n",
    "            right = mid - 1\n",
    "\n",
    "    return right \n",
    "number = 26\n",
    "result = floorSqrt(number)\n",
    "print(result)"
   ]
  },
  {
   "cell_type": "code",
   "execution_count": 26,
   "id": "e7175cf1",
   "metadata": {},
   "outputs": [
    {
     "data": {
      "text/plain": [
       "2.23606797749979"
      ]
     },
     "execution_count": 26,
     "metadata": {},
     "output_type": "execute_result"
    }
   ],
   "source": [
    "a=5**0.5\n",
    "a"
   ]
  },
  {
   "cell_type": "code",
   "execution_count": 28,
   "id": "3f1ab16a",
   "metadata": {},
   "outputs": [
    {
     "data": {
      "text/plain": [
       "0.0"
      ]
     },
     "execution_count": 28,
     "metadata": {},
     "output_type": "execute_result"
    }
   ],
   "source": [
    "a//10"
   ]
  },
  {
   "cell_type": "code",
   "execution_count": 29,
   "id": "c20b5260",
   "metadata": {},
   "outputs": [
    {
     "data": {
      "text/plain": [
       "2"
      ]
     },
     "execution_count": 29,
     "metadata": {},
     "output_type": "execute_result"
    }
   ],
   "source": [
    "5//2"
   ]
  },
  {
   "cell_type": "code",
   "execution_count": 40,
   "id": "0f00581a",
   "metadata": {},
   "outputs": [
    {
     "name": "stdout",
     "output_type": "stream",
     "text": [
      "4\n"
     ]
    }
   ],
   "source": [
    "def sqrRoot(num):\n",
    "    x = num\n",
    "\n",
    "    while x * x > num:\n",
    "        x = (x + num // x) // 2\n",
    "\n",
    "    while (x + 1) * (x + 1) <= num:\n",
    "        x += 1\n",
    "\n",
    "    return x\n",
    "\n",
    "\n",
    "num = 24\n",
    "result = sqrRoot(num)\n",
    "print(result)\n"
   ]
  },
  {
   "cell_type": "code",
   "execution_count": null,
   "id": "ec2198b7",
   "metadata": {},
   "outputs": [],
   "source": []
  },
  {
   "cell_type": "code",
   "execution_count": 2,
   "id": "e1e7a043",
   "metadata": {},
   "outputs": [
    {
     "name": "stdout",
     "output_type": "stream",
     "text": [
      "['1']\n",
      "['1', '2']\n",
      "['1', '2', '5']\n",
      "['1', '3']\n",
      "['1->2->5', '1->3']\n",
      "['1']\n"
     ]
    }
   ],
   "source": [
    "class TreeNode:\n",
    "    def __init__(self, val=0, left=None, right=None):\n",
    "        self.val = val\n",
    "        self.left = left\n",
    "        self.right = right\n",
    "\n",
    "def binary_tree_paths(root):\n",
    "    def dfs(node, current_path, result):\n",
    "        if not node:\n",
    "            return\n",
    "        \n",
    "        current_path.append(str(node.val))\n",
    "        print(current_path)\n",
    "\n",
    "        if not node.left and not node.right:  # Leaf node\n",
    "            result.append(\"->\".join(current_path))\n",
    "\n",
    "        dfs(node.left, current_path, result)\n",
    "        dfs(node.right, current_path, result)\n",
    "\n",
    "        current_path.pop()  # Backtrack\n",
    "\n",
    "    result = []\n",
    "    dfs(root, [], result)\n",
    "    return result\n",
    "\n",
    "# Example usage\n",
    "root1 = TreeNode(1)\n",
    "root1.left = TreeNode(2)\n",
    "root1.right = TreeNode(3)\n",
    "root1.right.left = None  # Assuming null is represented as None in Python\n",
    "root1.left.right = TreeNode(5)\n",
    "\n",
    "output1 = binary_tree_paths(root1)\n",
    "print(output1)  # Output: [\"1->2->5\", \"1->3\"]\n",
    "\n",
    "root2 = TreeNode(1)\n",
    "output2 = binary_tree_paths(root2)\n",
    "\n"
   ]
  },
  {
   "cell_type": "code",
   "execution_count": null,
   "id": "0a3210a5",
   "metadata": {},
   "outputs": [],
   "source": []
  }
 ],
 "metadata": {
  "kernelspec": {
   "display_name": "Python 3 (ipykernel)",
   "language": "python",
   "name": "python3"
  },
  "language_info": {
   "codemirror_mode": {
    "name": "ipython",
    "version": 3
   },
   "file_extension": ".py",
   "mimetype": "text/x-python",
   "name": "python",
   "nbconvert_exporter": "python",
   "pygments_lexer": "ipython3",
   "version": "3.9.12"
  }
 },
 "nbformat": 4,
 "nbformat_minor": 5
}
