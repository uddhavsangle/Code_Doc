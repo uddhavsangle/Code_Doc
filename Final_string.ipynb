{
 "cells": [
  {
   "cell_type": "markdown",
   "id": "349a26d9",
   "metadata": {},
   "source": [
    "#  *------------------------- *     STRING    *------------------------- *"
   ]
  },
  {
   "cell_type": "markdown",
   "id": "c402f6b4",
   "metadata": {},
   "source": [
    "It is collection of character arranged in some meaningfull order"
   ]
  },
  {
   "cell_type": "markdown",
   "id": "6d0d209a",
   "metadata": {},
   "source": [
    "It is immutable data structure"
   ]
  },
  {
   "cell_type": "markdown",
   "id": "d9f45e22",
   "metadata": {},
   "source": [
    "it is ordered type"
   ]
  },
  {
   "cell_type": "markdown",
   "id": "55a64f88",
   "metadata": {},
   "source": [
    "string is case sensitive(upper case or lower case)"
   ]
  },
  {
   "cell_type": "code",
   "execution_count": 11,
   "id": "c7e49c91",
   "metadata": {},
   "outputs": [],
   "source": [
    "a='Raj'     # indexing  # slicing\n",
    "   012\n",
    " -3-2-1"
   ]
  },
  {
   "cell_type": "code",
   "execution_count": 12,
   "id": "750e98c2",
   "metadata": {},
   "outputs": [
    {
     "name": "stdout",
     "output_type": "stream",
     "text": [
      "400\n"
     ]
    }
   ],
   "source": [
    "a=input()     ----string"
   ]
  },
  {
   "cell_type": "code",
   "execution_count": 13,
   "id": "d5a634be",
   "metadata": {},
   "outputs": [
    {
     "data": {
      "text/plain": [
       "str"
      ]
     },
     "execution_count": 13,
     "metadata": {},
     "output_type": "execute_result"
    }
   ],
   "source": [
    "type(a)"
   ]
  },
  {
   "cell_type": "code",
   "execution_count": 14,
   "id": "98342f17",
   "metadata": {},
   "outputs": [],
   "source": [
    "b=400"
   ]
  },
  {
   "cell_type": "code",
   "execution_count": 15,
   "id": "c6ea69bf",
   "metadata": {},
   "outputs": [
    {
     "data": {
      "text/plain": [
       "int"
      ]
     },
     "execution_count": 15,
     "metadata": {},
     "output_type": "execute_result"
    }
   ],
   "source": [
    "type(b)"
   ]
  },
  {
   "cell_type": "code",
   "execution_count": 31,
   "id": "ebd7f451",
   "metadata": {},
   "outputs": [
    {
     "name": "stdout",
     "output_type": "stream",
     "text": [
      "400\n"
     ]
    }
   ],
   "source": [
    "c=int(input())"
   ]
  },
  {
   "cell_type": "code",
   "execution_count": 17,
   "id": "116b5089",
   "metadata": {},
   "outputs": [
    {
     "data": {
      "text/plain": [
       "int"
      ]
     },
     "execution_count": 17,
     "metadata": {},
     "output_type": "execute_result"
    }
   ],
   "source": [
    "type(c)"
   ]
  },
  {
   "cell_type": "code",
   "execution_count": null,
   "id": "35595bea",
   "metadata": {},
   "outputs": [],
   "source": [
    "# upper()  , lower()  , capitalize()"
   ]
  },
  {
   "cell_type": "code",
   "execution_count": 18,
   "id": "586b5865",
   "metadata": {},
   "outputs": [],
   "source": [
    "a='ram'"
   ]
  },
  {
   "cell_type": "code",
   "execution_count": 19,
   "id": "d18fe1b0",
   "metadata": {},
   "outputs": [
    {
     "data": {
      "text/plain": [
       "'RAM'"
      ]
     },
     "execution_count": 19,
     "metadata": {},
     "output_type": "execute_result"
    }
   ],
   "source": [
    "a.upper()"
   ]
  },
  {
   "cell_type": "code",
   "execution_count": 20,
   "id": "5b27dab3",
   "metadata": {},
   "outputs": [
    {
     "data": {
      "text/plain": [
       "'ram'"
      ]
     },
     "execution_count": 20,
     "metadata": {},
     "output_type": "execute_result"
    }
   ],
   "source": [
    "a.lower()"
   ]
  },
  {
   "cell_type": "code",
   "execution_count": 21,
   "id": "81818328",
   "metadata": {},
   "outputs": [
    {
     "data": {
      "text/plain": [
       "'Ram'"
      ]
     },
     "execution_count": 21,
     "metadata": {},
     "output_type": "execute_result"
    }
   ],
   "source": [
    "a.capitalize()"
   ]
  },
  {
   "cell_type": "code",
   "execution_count": null,
   "id": "bc5f8908",
   "metadata": {},
   "outputs": [],
   "source": [
    "# startswith() , endswith()"
   ]
  },
  {
   "cell_type": "code",
   "execution_count": 23,
   "id": "bccf2dc9",
   "metadata": {},
   "outputs": [],
   "source": [
    "a=['ram','sham','shiv','rock','ajay','ravi']"
   ]
  },
  {
   "cell_type": "code",
   "execution_count": 25,
   "id": "cc37b0ba",
   "metadata": {},
   "outputs": [
    {
     "name": "stdout",
     "output_type": "stream",
     "text": [
      "ram\n",
      "rock\n",
      "ravi\n"
     ]
    }
   ],
   "source": [
    "for i in a:\n",
    "    if i.startswith('r'):\n",
    "        print(i)"
   ]
  },
  {
   "cell_type": "code",
   "execution_count": 26,
   "id": "9d01c263",
   "metadata": {},
   "outputs": [
    {
     "name": "stdout",
     "output_type": "stream",
     "text": [
      "ram\n",
      "sham\n"
     ]
    }
   ],
   "source": [
    "for i in a:\n",
    "    if i.endswith('m'):\n",
    "        print(i)"
   ]
  },
  {
   "cell_type": "code",
   "execution_count": 33,
   "id": "6df18b67",
   "metadata": {},
   "outputs": [],
   "source": [
    "c='ram'"
   ]
  },
  {
   "cell_type": "code",
   "execution_count": 35,
   "id": "3882c389",
   "metadata": {},
   "outputs": [
    {
     "data": {
      "text/plain": [
       "False"
      ]
     },
     "execution_count": 35,
     "metadata": {},
     "output_type": "execute_result"
    }
   ],
   "source": [
    "c.startswith('d')"
   ]
  },
  {
   "cell_type": "code",
   "execution_count": null,
   "id": "0e2c27d0",
   "metadata": {},
   "outputs": [],
   "source": [
    "# split"
   ]
  },
  {
   "cell_type": "code",
   "execution_count": 36,
   "id": "afe14ef8",
   "metadata": {},
   "outputs": [],
   "source": [
    "p='14 April 2001'"
   ]
  },
  {
   "cell_type": "code",
   "execution_count": 39,
   "id": "f7dd5a1c",
   "metadata": {},
   "outputs": [
    {
     "data": {
      "text/plain": [
       "'14'"
      ]
     },
     "execution_count": 39,
     "metadata": {},
     "output_type": "execute_result"
    }
   ],
   "source": [
    "p.split(' ')[0]"
   ]
  },
  {
   "cell_type": "code",
   "execution_count": 40,
   "id": "f0fd541d",
   "metadata": {},
   "outputs": [],
   "source": [
    "q='14#April#2001'"
   ]
  },
  {
   "cell_type": "code",
   "execution_count": 42,
   "id": "b546e794",
   "metadata": {},
   "outputs": [
    {
     "data": {
      "text/plain": [
       "'April'"
      ]
     },
     "execution_count": 42,
     "metadata": {},
     "output_type": "execute_result"
    }
   ],
   "source": [
    "q.split('#')[1]"
   ]
  },
  {
   "cell_type": "code",
   "execution_count": null,
   "id": "68e45042",
   "metadata": {},
   "outputs": [],
   "source": [
    "#                          Strip()"
   ]
  },
  {
   "cell_type": "code",
   "execution_count": null,
   "id": "51d08032",
   "metadata": {},
   "outputs": [],
   "source": [
    "#  1. Strip --- remove space from both side"
   ]
  },
  {
   "cell_type": "code",
   "execution_count": 43,
   "id": "5cee0879",
   "metadata": {},
   "outputs": [],
   "source": [
    "a='   Raj   '"
   ]
  },
  {
   "cell_type": "code",
   "execution_count": 44,
   "id": "a52270b4",
   "metadata": {},
   "outputs": [
    {
     "data": {
      "text/plain": [
       "'Raj'"
      ]
     },
     "execution_count": 44,
     "metadata": {},
     "output_type": "execute_result"
    }
   ],
   "source": [
    "a.strip()"
   ]
  },
  {
   "cell_type": "code",
   "execution_count": null,
   "id": "044a3900",
   "metadata": {},
   "outputs": [],
   "source": []
  },
  {
   "cell_type": "code",
   "execution_count": null,
   "id": "65ecce3d",
   "metadata": {},
   "outputs": [],
   "source": [
    "#  2. lstrip -- remove space from left side"
   ]
  },
  {
   "cell_type": "code",
   "execution_count": null,
   "id": "81505b44",
   "metadata": {},
   "outputs": [],
   "source": [
    "a='   Raj   '"
   ]
  },
  {
   "cell_type": "code",
   "execution_count": 45,
   "id": "5b27c009",
   "metadata": {},
   "outputs": [
    {
     "data": {
      "text/plain": [
       "'Raj   '"
      ]
     },
     "execution_count": 45,
     "metadata": {},
     "output_type": "execute_result"
    }
   ],
   "source": [
    "a.lstrip()"
   ]
  },
  {
   "cell_type": "code",
   "execution_count": null,
   "id": "68be3e26",
   "metadata": {},
   "outputs": [],
   "source": []
  },
  {
   "cell_type": "code",
   "execution_count": null,
   "id": "83750e5a",
   "metadata": {},
   "outputs": [],
   "source": []
  },
  {
   "cell_type": "code",
   "execution_count": null,
   "id": "14374749",
   "metadata": {},
   "outputs": [],
   "source": [
    "#  3. rstrip -- remove space from right side"
   ]
  },
  {
   "cell_type": "code",
   "execution_count": null,
   "id": "0051f9b9",
   "metadata": {},
   "outputs": [],
   "source": [
    "a='   Raj   '"
   ]
  },
  {
   "cell_type": "code",
   "execution_count": 46,
   "id": "906c30a6",
   "metadata": {},
   "outputs": [
    {
     "data": {
      "text/plain": [
       "'   Raj'"
      ]
     },
     "execution_count": 46,
     "metadata": {},
     "output_type": "execute_result"
    }
   ],
   "source": [
    "a.rstrip()"
   ]
  },
  {
   "cell_type": "code",
   "execution_count": null,
   "id": "d0d5088d",
   "metadata": {},
   "outputs": [],
   "source": [
    "#  What is difference between index() and find()"
   ]
  },
  {
   "cell_type": "code",
   "execution_count": 47,
   "id": "840ca42f",
   "metadata": {},
   "outputs": [],
   "source": [
    "a='Raj'"
   ]
  },
  {
   "cell_type": "code",
   "execution_count": 48,
   "id": "48e6394c",
   "metadata": {},
   "outputs": [
    {
     "data": {
      "text/plain": [
       "0"
      ]
     },
     "execution_count": 48,
     "metadata": {},
     "output_type": "execute_result"
    }
   ],
   "source": [
    "a.index('R')"
   ]
  },
  {
   "cell_type": "code",
   "execution_count": 49,
   "id": "2b692965",
   "metadata": {},
   "outputs": [
    {
     "ename": "ValueError",
     "evalue": "substring not found",
     "output_type": "error",
     "traceback": [
      "\u001b[1;31m---------------------------------------------------------------------------\u001b[0m",
      "\u001b[1;31mValueError\u001b[0m                                Traceback (most recent call last)",
      "Cell \u001b[1;32mIn [49], line 1\u001b[0m\n\u001b[1;32m----> 1\u001b[0m \u001b[43ma\u001b[49m\u001b[38;5;241;43m.\u001b[39;49m\u001b[43mindex\u001b[49m\u001b[43m(\u001b[49m\u001b[38;5;124;43m'\u001b[39;49m\u001b[38;5;124;43mb\u001b[39;49m\u001b[38;5;124;43m'\u001b[39;49m\u001b[43m)\u001b[49m\n",
      "\u001b[1;31mValueError\u001b[0m: substring not found"
     ]
    }
   ],
   "source": [
    "a.index('b')"
   ]
  },
  {
   "cell_type": "code",
   "execution_count": null,
   "id": "09639b9e",
   "metadata": {},
   "outputs": [],
   "source": [
    "#  find"
   ]
  },
  {
   "cell_type": "code",
   "execution_count": 52,
   "id": "a198e1f4",
   "metadata": {},
   "outputs": [
    {
     "data": {
      "text/plain": [
       "2"
      ]
     },
     "execution_count": 52,
     "metadata": {},
     "output_type": "execute_result"
    }
   ],
   "source": [
    "a.find('j')"
   ]
  },
  {
   "cell_type": "code",
   "execution_count": 53,
   "id": "7778b24d",
   "metadata": {},
   "outputs": [
    {
     "data": {
      "text/plain": [
       "-1"
      ]
     },
     "execution_count": 53,
     "metadata": {},
     "output_type": "execute_result"
    }
   ],
   "source": [
    "a.find('b')    #     -1"
   ]
  },
  {
   "cell_type": "code",
   "execution_count": null,
   "id": "873719ea",
   "metadata": {},
   "outputs": [],
   "source": [
    "#                                                   Replace()"
   ]
  },
  {
   "cell_type": "code",
   "execution_count": 63,
   "id": "c455b29d",
   "metadata": {},
   "outputs": [],
   "source": [
    "a='Raj'    "
   ]
  },
  {
   "cell_type": "code",
   "execution_count": 66,
   "id": "38659c81",
   "metadata": {},
   "outputs": [],
   "source": [
    "a=a.replace('R','M')    #-----"
   ]
  },
  {
   "cell_type": "code",
   "execution_count": 67,
   "id": "9f204cd9",
   "metadata": {},
   "outputs": [
    {
     "data": {
      "text/plain": [
       "'Maj'"
      ]
     },
     "execution_count": 67,
     "metadata": {},
     "output_type": "execute_result"
    }
   ],
   "source": [
    "a"
   ]
  },
  {
   "cell_type": "code",
   "execution_count": 68,
   "id": "2fc94417",
   "metadata": {},
   "outputs": [],
   "source": [
    "a='Raj'  # ----alpha\n",
    "b='9960'   #numeric\n",
    "c='Raj9960'   #  alpha-numeric  ---alnum"
   ]
  },
  {
   "cell_type": "code",
   "execution_count": 70,
   "id": "7b07ad5e",
   "metadata": {},
   "outputs": [
    {
     "data": {
      "text/plain": [
       "True"
      ]
     },
     "execution_count": 70,
     "metadata": {},
     "output_type": "execute_result"
    }
   ],
   "source": [
    "a.isalpha()"
   ]
  },
  {
   "cell_type": "code",
   "execution_count": 73,
   "id": "ca37a2e3",
   "metadata": {},
   "outputs": [
    {
     "data": {
      "text/plain": [
       "True"
      ]
     },
     "execution_count": 73,
     "metadata": {},
     "output_type": "execute_result"
    }
   ],
   "source": [
    "b.isnumeric()"
   ]
  },
  {
   "cell_type": "code",
   "execution_count": 75,
   "id": "69779a28",
   "metadata": {},
   "outputs": [
    {
     "data": {
      "text/plain": [
       "True"
      ]
     },
     "execution_count": 75,
     "metadata": {},
     "output_type": "execute_result"
    }
   ],
   "source": [
    "c.isalnum()"
   ]
  },
  {
   "cell_type": "code",
   "execution_count": 76,
   "id": "edf27a9b",
   "metadata": {},
   "outputs": [],
   "source": [
    "d=['Raj','9960','Raj9960']\n"
   ]
  },
  {
   "cell_type": "code",
   "execution_count": 77,
   "id": "cf281e55",
   "metadata": {},
   "outputs": [
    {
     "name": "stdout",
     "output_type": "stream",
     "text": [
      "Raj\n"
     ]
    }
   ],
   "source": [
    "for i in d:\n",
    "    if i.isalpha():\n",
    "        print(i)"
   ]
  },
  {
   "cell_type": "code",
   "execution_count": 78,
   "id": "f37c62b2",
   "metadata": {},
   "outputs": [
    {
     "name": "stdout",
     "output_type": "stream",
     "text": [
      "9960\n"
     ]
    }
   ],
   "source": [
    "for i in d:\n",
    "    if i.isnumeric():\n",
    "        print(i)"
   ]
  },
  {
   "cell_type": "code",
   "execution_count": 79,
   "id": "a83c8446",
   "metadata": {},
   "outputs": [
    {
     "name": "stdout",
     "output_type": "stream",
     "text": [
      "Raj\n",
      "9960\n",
      "Raj9960\n"
     ]
    }
   ],
   "source": [
    "for i in d:\n",
    "    if i.isalnum():\n",
    "        print(i)"
   ]
  },
  {
   "cell_type": "code",
   "execution_count": 80,
   "id": "6f6a7e99",
   "metadata": {},
   "outputs": [
    {
     "name": "stdout",
     "output_type": "stream",
     "text": [
      "9960\n"
     ]
    }
   ],
   "source": [
    "for i in d:\n",
    "    if i.isnumeric():\n",
    "        print(i)"
   ]
  },
  {
   "cell_type": "code",
   "execution_count": 83,
   "id": "d89bbad6",
   "metadata": {},
   "outputs": [
    {
     "name": "stdout",
     "output_type": "stream",
     "text": [
      " 9960 is numerical value\n"
     ]
    }
   ],
   "source": [
    "for i in d:\n",
    "    if i.isnumeric():\n",
    "        print(' {} is numerical value'.format(i))   # .format"
   ]
  },
  {
   "cell_type": "code",
   "execution_count": 84,
   "id": "5fef78e0",
   "metadata": {},
   "outputs": [
    {
     "name": "stdout",
     "output_type": "stream",
     "text": [
      " 9960 is numerical value\n"
     ]
    }
   ],
   "source": [
    "for i in d:\n",
    "    if i.isnumeric():\n",
    "        print(f' {i} is numerical value')       # f format"
   ]
  },
  {
   "cell_type": "code",
   "execution_count": 85,
   "id": "4ec3ce6b",
   "metadata": {},
   "outputs": [],
   "source": [
    "a='RajMohan'     # slicing"
   ]
  },
  {
   "cell_type": "code",
   "execution_count": 88,
   "id": "88d8f475",
   "metadata": {},
   "outputs": [
    {
     "data": {
      "text/plain": [
       "'Raj'"
      ]
     },
     "execution_count": 88,
     "metadata": {},
     "output_type": "execute_result"
    }
   ],
   "source": [
    "a[0:3]"
   ]
  },
  {
   "cell_type": "code",
   "execution_count": 89,
   "id": "ca01bc32",
   "metadata": {},
   "outputs": [
    {
     "name": "stdout",
     "output_type": "stream",
     "text": [
      "r\n",
      "s\n",
      "r\n"
     ]
    }
   ],
   "source": [
    "b=['raj','shiv','rock']\n",
    "for i in b:\n",
    "    print(i[0:1])"
   ]
  },
  {
   "cell_type": "code",
   "execution_count": 90,
   "id": "1fed86d3",
   "metadata": {},
   "outputs": [],
   "source": [
    "c='raj'   # jar"
   ]
  },
  {
   "cell_type": "code",
   "execution_count": 91,
   "id": "8b51f230",
   "metadata": {},
   "outputs": [
    {
     "data": {
      "text/plain": [
       "'jar'"
      ]
     },
     "execution_count": 91,
     "metadata": {},
     "output_type": "execute_result"
    }
   ],
   "source": [
    "c[::-1]"
   ]
  },
  {
   "cell_type": "code",
   "execution_count": null,
   "id": "22d6e054",
   "metadata": {},
   "outputs": [],
   "source": []
  },
  {
   "cell_type": "code",
   "execution_count": null,
   "id": "19ab8a87",
   "metadata": {},
   "outputs": [],
   "source": []
  },
  {
   "cell_type": "code",
   "execution_count": null,
   "id": "47646efa",
   "metadata": {},
   "outputs": [],
   "source": []
  },
  {
   "cell_type": "code",
   "execution_count": null,
   "id": "da8b205e",
   "metadata": {},
   "outputs": [],
   "source": []
  },
  {
   "cell_type": "code",
   "execution_count": null,
   "id": "210579b3",
   "metadata": {},
   "outputs": [],
   "source": []
  },
  {
   "cell_type": "code",
   "execution_count": null,
   "id": "8a5b8803",
   "metadata": {},
   "outputs": [],
   "source": []
  },
  {
   "cell_type": "code",
   "execution_count": null,
   "id": "3e9424a7",
   "metadata": {},
   "outputs": [],
   "source": []
  },
  {
   "cell_type": "code",
   "execution_count": null,
   "id": "eb8586db",
   "metadata": {},
   "outputs": [],
   "source": []
  },
  {
   "cell_type": "code",
   "execution_count": null,
   "id": "97b0025a",
   "metadata": {},
   "outputs": [],
   "source": []
  },
  {
   "cell_type": "code",
   "execution_count": null,
   "id": "10ce6f73",
   "metadata": {},
   "outputs": [],
   "source": []
  },
  {
   "cell_type": "code",
   "execution_count": null,
   "id": "3df3defa",
   "metadata": {},
   "outputs": [],
   "source": []
  },
  {
   "cell_type": "code",
   "execution_count": null,
   "id": "05c9ead2",
   "metadata": {},
   "outputs": [],
   "source": []
  },
  {
   "cell_type": "code",
   "execution_count": null,
   "id": "42b3678c",
   "metadata": {},
   "outputs": [],
   "source": []
  },
  {
   "cell_type": "code",
   "execution_count": null,
   "id": "535676b8",
   "metadata": {},
   "outputs": [],
   "source": []
  },
  {
   "cell_type": "code",
   "execution_count": null,
   "id": "8642b6e6",
   "metadata": {},
   "outputs": [],
   "source": []
  },
  {
   "cell_type": "code",
   "execution_count": null,
   "id": "d4249788",
   "metadata": {},
   "outputs": [],
   "source": []
  },
  {
   "cell_type": "code",
   "execution_count": null,
   "id": "0b39d325",
   "metadata": {},
   "outputs": [],
   "source": []
  },
  {
   "cell_type": "code",
   "execution_count": null,
   "id": "08cbc336",
   "metadata": {},
   "outputs": [],
   "source": []
  },
  {
   "cell_type": "code",
   "execution_count": null,
   "id": "2782f23f",
   "metadata": {},
   "outputs": [],
   "source": []
  },
  {
   "cell_type": "code",
   "execution_count": null,
   "id": "65c3353d",
   "metadata": {},
   "outputs": [],
   "source": []
  },
  {
   "cell_type": "code",
   "execution_count": null,
   "id": "3d4b3461",
   "metadata": {},
   "outputs": [],
   "source": []
  },
  {
   "cell_type": "code",
   "execution_count": null,
   "id": "5f863e6d",
   "metadata": {},
   "outputs": [],
   "source": []
  },
  {
   "cell_type": "code",
   "execution_count": null,
   "id": "e30f4fbe",
   "metadata": {},
   "outputs": [],
   "source": []
  },
  {
   "cell_type": "code",
   "execution_count": null,
   "id": "a6396dc1",
   "metadata": {},
   "outputs": [],
   "source": []
  },
  {
   "cell_type": "code",
   "execution_count": null,
   "id": "ac51b0e8",
   "metadata": {},
   "outputs": [],
   "source": []
  },
  {
   "cell_type": "code",
   "execution_count": null,
   "id": "84250a91",
   "metadata": {},
   "outputs": [],
   "source": []
  },
  {
   "cell_type": "code",
   "execution_count": 2,
   "id": "efbf3382",
   "metadata": {},
   "outputs": [],
   "source": [
    "a='khjghfgf'"
   ]
  },
  {
   "cell_type": "code",
   "execution_count": 3,
   "id": "2c8597b5",
   "metadata": {},
   "outputs": [
    {
     "data": {
      "text/plain": [
       "'h'"
      ]
     },
     "execution_count": 3,
     "metadata": {},
     "output_type": "execute_result"
    }
   ],
   "source": [
    "a[1]   #----> aquare brackets used to access"
   ]
  },
  {
   "cell_type": "markdown",
   "id": "a5091979",
   "metadata": {},
   "source": [
    "Find                |    index\n",
    "--------------------------------------------\n",
    "if value not       |   if value not  \n",
    "available then     | available then \n",
    "return -1          | return error"
   ]
  },
  {
   "cell_type": "code",
   "execution_count": 4,
   "id": "db562961",
   "metadata": {},
   "outputs": [
    {
     "data": {
      "text/plain": [
       "1"
      ]
     },
     "execution_count": 4,
     "metadata": {},
     "output_type": "execute_result"
    }
   ],
   "source": [
    "a.find('h')  # return index of char"
   ]
  },
  {
   "cell_type": "code",
   "execution_count": 5,
   "id": "bf8bad89",
   "metadata": {},
   "outputs": [
    {
     "data": {
      "text/plain": [
       "-1"
      ]
     },
     "execution_count": 5,
     "metadata": {},
     "output_type": "execute_result"
    }
   ],
   "source": [
    "a.find('p')   # return -1 because not persent in string"
   ]
  },
  {
   "cell_type": "code",
   "execution_count": 6,
   "id": "412324fc",
   "metadata": {},
   "outputs": [
    {
     "data": {
      "text/plain": [
       "1"
      ]
     },
     "execution_count": 6,
     "metadata": {},
     "output_type": "execute_result"
    }
   ],
   "source": [
    "a.index('h')    # return index of char"
   ]
  },
  {
   "cell_type": "code",
   "execution_count": 7,
   "id": "852859d0",
   "metadata": {},
   "outputs": [
    {
     "ename": "ValueError",
     "evalue": "substring not found",
     "output_type": "error",
     "traceback": [
      "\u001b[1;31m---------------------------------------------------------------------------\u001b[0m",
      "\u001b[1;31mValueError\u001b[0m                                Traceback (most recent call last)",
      "Cell \u001b[1;32mIn [7], line 1\u001b[0m\n\u001b[1;32m----> 1\u001b[0m \u001b[43ma\u001b[49m\u001b[38;5;241;43m.\u001b[39;49m\u001b[43mindex\u001b[49m\u001b[43m(\u001b[49m\u001b[38;5;124;43m'\u001b[39;49m\u001b[38;5;124;43mp\u001b[39;49m\u001b[38;5;124;43m'\u001b[39;49m\u001b[43m)\u001b[49m\n",
      "\u001b[1;31mValueError\u001b[0m: substring not found"
     ]
    }
   ],
   "source": [
    "a.index('p')   # return error because not persent in string"
   ]
  },
  {
   "cell_type": "markdown",
   "id": "33a35d0f",
   "metadata": {},
   "source": [
    "ASCII --American  Standard Code for  Information Interchange -- it is character encoding standard for  electronic communication"
   ]
  },
  {
   "cell_type": "markdown",
   "id": "449ed314",
   "metadata": {},
   "source": [
    "For ASCII code we have functions   1. ord()   2. chr()\n",
    "\n",
    "make_translation- For mapping of table\n",
    "\n",
    "Translation-returns translated string."
   ]
  },
  {
   "cell_type": "code",
   "execution_count": 8,
   "id": "5d9d1728",
   "metadata": {},
   "outputs": [],
   "source": [
    "############################"
   ]
  },
  {
   "cell_type": "markdown",
   "id": "f221c9ce",
   "metadata": {},
   "source": [
    "# *____________________Methods in string ____________________*"
   ]
  },
  {
   "cell_type": "code",
   "execution_count": 1,
   "id": "592fddb4",
   "metadata": {},
   "outputs": [
    {
     "name": "stdout",
     "output_type": "stream",
     "text": [
      "55\n"
     ]
    }
   ],
   "source": [
    "x=input()"
   ]
  },
  {
   "cell_type": "code",
   "execution_count": 2,
   "id": "8dd906f3",
   "metadata": {},
   "outputs": [
    {
     "data": {
      "text/plain": [
       "'55'"
      ]
     },
     "execution_count": 2,
     "metadata": {},
     "output_type": "execute_result"
    }
   ],
   "source": [
    "x  # default in string\n"
   ]
  },
  {
   "cell_type": "code",
   "execution_count": 3,
   "id": "4b732f42",
   "metadata": {},
   "outputs": [
    {
     "name": "stdout",
     "output_type": "stream",
     "text": [
      "enter second no::66\n"
     ]
    }
   ],
   "source": [
    "y=input(\"enter second no::\")"
   ]
  },
  {
   "cell_type": "markdown",
   "id": "32d059c2",
   "metadata": {},
   "source": [
    "# *_______________ upper() or lower()    case , capitalize() ____________________*"
   ]
  },
  {
   "cell_type": "code",
   "execution_count": 12,
   "id": "23d426c2",
   "metadata": {},
   "outputs": [],
   "source": [
    "b='gHHgfd'"
   ]
  },
  {
   "cell_type": "code",
   "execution_count": 13,
   "id": "de5a152e",
   "metadata": {},
   "outputs": [
    {
     "data": {
      "text/plain": [
       "'gHHgfd'"
      ]
     },
     "execution_count": 13,
     "metadata": {},
     "output_type": "execute_result"
    }
   ],
   "source": [
    "b"
   ]
  },
  {
   "cell_type": "code",
   "execution_count": 14,
   "id": "4059d050",
   "metadata": {},
   "outputs": [
    {
     "data": {
      "text/plain": [
       "'GHHGFD'"
      ]
     },
     "execution_count": 14,
     "metadata": {},
     "output_type": "execute_result"
    }
   ],
   "source": [
    "b.upper()"
   ]
  },
  {
   "cell_type": "code",
   "execution_count": 15,
   "id": "9a116da9",
   "metadata": {},
   "outputs": [
    {
     "data": {
      "text/plain": [
       "'ghhgfd'"
      ]
     },
     "execution_count": 15,
     "metadata": {},
     "output_type": "execute_result"
    }
   ],
   "source": [
    "b.lower()"
   ]
  },
  {
   "cell_type": "code",
   "execution_count": 16,
   "id": "4be56223",
   "metadata": {},
   "outputs": [
    {
     "data": {
      "text/plain": [
       "'Ghhgfd'"
      ]
     },
     "execution_count": 16,
     "metadata": {},
     "output_type": "execute_result"
    }
   ],
   "source": [
    "b.capitalize()  # for first char in upper case"
   ]
  },
  {
   "cell_type": "code",
   "execution_count": 17,
   "id": "e2e2d557",
   "metadata": {},
   "outputs": [],
   "source": [
    "############"
   ]
  },
  {
   "cell_type": "code",
   "execution_count": 18,
   "id": "04826194",
   "metadata": {},
   "outputs": [],
   "source": [
    "p=[1,2,3]"
   ]
  },
  {
   "cell_type": "code",
   "execution_count": 19,
   "id": "b9958613",
   "metadata": {},
   "outputs": [
    {
     "data": {
      "text/plain": [
       "[1, 2, 3, 1, 2, 3]"
      ]
     },
     "execution_count": 19,
     "metadata": {},
     "output_type": "execute_result"
    }
   ],
   "source": [
    "p*2"
   ]
  },
  {
   "cell_type": "code",
   "execution_count": 20,
   "id": "72160ab4",
   "metadata": {},
   "outputs": [],
   "source": [
    "p=(7,4,5)"
   ]
  },
  {
   "cell_type": "code",
   "execution_count": 21,
   "id": "b09bf49a",
   "metadata": {},
   "outputs": [
    {
     "data": {
      "text/plain": [
       "(7, 4, 5, 7, 4, 5)"
      ]
     },
     "execution_count": 21,
     "metadata": {},
     "output_type": "execute_result"
    }
   ],
   "source": [
    "p*2"
   ]
  },
  {
   "cell_type": "code",
   "execution_count": 22,
   "id": "11d1a136",
   "metadata": {},
   "outputs": [],
   "source": [
    "#############\n"
   ]
  },
  {
   "cell_type": "markdown",
   "id": "2b8b7172",
   "metadata": {},
   "source": [
    "##    _________________      count()      _________________*"
   ]
  },
  {
   "cell_type": "markdown",
   "id": "da5fd8ae",
   "metadata": {},
   "source": [
    "it is use a char or word how many time in that string"
   ]
  },
  {
   "cell_type": "code",
   "execution_count": 24,
   "id": "41edd1c7",
   "metadata": {},
   "outputs": [
    {
     "data": {
      "text/plain": [
       "'gHHgfd'"
      ]
     },
     "execution_count": 24,
     "metadata": {},
     "output_type": "execute_result"
    }
   ],
   "source": [
    "b"
   ]
  },
  {
   "cell_type": "code",
   "execution_count": 25,
   "id": "a9eee0ee",
   "metadata": {},
   "outputs": [
    {
     "data": {
      "text/plain": [
       "2"
      ]
     },
     "execution_count": 25,
     "metadata": {},
     "output_type": "execute_result"
    }
   ],
   "source": [
    "b.count('H')"
   ]
  },
  {
   "cell_type": "markdown",
   "id": "c11da98a",
   "metadata": {},
   "source": [
    "# ___________len()___________"
   ]
  },
  {
   "cell_type": "markdown",
   "id": "a5463c51",
   "metadata": {},
   "source": [
    "we will get length of that string ------->in which count space "
   ]
  },
  {
   "cell_type": "code",
   "execution_count": 26,
   "id": "705be5bf",
   "metadata": {},
   "outputs": [
    {
     "data": {
      "text/plain": [
       "'gHHgfd'"
      ]
     },
     "execution_count": 26,
     "metadata": {},
     "output_type": "execute_result"
    }
   ],
   "source": [
    "b"
   ]
  },
  {
   "cell_type": "code",
   "execution_count": 27,
   "id": "648e34f9",
   "metadata": {},
   "outputs": [
    {
     "data": {
      "text/plain": [
       "6"
      ]
     },
     "execution_count": 27,
     "metadata": {},
     "output_type": "execute_result"
    }
   ],
   "source": [
    "len(b)"
   ]
  },
  {
   "cell_type": "markdown",
   "id": "30f94d46",
   "metadata": {},
   "source": [
    "# startswith()  and Endswith()"
   ]
  },
  {
   "cell_type": "code",
   "execution_count": 10,
   "id": "90215e70",
   "metadata": {},
   "outputs": [
    {
     "name": "stdout",
     "output_type": "stream",
     "text": [
      "enter validation containt::.com\n",
      "from endswith\n"
     ]
    }
   ],
   "source": [
    "a=input('enter validation containt::')\n",
    "if a.startswith('m') and a.endswith('.com'):\n",
    "        print('both condition satisfied')\n",
    "elif a.startswith('m'):\n",
    "    print('from startswith')\n",
    "\n",
    "elif a.endswith('.com'):\n",
    "    print('from endswith')\n",
    "\n",
    "else:\n",
    "    print('try again')\n",
    "    "
   ]
  },
  {
   "cell_type": "code",
   "execution_count": null,
   "id": "54218d91",
   "metadata": {},
   "outputs": [],
   "source": []
  },
  {
   "cell_type": "markdown",
   "id": "b396cd45",
   "metadata": {},
   "source": [
    "# split()"
   ]
  },
  {
   "cell_type": "code",
   "execution_count": 11,
   "id": "d54d66d6",
   "metadata": {},
   "outputs": [],
   "source": [
    "p='mohan@gmail.com'"
   ]
  },
  {
   "cell_type": "code",
   "execution_count": 15,
   "id": "6a36f5d3",
   "metadata": {},
   "outputs": [
    {
     "data": {
      "text/plain": [
       "'mohan'"
      ]
     },
     "execution_count": 15,
     "metadata": {},
     "output_type": "execute_result"
    }
   ],
   "source": [
    "p.split('@')[0]"
   ]
  },
  {
   "cell_type": "code",
   "execution_count": 17,
   "id": "1e7088b5",
   "metadata": {},
   "outputs": [],
   "source": [
    "q= '14 april 1995'"
   ]
  },
  {
   "cell_type": "code",
   "execution_count": 18,
   "id": "6eed9288",
   "metadata": {},
   "outputs": [
    {
     "data": {
      "text/plain": [
       "'14 april 1995'"
      ]
     },
     "execution_count": 18,
     "metadata": {},
     "output_type": "execute_result"
    }
   ],
   "source": [
    "q"
   ]
  },
  {
   "cell_type": "code",
   "execution_count": 19,
   "id": "36182e13",
   "metadata": {},
   "outputs": [
    {
     "data": {
      "text/plain": [
       "'14'"
      ]
     },
     "execution_count": 19,
     "metadata": {},
     "output_type": "execute_result"
    }
   ],
   "source": [
    "q.split(' ')[0]"
   ]
  },
  {
   "cell_type": "code",
   "execution_count": 20,
   "id": "3b2c1f4e",
   "metadata": {},
   "outputs": [],
   "source": [
    "###############"
   ]
  },
  {
   "cell_type": "markdown",
   "id": "c4a0598d",
   "metadata": {},
   "source": [
    "# packing and unpacking"
   ]
  },
  {
   "cell_type": "code",
   "execution_count": null,
   "id": "ab596188",
   "metadata": {},
   "outputs": [],
   "source": [
    "# unpacking"
   ]
  },
  {
   "cell_type": "code",
   "execution_count": 21,
   "id": "8cc907bb",
   "metadata": {},
   "outputs": [],
   "source": [
    "p=10,20,30,60,12"
   ]
  },
  {
   "cell_type": "code",
   "execution_count": 22,
   "id": "44a23d11",
   "metadata": {},
   "outputs": [],
   "source": [
    "x,y,z,q,r=p   "
   ]
  },
  {
   "cell_type": "code",
   "execution_count": 23,
   "id": "64c14ae7",
   "metadata": {},
   "outputs": [
    {
     "data": {
      "text/plain": [
       "10"
      ]
     },
     "execution_count": 23,
     "metadata": {},
     "output_type": "execute_result"
    }
   ],
   "source": [
    "x"
   ]
  },
  {
   "cell_type": "code",
   "execution_count": 24,
   "id": "f205876a",
   "metadata": {},
   "outputs": [],
   "source": [
    "# packing"
   ]
  },
  {
   "cell_type": "code",
   "execution_count": 25,
   "id": "d56758c7",
   "metadata": {},
   "outputs": [],
   "source": [
    "a=1"
   ]
  },
  {
   "cell_type": "code",
   "execution_count": 26,
   "id": "436c5b84",
   "metadata": {},
   "outputs": [],
   "source": [
    "b=2"
   ]
  },
  {
   "cell_type": "code",
   "execution_count": 27,
   "id": "000d0c86",
   "metadata": {},
   "outputs": [],
   "source": [
    "c=3"
   ]
  },
  {
   "cell_type": "code",
   "execution_count": 28,
   "id": "215947e1",
   "metadata": {},
   "outputs": [],
   "source": [
    "p=a,b,c"
   ]
  },
  {
   "cell_type": "code",
   "execution_count": 29,
   "id": "74a3574b",
   "metadata": {},
   "outputs": [
    {
     "data": {
      "text/plain": [
       "(1, 2, 3)"
      ]
     },
     "execution_count": 29,
     "metadata": {},
     "output_type": "execute_result"
    }
   ],
   "source": [
    "p"
   ]
  },
  {
   "cell_type": "markdown",
   "id": "b3688430",
   "metadata": {},
   "source": [
    "# strip   "
   ]
  },
  {
   "cell_type": "markdown",
   "id": "186a6928",
   "metadata": {},
   "source": [
    "1. strip() - remove space from both side\n",
    "2. rstrip() --- remove space from right side     \n",
    "3. lstrip()  ----remove space from left side "
   ]
  },
  {
   "cell_type": "code",
   "execution_count": 30,
   "id": "98133797",
   "metadata": {},
   "outputs": [],
   "source": [
    "p=' hhhh  '"
   ]
  },
  {
   "cell_type": "code",
   "execution_count": 31,
   "id": "d9b71bbf",
   "metadata": {},
   "outputs": [
    {
     "data": {
      "text/plain": [
       "'hhhh'"
      ]
     },
     "execution_count": 31,
     "metadata": {},
     "output_type": "execute_result"
    }
   ],
   "source": [
    "p.strip()"
   ]
  },
  {
   "cell_type": "code",
   "execution_count": 34,
   "id": "9e52e75a",
   "metadata": {},
   "outputs": [
    {
     "data": {
      "text/plain": [
       "' hhhh'"
      ]
     },
     "execution_count": 34,
     "metadata": {},
     "output_type": "execute_result"
    }
   ],
   "source": [
    "p.rstrip()"
   ]
  },
  {
   "cell_type": "code",
   "execution_count": 35,
   "id": "64d7bbbc",
   "metadata": {},
   "outputs": [
    {
     "data": {
      "text/plain": [
       "'hhhh  '"
      ]
     },
     "execution_count": 35,
     "metadata": {},
     "output_type": "execute_result"
    }
   ],
   "source": [
    "p.lstrip()"
   ]
  },
  {
   "cell_type": "markdown",
   "id": "ee6dadb5",
   "metadata": {},
   "source": [
    "# Replace(modify)"
   ]
  },
  {
   "cell_type": "code",
   "execution_count": 36,
   "id": "1ce4aa3b",
   "metadata": {},
   "outputs": [],
   "source": [
    "a='python'"
   ]
  },
  {
   "cell_type": "code",
   "execution_count": 39,
   "id": "c183a0e7",
   "metadata": {},
   "outputs": [],
   "source": [
    "b=a.replace('py','man')"
   ]
  },
  {
   "cell_type": "code",
   "execution_count": 40,
   "id": "3f2dde85",
   "metadata": {},
   "outputs": [
    {
     "data": {
      "text/plain": [
       "'manthon'"
      ]
     },
     "execution_count": 40,
     "metadata": {},
     "output_type": "execute_result"
    }
   ],
   "source": [
    "b"
   ]
  },
  {
   "cell_type": "markdown",
   "id": "209be5f8",
   "metadata": {},
   "source": [
    "# Find()"
   ]
  },
  {
   "cell_type": "markdown",
   "id": "e80f89f2",
   "metadata": {},
   "source": [
    "we will get index of perticular char"
   ]
  },
  {
   "cell_type": "code",
   "execution_count": 42,
   "id": "94f50f56",
   "metadata": {},
   "outputs": [
    {
     "data": {
      "text/plain": [
       "'python'"
      ]
     },
     "execution_count": 42,
     "metadata": {},
     "output_type": "execute_result"
    }
   ],
   "source": [
    "a"
   ]
  },
  {
   "cell_type": "code",
   "execution_count": 43,
   "id": "5a8c46f9",
   "metadata": {},
   "outputs": [
    {
     "data": {
      "text/plain": [
       "0"
      ]
     },
     "execution_count": 43,
     "metadata": {},
     "output_type": "execute_result"
    }
   ],
   "source": [
    "a.find('p')"
   ]
  },
  {
   "cell_type": "code",
   "execution_count": 47,
   "id": "8b2d2313",
   "metadata": {},
   "outputs": [
    {
     "name": "stdout",
     "output_type": "stream",
     "text": [
      "Enter string::gg\n",
      "str is invalid\n"
     ]
    }
   ],
   "source": [
    "a=\"python is very usefull\"\n",
    "x=input('Enter string::')\n",
    "if a.find(x)==-1:\n",
    "    print('str is invalid')\n",
    "else:\n",
    "    print('str is valid')"
   ]
  },
  {
   "cell_type": "markdown",
   "id": "e2281c40",
   "metadata": {},
   "source": [
    "If in which character matching then we will  get out put as valid"
   ]
  },
  {
   "cell_type": "markdown",
   "id": "28594c87",
   "metadata": {},
   "source": [
    "# f  ------ format"
   ]
  },
  {
   "cell_type": "code",
   "execution_count": 48,
   "id": "26faefad",
   "metadata": {},
   "outputs": [
    {
     "name": "stdout",
     "output_type": "stream",
     "text": [
      "Enter string::p\n",
      "p:: is valid\n"
     ]
    }
   ],
   "source": [
    "a=\"python is very usefull\"\n",
    "x=input('Enter string::')\n",
    "if a.find(x)==-1:\n",
    "    print(f\"{x}:: is invalid\")\n",
    "else:\n",
    "    print(f\"{x}:: is valid\")"
   ]
  },
  {
   "cell_type": "markdown",
   "id": "4f3087d0",
   "metadata": {},
   "source": [
    "# .format"
   ]
  },
  {
   "cell_type": "code",
   "execution_count": 1,
   "id": "d858884c",
   "metadata": {},
   "outputs": [
    {
     "name": "stdout",
     "output_type": "stream",
     "text": [
      "Enter string::p\n",
      "p:: is valid\n"
     ]
    }
   ],
   "source": [
    "a=\"python is very usefull\"\n",
    "x=input('Enter string::')\n",
    "if a.find(x)==-1:\n",
    "    print(\"{}:: is invalid\".format(x))\n",
    "else:\n",
    "    print(\"{}:: is valid\".format(x))"
   ]
  },
  {
   "cell_type": "markdown",
   "id": "1bdf9fea",
   "metadata": {},
   "source": [
    "# alpha , numeric  alpha-numeric"
   ]
  },
  {
   "cell_type": "code",
   "execution_count": 2,
   "id": "f5354219",
   "metadata": {},
   "outputs": [],
   "source": [
    "a='kjkhgfd'"
   ]
  },
  {
   "cell_type": "code",
   "execution_count": 3,
   "id": "44f68e32",
   "metadata": {},
   "outputs": [
    {
     "data": {
      "text/plain": [
       "True"
      ]
     },
     "execution_count": 3,
     "metadata": {},
     "output_type": "execute_result"
    }
   ],
   "source": [
    "a.isalpha()"
   ]
  },
  {
   "cell_type": "code",
   "execution_count": 4,
   "id": "04e96429",
   "metadata": {},
   "outputs": [],
   "source": [
    "b='9876543'"
   ]
  },
  {
   "cell_type": "code",
   "execution_count": 6,
   "id": "62d61bc9",
   "metadata": {},
   "outputs": [
    {
     "data": {
      "text/plain": [
       "True"
      ]
     },
     "execution_count": 6,
     "metadata": {},
     "output_type": "execute_result"
    }
   ],
   "source": [
    "b.isnumeric()"
   ]
  },
  {
   "cell_type": "code",
   "execution_count": 7,
   "id": "0d1d8560",
   "metadata": {},
   "outputs": [],
   "source": [
    "c='nbg88765'"
   ]
  },
  {
   "cell_type": "code",
   "execution_count": 8,
   "id": "e5cca8f2",
   "metadata": {},
   "outputs": [
    {
     "data": {
      "text/plain": [
       "True"
      ]
     },
     "execution_count": 8,
     "metadata": {},
     "output_type": "execute_result"
    }
   ],
   "source": [
    "c.isalnum()"
   ]
  },
  {
   "cell_type": "code",
   "execution_count": 9,
   "id": "7880f3ad",
   "metadata": {},
   "outputs": [],
   "source": [
    "#######################"
   ]
  },
  {
   "cell_type": "code",
   "execution_count": 10,
   "id": "4bc979b9",
   "metadata": {},
   "outputs": [],
   "source": [
    "p='jhgfd76564'"
   ]
  },
  {
   "cell_type": "code",
   "execution_count": 11,
   "id": "b2c96ee0",
   "metadata": {},
   "outputs": [
    {
     "name": "stdout",
     "output_type": "stream",
     "text": [
      "len of numerical:: 5\n",
      "len of alpha:: 5\n"
     ]
    }
   ],
   "source": [
    "n=[]\n",
    "c=[]\n",
    "for i in p:\n",
    "    if i.isnumeric():\n",
    "        n.append(i)\n",
    "    else:\n",
    "        c.append(i)\n",
    "print('len of numerical::',len(n))\n",
    "print('len of alpha::',len(c))"
   ]
  },
  {
   "cell_type": "code",
   "execution_count": null,
   "id": "a8a8483c",
   "metadata": {},
   "outputs": [],
   "source": []
  },
  {
   "cell_type": "code",
   "execution_count": null,
   "id": "a314ce2b",
   "metadata": {},
   "outputs": [],
   "source": []
  },
  {
   "cell_type": "code",
   "execution_count": null,
   "id": "c4732a84",
   "metadata": {},
   "outputs": [],
   "source": [
    "#                                 * STRING  *\n",
    "#                                 ----------"
   ]
  },
  {
   "cell_type": "code",
   "execution_count": null,
   "id": "ea98ba0d",
   "metadata": {},
   "outputs": [],
   "source": []
  },
  {
   "cell_type": "code",
   "execution_count": null,
   "id": "8a1db9a3",
   "metadata": {},
   "outputs": [],
   "source": []
  },
  {
   "cell_type": "code",
   "execution_count": null,
   "id": "e79e21c9",
   "metadata": {},
   "outputs": [],
   "source": []
  },
  {
   "cell_type": "code",
   "execution_count": null,
   "id": "48342939",
   "metadata": {},
   "outputs": [],
   "source": []
  },
  {
   "cell_type": "code",
   "execution_count": 1,
   "id": "34568435",
   "metadata": {},
   "outputs": [
    {
     "name": "stdout",
     "output_type": "stream",
     "text": [
      "Current file name: ipykernel_launcher.py\n"
     ]
    }
   ],
   "source": [
    "import sys\n",
    "import os\n",
    "\n",
    "# Getting the file name of the script\n",
    "current_file_name = os.path.basename(sys.argv[0])\n",
    "print(\"Current file name:\", current_file_name)"
   ]
  },
  {
   "cell_type": "code",
   "execution_count": 2,
   "id": "65b00f55",
   "metadata": {},
   "outputs": [
    {
     "ename": "NameError",
     "evalue": "name '__file__' is not defined",
     "output_type": "error",
     "traceback": [
      "\u001b[1;31m---------------------------------------------------------------------------\u001b[0m",
      "\u001b[1;31mNameError\u001b[0m                                 Traceback (most recent call last)",
      "Cell \u001b[1;32mIn [2], line 5\u001b[0m\n\u001b[0;32m      2\u001b[0m \u001b[38;5;28;01mimport\u001b[39;00m \u001b[38;5;21;01mos\u001b[39;00m\n\u001b[0;32m      4\u001b[0m \u001b[38;5;66;03m# Get the base file name (without path and extension)\u001b[39;00m\n\u001b[1;32m----> 5\u001b[0m base_file_name \u001b[38;5;241m=\u001b[39m os\u001b[38;5;241m.\u001b[39mpath\u001b[38;5;241m.\u001b[39msplitext(os\u001b[38;5;241m.\u001b[39mpath\u001b[38;5;241m.\u001b[39mbasename(\u001b[38;5;18;43m__file__\u001b[39;49m))[\u001b[38;5;241m0\u001b[39m]\n\u001b[0;32m      7\u001b[0m \u001b[38;5;66;03m# Set the default logging configuration with time format, base file name, and filename\u001b[39;00m\n\u001b[0;32m      8\u001b[0m logging\u001b[38;5;241m.\u001b[39mbasicConfig(\n\u001b[0;32m      9\u001b[0m     level\u001b[38;5;241m=\u001b[39mlogging\u001b[38;5;241m.\u001b[39mDEBUG,\n\u001b[0;32m     10\u001b[0m     \u001b[38;5;28mformat\u001b[39m\u001b[38;5;241m=\u001b[39m\u001b[38;5;124m'\u001b[39m\u001b[38;5;132;01m%(asctime)s\u001b[39;00m\u001b[38;5;124m - \u001b[39m\u001b[38;5;132;01m%(module)s\u001b[39;00m\u001b[38;5;124m - \u001b[39m\u001b[38;5;132;01m%(filename)s\u001b[39;00m\u001b[38;5;124m - \u001b[39m\u001b[38;5;132;01m%(levelname)s\u001b[39;00m\u001b[38;5;124m - \u001b[39m\u001b[38;5;132;01m%(message)s\u001b[39;00m\u001b[38;5;124m'\u001b[39m,\n\u001b[0;32m     11\u001b[0m     datefmt\u001b[38;5;241m=\u001b[39m\u001b[38;5;124m'\u001b[39m\u001b[38;5;124m%\u001b[39m\u001b[38;5;124mY-\u001b[39m\u001b[38;5;124m%\u001b[39m\u001b[38;5;124mm-\u001b[39m\u001b[38;5;132;01m%d\u001b[39;00m\u001b[38;5;124m \u001b[39m\u001b[38;5;124m%\u001b[39m\u001b[38;5;124mH:\u001b[39m\u001b[38;5;124m%\u001b[39m\u001b[38;5;124mM:\u001b[39m\u001b[38;5;124m%\u001b[39m\u001b[38;5;124mS\u001b[39m\u001b[38;5;124m'\u001b[39m\n\u001b[0;32m     12\u001b[0m )\n",
      "\u001b[1;31mNameError\u001b[0m: name '__file__' is not defined"
     ]
    }
   ],
   "source": [
    "import logging\n",
    "import os\n",
    "\n",
    "# Get the base file name (without path and extension)\n",
    "base_file_name = os.path.splitext(os.path.basename(__file__))[0]\n",
    "\n",
    "# Set the default logging configuration with time format, base file name, and filename\n",
    "logging.basicConfig(\n",
    "    level=logging.DEBUG,\n",
    "    format='%(asctime)s - %(module)s - %(filename)s - %(levelname)s - %(message)s',\n",
    "    datefmt='%Y-%m-%d %H:%M:%S'\n",
    ")\n",
    "\n",
    "# Log some messages\n",
    "logging.debug('Debug message')\n",
    "logging.info('Info message')\n",
    "logging.warning('Warning message')\n",
    "logging.error('Error message')\n",
    "logging.critical('Critical message')\n"
   ]
  },
  {
   "cell_type": "code",
   "execution_count": null,
   "id": "91031509",
   "metadata": {},
   "outputs": [],
   "source": [
    "# Pangram\n",
    "\n",
    "import string\n",
    "def is_pangram(sentence):\n",
    "    return all(letter in sentence.lower() for letter in string.ascii_lowercase)\n",
    "input_sentence = \"The quick brown fox jumps over the lazy dog\"\n",
    "if is_pangram(input_sentence):\n",
    "    print(f\"'{input_sentence}' is a pangram!\")\n",
    "else:\n",
    "    print(f\"'{input_sentence}' is not a pangram.\")\n"
   ]
  },
  {
   "cell_type": "code",
   "execution_count": null,
   "id": "c51f3b53",
   "metadata": {},
   "outputs": [],
   "source": [
    "# anagrams\n",
    "def are_anagrams(str1, str2):\n",
    "    return sorted(str1.lower().replace(\" \", \"\")) == sorted(str2.lower().replace(\" \", \"\"))\n",
    "string1 = \"Listen\"\n",
    "string2 = \"Silent\"\n",
    "if are_anagrams(string1, string2):\n",
    "    print(f\"'{string1}' and '{string2}' are anagrams!\")\n",
    "else:\n",
    "    print(f\"'{string1}' and '{string2}' are not anagrams.\")\n"
   ]
  },
  {
   "cell_type": "code",
   "execution_count": null,
   "id": "1f5517b5",
   "metadata": {},
   "outputs": [],
   "source": [
    "def reverse_string(s):\n",
    "    return s[::-1]\n",
    "input_string = \"Hello, World!\"\n",
    "reversed_string = reverse_string(input_string)\n",
    "print(\"Reversed:\", reversed_string)\n"
   ]
  },
  {
   "cell_type": "code",
   "execution_count": null,
   "id": "1d6389cb",
   "metadata": {},
   "outputs": [],
   "source": [
    "def reverse_string(s):\n",
    "    return ''.join(reversed(s))\n",
    "input_string = \"Hello, World!\"\n",
    "reversed_string = reverse_string(input_string)\n",
    "print(\"Reversed:\", reversed_string)\n"
   ]
  },
  {
   "cell_type": "code",
   "execution_count": null,
   "id": "0dc37441",
   "metadata": {},
   "outputs": [],
   "source": [
    "def reverse_string(s):\n",
    "    reversed_str = ''\n",
    "    for char in s:\n",
    "        reversed_str = char + reversed_str\n",
    "    return reversed_str\n",
    "input_string = \"Hello, World!\"\n",
    "reversed_string = reverse_string(input_string)\n",
    "print(\"Reversed:\", reversed_string)\n"
   ]
  },
  {
   "cell_type": "code",
   "execution_count": 3,
   "id": "cc4e2ebe",
   "metadata": {},
   "outputs": [
    {
     "name": "stdout",
     "output_type": "stream",
     "text": [
      "Fibonacci series up to 10 terms: [0, 1, 1, 2, 3, 5, 8, 13, 21, 34]\n"
     ]
    }
   ],
   "source": [
    "def fibonacci(n):\n",
    "    fib_series = [0, 1] if n > 1 else [0] if n == 1 else []\n",
    "    while len(fib_series) < n:\n",
    "        fib_series.append(fib_series[-1] + fib_series[-2])\n",
    "    return fib_series\n",
    "n_terms = 10\n",
    "fib_series = fibonacci(n_terms)\n",
    "print(f\"Fibonacci series up to {n_terms} terms:\", fib_series)"
   ]
  },
  {
   "cell_type": "code",
   "execution_count": 4,
   "id": "908bb26f",
   "metadata": {},
   "outputs": [
    {
     "name": "stdout",
     "output_type": "stream",
     "text": [
      "Fibonacci series up to 10 terms: [0, 1, 1, 2, 3, 5, 8, 13, 21, 34]\n"
     ]
    }
   ],
   "source": [
    "def fibonacci(n):\n",
    "    fib_series = [0, 1][:n] if n > 0 else []\n",
    "    while len(fib_series) < n:\n",
    "        fib_series.append(sum(fib_series[-2:]))\n",
    "    return fib_series\n",
    "\n",
    "# Generate and print the Fibonacci series up to 10 terms\n",
    "n_terms = 10\n",
    "fib_series = fibonacci(n_terms)\n",
    "print(f\"Fibonacci series up to {n_terms} terms:\", fib_series)\n"
   ]
  },
  {
   "cell_type": "code",
   "execution_count": 5,
   "id": "2a4b818c",
   "metadata": {},
   "outputs": [
    {
     "name": "stdout",
     "output_type": "stream",
     "text": [
      "* \r\n",
      "* * \r\n",
      "* * * \r\n",
      "* * * * \r\n",
      "* * * * * \r\n"
     ]
    }
   ],
   "source": [
    "def myfunc(n):\n",
    "    for i in range(0, n):\n",
    "        for j in range(0, i+1):\n",
    "            print(\"* \",end=\"\")\n",
    "        print(\"\\r\")\n",
    "n = 5\n",
    "myfunc(n)"
   ]
  },
  {
   "cell_type": "code",
   "execution_count": 6,
   "id": "ede5d3c8",
   "metadata": {},
   "outputs": [
    {
     "name": "stdout",
     "output_type": "stream",
     "text": [
      "Requirement already satisfied: gTTS in c:\\users\\admin\\miniconda3\\lib\\site-packages (2.3.2)Note: you may need to restart the kernel to use updated packages.\n",
      "\n",
      "Requirement already satisfied: pydub in c:\\users\\admin\\miniconda3\\lib\\site-packages (0.25.1)\n",
      "Requirement already satisfied: numpy in c:\\users\\admin\\miniconda3\\lib\\site-packages (1.23.5)\n",
      "Requirement already satisfied: requests<3,>=2.27 in c:\\users\\admin\\miniconda3\\lib\\site-packages (from gTTS) (2.27.1)\n",
      "Requirement already satisfied: click<8.2,>=7.1 in c:\\users\\admin\\miniconda3\\lib\\site-packages (from gTTS) (8.1.3)\n",
      "Requirement already satisfied: colorama in c:\\users\\admin\\miniconda3\\lib\\site-packages (from click<8.2,>=7.1->gTTS) (0.4.4)\n",
      "Requirement already satisfied: urllib3<1.27,>=1.21.1 in c:\\users\\admin\\miniconda3\\lib\\site-packages (from requests<3,>=2.27->gTTS) (1.26.8)\n",
      "Requirement already satisfied: certifi>=2017.4.17 in c:\\users\\admin\\miniconda3\\lib\\site-packages (from requests<3,>=2.27->gTTS) (2022.9.24)\n",
      "Requirement already satisfied: charset-normalizer~=2.0.0 in c:\\users\\admin\\miniconda3\\lib\\site-packages (from requests<3,>=2.27->gTTS) (2.0.4)\n",
      "Requirement already satisfied: idna<4,>=2.5 in c:\\users\\admin\\miniconda3\\lib\\site-packages (from requests<3,>=2.27->gTTS) (3.3)\n"
     ]
    },
    {
     "name": "stderr",
     "output_type": "stream",
     "text": [
      "\n",
      "[notice] A new release of pip is available: 23.2.1 -> 23.3.1\n",
      "[notice] To update, run: python.exe -m pip install --upgrade pip\n"
     ]
    }
   ],
   "source": [
    "pip install gTTS pydub numpy\n"
   ]
  },
  {
   "cell_type": "code",
   "execution_count": 10,
   "id": "e1e35dfc",
   "metadata": {},
   "outputs": [
    {
     "name": "stderr",
     "output_type": "stream",
     "text": [
      "C:\\Users\\admin\\miniconda3\\lib\\site-packages\\pydub\\utils.py:198: RuntimeWarning: Couldn't find ffprobe or avprobe - defaulting to ffprobe, but may not work\n",
      "  warn(\"Couldn't find ffprobe or avprobe - defaulting to ffprobe, but may not work\", RuntimeWarning)\n"
     ]
    },
    {
     "ename": "FileNotFoundError",
     "evalue": "[WinError 2] The system cannot find the file specified",
     "output_type": "error",
     "traceback": [
      "\u001b[1;31m---------------------------------------------------------------------------\u001b[0m",
      "\u001b[1;31mFileNotFoundError\u001b[0m                         Traceback (most recent call last)",
      "Cell \u001b[1;32mIn [10], line 21\u001b[0m\n\u001b[0;32m     18\u001b[0m tts\u001b[38;5;241m.\u001b[39msave(\u001b[38;5;124m\"\u001b[39m\u001b[38;5;124mmarathi_audio4.mp3\u001b[39m\u001b[38;5;124m\"\u001b[39m)\n\u001b[0;32m     20\u001b[0m \u001b[38;5;66;03m# Load the generated audio using pydub\u001b[39;00m\n\u001b[1;32m---> 21\u001b[0m audio \u001b[38;5;241m=\u001b[39m \u001b[43mAudioSegment\u001b[49m\u001b[38;5;241;43m.\u001b[39;49m\u001b[43mfrom_mp3\u001b[49m\u001b[43m(\u001b[49m\u001b[38;5;124;43m\"\u001b[39;49m\u001b[38;5;124;43mmarathi_audio4.mp3\u001b[39;49m\u001b[38;5;124;43m\"\u001b[39;49m\u001b[43m)\u001b[49m\n\u001b[0;32m     23\u001b[0m \u001b[38;5;66;03m# Change pitch to simulate singing (modify semitone_steps as needed)\u001b[39;00m\n\u001b[0;32m     24\u001b[0m semitone_steps \u001b[38;5;241m=\u001b[39m \u001b[38;5;241m3\u001b[39m  \u001b[38;5;66;03m# Change this value to modify the pitch\u001b[39;00m\n",
      "File \u001b[1;32m~\\miniconda3\\lib\\site-packages\\pydub\\audio_segment.py:796\u001b[0m, in \u001b[0;36mAudioSegment.from_mp3\u001b[1;34m(cls, file, parameters)\u001b[0m\n\u001b[0;32m    794\u001b[0m \u001b[38;5;129m@classmethod\u001b[39m\n\u001b[0;32m    795\u001b[0m \u001b[38;5;28;01mdef\u001b[39;00m \u001b[38;5;21mfrom_mp3\u001b[39m(\u001b[38;5;28mcls\u001b[39m, file, parameters\u001b[38;5;241m=\u001b[39m\u001b[38;5;28;01mNone\u001b[39;00m):\n\u001b[1;32m--> 796\u001b[0m     \u001b[38;5;28;01mreturn\u001b[39;00m \u001b[38;5;28;43mcls\u001b[39;49m\u001b[38;5;241;43m.\u001b[39;49m\u001b[43mfrom_file\u001b[49m\u001b[43m(\u001b[49m\u001b[43mfile\u001b[49m\u001b[43m,\u001b[49m\u001b[43m \u001b[49m\u001b[38;5;124;43m'\u001b[39;49m\u001b[38;5;124;43mmp3\u001b[39;49m\u001b[38;5;124;43m'\u001b[39;49m\u001b[43m,\u001b[49m\u001b[43m \u001b[49m\u001b[43mparameters\u001b[49m\u001b[38;5;241;43m=\u001b[39;49m\u001b[43mparameters\u001b[49m\u001b[43m)\u001b[49m\n",
      "File \u001b[1;32m~\\miniconda3\\lib\\site-packages\\pydub\\audio_segment.py:728\u001b[0m, in \u001b[0;36mAudioSegment.from_file\u001b[1;34m(cls, file, format, codec, parameters, start_second, duration, **kwargs)\u001b[0m\n\u001b[0;32m    726\u001b[0m     info \u001b[38;5;241m=\u001b[39m \u001b[38;5;28;01mNone\u001b[39;00m\n\u001b[0;32m    727\u001b[0m \u001b[38;5;28;01melse\u001b[39;00m:\n\u001b[1;32m--> 728\u001b[0m     info \u001b[38;5;241m=\u001b[39m \u001b[43mmediainfo_json\u001b[49m\u001b[43m(\u001b[49m\u001b[43morig_file\u001b[49m\u001b[43m,\u001b[49m\u001b[43m \u001b[49m\u001b[43mread_ahead_limit\u001b[49m\u001b[38;5;241;43m=\u001b[39;49m\u001b[43mread_ahead_limit\u001b[49m\u001b[43m)\u001b[49m\n\u001b[0;32m    729\u001b[0m \u001b[38;5;28;01mif\u001b[39;00m info:\n\u001b[0;32m    730\u001b[0m     audio_streams \u001b[38;5;241m=\u001b[39m [x \u001b[38;5;28;01mfor\u001b[39;00m x \u001b[38;5;129;01min\u001b[39;00m info[\u001b[38;5;124m'\u001b[39m\u001b[38;5;124mstreams\u001b[39m\u001b[38;5;124m'\u001b[39m]\n\u001b[0;32m    731\u001b[0m                      \u001b[38;5;28;01mif\u001b[39;00m x[\u001b[38;5;124m'\u001b[39m\u001b[38;5;124mcodec_type\u001b[39m\u001b[38;5;124m'\u001b[39m] \u001b[38;5;241m==\u001b[39m \u001b[38;5;124m'\u001b[39m\u001b[38;5;124maudio\u001b[39m\u001b[38;5;124m'\u001b[39m]\n",
      "File \u001b[1;32m~\\miniconda3\\lib\\site-packages\\pydub\\utils.py:274\u001b[0m, in \u001b[0;36mmediainfo_json\u001b[1;34m(filepath, read_ahead_limit)\u001b[0m\n\u001b[0;32m    271\u001b[0m         file\u001b[38;5;241m.\u001b[39mclose()\n\u001b[0;32m    273\u001b[0m command \u001b[38;5;241m=\u001b[39m [prober, \u001b[38;5;124m'\u001b[39m\u001b[38;5;124m-of\u001b[39m\u001b[38;5;124m'\u001b[39m, \u001b[38;5;124m'\u001b[39m\u001b[38;5;124mjson\u001b[39m\u001b[38;5;124m'\u001b[39m] \u001b[38;5;241m+\u001b[39m command_args\n\u001b[1;32m--> 274\u001b[0m res \u001b[38;5;241m=\u001b[39m \u001b[43mPopen\u001b[49m\u001b[43m(\u001b[49m\u001b[43mcommand\u001b[49m\u001b[43m,\u001b[49m\u001b[43m \u001b[49m\u001b[43mstdin\u001b[49m\u001b[38;5;241;43m=\u001b[39;49m\u001b[43mstdin_parameter\u001b[49m\u001b[43m,\u001b[49m\u001b[43m \u001b[49m\u001b[43mstdout\u001b[49m\u001b[38;5;241;43m=\u001b[39;49m\u001b[43mPIPE\u001b[49m\u001b[43m,\u001b[49m\u001b[43m \u001b[49m\u001b[43mstderr\u001b[49m\u001b[38;5;241;43m=\u001b[39;49m\u001b[43mPIPE\u001b[49m\u001b[43m)\u001b[49m\n\u001b[0;32m    275\u001b[0m output, stderr \u001b[38;5;241m=\u001b[39m res\u001b[38;5;241m.\u001b[39mcommunicate(\u001b[38;5;28minput\u001b[39m\u001b[38;5;241m=\u001b[39mstdin_data)\n\u001b[0;32m    276\u001b[0m output \u001b[38;5;241m=\u001b[39m output\u001b[38;5;241m.\u001b[39mdecode(\u001b[38;5;124m\"\u001b[39m\u001b[38;5;124mutf-8\u001b[39m\u001b[38;5;124m\"\u001b[39m, \u001b[38;5;124m'\u001b[39m\u001b[38;5;124mignore\u001b[39m\u001b[38;5;124m'\u001b[39m)\n",
      "File \u001b[1;32m~\\miniconda3\\lib\\subprocess.py:951\u001b[0m, in \u001b[0;36mPopen.__init__\u001b[1;34m(self, args, bufsize, executable, stdin, stdout, stderr, preexec_fn, close_fds, shell, cwd, env, universal_newlines, startupinfo, creationflags, restore_signals, start_new_session, pass_fds, user, group, extra_groups, encoding, errors, text, umask)\u001b[0m\n\u001b[0;32m    947\u001b[0m         \u001b[38;5;28;01mif\u001b[39;00m \u001b[38;5;28mself\u001b[39m\u001b[38;5;241m.\u001b[39mtext_mode:\n\u001b[0;32m    948\u001b[0m             \u001b[38;5;28mself\u001b[39m\u001b[38;5;241m.\u001b[39mstderr \u001b[38;5;241m=\u001b[39m io\u001b[38;5;241m.\u001b[39mTextIOWrapper(\u001b[38;5;28mself\u001b[39m\u001b[38;5;241m.\u001b[39mstderr,\n\u001b[0;32m    949\u001b[0m                     encoding\u001b[38;5;241m=\u001b[39mencoding, errors\u001b[38;5;241m=\u001b[39merrors)\n\u001b[1;32m--> 951\u001b[0m     \u001b[38;5;28;43mself\u001b[39;49m\u001b[38;5;241;43m.\u001b[39;49m\u001b[43m_execute_child\u001b[49m\u001b[43m(\u001b[49m\u001b[43margs\u001b[49m\u001b[43m,\u001b[49m\u001b[43m \u001b[49m\u001b[43mexecutable\u001b[49m\u001b[43m,\u001b[49m\u001b[43m \u001b[49m\u001b[43mpreexec_fn\u001b[49m\u001b[43m,\u001b[49m\u001b[43m \u001b[49m\u001b[43mclose_fds\u001b[49m\u001b[43m,\u001b[49m\n\u001b[0;32m    952\u001b[0m \u001b[43m                        \u001b[49m\u001b[43mpass_fds\u001b[49m\u001b[43m,\u001b[49m\u001b[43m \u001b[49m\u001b[43mcwd\u001b[49m\u001b[43m,\u001b[49m\u001b[43m \u001b[49m\u001b[43menv\u001b[49m\u001b[43m,\u001b[49m\n\u001b[0;32m    953\u001b[0m \u001b[43m                        \u001b[49m\u001b[43mstartupinfo\u001b[49m\u001b[43m,\u001b[49m\u001b[43m \u001b[49m\u001b[43mcreationflags\u001b[49m\u001b[43m,\u001b[49m\u001b[43m \u001b[49m\u001b[43mshell\u001b[49m\u001b[43m,\u001b[49m\n\u001b[0;32m    954\u001b[0m \u001b[43m                        \u001b[49m\u001b[43mp2cread\u001b[49m\u001b[43m,\u001b[49m\u001b[43m \u001b[49m\u001b[43mp2cwrite\u001b[49m\u001b[43m,\u001b[49m\n\u001b[0;32m    955\u001b[0m \u001b[43m                        \u001b[49m\u001b[43mc2pread\u001b[49m\u001b[43m,\u001b[49m\u001b[43m \u001b[49m\u001b[43mc2pwrite\u001b[49m\u001b[43m,\u001b[49m\n\u001b[0;32m    956\u001b[0m \u001b[43m                        \u001b[49m\u001b[43merrread\u001b[49m\u001b[43m,\u001b[49m\u001b[43m \u001b[49m\u001b[43merrwrite\u001b[49m\u001b[43m,\u001b[49m\n\u001b[0;32m    957\u001b[0m \u001b[43m                        \u001b[49m\u001b[43mrestore_signals\u001b[49m\u001b[43m,\u001b[49m\n\u001b[0;32m    958\u001b[0m \u001b[43m                        \u001b[49m\u001b[43mgid\u001b[49m\u001b[43m,\u001b[49m\u001b[43m \u001b[49m\u001b[43mgids\u001b[49m\u001b[43m,\u001b[49m\u001b[43m \u001b[49m\u001b[43muid\u001b[49m\u001b[43m,\u001b[49m\u001b[43m \u001b[49m\u001b[43mumask\u001b[49m\u001b[43m,\u001b[49m\n\u001b[0;32m    959\u001b[0m \u001b[43m                        \u001b[49m\u001b[43mstart_new_session\u001b[49m\u001b[43m)\u001b[49m\n\u001b[0;32m    960\u001b[0m \u001b[38;5;28;01mexcept\u001b[39;00m:\n\u001b[0;32m    961\u001b[0m     \u001b[38;5;66;03m# Cleanup if the child failed starting.\u001b[39;00m\n\u001b[0;32m    962\u001b[0m     \u001b[38;5;28;01mfor\u001b[39;00m f \u001b[38;5;129;01min\u001b[39;00m \u001b[38;5;28mfilter\u001b[39m(\u001b[38;5;28;01mNone\u001b[39;00m, (\u001b[38;5;28mself\u001b[39m\u001b[38;5;241m.\u001b[39mstdin, \u001b[38;5;28mself\u001b[39m\u001b[38;5;241m.\u001b[39mstdout, \u001b[38;5;28mself\u001b[39m\u001b[38;5;241m.\u001b[39mstderr)):\n",
      "File \u001b[1;32m~\\miniconda3\\lib\\subprocess.py:1420\u001b[0m, in \u001b[0;36mPopen._execute_child\u001b[1;34m(self, args, executable, preexec_fn, close_fds, pass_fds, cwd, env, startupinfo, creationflags, shell, p2cread, p2cwrite, c2pread, c2pwrite, errread, errwrite, unused_restore_signals, unused_gid, unused_gids, unused_uid, unused_umask, unused_start_new_session)\u001b[0m\n\u001b[0;32m   1418\u001b[0m \u001b[38;5;66;03m# Start the process\u001b[39;00m\n\u001b[0;32m   1419\u001b[0m \u001b[38;5;28;01mtry\u001b[39;00m:\n\u001b[1;32m-> 1420\u001b[0m     hp, ht, pid, tid \u001b[38;5;241m=\u001b[39m \u001b[43m_winapi\u001b[49m\u001b[38;5;241;43m.\u001b[39;49m\u001b[43mCreateProcess\u001b[49m\u001b[43m(\u001b[49m\u001b[43mexecutable\u001b[49m\u001b[43m,\u001b[49m\u001b[43m \u001b[49m\u001b[43margs\u001b[49m\u001b[43m,\u001b[49m\n\u001b[0;32m   1421\u001b[0m \u001b[43m                             \u001b[49m\u001b[38;5;66;43;03m# no special security\u001b[39;49;00m\n\u001b[0;32m   1422\u001b[0m \u001b[43m                             \u001b[49m\u001b[38;5;28;43;01mNone\u001b[39;49;00m\u001b[43m,\u001b[49m\u001b[43m \u001b[49m\u001b[38;5;28;43;01mNone\u001b[39;49;00m\u001b[43m,\u001b[49m\n\u001b[0;32m   1423\u001b[0m \u001b[43m                             \u001b[49m\u001b[38;5;28;43mint\u001b[39;49m\u001b[43m(\u001b[49m\u001b[38;5;129;43;01mnot\u001b[39;49;00m\u001b[43m \u001b[49m\u001b[43mclose_fds\u001b[49m\u001b[43m)\u001b[49m\u001b[43m,\u001b[49m\n\u001b[0;32m   1424\u001b[0m \u001b[43m                             \u001b[49m\u001b[43mcreationflags\u001b[49m\u001b[43m,\u001b[49m\n\u001b[0;32m   1425\u001b[0m \u001b[43m                             \u001b[49m\u001b[43menv\u001b[49m\u001b[43m,\u001b[49m\n\u001b[0;32m   1426\u001b[0m \u001b[43m                             \u001b[49m\u001b[43mcwd\u001b[49m\u001b[43m,\u001b[49m\n\u001b[0;32m   1427\u001b[0m \u001b[43m                             \u001b[49m\u001b[43mstartupinfo\u001b[49m\u001b[43m)\u001b[49m\n\u001b[0;32m   1428\u001b[0m \u001b[38;5;28;01mfinally\u001b[39;00m:\n\u001b[0;32m   1429\u001b[0m     \u001b[38;5;66;03m# Child is launched. Close the parent's copy of those pipe\u001b[39;00m\n\u001b[0;32m   1430\u001b[0m     \u001b[38;5;66;03m# handles that only the child should have open.  You need\u001b[39;00m\n\u001b[1;32m   (...)\u001b[0m\n\u001b[0;32m   1433\u001b[0m     \u001b[38;5;66;03m# pipe will not close when the child process exits and the\u001b[39;00m\n\u001b[0;32m   1434\u001b[0m     \u001b[38;5;66;03m# ReadFile will hang.\u001b[39;00m\n\u001b[0;32m   1435\u001b[0m     \u001b[38;5;28mself\u001b[39m\u001b[38;5;241m.\u001b[39m_close_pipe_fds(p2cread, p2cwrite,\n\u001b[0;32m   1436\u001b[0m                          c2pread, c2pwrite,\n\u001b[0;32m   1437\u001b[0m                          errread, errwrite)\n",
      "\u001b[1;31mFileNotFoundError\u001b[0m: [WinError 2] The system cannot find the file specified"
     ]
    }
   ],
   "source": [
    "from gtts import gTTS\n",
    "from pydub import AudioSegment\n",
    "import numpy as np\n",
    "\n",
    "# Function to modify pitch (frequency) of the audio\n",
    "def change_pitch(sound, semitone_steps):\n",
    "    sample = np.array(sound.get_array_of_samples())\n",
    "    sample = np.roll(sample, semitone_steps)\n",
    "    new_sound = sound._spawn(sample)\n",
    "    return new_sound.set_frame_rate(sound.frame_rate)\n",
    "\n",
    "text = \"Hello, this is a test for text-to-singing!  yes yes this is god god god hg\"\n",
    "\n",
    "# Create a gTTS object\n",
    "tts = gTTS(text, lang='en')\n",
    "\n",
    "# Save the generated audio file\n",
    "tts.save(\"marathi_audio4.mp3\")\n",
    "\n",
    "# Load the generated audio using pydub\n",
    "audio = AudioSegment.from_mp3(\"marathi_audio4.mp3\")\n",
    "\n",
    "# Change pitch to simulate singing (modify semitone_steps as needed)\n",
    "semitone_steps = 3  # Change this value to modify the pitch\n",
    "singing_audio = change_pitch(audio, semitone_steps)\n",
    "\n",
    "# Export the modified audio\n",
    "singing_audio.export(\"singing_output.mp3\", format=\"mp3\")\n",
    "\n",
    "# Play the modified audio file\n",
    "singing_audio.export(\"singing_output.mp3\", format=\"mp3\")\n"
   ]
  },
  {
   "cell_type": "code",
   "execution_count": null,
   "id": "2db1b68b",
   "metadata": {},
   "outputs": [],
   "source": []
  }
 ],
 "metadata": {
  "kernelspec": {
   "display_name": "Python 3 (ipykernel)",
   "language": "python",
   "name": "python3"
  },
  "language_info": {
   "codemirror_mode": {
    "name": "ipython",
    "version": 3
   },
   "file_extension": ".py",
   "mimetype": "text/x-python",
   "name": "python",
   "nbconvert_exporter": "python",
   "pygments_lexer": "ipython3",
   "version": "3.9.12"
  }
 },
 "nbformat": 4,
 "nbformat_minor": 5
}
