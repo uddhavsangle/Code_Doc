{
 "cells": [
  {
   "cell_type": "code",
   "execution_count": 1,
   "id": "c96aaa25",
   "metadata": {},
   "outputs": [],
   "source": [
    "import numpy as np"
   ]
  },
  {
   "cell_type": "code",
   "execution_count": 2,
   "id": "2ca350e0",
   "metadata": {},
   "outputs": [
    {
     "data": {
      "text/plain": [
       "'1.23.5'"
      ]
     },
     "execution_count": 2,
     "metadata": {},
     "output_type": "execute_result"
    }
   ],
   "source": [
    "np.__version__    # check version of numpy"
   ]
  },
  {
   "cell_type": "code",
   "execution_count": 12,
   "id": "6011b240",
   "metadata": {},
   "outputs": [],
   "source": [
    "test = np.array(['dfgdfg',45,75,234,75,2,47,5,734,654])   #  "
   ]
  },
  {
   "cell_type": "code",
   "execution_count": 13,
   "id": "2cff7cf5",
   "metadata": {},
   "outputs": [
    {
     "data": {
      "text/plain": [
       "array(['dfgdfg', '45', '75', '234', '75', '2', '47', '5', '734', '654'],\n",
       "      dtype='<U11')"
      ]
     },
     "execution_count": 13,
     "metadata": {},
     "output_type": "execute_result"
    }
   ],
   "source": [
    "test"
   ]
  },
  {
   "cell_type": "code",
   "execution_count": 14,
   "id": "7f6135b7",
   "metadata": {},
   "outputs": [
    {
     "name": "stdout",
     "output_type": "stream",
     "text": [
      "dfgdfg\n",
      "45\n",
      "75\n",
      "234\n",
      "75\n",
      "2\n",
      "47\n",
      "5\n",
      "734\n",
      "654\n"
     ]
    }
   ],
   "source": [
    "for i in test:\n",
    "    print(i)"
   ]
  },
  {
   "cell_type": "code",
   "execution_count": 15,
   "id": "ba15a0e7",
   "metadata": {},
   "outputs": [
    {
     "name": "stdout",
     "output_type": "stream",
     "text": [
      "<class 'numpy.str_'>\n",
      "<class 'numpy.str_'>\n",
      "<class 'numpy.str_'>\n",
      "<class 'numpy.str_'>\n",
      "<class 'numpy.str_'>\n",
      "<class 'numpy.str_'>\n",
      "<class 'numpy.str_'>\n",
      "<class 'numpy.str_'>\n",
      "<class 'numpy.str_'>\n",
      "<class 'numpy.str_'>\n"
     ]
    }
   ],
   "source": [
    "for i in test:\n",
    "    print(type(i))"
   ]
  },
  {
   "cell_type": "code",
   "execution_count": 16,
   "id": "857229cc",
   "metadata": {},
   "outputs": [
    {
     "data": {
      "text/plain": [
       "1"
      ]
     },
     "execution_count": 16,
     "metadata": {},
     "output_type": "execute_result"
    }
   ],
   "source": [
    "test.ndim    # type of dimensions(1D,2D,3D)"
   ]
  },
  {
   "cell_type": "code",
   "execution_count": 17,
   "id": "a1f18244",
   "metadata": {},
   "outputs": [
    {
     "data": {
      "text/plain": [
       "numpy.ndarray"
      ]
     },
     "execution_count": 17,
     "metadata": {},
     "output_type": "execute_result"
    }
   ],
   "source": [
    "type(test)     # for checking type of test"
   ]
  },
  {
   "cell_type": "code",
   "execution_count": 19,
   "id": "8f844937",
   "metadata": {},
   "outputs": [],
   "source": [
    "b = np.array((3,6,3,74)) # we can pass array in tuple also"
   ]
  },
  {
   "cell_type": "code",
   "execution_count": 20,
   "id": "03e9c724",
   "metadata": {},
   "outputs": [
    {
     "data": {
      "text/plain": [
       "array([ 3,  6,  3, 74])"
      ]
     },
     "execution_count": 20,
     "metadata": {},
     "output_type": "execute_result"
    }
   ],
   "source": [
    "b"
   ]
  },
  {
   "cell_type": "code",
   "execution_count": 21,
   "id": "6ee76c2b",
   "metadata": {},
   "outputs": [
    {
     "data": {
      "text/plain": [
       "numpy.ndarray"
      ]
     },
     "execution_count": 21,
     "metadata": {},
     "output_type": "execute_result"
    }
   ],
   "source": [
    "type(b)"
   ]
  },
  {
   "cell_type": "code",
   "execution_count": 25,
   "id": "cade194d",
   "metadata": {},
   "outputs": [],
   "source": [
    "a = np.array([56,34,86,345,86],dtype = 'int64') # we can provide datatype by\n",
    "#dtype='int64' "
   ]
  },
  {
   "cell_type": "code",
   "execution_count": 26,
   "id": "31901bdd",
   "metadata": {},
   "outputs": [
    {
     "data": {
      "text/plain": [
       "array([ 56,  34,  86, 345,  86], dtype=int64)"
      ]
     },
     "execution_count": 26,
     "metadata": {},
     "output_type": "execute_result"
    }
   ],
   "source": [
    "a"
   ]
  },
  {
   "cell_type": "code",
   "execution_count": 27,
   "id": "b586a4f9",
   "metadata": {},
   "outputs": [],
   "source": [
    "a = np.array([56,34,86,345,86],dtype = 'complex') # we can provide datatype by\n",
    "#dtype='complex' "
   ]
  },
  {
   "cell_type": "code",
   "execution_count": 29,
   "id": "0d997ed1",
   "metadata": {},
   "outputs": [
    {
     "data": {
      "text/plain": [
       "array([ 56.+0.j,  34.+0.j,  86.+0.j, 345.+0.j,  86.+0.j])"
      ]
     },
     "execution_count": 29,
     "metadata": {},
     "output_type": "execute_result"
    }
   ],
   "source": [
    "a"
   ]
  },
  {
   "cell_type": "code",
   "execution_count": 30,
   "id": "0f1a1dbf",
   "metadata": {},
   "outputs": [],
   "source": [
    "import numpy as np"
   ]
  },
  {
   "cell_type": "code",
   "execution_count": 42,
   "id": "aa71b4e3",
   "metadata": {},
   "outputs": [],
   "source": [
    "a = np.array([56,34,86,345,86],dtype = 'int')"
   ]
  },
  {
   "cell_type": "code",
   "execution_count": 43,
   "id": "563a1de7",
   "metadata": {},
   "outputs": [],
   "source": [
    "a = np.array([56,34,86,345])"
   ]
  },
  {
   "cell_type": "code",
   "execution_count": 44,
   "id": "61589699",
   "metadata": {},
   "outputs": [
    {
     "name": "stdout",
     "output_type": "stream",
     "text": [
      "int32\n",
      "int32\n",
      "int32\n",
      "int32\n"
     ]
    }
   ],
   "source": [
    "for i in a:\n",
    "    print(i.dtype)"
   ]
  },
  {
   "cell_type": "code",
   "execution_count": 45,
   "id": "c66f49c4",
   "metadata": {},
   "outputs": [
    {
     "data": {
      "text/plain": [
       "[56, 34, 86, 345]"
      ]
     },
     "execution_count": 45,
     "metadata": {},
     "output_type": "execute_result"
    }
   ],
   "source": [
    "list(a)"
   ]
  },
  {
   "cell_type": "code",
   "execution_count": 46,
   "id": "5610b178",
   "metadata": {},
   "outputs": [
    {
     "data": {
      "text/plain": [
       "array([ 56,  34,  86, 345])"
      ]
     },
     "execution_count": 46,
     "metadata": {},
     "output_type": "execute_result"
    }
   ],
   "source": [
    "a"
   ]
  },
  {
   "cell_type": "code",
   "execution_count": 47,
   "id": "ad768caf",
   "metadata": {},
   "outputs": [],
   "source": [
    "b=[4,66,77,77,99]      "
   ]
  },
  {
   "cell_type": "code",
   "execution_count": 48,
   "id": "f7d1ef2c",
   "metadata": {},
   "outputs": [
    {
     "data": {
      "text/plain": [
       "list"
      ]
     },
     "execution_count": 48,
     "metadata": {},
     "output_type": "execute_result"
    }
   ],
   "source": [
    "type(b)"
   ]
  },
  {
   "cell_type": "code",
   "execution_count": null,
   "id": "08c0e955",
   "metadata": {},
   "outputs": [],
   "source": []
  },
  {
   "cell_type": "code",
   "execution_count": 49,
   "id": "c1f85acb",
   "metadata": {},
   "outputs": [
    {
     "data": {
      "text/plain": [
       "[4, 66, 77, 77, 99, 4, 66, 77, 77, 99]"
      ]
     },
     "execution_count": 49,
     "metadata": {},
     "output_type": "execute_result"
    }
   ],
   "source": [
    " b*2"
   ]
  },
  {
   "cell_type": "code",
   "execution_count": 50,
   "id": "7e96a6c1",
   "metadata": {},
   "outputs": [
    {
     "data": {
      "text/plain": [
       "array([112,  68, 172, 690])"
      ]
     },
     "execution_count": 50,
     "metadata": {},
     "output_type": "execute_result"
    }
   ],
   "source": [
    "a*2       # we can apply operation directly"
   ]
  },
  {
   "cell_type": "code",
   "execution_count": null,
   "id": "ac6ab456",
   "metadata": {},
   "outputs": [],
   "source": []
  },
  {
   "cell_type": "code",
   "execution_count": 51,
   "id": "36cd54c8",
   "metadata": {},
   "outputs": [
    {
     "data": {
      "text/plain": [
       "array([ 28. ,  17. ,  43. , 172.5])"
      ]
     },
     "execution_count": 51,
     "metadata": {},
     "output_type": "execute_result"
    }
   ],
   "source": [
    "a/2"
   ]
  },
  {
   "cell_type": "code",
   "execution_count": 52,
   "id": "6f42625c",
   "metadata": {},
   "outputs": [
    {
     "data": {
      "text/plain": [
       "array([ 61,  39,  91, 350])"
      ]
     },
     "execution_count": 52,
     "metadata": {},
     "output_type": "execute_result"
    }
   ],
   "source": [
    "a+5"
   ]
  },
  {
   "cell_type": "code",
   "execution_count": 53,
   "id": "d073b13e",
   "metadata": {},
   "outputs": [
    {
     "data": {
      "text/plain": [
       "array([ 51,  29,  81, 340])"
      ]
     },
     "execution_count": 53,
     "metadata": {},
     "output_type": "execute_result"
    }
   ],
   "source": [
    "a-5"
   ]
  },
  {
   "cell_type": "code",
   "execution_count": 54,
   "id": "154d5b16",
   "metadata": {},
   "outputs": [
    {
     "data": {
      "text/plain": [
       "array([1, 4, 1, 0], dtype=int32)"
      ]
     },
     "execution_count": 54,
     "metadata": {},
     "output_type": "execute_result"
    }
   ],
   "source": [
    "a%5"
   ]
  },
  {
   "cell_type": "code",
   "execution_count": null,
   "id": "b1c80213",
   "metadata": {},
   "outputs": [],
   "source": []
  },
  {
   "cell_type": "code",
   "execution_count": 55,
   "id": "e77a1f03",
   "metadata": {},
   "outputs": [
    {
     "data": {
      "text/plain": [
       "array([ 56,  34,  86, 345])"
      ]
     },
     "execution_count": 55,
     "metadata": {},
     "output_type": "execute_result"
    }
   ],
   "source": [
    "a"
   ]
  },
  {
   "cell_type": "code",
   "execution_count": 56,
   "id": "70ddefde",
   "metadata": {},
   "outputs": [
    {
     "data": {
      "text/plain": [
       "4"
      ]
     },
     "execution_count": 56,
     "metadata": {},
     "output_type": "execute_result"
    }
   ],
   "source": [
    "a.itemsize    # check size of item"
   ]
  },
  {
   "cell_type": "code",
   "execution_count": 30,
   "id": "667e8a46",
   "metadata": {},
   "outputs": [
    {
     "data": {
      "text/plain": [
       "16"
      ]
     },
     "execution_count": 30,
     "metadata": {},
     "output_type": "execute_result"
    }
   ],
   "source": [
    "a.itemsize*len(a)  # check size of total array"
   ]
  },
  {
   "cell_type": "code",
   "execution_count": 31,
   "id": "c66b2499",
   "metadata": {},
   "outputs": [],
   "source": [
    "######################################"
   ]
  },
  {
   "cell_type": "code",
   "execution_count": 32,
   "id": "d3236fd7",
   "metadata": {},
   "outputs": [],
   "source": [
    "p = [ 56,  34,  86, 345,  86]"
   ]
  },
  {
   "cell_type": "code",
   "execution_count": 33,
   "id": "248bd254",
   "metadata": {},
   "outputs": [],
   "source": [
    "import sys"
   ]
  },
  {
   "cell_type": "code",
   "execution_count": 34,
   "id": "39dbe84a",
   "metadata": {},
   "outputs": [
    {
     "data": {
      "text/plain": [
       "28"
      ]
     },
     "execution_count": 34,
     "metadata": {},
     "output_type": "execute_result"
    }
   ],
   "source": [
    "sys.getsizeof(345) # check size for list"
   ]
  },
  {
   "cell_type": "code",
   "execution_count": 35,
   "id": "05e63dc7",
   "metadata": {},
   "outputs": [
    {
     "data": {
      "text/plain": [
       "140"
      ]
     },
     "execution_count": 35,
     "metadata": {},
     "output_type": "execute_result"
    }
   ],
   "source": [
    "sys.getsizeof(345)*len(p)  # check size for total list   "
   ]
  },
  {
   "cell_type": "code",
   "execution_count": 36,
   "id": "e2379acb",
   "metadata": {},
   "outputs": [],
   "source": [
    "######################################################"
   ]
  },
  {
   "cell_type": "code",
   "execution_count": 37,
   "id": "2749c0fc",
   "metadata": {},
   "outputs": [],
   "source": [
    "## zero dimension #0 dim"
   ]
  },
  {
   "cell_type": "code",
   "execution_count": 57,
   "id": "1a2fc22f",
   "metadata": {},
   "outputs": [],
   "source": [
    "a = np.array(85)"
   ]
  },
  {
   "cell_type": "code",
   "execution_count": 58,
   "id": "ef72eba2",
   "metadata": {},
   "outputs": [
    {
     "data": {
      "text/plain": [
       "array(85)"
      ]
     },
     "execution_count": 58,
     "metadata": {},
     "output_type": "execute_result"
    }
   ],
   "source": [
    "a"
   ]
  },
  {
   "cell_type": "code",
   "execution_count": 40,
   "id": "19461f1c",
   "metadata": {},
   "outputs": [
    {
     "data": {
      "text/plain": [
       "0"
      ]
     },
     "execution_count": 40,
     "metadata": {},
     "output_type": "execute_result"
    }
   ],
   "source": [
    "a.ndim"
   ]
  },
  {
   "cell_type": "code",
   "execution_count": 41,
   "id": "a1baae29",
   "metadata": {},
   "outputs": [],
   "source": [
    "#1D"
   ]
  },
  {
   "cell_type": "code",
   "execution_count": 59,
   "id": "55981db1",
   "metadata": {},
   "outputs": [],
   "source": [
    "a = np.array([45,875,36,5,4,75])"
   ]
  },
  {
   "cell_type": "code",
   "execution_count": 60,
   "id": "262f11bc",
   "metadata": {},
   "outputs": [
    {
     "data": {
      "text/plain": [
       "1"
      ]
     },
     "execution_count": 60,
     "metadata": {},
     "output_type": "execute_result"
    }
   ],
   "source": [
    "a.ndim"
   ]
  },
  {
   "cell_type": "code",
   "execution_count": 61,
   "id": "d32ab71a",
   "metadata": {},
   "outputs": [],
   "source": [
    "### for 2 dimension"
   ]
  },
  {
   "cell_type": "code",
   "execution_count": 73,
   "id": "f98953a6",
   "metadata": {},
   "outputs": [],
   "source": [
    "a = np.array([[ 1,  2],[ 3,  4],[11, 55]])"
   ]
  },
  {
   "cell_type": "code",
   "execution_count": 74,
   "id": "02c66750",
   "metadata": {},
   "outputs": [
    {
     "data": {
      "text/plain": [
       "array([[ 1,  2],\n",
       "       [ 3,  4],\n",
       "       [11, 55]])"
      ]
     },
     "execution_count": 74,
     "metadata": {},
     "output_type": "execute_result"
    }
   ],
   "source": [
    "a"
   ]
  },
  {
   "cell_type": "code",
   "execution_count": 75,
   "id": "a3d6f156",
   "metadata": {},
   "outputs": [
    {
     "data": {
      "text/plain": [
       "2"
      ]
     },
     "execution_count": 75,
     "metadata": {},
     "output_type": "execute_result"
    }
   ],
   "source": [
    "a.ndim"
   ]
  },
  {
   "cell_type": "code",
   "execution_count": 77,
   "id": "6d332ca2",
   "metadata": {},
   "outputs": [],
   "source": [
    "details = np.array([['name','account'],['test','262652'],['sample','494949'],['test2323','sdafsdaf']])"
   ]
  },
  {
   "cell_type": "code",
   "execution_count": 78,
   "id": "c2d93435",
   "metadata": {},
   "outputs": [
    {
     "data": {
      "text/plain": [
       "array([['name', 'account'],\n",
       "       ['test', '262652'],\n",
       "       ['sample', '494949'],\n",
       "       ['test2323', 'sdafsdaf']], dtype='<U8')"
      ]
     },
     "execution_count": 78,
     "metadata": {},
     "output_type": "execute_result"
    }
   ],
   "source": [
    "details"
   ]
  },
  {
   "cell_type": "code",
   "execution_count": 79,
   "id": "eb470450",
   "metadata": {},
   "outputs": [
    {
     "data": {
      "text/plain": [
       "2"
      ]
     },
     "execution_count": 79,
     "metadata": {},
     "output_type": "execute_result"
    }
   ],
   "source": [
    "details.ndim"
   ]
  },
  {
   "cell_type": "code",
   "execution_count": 80,
   "id": "f34959e6",
   "metadata": {},
   "outputs": [],
   "source": [
    "# for 3 dimension"
   ]
  },
  {
   "cell_type": "code",
   "execution_count": 81,
   "id": "b100c974",
   "metadata": {},
   "outputs": [],
   "source": [
    "a1 = np.array([[[1,2,3],[4,5,6]],[[100,200,300],[400,500,600]]])"
   ]
  },
  {
   "cell_type": "code",
   "execution_count": 82,
   "id": "e2dabb4d",
   "metadata": {},
   "outputs": [
    {
     "data": {
      "text/plain": [
       "array([[[  1,   2,   3],\n",
       "        [  4,   5,   6]],\n",
       "\n",
       "       [[100, 200, 300],\n",
       "        [400, 500, 600]]])"
      ]
     },
     "execution_count": 82,
     "metadata": {},
     "output_type": "execute_result"
    }
   ],
   "source": [
    "a1"
   ]
  },
  {
   "cell_type": "code",
   "execution_count": 83,
   "id": "7c3f7d4a",
   "metadata": {},
   "outputs": [
    {
     "data": {
      "text/plain": [
       "3"
      ]
     },
     "execution_count": 83,
     "metadata": {},
     "output_type": "execute_result"
    }
   ],
   "source": [
    "a1.ndim"
   ]
  },
  {
   "cell_type": "code",
   "execution_count": null,
   "id": "d6ad48a5",
   "metadata": {},
   "outputs": [],
   "source": []
  },
  {
   "cell_type": "code",
   "execution_count": 84,
   "id": "1ccb6783",
   "metadata": {},
   "outputs": [],
   "source": [
    "###################################################################"
   ]
  },
  {
   "cell_type": "code",
   "execution_count": 85,
   "id": "091df87a",
   "metadata": {},
   "outputs": [],
   "source": [
    "## Fetch element from 1D,2D or 3D"
   ]
  },
  {
   "cell_type": "code",
   "execution_count": 88,
   "id": "4e75d65a",
   "metadata": {},
   "outputs": [
    {
     "data": {
      "text/plain": [
       "array([[[  1,   2,   3],\n",
       "        [  4,   5,   6]],\n",
       "\n",
       "       [[100, 200, 300],\n",
       "        [400, 500, 600]]])"
      ]
     },
     "execution_count": 88,
     "metadata": {},
     "output_type": "execute_result"
    }
   ],
   "source": [
    "a1"
   ]
  },
  {
   "cell_type": "code",
   "execution_count": 89,
   "id": "9b3b7344",
   "metadata": {},
   "outputs": [
    {
     "data": {
      "text/plain": [
       "6"
      ]
     },
     "execution_count": 89,
     "metadata": {},
     "output_type": "execute_result"
    }
   ],
   "source": [
    "a1[0][1][2]"
   ]
  },
  {
   "cell_type": "code",
   "execution_count": 87,
   "id": "7ebcae12",
   "metadata": {},
   "outputs": [
    {
     "data": {
      "text/plain": [
       "1"
      ]
     },
     "execution_count": 87,
     "metadata": {},
     "output_type": "execute_result"
    }
   ],
   "source": [
    "a1[0][0][0]\n",
    "# |  |   |\n",
    "# L  R   C\n"
   ]
  },
  {
   "cell_type": "code",
   "execution_count": 59,
   "id": "4e920150",
   "metadata": {},
   "outputs": [
    {
     "data": {
      "text/plain": [
       "200"
      ]
     },
     "execution_count": 59,
     "metadata": {},
     "output_type": "execute_result"
    }
   ],
   "source": [
    "a1[1][0][1]"
   ]
  },
  {
   "cell_type": "code",
   "execution_count": 60,
   "id": "cd05db7e",
   "metadata": {},
   "outputs": [
    {
     "data": {
      "text/plain": [
       "600"
      ]
     },
     "execution_count": 60,
     "metadata": {},
     "output_type": "execute_result"
    }
   ],
   "source": [
    "a1[1][1][2]"
   ]
  },
  {
   "cell_type": "code",
   "execution_count": 61,
   "id": "6b5b0899",
   "metadata": {},
   "outputs": [],
   "source": [
    "# check shape of array"
   ]
  },
  {
   "cell_type": "code",
   "execution_count": 62,
   "id": "d6b0b66c",
   "metadata": {},
   "outputs": [
    {
     "data": {
      "text/plain": [
       "(2, 2, 3)"
      ]
     },
     "execution_count": 62,
     "metadata": {},
     "output_type": "execute_result"
    }
   ],
   "source": [
    "a1.shape # (l,r,c)  or (z,r,c)"
   ]
  },
  {
   "cell_type": "code",
   "execution_count": 63,
   "id": "37aae3ee",
   "metadata": {},
   "outputs": [],
   "source": [
    "##############################################################"
   ]
  },
  {
   "cell_type": "code",
   "execution_count": 64,
   "id": "c0e07fff",
   "metadata": {},
   "outputs": [],
   "source": [
    "# How to change shape arrays"
   ]
  },
  {
   "cell_type": "code",
   "execution_count": 92,
   "id": "e4855a2a",
   "metadata": {},
   "outputs": [],
   "source": [
    "a = np.array([1,2,3,4,5,6,7,8])"
   ]
  },
  {
   "cell_type": "code",
   "execution_count": 93,
   "id": "8dba4136",
   "metadata": {},
   "outputs": [
    {
     "data": {
      "text/plain": [
       "array([1, 2, 3, 4, 5, 6, 7, 8])"
      ]
     },
     "execution_count": 93,
     "metadata": {},
     "output_type": "execute_result"
    }
   ],
   "source": [
    "a"
   ]
  },
  {
   "cell_type": "code",
   "execution_count": 94,
   "id": "6fb8d5f8",
   "metadata": {},
   "outputs": [
    {
     "data": {
      "text/plain": [
       "(8,)"
      ]
     },
     "execution_count": 94,
     "metadata": {},
     "output_type": "execute_result"
    }
   ],
   "source": [
    "a.shape"
   ]
  },
  {
   "cell_type": "code",
   "execution_count": 95,
   "id": "e8a4ff4f",
   "metadata": {},
   "outputs": [
    {
     "data": {
      "text/plain": [
       "1"
      ]
     },
     "execution_count": 95,
     "metadata": {},
     "output_type": "execute_result"
    }
   ],
   "source": [
    "a.ndim   # this is 1D format"
   ]
  },
  {
   "cell_type": "code",
   "execution_count": 96,
   "id": "83d73d59",
   "metadata": {},
   "outputs": [
    {
     "data": {
      "text/plain": [
       "(16, 8, 8, 8, 8)"
      ]
     },
     "execution_count": 96,
     "metadata": {},
     "output_type": "execute_result"
    }
   ],
   "source": [
    "8 -- 2*4,4*2,8*1,1*8,2*2*2"
   ]
  },
  {
   "cell_type": "code",
   "execution_count": 97,
   "id": "602a6be9",
   "metadata": {},
   "outputs": [],
   "source": [
    "b=a.reshape(2,2,2) # converted into 2D format"
   ]
  },
  {
   "cell_type": "code",
   "execution_count": 98,
   "id": "c5277d85",
   "metadata": {},
   "outputs": [
    {
     "data": {
      "text/plain": [
       "array([[[1, 2],\n",
       "        [3, 4]],\n",
       "\n",
       "       [[5, 6],\n",
       "        [7, 8]]])"
      ]
     },
     "execution_count": 98,
     "metadata": {},
     "output_type": "execute_result"
    }
   ],
   "source": [
    "b"
   ]
  },
  {
   "cell_type": "code",
   "execution_count": 99,
   "id": "296e3267",
   "metadata": {},
   "outputs": [
    {
     "data": {
      "text/plain": [
       "3"
      ]
     },
     "execution_count": 99,
     "metadata": {},
     "output_type": "execute_result"
    }
   ],
   "source": [
    "b.ndim"
   ]
  },
  {
   "cell_type": "code",
   "execution_count": 100,
   "id": "dbd5d2aa",
   "metadata": {},
   "outputs": [
    {
     "data": {
      "text/plain": [
       "array([1, 2, 3, 4, 5, 6, 7, 8])"
      ]
     },
     "execution_count": 100,
     "metadata": {},
     "output_type": "execute_result"
    }
   ],
   "source": [
    "a"
   ]
  },
  {
   "cell_type": "code",
   "execution_count": 101,
   "id": "60f470fd",
   "metadata": {},
   "outputs": [],
   "source": [
    "c=a.reshape(2,2,2)   # converted into 3D format"
   ]
  },
  {
   "cell_type": "code",
   "execution_count": 102,
   "id": "00a53559",
   "metadata": {},
   "outputs": [
    {
     "data": {
      "text/plain": [
       "array([[[1, 2],\n",
       "        [3, 4]],\n",
       "\n",
       "       [[5, 6],\n",
       "        [7, 8]]])"
      ]
     },
     "execution_count": 102,
     "metadata": {},
     "output_type": "execute_result"
    }
   ],
   "source": [
    "c"
   ]
  },
  {
   "cell_type": "code",
   "execution_count": 103,
   "id": "2d84df4b",
   "metadata": {},
   "outputs": [
    {
     "data": {
      "text/plain": [
       "3"
      ]
     },
     "execution_count": 103,
     "metadata": {},
     "output_type": "execute_result"
    }
   ],
   "source": [
    "c.ndim"
   ]
  },
  {
   "cell_type": "code",
   "execution_count": 104,
   "id": "9a204056",
   "metadata": {},
   "outputs": [],
   "source": [
    "#######################################################################"
   ]
  },
  {
   "cell_type": "code",
   "execution_count": 105,
   "id": "0a632d52",
   "metadata": {},
   "outputs": [],
   "source": [
    "#***********by using zeros we can create 1D,2D 3D format************#"
   ]
  },
  {
   "cell_type": "code",
   "execution_count": null,
   "id": "dab72c90",
   "metadata": {},
   "outputs": [],
   "source": []
  },
  {
   "cell_type": "code",
   "execution_count": 114,
   "id": "2d60b7f6",
   "metadata": {},
   "outputs": [
    {
     "data": {
      "text/plain": [
       "array([0., 0., 0., 0., 0., 0., 0., 0., 0., 0.])"
      ]
     },
     "execution_count": 114,
     "metadata": {},
     "output_type": "execute_result"
    }
   ],
   "source": [
    "np.zeros(10)      #1D"
   ]
  },
  {
   "cell_type": "code",
   "execution_count": 115,
   "id": "fa4ea9de",
   "metadata": {},
   "outputs": [
    {
     "data": {
      "text/plain": [
       "array([[0., 0., 0., 0.],\n",
       "       [0., 0., 0., 0.],\n",
       "       [0., 0., 0., 0.],\n",
       "       [0., 0., 0., 0.]])"
      ]
     },
     "execution_count": 115,
     "metadata": {},
     "output_type": "execute_result"
    }
   ],
   "source": [
    "np.zeros([4,4])      # 2D"
   ]
  },
  {
   "cell_type": "code",
   "execution_count": 116,
   "id": "f09723ad",
   "metadata": {},
   "outputs": [
    {
     "data": {
      "text/plain": [
       "array([[[0., 0., 0.],\n",
       "        [0., 0., 0.]],\n",
       "\n",
       "       [[0., 0., 0.],\n",
       "        [0., 0., 0.]],\n",
       "\n",
       "       [[0., 0., 0.],\n",
       "        [0., 0., 0.]]])"
      ]
     },
     "execution_count": 116,
     "metadata": {},
     "output_type": "execute_result"
    }
   ],
   "source": [
    "np.zeros([3,2,3])    #3D"
   ]
  },
  {
   "cell_type": "code",
   "execution_count": 117,
   "id": "e354d65f",
   "metadata": {},
   "outputs": [],
   "source": [
    "#***********by using Ones we can create 1D,2D 3D format************#"
   ]
  },
  {
   "cell_type": "code",
   "execution_count": 118,
   "id": "3b08b5fc",
   "metadata": {},
   "outputs": [
    {
     "data": {
      "text/plain": [
       "array([1., 1., 1., 1., 1., 1., 1., 1., 1., 1.])"
      ]
     },
     "execution_count": 118,
     "metadata": {},
     "output_type": "execute_result"
    }
   ],
   "source": [
    "np.ones(10)    #1D"
   ]
  },
  {
   "cell_type": "code",
   "execution_count": 119,
   "id": "a29f6ccd",
   "metadata": {},
   "outputs": [
    {
     "data": {
      "text/plain": [
       "array([[1., 1., 1., 1., 1.],\n",
       "       [1., 1., 1., 1., 1.],\n",
       "       [1., 1., 1., 1., 1.],\n",
       "       [1., 1., 1., 1., 1.],\n",
       "       [1., 1., 1., 1., 1.]])"
      ]
     },
     "execution_count": 119,
     "metadata": {},
     "output_type": "execute_result"
    }
   ],
   "source": [
    "np.ones([5,5])    # 2D\n"
   ]
  },
  {
   "cell_type": "code",
   "execution_count": 120,
   "id": "378026ba",
   "metadata": {},
   "outputs": [
    {
     "data": {
      "text/plain": [
       "array([[[1., 1., 1., 1., 1.],\n",
       "        [1., 1., 1., 1., 1.],\n",
       "        [1., 1., 1., 1., 1.],\n",
       "        [1., 1., 1., 1., 1.],\n",
       "        [1., 1., 1., 1., 1.]],\n",
       "\n",
       "       [[1., 1., 1., 1., 1.],\n",
       "        [1., 1., 1., 1., 1.],\n",
       "        [1., 1., 1., 1., 1.],\n",
       "        [1., 1., 1., 1., 1.],\n",
       "        [1., 1., 1., 1., 1.]]])"
      ]
     },
     "execution_count": 120,
     "metadata": {},
     "output_type": "execute_result"
    }
   ],
   "source": [
    "np.ones([2,5,5])   # 3D"
   ]
  },
  {
   "cell_type": "code",
   "execution_count": 122,
   "id": "3ad4ecfc",
   "metadata": {},
   "outputs": [],
   "source": [
    "a1 = np.ones(10,dtype='int')   # we can mention datatype by dtype='datatype_name'"
   ]
  },
  {
   "cell_type": "code",
   "execution_count": 123,
   "id": "53971e51",
   "metadata": {},
   "outputs": [
    {
     "data": {
      "text/plain": [
       "array([1, 1, 1, 1, 1, 1, 1, 1, 1, 1])"
      ]
     },
     "execution_count": 123,
     "metadata": {},
     "output_type": "execute_result"
    }
   ],
   "source": [
    "a1"
   ]
  },
  {
   "cell_type": "code",
   "execution_count": 124,
   "id": "6d2bf131",
   "metadata": {},
   "outputs": [
    {
     "data": {
      "text/plain": [
       "1"
      ]
     },
     "execution_count": 124,
     "metadata": {},
     "output_type": "execute_result"
    }
   ],
   "source": [
    "a1.ndim"
   ]
  },
  {
   "cell_type": "code",
   "execution_count": 125,
   "id": "9f8241ed",
   "metadata": {},
   "outputs": [],
   "source": [
    "##********* multiply two matrix #################"
   ]
  },
  {
   "cell_type": "code",
   "execution_count": 126,
   "id": "a728db9f",
   "metadata": {},
   "outputs": [],
   "source": [
    "a1 = np.array([[100,300],[500,400]])"
   ]
  },
  {
   "cell_type": "code",
   "execution_count": 127,
   "id": "798109a7",
   "metadata": {},
   "outputs": [
    {
     "data": {
      "text/plain": [
       "array([[100, 300],\n",
       "       [500, 400]])"
      ]
     },
     "execution_count": 127,
     "metadata": {},
     "output_type": "execute_result"
    }
   ],
   "source": [
    "a1"
   ]
  },
  {
   "cell_type": "code",
   "execution_count": 128,
   "id": "6749be78",
   "metadata": {},
   "outputs": [],
   "source": [
    "a2 = np.array([[12,45],[67,45]])                       "
   ]
  },
  {
   "cell_type": "code",
   "execution_count": 129,
   "id": "8cb5fc91",
   "metadata": {},
   "outputs": [
    {
     "data": {
      "text/plain": [
       "array([[12, 45],\n",
       "       [67, 45]])"
      ]
     },
     "execution_count": 129,
     "metadata": {},
     "output_type": "execute_result"
    }
   ],
   "source": [
    "a2"
   ]
  },
  {
   "cell_type": "code",
   "execution_count": 130,
   "id": "10348205",
   "metadata": {},
   "outputs": [
    {
     "data": {
      "text/plain": [
       "21300"
      ]
     },
     "execution_count": 130,
     "metadata": {},
     "output_type": "execute_result"
    }
   ],
   "source": [
    "100*12+300*67"
   ]
  },
  {
   "cell_type": "code",
   "execution_count": 131,
   "id": "5ce5059b",
   "metadata": {},
   "outputs": [
    {
     "data": {
      "text/plain": [
       "array([[ 1200, 13500],\n",
       "       [33500, 18000]])"
      ]
     },
     "execution_count": 131,
     "metadata": {},
     "output_type": "execute_result"
    }
   ],
   "source": [
    "np.multiply(a1,a2)   # multification of two matrix"
   ]
  },
  {
   "cell_type": "code",
   "execution_count": 132,
   "id": "c4a43dc9",
   "metadata": {},
   "outputs": [
    {
     "data": {
      "text/plain": [
       "21300"
      ]
     },
     "execution_count": 132,
     "metadata": {},
     "output_type": "execute_result"
    }
   ],
   "source": [
    "100*12+300*67"
   ]
  },
  {
   "cell_type": "code",
   "execution_count": 133,
   "id": "0e8523a4",
   "metadata": {},
   "outputs": [],
   "source": [
    "######################### Dot product#####################"
   ]
  },
  {
   "cell_type": "code",
   "execution_count": 134,
   "id": "5f2b2614",
   "metadata": {},
   "outputs": [
    {
     "data": {
      "text/plain": [
       "array([[21300, 18000],\n",
       "       [32800, 40500]])"
      ]
     },
     "execution_count": 134,
     "metadata": {},
     "output_type": "execute_result"
    }
   ],
   "source": [
    "np.dot(a1,a2)"
   ]
  },
  {
   "cell_type": "code",
   "execution_count": 84,
   "id": "9870a089",
   "metadata": {},
   "outputs": [],
   "source": [
    "########### create range of no. by specific gap ######################"
   ]
  },
  {
   "cell_type": "code",
   "execution_count": 87,
   "id": "e5eed56f",
   "metadata": {},
   "outputs": [
    {
     "data": {
      "text/plain": [
       "array([ 1,  2,  3,  4,  5,  6,  7,  8,  9, 10], dtype=int64)"
      ]
     },
     "execution_count": 87,
     "metadata": {},
     "output_type": "execute_result"
    }
   ],
   "source": [
    "np.arange(1,11,dtype='int64')"
   ]
  },
  {
   "cell_type": "code",
   "execution_count": 116,
   "id": "becd8ac9",
   "metadata": {},
   "outputs": [
    {
     "data": {
      "text/plain": [
       "array([ 1,  4,  7, 10], dtype=int64)"
      ]
     },
     "execution_count": 116,
     "metadata": {},
     "output_type": "execute_result"
    }
   ],
   "source": [
    "np.arange(1,11,3,dtype='int64')"
   ]
  },
  {
   "cell_type": "code",
   "execution_count": null,
   "id": "eab5a44e",
   "metadata": {},
   "outputs": [],
   "source": []
  },
  {
   "cell_type": "code",
   "execution_count": 98,
   "id": "6a399e50",
   "metadata": {},
   "outputs": [],
   "source": [
    "######### for create identity matrix #############"
   ]
  },
  {
   "cell_type": "code",
   "execution_count": 117,
   "id": "18b82d44",
   "metadata": {},
   "outputs": [
    {
     "data": {
      "text/plain": [
       "array([[1, 0, 0, 0, 0],\n",
       "       [0, 1, 0, 0, 0],\n",
       "       [0, 0, 1, 0, 0],\n",
       "       [0, 0, 0, 1, 0],\n",
       "       [0, 0, 0, 0, 1]])"
      ]
     },
     "execution_count": 117,
     "metadata": {},
     "output_type": "execute_result"
    }
   ],
   "source": [
    "np.identity(5,dtype='int')  # if we want to create same order of matrix then we can use eye (no. of rows = no. of columns) "
   ]
  },
  {
   "cell_type": "code",
   "execution_count": 120,
   "id": "c5292c8e",
   "metadata": {},
   "outputs": [
    {
     "data": {
      "text/plain": [
       "array([[1., 0., 0., 0., 0.],\n",
       "       [0., 1., 0., 0., 0.],\n",
       "       [0., 0., 1., 0., 0.],\n",
       "       [0., 0., 0., 1., 0.],\n",
       "       [0., 0., 0., 0., 1.],\n",
       "       [0., 0., 0., 0., 0.],\n",
       "       [0., 0., 0., 0., 0.]])"
      ]
     },
     "execution_count": 120,
     "metadata": {},
     "output_type": "execute_result"
    }
   ],
   "source": [
    "np.eye(7,5)        # if we want to create different order of matrix then we can use eye (no. of rows != no. of columns)"
   ]
  },
  {
   "cell_type": "code",
   "execution_count": 101,
   "id": "0521903a",
   "metadata": {},
   "outputs": [],
   "source": [
    "######### how to concept behind generating OTP or password ###############################"
   ]
  },
  {
   "cell_type": "code",
   "execution_count": 2,
   "id": "84a851c9",
   "metadata": {},
   "outputs": [],
   "source": [
    "import numpy as np"
   ]
  },
  {
   "cell_type": "code",
   "execution_count": 135,
   "id": "f98c0f9c",
   "metadata": {},
   "outputs": [
    {
     "data": {
      "text/plain": [
       "7342"
      ]
     },
     "execution_count": 135,
     "metadata": {},
     "output_type": "execute_result"
    }
   ],
   "source": [
    "np.random.randint(1000,9999)      # it is for 3 digit and upto 500"
   ]
  },
  {
   "cell_type": "code",
   "execution_count": 136,
   "id": "00772f5d",
   "metadata": {},
   "outputs": [
    {
     "data": {
      "text/plain": [
       "912"
      ]
     },
     "execution_count": 136,
     "metadata": {},
     "output_type": "execute_result"
    }
   ],
   "source": [
    "np.random.randint(100,999)    # it is for 4 digit and from 5000 to 6000"
   ]
  },
  {
   "cell_type": "code",
   "execution_count": 143,
   "id": "7a738395",
   "metadata": {},
   "outputs": [
    {
     "data": {
      "text/plain": [
       "array([3.56572144e-01, 3.21245243e-01, 3.32542967e-01, 9.53296717e-01,\n",
       "       3.66719777e-01, 1.02601953e-01, 9.71265794e-04, 9.87681287e-01,\n",
       "       5.09117865e-01, 1.12978563e-01])"
      ]
     },
     "execution_count": 143,
     "metadata": {},
     "output_type": "execute_result"
    }
   ],
   "source": [
    "np.random.rand(10)              # no. of sample as per requirement in range 0 to 1"
   ]
  },
  {
   "cell_type": "code",
   "execution_count": 144,
   "id": "5a867f0b",
   "metadata": {},
   "outputs": [],
   "source": [
    "#Statistics Operation on Numpy"
   ]
  },
  {
   "cell_type": "code",
   "execution_count": 145,
   "id": "7087d55f",
   "metadata": {},
   "outputs": [],
   "source": [
    "#1.mean\n",
    "#2.median\n",
    "#3.mode\n",
    "#4.std\n",
    "#6.var\n"
   ]
  },
  {
   "cell_type": "code",
   "execution_count": 146,
   "id": "a97aec8f",
   "metadata": {},
   "outputs": [],
   "source": [
    "import numpy as np"
   ]
  },
  {
   "cell_type": "code",
   "execution_count": 147,
   "id": "a1b90758",
   "metadata": {},
   "outputs": [],
   "source": [
    "a = np.array([34,9,3,97,3,86,34,76,45])   # 3,3,5,9,34,34,45,76,86,97,"
   ]
  },
  {
   "cell_type": "code",
   "execution_count": 148,
   "id": "51ee99dd",
   "metadata": {},
   "outputs": [
    {
     "data": {
      "text/plain": [
       "43.0"
      ]
     },
     "execution_count": 148,
     "metadata": {},
     "output_type": "execute_result"
    }
   ],
   "source": [
    "a.mean()       # mean: as avg=sum of all element/ no. element"
   ]
  },
  {
   "cell_type": "code",
   "execution_count": 149,
   "id": "4db0dab2",
   "metadata": {},
   "outputs": [
    {
     "data": {
      "text/plain": [
       "34.0"
      ]
     },
     "execution_count": 149,
     "metadata": {},
     "output_type": "execute_result"
    }
   ],
   "source": [
    "np.median(a)   # middle value if no. of element==odd   # but first we need to take in asc"
   ]
  },
  {
   "cell_type": "code",
   "execution_count": 150,
   "id": "7f88d9e3",
   "metadata": {},
   "outputs": [],
   "source": [
    "a1 = np.array([4,9,15,17,19,23])  # avg of middle two value if no. of element==even"
   ]
  },
  {
   "cell_type": "code",
   "execution_count": 151,
   "id": "3691eebf",
   "metadata": {},
   "outputs": [
    {
     "data": {
      "text/plain": [
       "16.0"
      ]
     },
     "execution_count": 151,
     "metadata": {},
     "output_type": "execute_result"
    }
   ],
   "source": [
    "np.median(a1)"
   ]
  },
  {
   "cell_type": "code",
   "execution_count": 153,
   "id": "e8647c18",
   "metadata": {},
   "outputs": [
    {
     "data": {
      "text/plain": [
       "39.916666666666664"
      ]
     },
     "execution_count": 153,
     "metadata": {},
     "output_type": "execute_result"
    }
   ],
   "source": [
    "np.var(a1)           #  variance "
   ]
  },
  {
   "cell_type": "code",
   "execution_count": 154,
   "id": "b2eeefe6",
   "metadata": {},
   "outputs": [
    {
     "name": "stdout",
     "output_type": "stream",
     "text": [
      "^C\n",
      "Note: you may need to restart the kernel to use updated packages.\n"
     ]
    }
   ],
   "source": [
    "pip install numpy"
   ]
  },
  {
   "cell_type": "code",
   "execution_count": 156,
   "id": "c1702afb",
   "metadata": {},
   "outputs": [],
   "source": [
    "import numpy as np"
   ]
  },
  {
   "cell_type": "code",
   "execution_count": 157,
   "id": "10d50fb5",
   "metadata": {},
   "outputs": [
    {
     "name": "stdout",
     "output_type": "stream",
     "text": [
      "^C\n",
      "Note: you may need to restart the kernel to use updated packages.\n"
     ]
    }
   ],
   "source": [
    "pip install scipy"
   ]
  },
  {
   "cell_type": "code",
   "execution_count": 158,
   "id": "8847820f",
   "metadata": {},
   "outputs": [
    {
     "name": "stderr",
     "output_type": "stream",
     "text": [
      "\n",
      "[notice] A new release of pip is available: 23.2.1 -> 23.3.1\n",
      "[notice] To update, run: python.exe -m pip install --upgrade pip\n",
      "\n",
      "[notice] A new release of pip is available: 23.2.1 -> 23.3.1\n",
      "[notice] To update, run: python.exe -m pip install --upgrade pip\n"
     ]
    },
    {
     "name": "stdout",
     "output_type": "stream",
     "text": [
      "Requirement already satisfied: scipy in c:\\users\\admin\\miniconda3\\lib\\site-packages (1.10.1)\n",
      "Requirement already satisfied: numpy<1.27.0,>=1.19.5 in c:\\users\\admin\\miniconda3\\lib\\site-packages (from scipy) (1.23.5)\n",
      "Requirement already satisfied: numpy in c:\\users\\admin\\miniconda3\\lib\\site-packages (1.23.5)\n"
     ]
    },
    {
     "name": "stderr",
     "output_type": "stream",
     "text": [
      "\n",
      "KeyboardInterrupt\n",
      "\n"
     ]
    }
   ],
   "source": [
    "from scipy import stats"
   ]
  },
  {
   "cell_type": "code",
   "execution_count": null,
   "id": "47e11378",
   "metadata": {},
   "outputs": [],
   "source": [
    "a=[6,67787,88,7778,6]    # count of no. which max times present and fetch that no."
   ]
  },
  {
   "cell_type": "code",
   "execution_count": null,
   "id": "ec5ec553",
   "metadata": {},
   "outputs": [],
   "source": [
    "stats.mode(a)"
   ]
  },
  {
   "cell_type": "code",
   "execution_count": 16,
   "id": "3b8272c2",
   "metadata": {},
   "outputs": [],
   "source": [
    "#ceil and floor"
   ]
  },
  {
   "cell_type": "code",
   "execution_count": 18,
   "id": "d30add30",
   "metadata": {},
   "outputs": [],
   "source": [
    "a2 = np.array([4.6,9.7,15.2,17.1,19,23])"
   ]
  },
  {
   "cell_type": "code",
   "execution_count": 19,
   "id": "078c1627",
   "metadata": {},
   "outputs": [
    {
     "data": {
      "text/plain": [
       "array([ 5., 10., 16., 18., 19., 23.])"
      ]
     },
     "execution_count": 19,
     "metadata": {},
     "output_type": "execute_result"
    }
   ],
   "source": [
    "np.ceil(a2)"
   ]
  },
  {
   "cell_type": "code",
   "execution_count": 20,
   "id": "092167bf",
   "metadata": {},
   "outputs": [
    {
     "data": {
      "text/plain": [
       "array([ 4.,  9., 15., 17., 19., 23.])"
      ]
     },
     "execution_count": 20,
     "metadata": {},
     "output_type": "execute_result"
    }
   ],
   "source": [
    "np.floor(a2)"
   ]
  },
  {
   "cell_type": "code",
   "execution_count": 21,
   "id": "53777f98",
   "metadata": {},
   "outputs": [],
   "source": [
    "a3 = np.array([-1.6,-4.6,-6.4,66.3,77.4])"
   ]
  },
  {
   "cell_type": "code",
   "execution_count": 22,
   "id": "cc66bd31",
   "metadata": {},
   "outputs": [
    {
     "data": {
      "text/plain": [
       "array([-1., -4., -6., 67., 78.])"
      ]
     },
     "execution_count": 22,
     "metadata": {},
     "output_type": "execute_result"
    }
   ],
   "source": [
    "np.ceil(a3)    #"
   ]
  },
  {
   "cell_type": "code",
   "execution_count": 23,
   "id": "97d4e542",
   "metadata": {},
   "outputs": [
    {
     "data": {
      "text/plain": [
       "array([-2., -5., -7., 66., 77.])"
      ]
     },
     "execution_count": 23,
     "metadata": {},
     "output_type": "execute_result"
    }
   ],
   "source": [
    "np.floor(a3)   # roundup towards  base"
   ]
  },
  {
   "cell_type": "code",
   "execution_count": null,
   "id": "bed8aea0",
   "metadata": {},
   "outputs": [],
   "source": []
  },
  {
   "cell_type": "code",
   "execution_count": 24,
   "id": "ca16b30b",
   "metadata": {},
   "outputs": [],
   "source": [
    "a=np.array([3,55,77,88,999,77,77,77,55])"
   ]
  },
  {
   "cell_type": "code",
   "execution_count": 25,
   "id": "08e143ad",
   "metadata": {},
   "outputs": [
    {
     "data": {
      "text/plain": [
       "array([  3,  55,  77,  88, 999,  77,  77,  77,  55])"
      ]
     },
     "execution_count": 25,
     "metadata": {},
     "output_type": "execute_result"
    }
   ],
   "source": [
    "a"
   ]
  },
  {
   "cell_type": "code",
   "execution_count": 26,
   "id": "3e0a510b",
   "metadata": {},
   "outputs": [],
   "source": [
    "from scipy import stats"
   ]
  },
  {
   "cell_type": "code",
   "execution_count": 27,
   "id": "61b6bd37",
   "metadata": {},
   "outputs": [
    {
     "name": "stderr",
     "output_type": "stream",
     "text": [
      "C:\\Users\\admin\\AppData\\Local\\Temp\\ipykernel_3268\\2714317682.py:1: FutureWarning: Unlike other reduction functions (e.g. `skew`, `kurtosis`), the default behavior of `mode` typically preserves the axis it acts along. In SciPy 1.11.0, this behavior will change: the default value of `keepdims` will become False, the `axis` over which the statistic is taken will be eliminated, and the value None will no longer be accepted. Set `keepdims` to True or False to avoid this warning.\n",
      "  stats.mode(a)\n"
     ]
    },
    {
     "data": {
      "text/plain": [
       "ModeResult(mode=array([77]), count=array([4]))"
      ]
     },
     "execution_count": 27,
     "metadata": {},
     "output_type": "execute_result"
    }
   ],
   "source": [
    "stats.mode(a)"
   ]
  },
  {
   "cell_type": "code",
   "execution_count": 30,
   "id": "d18bbaca",
   "metadata": {},
   "outputs": [],
   "source": [
    "a='aaccccbbbbbb'"
   ]
  },
  {
   "cell_type": "code",
   "execution_count": 32,
   "id": "4ddbe595",
   "metadata": {},
   "outputs": [
    {
     "name": "stderr",
     "output_type": "stream",
     "text": [
      "C:\\Users\\admin\\AppData\\Local\\Temp\\ipykernel_3268\\2714317682.py:1: FutureWarning: Unlike other reduction functions (e.g. `skew`, `kurtosis`), the default behavior of `mode` typically preserves the axis it acts along. In SciPy 1.11.0, this behavior will change: the default value of `keepdims` will become False, the `axis` over which the statistic is taken will be eliminated, and the value None will no longer be accepted. Set `keepdims` to True or False to avoid this warning.\n",
      "  stats.mode(a)\n",
      "C:\\Users\\admin\\AppData\\Local\\Temp\\ipykernel_3268\\2714317682.py:1: DeprecationWarning: Support for non-numeric arrays has been deprecated as of SciPy 1.9.0 and will be removed in 1.11.0. `pandas.DataFrame.mode` can be used instead, see https://pandas.pydata.org/docs/reference/api/pandas.DataFrame.mode.html.\n",
      "  stats.mode(a)\n"
     ]
    },
    {
     "data": {
      "text/plain": [
       "ModeResult(mode=array(['aaccccbbbbbb'], dtype='<U12'), count=array([1]))"
      ]
     },
     "execution_count": 32,
     "metadata": {},
     "output_type": "execute_result"
    }
   ],
   "source": [
    "stats.mode(a)"
   ]
  },
  {
   "cell_type": "code",
   "execution_count": 39,
   "id": "61f8bb9e",
   "metadata": {},
   "outputs": [],
   "source": [
    "a='aaccccbbbbbbdddddddddddddddddddnnnnnnnnnnnnnn'"
   ]
  },
  {
   "cell_type": "code",
   "execution_count": 40,
   "id": "218f1a46",
   "metadata": {},
   "outputs": [
    {
     "name": "stdout",
     "output_type": "stream",
     "text": [
      "n 14\n"
     ]
    }
   ],
   "source": [
    "b={}\n",
    "for i in a:\n",
    "    if i not in b.keys():\n",
    "        b[i]=a.count(i)\n",
    " \n",
    "c=[]\n",
    "for i,j in b.items():\n",
    "    c.append(j)\n",
    "    \n",
    "h=sorted(c)[-2]\n",
    "for i,j in b.items():\n",
    "    if j==h:\n",
    "        print(i,j)\n"
   ]
  },
  {
   "cell_type": "code",
   "execution_count": 126,
   "id": "7c898fef",
   "metadata": {},
   "outputs": [],
   "source": [
    "n=0\n",
    "for i in a:\n",
    "    if n<a.count(i):\n",
    "        n=a.count(i)\n"
   ]
  },
  {
   "cell_type": "code",
   "execution_count": 1,
   "id": "fc88314b",
   "metadata": {},
   "outputs": [],
   "source": [
    "#################################################################################################3"
   ]
  },
  {
   "cell_type": "code",
   "execution_count": 5,
   "id": "5f55d09a",
   "metadata": {},
   "outputs": [],
   "source": [
    "import numpy as np"
   ]
  },
  {
   "cell_type": "code",
   "execution_count": 25,
   "id": "d984a09e",
   "metadata": {},
   "outputs": [],
   "source": [
    "v=np.array([1,2,3,4,5,67,99], np.int16)"
   ]
  },
  {
   "cell_type": "code",
   "execution_count": 16,
   "id": "f8f6d61d",
   "metadata": {},
   "outputs": [],
   "source": [
    "v=np.array((1,2,3,4,5,67,99), np.int16)"
   ]
  },
  {
   "cell_type": "code",
   "execution_count": 26,
   "id": "4ad46d1e",
   "metadata": {},
   "outputs": [
    {
     "data": {
      "text/plain": [
       "array([ 1,  2,  3,  4,  5, 67, 99], dtype=int16)"
      ]
     },
     "execution_count": 26,
     "metadata": {},
     "output_type": "execute_result"
    }
   ],
   "source": [
    "v"
   ]
  },
  {
   "cell_type": "code",
   "execution_count": 27,
   "id": "6f2ab59f",
   "metadata": {},
   "outputs": [],
   "source": [
    "v[0]=66"
   ]
  },
  {
   "cell_type": "code",
   "execution_count": 28,
   "id": "6e7a8b79",
   "metadata": {},
   "outputs": [
    {
     "data": {
      "text/plain": [
       "array([66,  2,  3,  4,  5, 67, 99], dtype=int16)"
      ]
     },
     "execution_count": 28,
     "metadata": {},
     "output_type": "execute_result"
    }
   ],
   "source": [
    "v"
   ]
  },
  {
   "cell_type": "code",
   "execution_count": 19,
   "id": "d142e8df",
   "metadata": {},
   "outputs": [],
   "source": [
    "v=np.array([[1,2,34,5],[1,2,3,4]])"
   ]
  },
  {
   "cell_type": "code",
   "execution_count": 20,
   "id": "62fde5aa",
   "metadata": {},
   "outputs": [
    {
     "data": {
      "text/plain": [
       "(2, 4)"
      ]
     },
     "execution_count": 20,
     "metadata": {},
     "output_type": "execute_result"
    }
   ],
   "source": [
    "v.shape"
   ]
  },
  {
   "cell_type": "code",
   "execution_count": 21,
   "id": "1705e8cb",
   "metadata": {},
   "outputs": [
    {
     "data": {
      "text/plain": [
       "8"
      ]
     },
     "execution_count": 21,
     "metadata": {},
     "output_type": "execute_result"
    }
   ],
   "source": [
    "v.size"
   ]
  },
  {
   "cell_type": "code",
   "execution_count": null,
   "id": "fb9893fc",
   "metadata": {},
   "outputs": [],
   "source": []
  },
  {
   "cell_type": "code",
   "execution_count": 35,
   "id": "9b8f5867",
   "metadata": {},
   "outputs": [],
   "source": [
    "v=np.array({1,2,3,4,5,67,99})"
   ]
  },
  {
   "cell_type": "code",
   "execution_count": 36,
   "id": "8b23a0c0",
   "metadata": {},
   "outputs": [
    {
     "data": {
      "text/plain": [
       "array({1, 2, 3, 4, 5, 67, 99}, dtype=object)"
      ]
     },
     "execution_count": 36,
     "metadata": {},
     "output_type": "execute_result"
    }
   ],
   "source": [
    "v"
   ]
  },
  {
   "cell_type": "code",
   "execution_count": 38,
   "id": "06e8e6e8",
   "metadata": {},
   "outputs": [
    {
     "data": {
      "text/plain": [
       "array([[0., 0.],\n",
       "       [0., 0.]])"
      ]
     },
     "execution_count": 38,
     "metadata": {},
     "output_type": "execute_result"
    }
   ],
   "source": [
    "np.zeros([2,2])"
   ]
  },
  {
   "cell_type": "code",
   "execution_count": 40,
   "id": "387a062d",
   "metadata": {},
   "outputs": [
    {
     "data": {
      "text/plain": [
       "array([ 0,  1,  2,  3,  4,  5,  6,  7,  8,  9, 10, 11, 12, 13, 14])"
      ]
     },
     "execution_count": 40,
     "metadata": {},
     "output_type": "execute_result"
    }
   ],
   "source": [
    "np.arange(15)"
   ]
  },
  {
   "cell_type": "code",
   "execution_count": 22,
   "id": "caaba376",
   "metadata": {},
   "outputs": [],
   "source": [
    "l=np.linspace(1,50,10)    #  10 random equal differed no. from 1 to 50"
   ]
  },
  {
   "cell_type": "code",
   "execution_count": 23,
   "id": "b0550c59",
   "metadata": {},
   "outputs": [
    {
     "data": {
      "text/plain": [
       "array([ 1.        ,  6.44444444, 11.88888889, 17.33333333, 22.77777778,\n",
       "       28.22222222, 33.66666667, 39.11111111, 44.55555556, 50.        ])"
      ]
     },
     "execution_count": 23,
     "metadata": {},
     "output_type": "execute_result"
    }
   ],
   "source": [
    "l"
   ]
  },
  {
   "cell_type": "code",
   "execution_count": 24,
   "id": "4e1ee695",
   "metadata": {},
   "outputs": [
    {
     "data": {
      "text/plain": [
       "5.444444450000001"
      ]
     },
     "execution_count": 24,
     "metadata": {},
     "output_type": "execute_result"
    }
   ],
   "source": [
    "11.88888889-6.44444444"
   ]
  },
  {
   "cell_type": "code",
   "execution_count": 2,
   "id": "449ea4f3",
   "metadata": {},
   "outputs": [],
   "source": [
    "import numpy as np"
   ]
  },
  {
   "cell_type": "code",
   "execution_count": 4,
   "id": "c2b74221",
   "metadata": {},
   "outputs": [
    {
     "data": {
      "text/plain": [
       "array([[1.07011928e-311, 3.16202013e-322, 0.00000000e+000],\n",
       "       [0.00000000e+000, 1.11260619e-306, 1.28103261e+161],\n",
       "       [7.31814099e-042, 1.03979930e-042, 9.83876553e-072],\n",
       "       [6.82015415e-038, 3.93222850e-061, 1.34679764e+165]])"
      ]
     },
     "execution_count": 4,
     "metadata": {},
     "output_type": "execute_result"
    }
   ],
   "source": [
    "np.empty((4,3))"
   ]
  },
  {
   "cell_type": "code",
   "execution_count": 45,
   "id": "351c978e",
   "metadata": {},
   "outputs": [
    {
     "data": {
      "text/plain": [
       "array([ 1.        ,  6.44444444, 11.88888889, 17.33333333, 22.77777778,\n",
       "       28.22222222, 33.66666667, 39.11111111, 44.55555556, 50.        ])"
      ]
     },
     "execution_count": 45,
     "metadata": {},
     "output_type": "execute_result"
    }
   ],
   "source": [
    "np.empty_like(l)"
   ]
  },
  {
   "cell_type": "code",
   "execution_count": 26,
   "id": "d360958d",
   "metadata": {},
   "outputs": [],
   "source": [
    "g=np.identity(45)"
   ]
  },
  {
   "cell_type": "code",
   "execution_count": 27,
   "id": "4b32d45d",
   "metadata": {},
   "outputs": [
    {
     "data": {
      "text/plain": [
       "(45, 45)"
      ]
     },
     "execution_count": 27,
     "metadata": {},
     "output_type": "execute_result"
    }
   ],
   "source": [
    "g.shape"
   ]
  },
  {
   "cell_type": "code",
   "execution_count": 28,
   "id": "7f66e931",
   "metadata": {},
   "outputs": [],
   "source": [
    "f=np.arange(9)"
   ]
  },
  {
   "cell_type": "code",
   "execution_count": 29,
   "id": "ac7078ca",
   "metadata": {},
   "outputs": [
    {
     "data": {
      "text/plain": [
       "array([0, 1, 2, 3, 4, 5, 6, 7, 8])"
      ]
     },
     "execution_count": 29,
     "metadata": {},
     "output_type": "execute_result"
    }
   ],
   "source": [
    "f"
   ]
  },
  {
   "cell_type": "code",
   "execution_count": 30,
   "id": "61e4730e",
   "metadata": {},
   "outputs": [],
   "source": [
    "p=f.reshape(3,3)"
   ]
  },
  {
   "cell_type": "code",
   "execution_count": 31,
   "id": "1660716d",
   "metadata": {},
   "outputs": [],
   "source": [
    "f=np.arange(99)"
   ]
  },
  {
   "cell_type": "code",
   "execution_count": 32,
   "id": "bdebfe44",
   "metadata": {},
   "outputs": [],
   "source": [
    "g=f.reshape(3,33)"
   ]
  },
  {
   "cell_type": "code",
   "execution_count": 33,
   "id": "1ed1076d",
   "metadata": {},
   "outputs": [
    {
     "data": {
      "text/plain": [
       "array([[ 0,  1,  2,  3,  4,  5,  6,  7,  8,  9, 10, 11, 12, 13, 14, 15,\n",
       "        16, 17, 18, 19, 20, 21, 22, 23, 24, 25, 26, 27, 28, 29, 30, 31,\n",
       "        32],\n",
       "       [33, 34, 35, 36, 37, 38, 39, 40, 41, 42, 43, 44, 45, 46, 47, 48,\n",
       "        49, 50, 51, 52, 53, 54, 55, 56, 57, 58, 59, 60, 61, 62, 63, 64,\n",
       "        65],\n",
       "       [66, 67, 68, 69, 70, 71, 72, 73, 74, 75, 76, 77, 78, 79, 80, 81,\n",
       "        82, 83, 84, 85, 86, 87, 88, 89, 90, 91, 92, 93, 94, 95, 96, 97,\n",
       "        98]])"
      ]
     },
     "execution_count": 33,
     "metadata": {},
     "output_type": "execute_result"
    }
   ],
   "source": [
    "g"
   ]
  },
  {
   "cell_type": "code",
   "execution_count": 34,
   "id": "f859d75b",
   "metadata": {},
   "outputs": [],
   "source": [
    "g=g.ravel()   # convert row and column into series"
   ]
  },
  {
   "cell_type": "code",
   "execution_count": 36,
   "id": "851c9cdc",
   "metadata": {},
   "outputs": [
    {
     "data": {
      "text/plain": [
       "array([ 0,  1,  2,  3,  4,  5,  6,  7,  8,  9, 10, 11, 12, 13, 14, 15, 16,\n",
       "       17, 18, 19, 20, 21, 22, 23, 24, 25, 26, 27, 28, 29, 30, 31, 32, 33,\n",
       "       34, 35, 36, 37, 38, 39, 40, 41, 42, 43, 44, 45, 46, 47, 48, 49, 50,\n",
       "       51, 52, 53, 54, 55, 56, 57, 58, 59, 60, 61, 62, 63, 64, 65, 66, 67,\n",
       "       68, 69, 70, 71, 72, 73, 74, 75, 76, 77, 78, 79, 80, 81, 82, 83, 84,\n",
       "       85, 86, 87, 88, 89, 90, 91, 92, 93, 94, 95, 96, 97, 98])"
      ]
     },
     "execution_count": 36,
     "metadata": {},
     "output_type": "execute_result"
    }
   ],
   "source": [
    "g"
   ]
  },
  {
   "cell_type": "code",
   "execution_count": 35,
   "id": "6af60910",
   "metadata": {},
   "outputs": [
    {
     "data": {
      "text/plain": [
       "(99,)"
      ]
     },
     "execution_count": 35,
     "metadata": {},
     "output_type": "execute_result"
    }
   ],
   "source": [
    "g.shape"
   ]
  },
  {
   "cell_type": "code",
   "execution_count": 74,
   "id": "919d37f2",
   "metadata": {},
   "outputs": [
    {
     "data": {
      "text/plain": [
       "array([[0, 1, 2],\n",
       "       [3, 4, 5],\n",
       "       [6, 7, 8]])"
      ]
     },
     "execution_count": 74,
     "metadata": {},
     "output_type": "execute_result"
    }
   ],
   "source": [
    "p"
   ]
  },
  {
   "cell_type": "code",
   "execution_count": 75,
   "id": "fe9e3f22",
   "metadata": {},
   "outputs": [
    {
     "data": {
      "text/plain": [
       "array([ 9, 12, 15])"
      ]
     },
     "execution_count": 75,
     "metadata": {},
     "output_type": "execute_result"
    }
   ],
   "source": [
    "p.sum(axis=0)    # sum of verical nos."
   ]
  },
  {
   "cell_type": "code",
   "execution_count": 76,
   "id": "af8e5882",
   "metadata": {},
   "outputs": [
    {
     "data": {
      "text/plain": [
       "array([ 3, 12, 21])"
      ]
     },
     "execution_count": 76,
     "metadata": {},
     "output_type": "execute_result"
    }
   ],
   "source": [
    "p.sum(axis=1)"
   ]
  },
  {
   "cell_type": "code",
   "execution_count": 77,
   "id": "3517a571",
   "metadata": {},
   "outputs": [
    {
     "data": {
      "text/plain": [
       "array([[0, 3, 6],\n",
       "       [1, 4, 7],\n",
       "       [2, 5, 8]])"
      ]
     },
     "execution_count": 77,
     "metadata": {},
     "output_type": "execute_result"
    }
   ],
   "source": [
    "p.T"
   ]
  },
  {
   "cell_type": "code",
   "execution_count": 80,
   "id": "d75ec927",
   "metadata": {},
   "outputs": [
    {
     "data": {
      "text/plain": [
       "array([[0, 1, 2],\n",
       "       [3, 4, 5],\n",
       "       [6, 7, 8]])"
      ]
     },
     "execution_count": 80,
     "metadata": {},
     "output_type": "execute_result"
    }
   ],
   "source": [
    "p"
   ]
  },
  {
   "cell_type": "code",
   "execution_count": 78,
   "id": "fedbdb20",
   "metadata": {},
   "outputs": [
    {
     "data": {
      "text/plain": [
       "<numpy.flatiter at 0x25cadccc8a0>"
      ]
     },
     "execution_count": 78,
     "metadata": {},
     "output_type": "execute_result"
    }
   ],
   "source": [
    "p.flat"
   ]
  },
  {
   "cell_type": "code",
   "execution_count": 79,
   "id": "d43e4cc9",
   "metadata": {},
   "outputs": [
    {
     "name": "stdout",
     "output_type": "stream",
     "text": [
      "0\n",
      "1\n",
      "2\n",
      "3\n",
      "4\n",
      "5\n",
      "6\n",
      "7\n",
      "8\n"
     ]
    }
   ],
   "source": [
    "for item in p.flat:\n",
    "    print(item)"
   ]
  },
  {
   "cell_type": "code",
   "execution_count": 81,
   "id": "7ce0ab8f",
   "metadata": {},
   "outputs": [
    {
     "data": {
      "text/plain": [
       "2"
      ]
     },
     "execution_count": 81,
     "metadata": {},
     "output_type": "execute_result"
    }
   ],
   "source": [
    "p.ndim"
   ]
  },
  {
   "cell_type": "code",
   "execution_count": 82,
   "id": "127b2625",
   "metadata": {},
   "outputs": [
    {
     "data": {
      "text/plain": [
       "9"
      ]
     },
     "execution_count": 82,
     "metadata": {},
     "output_type": "execute_result"
    }
   ],
   "source": [
    "p.size"
   ]
  },
  {
   "cell_type": "code",
   "execution_count": 83,
   "id": "90f05917",
   "metadata": {},
   "outputs": [
    {
     "data": {
      "text/plain": [
       "36"
      ]
     },
     "execution_count": 83,
     "metadata": {},
     "output_type": "execute_result"
    }
   ],
   "source": [
    "p.nbytes"
   ]
  },
  {
   "cell_type": "code",
   "execution_count": 54,
   "id": "ec8297a8",
   "metadata": {},
   "outputs": [],
   "source": [
    "c=np.array([11,2,33,99,45,1])"
   ]
  },
  {
   "cell_type": "code",
   "execution_count": 41,
   "id": "7238c406",
   "metadata": {},
   "outputs": [
    {
     "data": {
      "text/plain": [
       "array([11,  2, 33, 99, 45,  1])"
      ]
     },
     "execution_count": 41,
     "metadata": {},
     "output_type": "execute_result"
    }
   ],
   "source": [
    "c"
   ]
  },
  {
   "cell_type": "code",
   "execution_count": 42,
   "id": "5de8b6e6",
   "metadata": {},
   "outputs": [
    {
     "data": {
      "text/plain": [
       "5"
      ]
     },
     "execution_count": 42,
     "metadata": {},
     "output_type": "execute_result"
    }
   ],
   "source": [
    "c.argmin()    # index of min value"
   ]
  },
  {
   "cell_type": "code",
   "execution_count": 43,
   "id": "9bfaf221",
   "metadata": {},
   "outputs": [
    {
     "data": {
      "text/plain": [
       "3"
      ]
     },
     "execution_count": 43,
     "metadata": {},
     "output_type": "execute_result"
    }
   ],
   "source": [
    "c.argmax()    # index of min value"
   ]
  },
  {
   "cell_type": "code",
   "execution_count": 160,
   "id": "a1f002ca",
   "metadata": {},
   "outputs": [
    {
     "data": {
      "text/plain": [
       "array([[[0, 1],\n",
       "        [0, 1]],\n",
       "\n",
       "       [[0, 1],\n",
       "        [0, 1]]], dtype=int64)"
      ]
     },
     "execution_count": 160,
     "metadata": {},
     "output_type": "execute_result"
    }
   ],
   "source": [
    "c.argsort()"
   ]
  },
  {
   "cell_type": "code",
   "execution_count": 161,
   "id": "721abf7b",
   "metadata": {},
   "outputs": [
    {
     "ename": "NameError",
     "evalue": "name 'p' is not defined",
     "output_type": "error",
     "traceback": [
      "\u001b[1;31m---------------------------------------------------------------------------\u001b[0m",
      "\u001b[1;31mNameError\u001b[0m                                 Traceback (most recent call last)",
      "Cell \u001b[1;32mIn [161], line 1\u001b[0m\n\u001b[1;32m----> 1\u001b[0m \u001b[43mp\u001b[49m\n",
      "\u001b[1;31mNameError\u001b[0m: name 'p' is not defined"
     ]
    }
   ],
   "source": [
    "p"
   ]
  },
  {
   "cell_type": "code",
   "execution_count": 46,
   "id": "ff5cfd34",
   "metadata": {},
   "outputs": [
    {
     "data": {
      "text/plain": [
       "array([[0, 1, 2],\n",
       "       [0, 1, 2],\n",
       "       [0, 1, 2]], dtype=int64)"
      ]
     },
     "execution_count": 46,
     "metadata": {},
     "output_type": "execute_result"
    }
   ],
   "source": [
    "p.argsort()"
   ]
  },
  {
   "cell_type": "code",
   "execution_count": 47,
   "id": "46bc74af",
   "metadata": {},
   "outputs": [
    {
     "data": {
      "text/plain": [
       "0"
      ]
     },
     "execution_count": 47,
     "metadata": {},
     "output_type": "execute_result"
    }
   ],
   "source": [
    "p.argmin()"
   ]
  },
  {
   "cell_type": "code",
   "execution_count": 48,
   "id": "85174efe",
   "metadata": {},
   "outputs": [
    {
     "data": {
      "text/plain": [
       "8"
      ]
     },
     "execution_count": 48,
     "metadata": {},
     "output_type": "execute_result"
    }
   ],
   "source": [
    "p.argmax()"
   ]
  },
  {
   "cell_type": "code",
   "execution_count": 49,
   "id": "58277eb1",
   "metadata": {},
   "outputs": [
    {
     "data": {
      "text/plain": [
       "array([2, 2, 2], dtype=int64)"
      ]
     },
     "execution_count": 49,
     "metadata": {},
     "output_type": "execute_result"
    }
   ],
   "source": [
    "p.argmax(axis=1)"
   ]
  },
  {
   "cell_type": "code",
   "execution_count": 50,
   "id": "f0a6e69b",
   "metadata": {},
   "outputs": [
    {
     "data": {
      "text/plain": [
       "array([0, 0, 0], dtype=int64)"
      ]
     },
     "execution_count": 50,
     "metadata": {},
     "output_type": "execute_result"
    }
   ],
   "source": [
    "p.argmin(axis=1)"
   ]
  },
  {
   "cell_type": "code",
   "execution_count": 51,
   "id": "86222014",
   "metadata": {},
   "outputs": [
    {
     "data": {
      "text/plain": [
       "array([[0, 1, 2],\n",
       "       [3, 4, 5],\n",
       "       [6, 7, 8]])"
      ]
     },
     "execution_count": 51,
     "metadata": {},
     "output_type": "execute_result"
    }
   ],
   "source": [
    "p"
   ]
  },
  {
   "cell_type": "code",
   "execution_count": 52,
   "id": "afb7ad30",
   "metadata": {},
   "outputs": [],
   "source": [
    "q=np.array([[0, 1, 2],\n",
    "       [3, 4, 5],\n",
    "       [6, 7, 8]])"
   ]
  },
  {
   "cell_type": "code",
   "execution_count": 53,
   "id": "18df7515",
   "metadata": {},
   "outputs": [
    {
     "data": {
      "text/plain": [
       "array([[ 0,  2,  4],\n",
       "       [ 6,  8, 10],\n",
       "       [12, 14, 16]])"
      ]
     },
     "execution_count": 53,
     "metadata": {},
     "output_type": "execute_result"
    }
   ],
   "source": [
    "p+q"
   ]
  },
  {
   "cell_type": "code",
   "execution_count": 107,
   "id": "6f4ee433",
   "metadata": {},
   "outputs": [
    {
     "data": {
      "text/plain": [
       "array([[ 0,  1,  4],\n",
       "       [ 9, 16, 25],\n",
       "       [36, 49, 64]])"
      ]
     },
     "execution_count": 107,
     "metadata": {},
     "output_type": "execute_result"
    }
   ],
   "source": [
    "p*q                             "
   ]
  },
  {
   "cell_type": "code",
   "execution_count": 108,
   "id": "5cadd27b",
   "metadata": {},
   "outputs": [
    {
     "data": {
      "text/plain": [
       "array([[0.        , 1.        , 1.41421356],\n",
       "       [1.73205081, 2.        , 2.23606798],\n",
       "       [2.44948974, 2.64575131, 2.82842712]])"
      ]
     },
     "execution_count": 108,
     "metadata": {},
     "output_type": "execute_result"
    }
   ],
   "source": [
    "np.sqrt(p)"
   ]
  },
  {
   "cell_type": "code",
   "execution_count": 109,
   "id": "214b1302",
   "metadata": {},
   "outputs": [
    {
     "data": {
      "text/plain": [
       "array([[ 0,  1,  4],\n",
       "       [ 9, 16, 25],\n",
       "       [36, 49, 64]])"
      ]
     },
     "execution_count": 109,
     "metadata": {},
     "output_type": "execute_result"
    }
   ],
   "source": [
    "p**2"
   ]
  },
  {
   "cell_type": "code",
   "execution_count": 110,
   "id": "b4a87a1e",
   "metadata": {},
   "outputs": [
    {
     "data": {
      "text/plain": [
       "8"
      ]
     },
     "execution_count": 110,
     "metadata": {},
     "output_type": "execute_result"
    }
   ],
   "source": [
    "p.max()"
   ]
  },
  {
   "cell_type": "code",
   "execution_count": 111,
   "id": "695868c6",
   "metadata": {},
   "outputs": [
    {
     "data": {
      "text/plain": [
       "36"
      ]
     },
     "execution_count": 111,
     "metadata": {},
     "output_type": "execute_result"
    }
   ],
   "source": [
    "p.sum()"
   ]
  },
  {
   "cell_type": "code",
   "execution_count": 112,
   "id": "95315809",
   "metadata": {},
   "outputs": [
    {
     "data": {
      "text/plain": [
       "0"
      ]
     },
     "execution_count": 112,
     "metadata": {},
     "output_type": "execute_result"
    }
   ],
   "source": [
    "p.min()"
   ]
  },
  {
   "cell_type": "code",
   "execution_count": 113,
   "id": "572e66f3",
   "metadata": {},
   "outputs": [
    {
     "data": {
      "text/plain": [
       "array([[0, 1, 2],\n",
       "       [3, 4, 5],\n",
       "       [6, 7, 8]])"
      ]
     },
     "execution_count": 113,
     "metadata": {},
     "output_type": "execute_result"
    }
   ],
   "source": [
    "p"
   ]
  },
  {
   "cell_type": "code",
   "execution_count": 114,
   "id": "eda03db0",
   "metadata": {},
   "outputs": [
    {
     "data": {
      "text/plain": [
       "(array([2, 2, 2], dtype=int64), array([0, 1, 2], dtype=int64))"
      ]
     },
     "execution_count": 114,
     "metadata": {},
     "output_type": "execute_result"
    }
   ],
   "source": [
    "np.where(p>5)"
   ]
  },
  {
   "cell_type": "code",
   "execution_count": 115,
   "id": "b9667659",
   "metadata": {},
   "outputs": [
    {
     "data": {
      "text/plain": [
       "tuple"
      ]
     },
     "execution_count": 115,
     "metadata": {},
     "output_type": "execute_result"
    }
   ],
   "source": [
    "type(np.where(p>5))"
   ]
  },
  {
   "cell_type": "code",
   "execution_count": 117,
   "id": "4c90a976",
   "metadata": {},
   "outputs": [
    {
     "data": {
      "text/plain": [
       "8"
      ]
     },
     "execution_count": 117,
     "metadata": {},
     "output_type": "execute_result"
    }
   ],
   "source": [
    "np.count_nonzero(p)"
   ]
  },
  {
   "cell_type": "code",
   "execution_count": 118,
   "id": "360d8fbf",
   "metadata": {},
   "outputs": [
    {
     "data": {
      "text/plain": [
       "(array([0, 0, 1, 1, 1, 2, 2, 2], dtype=int64),\n",
       " array([1, 2, 0, 1, 2, 0, 1, 2], dtype=int64))"
      ]
     },
     "execution_count": 118,
     "metadata": {},
     "output_type": "execute_result"
    }
   ],
   "source": [
    "np.nonzero(p)"
   ]
  },
  {
   "cell_type": "code",
   "execution_count": 119,
   "id": "377e9791",
   "metadata": {},
   "outputs": [],
   "source": [
    "import sys                                                                        "
   ]
  },
  {
   "cell_type": "code",
   "execution_count": 120,
   "id": "5186f1c2",
   "metadata": {},
   "outputs": [],
   "source": [
    "ch=[0,4,55,2]"
   ]
  },
  {
   "cell_type": "code",
   "execution_count": 121,
   "id": "b34dac29",
   "metadata": {},
   "outputs": [],
   "source": [
    "num_a=np.array(ch)"
   ]
  },
  {
   "cell_type": "code",
   "execution_count": 122,
   "id": "925e0d07",
   "metadata": {},
   "outputs": [
    {
     "data": {
      "text/plain": [
       "array([ 0,  4, 55,  2])"
      ]
     },
     "execution_count": 122,
     "metadata": {},
     "output_type": "execute_result"
    }
   ],
   "source": [
    "num_a"
   ]
  },
  {
   "cell_type": "code",
   "execution_count": 123,
   "id": "0a692926",
   "metadata": {},
   "outputs": [
    {
     "data": {
      "text/plain": [
       "112"
      ]
     },
     "execution_count": 123,
     "metadata": {},
     "output_type": "execute_result"
    }
   ],
   "source": [
    "sys.getsizeof(1)*len(num_a)"
   ]
  },
  {
   "cell_type": "code",
   "execution_count": 125,
   "id": "71b5e09a",
   "metadata": {},
   "outputs": [
    {
     "data": {
      "text/plain": [
       "16"
      ]
     },
     "execution_count": 125,
     "metadata": {},
     "output_type": "execute_result"
    }
   ],
   "source": [
    "num_a.itemsize * len(num_a)"
   ]
  },
  {
   "cell_type": "code",
   "execution_count": 127,
   "id": "c61e994d",
   "metadata": {},
   "outputs": [
    {
     "data": {
      "text/plain": [
       "[0, 4, 55, 2]"
      ]
     },
     "execution_count": 127,
     "metadata": {},
     "output_type": "execute_result"
    }
   ],
   "source": [
    "num_a.tolist()"
   ]
  },
  {
   "cell_type": "code",
   "execution_count": null,
   "id": "efbd5b14",
   "metadata": {},
   "outputs": [],
   "source": []
  },
  {
   "cell_type": "code",
   "execution_count": null,
   "id": "2284416f",
   "metadata": {},
   "outputs": [],
   "source": []
  },
  {
   "cell_type": "code",
   "execution_count": null,
   "id": "b9e28968",
   "metadata": {},
   "outputs": [],
   "source": []
  },
  {
   "cell_type": "code",
   "execution_count": null,
   "id": "afb306b5",
   "metadata": {},
   "outputs": [],
   "source": []
  },
  {
   "cell_type": "code",
   "execution_count": null,
   "id": "946078e0",
   "metadata": {},
   "outputs": [],
   "source": []
  },
  {
   "cell_type": "code",
   "execution_count": null,
   "id": "aa7576f0",
   "metadata": {},
   "outputs": [],
   "source": []
  }
 ],
 "metadata": {
  "kernelspec": {
   "display_name": "Python 3 (ipykernel)",
   "language": "python",
   "name": "python3"
  },
  "language_info": {
   "codemirror_mode": {
    "name": "ipython",
    "version": 3
   },
   "file_extension": ".py",
   "mimetype": "text/x-python",
   "name": "python",
   "nbconvert_exporter": "python",
   "pygments_lexer": "ipython3",
   "version": "3.9.12"
  }
 },
 "nbformat": 4,
 "nbformat_minor": 5
}
