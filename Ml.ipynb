{
 "cells": [
  {
   "cell_type": "markdown",
   "id": "c448bd31",
   "metadata": {},
   "source": [
    "# machine Learning\n"
   ]
  },
  {
   "cell_type": "markdown",
   "id": "3c6acc91",
   "metadata": {},
   "source": [
    "machine learning is a field of computer science \n",
    "that uses statical techniques to give computer systems the ability to \n",
    "learn with data, without being explicitly programmed."
   ]
  },
  {
   "cell_type": "markdown",
   "id": "f9b1e307",
   "metadata": {},
   "source": [
    "-in machine learning we need to specify features but in dl not required"
   ]
  },
  {
   "cell_type": "markdown",
   "id": "9007018a",
   "metadata": {},
   "source": [
    "In dl, its self extract feature from raw test or row data"
   ]
  },
  {
   "cell_type": "markdown",
   "id": "71bd8bc1",
   "metadata": {},
   "source": [
    "# type of machine learning\n",
    "# 1. supervised\n",
    "# 2. unsupervised\n",
    "# 3. semi supervised\n",
    "# 4. reinforncement"
   ]
  },
  {
   "cell_type": "markdown",
   "id": "91e435f9",
   "metadata": {},
   "source": [
    "1. Supervised Learning ==> a. Refration b. classification"
   ]
  },
  {
   "cell_type": "markdown",
   "id": "3cb3088d",
   "metadata": {},
   "source": [
    "2. unsupervised ==> a. clustering , b. dimensionality reduction c. anomaly detection d. association rule learning"
   ]
  },
  {
   "cell_type": "markdown",
   "id": "dd8cdd5b",
   "metadata": {},
   "source": [
    "# supervised learning"
   ]
  },
  {
   "cell_type": "markdown",
   "id": "c8758ab9",
   "metadata": {},
   "source": [
    "If we have input and  output then we can go through supervised ml"
   ]
  },
  {
   "cell_type": "markdown",
   "id": "aa692c52",
   "metadata": {},
   "source": [
    "## regrassion ==> numerical data"
   ]
  },
  {
   "cell_type": "markdown",
   "id": "b2139283",
   "metadata": {},
   "source": [
    "classification :  output column is classification for example f/m,yes/no"
   ]
  },
  {
   "cell_type": "markdown",
   "id": "546168e1",
   "metadata": {},
   "source": [
    "#############################################################################################################"
   ]
  },
  {
   "cell_type": "markdown",
   "id": "88a47bcc",
   "metadata": {},
   "source": [
    "# Unsupervised learning"
   ]
  },
  {
   "cell_type": "markdown",
   "id": "e8617f50",
   "metadata": {},
   "source": [
    "when we have not output data data then we have option of unsupervised laening"
   ]
  },
  {
   "cell_type": "markdown",
   "id": "e83fb024",
   "metadata": {},
   "source": [
    "## clustoring "
   ]
  },
  {
   "cell_type": "markdown",
   "id": "f1bf1774",
   "metadata": {},
   "source": [
    "- in which create cluster or make categories"
   ]
  },
  {
   "cell_type": "markdown",
   "id": "b04e5a62",
   "metadata": {},
   "source": [
    "## dimenssionality reduction"
   ]
  },
  {
   "cell_type": "markdown",
   "id": "5b6e6d98",
   "metadata": {},
   "source": [
    "-- if  we have lot of featiures but some columns not relavent then DR works here to reduce featues"
   ]
  },
  {
   "cell_type": "markdown",
   "id": "bbcac777",
   "metadata": {},
   "source": [
    "-- we can also create new columns from existing columns it is also called feature extraction "
   ]
  },
  {
   "cell_type": "markdown",
   "id": "3d111748",
   "metadata": {},
   "source": [
    "-- high dimensions to low dimenssion"
   ]
  },
  {
   "cell_type": "markdown",
   "id": "7b2a10ae",
   "metadata": {},
   "source": [
    "## Anomaly Detection"
   ]
  },
  {
   "cell_type": "markdown",
   "id": "80d62e96",
   "metadata": {},
   "source": [
    "-- outliyer detect and remove which is creating defect"
   ]
  },
  {
   "cell_type": "markdown",
   "id": "7fadc0ec",
   "metadata": {},
   "source": [
    "## Association rule learning"
   ]
  },
  {
   "cell_type": "markdown",
   "id": "4ea332d1",
   "metadata": {},
   "source": [
    "-- data mining of existing pattern and conclude \n",
    "for example: before biling we can decide which product we can put togather for increase sale."
   ]
  },
  {
   "cell_type": "markdown",
   "id": "3e946028",
   "metadata": {},
   "source": [
    "# semi supervised --> it is partialy supervised and prtialy unsupervised"
   ]
  },
  {
   "cell_type": "markdown",
   "id": "9995a78c",
   "metadata": {},
   "source": [
    "- we need to labe;l only few  features that algorithm automatical labeled all related feature"
   ]
  },
  {
   "cell_type": "markdown",
   "id": "c04e12f3",
   "metadata": {},
   "source": [
    "# Reinforcement -->  when we havent any predata then we can learn from mistake same happening in this type of learnings"
   ]
  },
  {
   "cell_type": "markdown",
   "id": "a6d6afcf",
   "metadata": {},
   "source": [
    "inwhich happened --> 1. observe 2. select action using policy 3. action 4. get reward or penalty 5.Update policy (learning) \n",
    "\n"
   ]
  },
  {
   "cell_type": "code",
   "execution_count": null,
   "id": "67fc4121",
   "metadata": {},
   "outputs": [],
   "source": []
  },
  {
   "cell_type": "code",
   "execution_count": null,
   "id": "5bad19af",
   "metadata": {},
   "outputs": [],
   "source": []
  },
  {
   "cell_type": "code",
   "execution_count": 6,
   "id": "8f06761e",
   "metadata": {},
   "outputs": [],
   "source": [
    "################################################################################"
   ]
  },
  {
   "cell_type": "markdown",
   "id": "8a4952d1",
   "metadata": {},
   "source": [
    "Overfitting(overlearning) : it learning pefectly\n",
    "    during training and good performance in training but actual for new data it will not perform well\n",
    "    \n",
    "underfitting : not learning properly means we will not get good performance during training or during actual use\n",
    "    "
   ]
  },
  {
   "cell_type": "markdown",
   "id": "37417a89",
   "metadata": {},
   "source": [
    "Software Integration:\n",
    "    - "
   ]
  },
  {
   "cell_type": "code",
   "execution_count": null,
   "id": "c8eb88cc",
   "metadata": {},
   "outputs": [],
   "source": []
  },
  {
   "cell_type": "code",
   "execution_count": null,
   "id": "b128177c",
   "metadata": {},
   "outputs": [],
   "source": []
  },
  {
   "cell_type": "markdown",
   "id": "970b2068",
   "metadata": {},
   "source": [
    "# Application of ML\n"
   ]
  },
  {
   "cell_type": "markdown",
   "id": "ac4cbac2",
   "metadata": {},
   "source": [
    "- ecomerce websites\n",
    "- big bazar\n",
    "- positioning of product\n",
    "- banking and finance\n",
    "- traspotation i.e ola, kuber.\n",
    "- manufacturing - tesla - for automation arms, used sensors for predictive mentain\n",
    "-  consumer internet"
   ]
  },
  {
   "cell_type": "code",
   "execution_count": null,
   "id": "2eab0745",
   "metadata": {},
   "outputs": [],
   "source": []
  },
  {
   "cell_type": "code",
   "execution_count": null,
   "id": "6ad40d20",
   "metadata": {},
   "outputs": [],
   "source": []
  },
  {
   "cell_type": "markdown",
   "id": "cf4a1f1c",
   "metadata": {},
   "source": [
    "# Machine Learning Development life cycle (MLDLC/MLDC)"
   ]
  },
  {
   "cell_type": "code",
   "execution_count": null,
   "id": "6ee5e9ee",
   "metadata": {},
   "outputs": [],
   "source": [
    "1. Frame the problem\n",
    "-- decide exactly problem\n",
    "-- who is customer\n",
    "-- what is cost\n",
    "-- how much man power required\n",
    "-- what is end product\n",
    "-- what type of model i.e supervised or unsupervised\n",
    "-- offline mode/online mode\n",
    "-- data from where\n",
    "\n",
    "2. gathering data\n",
    "--from csv,excell,api,web scraping, from database==> data warehouse ==> ETL , spark in cluster.\n",
    "\n",
    "3. data preprocessing\n",
    "-- noisy data\n",
    "-- remove duplicates\n",
    "--- remove missing value\n",
    "-- remove outliyer\n",
    "-- value scale -- standerdization\n",
    "\n",
    "4. Exploratory data analysis\n",
    "-- this is EDA -- try to study relation between input and output\n",
    "-- by creating visualization --graphs, univariant analysis, bi variant analysis, then some time multi variant analysis\n",
    "-- imbalance to balance\n",
    "-- \n",
    "\n",
    "5. feature engineering and selection\n",
    "-- create new columns by combining columns\n",
    "-- remove irrilavant feature for reduce time\n",
    "\n",
    "6. model Train , Evalution and selection\n",
    "-- hyper parameter tuning\n",
    "-- \n",
    "\n",
    "\n",
    "7. model Deployment\n",
    "-- convert our model into binary files i.e pickle.\n",
    "-- then convert into api \n",
    "--we will get predicted data from api and this is integrated with software\n",
    "\n",
    "8. Testing\n",
    "-- send new feature to trusted customer\n",
    "--it is called a/b testing\n",
    "-- if good feedback then next otherwise comeback and work on mistake in process or try to increase performance\n",
    "\n",
    "9. optimise\n",
    "-- model backup\n",
    "-- data backup\n",
    "-- if any problem then roleback setup etc\n",
    "-- load balancing\n",
    "-- how much frequenty retrain because changes of performance decrease as per time\n",
    "--how to  reduce cost "
   ]
  },
  {
   "cell_type": "code",
   "execution_count": null,
   "id": "9139811b",
   "metadata": {},
   "outputs": [],
   "source": []
  },
  {
   "cell_type": "code",
   "execution_count": null,
   "id": "88cd5696",
   "metadata": {},
   "outputs": [],
   "source": []
  },
  {
   "cell_type": "markdown",
   "id": "4a052d0c",
   "metadata": {},
   "source": [
    "# ========================================================="
   ]
  },
  {
   "cell_type": "code",
   "execution_count": null,
   "id": "e8fff0f7",
   "metadata": {},
   "outputs": [],
   "source": []
  },
  {
   "cell_type": "code",
   "execution_count": null,
   "id": "8ed2cea8",
   "metadata": {},
   "outputs": [],
   "source": []
  },
  {
   "cell_type": "code",
   "execution_count": null,
   "id": "a01b5826",
   "metadata": {},
   "outputs": [],
   "source": []
  },
  {
   "cell_type": "code",
   "execution_count": null,
   "id": "0071f65b",
   "metadata": {},
   "outputs": [],
   "source": []
  }
 ],
 "metadata": {
  "kernelspec": {
   "display_name": "Python 3 (ipykernel)",
   "language": "python",
   "name": "python3"
  },
  "language_info": {
   "codemirror_mode": {
    "name": "ipython",
    "version": 3
   },
   "file_extension": ".py",
   "mimetype": "text/x-python",
   "name": "python",
   "nbconvert_exporter": "python",
   "pygments_lexer": "ipython3",
   "version": "3.9.12"
  }
 },
 "nbformat": 4,
 "nbformat_minor": 5
}
